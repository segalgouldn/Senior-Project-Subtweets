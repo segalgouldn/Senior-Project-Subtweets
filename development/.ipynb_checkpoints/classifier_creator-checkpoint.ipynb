{
 "cells": [
  {
   "cell_type": "markdown",
   "metadata": {},
   "source": [
    "## Using Scikit-Learn and NLTK to build a Naive Bayes Classifier that identifies subtweets"
   ]
  },
  {
   "cell_type": "markdown",
   "metadata": {},
   "source": [
    "### Goals:\n",
    "#### Use Scikit-Learn pipelines to define special features to add to a Naive Bayes Classifier\n",
    "#### Evaluate the accuracy of the classifier\n",
    "#### Maybe do it live, on a Twitter API stream"
   ]
  },
  {
   "cell_type": "markdown",
   "metadata": {},
   "source": [
    "### Methods:\n",
    "#### Use the training set I made before"
   ]
  },
  {
   "cell_type": "markdown",
   "metadata": {},
   "source": [
    "#### Import libraries"
   ]
  },
  {
   "cell_type": "code",
   "execution_count": 1,
   "metadata": {},
   "outputs": [],
   "source": [
    "%matplotlib inline"
   ]
  },
  {
   "cell_type": "code",
   "execution_count": 2,
   "metadata": {},
   "outputs": [],
   "source": [
    "from sklearn.base import TransformerMixin, BaseEstimator\n",
    "from sklearn.feature_extraction import DictVectorizer\n",
    "from sklearn.feature_extraction.text import CountVectorizer, TfidfTransformer\n",
    "from sklearn.naive_bayes import MultinomialNB\n",
    "from sklearn.pipeline import Pipeline, FeatureUnion\n",
    "from sklearn.model_selection import train_test_split\n",
    "from sklearn.metrics import classification_report, confusion_matrix\n",
    "from sklearn.externals import joblib\n",
    "from time import time, sleep\n",
    "from random import choice\n",
    "import matplotlib.pyplot as plt\n",
    "import pandas as pd\n",
    "import numpy as np\n",
    "import itertools\n",
    "import datetime\n",
    "import tweepy\n",
    "import nltk\n",
    "import json\n",
    "import re"
   ]
  },
  {
   "cell_type": "markdown",
   "metadata": {},
   "source": [
    "#### Set max column width for dataframes"
   ]
  },
  {
   "cell_type": "code",
   "execution_count": 3,
   "metadata": {},
   "outputs": [],
   "source": [
    "pd.set_option(\"max_colwidth\", 280)"
   ]
  },
  {
   "cell_type": "markdown",
   "metadata": {},
   "source": [
    "#### Load the CSV"
   ]
  },
  {
   "cell_type": "code",
   "execution_count": 4,
   "metadata": {},
   "outputs": [],
   "source": [
    "df = pd.read_csv(\"../data/data_for_training/final_training_data/Subtweets_Classifier_Training_Data.csv\")"
   ]
  },
  {
   "cell_type": "markdown",
   "metadata": {},
   "source": [
    "#### Create training and test sets from the single training set I made before"
   ]
  },
  {
   "cell_type": "code",
   "execution_count": 5,
   "metadata": {},
   "outputs": [],
   "source": [
    "text_train, text_test, class_train, class_test = train_test_split(df.alleged_subtweet.tolist(), \n",
    "                                                                  df.is_subtweet.tolist())"
   ]
  },
  {
   "cell_type": "markdown",
   "metadata": {},
   "source": [
    "#### Use NLTK's tokenizer instead of Scikit's"
   ]
  },
  {
   "cell_type": "code",
   "execution_count": 6,
   "metadata": {},
   "outputs": [],
   "source": [
    "tokenizer = nltk.casual.TweetTokenizer(preserve_case=False, reduce_len=True)"
   ]
  },
  {
   "cell_type": "markdown",
   "metadata": {},
   "source": [
    "#### Class for distinguishing polarizing parts of speech as features"
   ]
  },
  {
   "cell_type": "code",
   "execution_count": 7,
   "metadata": {
    "code_folding": []
   },
   "outputs": [],
   "source": [
    "class TweetStats(BaseEstimator, TransformerMixin):\n",
    "    def fit(self, x, y=None):\n",
    "        return self\n",
    "\n",
    "    def transform(self, posts):\n",
    "        pronouns = [\"You\", \"You're\", \"Youre\", \"Your\", \"U\", \"Ur\",\n",
    "                    \"She\", \"She's\", \"Her\", \"Hers\", \n",
    "                    \"He\", \"He's\", \"Hes\", \"Him\", \"His\", \n",
    "                    \"They\", \"They're\", \"Theyre\", \"Them\", \"Their\", \"Theirs\"]\n",
    "        prounouns_lower = set([pronoun.lower() for pronoun in pronouns])\n",
    "        \n",
    "        first_person_pronouns = [\"I\", \"I'm\", \"Im\", \"We\", \"We're\", \"Our\", \"My\", \"Us\"]\n",
    "        first_person_pronouns_lower = set([pronoun.lower() for pronoun in first_person_pronouns])\n",
    "        \n",
    "        pattern = \"(?:http|ftp|https)://(?:[\\w_-]+(?:(?:\\.[\\w_-]+)+))(?:[\\w.,@?^=%&:/~+#-]*[\\w@?^=%&/~+#-])?\"\n",
    "        \n",
    "        final_output = []\n",
    "        for text in posts:\n",
    "            tokenized_text = tokenizer.tokenize(text)\n",
    "            \n",
    "            num_pronouns = len(prounouns_lower.intersection(tokenized_text))\n",
    "            num_first_person = len(first_person_pronouns_lower.intersection(tokenized_text))\n",
    "            num_at_symbols = text.count(\"@\")\n",
    "            num_subtweet = text.count(\"subtweet\") + text.count(\"Subtweet\")\n",
    "            num_urls = len(re.findall(pattern, text))\n",
    "            \n",
    "            \n",
    "            weighted_dict = {\"num_subtweet\": bool(num_subtweet),\n",
    "                             \"num_at_symbols\": bool(num_at_symbols), \n",
    "                             \"num_urls\": bool(num_urls),\n",
    "                             \"num_pronouns\": bool(num_pronouns),\n",
    "                             \"num_first_person\": bool(num_first_person)}\n",
    "            final_output.append(weighted_dict)\n",
    "        return final_output"
   ]
  },
  {
   "cell_type": "markdown",
   "metadata": {},
   "source": [
    "#### Build the pipeline"
   ]
  },
  {
   "cell_type": "code",
   "execution_count": 8,
   "metadata": {},
   "outputs": [],
   "source": [
    "sentiment_pipeline = Pipeline([\n",
    "    (\"features\", FeatureUnion([\n",
    "        (\"ngram_tf_idf\", Pipeline([\n",
    "            (\"counts\", CountVectorizer(tokenizer=tokenizer.tokenize)),\n",
    "            (\"tf_idf\", TfidfTransformer())\n",
    "        ])),\n",
    "        (\"stats_vect\", Pipeline([\n",
    "            (\"tweet_stats\", TweetStats()),\n",
    "            (\"vect\", DictVectorizer())\n",
    "        ]))\n",
    "    ])),\n",
    "    (\"classifier\", MultinomialNB())\n",
    "])"
   ]
  },
  {
   "cell_type": "markdown",
   "metadata": {},
   "source": [
    "#### Show the results"
   ]
  },
  {
   "cell_type": "code",
   "execution_count": 9,
   "metadata": {},
   "outputs": [],
   "source": [
    "sentiment_pipeline.fit(text_train, class_train)\n",
    "predictions = sentiment_pipeline.predict(text_test)"
   ]
  },
  {
   "cell_type": "code",
   "execution_count": 10,
   "metadata": {},
   "outputs": [
    {
     "name": "stdout",
     "output_type": "stream",
     "text": [
      "             precision    recall  f1-score   support\n",
      "\n",
      "   negative       0.97      0.86      0.91      1421\n",
      "   positive       0.88      0.98      0.92      1495\n",
      "\n",
      "avg / total       0.92      0.92      0.92      2916\n",
      "\n"
     ]
    }
   ],
   "source": [
    "print(classification_report(class_test, predictions))"
   ]
  },
  {
   "cell_type": "markdown",
   "metadata": {},
   "source": [
    "#### Define function for visualizing confusion matrices"
   ]
  },
  {
   "cell_type": "code",
   "execution_count": 11,
   "metadata": {},
   "outputs": [],
   "source": [
    "def plot_confusion_matrix(cm, classes, normalize=False,\n",
    "                          title='Confusion matrix', cmap=plt.cm.Blues):\n",
    "    if normalize:\n",
    "        cm = cm.astype('float') / cm.sum(axis=1)[:, np.newaxis]\n",
    "\n",
    "    plt.imshow(cm, interpolation='nearest', cmap=cmap)\n",
    "    plt.title(title)\n",
    "    plt.colorbar()\n",
    "    tick_marks = np.arange(len(classes))\n",
    "    plt.xticks(tick_marks, classes, rotation=45)\n",
    "    plt.yticks(tick_marks, classes)\n",
    "\n",
    "    fmt = '.2f' if normalize else 'd'\n",
    "    thresh = cm.max() / 2.\n",
    "    for i, j in itertools.product(range(cm.shape[0]), range(cm.shape[1])):\n",
    "        plt.text(j, i, format(cm[i, j], fmt),\n",
    "                 horizontalalignment=\"center\",\n",
    "                 color=\"white\" if cm[i, j] > thresh else \"black\")\n",
    "\n",
    "    plt.tight_layout()\n",
    "    plt.ylabel('True label')\n",
    "    plt.xlabel('Predicted label')"
   ]
  },
  {
   "cell_type": "markdown",
   "metadata": {},
   "source": [
    "#### Show the matrices"
   ]
  },
  {
   "cell_type": "code",
   "execution_count": 12,
   "metadata": {},
   "outputs": [
    {
     "data": {
      "image/png": "[encoded data removed]",
      "text/plain": [
       "<Figure size 432x288 with 2 Axes>"
      ]
     },
     "metadata": {},
     "output_type": "display_data"
    },
    {
     "data": {
      "image/png": "[encoded data removed]",
      "text/plain": [
       "<Figure size 432x288 with 2 Axes>"
      ]
     },
     "metadata": {},
     "output_type": "display_data"
    }
   ],
   "source": [
    "class_names = [\"negative\", \"positive\"]\n",
    "\n",
    "cnf_matrix = confusion_matrix(class_test, predictions)\n",
    "np.set_printoptions(precision=2)\n",
    "\n",
    "plt.figure()\n",
    "plot_confusion_matrix(cnf_matrix, classes=class_names,\n",
    "                      title='Confusion matrix, without normalization')\n",
    "\n",
    "plt.figure()\n",
    "plot_confusion_matrix(cnf_matrix, classes=class_names, normalize=True,\n",
    "                      title='Normalized confusion matrix')\n",
    "\n",
    "plt.show()"
   ]
  },
  {
   "cell_type": "markdown",
   "metadata": {},
   "source": [
    "#### Save the classifier for another time"
   ]
  },
  {
   "cell_type": "code",
   "execution_count": 13,
   "metadata": {},
   "outputs": [],
   "source": [
    "joblib.dump(sentiment_pipeline, \"../data/other_data/subtweets_classifier.pkl\");"
   ]
  },
  {
   "cell_type": "markdown",
   "metadata": {},
   "source": [
    "#### Print tests for the classifier"
   ]
  },
  {
   "cell_type": "code",
   "execution_count": 14,
   "metadata": {},
   "outputs": [],
   "source": [
    "def tests_dataframe(tweets_dataframe, text_column=\"SentimentText\", sentiment_column=\"Sentiment\"):\n",
    "    predictions = sentiment_pipeline.predict_proba(tweets_dataframe[text_column])\n",
    "    negative_probability = predictions[:, 0].tolist()\n",
    "    positive_probability = predictions[:, 1].tolist()\n",
    "    return pd.DataFrame({\"tweet\": tweets_dataframe[text_column], \n",
    "                         \"sentiment_score\": tweets_dataframe[sentiment_column], \n",
    "                         \"subtweet_negative_probability\": negative_probability, \n",
    "                         \"subtweet_positive_probability\": positive_probability}).sort_values(by=\"subtweet_positive_probability\", \n",
    "                                                                                             ascending=False)"
   ]
  },
  {
   "cell_type": "markdown",
   "metadata": {},
   "source": [
    "#### Make up some tweets"
   ]
  },
  {
   "cell_type": "code",
   "execution_count": 15,
   "metadata": {},
   "outputs": [],
   "source": [
    "test_tweets = [\"Some people don't know their place.\", \n",
    "               \"Isn't it funny how some people don't know their place?\", \n",
    "               \"How come you people act like this?\", \n",
    "               \"You're such a nerd.\",\n",
    "               \"I love Noah, he's so cool.\",\n",
    "               \"Who the heck is Noah?\",\n",
    "               \"This is a @NoahSegalGould subtweet. Go check out https://segal-gould.com.\", \n",
    "               \"This is a subtweet.\", \n",
    "               \"Hey @jack!\", \n",
    "               \"Hey Jack!\",\n",
    "               \"http://www.google.com\"]"
   ]
  },
  {
   "cell_type": "markdown",
   "metadata": {},
   "source": [
    "#### Make a dataframe from the list"
   ]
  },
  {
   "cell_type": "code",
   "execution_count": 16,
   "metadata": {},
   "outputs": [],
   "source": [
    "test_tweets_df = pd.DataFrame({\"Tweet\": test_tweets, \"Sentiment\": [None]*len(test_tweets)})"
   ]
  },
  {
   "cell_type": "markdown",
   "metadata": {},
   "source": [
    "#### Print the tests"
   ]
  },
  {
   "cell_type": "code",
   "execution_count": 17,
   "metadata": {},
   "outputs": [
    {
     "data": {
      "text/html": [
       "<div>\n",
       "<style scoped>\n",
       "    .dataframe tbody tr th:only-of-type {\n",
       "        vertical-align: middle;\n",
       "    }\n",
       "\n",
       "    .dataframe tbody tr th {\n",
       "        vertical-align: top;\n",
       "    }\n",
       "\n",
       "    .dataframe thead th {\n",
       "        text-align: right;\n",
       "    }\n",
       "</style>\n",
       "<table border=\"1\" class=\"dataframe\">\n",
       "  <thead>\n",
       "    <tr style=\"text-align: right;\">\n",
       "      <th></th>\n",
       "      <th>sentiment_score</th>\n",
       "      <th>subtweet_negative_probability</th>\n",
       "      <th>subtweet_positive_probability</th>\n",
       "      <th>tweet</th>\n",
       "    </tr>\n",
       "  </thead>\n",
       "  <tbody>\n",
       "    <tr>\n",
       "      <th>0</th>\n",
       "      <td>None</td>\n",
       "      <td>0.069025</td>\n",
       "      <td>0.930975</td>\n",
       "      <td>Some people don't know their place.</td>\n",
       "    </tr>\n",
       "    <tr>\n",
       "      <th>1</th>\n",
       "      <td>None</td>\n",
       "      <td>0.070807</td>\n",
       "      <td>0.929193</td>\n",
       "      <td>Isn't it funny how some people don't know their place?</td>\n",
       "    </tr>\n",
       "    <tr>\n",
       "      <th>2</th>\n",
       "      <td>None</td>\n",
       "      <td>0.140543</td>\n",
       "      <td>0.859457</td>\n",
       "      <td>How come you people act like this?</td>\n",
       "    </tr>\n",
       "    <tr>\n",
       "      <th>4</th>\n",
       "      <td>None</td>\n",
       "      <td>0.194325</td>\n",
       "      <td>0.805675</td>\n",
       "      <td>I love Noah, he's so cool.</td>\n",
       "    </tr>\n",
       "    <tr>\n",
       "      <th>5</th>\n",
       "      <td>None</td>\n",
       "      <td>0.214083</td>\n",
       "      <td>0.785917</td>\n",
       "      <td>Who the heck is Noah?</td>\n",
       "    </tr>\n",
       "  </tbody>\n",
       "</table>\n",
       "</div>"
      ],
      "text/plain": [
       "  sentiment_score  subtweet_negative_probability  \\\n",
       "0            None                       0.069025   \n",
       "1            None                       0.070807   \n",
       "2            None                       0.140543   \n",
       "4            None                       0.194325   \n",
       "5            None                       0.214083   \n",
       "\n",
       "   subtweet_positive_probability  \\\n",
       "0                       0.930975   \n",
       "1                       0.929193   \n",
       "2                       0.859457   \n",
       "4                       0.805675   \n",
       "5                       0.785917   \n",
       "\n",
       "                                                    tweet  \n",
       "0                     Some people don't know their place.  \n",
       "1  Isn't it funny how some people don't know their place?  \n",
       "2                      How come you people act like this?  \n",
       "4                              I love Noah, he's so cool.  \n",
       "5                                   Who the heck is Noah?  "
      ]
     },
     "execution_count": 17,
     "metadata": {},
     "output_type": "execute_result"
    }
   ],
   "source": [
    "tests_dataframe(test_tweets_df, text_column=\"Tweet\", sentiment_column=\"Sentiment\").head()"
   ]
  },
  {
   "cell_type": "markdown",
   "metadata": {},
   "source": [
    "#### Test on actual tweets"
   ]
  },
  {
   "cell_type": "code",
   "execution_count": 18,
   "metadata": {},
   "outputs": [
    {
     "name": "stderr",
     "output_type": "stream",
     "text": [
      "b'Skipping line 8836: expected 4 fields, saw 5\\n'\n",
      "b'Skipping line 535882: expected 4 fields, saw 7\\n'\n"
     ]
    }
   ],
   "source": [
    "naji_df = pd.read_csv(\"../data/data_for_testing/other_data/naji_data.csv\", error_bad_lines=False)"
   ]
  },
  {
   "cell_type": "markdown",
   "metadata": {},
   "source": [
    "#### Repair some leftover HTML"
   ]
  },
  {
   "cell_type": "code",
   "execution_count": 19,
   "metadata": {},
   "outputs": [],
   "source": [
    "naji_df[\"SentimentText\"] = naji_df[\"SentimentText\"].str.replace(\"&quot;\", \"\\\"\")\n",
    "naji_df[\"SentimentText\"] = naji_df[\"SentimentText\"].str.replace(\"&amp;\", \"&\")\n",
    "naji_df[\"SentimentText\"] = naji_df[\"SentimentText\"].str.replace(\"&gt;\", \">\")\n",
    "naji_df[\"SentimentText\"] = naji_df[\"SentimentText\"].str.replace(\"&lt;\", \"<\")"
   ]
  },
  {
   "cell_type": "markdown",
   "metadata": {},
   "source": [
    "#### Remove rows with non-English"
   ]
  },
  {
   "cell_type": "code",
   "execution_count": 20,
   "metadata": {},
   "outputs": [],
   "source": [
    "def is_english(s):\n",
    "    return all(ord(char) < 128 for char in s)"
   ]
  },
  {
   "cell_type": "code",
   "execution_count": 21,
   "metadata": {},
   "outputs": [],
   "source": [
    "naji_df = naji_df[naji_df[\"SentimentText\"].map(is_english)]"
   ]
  },
  {
   "cell_type": "markdown",
   "metadata": {},
   "source": [
    "#### Show the length of the dataset"
   ]
  },
  {
   "cell_type": "code",
   "execution_count": 22,
   "metadata": {},
   "outputs": [
    {
     "name": "stdout",
     "output_type": "stream",
     "text": [
      "Length of dataset: 1564156\n"
     ]
    }
   ],
   "source": [
    "print(\"Length of dataset: {}\".format(len(naji_df)))"
   ]
  },
  {
   "cell_type": "markdown",
   "metadata": {},
   "source": [
    "#### Use randomly selected 10K rows from dataset"
   ]
  },
  {
   "cell_type": "code",
   "execution_count": 23,
   "metadata": {},
   "outputs": [],
   "source": [
    "naji_df = naji_df.sample(n=10000).reset_index(drop=True)"
   ]
  },
  {
   "cell_type": "markdown",
   "metadata": {},
   "source": [
    "#### Print and time the tests"
   ]
  },
  {
   "cell_type": "code",
   "execution_count": 24,
   "metadata": {
    "scrolled": false
   },
   "outputs": [
    {
     "name": "stdout",
     "output_type": "stream",
     "text": [
      "CPU times: user 2.47 s, sys: 74 ms, total: 2.55 s\n",
      "Wall time: 2.85 s\n"
     ]
    }
   ],
   "source": [
    "%%time\n",
    "naji_df = tests_dataframe(naji_df)"
   ]
  },
  {
   "cell_type": "code",
   "execution_count": 25,
   "metadata": {},
   "outputs": [],
   "source": [
    "naji_df.to_csv(\"../data/data_from_testing/other_data/naji_tests.csv\")"
   ]
  },
  {
   "cell_type": "markdown",
   "metadata": {},
   "source": [
    "#### Plot the results"
   ]
  },
  {
   "cell_type": "code",
   "execution_count": 26,
   "metadata": {},
   "outputs": [],
   "source": [
    "naji_df_columns = [\"sentiment_score\", \"subtweet_negative_probability\", \"tweet\"]"
   ]
  },
  {
   "cell_type": "code",
   "execution_count": 27,
   "metadata": {},
   "outputs": [],
   "source": [
    "naji_df_for_plotting = naji_df.drop(naji_df_columns, axis=1).head(10)"
   ]
  },
  {
   "cell_type": "code",
   "execution_count": 28,
   "metadata": {},
   "outputs": [
    {
     "data": {
      "text/html": [
       "<div>\n",
       "<style scoped>\n",
       "    .dataframe tbody tr th:only-of-type {\n",
       "        vertical-align: middle;\n",
       "    }\n",
       "\n",
       "    .dataframe tbody tr th {\n",
       "        vertical-align: top;\n",
       "    }\n",
       "\n",
       "    .dataframe thead th {\n",
       "        text-align: right;\n",
       "    }\n",
       "</style>\n",
       "<table border=\"1\" class=\"dataframe\">\n",
       "  <thead>\n",
       "    <tr style=\"text-align: right;\">\n",
       "      <th></th>\n",
       "      <th>sentiment_score</th>\n",
       "      <th>subtweet_negative_probability</th>\n",
       "      <th>subtweet_positive_probability</th>\n",
       "      <th>tweet</th>\n",
       "    </tr>\n",
       "  </thead>\n",
       "  <tbody>\n",
       "    <tr>\n",
       "      <th>2695</th>\n",
       "      <td>1</td>\n",
       "      <td>0.016529</td>\n",
       "      <td>0.983471</td>\n",
       "      <td>my opinion is that, they are all very thoughtful for their country but they do not know how to express them selves except for killing.</td>\n",
       "    </tr>\n",
       "    <tr>\n",
       "      <th>3986</th>\n",
       "      <td>1</td>\n",
       "      <td>0.022758</td>\n",
       "      <td>0.977242</td>\n",
       "      <td>god i love kids who think they're top shit, somuch so that they make me want to give them a good smack</td>\n",
       "    </tr>\n",
       "    <tr>\n",
       "      <th>1093</th>\n",
       "      <td>1</td>\n",
       "      <td>0.028029</td>\n",
       "      <td>0.971971</td>\n",
       "      <td>Drawing in general, what I can say is that as anything else don't expect to be perfect when you start, keep trying and remember the 3 P's</td>\n",
       "    </tr>\n",
       "    <tr>\n",
       "      <th>1242</th>\n",
       "      <td>1</td>\n",
       "      <td>0.029056</td>\n",
       "      <td>0.970944</td>\n",
       "      <td>ONE tweet with the wrong hashtags and I'm being followed by some anti-depression twitter account.</td>\n",
       "    </tr>\n",
       "    <tr>\n",
       "      <th>2923</th>\n",
       "      <td>0</td>\n",
       "      <td>0.034610</td>\n",
       "      <td>0.965390</td>\n",
       "      <td>I'm very upset that I have not flown anything. AA doesn't have any flights to offer while \"On-Call\" yet they won't release me either!</td>\n",
       "    </tr>\n",
       "    <tr>\n",
       "      <th>7107</th>\n",
       "      <td>0</td>\n",
       "      <td>0.034859</td>\n",
       "      <td>0.965141</td>\n",
       "      <td>How come when your old and married you can't die with your soulmate together while your are asleep</td>\n",
       "    </tr>\n",
       "    <tr>\n",
       "      <th>5316</th>\n",
       "      <td>1</td>\n",
       "      <td>0.036150</td>\n",
       "      <td>0.963850</td>\n",
       "      <td>is slowly becoming the meanest person she knows. God people aren't nearly as cool as I used to think they were.</td>\n",
       "    </tr>\n",
       "    <tr>\n",
       "      <th>4927</th>\n",
       "      <td>0</td>\n",
       "      <td>0.038590</td>\n",
       "      <td>0.961410</td>\n",
       "      <td>I'm so annoyed i fell asleep during how to lose friends and alienate people, i really wanted to see it</td>\n",
       "    </tr>\n",
       "    <tr>\n",
       "      <th>3905</th>\n",
       "      <td>0</td>\n",
       "      <td>0.039563</td>\n",
       "      <td>0.960437</td>\n",
       "      <td>Nothing as annoying as being blackmailed by ur little sister. Life sucks.</td>\n",
       "    </tr>\n",
       "    <tr>\n",
       "      <th>7411</th>\n",
       "      <td>0</td>\n",
       "      <td>0.040566</td>\n",
       "      <td>0.959434</td>\n",
       "      <td>but they put people on the best team without backhandsprings.   all my friends made the team and i didnt</td>\n",
       "    </tr>\n",
       "  </tbody>\n",
       "</table>\n",
       "</div>"
      ],
      "text/plain": [
       "      sentiment_score  subtweet_negative_probability  \\\n",
       "2695                1                       0.016529   \n",
       "3986                1                       0.022758   \n",
       "1093                1                       0.028029   \n",
       "1242                1                       0.029056   \n",
       "2923                0                       0.034610   \n",
       "7107                0                       0.034859   \n",
       "5316                1                       0.036150   \n",
       "4927                0                       0.038590   \n",
       "3905                0                       0.039563   \n",
       "7411                0                       0.040566   \n",
       "\n",
       "      subtweet_positive_probability  \\\n",
       "2695                       0.983471   \n",
       "3986                       0.977242   \n",
       "1093                       0.971971   \n",
       "1242                       0.970944   \n",
       "2923                       0.965390   \n",
       "7107                       0.965141   \n",
       "5316                       0.963850   \n",
       "4927                       0.961410   \n",
       "3905                       0.960437   \n",
       "7411                       0.959434   \n",
       "\n",
       "                                                                                                                                           tweet  \n",
       "2695   my opinion is that, they are all very thoughtful for their country but they do not know how to express them selves except for killing.     \n",
       "3986                                     god i love kids who think they're top shit, somuch so that they make me want to give them a good smack   \n",
       "1093  Drawing in general, what I can say is that as anything else don't expect to be perfect when you start, keep trying and remember the 3 P's   \n",
       "1242                                          ONE tweet with the wrong hashtags and I'm being followed by some anti-depression twitter account.   \n",
       "2923      I'm very upset that I have not flown anything. AA doesn't have any flights to offer while \"On-Call\" yet they won't release me either!   \n",
       "7107                                         How come when your old and married you can't die with your soulmate together while your are asleep   \n",
       "5316                            is slowly becoming the meanest person she knows. God people aren't nearly as cool as I used to think they were.   \n",
       "4927                                     I'm so annoyed i fell asleep during how to lose friends and alienate people, i really wanted to see it   \n",
       "3905                                                                  Nothing as annoying as being blackmailed by ur little sister. Life sucks.   \n",
       "7411                                   but they put people on the best team without backhandsprings.   all my friends made the team and i didnt   "
      ]
     },
     "execution_count": 28,
     "metadata": {},
     "output_type": "execute_result"
    }
   ],
   "source": [
    "naji_df.head(10)"
   ]
  },
  {
   "cell_type": "code",
   "execution_count": 29,
   "metadata": {},
   "outputs": [
    {
     "data": {
      "image/png": "[encoded data removed]",
      "text/plain": [
       "<Figure size 1152x648 with 1 Axes>"
      ]
     },
     "metadata": {},
     "output_type": "display_data"
    }
   ],
   "source": [
    "ax = naji_df_for_plotting.plot.barh(logx=True, figsize=(16, 9), color=\"maroon\", fontsize=13);\n",
    "ax.set_alpha(0.8)\n",
    "ax.set_title(\"Naji Dataset Randomly Selected Subtweets Test\", fontsize=18)\n",
    "ax.set_ylabel(\"Row Index\", fontsize=18);\n",
    "ax.set_xlabel(\"Subtweet Percentage Probability (logarithmic)\", fontsize=18);\n",
    "for i in ax.patches:\n",
    "    ax.text(i.get_width(), i.get_y() + 0.325, \"{:.3%}\".format(i.get_width()), fontsize=10, color=\"black\")\n",
    "ax.invert_yaxis()"
   ]
  },
  {
   "cell_type": "markdown",
   "metadata": {},
   "source": [
    "#### Tests on friends' tweets"
   ]
  },
  {
   "cell_type": "markdown",
   "metadata": {},
   "source": [
    "#### Aaron"
   ]
  },
  {
   "cell_type": "code",
   "execution_count": 30,
   "metadata": {},
   "outputs": [],
   "source": [
    "aaron_df = pd.read_csv(\"../data/data_for_testing/friends_data/akrapf96_tweets.csv\").dropna()\n",
    "aaron_df[\"Sentiment\"] = None"
   ]
  },
  {
   "cell_type": "code",
   "execution_count": 31,
   "metadata": {
    "scrolled": true
   },
   "outputs": [
    {
     "name": "stdout",
     "output_type": "stream",
     "text": [
      "CPU times: user 734 ms, sys: 11.7 ms, total: 746 ms\n",
      "Wall time: 775 ms\n"
     ]
    }
   ],
   "source": [
    "%%time\n",
    "aaron_df = tests_dataframe(aaron_df, text_column=\"Text\", sentiment_column=\"Sentiment\")"
   ]
  },
  {
   "cell_type": "code",
   "execution_count": 32,
   "metadata": {},
   "outputs": [],
   "source": [
    "aaron_df.to_csv(\"../data/data_from_testing/friends_data/akrapf96_tests.csv\")"
   ]
  },
  {
   "cell_type": "code",
   "execution_count": 33,
   "metadata": {},
   "outputs": [],
   "source": [
    "aaron_df_columns = [\"sentiment_score\", \"subtweet_negative_probability\", \"tweet\"]"
   ]
  },
  {
   "cell_type": "code",
   "execution_count": 34,
   "metadata": {},
   "outputs": [],
   "source": [
    "aaron_df_for_plotting = aaron_df.drop(aaron_df_columns, axis=1).head(10)"
   ]
  },
  {
   "cell_type": "code",
   "execution_count": 35,
   "metadata": {},
   "outputs": [
    {
     "data": {
      "text/html": [
       "<div>\n",
       "<style scoped>\n",
       "    .dataframe tbody tr th:only-of-type {\n",
       "        vertical-align: middle;\n",
       "    }\n",
       "\n",
       "    .dataframe tbody tr th {\n",
       "        vertical-align: top;\n",
       "    }\n",
       "\n",
       "    .dataframe thead th {\n",
       "        text-align: right;\n",
       "    }\n",
       "</style>\n",
       "<table border=\"1\" class=\"dataframe\">\n",
       "  <thead>\n",
       "    <tr style=\"text-align: right;\">\n",
       "      <th></th>\n",
       "      <th>sentiment_score</th>\n",
       "      <th>subtweet_negative_probability</th>\n",
       "      <th>subtweet_positive_probability</th>\n",
       "      <th>tweet</th>\n",
       "    </tr>\n",
       "  </thead>\n",
       "  <tbody>\n",
       "    <tr>\n",
       "      <th>3281</th>\n",
       "      <td>None</td>\n",
       "      <td>0.018519</td>\n",
       "      <td>0.981481</td>\n",
       "      <td>What he doesn't know (unless he stalks my twitter which I know he does) is that I have fake accounts following all his social media</td>\n",
       "    </tr>\n",
       "    <tr>\n",
       "      <th>919</th>\n",
       "      <td>None</td>\n",
       "      <td>0.018983</td>\n",
       "      <td>0.981017</td>\n",
       "      <td>ppl putting out wrong info about what the newest pokemon game was, how many pokemon there are now, etc\\nI would correct them but I don't want to be \"the video game person\"</td>\n",
       "    </tr>\n",
       "    <tr>\n",
       "      <th>3043</th>\n",
       "      <td>None</td>\n",
       "      <td>0.020444</td>\n",
       "      <td>0.979556</td>\n",
       "      <td>when people play shitty music through their microphones</td>\n",
       "    </tr>\n",
       "    <tr>\n",
       "      <th>1600</th>\n",
       "      <td>None</td>\n",
       "      <td>0.020654</td>\n",
       "      <td>0.979346</td>\n",
       "      <td>shoutout to all the people tweeting #BeforeTheInternetExisted saying \"we actually talked to people face to face\" bc u know they're guilty</td>\n",
       "    </tr>\n",
       "    <tr>\n",
       "      <th>3491</th>\n",
       "      <td>None</td>\n",
       "      <td>0.021963</td>\n",
       "      <td>0.978037</td>\n",
       "      <td>2 people have asked me if I know their grandchildren because they were in my high school class.</td>\n",
       "    </tr>\n",
       "    <tr>\n",
       "      <th>1722</th>\n",
       "      <td>None</td>\n",
       "      <td>0.022781</td>\n",
       "      <td>0.977219</td>\n",
       "      <td>PewDiePie posts video \"apologizing\" for his Kill All Jews \"joke\" and it's really about how he makes a ton of money and the media hates him</td>\n",
       "    </tr>\n",
       "    <tr>\n",
       "      <th>2893</th>\n",
       "      <td>None</td>\n",
       "      <td>0.022813</td>\n",
       "      <td>0.977187</td>\n",
       "      <td>I love arguing with conservative bigots who don't understand basic decency. People have their own beliefs, just let them believe.</td>\n",
       "    </tr>\n",
       "    <tr>\n",
       "      <th>3283</th>\n",
       "      <td>None</td>\n",
       "      <td>0.024823</td>\n",
       "      <td>0.975177</td>\n",
       "      <td>It's funny because he blocked our whole family on facebook (you can find him if you log out) and insists he \"doesn't use it\"</td>\n",
       "    </tr>\n",
       "    <tr>\n",
       "      <th>222</th>\n",
       "      <td>None</td>\n",
       "      <td>0.024998</td>\n",
       "      <td>0.975002</td>\n",
       "      <td>\"group up and show each other your images\" has just turned into this girl showing us her facebook photos from 8th grade</td>\n",
       "    </tr>\n",
       "    <tr>\n",
       "      <th>1891</th>\n",
       "      <td>None</td>\n",
       "      <td>0.025033</td>\n",
       "      <td>0.974967</td>\n",
       "      <td>The new year has been marked by a shitty NYE performance and shitty fake champagne \\nI guess you could say 2017 is off to a great start</td>\n",
       "    </tr>\n",
       "  </tbody>\n",
       "</table>\n",
       "</div>"
      ],
      "text/plain": [
       "     sentiment_score  subtweet_negative_probability  \\\n",
       "3281            None                       0.018519   \n",
       "919             None                       0.018983   \n",
       "3043            None                       0.020444   \n",
       "1600            None                       0.020654   \n",
       "3491            None                       0.021963   \n",
       "1722            None                       0.022781   \n",
       "2893            None                       0.022813   \n",
       "3283            None                       0.024823   \n",
       "222             None                       0.024998   \n",
       "1891            None                       0.025033   \n",
       "\n",
       "      subtweet_positive_probability  \\\n",
       "3281                       0.981481   \n",
       "919                        0.981017   \n",
       "3043                       0.979556   \n",
       "1600                       0.979346   \n",
       "3491                       0.978037   \n",
       "1722                       0.977219   \n",
       "2893                       0.977187   \n",
       "3283                       0.975177   \n",
       "222                        0.975002   \n",
       "1891                       0.974967   \n",
       "\n",
       "                                                                                                                                                                            tweet  \n",
       "3281                                         What he doesn't know (unless he stalks my twitter which I know he does) is that I have fake accounts following all his social media   \n",
       "919   ppl putting out wrong info about what the newest pokemon game was, how many pokemon there are now, etc\\nI would correct them but I don't want to be \"the video game person\"  \n",
       "3043                                                                                                                      when people play shitty music through their microphones  \n",
       "1600                                    shoutout to all the people tweeting #BeforeTheInternetExisted saying \"we actually talked to people face to face\" bc u know they're guilty  \n",
       "3491                                                                              2 people have asked me if I know their grandchildren because they were in my high school class.  \n",
       "1722                                   PewDiePie posts video \"apologizing\" for his Kill All Jews \"joke\" and it's really about how he makes a ton of money and the media hates him  \n",
       "2893                                            I love arguing with conservative bigots who don't understand basic decency. People have their own beliefs, just let them believe.  \n",
       "3283                                                 It's funny because he blocked our whole family on facebook (you can find him if you log out) and insists he \"doesn't use it\"  \n",
       "222                                                       \"group up and show each other your images\" has just turned into this girl showing us her facebook photos from 8th grade  \n",
       "1891                                      The new year has been marked by a shitty NYE performance and shitty fake champagne \\nI guess you could say 2017 is off to a great start  "
      ]
     },
     "execution_count": 35,
     "metadata": {},
     "output_type": "execute_result"
    }
   ],
   "source": [
    "aaron_df.head(10)"
   ]
  },
  {
   "cell_type": "code",
   "execution_count": 36,
   "metadata": {},
   "outputs": [
    {
     "data": {
      "image/png": "[encoded data removed]",
      "text/plain": [
       "<Figure size 1152x648 with 1 Axes>"
      ]
     },
     "metadata": {},
     "output_type": "display_data"
    }
   ],
   "source": [
    "ax = aaron_df_for_plotting.plot.barh(logx=True, figsize=(16, 9), color=\"maroon\", fontsize=13);\n",
    "ax.set_alpha(0.8)\n",
    "ax.set_title(\"Aaron Dataset Subtweets Test\", fontsize=18)\n",
    "ax.set_ylabel(\"Row Index\", fontsize=18);\n",
    "ax.set_xlabel(\"Subtweet Percentage Probability (logarithmic)\", fontsize=18);\n",
    "for i in ax.patches:\n",
    "    ax.text(i.get_width(), i.get_y() + 0.325, \"{:.3%}\".format(i.get_width()), fontsize=10, color=\"black\")\n",
    "ax.invert_yaxis()"
   ]
  },
  {
   "cell_type": "markdown",
   "metadata": {},
   "source": [
    "#### Julia"
   ]
  },
  {
   "cell_type": "code",
   "execution_count": 37,
   "metadata": {},
   "outputs": [],
   "source": [
    "julia_df = pd.read_csv(\"../data/data_for_testing/friends_data/juliaeberry_tweets.csv\").dropna()\n",
    "julia_df[\"Sentiment\"] = None"
   ]
  },
  {
   "cell_type": "code",
   "execution_count": 38,
   "metadata": {
    "scrolled": false
   },
   "outputs": [
    {
     "name": "stdout",
     "output_type": "stream",
     "text": [
      "CPU times: user 1.9 s, sys: 35.4 ms, total: 1.94 s\n",
      "Wall time: 2.18 s\n"
     ]
    }
   ],
   "source": [
    "%%time\n",
    "julia_df = tests_dataframe(julia_df, text_column=\"Text\", sentiment_column=\"Sentiment\")"
   ]
  },
  {
   "cell_type": "code",
   "execution_count": 39,
   "metadata": {},
   "outputs": [],
   "source": [
    "julia_df.to_csv(\"../data/data_from_testing/friends_data/juliaeberry_tests.csv\")"
   ]
  },
  {
   "cell_type": "code",
   "execution_count": 40,
   "metadata": {},
   "outputs": [],
   "source": [
    "julia_df_columns = [\"sentiment_score\", \"subtweet_negative_probability\", \"tweet\"]"
   ]
  },
  {
   "cell_type": "code",
   "execution_count": 41,
   "metadata": {},
   "outputs": [],
   "source": [
    "julia_df_for_plotting = julia_df.drop(julia_df_columns, axis=1).head(10)"
   ]
  },
  {
   "cell_type": "code",
   "execution_count": 42,
   "metadata": {},
   "outputs": [
    {
     "data": {
      "text/html": [
       "<div>\n",
       "<style scoped>\n",
       "    .dataframe tbody tr th:only-of-type {\n",
       "        vertical-align: middle;\n",
       "    }\n",
       "\n",
       "    .dataframe tbody tr th {\n",
       "        vertical-align: top;\n",
       "    }\n",
       "\n",
       "    .dataframe thead th {\n",
       "        text-align: right;\n",
       "    }\n",
       "</style>\n",
       "<table border=\"1\" class=\"dataframe\">\n",
       "  <thead>\n",
       "    <tr style=\"text-align: right;\">\n",
       "      <th></th>\n",
       "      <th>sentiment_score</th>\n",
       "      <th>subtweet_negative_probability</th>\n",
       "      <th>subtweet_positive_probability</th>\n",
       "      <th>tweet</th>\n",
       "    </tr>\n",
       "  </thead>\n",
       "  <tbody>\n",
       "    <tr>\n",
       "      <th>3856</th>\n",
       "      <td>None</td>\n",
       "      <td>0.013219</td>\n",
       "      <td>0.986781</td>\n",
       "      <td>god I do not understand why people are obsessed with all of lorde's music and every little thing that she does</td>\n",
       "    </tr>\n",
       "    <tr>\n",
       "      <th>1639</th>\n",
       "      <td>None</td>\n",
       "      <td>0.013339</td>\n",
       "      <td>0.986661</td>\n",
       "      <td>so I'm reading one of the folgers incest commercial fanfics on ao3 and honestly other than the frequent and jarring incestual sex scenes, the worst thing so far has been the brother leering at his cousin's breasts at any opportunity. isn't having daily sex with your sister en...</td>\n",
       "    </tr>\n",
       "    <tr>\n",
       "      <th>925</th>\n",
       "      <td>None</td>\n",
       "      <td>0.014912</td>\n",
       "      <td>0.985088</td>\n",
       "      <td>look I mean obviously they're not dating or anything, but even to have an athletic partner be that much older......there's something very weird about that</td>\n",
       "    </tr>\n",
       "    <tr>\n",
       "      <th>1360</th>\n",
       "      <td>None</td>\n",
       "      <td>0.014947</td>\n",
       "      <td>0.985053</td>\n",
       "      <td>I may be twenty-two years of age, a full-blown adult, but I still harbor my old middle school fantasies of slow-dancing to secondhand serenade's \"fall for you\" one day</td>\n",
       "    </tr>\n",
       "    <tr>\n",
       "      <th>6296</th>\n",
       "      <td>None</td>\n",
       "      <td>0.016045</td>\n",
       "      <td>0.983955</td>\n",
       "      <td>NONE of my fabulous snapchats have made it into the oc snapchat story so to spite them I'm sending them every single snapchat I take</td>\n",
       "    </tr>\n",
       "    <tr>\n",
       "      <th>5515</th>\n",
       "      <td>None</td>\n",
       "      <td>0.016646</td>\n",
       "      <td>0.983354</td>\n",
       "      <td>when people say they're an empath I hate them even more</td>\n",
       "    </tr>\n",
       "    <tr>\n",
       "      <th>4105</th>\n",
       "      <td>None</td>\n",
       "      <td>0.016701</td>\n",
       "      <td>0.983299</td>\n",
       "      <td>when gay males dominate/exclude other members of the lgbtq community and some of the lbtq community puts their effort into excluding ace ppl</td>\n",
       "    </tr>\n",
       "    <tr>\n",
       "      <th>764</th>\n",
       "      <td>None</td>\n",
       "      <td>0.017746</td>\n",
       "      <td>0.982254</td>\n",
       "      <td>#WeirdWaysToFlirt stare lovingly at them in every single dance and interview, hold them too tight out of the rink, kiss their cheek, kiss them during rehearsals and blame it on being in character--rinse and repeat for twenty years #VirtueMoir</td>\n",
       "    </tr>\n",
       "    <tr>\n",
       "      <th>2085</th>\n",
       "      <td>None</td>\n",
       "      <td>0.018271</td>\n",
       "      <td>0.981729</td>\n",
       "      <td>even at the tender age of 21, I cannot imagine being romantically or sexually interested in an 18 year old. aside from maybe 20 year olds, wanting to date an 18 year old in your twenties makes no sense at all good god</td>\n",
       "    </tr>\n",
       "    <tr>\n",
       "      <th>747</th>\n",
       "      <td>None</td>\n",
       "      <td>0.018796</td>\n",
       "      <td>0.981204</td>\n",
       "      <td>snapchat ruined their format and days after everyone has curbed their use of it, they're trying to shill overpriced playing cards to make up for the losspic.twitter.com/JG1teHaDlo</td>\n",
       "    </tr>\n",
       "  </tbody>\n",
       "</table>\n",
       "</div>"
      ],
      "text/plain": [
       "     sentiment_score  subtweet_negative_probability  \\\n",
       "3856            None                       0.013219   \n",
       "1639            None                       0.013339   \n",
       "925             None                       0.014912   \n",
       "1360            None                       0.014947   \n",
       "6296            None                       0.016045   \n",
       "5515            None                       0.016646   \n",
       "4105            None                       0.016701   \n",
       "764             None                       0.017746   \n",
       "2085            None                       0.018271   \n",
       "747             None                       0.018796   \n",
       "\n",
       "      subtweet_positive_probability  \\\n",
       "3856                       0.986781   \n",
       "1639                       0.986661   \n",
       "925                        0.985088   \n",
       "1360                       0.985053   \n",
       "6296                       0.983955   \n",
       "5515                       0.983354   \n",
       "4105                       0.983299   \n",
       "764                        0.982254   \n",
       "2085                       0.981729   \n",
       "747                        0.981204   \n",
       "\n",
       "                                                                                                                                                                                                                                                                                        tweet  \n",
       "3856                                                                                                                                                                           god I do not understand why people are obsessed with all of lorde's music and every little thing that she does  \n",
       "1639  so I'm reading one of the folgers incest commercial fanfics on ao3 and honestly other than the frequent and jarring incestual sex scenes, the worst thing so far has been the brother leering at his cousin's breasts at any opportunity. isn't having daily sex with your sister en...  \n",
       "925                                                                                                                                look I mean obviously they're not dating or anything, but even to have an athletic partner be that much older......there's something very weird about that  \n",
       "1360                                                                                                                  I may be twenty-two years of age, a full-blown adult, but I still harbor my old middle school fantasies of slow-dancing to secondhand serenade's \"fall for you\" one day  \n",
       "6296                                                                                                                                                     NONE of my fabulous snapchats have made it into the oc snapchat story so to spite them I'm sending them every single snapchat I take  \n",
       "5515                                                                                                                                                                                                                                  when people say they're an empath I hate them even more  \n",
       "4105                                                                                                                                             when gay males dominate/exclude other members of the lgbtq community and some of the lbtq community puts their effort into excluding ace ppl  \n",
       "764                                        #WeirdWaysToFlirt stare lovingly at them in every single dance and interview, hold them too tight out of the rink, kiss their cheek, kiss them during rehearsals and blame it on being in character--rinse and repeat for twenty years #VirtueMoir  \n",
       "2085                                                                even at the tender age of 21, I cannot imagine being romantically or sexually interested in an 18 year old. aside from maybe 20 year olds, wanting to date an 18 year old in your twenties makes no sense at all good god  \n",
       "747                                                                                                       snapchat ruined their format and days after everyone has curbed their use of it, they're trying to shill overpriced playing cards to make up for the losspic.twitter.com/JG1teHaDlo  "
      ]
     },
     "execution_count": 42,
     "metadata": {},
     "output_type": "execute_result"
    }
   ],
   "source": [
    "julia_df.head(10)"
   ]
  },
  {
   "cell_type": "code",
   "execution_count": 43,
   "metadata": {},
   "outputs": [
    {
     "data": {
      "image/png": "[encoded data removed]",
      "text/plain": [
       "<Figure size 1152x648 with 1 Axes>"
      ]
     },
     "metadata": {},
     "output_type": "display_data"
    }
   ],
   "source": [
    "ax = julia_df_for_plotting.plot.barh(logx=True, figsize=(16, 9), color=\"maroon\", fontsize=13);\n",
    "ax.set_alpha(0.8)\n",
    "ax.set_title(\"Julia Dataset Subtweets Test\", fontsize=18)\n",
    "ax.set_ylabel(\"Row Index\", fontsize=18);\n",
    "ax.set_xlabel(\"Subtweet Percentage Probability (logarithmic)\", fontsize=18);\n",
    "for i in ax.patches:\n",
    "    ax.text(i.get_width(), i.get_y() + 0.325, \"{:.3%}\".format(i.get_width()), fontsize=10, color=\"black\")\n",
    "ax.invert_yaxis()"
   ]
  },
  {
   "cell_type": "markdown",
   "metadata": {},
   "source": [
    "#### Zoe"
   ]
  },
  {
   "cell_type": "code",
   "execution_count": 44,
   "metadata": {},
   "outputs": [],
   "source": [
    "zoe_df = pd.read_csv(\"../data/data_for_testing/friends_data/zoeterhune_tweets.csv\").dropna()\n",
    "zoe_df[\"Sentiment\"] = None"
   ]
  },
  {
   "cell_type": "code",
   "execution_count": 45,
   "metadata": {},
   "outputs": [
    {
     "name": "stdout",
     "output_type": "stream",
     "text": [
      "CPU times: user 356 ms, sys: 7.92 ms, total: 364 ms\n",
      "Wall time: 456 ms\n"
     ]
    }
   ],
   "source": [
    "%%time\n",
    "zoe_df = tests_dataframe(zoe_df, text_column=\"Text\", sentiment_column=\"Sentiment\")"
   ]
  },
  {
   "cell_type": "code",
   "execution_count": 46,
   "metadata": {},
   "outputs": [],
   "source": [
    "zoe_df.to_csv(\"../data/data_from_testing/friends_data/zoeterhune_tests.csv\")"
   ]
  },
  {
   "cell_type": "code",
   "execution_count": 47,
   "metadata": {},
   "outputs": [],
   "source": [
    "zoe_df_columns = [\"sentiment_score\", \"subtweet_negative_probability\", \"tweet\"]"
   ]
  },
  {
   "cell_type": "code",
   "execution_count": 48,
   "metadata": {},
   "outputs": [],
   "source": [
    "zoe_df_for_plotting = zoe_df.drop(zoe_df_columns, axis=1).head(10)"
   ]
  },
  {
   "cell_type": "code",
   "execution_count": 49,
   "metadata": {},
   "outputs": [
    {
     "data": {
      "text/html": [
       "<div>\n",
       "<style scoped>\n",
       "    .dataframe tbody tr th:only-of-type {\n",
       "        vertical-align: middle;\n",
       "    }\n",
       "\n",
       "    .dataframe tbody tr th {\n",
       "        vertical-align: top;\n",
       "    }\n",
       "\n",
       "    .dataframe thead th {\n",
       "        text-align: right;\n",
       "    }\n",
       "</style>\n",
       "<table border=\"1\" class=\"dataframe\">\n",
       "  <thead>\n",
       "    <tr style=\"text-align: right;\">\n",
       "      <th></th>\n",
       "      <th>sentiment_score</th>\n",
       "      <th>subtweet_negative_probability</th>\n",
       "      <th>subtweet_positive_probability</th>\n",
       "      <th>tweet</th>\n",
       "    </tr>\n",
       "  </thead>\n",
       "  <tbody>\n",
       "    <tr>\n",
       "      <th>584</th>\n",
       "      <td>None</td>\n",
       "      <td>0.015628</td>\n",
       "      <td>0.984372</td>\n",
       "      <td>the funny thing about anxiety is one minute you could be playing one of your favorite tabletop games w some of your favorite people and then the next you could be having a panic attack in the bathroom bc three people laughing/yelling (in jest) at you suddenly set something off</td>\n",
       "    </tr>\n",
       "    <tr>\n",
       "      <th>753</th>\n",
       "      <td>None</td>\n",
       "      <td>0.016095</td>\n",
       "      <td>0.983905</td>\n",
       "      <td>no offense but there are maybe like two people who are not annoying on social media</td>\n",
       "    </tr>\n",
       "    <tr>\n",
       "      <th>277</th>\n",
       "      <td>None</td>\n",
       "      <td>0.020231</td>\n",
       "      <td>0.979769</td>\n",
       "      <td>ok so people from my old school keep lamenting the death of someone to whom they claim to be close but also like continually misgender them in their lamentations?? I Don't Like This</td>\n",
       "    </tr>\n",
       "    <tr>\n",
       "      <th>803</th>\n",
       "      <td>None</td>\n",
       "      <td>0.027271</td>\n",
       "      <td>0.972729</td>\n",
       "      <td>the fact that twitter shows tweets people you follow have liked means that sub-liking is also a thing</td>\n",
       "    </tr>\n",
       "    <tr>\n",
       "      <th>756</th>\n",
       "      <td>None</td>\n",
       "      <td>0.027750</td>\n",
       "      <td>0.972250</td>\n",
       "      <td>I wonder what it's like to play fortnite\\n\\nor any online games for that matter</td>\n",
       "    </tr>\n",
       "    <tr>\n",
       "      <th>1144</th>\n",
       "      <td>None</td>\n",
       "      <td>0.028097</td>\n",
       "      <td>0.971903</td>\n",
       "      <td>honestly if bard tows my car bc there was LITERALLY no other parking on campus other than the twelve open spots in the main lot im SUEING</td>\n",
       "    </tr>\n",
       "    <tr>\n",
       "      <th>334</th>\n",
       "      <td>None</td>\n",
       "      <td>0.029357</td>\n",
       "      <td>0.970643</td>\n",
       "      <td>Literally every time one of us little people makes a tweet that gets popular one of our friends HAS to comment \"don't forget us little people\"</td>\n",
       "    </tr>\n",
       "    <tr>\n",
       "      <th>23</th>\n",
       "      <td>None</td>\n",
       "      <td>0.029523</td>\n",
       "      <td>0.970477</td>\n",
       "      <td>someone stole this person's \"book of life\" and they're \"going to fucking die\"</td>\n",
       "    </tr>\n",
       "    <tr>\n",
       "      <th>1105</th>\n",
       "      <td>None</td>\n",
       "      <td>0.029974</td>\n",
       "      <td>0.970026</td>\n",
       "      <td>The guy who had the audacity to write a Buzzfeed \"article\" called \"28 problems only ridiculously good looking people have\" thinks he's ridiculously good looking when he has the body of a grecian God, sure, and the face of a muppet</td>\n",
       "    </tr>\n",
       "    <tr>\n",
       "      <th>848</th>\n",
       "      <td>None</td>\n",
       "      <td>0.031774</td>\n",
       "      <td>0.968226</td>\n",
       "      <td>that one buzzfeed employee who thinks they're really funny but they aren't</td>\n",
       "    </tr>\n",
       "  </tbody>\n",
       "</table>\n",
       "</div>"
      ],
      "text/plain": [
       "     sentiment_score  subtweet_negative_probability  \\\n",
       "584             None                       0.015628   \n",
       "753             None                       0.016095   \n",
       "277             None                       0.020231   \n",
       "803             None                       0.027271   \n",
       "756             None                       0.027750   \n",
       "1144            None                       0.028097   \n",
       "334             None                       0.029357   \n",
       "23              None                       0.029523   \n",
       "1105            None                       0.029974   \n",
       "848             None                       0.031774   \n",
       "\n",
       "      subtweet_positive_probability  \\\n",
       "584                        0.984372   \n",
       "753                        0.983905   \n",
       "277                        0.979769   \n",
       "803                        0.972729   \n",
       "756                        0.972250   \n",
       "1144                       0.971903   \n",
       "334                        0.970643   \n",
       "23                         0.970477   \n",
       "1105                       0.970026   \n",
       "848                        0.968226   \n",
       "\n",
       "                                                                                                                                                                                                                                                                                      tweet  \n",
       "584   the funny thing about anxiety is one minute you could be playing one of your favorite tabletop games w some of your favorite people and then the next you could be having a panic attack in the bathroom bc three people laughing/yelling (in jest) at you suddenly set something off  \n",
       "753                                                                                                                                                                                                     no offense but there are maybe like two people who are not annoying on social media  \n",
       "277                                                                                                   ok so people from my old school keep lamenting the death of someone to whom they claim to be close but also like continually misgender them in their lamentations?? I Don't Like This  \n",
       "803                                                                                                                                                                                   the fact that twitter shows tweets people you follow have liked means that sub-liking is also a thing  \n",
       "756                                                                                                                                                                                                         I wonder what it's like to play fortnite\\n\\nor any online games for that matter  \n",
       "1144                                                                                                                                              honestly if bard tows my car bc there was LITERALLY no other parking on campus other than the twelve open spots in the main lot im SUEING  \n",
       "334                                                                                                                                          Literally every time one of us little people makes a tweet that gets popular one of our friends HAS to comment \"don't forget us little people\"  \n",
       "23                                                                                                                                                                                                            someone stole this person's \"book of life\" and they're \"going to fucking die\"  \n",
       "1105                                                 The guy who had the audacity to write a Buzzfeed \"article\" called \"28 problems only ridiculously good looking people have\" thinks he's ridiculously good looking when he has the body of a grecian God, sure, and the face of a muppet  \n",
       "848                                                                                                                                                                                                              that one buzzfeed employee who thinks they're really funny but they aren't  "
      ]
     },
     "execution_count": 49,
     "metadata": {},
     "output_type": "execute_result"
    }
   ],
   "source": [
    "zoe_df.head(10)"
   ]
  },
  {
   "cell_type": "code",
   "execution_count": 50,
   "metadata": {},
   "outputs": [
    {
     "data": {
      "image/png": "[encoded data removed]",
      "text/plain": [
       "<Figure size 1152x648 with 1 Axes>"
      ]
     },
     "metadata": {},
     "output_type": "display_data"
    }
   ],
   "source": [
    "ax = zoe_df_for_plotting.plot.barh(logx=True, figsize=(16, 9), color=\"maroon\", fontsize=13);\n",
    "ax.set_alpha(0.8)\n",
    "ax.set_title(\"Zoe Dataset Subtweets Test\", fontsize=18)\n",
    "ax.set_ylabel(\"Row Index\", fontsize=18);\n",
    "ax.set_xlabel(\"Subtweet Percentage Probability (logarithmic)\", fontsize=18);\n",
    "for i in ax.patches:\n",
    "    ax.text(i.get_width(), i.get_y() + 0.325, \"{:.3%}\".format(i.get_width()), fontsize=10, color=\"black\")\n",
    "ax.invert_yaxis()"
   ]
  },
  {
   "cell_type": "markdown",
   "metadata": {},
   "source": [
    "#### Noah"
   ]
  },
  {
   "cell_type": "code",
   "execution_count": 51,
   "metadata": {},
   "outputs": [],
   "source": [
    "noah_df = pd.read_csv(\"../data/data_for_testing/friends_data/noahsegalgould_tweets.csv\").dropna()\n",
    "noah_df[\"Sentiment\"] = None"
   ]
  },
  {
   "cell_type": "code",
   "execution_count": 52,
   "metadata": {
    "scrolled": false
   },
   "outputs": [
    {
     "name": "stdout",
     "output_type": "stream",
     "text": [
      "CPU times: user 870 ms, sys: 15.5 ms, total: 886 ms\n",
      "Wall time: 931 ms\n"
     ]
    }
   ],
   "source": [
    "%%time\n",
    "noah_df = tests_dataframe(noah_df, text_column=\"Text\", sentiment_column=\"Sentiment\")"
   ]
  },
  {
   "cell_type": "code",
   "execution_count": 53,
   "metadata": {},
   "outputs": [],
   "source": [
    "noah_df.to_csv(\"../data/data_from_testing/friends_data/noahsegalgould_tests.csv\")"
   ]
  },
  {
   "cell_type": "code",
   "execution_count": 54,
   "metadata": {},
   "outputs": [],
   "source": [
    "noah_df_columns = [\"sentiment_score\", \"subtweet_negative_probability\", \"tweet\"]"
   ]
  },
  {
   "cell_type": "code",
   "execution_count": 55,
   "metadata": {},
   "outputs": [],
   "source": [
    "noah_df_for_plotting = noah_df.drop(noah_df_columns, axis=1).head(10)"
   ]
  },
  {
   "cell_type": "code",
   "execution_count": 56,
   "metadata": {},
   "outputs": [
    {
     "data": {
      "text/html": [
       "<div>\n",
       "<style scoped>\n",
       "    .dataframe tbody tr th:only-of-type {\n",
       "        vertical-align: middle;\n",
       "    }\n",
       "\n",
       "    .dataframe tbody tr th {\n",
       "        vertical-align: top;\n",
       "    }\n",
       "\n",
       "    .dataframe thead th {\n",
       "        text-align: right;\n",
       "    }\n",
       "</style>\n",
       "<table border=\"1\" class=\"dataframe\">\n",
       "  <thead>\n",
       "    <tr style=\"text-align: right;\">\n",
       "      <th></th>\n",
       "      <th>sentiment_score</th>\n",
       "      <th>subtweet_negative_probability</th>\n",
       "      <th>subtweet_positive_probability</th>\n",
       "      <th>tweet</th>\n",
       "    </tr>\n",
       "  </thead>\n",
       "  <tbody>\n",
       "    <tr>\n",
       "      <th>3525</th>\n",
       "      <td>None</td>\n",
       "      <td>0.010856</td>\n",
       "      <td>0.989144</td>\n",
       "      <td>some people want their kids to take care of them when they are elderly but I plan to enslave sentient AI to do that for me until the end.</td>\n",
       "    </tr>\n",
       "    <tr>\n",
       "      <th>877</th>\n",
       "      <td>None</td>\n",
       "      <td>0.014706</td>\n",
       "      <td>0.985294</td>\n",
       "      <td>I guess I think it’s foolish to rely on any website for being your source of personal fulfillment and especially as your only source for political change. The companies which own your speech aren’t going to let you dismantle them. And their goal isn’t ever going to be to help...</td>\n",
       "    </tr>\n",
       "    <tr>\n",
       "      <th>2908</th>\n",
       "      <td>None</td>\n",
       "      <td>0.016411</td>\n",
       "      <td>0.983589</td>\n",
       "      <td>It's one of those stories about someone who can't take anything seriously until everything goes to shit and then he's forced to change</td>\n",
       "    </tr>\n",
       "    <tr>\n",
       "      <th>3712</th>\n",
       "      <td>None</td>\n",
       "      <td>0.017425</td>\n",
       "      <td>0.982575</td>\n",
       "      <td>Do I confront someone I barely know to explain to them that they can't just drink out of my water bottle without asking?</td>\n",
       "    </tr>\n",
       "    <tr>\n",
       "      <th>3764</th>\n",
       "      <td>None</td>\n",
       "      <td>0.017962</td>\n",
       "      <td>0.982038</td>\n",
       "      <td>As one of those #unphotogenic people I use old pictures for my social media profiles all the time since getting good ones takes forever</td>\n",
       "    </tr>\n",
       "    <tr>\n",
       "      <th>4024</th>\n",
       "      <td>None</td>\n",
       "      <td>0.018528</td>\n",
       "      <td>0.981472</td>\n",
       "      <td>Being human means reconciling what you want with what everyone else wants and I know that but it's so damn hard sometimes.</td>\n",
       "    </tr>\n",
       "    <tr>\n",
       "      <th>2629</th>\n",
       "      <td>None</td>\n",
       "      <td>0.020939</td>\n",
       "      <td>0.979061</td>\n",
       "      <td>My mom notices when I put extra effort into being emotionally and physically present but I hate it, maybe because I hate the effort it takes</td>\n",
       "    </tr>\n",
       "    <tr>\n",
       "      <th>680</th>\n",
       "      <td>None</td>\n",
       "      <td>0.021104</td>\n",
       "      <td>0.978896</td>\n",
       "      <td>the main premise is that a girl in modern Japan falls down a well and ends up in the distant past with demons and gods and such, and I'm pretty sure the Inuyasha character is a half human-half demon dog man, which is probably implied by his name somehow since \"inu\" means dog</td>\n",
       "    </tr>\n",
       "    <tr>\n",
       "      <th>51</th>\n",
       "      <td>None</td>\n",
       "      <td>0.021729</td>\n",
       "      <td>0.978271</td>\n",
       "      <td>I meant \"apparently\" because it's canon to the source manga that the 2018 anime is based on but is entirely left out of that adaptation. I've seen the last two episodes at least twice each, I am deeply flawed but when I'm that far into something I always finish it!</td>\n",
       "    </tr>\n",
       "    <tr>\n",
       "      <th>1042</th>\n",
       "      <td>None</td>\n",
       "      <td>0.022498</td>\n",
       "      <td>0.977502</td>\n",
       "      <td>Someone in the class of 2021 Facebook group wanted to know when they get their final grades and I told them May 2021</td>\n",
       "    </tr>\n",
       "  </tbody>\n",
       "</table>\n",
       "</div>"
      ],
      "text/plain": [
       "     sentiment_score  subtweet_negative_probability  \\\n",
       "3525            None                       0.010856   \n",
       "877             None                       0.014706   \n",
       "2908            None                       0.016411   \n",
       "3712            None                       0.017425   \n",
       "3764            None                       0.017962   \n",
       "4024            None                       0.018528   \n",
       "2629            None                       0.020939   \n",
       "680             None                       0.021104   \n",
       "51              None                       0.021729   \n",
       "1042            None                       0.022498   \n",
       "\n",
       "      subtweet_positive_probability  \\\n",
       "3525                       0.989144   \n",
       "877                        0.985294   \n",
       "2908                       0.983589   \n",
       "3712                       0.982575   \n",
       "3764                       0.982038   \n",
       "4024                       0.981472   \n",
       "2629                       0.979061   \n",
       "680                        0.978896   \n",
       "51                         0.978271   \n",
       "1042                       0.977502   \n",
       "\n",
       "                                                                                                                                                                                                                                                                                        tweet  \n",
       "3525                                                                                                                                                some people want their kids to take care of them when they are elderly but I plan to enslave sentient AI to do that for me until the end.  \n",
       "877   I guess I think it’s foolish to rely on any website for being your source of personal fulfillment and especially as your only source for political change. The companies which own your speech aren’t going to let you dismantle them. And their goal isn’t ever going to be to help...  \n",
       "2908                                                                                                                                                   It's one of those stories about someone who can't take anything seriously until everything goes to shit and then he's forced to change  \n",
       "3712                                                                                                                                                                 Do I confront someone I barely know to explain to them that they can't just drink out of my water bottle without asking?  \n",
       "3764                                                                                                                                                  As one of those #unphotogenic people I use old pictures for my social media profiles all the time since getting good ones takes forever  \n",
       "4024                                                                                                                                                               Being human means reconciling what you want with what everyone else wants and I know that but it's so damn hard sometimes.  \n",
       "2629                                                                                                                                             My mom notices when I put extra effort into being emotionally and physically present but I hate it, maybe because I hate the effort it takes  \n",
       "680       the main premise is that a girl in modern Japan falls down a well and ends up in the distant past with demons and gods and such, and I'm pretty sure the Inuyasha character is a half human-half demon dog man, which is probably implied by his name somehow since \"inu\" means dog  \n",
       "51                  I meant \"apparently\" because it's canon to the source manga that the 2018 anime is based on but is entirely left out of that adaptation. I've seen the last two episodes at least twice each, I am deeply flawed but when I'm that far into something I always finish it!  \n",
       "1042                                                                                                                                                                     Someone in the class of 2021 Facebook group wanted to know when they get their final grades and I told them May 2021  "
      ]
     },
     "execution_count": 56,
     "metadata": {},
     "output_type": "execute_result"
    }
   ],
   "source": [
    "noah_df.head(10)"
   ]
  },
  {
   "cell_type": "code",
   "execution_count": 57,
   "metadata": {},
   "outputs": [
    {
     "data": {
      "image/png": "[encoded data removed]",
      "text/plain": [
       "<Figure size 1152x648 with 1 Axes>"
      ]
     },
     "metadata": {},
     "output_type": "display_data"
    }
   ],
   "source": [
    "ax = noah_df_for_plotting.plot.barh(logx=True, figsize=(16, 9), color=\"maroon\", fontsize=13);\n",
    "ax.set_alpha(0.8)\n",
    "ax.set_title(\"Noah Dataset Subtweets Test\", fontsize=18)\n",
    "ax.set_ylabel(\"Row Index\", fontsize=18);\n",
    "ax.set_xlabel(\"Subtweet Percentage Probability (logarithmic)\", fontsize=18);\n",
    "for i in ax.patches:\n",
    "    ax.text(i.get_width(), i.get_y() + 0.325, \"{:.3%}\".format(i.get_width()), fontsize=10, color=\"black\")\n",
    "ax.invert_yaxis()"
   ]
  },
  {
   "cell_type": "markdown",
   "metadata": {},
   "source": [
    "#### Test it in realtime\n",
    "#### Define some useful variables for later"
   ]
  },
  {
   "cell_type": "code",
   "execution_count": 58,
   "metadata": {},
   "outputs": [],
   "source": [
    "THRESHOLD = 0.95 # 95% positives and higher, only\n",
    "DURATION = 60 # 1 minute"
   ]
  },
  {
   "cell_type": "markdown",
   "metadata": {},
   "source": [
    "#### Load Twitter API credentials"
   ]
  },
  {
   "cell_type": "code",
   "execution_count": 59,
   "metadata": {},
   "outputs": [],
   "source": [
    "consumer_key, consumer_secret, access_token, access_token_secret = open(\"../../credentials.txt\").read().split(\"\\n\")"
   ]
  },
  {
   "cell_type": "markdown",
   "metadata": {},
   "source": [
    "#### Use the API credentials to connect to the API"
   ]
  },
  {
   "cell_type": "code",
   "execution_count": 60,
   "metadata": {},
   "outputs": [],
   "source": [
    "auth = tweepy.OAuthHandler(consumer_key, consumer_secret)\n",
    "auth.set_access_token(access_token, access_token_secret)\n",
    "api = tweepy.API(auth, retry_delay=1, timeout=120, # 2 minutes\n",
    "                 compression=True, wait_on_rate_limit=True, wait_on_rate_limit_notify=True)"
   ]
  },
  {
   "cell_type": "markdown",
   "metadata": {},
   "source": [
    "#### Prepare the final dataframe"
   ]
  },
  {
   "cell_type": "code",
   "execution_count": 61,
   "metadata": {},
   "outputs": [],
   "source": [
    "subtweets_live_list = []\n",
    "non_subtweets_live_list = []"
   ]
  },
  {
   "cell_type": "markdown",
   "metadata": {},
   "source": [
    "#### Create a custom class for streaming subtweets"
   ]
  },
  {
   "cell_type": "code",
   "execution_count": 62,
   "metadata": {},
   "outputs": [],
   "source": [
    "class StreamListener(tweepy.StreamListener):\n",
    "    def on_status(self, status):\n",
    "        choices = [\"retweet\", \"like\", \"retweet and like\", \"reply\"]\n",
    "        \n",
    "        id_str = status.id_str\n",
    "        screen_name = status.user.screen_name\n",
    "        created_at = status.created_at\n",
    "        retweeted = status.retweeted\n",
    "        in_reply_to = status.in_reply_to_status_id\n",
    "        \n",
    "        text = status.text.replace(\"&quot;\", \"\\\"\").replace(\"&amp;\", \"&\").replace(\"&gt;\", \">\").replace(\"&lt;\", \"<\")\n",
    "        \n",
    "        # negative_probability = sentiment_pipeline.predict_proba([text]).tolist()[0][0]\n",
    "        positive_probability = sentiment_pipeline.predict_proba([text]).tolist()[0][1]\n",
    "        \n",
    "        row = {\"tweet\": text, \n",
    "               \"screen_name\": screen_name, \n",
    "               \"time\": created_at, \n",
    "               \"subtweet_probability\": positive_probability}\n",
    "        \n",
    "        print_list = pd.DataFrame([row]).values.tolist()[0]\n",
    "        \n",
    "        if all([positive_probability >= THRESHOLD, \n",
    "                not retweeted,\n",
    "                \"RT @\" not in text, \n",
    "                not in_reply_to]):\n",
    "            \n",
    "            decision = choice(choices)\n",
    "            if decision == \"retweet\":\n",
    "                api.update_status((\"Is this a subtweet? {:.3%} \\n\" + \n",
    "                                   \"https://twitter.com/{}/status/{}\").format(positive_probability, \n",
    "                                                                              screen_name, \n",
    "                                                                              id_str))\n",
    "            \n",
    "            if decision == \"like\":\n",
    "                api.create_favorite(id_str)\n",
    "            \n",
    "            if decision == \"retweet and like\":\n",
    "                api.update_status((\"Is this a subtweet? {:.3%} \\n\" + \n",
    "                                   \"https://twitter.com/{}/status/{}\").format(positive_probability, \n",
    "                                                                              screen_name, \n",
    "                                                                              id_str))\n",
    "                api.create_favorite(id_str)\n",
    "            \n",
    "            if decision == \"reply\":\n",
    "                api.update_status(\"@{} Is this a subtweet? {:.3%}\".format(screen_name, positive_probability), id_str)\n",
    "            \n",
    "            subtweets_live_list.append(row)\n",
    "            subtweets_df = pd.DataFrame(subtweets_live_list).sort_values(by=\"subtweet_probability\", \n",
    "                                                                         ascending=False)\n",
    "            \n",
    "            subtweets_df.to_csv(\"../data/data_from_testing/live_downloaded_data/subtweets_live_data.csv\")\n",
    "            \n",
    "            print((\"Subtweet from @{0} (Probability of {1:.3%}):\\n\" + \n",
    "                   \"Time: {2}\\n\" + \n",
    "                   \"Tweet: {3}\\n\" +\n",
    "                   \"Total tweets acquired: {4}\\n\").format(print_list[0], \n",
    "                                                          print_list[1], \n",
    "                                                          print_list[2],\n",
    "                                                          print_list[3],\n",
    "                                                          (len(subtweets_live_list) \n",
    "                                                           + len(non_subtweets_live_list))))\n",
    "            \n",
    "            return row\n",
    "        else:\n",
    "            non_subtweets_live_list.append(row)\n",
    "            non_subtweets_df = pd.DataFrame(non_subtweets_live_list).sort_values(by=\"subtweet_probability\", \n",
    "                                                                                 ascending=False)\n",
    "            non_subtweets_df.to_csv(\"../data/data_from_testing/live_downloaded_data/non_subtweets_live_data.csv\")\n",
    "            \n",
    "            return row"
   ]
  },
  {
   "cell_type": "markdown",
   "metadata": {},
   "source": [
    "#### Get a list of the IDs of all my mutuals and my mutuals' followers"
   ]
  },
  {
   "cell_type": "code",
   "execution_count": 63,
   "metadata": {},
   "outputs": [],
   "source": [
    "def get_mutuals():\n",
    "    my_followers = [str(user_id) for ids_list in \n",
    "                    tweepy.Cursor(api.followers_ids, \n",
    "                                  screen_name=\"NoahSegalGould\").pages() \n",
    "                    for user_id in ids_list]\n",
    "    my_followeds = [str(user_id) for ids_list in \n",
    "                   tweepy.Cursor(api.friends_ids, \n",
    "                                 screen_name=\"NoahSegalGould\").pages() \n",
    "                   for user_id in ids_list]\n",
    "    \n",
    "    my_mutuals = list(set(my_followers) & set(my_followeds))\n",
    "    \n",
    "    bots = [\"890031065057853440\", \"895685688582180864\", \n",
    "            \"894658603977777152\", \"970553455709446144\", \n",
    "            \"786489395519983617\", \"975981192817373184\"]\n",
    "    \n",
    "    my_mutuals = [m for m in my_mutuals if m not in bots]\n",
    "    \n",
    "    with open(\"../data/other_data/NoahSegalGould_Mutuals_ids.json\", \"w\") as outfile:\n",
    "        json.dump(my_mutuals, outfile)\n",
    "    \n",
    "    return my_mutuals"
   ]
  },
  {
   "cell_type": "code",
   "execution_count": 64,
   "metadata": {},
   "outputs": [],
   "source": [
    "def get_mutuals_and_mutuals_mutuals_ids(mutuals_threshold=250):\n",
    "    my_mutuals = get_mutuals()\n",
    "    my_mutuals_mutuals = my_mutuals[:]\n",
    "\n",
    "    for i, mutual in enumerate(my_mutuals):\n",
    "        start_time = time()\n",
    "        user = api.get_user(user_id=mutual)\n",
    "        name = user.screen_name\n",
    "        is_protected = user.protected\n",
    "        if not is_protected:\n",
    "            mutuals_followers = []\n",
    "            followers_cursor = tweepy.Cursor(api.followers_ids, user_id=mutual).items()\n",
    "            while True:\n",
    "                try:\n",
    "                    mutuals_follower = followers_cursor.next()\n",
    "                    mutuals_followers.append(str(mutuals_follower))\n",
    "                except tweepy.TweepError:\n",
    "                    sleep(30) # 30 seconds\n",
    "                    continue\n",
    "                except StopIteration:\n",
    "                    break\n",
    "            mutuals_followeds = []\n",
    "            followeds_cursor = tweepy.Cursor(api.friends_ids, user_id=mutual).items()\n",
    "            while True:\n",
    "                try:\n",
    "                    mutuals_followed = followeds_cursor.next()\n",
    "                    mutuals_followeds.append(str(mutuals_followed))\n",
    "                except tweepy.TweepError:\n",
    "                    sleep(30) # 30 seconds\n",
    "                    continue\n",
    "                except StopIteration:\n",
    "                    break\n",
    "            mutuals_mutuals = list(set(mutuals_followers) & set(mutuals_followeds))\n",
    "            print(\"{} mutuals for mutual {}: {}\".format(len(mutuals_mutuals), i+1, name))\n",
    "            if len(mutuals_mutuals) <= mutuals_threshold: # Ignore my mutuals if they have a lot of mutuals\n",
    "                my_mutuals_mutuals.extend(mutuals_mutuals)\n",
    "            else:\n",
    "                print(\"\\tSkipping: {}\".format(name))\n",
    "        else:\n",
    "            continue\n",
    "        end_time = time()\n",
    "        with open(\"../data/other_data/NoahSegalGould_Mutuals_and_Mutuals_Mutuals_ids.json\", \"w\") as outfile:\n",
    "            json.dump(my_mutuals_mutuals, outfile)\n",
    "        print(\"{0:.2f} seconds for getting the mutuals' IDs of mutual {1}: {2}\\n\".format((end_time - start_time), \n",
    "                                                                                         i+1, name))\n",
    "    my_mutuals_mutuals = [str(mu) for mu in sorted([int(m) for m in list(set(my_mutuals_mutuals))])]\n",
    "    with open(\"../data/other_data/NoahSegalGould_Mutuals_and_Mutuals_Mutuals_ids.json\", \"w\") as outfile:\n",
    "        json.dump(my_mutuals_mutuals, outfile, indent=4)\n",
    "    return my_mutuals_mutuals"
   ]
  },
  {
   "cell_type": "code",
   "execution_count": 65,
   "metadata": {},
   "outputs": [],
   "source": [
    "# %%time\n",
    "# my_mutuals_mutuals = get_mutuals_and_mutuals_mutuals_ids()"
   ]
  },
  {
   "cell_type": "code",
   "execution_count": 66,
   "metadata": {},
   "outputs": [
    {
     "name": "stdout",
     "output_type": "stream",
     "text": [
      "CPU times: user 45.1 ms, sys: 9.39 ms, total: 54.5 ms\n",
      "Wall time: 475 ms\n"
     ]
    }
   ],
   "source": [
    "%%time\n",
    "my_mutuals = get_mutuals()"
   ]
  },
  {
   "cell_type": "code",
   "execution_count": 67,
   "metadata": {},
   "outputs": [],
   "source": [
    "my_mutuals_mutuals = json.load(open(\"../data/other_data/NoahSegalGould_Mutuals_and_Mutuals_Mutuals_ids.json\"))"
   ]
  },
  {
   "cell_type": "code",
   "execution_count": 68,
   "metadata": {},
   "outputs": [
    {
     "name": "stdout",
     "output_type": "stream",
     "text": [
      "Total number of my mutuals: 107\n"
     ]
    }
   ],
   "source": [
    "print(\"Total number of my mutuals: {}\".format(len(my_mutuals)))"
   ]
  },
  {
   "cell_type": "code",
   "execution_count": 69,
   "metadata": {},
   "outputs": [
    {
     "name": "stdout",
     "output_type": "stream",
     "text": [
      "Total number of my mutuals and my mutuals' mutuals: 4218\n"
     ]
    }
   ],
   "source": [
    "print(\"Total number of my mutuals and my mutuals' mutuals: {}\".format(len(my_mutuals_mutuals)))"
   ]
  },
  {
   "cell_type": "markdown",
   "metadata": {},
   "source": [
    "#### Instantiate the listener"
   ]
  },
  {
   "cell_type": "code",
   "execution_count": 70,
   "metadata": {},
   "outputs": [],
   "source": [
    "stream_listener = StreamListener()\n",
    "stream = tweepy.Stream(auth=api.auth, listener=stream_listener)"
   ]
  },
  {
   "cell_type": "markdown",
   "metadata": {},
   "source": [
    "#### Start the stream asynchronously, and stop it after some duration of seconds"
   ]
  },
  {
   "cell_type": "code",
   "execution_count": 71,
   "metadata": {
    "scrolled": true
   },
   "outputs": [
    {
     "name": "stdout",
     "output_type": "stream",
     "text": [
      "Streaming has started.\n"
     ]
    },
    {
     "name": "stderr",
     "output_type": "stream",
     "text": [
      "/Users/Noah/anaconda/envs/work/lib/python3.6/site-packages/sklearn/externals/joblib/parallel.py:547: UserWarning: Multiprocessing-backed parallel loops cannot be nested below threads, setting n_jobs=1\n",
      "  **self._backend_args)\n"
     ]
    },
    {
     "name": "stdout",
     "output_type": "stream",
     "text": [
      "CPU times: user 948 ms, sys: 151 ms, total: 1.1 s\n",
      "Wall time: 1min\n"
     ]
    }
   ],
   "source": [
    "%%time\n",
    "# stream.filter(locations=[-73.920176, 42.009637, -73.899739, 42.033421], stall_warnings=True, languages=[\"en\"], async=True)\n",
    "stream.filter(follow=my_mutuals_mutuals, stall_warnings=True, languages=[\"en\"], async=True)\n",
    "print(\"Streaming has started.\")\n",
    "sleep(DURATION)\n",
    "stream.disconnect()"
   ]
  },
  {
   "cell_type": "markdown",
   "metadata": {},
   "source": [
    "#### Plot the results"
   ]
  },
  {
   "cell_type": "code",
   "execution_count": 72,
   "metadata": {},
   "outputs": [],
   "source": [
    "subtweets_df = pd.read_csv(\"../data/data_from_testing/live_downloaded_data/subtweets_live_data.csv\", index_col=0)"
   ]
  },
  {
   "cell_type": "code",
   "execution_count": 73,
   "metadata": {},
   "outputs": [],
   "source": [
    "subtweets_df_columns = [\"screen_name\", \"time\", \"tweet\"]"
   ]
  },
  {
   "cell_type": "code",
   "execution_count": 74,
   "metadata": {},
   "outputs": [],
   "source": [
    "subtweets_df_for_plotting = subtweets_df.drop(subtweets_df_columns, axis=1).head(10)"
   ]
  },
  {
   "cell_type": "code",
   "execution_count": 75,
   "metadata": {},
   "outputs": [
    {
     "data": {
      "text/html": [
       "<div>\n",
       "<style scoped>\n",
       "    .dataframe tbody tr th:only-of-type {\n",
       "        vertical-align: middle;\n",
       "    }\n",
       "\n",
       "    .dataframe tbody tr th {\n",
       "        vertical-align: top;\n",
       "    }\n",
       "\n",
       "    .dataframe thead th {\n",
       "        text-align: right;\n",
       "    }\n",
       "</style>\n",
       "<table border=\"1\" class=\"dataframe\">\n",
       "  <thead>\n",
       "    <tr style=\"text-align: right;\">\n",
       "      <th></th>\n",
       "      <th>screen_name</th>\n",
       "      <th>subtweet_probability</th>\n",
       "      <th>time</th>\n",
       "      <th>tweet</th>\n",
       "    </tr>\n",
       "  </thead>\n",
       "  <tbody>\n",
       "    <tr>\n",
       "      <th>16</th>\n",
       "      <td>shane_bix04</td>\n",
       "      <td>0.982776</td>\n",
       "      <td>2018-03-26 12:39:52</td>\n",
       "      <td>People have unfollowed me because of my political beliefs, if you are one of those people I just have one thing to say....your mom gay.</td>\n",
       "    </tr>\n",
       "    <tr>\n",
       "      <th>44</th>\n",
       "      <td>Streeter_2201</td>\n",
       "      <td>0.981974</td>\n",
       "      <td>2018-03-26 15:45:18</td>\n",
       "      <td>What’s the point in being friends with one of your friends on Snapchat if you’re just gonna block them from seeing your story?</td>\n",
       "    </tr>\n",
       "    <tr>\n",
       "      <th>13</th>\n",
       "      <td>Aly_Siragusa</td>\n",
       "      <td>0.980444</td>\n",
       "      <td>2018-03-26 12:05:22</td>\n",
       "      <td>Nothing more toxic then being around people who say they want it all but do nothing to get it. 👌</td>\n",
       "    </tr>\n",
       "    <tr>\n",
       "      <th>115</th>\n",
       "      <td>malinajohnelle1</td>\n",
       "      <td>0.977706</td>\n",
       "      <td>2018-03-26 23:02:13</td>\n",
       "      <td>You ever just get so frustrated w/ someone cause like you really like them (as a person ) but some of the shit they do just gets you so mad</td>\n",
       "    </tr>\n",
       "    <tr>\n",
       "      <th>57</th>\n",
       "      <td>paul_marciano5</td>\n",
       "      <td>0.974904</td>\n",
       "      <td>2018-03-26 16:59:22</td>\n",
       "      <td>I hate how these days it’s like nothing happened or you didn’t go somewhere unless you put it on social media</td>\n",
       "    </tr>\n",
       "    <tr>\n",
       "      <th>136</th>\n",
       "      <td>Scott4Music</td>\n",
       "      <td>0.971632</td>\n",
       "      <td>2018-03-27 00:32:23</td>\n",
       "      <td>Sometimes I just wonder why some people lead you along and then just stop talking to you......</td>\n",
       "    </tr>\n",
       "    <tr>\n",
       "      <th>113</th>\n",
       "      <td>scanarelli359_</td>\n",
       "      <td>0.970625</td>\n",
       "      <td>2018-03-26 22:52:28</td>\n",
       "      <td>i absolutely hate seeing my best friends go through the same thing i went through and not being able to help them</td>\n",
       "    </tr>\n",
       "    <tr>\n",
       "      <th>121</th>\n",
       "      <td>GlamourGut</td>\n",
       "      <td>0.970358</td>\n",
       "      <td>2018-03-26 23:27:08</td>\n",
       "      <td>MY PLUG GOT ARRESTED I REFUSE TO BUY FROM CREEPY BOY WHO WANTS TO **** me but hes ALL I GOT RN :/</td>\n",
       "    </tr>\n",
       "    <tr>\n",
       "      <th>62</th>\n",
       "      <td>tcarr11</td>\n",
       "      <td>0.969124</td>\n",
       "      <td>2018-03-26 17:20:57</td>\n",
       "      <td>CORRECTION WHEN THE TALKING HEADS ARE YELLING FIRE &gt;BUY&gt;&gt;BUT WHEN THEY SAY ALL IS CLEAR AND EVERYTHING IS ROSY TIME TO SELL</td>\n",
       "    </tr>\n",
       "    <tr>\n",
       "      <th>140</th>\n",
       "      <td>KathleenRebis15</td>\n",
       "      <td>0.967754</td>\n",
       "      <td>2018-03-27 00:45:42</td>\n",
       "      <td>ppl say being cheated on fucks w you and makes you have trust issues in future relationships... nah, it’s allll about the person you’re with</td>\n",
       "    </tr>\n",
       "  </tbody>\n",
       "</table>\n",
       "</div>"
      ],
      "text/plain": [
       "         screen_name  subtweet_probability                 time  \\\n",
       "16       shane_bix04              0.982776  2018-03-26 12:39:52   \n",
       "44     Streeter_2201              0.981974  2018-03-26 15:45:18   \n",
       "13      Aly_Siragusa              0.980444  2018-03-26 12:05:22   \n",
       "115  malinajohnelle1              0.977706  2018-03-26 23:02:13   \n",
       "57    paul_marciano5              0.974904  2018-03-26 16:59:22   \n",
       "136      Scott4Music              0.971632  2018-03-27 00:32:23   \n",
       "113   scanarelli359_              0.970625  2018-03-26 22:52:28   \n",
       "121       GlamourGut              0.970358  2018-03-26 23:27:08   \n",
       "62           tcarr11              0.969124  2018-03-26 17:20:57   \n",
       "140  KathleenRebis15              0.967754  2018-03-27 00:45:42   \n",
       "\n",
       "                                                                                                                                            tweet  \n",
       "16        People have unfollowed me because of my political beliefs, if you are one of those people I just have one thing to say....your mom gay.  \n",
       "44                 What’s the point in being friends with one of your friends on Snapchat if you’re just gonna block them from seeing your story?  \n",
       "13                                               Nothing more toxic then being around people who say they want it all but do nothing to get it. 👌  \n",
       "115   You ever just get so frustrated w/ someone cause like you really like them (as a person ) but some of the shit they do just gets you so mad  \n",
       "57                                  I hate how these days it’s like nothing happened or you didn’t go somewhere unless you put it on social media  \n",
       "136                                                Sometimes I just wonder why some people lead you along and then just stop talking to you......  \n",
       "113                             i absolutely hate seeing my best friends go through the same thing i went through and not being able to help them  \n",
       "121                                             MY PLUG GOT ARRESTED I REFUSE TO BUY FROM CREEPY BOY WHO WANTS TO **** me but hes ALL I GOT RN :/  \n",
       "62                    CORRECTION WHEN THE TALKING HEADS ARE YELLING FIRE >BUY>>BUT WHEN THEY SAY ALL IS CLEAR AND EVERYTHING IS ROSY TIME TO SELL  \n",
       "140  ppl say being cheated on fucks w you and makes you have trust issues in future relationships... nah, it’s allll about the person you’re with  "
      ]
     },
     "execution_count": 75,
     "metadata": {},
     "output_type": "execute_result"
    }
   ],
   "source": [
    "subtweets_df.head(10)"
   ]
  },
  {
   "cell_type": "code",
   "execution_count": 76,
   "metadata": {},
   "outputs": [
    {
     "data": {
      "image/png": "[encoded data removed]",
      "text/plain": [
       "<Figure size 1152x648 with 1 Axes>"
      ]
     },
     "metadata": {},
     "output_type": "display_data"
    }
   ],
   "source": [
    "ax = subtweets_df_for_plotting.plot.barh(logx=True, figsize=(16, 9), color=\"maroon\", fontsize=13);\n",
    "ax.set_alpha(0.8)\n",
    "ax.set_title(\"Live Downloaded Subtweets Test\", fontsize=18)\n",
    "ax.set_ylabel(\"Row Index\", fontsize=18);\n",
    "ax.set_xlabel(\"Subtweet Percentage Probability (logarithmic)\", fontsize=18);\n",
    "for i in ax.patches:\n",
    "    ax.text(i.get_width(), i.get_y() + 0.325, \"{:.3%}\".format(i.get_width()), fontsize=10, color=\"black\")\n",
    "ax.invert_yaxis()"
   ]
  }
 ],
 "metadata": {
  "kernelspec": {
   "display_name": "Python 3",
   "language": "python",
   "name": "python3"
  },
  "language_info": {
   "codemirror_mode": {
    "name": "ipython",
    "version": 3
   },
   "file_extension": ".py",
   "mimetype": "text/x-python",
   "name": "python",
   "nbconvert_exporter": "python",
   "pygments_lexer": "ipython3",
   "version": "3.6.4"
  }
 },
 "nbformat": 4,
 "nbformat_minor": 2
}
