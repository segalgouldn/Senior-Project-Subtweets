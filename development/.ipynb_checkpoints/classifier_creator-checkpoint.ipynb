{
 "cells": [
  {
   "cell_type": "markdown",
   "metadata": {},
   "source": [
    "## Using Scikit-Learn and NLTK to build a Naive Bayes Classifier that identifies subtweets"
   ]
  },
  {
   "cell_type": "markdown",
   "metadata": {},
   "source": [
    "### Goals:\n",
    "#### Use Scikit-Learn pipelines to define special features to add to a Naive Bayes Classifier\n",
    "#### Evaluate the accuracy of the classifier\n",
    "#### Maybe do it live, on a Twitter API stream"
   ]
  },
  {
   "cell_type": "markdown",
   "metadata": {},
   "source": [
    "### Methods:\n",
    "#### Use the training set I made before"
   ]
  },
  {
   "cell_type": "markdown",
   "metadata": {},
   "source": [
    "#### Import libraries"
   ]
  },
  {
   "cell_type": "code",
   "execution_count": 1,
   "metadata": {},
   "outputs": [],
   "source": [
    "%matplotlib inline"
   ]
  },
  {
   "cell_type": "code",
   "execution_count": 2,
   "metadata": {},
   "outputs": [],
   "source": [
    "from sklearn.base import TransformerMixin, BaseEstimator\n",
    "from sklearn.feature_extraction import DictVectorizer\n",
    "from sklearn.feature_extraction.text import CountVectorizer, TfidfTransformer\n",
    "from sklearn.naive_bayes import MultinomialNB\n",
    "from sklearn.pipeline import Pipeline, FeatureUnion\n",
    "from sklearn.model_selection import train_test_split\n",
    "from sklearn.metrics import classification_report, confusion_matrix\n",
    "from sklearn.externals import joblib\n",
    "from textblob import TextBlob\n",
    "from time import time, sleep\n",
    "import matplotlib.pyplot as plt\n",
    "import pandas as pd\n",
    "import numpy as np\n",
    "import itertools\n",
    "import datetime\n",
    "import tweepy\n",
    "import nltk\n",
    "import json\n",
    "import re"
   ]
  },
  {
   "cell_type": "markdown",
   "metadata": {},
   "source": [
    "#### Set max column width for dataframes"
   ]
  },
  {
   "cell_type": "code",
   "execution_count": 3,
   "metadata": {},
   "outputs": [],
   "source": [
    "pd.set_option(\"max_colwidth\", 280)"
   ]
  },
  {
   "cell_type": "markdown",
   "metadata": {},
   "source": [
    "#### Load the CSV"
   ]
  },
  {
   "cell_type": "code",
   "execution_count": 4,
   "metadata": {},
   "outputs": [],
   "source": [
    "df = pd.read_csv(\"../data/data_for_training/final_training_data/Subtweets_Classifier_Training_Data.csv\")"
   ]
  },
  {
   "cell_type": "markdown",
   "metadata": {},
   "source": [
    "#### Create training and test sets from the single training set I made before"
   ]
  },
  {
   "cell_type": "code",
   "execution_count": 5,
   "metadata": {},
   "outputs": [],
   "source": [
    "text_train, text_test, class_train, class_test = train_test_split(df.alleged_subtweet.tolist(), \n",
    "                                                                  df.is_subtweet.tolist())"
   ]
  },
  {
   "cell_type": "markdown",
   "metadata": {},
   "source": [
    "#### Use NLTK's tokenizer instead of Scikit's"
   ]
  },
  {
   "cell_type": "code",
   "execution_count": 6,
   "metadata": {},
   "outputs": [],
   "source": [
    "tokenizer = nltk.casual.TweetTokenizer(preserve_case=False, reduce_len=True)"
   ]
  },
  {
   "cell_type": "markdown",
   "metadata": {},
   "source": [
    "#### Function for managing TextBlob polarities"
   ]
  },
  {
   "cell_type": "code",
   "execution_count": 7,
   "metadata": {},
   "outputs": [],
   "source": [
    "def simplify_polarity(polarity):\n",
    "    if polarity >= 0:\n",
    "        return 1\n",
    "    return 0"
   ]
  },
  {
   "cell_type": "markdown",
   "metadata": {},
   "source": [
    "#### Class for distinguishing polarizing parts of speech as features"
   ]
  },
  {
   "cell_type": "code",
   "execution_count": 8,
   "metadata": {
    "code_folding": []
   },
   "outputs": [],
   "source": [
    "class TweetStats(BaseEstimator, TransformerMixin):\n",
    "    def fit(self, x, y=None):\n",
    "        return self\n",
    "\n",
    "    def transform(self, posts):\n",
    "        first_names = [\"Aaliyah\", \"Aaron\", \"Abby\", \"Abigail\", \"Abraham\", \"Adam\",\n",
    "                       \"Addison\", \"Adrian\", \"Adriana\", \"Adrianna\", \"Aidan\", \"Aiden\",\n",
    "                       \"Alan\", \"Alana\", \"Alejandro\", \"Alex\", \"Alexa\", \"Alexander\",\n",
    "                       \"Alexandra\", \"Alexandria\", \"Alexia\", \"Alexis\", \"Alicia\", \"Allison\",\n",
    "                       \"Alondra\", \"Alyssa\", \"Amanda\", \"Amber\", \"Amelia\", \"Amy\",\n",
    "                       \"Ana\", \"Andrea\", \"Andres\", \"Andrew\", \"Angel\", \"Angela\",\n",
    "                       \"Angelica\", \"Angelina\", \"Anna\", \"Anthony\", \"Antonio\", \"Ariana\",\n",
    "                       \"Arianna\", \"Ashley\", \"Ashlyn\", \"Ashton\", \"Aubrey\", \"Audrey\",\n",
    "                       \"Austin\", \"Autumn\", \"Ava\", \"Avery\", \"Ayden\", \"Bailey\",\n",
    "                       \"Benjamin\", \"Bianca\", \"Blake\", \"Braden\", \"Bradley\", \"Brady\",\n",
    "                       \"Brandon\", \"Brayden\", \"Breanna\", \"Brendan\", \"Brian\", \"Briana\",\n",
    "                       \"Brianna\", \"Brittany\", \"Brody\", \"Brooke\", \"Brooklyn\", \"Bryan\",\n",
    "                       \"Bryce\", \"Bryson\", \"Caden\", \"Caitlin\", \"Caitlyn\", \"Caleb\",\n",
    "                       \"Cameron\", \"Camila\", \"Carlos\", \"Caroline\", \"Carson\", \"Carter\",\n",
    "                       \"Cassandra\", \"Cassidy\", \"Catherine\", \"Cesar\", \"Charles\", \"Charlotte\",\n",
    "                       \"Chase\", \"Chelsea\", \"Cheyenne\", \"Chloe\", \"Christian\", \"Christina\",\n",
    "                       \"Christopher\", \"Claire\", \"Cody\", \"Colby\", \"Cole\", \"Colin\",\n",
    "                       \"Collin\", \"Colton\", \"Conner\", \"Connor\", \"Cooper\", \"Courtney\",\n",
    "                       \"Cristian\", \"Crystal\", \"Daisy\", \"Dakota\", \"Dalton\", \"Damian\",\n",
    "                       \"Daniel\", \"Daniela\", \"Danielle\", \"David\", \"Delaney\", \"Derek\",\n",
    "                       \"Destiny\", \"Devin\", \"Devon\", \"Diana\", \"Diego\", \"Dominic\",\n",
    "                       \"Donovan\", \"Dylan\", \"Edgar\", \"Eduardo\", \"Edward\", \"Edwin\",\n",
    "                       \"Eli\", \"Elias\", \"Elijah\", \"Elizabeth\", \"Ella\", \"Ellie\", \n",
    "                       \"Emily\", \"Emma\", \"Emmanuel\", \"Eric\", \"Erica\", \"Erick\",\n",
    "                       \"Erik\", \"Erin\", \"Ethan\", \"Eva\", \"Evan\", \"Evelyn\",\n",
    "                       \"Faith\", \"Fernando\", \"Francisco\", \"Gabriel\", \"Gabriela\", \"Gabriella\",\n",
    "                       \"Gabrielle\", \"Gage\", \"Garrett\", \"Gavin\", \"Genesis\", \"George\",\n",
    "                       \"Gianna\", \"Giovanni\", \"Giselle\", \"Grace\", \"Gracie\", \"Grant\",\n",
    "                       \"Gregory\", \"Hailey\", \"Haley\", \"Hannah\", \"Hayden\", \"Hector\",\n",
    "                       \"Henry\", \"Hope\", \"Hunter\", \"Ian\", \"Isaac\", \"Isabel\",\n",
    "                       \"Isabella\", \"Isabelle\", \"Isaiah\", \"Ivan\", \"Jack\", \"Jackson\",\n",
    "                       \"Jacob\", \"Jacqueline\", \"Jada\", \"Jade\", \"Jaden\", \"Jake\",\n",
    "                       \"Jalen\", \"James\", \"Jared\", \"Jasmin\", \"Jasmine\", \"Jason\", \n",
    "                       \"Javier\", \"Jayden\", \"Jayla\", \"Jazmin\", \"Jeffrey\", \"Jenna\",\n",
    "                       \"Jennifer\", \"Jeremiah\", \"Jeremy\", \"Jesse\", \"Jessica\", \"Jesus\",\n",
    "                       \"Jillian\", \"Jocelyn\", \"Joel\", \"John\", \"Johnathan\", \"Jonah\",\n",
    "                       \"Jonathan\", \"Jordan\", \"Jordyn\", \"Jorge\", \"Jose\", \"Joseph\",\n",
    "                       \"Joshua\", \"Josiah\", \"Juan\", \"Julia\", \"Julian\", \"Juliana\",\n",
    "                       \"Justin\", \"Kaden\", \"Kaitlyn\", \"Kaleb\", \"Karen\", \"Karina\",\n",
    "                       \"Kate\", \"Katelyn\", \"Katherine\", \"Kathryn\", \"Katie\", \"Kayla\",\n",
    "                       \"Kaylee\", \"Kelly\", \"Kelsey\", \"Kendall\", \"Kennedy\", \"Kenneth\",\n",
    "                       \"Kevin\", \"Kiara\", \"Kimberly\", \"Kyle\", \"Kylee\", \"Kylie\",\n",
    "                       \"Landon\", \"Laura\", \"Lauren\", \"Layla\", \"Leah\", \"Leonardo\",\n",
    "                       \"Leslie\", \"Levi\", \"Liam\", \"Liliana\", \"Lillian\", \"Lilly\",\n",
    "                       \"Lily\", \"Lindsey\", \"Logan\", \"Lucas\", \"Lucy\", \"Luis\",\n",
    "                       \"Luke\", \"Lydia\", \"Mackenzie\", \"Madeline\", \"Madelyn\", \"Madison\",\n",
    "                       \"Makayla\", \"Makenzie\", \"Malachi\", \"Manuel\", \"Marco\", \"Marcus\",\n",
    "                       \"Margaret\", \"Maria\", \"Mariah\", \"Mario\", \"Marissa\", \"Mark\",\n",
    "                       \"Martin\", \"Mary\", \"Mason\", \"Matthew\", \"Max\", \"Maxwell\",\n",
    "                       \"Maya\", \"Mckenzie\", \"Megan\", \"Melanie\", \"Melissa\", \"Mia\",\n",
    "                       \"Micah\", \"Michael\", \"Michelle\", \"Miguel\", \"Mikayla\", \"Miranda\",\n",
    "                       \"Molly\", \"Morgan\", \"Mya\", \"Naomi\", \"Natalia\", \"Natalie\",\n",
    "                       \"Nathan\", \"Nathaniel\", \"Nevaeh\", \"Nicholas\", \"Nicolas\", \"Nicole\",\n",
    "                       \"Noah\", \"Nolan\", \"Oliver\", \"Olivia\", \"Omar\", \"Oscar\",\n",
    "                       \"Owen\", \"Paige\", \"Parker\", \"Patrick\", \"Paul\", \"Payton\",\n",
    "                       \"Peter\", \"Peyton\", \"Preston\", \"Rachel\", \"Raymond\", \"Reagan\",\n",
    "                       \"Rebecca\", \"Ricardo\", \"Richard\", \"Riley\", \"Robert\", \"Ruby\",\n",
    "                       \"Ryan\", \"Rylee\", \"Sabrina\", \"Sadie\", \"Samantha\", \"Samuel\",\n",
    "                       \"Sara\", \"Sarah\", \"Savannah\", \"Sean\", \"Sebastian\", \"Serenity\",\n",
    "                       \"Sergio\", \"Seth\", \"Shane\", \"Shawn\", \"Shelby\", \"Sierra\",\n",
    "                       \"Skylar\", \"Sofia\", \"Sophia\", \"Sophie\", \"Spencer\", \"Stephanie\",\n",
    "                       \"Stephen\", \"Steven\", \"Summer\", \"Sydney\", \"Tanner\", \"Taylor\", \n",
    "                       \"Thomas\", \"Tiffany\", \"Timothy\", \"Travis\", \"Trenton\", \"Trevor\",\n",
    "                       \"Trinity\", \"Tristan\", \"Tyler\", \"Valeria\", \"Valerie\", \"Vanessa\",\n",
    "                       \"Veronica\", \"Victor\", \"Victoria\", \"Vincent\", \"Wesley\", \"William\",\n",
    "                       \"Wyatt\", \"Xavier\", \"Zachary\", \"Zoe\", \"Zoey\"]\n",
    "        first_names_lower = set([name.lower() for name in first_names])\n",
    "\n",
    "        pronouns = [\"You\", \"You're\", \"Your\", \n",
    "                    \"She\", \"She's\", \"Her\", \"Hers\", \n",
    "                    \"He\", \"He's\", \"Him\", \"His\", \n",
    "                    \"They\", \"They're\", \"Them\", \"Their\", \"Theirs\"]\n",
    "        prounouns_lower = set([pronoun.lower() for pronoun in pronouns])\n",
    "        \n",
    "        first_person_pronouns = [\"I\", \"I'm\", \"We\", \"We're\", \"Our\", \"My\", \"Us\"]\n",
    "        first_person_pronouns_lower = set([pronoun.lower() for pronoun in first_person_pronouns])\n",
    "        \n",
    "        pattern = \"(?:http|ftp|https)://(?:[\\w_-]+(?:(?:\\.[\\w_-]+)+))(?:[\\w.,@?^=%&:/~+#-]*[\\w@?^=%&/~+#-])?\"\n",
    "        \n",
    "        final_output = []\n",
    "        for text in posts:\n",
    "            tokenized_text = tokenizer.tokenize(text)\n",
    "            \n",
    "            num_pronouns = len(prounouns_lower.intersection(tokenized_text))\n",
    "            num_names = len(first_names_lower.intersection(tokenized_text))\n",
    "            num_first_person = len(first_person_pronouns_lower.intersection(tokenized_text))\n",
    "            num_at_symbols = text.count(\"@\")\n",
    "            num_subtweet = text.count(\"subtweet\") + text.count(\"Subtweet\")\n",
    "            num_urls = len(re.findall(pattern, text))\n",
    "            \n",
    "            weighted_dict = {\"length\": len(text),\n",
    "                             \"sentiment\": simplify_polarity(TextBlob(text).sentiment.polarity), \n",
    "                             \"num_subtweet\": num_subtweet,\n",
    "                             \"num_at_symbols\": num_at_symbols, \n",
    "                             \"num_urls\": num_urls,\n",
    "                             \"num_pronouns\": num_pronouns,\n",
    "                             \"num_names\": num_names, \n",
    "                             \"num_first_person\": num_first_person, \n",
    "                             \"num_at_symbols\": num_at_symbols,\n",
    "                             \"num_subtweet\": num_subtweet,\n",
    "                             \"num_urls\": num_urls}\n",
    "            final_output.append(weighted_dict)\n",
    "        return final_output"
   ]
  },
  {
   "cell_type": "markdown",
   "metadata": {},
   "source": [
    "#### Build the pipeline"
   ]
  },
  {
   "cell_type": "code",
   "execution_count": 9,
   "metadata": {},
   "outputs": [],
   "source": [
    "sentiment_pipeline = Pipeline([\n",
    "    (\"features\", FeatureUnion([\n",
    "        (\"ngram_tf_idf\", Pipeline([\n",
    "            (\"counts\", CountVectorizer(tokenizer=tokenizer.tokenize)),\n",
    "            (\"tf_idf\", TfidfTransformer())\n",
    "        ])),\n",
    "        (\"stats_vect\", Pipeline([\n",
    "            (\"tweet_stats\", TweetStats()),\n",
    "            (\"vect\", DictVectorizer())\n",
    "        ]))\n",
    "    ])),\n",
    "    (\"classifier\", MultinomialNB())\n",
    "])"
   ]
  },
  {
   "cell_type": "markdown",
   "metadata": {},
   "source": [
    "#### Show the results"
   ]
  },
  {
   "cell_type": "code",
   "execution_count": 10,
   "metadata": {},
   "outputs": [],
   "source": [
    "sentiment_pipeline.fit(text_train, class_train)\n",
    "predictions = sentiment_pipeline.predict(text_test)"
   ]
  },
  {
   "cell_type": "code",
   "execution_count": 11,
   "metadata": {},
   "outputs": [
    {
     "name": "stdout",
     "output_type": "stream",
     "text": [
      "             precision    recall  f1-score   support\n",
      "\n",
      "   negative       0.98      0.84      0.90      1428\n",
      "   positive       0.86      0.99      0.92      1415\n",
      "\n",
      "avg / total       0.92      0.91      0.91      2843\n",
      "\n"
     ]
    }
   ],
   "source": [
    "print(classification_report(class_test, predictions))"
   ]
  },
  {
   "cell_type": "markdown",
   "metadata": {},
   "source": [
    "#### Define function for visualizing confusion matrices"
   ]
  },
  {
   "cell_type": "code",
   "execution_count": 12,
   "metadata": {},
   "outputs": [],
   "source": [
    "def plot_confusion_matrix(cm, classes, normalize=False,\n",
    "                          title='Confusion matrix', cmap=plt.cm.Blues):\n",
    "    if normalize:\n",
    "        cm = cm.astype('float') / cm.sum(axis=1)[:, np.newaxis]\n",
    "\n",
    "    plt.imshow(cm, interpolation='nearest', cmap=cmap)\n",
    "    plt.title(title)\n",
    "    plt.colorbar()\n",
    "    tick_marks = np.arange(len(classes))\n",
    "    plt.xticks(tick_marks, classes, rotation=45)\n",
    "    plt.yticks(tick_marks, classes)\n",
    "\n",
    "    fmt = '.2f' if normalize else 'd'\n",
    "    thresh = cm.max() / 2.\n",
    "    for i, j in itertools.product(range(cm.shape[0]), range(cm.shape[1])):\n",
    "        plt.text(j, i, format(cm[i, j], fmt),\n",
    "                 horizontalalignment=\"center\",\n",
    "                 color=\"white\" if cm[i, j] > thresh else \"black\")\n",
    "\n",
    "    plt.tight_layout()\n",
    "    plt.ylabel('True label')\n",
    "    plt.xlabel('Predicted label')"
   ]
  },
  {
   "cell_type": "markdown",
   "metadata": {},
   "source": [
    "#### Show the matrices"
   ]
  },
  {
   "cell_type": "code",
   "execution_count": 13,
   "metadata": {},
   "outputs": [
    {
     "data": {
      "image/png": "[encoded data removed]",
      "text/plain": [
       "<Figure size 432x288 with 2 Axes>"
      ]
     },
     "metadata": {},
     "output_type": "display_data"
    },
    {
     "data": {
      "image/png": "[encoded data removed]",
      "text/plain": [
       "<Figure size 432x288 with 2 Axes>"
      ]
     },
     "metadata": {},
     "output_type": "display_data"
    }
   ],
   "source": [
    "class_names = [\"negative\", \"positive\"]\n",
    "\n",
    "cnf_matrix = confusion_matrix(class_test, predictions)\n",
    "np.set_printoptions(precision=2)\n",
    "\n",
    "plt.figure()\n",
    "plot_confusion_matrix(cnf_matrix, classes=class_names,\n",
    "                      title='Confusion matrix, without normalization')\n",
    "\n",
    "plt.figure()\n",
    "plot_confusion_matrix(cnf_matrix, classes=class_names, normalize=True,\n",
    "                      title='Normalized confusion matrix')\n",
    "\n",
    "plt.show()"
   ]
  },
  {
   "cell_type": "markdown",
   "metadata": {},
   "source": [
    "#### Save the classifier for another time"
   ]
  },
  {
   "cell_type": "code",
   "execution_count": 14,
   "metadata": {},
   "outputs": [],
   "source": [
    "joblib.dump(sentiment_pipeline, \"../data/other_data/subtweets_classifier.pkl\");"
   ]
  },
  {
   "cell_type": "markdown",
   "metadata": {},
   "source": [
    "#### Print tests for the classifier"
   ]
  },
  {
   "cell_type": "code",
   "execution_count": 15,
   "metadata": {},
   "outputs": [],
   "source": [
    "def tests_dataframe(tweets_dataframe, text_column=\"SentimentText\", sentiment_column=\"Sentiment\"):\n",
    "    predictions = sentiment_pipeline.predict_proba(tweets_dataframe[text_column])\n",
    "    negative_probability = predictions[:, 0].tolist()\n",
    "    positive_probability = predictions[:, 1].tolist()\n",
    "    return pd.DataFrame({\"tweet\": tweets_dataframe[text_column], \n",
    "                         \"sentiment_score\": tweets_dataframe[sentiment_column], \n",
    "                         \"subtweet_negative_probability\": negative_probability, \n",
    "                         \"subtweet_positive_probability\": positive_probability}).sort_values(by=\"subtweet_positive_probability\", \n",
    "                                                                                             ascending=False)"
   ]
  },
  {
   "cell_type": "markdown",
   "metadata": {},
   "source": [
    "#### Make up some tweets"
   ]
  },
  {
   "cell_type": "code",
   "execution_count": 16,
   "metadata": {},
   "outputs": [],
   "source": [
    "test_tweets = [\"Some people don't know their place.\", \n",
    "               \"Isn't it funny how some people don't know their place?\", \n",
    "               \"How come you people act like this?\", \n",
    "               \"You're such a nerd.\",\n",
    "               \"I love Noah, he's so cool.\",\n",
    "               \"Who the heck is Noah?\",\n",
    "               \"This is a @NoahSegalGould subtweet. Go check out https://segal-gould.com.\", \n",
    "               \"This is a subtweet.\", \n",
    "               \"Hey @jack!\", \n",
    "               \"Hey Jack!\",\n",
    "               \"http://www.google.com\"]"
   ]
  },
  {
   "cell_type": "markdown",
   "metadata": {},
   "source": [
    "#### Make a dataframe from the list"
   ]
  },
  {
   "cell_type": "code",
   "execution_count": 17,
   "metadata": {},
   "outputs": [],
   "source": [
    "test_tweets_df = pd.DataFrame({\"Tweet\": test_tweets, \"Sentiment\": [None]*len(test_tweets)})"
   ]
  },
  {
   "cell_type": "markdown",
   "metadata": {},
   "source": [
    "#### Print the tests"
   ]
  },
  {
   "cell_type": "code",
   "execution_count": 18,
   "metadata": {},
   "outputs": [
    {
     "data": {
      "text/html": [
       "<div>\n",
       "<style scoped>\n",
       "    .dataframe tbody tr th:only-of-type {\n",
       "        vertical-align: middle;\n",
       "    }\n",
       "\n",
       "    .dataframe tbody tr th {\n",
       "        vertical-align: top;\n",
       "    }\n",
       "\n",
       "    .dataframe thead th {\n",
       "        text-align: right;\n",
       "    }\n",
       "</style>\n",
       "<table border=\"1\" class=\"dataframe\">\n",
       "  <thead>\n",
       "    <tr style=\"text-align: right;\">\n",
       "      <th></th>\n",
       "      <th>sentiment_score</th>\n",
       "      <th>subtweet_negative_probability</th>\n",
       "      <th>subtweet_positive_probability</th>\n",
       "      <th>tweet</th>\n",
       "    </tr>\n",
       "  </thead>\n",
       "  <tbody>\n",
       "    <tr>\n",
       "      <th>1</th>\n",
       "      <td>None</td>\n",
       "      <td>0.039673</td>\n",
       "      <td>0.960327</td>\n",
       "      <td>Isn't it funny how some people don't know their place?</td>\n",
       "    </tr>\n",
       "    <tr>\n",
       "      <th>0</th>\n",
       "      <td>None</td>\n",
       "      <td>0.063204</td>\n",
       "      <td>0.936796</td>\n",
       "      <td>Some people don't know their place.</td>\n",
       "    </tr>\n",
       "    <tr>\n",
       "      <th>2</th>\n",
       "      <td>None</td>\n",
       "      <td>0.124174</td>\n",
       "      <td>0.875826</td>\n",
       "      <td>How come you people act like this?</td>\n",
       "    </tr>\n",
       "    <tr>\n",
       "      <th>3</th>\n",
       "      <td>None</td>\n",
       "      <td>0.342492</td>\n",
       "      <td>0.657508</td>\n",
       "      <td>You're such a nerd.</td>\n",
       "    </tr>\n",
       "    <tr>\n",
       "      <th>4</th>\n",
       "      <td>None</td>\n",
       "      <td>0.342841</td>\n",
       "      <td>0.657159</td>\n",
       "      <td>I love Noah, he's so cool.</td>\n",
       "    </tr>\n",
       "  </tbody>\n",
       "</table>\n",
       "</div>"
      ],
      "text/plain": [
       "  sentiment_score  subtweet_negative_probability  \\\n",
       "1            None                       0.039673   \n",
       "0            None                       0.063204   \n",
       "2            None                       0.124174   \n",
       "3            None                       0.342492   \n",
       "4            None                       0.342841   \n",
       "\n",
       "   subtweet_positive_probability  \\\n",
       "1                       0.960327   \n",
       "0                       0.936796   \n",
       "2                       0.875826   \n",
       "3                       0.657508   \n",
       "4                       0.657159   \n",
       "\n",
       "                                                    tweet  \n",
       "1  Isn't it funny how some people don't know their place?  \n",
       "0                     Some people don't know their place.  \n",
       "2                      How come you people act like this?  \n",
       "3                                     You're such a nerd.  \n",
       "4                              I love Noah, he's so cool.  "
      ]
     },
     "execution_count": 18,
     "metadata": {},
     "output_type": "execute_result"
    }
   ],
   "source": [
    "tests_dataframe(test_tweets_df, text_column=\"Tweet\", sentiment_column=\"Sentiment\").head()"
   ]
  },
  {
   "cell_type": "markdown",
   "metadata": {},
   "source": [
    "#### Test on actual tweets"
   ]
  },
  {
   "cell_type": "code",
   "execution_count": 19,
   "metadata": {},
   "outputs": [
    {
     "name": "stderr",
     "output_type": "stream",
     "text": [
      "b'Skipping line 8836: expected 4 fields, saw 5\\n'\n",
      "b'Skipping line 535882: expected 4 fields, saw 7\\n'\n"
     ]
    }
   ],
   "source": [
    "naji_df = pd.read_csv(\"../data/data_for_testing/other_data/naji_data.csv\", error_bad_lines=False)"
   ]
  },
  {
   "cell_type": "markdown",
   "metadata": {},
   "source": [
    "#### Repair some leftover HTML"
   ]
  },
  {
   "cell_type": "code",
   "execution_count": 20,
   "metadata": {},
   "outputs": [],
   "source": [
    "naji_df[\"SentimentText\"] = naji_df[\"SentimentText\"].str.replace(\"&quot;\", \"\\\"\")\n",
    "naji_df[\"SentimentText\"] = naji_df[\"SentimentText\"].str.replace(\"&amp;\", \"&\")\n",
    "naji_df[\"SentimentText\"] = naji_df[\"SentimentText\"].str.replace(\"&gt;\", \">\")\n",
    "naji_df[\"SentimentText\"] = naji_df[\"SentimentText\"].str.replace(\"&lt;\", \"<\")"
   ]
  },
  {
   "cell_type": "markdown",
   "metadata": {},
   "source": [
    "#### Remove rows with non-English"
   ]
  },
  {
   "cell_type": "code",
   "execution_count": 21,
   "metadata": {},
   "outputs": [],
   "source": [
    "def is_english(s):\n",
    "    return all(ord(char) < 128 for char in s)"
   ]
  },
  {
   "cell_type": "code",
   "execution_count": 22,
   "metadata": {},
   "outputs": [],
   "source": [
    "naji_df = naji_df[naji_df[\"SentimentText\"].map(is_english)]"
   ]
  },
  {
   "cell_type": "markdown",
   "metadata": {},
   "source": [
    "#### Show the length of the dataset"
   ]
  },
  {
   "cell_type": "code",
   "execution_count": 23,
   "metadata": {},
   "outputs": [
    {
     "name": "stdout",
     "output_type": "stream",
     "text": [
      "Length of dataset: 1564156\n"
     ]
    }
   ],
   "source": [
    "print(\"Length of dataset: {}\".format(len(naji_df)))"
   ]
  },
  {
   "cell_type": "markdown",
   "metadata": {},
   "source": [
    "#### Use randomly selected 100K rows from dataset"
   ]
  },
  {
   "cell_type": "code",
   "execution_count": 24,
   "metadata": {},
   "outputs": [],
   "source": [
    "naji_df = naji_df.sample(n=100000).reset_index(drop=True)"
   ]
  },
  {
   "cell_type": "markdown",
   "metadata": {},
   "source": [
    "#### Print and time the tests"
   ]
  },
  {
   "cell_type": "code",
   "execution_count": 25,
   "metadata": {
    "scrolled": false
   },
   "outputs": [
    {
     "name": "stdout",
     "output_type": "stream",
     "text": [
      "CPU times: user 1min 31s, sys: 1.57 s, total: 1min 33s\n",
      "Wall time: 1min 40s\n"
     ]
    }
   ],
   "source": [
    "%%time\n",
    "naji_df = tests_dataframe(naji_df)"
   ]
  },
  {
   "cell_type": "code",
   "execution_count": 26,
   "metadata": {},
   "outputs": [],
   "source": [
    "naji_df.to_csv(\"../data/data_from_testing/other_data/naji_tests.csv\")"
   ]
  },
  {
   "cell_type": "markdown",
   "metadata": {},
   "source": [
    "#### Plot the results"
   ]
  },
  {
   "cell_type": "code",
   "execution_count": 27,
   "metadata": {},
   "outputs": [],
   "source": [
    "naji_df_columns = [\"sentiment_score\", \"subtweet_negative_probability\", \"tweet\"]"
   ]
  },
  {
   "cell_type": "code",
   "execution_count": 28,
   "metadata": {},
   "outputs": [],
   "source": [
    "naji_df_for_plotting = naji_df.drop(naji_df_columns, axis=1).head(10)"
   ]
  },
  {
   "cell_type": "code",
   "execution_count": 29,
   "metadata": {},
   "outputs": [
    {
     "data": {
      "text/html": [
       "<div>\n",
       "<style scoped>\n",
       "    .dataframe tbody tr th:only-of-type {\n",
       "        vertical-align: middle;\n",
       "    }\n",
       "\n",
       "    .dataframe tbody tr th {\n",
       "        vertical-align: top;\n",
       "    }\n",
       "\n",
       "    .dataframe thead th {\n",
       "        text-align: right;\n",
       "    }\n",
       "</style>\n",
       "<table border=\"1\" class=\"dataframe\">\n",
       "  <thead>\n",
       "    <tr style=\"text-align: right;\">\n",
       "      <th></th>\n",
       "      <th>sentiment_score</th>\n",
       "      <th>subtweet_negative_probability</th>\n",
       "      <th>subtweet_positive_probability</th>\n",
       "      <th>tweet</th>\n",
       "    </tr>\n",
       "  </thead>\n",
       "  <tbody>\n",
       "    <tr>\n",
       "      <th>49673</th>\n",
       "      <td>0</td>\n",
       "      <td>0.000766</td>\n",
       "      <td>0.999234</td>\n",
       "      <td>Penguins lost   I wish when people twisted your words that you could go pull the words out of there mouth in the form of barbed wire.</td>\n",
       "    </tr>\n",
       "    <tr>\n",
       "      <th>27415</th>\n",
       "      <td>1</td>\n",
       "      <td>0.000898</td>\n",
       "      <td>0.999102</td>\n",
       "      <td>Just waking up thinking about my \"bend over boyfriend\" and how I will fuck him hard with a huge dildo until he cums likes a bitch for me</td>\n",
       "    </tr>\n",
       "    <tr>\n",
       "      <th>57753</th>\n",
       "      <td>0</td>\n",
       "      <td>0.000931</td>\n",
       "      <td>0.999069</td>\n",
       "      <td>Ugh I have to go to a baseball game with the most gay and annoying kid in school.  he is such a fag and has no friends, but thinks he does</td>\n",
       "    </tr>\n",
       "    <tr>\n",
       "      <th>11033</th>\n",
       "      <td>0</td>\n",
       "      <td>0.001028</td>\n",
       "      <td>0.998972</td>\n",
       "      <td>As a former Horticulture major I am driven to foamy fits when I see people hosing down their shrubs thinking they are actually watering</td>\n",
       "    </tr>\n",
       "    <tr>\n",
       "      <th>52437</th>\n",
       "      <td>1</td>\n",
       "      <td>0.001058</td>\n",
       "      <td>0.998942</td>\n",
       "      <td>My boys have spent the last two nights at their grandparents. I hate going past their empty little rooms. I want them back now please!</td>\n",
       "    </tr>\n",
       "    <tr>\n",
       "      <th>11740</th>\n",
       "      <td>1</td>\n",
       "      <td>0.001090</td>\n",
       "      <td>0.998910</td>\n",
       "      <td>Someone taught my little sister how to say the Shahada, now she won't shut up. We have to send her to her room when ppl stop by</td>\n",
       "    </tr>\n",
       "    <tr>\n",
       "      <th>17433</th>\n",
       "      <td>0</td>\n",
       "      <td>0.001121</td>\n",
       "      <td>0.998879</td>\n",
       "      <td>My friend is in a bad situation. She has a BF who is a great dad to their daughter, but he has a terrible gambling habit. IDK what to say</td>\n",
       "    </tr>\n",
       "    <tr>\n",
       "      <th>43879</th>\n",
       "      <td>0</td>\n",
       "      <td>0.001232</td>\n",
       "      <td>0.998768</td>\n",
       "      <td>Im done with dating. All guys are they same. They are all selfish assholes who have the same desires when it comes to girls.</td>\n",
       "    </tr>\n",
       "    <tr>\n",
       "      <th>20533</th>\n",
       "      <td>1</td>\n",
       "      <td>0.001238</td>\n",
       "      <td>0.998762</td>\n",
       "      <td>I love being able to be loud after 9:30  Benefit of being home with the dogs, who will only tilt their heads at me, if they notice at all.</td>\n",
       "    </tr>\n",
       "    <tr>\n",
       "      <th>37778</th>\n",
       "      <td>0</td>\n",
       "      <td>0.001299</td>\n",
       "      <td>0.998701</td>\n",
       "      <td>i think people should stop lying to get what they want. i want them to tell the truth and stop making me feel horrid about it.</td>\n",
       "    </tr>\n",
       "  </tbody>\n",
       "</table>\n",
       "</div>"
      ],
      "text/plain": [
       "       sentiment_score  subtweet_negative_probability  \\\n",
       "49673                0                       0.000766   \n",
       "27415                1                       0.000898   \n",
       "57753                0                       0.000931   \n",
       "11033                0                       0.001028   \n",
       "52437                1                       0.001058   \n",
       "11740                1                       0.001090   \n",
       "17433                0                       0.001121   \n",
       "43879                0                       0.001232   \n",
       "20533                1                       0.001238   \n",
       "37778                0                       0.001299   \n",
       "\n",
       "       subtweet_positive_probability  \\\n",
       "49673                       0.999234   \n",
       "27415                       0.999102   \n",
       "57753                       0.999069   \n",
       "11033                       0.998972   \n",
       "52437                       0.998942   \n",
       "11740                       0.998910   \n",
       "17433                       0.998879   \n",
       "43879                       0.998768   \n",
       "20533                       0.998762   \n",
       "37778                       0.998701   \n",
       "\n",
       "                                                                                                                                            tweet  \n",
       "49673       Penguins lost   I wish when people twisted your words that you could go pull the words out of there mouth in the form of barbed wire.  \n",
       "27415   Just waking up thinking about my \"bend over boyfriend\" and how I will fuck him hard with a huge dildo until he cums likes a bitch for me   \n",
       "57753  Ugh I have to go to a baseball game with the most gay and annoying kid in school.  he is such a fag and has no friends, but thinks he does  \n",
       "11033    As a former Horticulture major I am driven to foamy fits when I see people hosing down their shrubs thinking they are actually watering   \n",
       "52437     My boys have spent the last two nights at their grandparents. I hate going past their empty little rooms. I want them back now please!   \n",
       "11740            Someone taught my little sister how to say the Shahada, now she won't shut up. We have to send her to her room when ppl stop by   \n",
       "17433  My friend is in a bad situation. She has a BF who is a great dad to their daughter, but he has a terrible gambling habit. IDK what to say   \n",
       "43879               Im done with dating. All guys are they same. They are all selfish assholes who have the same desires when it comes to girls.   \n",
       "20533  I love being able to be loud after 9:30  Benefit of being home with the dogs, who will only tilt their heads at me, if they notice at all.  \n",
       "37778             i think people should stop lying to get what they want. i want them to tell the truth and stop making me feel horrid about it.   "
      ]
     },
     "execution_count": 29,
     "metadata": {},
     "output_type": "execute_result"
    }
   ],
   "source": [
    "naji_df.head(10)"
   ]
  },
  {
   "cell_type": "code",
   "execution_count": 30,
   "metadata": {},
   "outputs": [
    {
     "data": {
      "image/png": "[encoded data removed]",
      "text/plain": [
       "<Figure size 1152x648 with 1 Axes>"
      ]
     },
     "metadata": {},
     "output_type": "display_data"
    }
   ],
   "source": [
    "ax = naji_df_for_plotting.plot.barh(logx=True, figsize=(16, 9), color=\"maroon\", fontsize=13);\n",
    "ax.set_alpha(0.8)\n",
    "ax.set_title(\"Naji Dataset Randomly Selected Subtweets Test\", fontsize=18)\n",
    "ax.set_ylabel(\"Row Index\", fontsize=18);\n",
    "ax.set_xlabel(\"Subtweet Percentage Probability (logarithmic)\", fontsize=18);\n",
    "for i in ax.patches:\n",
    "    ax.text(i.get_width(), i.get_y() + 0.325, \"{:.3%}\".format(i.get_width()), fontsize=10, color=\"black\")\n",
    "ax.invert_yaxis()"
   ]
  },
  {
   "cell_type": "markdown",
   "metadata": {},
   "source": [
    "#### Tests on friends' tweets"
   ]
  },
  {
   "cell_type": "markdown",
   "metadata": {},
   "source": [
    "#### Aaron"
   ]
  },
  {
   "cell_type": "code",
   "execution_count": 31,
   "metadata": {},
   "outputs": [],
   "source": [
    "aaron_df = pd.read_csv(\"../data/data_for_testing/friends_data/akrapf96_tweets.csv\").dropna()\n",
    "aaron_df[\"Sentiment\"] = None"
   ]
  },
  {
   "cell_type": "code",
   "execution_count": 32,
   "metadata": {
    "scrolled": true
   },
   "outputs": [
    {
     "name": "stdout",
     "output_type": "stream",
     "text": [
      "CPU times: user 2.84 s, sys: 20 ms, total: 2.86 s\n",
      "Wall time: 2.87 s\n"
     ]
    }
   ],
   "source": [
    "%%time\n",
    "aaron_df = tests_dataframe(aaron_df, text_column=\"Text\", sentiment_column=\"Sentiment\")"
   ]
  },
  {
   "cell_type": "code",
   "execution_count": 33,
   "metadata": {},
   "outputs": [],
   "source": [
    "aaron_df.to_csv(\"../data/data_from_testing/friends_data/akrapf96_tests.csv\")"
   ]
  },
  {
   "cell_type": "code",
   "execution_count": 34,
   "metadata": {},
   "outputs": [],
   "source": [
    "aaron_df_columns = [\"sentiment_score\", \"subtweet_negative_probability\", \"tweet\"]"
   ]
  },
  {
   "cell_type": "code",
   "execution_count": 35,
   "metadata": {},
   "outputs": [],
   "source": [
    "aaron_df_for_plotting = aaron_df.drop(aaron_df_columns, axis=1).head(10)"
   ]
  },
  {
   "cell_type": "code",
   "execution_count": 36,
   "metadata": {},
   "outputs": [
    {
     "data": {
      "text/html": [
       "<div>\n",
       "<style scoped>\n",
       "    .dataframe tbody tr th:only-of-type {\n",
       "        vertical-align: middle;\n",
       "    }\n",
       "\n",
       "    .dataframe tbody tr th {\n",
       "        vertical-align: top;\n",
       "    }\n",
       "\n",
       "    .dataframe thead th {\n",
       "        text-align: right;\n",
       "    }\n",
       "</style>\n",
       "<table border=\"1\" class=\"dataframe\">\n",
       "  <thead>\n",
       "    <tr style=\"text-align: right;\">\n",
       "      <th></th>\n",
       "      <th>sentiment_score</th>\n",
       "      <th>subtweet_negative_probability</th>\n",
       "      <th>subtweet_positive_probability</th>\n",
       "      <th>tweet</th>\n",
       "    </tr>\n",
       "  </thead>\n",
       "  <tbody>\n",
       "    <tr>\n",
       "      <th>951</th>\n",
       "      <td>None</td>\n",
       "      <td>0.000071</td>\n",
       "      <td>0.999929</td>\n",
       "      <td>Why did twitter replace the character count with this circle meter\\nHow am I supposed to know how many characters I've gone over? This feels like it's been 140 characters. Is the 280 characters a thing now? Does everyone have it? I'm very overwhelmed by the amount of text on ...</td>\n",
       "    </tr>\n",
       "    <tr>\n",
       "      <th>742</th>\n",
       "      <td>None</td>\n",
       "      <td>0.000083</td>\n",
       "      <td>0.999917</td>\n",
       "      <td>Gonna tweet about a whole bunch of stuff to get them out of the way:\\nClocks ticking\\nWhen will it end\\nI'm so done\\nI expected this really\\nDisappointed again\\nConstantly tired\\nFuck off\\nUhhhhhhhhhhhhhhhhhh k\\nStill hungry \\nSeriously?\\nThat was quick\\nWhatever\\nIdk</td>\n",
       "    </tr>\n",
       "    <tr>\n",
       "      <th>492</th>\n",
       "      <td>None</td>\n",
       "      <td>0.000113</td>\n",
       "      <td>0.999887</td>\n",
       "      <td>The first half makes sense\\nThe second doesn't \\nBuying (obv not real values) 1 bitcoin for $20 is the same investment as 10 for $20. Yes it's cheaper but it's the $20 you invest that matters, not the # of bitcoin you get from it</td>\n",
       "    </tr>\n",
       "    <tr>\n",
       "      <th>385</th>\n",
       "      <td>None</td>\n",
       "      <td>0.000194</td>\n",
       "      <td>0.999806</td>\n",
       "      <td>My dog literally changed positions on my bed just so she could watch me eat at my desk but pretends she asleep when I look at her like I can't tell when she huffs and puffs because she's not getting any</td>\n",
       "    </tr>\n",
       "    <tr>\n",
       "      <th>412</th>\n",
       "      <td>None</td>\n",
       "      <td>0.000201</td>\n",
       "      <td>0.999799</td>\n",
       "      <td>i googled \"instant ramen keurig\" because I wanted to know if the water would be hot enough...people seriously need instructions on how to fill a ramen cup with a keurig? just put it under and press start guys come on</td>\n",
       "    </tr>\n",
       "    <tr>\n",
       "      <th>383</th>\n",
       "      <td>None</td>\n",
       "      <td>0.000266</td>\n",
       "      <td>0.999734</td>\n",
       "      <td>My dream: brought on stage in a grand theater to apologize to all of Britain, run by Winston Churchill, for pressing a publicly available button on a grounded airplane that caused damage equivalent to the entire stock value of the Red Vines Company</td>\n",
       "    </tr>\n",
       "    <tr>\n",
       "      <th>116</th>\n",
       "      <td>None</td>\n",
       "      <td>0.000281</td>\n",
       "      <td>0.999719</td>\n",
       "      <td>i had to read an article on bipolar disorder and in class the professor asked \"do any of you recognize these traits in yourselves?\" and i'm not really sure what response she was expecting</td>\n",
       "    </tr>\n",
       "    <tr>\n",
       "      <th>799</th>\n",
       "      <td>None</td>\n",
       "      <td>0.000287</td>\n",
       "      <td>0.999713</td>\n",
       "      <td>If you're going to assign mandatory readings for a class of 25+ and there's only one copy available in the library......what's wrong with scanning the pages for the class so everybody can actually get the reading</td>\n",
       "    </tr>\n",
       "    <tr>\n",
       "      <th>693</th>\n",
       "      <td>None</td>\n",
       "      <td>0.000350</td>\n",
       "      <td>0.999650</td>\n",
       "      <td>when I originally pitched my idea in meetings &amp; class I was all excited to write about several specific features I found interesting, then did a bunch of interviews about those topics, and ended up using absolutely none of that information in the final draft</td>\n",
       "    </tr>\n",
       "    <tr>\n",
       "      <th>1722</th>\n",
       "      <td>None</td>\n",
       "      <td>0.000389</td>\n",
       "      <td>0.999611</td>\n",
       "      <td>PewDiePie posts video \"apologizing\" for his Kill All Jews \"joke\" and it's really about how he makes a ton of money and the media hates him</td>\n",
       "    </tr>\n",
       "  </tbody>\n",
       "</table>\n",
       "</div>"
      ],
      "text/plain": [
       "     sentiment_score  subtweet_negative_probability  \\\n",
       "951             None                       0.000071   \n",
       "742             None                       0.000083   \n",
       "492             None                       0.000113   \n",
       "385             None                       0.000194   \n",
       "412             None                       0.000201   \n",
       "383             None                       0.000266   \n",
       "116             None                       0.000281   \n",
       "799             None                       0.000287   \n",
       "693             None                       0.000350   \n",
       "1722            None                       0.000389   \n",
       "\n",
       "      subtweet_positive_probability  \\\n",
       "951                        0.999929   \n",
       "742                        0.999917   \n",
       "492                        0.999887   \n",
       "385                        0.999806   \n",
       "412                        0.999799   \n",
       "383                        0.999734   \n",
       "116                        0.999719   \n",
       "799                        0.999713   \n",
       "693                        0.999650   \n",
       "1722                       0.999611   \n",
       "\n",
       "                                                                                                                                                                                                                                                                                        tweet  \n",
       "951   Why did twitter replace the character count with this circle meter\\nHow am I supposed to know how many characters I've gone over? This feels like it's been 140 characters. Is the 280 characters a thing now? Does everyone have it? I'm very overwhelmed by the amount of text on ...  \n",
       "742              Gonna tweet about a whole bunch of stuff to get them out of the way:\\nClocks ticking\\nWhen will it end\\nI'm so done\\nI expected this really\\nDisappointed again\\nConstantly tired\\nFuck off\\nUhhhhhhhhhhhhhhhhhh k\\nStill hungry \\nSeriously?\\nThat was quick\\nWhatever\\nIdk  \n",
       "492                                                     The first half makes sense\\nThe second doesn't \\nBuying (obv not real values) 1 bitcoin for $20 is the same investment as 10 for $20. Yes it's cheaper but it's the $20 you invest that matters, not the # of bitcoin you get from it  \n",
       "385                                                                                My dog literally changed positions on my bed just so she could watch me eat at my desk but pretends she asleep when I look at her like I can't tell when she huffs and puffs because she's not getting any  \n",
       "412                                                                  i googled \"instant ramen keurig\" because I wanted to know if the water would be hot enough...people seriously need instructions on how to fill a ramen cup with a keurig? just put it under and press start guys come on  \n",
       "383                                  My dream: brought on stage in a grand theater to apologize to all of Britain, run by Winston Churchill, for pressing a publicly available button on a grounded airplane that caused damage equivalent to the entire stock value of the Red Vines Company  \n",
       "116                                                                                               i had to read an article on bipolar disorder and in class the professor asked \"do any of you recognize these traits in yourselves?\" and i'm not really sure what response she was expecting  \n",
       "799                                                                      If you're going to assign mandatory readings for a class of 25+ and there's only one copy available in the library......what's wrong with scanning the pages for the class so everybody can actually get the reading  \n",
       "693                        when I originally pitched my idea in meetings & class I was all excited to write about several specific features I found interesting, then did a bunch of interviews about those topics, and ended up using absolutely none of that information in the final draft  \n",
       "1722                                                                                                                                               PewDiePie posts video \"apologizing\" for his Kill All Jews \"joke\" and it's really about how he makes a ton of money and the media hates him  "
      ]
     },
     "execution_count": 36,
     "metadata": {},
     "output_type": "execute_result"
    }
   ],
   "source": [
    "aaron_df.head(10)"
   ]
  },
  {
   "cell_type": "code",
   "execution_count": 37,
   "metadata": {},
   "outputs": [
    {
     "data": {
      "image/png": "[encoded data removed]",
      "text/plain": [
       "<Figure size 1152x648 with 1 Axes>"
      ]
     },
     "metadata": {},
     "output_type": "display_data"
    }
   ],
   "source": [
    "ax = aaron_df_for_plotting.plot.barh(logx=True, figsize=(16, 9), color=\"maroon\", fontsize=13);\n",
    "ax.set_alpha(0.8)\n",
    "ax.set_title(\"Aaron Dataset Subtweets Test\", fontsize=18)\n",
    "ax.set_ylabel(\"Row Index\", fontsize=18);\n",
    "ax.set_xlabel(\"Subtweet Percentage Probability (logarithmic)\", fontsize=18);\n",
    "for i in ax.patches:\n",
    "    ax.text(i.get_width(), i.get_y() + 0.325, \"{:.3%}\".format(i.get_width()), fontsize=10, color=\"black\")\n",
    "ax.invert_yaxis()"
   ]
  },
  {
   "cell_type": "markdown",
   "metadata": {},
   "source": [
    "#### Julia"
   ]
  },
  {
   "cell_type": "code",
   "execution_count": 38,
   "metadata": {},
   "outputs": [],
   "source": [
    "julia_df = pd.read_csv(\"../data/data_for_testing/friends_data/juliaeberry_tweets.csv\").dropna()\n",
    "julia_df[\"Sentiment\"] = None"
   ]
  },
  {
   "cell_type": "code",
   "execution_count": 39,
   "metadata": {
    "scrolled": false
   },
   "outputs": [
    {
     "name": "stdout",
     "output_type": "stream",
     "text": [
      "CPU times: user 6.69 s, sys: 103 ms, total: 6.8 s\n",
      "Wall time: 7.56 s\n"
     ]
    }
   ],
   "source": [
    "%%time\n",
    "julia_df = tests_dataframe(julia_df, text_column=\"Text\", sentiment_column=\"Sentiment\")"
   ]
  },
  {
   "cell_type": "code",
   "execution_count": 40,
   "metadata": {},
   "outputs": [],
   "source": [
    "julia_df.to_csv(\"../data/data_from_testing/friends_data/juliaeberry_tests.csv\")"
   ]
  },
  {
   "cell_type": "code",
   "execution_count": 41,
   "metadata": {},
   "outputs": [],
   "source": [
    "julia_df_columns = [\"sentiment_score\", \"subtweet_negative_probability\", \"tweet\"]"
   ]
  },
  {
   "cell_type": "code",
   "execution_count": 42,
   "metadata": {},
   "outputs": [],
   "source": [
    "julia_df_for_plotting = julia_df.drop(julia_df_columns, axis=1).head(10)"
   ]
  },
  {
   "cell_type": "code",
   "execution_count": 43,
   "metadata": {},
   "outputs": [
    {
     "data": {
      "text/html": [
       "<div>\n",
       "<style scoped>\n",
       "    .dataframe tbody tr th:only-of-type {\n",
       "        vertical-align: middle;\n",
       "    }\n",
       "\n",
       "    .dataframe tbody tr th {\n",
       "        vertical-align: top;\n",
       "    }\n",
       "\n",
       "    .dataframe thead th {\n",
       "        text-align: right;\n",
       "    }\n",
       "</style>\n",
       "<table border=\"1\" class=\"dataframe\">\n",
       "  <thead>\n",
       "    <tr style=\"text-align: right;\">\n",
       "      <th></th>\n",
       "      <th>sentiment_score</th>\n",
       "      <th>subtweet_negative_probability</th>\n",
       "      <th>subtweet_positive_probability</th>\n",
       "      <th>tweet</th>\n",
       "    </tr>\n",
       "  </thead>\n",
       "  <tbody>\n",
       "    <tr>\n",
       "      <th>1138</th>\n",
       "      <td>None</td>\n",
       "      <td>0.000007</td>\n",
       "      <td>0.999993</td>\n",
       "      <td>\"what a COINcidence that you're here,\" drawls Bitcoin lustily. your palms sweat as you imagine what it would be like to own this creature, to do with him what you will. you drag your cursor over his coinhood, and he gasps. \\n\"transaction complete,\" you whisper into his ear la...</td>\n",
       "    </tr>\n",
       "    <tr>\n",
       "      <th>663</th>\n",
       "      <td>None</td>\n",
       "      <td>0.000008</td>\n",
       "      <td>0.999992</td>\n",
       "      <td>even if you are committed to cheating how can you possibly think that p/c are on the same level as v/m when you're watching papadakis shakily clamber onto cizeron for a lift in their short dance after you've just seen tessa hook her legs around scott's head and spin in THEIR ...</td>\n",
       "    </tr>\n",
       "    <tr>\n",
       "      <th>1639</th>\n",
       "      <td>None</td>\n",
       "      <td>0.000009</td>\n",
       "      <td>0.999991</td>\n",
       "      <td>so I'm reading one of the folgers incest commercial fanfics on ao3 and honestly other than the frequent and jarring incestual sex scenes, the worst thing so far has been the brother leering at his cousin's breasts at any opportunity. isn't having daily sex with your sister en...</td>\n",
       "    </tr>\n",
       "    <tr>\n",
       "      <th>25</th>\n",
       "      <td>None</td>\n",
       "      <td>0.000011</td>\n",
       "      <td>0.999989</td>\n",
       "      <td>I've always wondered why the name \"françois\" is sung in v/m's umbrellas of cherbourg program considering none of the film's protagonists are named françois but I just found out it's actually \"françoise\" and it's what genevieve and guy wanted to name their daughter I'm sopic.t...</td>\n",
       "    </tr>\n",
       "    <tr>\n",
       "      <th>770</th>\n",
       "      <td>None</td>\n",
       "      <td>0.000011</td>\n",
       "      <td>0.999989</td>\n",
       "      <td>what are these people SEEING in them that's so wonderful??? I don't know how people can justify their technical inferiority by saying \"oh, they're such great artists, so magical\" \\nI'm just hoping the wave of v/m support generated by the team event rides into the individual e...</td>\n",
       "    </tr>\n",
       "    <tr>\n",
       "      <th>69</th>\n",
       "      <td>None</td>\n",
       "      <td>0.000012</td>\n",
       "      <td>0.999988</td>\n",
       "      <td>man would it kill some of these junior ice dancers to look at each other when they skate???? I'm not asking for 2018 v/m smoldering gazes, and I'm not even asking for 2008 v/m umbrellas-level adoration! I know you're like, 16, but you're doing latin dance; just look at each o...</td>\n",
       "    </tr>\n",
       "    <tr>\n",
       "      <th>773</th>\n",
       "      <td>None</td>\n",
       "      <td>0.000013</td>\n",
       "      <td>0.999987</td>\n",
       "      <td>\"I do feel grateful for the fact that we have one another, because I think people search their whole lives for someone that special\" -tessa\\n\\nwho even says this about somebody that they don't want to marry/be with forever? v/m soundbytes will be the death of me #virtuemoir</td>\n",
       "    </tr>\n",
       "    <tr>\n",
       "      <th>236</th>\n",
       "      <td>None</td>\n",
       "      <td>0.000016</td>\n",
       "      <td>0.999984</td>\n",
       "      <td>look I've been thinking about it and even if they're older and less able to perform (although, they're at the top of their game now) they could at least get the silver or bronze in the next two olympics and they'd be even more decorated ugh I'm just not ready to let them go</td>\n",
       "    </tr>\n",
       "    <tr>\n",
       "      <th>760</th>\n",
       "      <td>None</td>\n",
       "      <td>0.000018</td>\n",
       "      <td>0.999982</td>\n",
       "      <td>it's SO unbelievably absurd and those high scores from the judges have definitely impacted their support and made everyone from regular fans to former skater commentators spellbound by their \"magical\" routines full of \"artistry\" despite being devoid of technical prowess a la v/m</td>\n",
       "    </tr>\n",
       "    <tr>\n",
       "      <th>193</th>\n",
       "      <td>None</td>\n",
       "      <td>0.000023</td>\n",
       "      <td>0.999977</td>\n",
       "      <td>I know part of the reason they can do it early is bc they're still tiny and their bodies haven't gone through puberty but if female skaters (at this point in time) likely won't be able to land quads by the time they're competing as seniors, why bother with such a risk so young?</td>\n",
       "    </tr>\n",
       "  </tbody>\n",
       "</table>\n",
       "</div>"
      ],
      "text/plain": [
       "     sentiment_score  subtweet_negative_probability  \\\n",
       "1138            None                       0.000007   \n",
       "663             None                       0.000008   \n",
       "1639            None                       0.000009   \n",
       "25              None                       0.000011   \n",
       "770             None                       0.000011   \n",
       "69              None                       0.000012   \n",
       "773             None                       0.000013   \n",
       "236             None                       0.000016   \n",
       "760             None                       0.000018   \n",
       "193             None                       0.000023   \n",
       "\n",
       "      subtweet_positive_probability  \\\n",
       "1138                       0.999993   \n",
       "663                        0.999992   \n",
       "1639                       0.999991   \n",
       "25                         0.999989   \n",
       "770                        0.999989   \n",
       "69                         0.999988   \n",
       "773                        0.999987   \n",
       "236                        0.999984   \n",
       "760                        0.999982   \n",
       "193                        0.999977   \n",
       "\n",
       "                                                                                                                                                                                                                                                                                        tweet  \n",
       "1138  \"what a COINcidence that you're here,\" drawls Bitcoin lustily. your palms sweat as you imagine what it would be like to own this creature, to do with him what you will. you drag your cursor over his coinhood, and he gasps. \\n\"transaction complete,\" you whisper into his ear la...  \n",
       "663   even if you are committed to cheating how can you possibly think that p/c are on the same level as v/m when you're watching papadakis shakily clamber onto cizeron for a lift in their short dance after you've just seen tessa hook her legs around scott's head and spin in THEIR ...  \n",
       "1639  so I'm reading one of the folgers incest commercial fanfics on ao3 and honestly other than the frequent and jarring incestual sex scenes, the worst thing so far has been the brother leering at his cousin's breasts at any opportunity. isn't having daily sex with your sister en...  \n",
       "25    I've always wondered why the name \"françois\" is sung in v/m's umbrellas of cherbourg program considering none of the film's protagonists are named françois but I just found out it's actually \"françoise\" and it's what genevieve and guy wanted to name their daughter I'm sopic.t...  \n",
       "770   what are these people SEEING in them that's so wonderful??? I don't know how people can justify their technical inferiority by saying \"oh, they're such great artists, so magical\" \\nI'm just hoping the wave of v/m support generated by the team event rides into the individual e...  \n",
       "69    man would it kill some of these junior ice dancers to look at each other when they skate???? I'm not asking for 2018 v/m smoldering gazes, and I'm not even asking for 2008 v/m umbrellas-level adoration! I know you're like, 16, but you're doing latin dance; just look at each o...  \n",
       "773        \"I do feel grateful for the fact that we have one another, because I think people search their whole lives for someone that special\" -tessa\\n\\nwho even says this about somebody that they don't want to marry/be with forever? v/m soundbytes will be the death of me #virtuemoir  \n",
       "236        look I've been thinking about it and even if they're older and less able to perform (although, they're at the top of their game now) they could at least get the silver or bronze in the next two olympics and they'd be even more decorated ugh I'm just not ready to let them go  \n",
       "760   it's SO unbelievably absurd and those high scores from the judges have definitely impacted their support and made everyone from regular fans to former skater commentators spellbound by their \"magical\" routines full of \"artistry\" despite being devoid of technical prowess a la v/m  \n",
       "193    I know part of the reason they can do it early is bc they're still tiny and their bodies haven't gone through puberty but if female skaters (at this point in time) likely won't be able to land quads by the time they're competing as seniors, why bother with such a risk so young?  "
      ]
     },
     "execution_count": 43,
     "metadata": {},
     "output_type": "execute_result"
    }
   ],
   "source": [
    "julia_df.head(10)"
   ]
  },
  {
   "cell_type": "code",
   "execution_count": 44,
   "metadata": {},
   "outputs": [
    {
     "data": {
      "image/png": "[encoded data removed]",
      "text/plain": [
       "<Figure size 1152x648 with 1 Axes>"
      ]
     },
     "metadata": {},
     "output_type": "display_data"
    }
   ],
   "source": [
    "ax = julia_df_for_plotting.plot.barh(logx=True, figsize=(16, 9), color=\"maroon\", fontsize=13);\n",
    "ax.set_alpha(0.8)\n",
    "ax.set_title(\"Julia Dataset Subtweets Test\", fontsize=18)\n",
    "ax.set_ylabel(\"Row Index\", fontsize=18);\n",
    "ax.set_xlabel(\"Subtweet Percentage Probability (logarithmic)\", fontsize=18);\n",
    "for i in ax.patches:\n",
    "    ax.text(i.get_width(), i.get_y() + 0.325, \"{:.3%}\".format(i.get_width()), fontsize=10, color=\"black\")\n",
    "ax.invert_yaxis()"
   ]
  },
  {
   "cell_type": "markdown",
   "metadata": {},
   "source": [
    "#### Zoe"
   ]
  },
  {
   "cell_type": "code",
   "execution_count": 45,
   "metadata": {},
   "outputs": [],
   "source": [
    "zoe_df = pd.read_csv(\"../data/data_for_testing/friends_data/zoeterhune_tweets.csv\").dropna()\n",
    "zoe_df[\"Sentiment\"] = None"
   ]
  },
  {
   "cell_type": "code",
   "execution_count": 46,
   "metadata": {},
   "outputs": [
    {
     "name": "stdout",
     "output_type": "stream",
     "text": [
      "CPU times: user 1.3 s, sys: 21.1 ms, total: 1.32 s\n",
      "Wall time: 1.47 s\n"
     ]
    }
   ],
   "source": [
    "%%time\n",
    "zoe_df = tests_dataframe(zoe_df, text_column=\"Text\", sentiment_column=\"Sentiment\")"
   ]
  },
  {
   "cell_type": "code",
   "execution_count": 47,
   "metadata": {},
   "outputs": [],
   "source": [
    "zoe_df.to_csv(\"../data/data_from_testing/friends_data/zoeterhune_tests.csv\")"
   ]
  },
  {
   "cell_type": "code",
   "execution_count": 48,
   "metadata": {},
   "outputs": [],
   "source": [
    "zoe_df_columns = [\"sentiment_score\", \"subtweet_negative_probability\", \"tweet\"]"
   ]
  },
  {
   "cell_type": "code",
   "execution_count": 49,
   "metadata": {},
   "outputs": [],
   "source": [
    "zoe_df_for_plotting = zoe_df.drop(zoe_df_columns, axis=1).head(10)"
   ]
  },
  {
   "cell_type": "code",
   "execution_count": 50,
   "metadata": {},
   "outputs": [
    {
     "data": {
      "text/html": [
       "<div>\n",
       "<style scoped>\n",
       "    .dataframe tbody tr th:only-of-type {\n",
       "        vertical-align: middle;\n",
       "    }\n",
       "\n",
       "    .dataframe tbody tr th {\n",
       "        vertical-align: top;\n",
       "    }\n",
       "\n",
       "    .dataframe thead th {\n",
       "        text-align: right;\n",
       "    }\n",
       "</style>\n",
       "<table border=\"1\" class=\"dataframe\">\n",
       "  <thead>\n",
       "    <tr style=\"text-align: right;\">\n",
       "      <th></th>\n",
       "      <th>sentiment_score</th>\n",
       "      <th>subtweet_negative_probability</th>\n",
       "      <th>subtweet_positive_probability</th>\n",
       "      <th>tweet</th>\n",
       "    </tr>\n",
       "  </thead>\n",
       "  <tbody>\n",
       "    <tr>\n",
       "      <th>584</th>\n",
       "      <td>None</td>\n",
       "      <td>0.000011</td>\n",
       "      <td>0.999989</td>\n",
       "      <td>the funny thing about anxiety is one minute you could be playing one of your favorite tabletop games w some of your favorite people and then the next you could be having a panic attack in the bathroom bc three people laughing/yelling (in jest) at you suddenly set something off</td>\n",
       "    </tr>\n",
       "    <tr>\n",
       "      <th>583</th>\n",
       "      <td>None</td>\n",
       "      <td>0.000014</td>\n",
       "      <td>0.999986</td>\n",
       "      <td>and u decide to tweet about it weeks later bc no one ever talked about it and ur anxious mind decided 2 interpret that as no one caring when, in reality, it's probably people forgetting because you, and your particular brand of anxiety, bounce haphazardly from one mood 2 the ...</td>\n",
       "    </tr>\n",
       "    <tr>\n",
       "      <th>63</th>\n",
       "      <td>None</td>\n",
       "      <td>0.000087</td>\n",
       "      <td>0.999913</td>\n",
       "      <td>brother bear..............................................................................................................................................................................................................................................................i let you ...</td>\n",
       "    </tr>\n",
       "    <tr>\n",
       "      <th>1105</th>\n",
       "      <td>None</td>\n",
       "      <td>0.000087</td>\n",
       "      <td>0.999913</td>\n",
       "      <td>The guy who had the audacity to write a Buzzfeed \"article\" called \"28 problems only ridiculously good looking people have\" thinks he's ridiculously good looking when he has the body of a grecian God, sure, and the face of a muppet</td>\n",
       "    </tr>\n",
       "    <tr>\n",
       "      <th>211</th>\n",
       "      <td>None</td>\n",
       "      <td>0.000088</td>\n",
       "      <td>0.999912</td>\n",
       "      <td>easy access to firearms- assault rifles or otherwise- makes it a hell of a lot easier to hurt a lot of people in very little time. you can say guns don't kill people, but they certainly expedite the process. why don't we talk about this??? #GunReformNow</td>\n",
       "    </tr>\n",
       "    <tr>\n",
       "      <th>445</th>\n",
       "      <td>None</td>\n",
       "      <td>0.000092</td>\n",
       "      <td>0.999908</td>\n",
       "      <td>I WILL WRITE THE TWEET FOR YOU. IT IS AS FOLLOWS:\\n\\nDEAR MY ADORING PUBLIC,\\n\\nTHOUGH I HAVE A TENDENCY TO SAY THE BEAUTY AND THE BEAST (2017) WAS JUST UTTER BOILING GARBAGE, I, JULIA ELIZABETH BERRY, MAYBE BUT NOT NECESSARILY THE FIRST OF THAT PARTICULAR NAME, CRIED WATCHIN...</td>\n",
       "    </tr>\n",
       "    <tr>\n",
       "      <th>165</th>\n",
       "      <td>None</td>\n",
       "      <td>0.000129</td>\n",
       "      <td>0.999871</td>\n",
       "      <td>i tuned into the olympics for about twelve seconds, got frustrated that apparently i was watching the exact same thing as last time i tuned in, got more frustrated when the music abruptly cut to something else, and now i'm writing sproj</td>\n",
       "    </tr>\n",
       "    <tr>\n",
       "      <th>846</th>\n",
       "      <td>None</td>\n",
       "      <td>0.000130</td>\n",
       "      <td>0.999870</td>\n",
       "      <td>it took so long to get this many gs and I still messed it up?? UGGGGGGGGGGGGGGGGGGGGGGGGGGGGGGGGGGGGGGGGGGGGGGGGGGGGGGGGGGGGGGGGGGGGGGGGGGGGGGGGGGGGGGGGGGGGGGGGGGGGGGGGGGGGGGGGGGGGGGGGGGGGGGGGGGGGGGGGGGGGGGGGGGGGGGGGGGGGGGGGGGGGGGGGGGGGGGGGGGGGGGGGGGGGGGGGGGGGGGGGGGGGGGGGGGGG...</td>\n",
       "    </tr>\n",
       "    <tr>\n",
       "      <th>456</th>\n",
       "      <td>None</td>\n",
       "      <td>0.000175</td>\n",
       "      <td>0.999825</td>\n",
       "      <td>when ur heart rate is fast before bed and u can't tell if it's the anxiety heart rate or the insomnia heart rate BUT you realize you're not anxious so it's probably the insomnia \\n\\nwelcome back old friend you have not been missed</td>\n",
       "    </tr>\n",
       "    <tr>\n",
       "      <th>1142</th>\n",
       "      <td>None</td>\n",
       "      <td>0.000198</td>\n",
       "      <td>0.999802</td>\n",
       "      <td>modern family is still on???????????????????????????????????????????????????????????????????????????????????????????????????????????????????????????????????????????????????????????????????????????????????????????????????????????????????????????????????????????????????????????...</td>\n",
       "    </tr>\n",
       "  </tbody>\n",
       "</table>\n",
       "</div>"
      ],
      "text/plain": [
       "     sentiment_score  subtweet_negative_probability  \\\n",
       "584             None                       0.000011   \n",
       "583             None                       0.000014   \n",
       "63              None                       0.000087   \n",
       "1105            None                       0.000087   \n",
       "211             None                       0.000088   \n",
       "445             None                       0.000092   \n",
       "165             None                       0.000129   \n",
       "846             None                       0.000130   \n",
       "456             None                       0.000175   \n",
       "1142            None                       0.000198   \n",
       "\n",
       "      subtweet_positive_probability  \\\n",
       "584                        0.999989   \n",
       "583                        0.999986   \n",
       "63                         0.999913   \n",
       "1105                       0.999913   \n",
       "211                        0.999912   \n",
       "445                        0.999908   \n",
       "165                        0.999871   \n",
       "846                        0.999870   \n",
       "456                        0.999825   \n",
       "1142                       0.999802   \n",
       "\n",
       "                                                                                                                                                                                                                                                                                        tweet  \n",
       "584     the funny thing about anxiety is one minute you could be playing one of your favorite tabletop games w some of your favorite people and then the next you could be having a panic attack in the bathroom bc three people laughing/yelling (in jest) at you suddenly set something off  \n",
       "583   and u decide to tweet about it weeks later bc no one ever talked about it and ur anxious mind decided 2 interpret that as no one caring when, in reality, it's probably people forgetting because you, and your particular brand of anxiety, bounce haphazardly from one mood 2 the ...  \n",
       "63    brother bear..............................................................................................................................................................................................................................................................i let you ...  \n",
       "1105                                                   The guy who had the audacity to write a Buzzfeed \"article\" called \"28 problems only ridiculously good looking people have\" thinks he's ridiculously good looking when he has the body of a grecian God, sure, and the face of a muppet  \n",
       "211                             easy access to firearms- assault rifles or otherwise- makes it a hell of a lot easier to hurt a lot of people in very little time. you can say guns don't kill people, but they certainly expedite the process. why don't we talk about this??? #GunReformNow  \n",
       "445   I WILL WRITE THE TWEET FOR YOU. IT IS AS FOLLOWS:\\n\\nDEAR MY ADORING PUBLIC,\\n\\nTHOUGH I HAVE A TENDENCY TO SAY THE BEAUTY AND THE BEAST (2017) WAS JUST UTTER BOILING GARBAGE, I, JULIA ELIZABETH BERRY, MAYBE BUT NOT NECESSARILY THE FIRST OF THAT PARTICULAR NAME, CRIED WATCHIN...  \n",
       "165                                              i tuned into the olympics for about twelve seconds, got frustrated that apparently i was watching the exact same thing as last time i tuned in, got more frustrated when the music abruptly cut to something else, and now i'm writing sproj  \n",
       "846   it took so long to get this many gs and I still messed it up?? UGGGGGGGGGGGGGGGGGGGGGGGGGGGGGGGGGGGGGGGGGGGGGGGGGGGGGGGGGGGGGGGGGGGGGGGGGGGGGGGGGGGGGGGGGGGGGGGGGGGGGGGGGGGGGGGGGGGGGGGGGGGGGGGGGGGGGGGGGGGGGGGGGGGGGGGGGGGGGGGGGGGGGGGGGGGGGGGGGGGGGGGGGGGGGGGGGGGGGGGGGGGGGGGGGGGG...  \n",
       "456                                                    when ur heart rate is fast before bed and u can't tell if it's the anxiety heart rate or the insomnia heart rate BUT you realize you're not anxious so it's probably the insomnia \\n\\nwelcome back old friend you have not been missed  \n",
       "1142  modern family is still on???????????????????????????????????????????????????????????????????????????????????????????????????????????????????????????????????????????????????????????????????????????????????????????????????????????????????????????????????????????????????????????...  "
      ]
     },
     "execution_count": 50,
     "metadata": {},
     "output_type": "execute_result"
    }
   ],
   "source": [
    "zoe_df.head(10)"
   ]
  },
  {
   "cell_type": "code",
   "execution_count": 51,
   "metadata": {},
   "outputs": [
    {
     "data": {
      "image/png": "[encoded data removed]",
      "text/plain": [
       "<Figure size 1152x648 with 1 Axes>"
      ]
     },
     "metadata": {},
     "output_type": "display_data"
    }
   ],
   "source": [
    "ax = zoe_df_for_plotting.plot.barh(logx=True, figsize=(16, 9), color=\"maroon\", fontsize=13);\n",
    "ax.set_alpha(0.8)\n",
    "ax.set_title(\"Zoe Dataset Subtweets Test\", fontsize=18)\n",
    "ax.set_ylabel(\"Row Index\", fontsize=18);\n",
    "ax.set_xlabel(\"Subtweet Percentage Probability (logarithmic)\", fontsize=18);\n",
    "for i in ax.patches:\n",
    "    ax.text(i.get_width(), i.get_y() + 0.325, \"{:.3%}\".format(i.get_width()), fontsize=10, color=\"black\")\n",
    "ax.invert_yaxis()"
   ]
  },
  {
   "cell_type": "markdown",
   "metadata": {},
   "source": [
    "#### Noah"
   ]
  },
  {
   "cell_type": "code",
   "execution_count": 52,
   "metadata": {},
   "outputs": [],
   "source": [
    "noah_df = pd.read_csv(\"../data/data_for_testing/friends_data/noahsegalgould_tweets.csv\").dropna()\n",
    "noah_df[\"Sentiment\"] = None"
   ]
  },
  {
   "cell_type": "code",
   "execution_count": 53,
   "metadata": {
    "scrolled": false
   },
   "outputs": [
    {
     "name": "stdout",
     "output_type": "stream",
     "text": [
      "CPU times: user 4.05 s, sys: 78.1 ms, total: 4.13 s\n",
      "Wall time: 4.48 s\n"
     ]
    }
   ],
   "source": [
    "%%time\n",
    "noah_df = tests_dataframe(noah_df, text_column=\"Text\", sentiment_column=\"Sentiment\")"
   ]
  },
  {
   "cell_type": "code",
   "execution_count": 54,
   "metadata": {},
   "outputs": [],
   "source": [
    "noah_df.to_csv(\"../data/data_from_testing/friends_data/noahsegalgould_tests.csv\")"
   ]
  },
  {
   "cell_type": "code",
   "execution_count": 55,
   "metadata": {},
   "outputs": [],
   "source": [
    "noah_df_columns = [\"sentiment_score\", \"subtweet_negative_probability\", \"tweet\"]"
   ]
  },
  {
   "cell_type": "code",
   "execution_count": 56,
   "metadata": {},
   "outputs": [],
   "source": [
    "noah_df_for_plotting = noah_df.drop(noah_df_columns, axis=1).head(10)"
   ]
  },
  {
   "cell_type": "code",
   "execution_count": 57,
   "metadata": {},
   "outputs": [
    {
     "data": {
      "text/html": [
       "<div>\n",
       "<style scoped>\n",
       "    .dataframe tbody tr th:only-of-type {\n",
       "        vertical-align: middle;\n",
       "    }\n",
       "\n",
       "    .dataframe tbody tr th {\n",
       "        vertical-align: top;\n",
       "    }\n",
       "\n",
       "    .dataframe thead th {\n",
       "        text-align: right;\n",
       "    }\n",
       "</style>\n",
       "<table border=\"1\" class=\"dataframe\">\n",
       "  <thead>\n",
       "    <tr style=\"text-align: right;\">\n",
       "      <th></th>\n",
       "      <th>sentiment_score</th>\n",
       "      <th>subtweet_negative_probability</th>\n",
       "      <th>subtweet_positive_probability</th>\n",
       "      <th>tweet</th>\n",
       "    </tr>\n",
       "  </thead>\n",
       "  <tbody>\n",
       "    <tr>\n",
       "      <th>877</th>\n",
       "      <td>None</td>\n",
       "      <td>0.000008</td>\n",
       "      <td>0.999992</td>\n",
       "      <td>I guess I think it’s foolish to rely on any website for being your source of personal fulfillment and especially as your only source for political change. The companies which own your speech aren’t going to let you dismantle them. And their goal isn’t ever going to be to help...</td>\n",
       "    </tr>\n",
       "    <tr>\n",
       "      <th>878</th>\n",
       "      <td>None</td>\n",
       "      <td>0.000016</td>\n",
       "      <td>0.999984</td>\n",
       "      <td>I find myself somewhere between thinking nobody should use social networking sites like this one seriously because they are commercial entities which make money specifically by controlling what you can share and also thinking it’s awesome that people can promote just causes here</td>\n",
       "    </tr>\n",
       "    <tr>\n",
       "      <th>1777</th>\n",
       "      <td>None</td>\n",
       "      <td>0.000017</td>\n",
       "      <td>0.999983</td>\n",
       "      <td>I feel like being able to tweet twice as many characters is a nice addition but I wonder about the priorities of the platforms we use. The web is commercial by design, and it should not come as such a surprise that Twitter has chosen to lengthen Tweets instead of fighting hat...</td>\n",
       "    </tr>\n",
       "    <tr>\n",
       "      <th>696</th>\n",
       "      <td>None</td>\n",
       "      <td>0.000021</td>\n",
       "      <td>0.999979</td>\n",
       "      <td>I FIGURED OUT THAT I DON'T REALLY KNOW\\nIt's not satirizing anything in particular, and he's completely genuine across all his comedy pieces. I've described it before as \"broken comedy\" because it's not quite entirely nonsensical but it's really clearly funny because it's bad.</td>\n",
       "    </tr>\n",
       "    <tr>\n",
       "      <th>51</th>\n",
       "      <td>None</td>\n",
       "      <td>0.000024</td>\n",
       "      <td>0.999976</td>\n",
       "      <td>I meant \"apparently\" because it's canon to the source manga that the 2018 anime is based on but is entirely left out of that adaptation. I've seen the last two episodes at least twice each, I am deeply flawed but when I'm that far into something I always finish it!</td>\n",
       "    </tr>\n",
       "    <tr>\n",
       "      <th>800</th>\n",
       "      <td>None</td>\n",
       "      <td>0.000029</td>\n",
       "      <td>0.999971</td>\n",
       "      <td>I had to reread this like 10 times and I think I understand what you're saying so I may not have been clear\\n$20 of bitcoin right now is 0.001858 BTC, when purchased that's the amount.\\nin a year it could very well be worth less or more than that original $20 in terms of USD.</td>\n",
       "    </tr>\n",
       "    <tr>\n",
       "      <th>624</th>\n",
       "      <td>None</td>\n",
       "      <td>0.000030</td>\n",
       "      <td>0.999970</td>\n",
       "      <td>things people do differently that nobody talks about:\\n\\nsleeping positions\\nsleeping clothing options\\nass wiping \\nloofa ownership\\nwho you look at when you laugh aloud in a group of friends implying you feel the strongest connection with that unintentionally chosen individual</td>\n",
       "    </tr>\n",
       "    <tr>\n",
       "      <th>680</th>\n",
       "      <td>None</td>\n",
       "      <td>0.000033</td>\n",
       "      <td>0.999967</td>\n",
       "      <td>the main premise is that a girl in modern Japan falls down a well and ends up in the distant past with demons and gods and such, and I'm pretty sure the Inuyasha character is a half human-half demon dog man, which is probably implied by his name somehow since \"inu\" means dog</td>\n",
       "    </tr>\n",
       "    <tr>\n",
       "      <th>1302</th>\n",
       "      <td>None</td>\n",
       "      <td>0.000038</td>\n",
       "      <td>0.999962</td>\n",
       "      <td>dude, sven has us doing final project presentations during completion week, which is already ridiculous. BUT also he had our project proposals due last night yet somehow failed to mention in class or anywhere but in one tiny link in the assignment description that they were due.</td>\n",
       "    </tr>\n",
       "    <tr>\n",
       "      <th>136</th>\n",
       "      <td>None</td>\n",
       "      <td>0.000044</td>\n",
       "      <td>0.999956</td>\n",
       "      <td>The saddest thing about Violet Evergarden is the disconnect between what she feels and what she can say. She chooses to learn more about the words people use to describe how they feel so she can understand how she felt, even when it hurts to understand.</td>\n",
       "    </tr>\n",
       "  </tbody>\n",
       "</table>\n",
       "</div>"
      ],
      "text/plain": [
       "     sentiment_score  subtweet_negative_probability  \\\n",
       "877             None                       0.000008   \n",
       "878             None                       0.000016   \n",
       "1777            None                       0.000017   \n",
       "696             None                       0.000021   \n",
       "51              None                       0.000024   \n",
       "800             None                       0.000029   \n",
       "624             None                       0.000030   \n",
       "680             None                       0.000033   \n",
       "1302            None                       0.000038   \n",
       "136             None                       0.000044   \n",
       "\n",
       "      subtweet_positive_probability  \\\n",
       "877                        0.999992   \n",
       "878                        0.999984   \n",
       "1777                       0.999983   \n",
       "696                        0.999979   \n",
       "51                         0.999976   \n",
       "800                        0.999971   \n",
       "624                        0.999970   \n",
       "680                        0.999967   \n",
       "1302                       0.999962   \n",
       "136                        0.999956   \n",
       "\n",
       "                                                                                                                                                                                                                                                                                        tweet  \n",
       "877   I guess I think it’s foolish to rely on any website for being your source of personal fulfillment and especially as your only source for political change. The companies which own your speech aren’t going to let you dismantle them. And their goal isn’t ever going to be to help...  \n",
       "878   I find myself somewhere between thinking nobody should use social networking sites like this one seriously because they are commercial entities which make money specifically by controlling what you can share and also thinking it’s awesome that people can promote just causes here  \n",
       "1777  I feel like being able to tweet twice as many characters is a nice addition but I wonder about the priorities of the platforms we use. The web is commercial by design, and it should not come as such a surprise that Twitter has chosen to lengthen Tweets instead of fighting hat...  \n",
       "696     I FIGURED OUT THAT I DON'T REALLY KNOW\\nIt's not satirizing anything in particular, and he's completely genuine across all his comedy pieces. I've described it before as \"broken comedy\" because it's not quite entirely nonsensical but it's really clearly funny because it's bad.  \n",
       "51                  I meant \"apparently\" because it's canon to the source manga that the 2018 anime is based on but is entirely left out of that adaptation. I've seen the last two episodes at least twice each, I am deeply flawed but when I'm that far into something I always finish it!  \n",
       "800      I had to reread this like 10 times and I think I understand what you're saying so I may not have been clear\\n$20 of bitcoin right now is 0.001858 BTC, when purchased that's the amount.\\nin a year it could very well be worth less or more than that original $20 in terms of USD.  \n",
       "624   things people do differently that nobody talks about:\\n\\nsleeping positions\\nsleeping clothing options\\nass wiping \\nloofa ownership\\nwho you look at when you laugh aloud in a group of friends implying you feel the strongest connection with that unintentionally chosen individual  \n",
       "680       the main premise is that a girl in modern Japan falls down a well and ends up in the distant past with demons and gods and such, and I'm pretty sure the Inuyasha character is a half human-half demon dog man, which is probably implied by his name somehow since \"inu\" means dog  \n",
       "1302  dude, sven has us doing final project presentations during completion week, which is already ridiculous. BUT also he had our project proposals due last night yet somehow failed to mention in class or anywhere but in one tiny link in the assignment description that they were due.  \n",
       "136                             The saddest thing about Violet Evergarden is the disconnect between what she feels and what she can say. She chooses to learn more about the words people use to describe how they feel so she can understand how she felt, even when it hurts to understand.  "
      ]
     },
     "execution_count": 57,
     "metadata": {},
     "output_type": "execute_result"
    }
   ],
   "source": [
    "noah_df.head(10)"
   ]
  },
  {
   "cell_type": "code",
   "execution_count": 58,
   "metadata": {},
   "outputs": [
    {
     "data": {
      "image/png": "[encoded data removed]",
      "text/plain": [
       "<Figure size 1152x648 with 1 Axes>"
      ]
     },
     "metadata": {},
     "output_type": "display_data"
    }
   ],
   "source": [
    "ax = noah_df_for_plotting.plot.barh(logx=True, figsize=(16, 9), color=\"maroon\", fontsize=13);\n",
    "ax.set_alpha(0.8)\n",
    "ax.set_title(\"Noah Dataset Subtweets Test\", fontsize=18)\n",
    "ax.set_ylabel(\"Row Index\", fontsize=18);\n",
    "ax.set_xlabel(\"Subtweet Percentage Probability (logarithmic)\", fontsize=18);\n",
    "for i in ax.patches:\n",
    "    ax.text(i.get_width(), i.get_y() + 0.325, \"{:.3%}\".format(i.get_width()), fontsize=10, color=\"black\")\n",
    "ax.invert_yaxis()"
   ]
  },
  {
   "cell_type": "markdown",
   "metadata": {},
   "source": [
    "#### Test it in realtime\n",
    "#### Define some useful variables for later"
   ]
  },
  {
   "cell_type": "code",
   "execution_count": 59,
   "metadata": {},
   "outputs": [],
   "source": [
    "THRESHOLD = 0.99 # 99% positives and higher, only\n",
    "DURATION = 60*60*12 # 12 hours"
   ]
  },
  {
   "cell_type": "markdown",
   "metadata": {},
   "source": [
    "#### Load Twitter API credentials"
   ]
  },
  {
   "cell_type": "code",
   "execution_count": 60,
   "metadata": {},
   "outputs": [],
   "source": [
    "consumer_key, consumer_secret, access_token, access_token_secret = open(\"../../credentials.txt\").read().split(\"\\n\")"
   ]
  },
  {
   "cell_type": "markdown",
   "metadata": {},
   "source": [
    "#### Use the API credentials to connect to the API"
   ]
  },
  {
   "cell_type": "code",
   "execution_count": 61,
   "metadata": {},
   "outputs": [],
   "source": [
    "auth = tweepy.OAuthHandler(consumer_key, consumer_secret)\n",
    "auth.set_access_token(access_token, access_token_secret)\n",
    "api = tweepy.API(auth, retry_delay=1, timeout=120, # 2 minutes\n",
    "                 compression=True, wait_on_rate_limit=True, wait_on_rate_limit_notify=True)"
   ]
  },
  {
   "cell_type": "markdown",
   "metadata": {},
   "source": [
    "#### Prepare the final dataframe"
   ]
  },
  {
   "cell_type": "code",
   "execution_count": 62,
   "metadata": {},
   "outputs": [],
   "source": [
    "subtweets_live_list = []\n",
    "non_subtweets_live_list = []"
   ]
  },
  {
   "cell_type": "markdown",
   "metadata": {},
   "source": [
    "#### Create a custom class for streaming subtweets"
   ]
  },
  {
   "cell_type": "code",
   "execution_count": 63,
   "metadata": {},
   "outputs": [],
   "source": [
    "class StreamListener(tweepy.StreamListener):\n",
    "    def on_status(self, status):\n",
    "        text = status.text\n",
    "        text = text.replace(\"&quot;\", \"\\\"\").replace(\"&amp;\", \"&\").replace(\"&gt;\", \">\").replace(\"&lt;\", \"<\")\n",
    "        \n",
    "        # negative_probability = sentiment_pipeline.predict_proba([text]).tolist()[0][0]\n",
    "        positive_probability = sentiment_pipeline.predict_proba([text]).tolist()[0][1]\n",
    "        \n",
    "        screen_name = status.user.screen_name\n",
    "        created_at = status.created_at\n",
    "        \n",
    "        sentiment = TextBlob(text).sentiment\n",
    "        \n",
    "        sentiment_polarity = sentiment.polarity\n",
    "        sentiment_subjectivity = sentiment.subjectivity\n",
    "        \n",
    "        row = {\"tweet\": text, \n",
    "               \"screen_name\": screen_name, \n",
    "               \"time\": created_at, \n",
    "               \"subtweet_probability\": positive_probability, \n",
    "               \"sentiment_polarity\": sentiment_polarity, \n",
    "               \"sentiment_subjectivity\": sentiment_subjectivity}\n",
    "        print_list = pd.DataFrame([row]).values.tolist()[0]\n",
    "        \n",
    "        if all([positive_probability >= THRESHOLD,\n",
    "                not status.retweeted,\n",
    "                \"RT @\" not in text, \n",
    "                not status.in_reply_to_status_id]):\n",
    "            \n",
    "            api.update_status(\"{:.3%} \\nhttps://twitter.com/{}/status/{}\".format(positive_probability, \n",
    "                                                                                 screen_name, \n",
    "                                                                                 status.id))\n",
    "            \n",
    "            subtweets_live_list.append(row)\n",
    "            subtweets_df = pd.DataFrame(subtweets_live_list).sort_values(by=\"subtweet_probability\", \n",
    "                                                                         ascending=False)\n",
    "            subtweets_df.to_csv(\"../data/data_from_testing/live_downloaded_data/subtweets_live_data.csv\")\n",
    "            \n",
    "            print((\"Subtweet from @{0} (Probability of {1:.3%}):\\n\" + \n",
    "                   \"Sentiment Polarity: {2:.2}\\n\" + \n",
    "                   \"Sentiment Subjectivity: {3:.2}\\n\" + \n",
    "                   \"Time: {4}\\n\" + \n",
    "                   \"Tweet: {5}\\n\" +\n",
    "                   \"Total tweets acquired: {6}\\n\").format(print_list[0], \n",
    "                                                          print_list[3], \n",
    "                                                          print_list[1],\n",
    "                                                          print_list[2], \n",
    "                                                          print_list[4],\n",
    "                                                          print_list[5],\n",
    "                                                          len(subtweets_live_list) + len(non_subtweets_live_list)))\n",
    "            \n",
    "            return row\n",
    "        else:\n",
    "            non_subtweets_live_list.append(row)\n",
    "            non_subtweets_df = pd.DataFrame(non_subtweets_live_list).sort_values(by=\"subtweet_probability\", \n",
    "                                                                                 ascending=False)\n",
    "            non_subtweets_df.to_csv(\"../data/data_from_testing/live_downloaded_data/non_subtweets_live_data.csv\")\n",
    "            \n",
    "            # print(\"Not a Subtweet:\\n{}\\nTotal tweets acquired: {}\\n\".format(print_list, len(subtweets_live_list) + len(non_subtweets_live_list)))\n",
    "            return row"
   ]
  },
  {
   "cell_type": "markdown",
   "metadata": {},
   "source": [
    "#### Get a list of the IDs of all my mutuals and my mutuals' followers"
   ]
  },
  {
   "cell_type": "code",
   "execution_count": 64,
   "metadata": {},
   "outputs": [],
   "source": [
    "def get_mutuals_ids(mutuals_threshold=250):\n",
    "    my_followers = [str(user_id) for ids_list in \n",
    "                    tweepy.Cursor(api.followers_ids, \n",
    "                                  screen_name=\"NoahSegalGould\").pages() \n",
    "                    for user_id in ids_list]\n",
    "    my_followeds = [str(user_id) for ids_list in \n",
    "                   tweepy.Cursor(api.friends_ids, \n",
    "                                 screen_name=\"NoahSegalGould\").pages() \n",
    "                   for user_id in ids_list]\n",
    "\n",
    "    my_mutuals = list(set(my_followers) & set(my_followeds))\n",
    "    my_mutuals_mutuals = my_mutuals[:]\n",
    "\n",
    "    for i, mutual in enumerate(my_mutuals):\n",
    "        start_time = time()\n",
    "        user = api.get_user(user_id=mutual)\n",
    "        name = user.screen_name\n",
    "        is_protected = user.protected\n",
    "        if not is_protected:\n",
    "            mutuals_followers = []\n",
    "            followers_cursor = tweepy.Cursor(api.followers_ids, user_id=mutual).items()\n",
    "            while True:\n",
    "                try:\n",
    "                    mutuals_follower = followers_cursor.next()\n",
    "                    mutuals_followers.append(str(mutuals_follower))\n",
    "                except tweepy.TweepError:\n",
    "                    sleep(30) # 30 seconds\n",
    "                    continue\n",
    "                except StopIteration:\n",
    "                    break\n",
    "            mutuals_followeds = []\n",
    "            followeds_cursor = tweepy.Cursor(api.friends_ids, user_id=mutual).items()\n",
    "            while True:\n",
    "                try:\n",
    "                    mutuals_followed = followeds_cursor.next()\n",
    "                    mutuals_followeds.append(str(mutuals_followed))\n",
    "                except tweepy.TweepError:\n",
    "                    sleep(30) # 30 seconds\n",
    "                    continue\n",
    "                except StopIteration:\n",
    "                    break\n",
    "            mutuals_mutuals = list(set(mutuals_followers) & set(mutuals_followeds))\n",
    "            print(\"{} mutuals for mutual {}: {}\".format(len(mutuals_mutuals), i+1, name))\n",
    "            if len(mutuals_mutuals) <= mutuals_threshold: # Ignore my mutuals if they have a lot of mutuals\n",
    "                my_mutuals_mutuals.extend(mutuals_mutuals)\n",
    "            else:\n",
    "                print(\"\\tSkipping: {}\".format(name))\n",
    "        else:\n",
    "            continue\n",
    "        end_time = time()\n",
    "        with open(\"../data/other_data/NoahSegalGould_Mutuals_and_Mutuals_Mutuals_ids.json\", \"w\") as outfile:\n",
    "            json.dump(my_mutuals_mutuals, outfile)\n",
    "        print(\"{0:.2f} seconds for getting the mutuals' IDs of mutual {1}: {2}\\n\".format((end_time - start_time), \n",
    "                                                                                         i+1, name))\n",
    "    my_mutuals_mutuals = [str(mu) for mu in sorted([int(m) for m in list(set(my_mutuals_mutuals))])]\n",
    "    with open(\"../data/other_data/NoahSegalGould_Mutuals_and_Mutuals_Mutuals_ids.json\", \"w\") as outfile:\n",
    "        json.dump(my_mutuals_mutuals, outfile, indent=4)\n",
    "    return my_mutuals_mutuals"
   ]
  },
  {
   "cell_type": "code",
   "execution_count": 65,
   "metadata": {},
   "outputs": [],
   "source": [
    "# %%time\n",
    "# my_mutuals_mutuals = get_mutuals_ids()"
   ]
  },
  {
   "cell_type": "code",
   "execution_count": 66,
   "metadata": {},
   "outputs": [],
   "source": [
    "my_mutuals_mutuals = json.load(open(\"../data/other_data/NoahSegalGould_Mutuals_and_Mutuals_Mutuals_ids.json\"))"
   ]
  },
  {
   "cell_type": "code",
   "execution_count": 67,
   "metadata": {},
   "outputs": [
    {
     "name": "stdout",
     "output_type": "stream",
     "text": [
      "Total number of my mutuals and my mutuals' mutuals: 4218\n"
     ]
    }
   ],
   "source": [
    "print(\"Total number of my mutuals and my mutuals' mutuals: {}\".format(len(my_mutuals_mutuals)))"
   ]
  },
  {
   "cell_type": "markdown",
   "metadata": {},
   "source": [
    "#### Instantiate the listener"
   ]
  },
  {
   "cell_type": "code",
   "execution_count": 68,
   "metadata": {},
   "outputs": [],
   "source": [
    "stream_listener = StreamListener()\n",
    "stream = tweepy.Stream(auth=api.auth, listener=stream_listener)"
   ]
  },
  {
   "cell_type": "markdown",
   "metadata": {},
   "source": [
    "#### Start the stream asynchronously, and stop it after some duration of seconds"
   ]
  },
  {
   "cell_type": "code",
   "execution_count": 69,
   "metadata": {
    "scrolled": false
   },
   "outputs": [
    {
     "name": "stdout",
     "output_type": "stream",
     "text": [
      "Streaming has started.\n"
     ]
    },
    {
     "name": "stderr",
     "output_type": "stream",
     "text": [
      "/Users/Noah/anaconda/envs/work/lib/python3.6/site-packages/sklearn/externals/joblib/parallel.py:547: UserWarning: Multiprocessing-backed parallel loops cannot be nested below threads, setting n_jobs=1\n",
      "  **self._backend_args)\n"
     ]
    },
    {
     "name": "stdout",
     "output_type": "stream",
     "text": [
      "Subtweet from @marriedfitzsmns (Probability of 99.169%):\n",
      "Sentiment Polarity: 0.4\n",
      "Sentiment Subjectivity: 0.83\n",
      "Time: 2018-03-24 15:51:09\n",
      "Tweet: deke thinking fitz would say blimey is so cute I love one (1) grandson who knows absolutely nothing about his grandfather\n",
      "Total tweets acquired: 406\n",
      "\n",
      "Subtweet from @goheadgomez (Probability of 99.751%):\n",
      "Sentiment Polarity: 0.5\n",
      "Sentiment Subjectivity: 0.2\n",
      "Time: 2018-03-24 15:57:54\n",
      "Tweet: Tanith White commentating Worlds:\n",
      "\n",
      "“Well you look at the very best team in the world, Virtue and Moir they’ve had 21 years together”\n",
      "Total tweets acquired: 1137\n",
      "\n",
      "Subtweet from @howardmegdal (Probability of 99.153%):\n",
      "Sentiment Polarity: -0.1\n",
      "Sentiment Subjectivity: 0.2\n",
      "Time: 2018-03-24 16:20:59\n",
      "Tweet: South Carolina's turnovers in second quarter were traveling, ie. dead ball variety. So Buffalo cannot take off downhill.\n",
      "Total tweets acquired: 4084\n",
      "\n",
      "Subtweet from @sapphicpirate (Probability of 99.056%):\n",
      "Sentiment Polarity: -0.1\n",
      "Sentiment Subjectivity: 0.23\n",
      "Time: 2018-03-24 16:23:57\n",
      "Tweet: I miss drawing fanart all ive been doing in the last couple weeks r stuffs for class n it makes me feel dead inside\n",
      "Total tweets acquired: 4454\n",
      "\n",
      "Subtweet from @MadFatNoDiary (Probability of 99.542%):\n",
      "Sentiment Polarity: 0.0\n",
      "Sentiment Subjectivity: 0.75\n",
      "Time: 2018-03-24 16:25:53\n",
      "Tweet: my cat just walked in on me masturbating and looked at me with such disgust like he's the only pussy i'm allowed to give any attention to?\n",
      "Total tweets acquired: 4665\n",
      "\n",
      "Subtweet from @buzz297 (Probability of 99.166%):\n",
      "Sentiment Polarity: 0.0\n",
      "Sentiment Subjectivity: 0.0\n",
      "Time: 2018-03-24 16:28:23\n",
      "Tweet: Can someone call my work and tell them I can't come back from lunch because I'm listening to music at Wawa and don't wanna move\n",
      "Total tweets acquired: 4989\n",
      "\n",
      "Subtweet from @3yeAmHe (Probability of 99.771%):\n",
      "Sentiment Polarity: -0.042\n",
      "Sentiment Subjectivity: 0.43\n",
      "Time: 2018-03-24 16:34:55\n",
      "Tweet: No one thing is going to be a panacea for Black America. Not Hip Hop. Not Integration. Not Black business. None of these can do it all.\n",
      "Total tweets acquired: 5725\n",
      "\n",
      "Subtweet from @t1ffany4scale (Probability of 99.732%):\n",
      "Sentiment Polarity: 0.6\n",
      "Sentiment Subjectivity: 1.0\n",
      "Time: 2018-03-24 16:39:24\n",
      "Tweet: My response to any yt expat who comes at me from now on: Do you speak that way to the women from your own country?\n",
      "Total tweets acquired: 6332\n",
      "\n",
      "Subtweet from @MyBrooklynBoy (Probability of 99.204%):\n",
      "Sentiment Polarity: 0.05\n",
      "Sentiment Subjectivity: 0.1\n",
      "Time: 2018-03-24 16:39:32\n",
      "Tweet: I wonder why we're so fascinated by beings that could rip us apart with their bare hands, or, errr, claws...\n",
      "Total tweets acquired: 6354\n",
      "\n",
      "Subtweet from @hivehum (Probability of 99.218%):\n",
      "Sentiment Polarity: -0.0056\n",
      "Sentiment Subjectivity: 0.75\n",
      "Time: 2018-03-24 16:54:08\n",
      "Tweet: im extremely amused at how hard the like, lore level overkill my light team is against some fuckin kaiju\n",
      "Total tweets acquired: 8759\n",
      "\n",
      "Subtweet from @hicallista (Probability of 99.297%):\n",
      "Sentiment Polarity: 0.2\n",
      "Sentiment Subjectivity: 0.57\n",
      "Time: 2018-03-24 17:05:53\n",
      "Tweet: it shows how singleminded my focus was on virtuemoir during the olympics that i hardly remembered cappellini/lanotte's dance, it'S SO GOOD\n",
      "Total tweets acquired: 10393\n",
      "\n"
     ]
    },
    {
     "name": "stderr",
     "output_type": "stream",
     "text": [
      "Exception in thread Thread-4:\n",
      "Traceback (most recent call last):\n",
      "  File \"/Users/Noah/anaconda/envs/work/lib/python3.6/http/client.py\", line 583, in _readinto_chunked\n",
      "    n = self._safe_readinto(mvb)\n",
      "  File \"/Users/Noah/anaconda/envs/work/lib/python3.6/http/client.py\", line 630, in _safe_readinto\n",
      "    raise IncompleteRead(bytes(mvb[0:total_bytes]), len(b))\n",
      "http.client.IncompleteRead: IncompleteRead(0 bytes read, 512 more expected)\n",
      "\n",
      "During handling of the above exception, another exception occurred:\n",
      "\n",
      "Traceback (most recent call last):\n",
      "  File \"/Users/Noah/anaconda/envs/work/lib/python3.6/site-packages/urllib3/response.py\", line 302, in _error_catcher\n",
      "    yield\n",
      "  File \"/Users/Noah/anaconda/envs/work/lib/python3.6/site-packages/urllib3/response.py\", line 384, in read\n",
      "    data = self._fp.read(amt)\n",
      "  File \"/Users/Noah/anaconda/envs/work/lib/python3.6/http/client.py\", line 449, in read\n",
      "    n = self.readinto(b)\n",
      "  File \"/Users/Noah/anaconda/envs/work/lib/python3.6/http/client.py\", line 483, in readinto\n",
      "    return self._readinto_chunked(b)\n",
      "  File \"/Users/Noah/anaconda/envs/work/lib/python3.6/http/client.py\", line 594, in _readinto_chunked\n",
      "    raise IncompleteRead(bytes(b[0:total_bytes]))\n",
      "http.client.IncompleteRead: IncompleteRead(0 bytes read)\n",
      "\n",
      "During handling of the above exception, another exception occurred:\n",
      "\n",
      "Traceback (most recent call last):\n",
      "  File \"/Users/Noah/anaconda/envs/work/lib/python3.6/threading.py\", line 916, in _bootstrap_inner\n",
      "    self.run()\n",
      "  File \"/Users/Noah/anaconda/envs/work/lib/python3.6/threading.py\", line 864, in run\n",
      "    self._target(*self._args, **self._kwargs)\n",
      "  File \"/Users/Noah/anaconda/envs/work/lib/python3.6/site-packages/tweepy/streaming.py\", line 297, in _run\n",
      "    six.reraise(*exc_info)\n",
      "  File \"/Users/Noah/anaconda/envs/work/lib/python3.6/site-packages/six.py\", line 693, in reraise\n",
      "    raise value\n",
      "  File \"/Users/Noah/anaconda/envs/work/lib/python3.6/site-packages/tweepy/streaming.py\", line 266, in _run\n",
      "    self._read_loop(resp)\n",
      "  File \"/Users/Noah/anaconda/envs/work/lib/python3.6/site-packages/tweepy/streaming.py\", line 316, in _read_loop\n",
      "    line = buf.read_line().strip()\n",
      "  File \"/Users/Noah/anaconda/envs/work/lib/python3.6/site-packages/tweepy/streaming.py\", line 181, in read_line\n",
      "    self._buffer += self._stream.read(self._chunk_size)\n",
      "  File \"/Users/Noah/anaconda/envs/work/lib/python3.6/site-packages/urllib3/response.py\", line 401, in read\n",
      "    raise IncompleteRead(self._fp_bytes_read, self.length_remaining)\n",
      "  File \"/Users/Noah/anaconda/envs/work/lib/python3.6/contextlib.py\", line 99, in __exit__\n",
      "    self.gen.throw(type, value, traceback)\n",
      "  File \"/Users/Noah/anaconda/envs/work/lib/python3.6/site-packages/urllib3/response.py\", line 320, in _error_catcher\n",
      "    raise ProtocolError('Connection broken: %r' % e, e)\n",
      "urllib3.exceptions.ProtocolError: ('Connection broken: IncompleteRead(0 bytes read)', IncompleteRead(0 bytes read))\n",
      "\n"
     ]
    },
    {
     "ename": "KeyboardInterrupt",
     "evalue": "",
     "output_type": "error",
     "traceback": [
      "\u001b[0;31m---------------------------------------------------------------------------\u001b[0m",
      "\u001b[0;31mKeyboardInterrupt\u001b[0m                         Traceback (most recent call last)",
      "\u001b[0;32m<timed exec>\u001b[0m in \u001b[0;36m<module>\u001b[0;34m()\u001b[0m\n",
      "\u001b[0;31mKeyboardInterrupt\u001b[0m: "
     ]
    }
   ],
   "source": [
    "%%time\n",
    "# bounding_box = [-73.920176, 42.009637,\n",
    "#                 -73.899739, 42.033421]\n",
    "# stream.filter(locations=bounding_box, async=True) # Bard College\n",
    "stream.filter(follow=my_mutuals_mutuals, async=True)\n",
    "print(\"Streaming has started.\")\n",
    "sleep(DURATION)\n",
    "stream.disconnect()"
   ]
  },
  {
   "cell_type": "markdown",
   "metadata": {},
   "source": [
    "#### Plot the results"
   ]
  },
  {
   "cell_type": "code",
   "execution_count": 70,
   "metadata": {},
   "outputs": [],
   "source": [
    "subtweets_df = pd.read_csv(\"../data/data_from_testing/live_downloaded_data/subtweets_live_data.csv\", index_col=0)"
   ]
  },
  {
   "cell_type": "code",
   "execution_count": 71,
   "metadata": {},
   "outputs": [],
   "source": [
    "subtweets_df_columns = [\"screen_name\", \"sentiment_polarity\", \"sentiment_subjectivity\", \"time\", \"tweet\"]"
   ]
  },
  {
   "cell_type": "code",
   "execution_count": 72,
   "metadata": {},
   "outputs": [],
   "source": [
    "subtweets_df_for_plotting = subtweets_df.drop(subtweets_df_columns, axis=1).head(10)"
   ]
  },
  {
   "cell_type": "code",
   "execution_count": 73,
   "metadata": {},
   "outputs": [
    {
     "data": {
      "text/html": [
       "<div>\n",
       "<style scoped>\n",
       "    .dataframe tbody tr th:only-of-type {\n",
       "        vertical-align: middle;\n",
       "    }\n",
       "\n",
       "    .dataframe tbody tr th {\n",
       "        vertical-align: top;\n",
       "    }\n",
       "\n",
       "    .dataframe thead th {\n",
       "        text-align: right;\n",
       "    }\n",
       "</style>\n",
       "<table border=\"1\" class=\"dataframe\">\n",
       "  <thead>\n",
       "    <tr style=\"text-align: right;\">\n",
       "      <th></th>\n",
       "      <th>screen_name</th>\n",
       "      <th>sentiment_polarity</th>\n",
       "      <th>sentiment_subjectivity</th>\n",
       "      <th>subtweet_probability</th>\n",
       "      <th>time</th>\n",
       "      <th>tweet</th>\n",
       "    </tr>\n",
       "  </thead>\n",
       "  <tbody>\n",
       "    <tr>\n",
       "      <th>6</th>\n",
       "      <td>3yeAmHe</td>\n",
       "      <td>-0.041667</td>\n",
       "      <td>0.433333</td>\n",
       "      <td>0.997713</td>\n",
       "      <td>2018-03-24 16:34:55</td>\n",
       "      <td>No one thing is going to be a panacea for Black America. Not Hip Hop. Not Integration. Not Black business. None of these can do it all.</td>\n",
       "    </tr>\n",
       "    <tr>\n",
       "      <th>1</th>\n",
       "      <td>goheadgomez</td>\n",
       "      <td>0.500000</td>\n",
       "      <td>0.195000</td>\n",
       "      <td>0.997505</td>\n",
       "      <td>2018-03-24 15:57:54</td>\n",
       "      <td>Tanith White commentating Worlds:\\n\\n“Well you look at the very best team in the world, Virtue and Moir they’ve had 21 years together”</td>\n",
       "    </tr>\n",
       "    <tr>\n",
       "      <th>7</th>\n",
       "      <td>t1ffany4scale</td>\n",
       "      <td>0.600000</td>\n",
       "      <td>1.000000</td>\n",
       "      <td>0.997320</td>\n",
       "      <td>2018-03-24 16:39:24</td>\n",
       "      <td>My response to any yt expat who comes at me from now on: Do you speak that way to the women from your own country?</td>\n",
       "    </tr>\n",
       "    <tr>\n",
       "      <th>4</th>\n",
       "      <td>MadFatNoDiary</td>\n",
       "      <td>0.000000</td>\n",
       "      <td>0.750000</td>\n",
       "      <td>0.995424</td>\n",
       "      <td>2018-03-24 16:25:53</td>\n",
       "      <td>my cat just walked in on me masturbating and looked at me with such disgust like he's the only pussy i'm allowed to give any attention to?</td>\n",
       "    </tr>\n",
       "    <tr>\n",
       "      <th>10</th>\n",
       "      <td>hicallista</td>\n",
       "      <td>0.204167</td>\n",
       "      <td>0.570833</td>\n",
       "      <td>0.992969</td>\n",
       "      <td>2018-03-24 17:05:53</td>\n",
       "      <td>it shows how singleminded my focus was on virtuemoir during the olympics that i hardly remembered cappellini/lanotte's dance, it'S SO GOOD</td>\n",
       "    </tr>\n",
       "    <tr>\n",
       "      <th>9</th>\n",
       "      <td>hivehum</td>\n",
       "      <td>-0.005556</td>\n",
       "      <td>0.747222</td>\n",
       "      <td>0.992179</td>\n",
       "      <td>2018-03-24 16:54:08</td>\n",
       "      <td>im extremely amused at how hard the like, lore level overkill my light team is against some fuckin kaiju</td>\n",
       "    </tr>\n",
       "    <tr>\n",
       "      <th>8</th>\n",
       "      <td>MyBrooklynBoy</td>\n",
       "      <td>0.050000</td>\n",
       "      <td>0.100000</td>\n",
       "      <td>0.992040</td>\n",
       "      <td>2018-03-24 16:39:32</td>\n",
       "      <td>I wonder why we're so fascinated by beings that could rip us apart with their bare hands, or, errr, claws...</td>\n",
       "    </tr>\n",
       "    <tr>\n",
       "      <th>0</th>\n",
       "      <td>marriedfitzsmns</td>\n",
       "      <td>0.400000</td>\n",
       "      <td>0.833333</td>\n",
       "      <td>0.991692</td>\n",
       "      <td>2018-03-24 15:51:09</td>\n",
       "      <td>deke thinking fitz would say blimey is so cute I love one (1) grandson who knows absolutely nothing about his grandfather</td>\n",
       "    </tr>\n",
       "    <tr>\n",
       "      <th>5</th>\n",
       "      <td>buzz297</td>\n",
       "      <td>0.000000</td>\n",
       "      <td>0.000000</td>\n",
       "      <td>0.991660</td>\n",
       "      <td>2018-03-24 16:28:23</td>\n",
       "      <td>Can someone call my work and tell them I can't come back from lunch because I'm listening to music at Wawa and don't wanna move</td>\n",
       "    </tr>\n",
       "    <tr>\n",
       "      <th>2</th>\n",
       "      <td>howardmegdal</td>\n",
       "      <td>-0.100000</td>\n",
       "      <td>0.200000</td>\n",
       "      <td>0.991532</td>\n",
       "      <td>2018-03-24 16:20:59</td>\n",
       "      <td>South Carolina's turnovers in second quarter were traveling, ie. dead ball variety. So Buffalo cannot take off downhill.</td>\n",
       "    </tr>\n",
       "  </tbody>\n",
       "</table>\n",
       "</div>"
      ],
      "text/plain": [
       "        screen_name  sentiment_polarity  sentiment_subjectivity  \\\n",
       "6           3yeAmHe           -0.041667                0.433333   \n",
       "1       goheadgomez            0.500000                0.195000   \n",
       "7     t1ffany4scale            0.600000                1.000000   \n",
       "4     MadFatNoDiary            0.000000                0.750000   \n",
       "10       hicallista            0.204167                0.570833   \n",
       "9           hivehum           -0.005556                0.747222   \n",
       "8     MyBrooklynBoy            0.050000                0.100000   \n",
       "0   marriedfitzsmns            0.400000                0.833333   \n",
       "5           buzz297            0.000000                0.000000   \n",
       "2      howardmegdal           -0.100000                0.200000   \n",
       "\n",
       "    subtweet_probability                 time  \\\n",
       "6               0.997713  2018-03-24 16:34:55   \n",
       "1               0.997505  2018-03-24 15:57:54   \n",
       "7               0.997320  2018-03-24 16:39:24   \n",
       "4               0.995424  2018-03-24 16:25:53   \n",
       "10              0.992969  2018-03-24 17:05:53   \n",
       "9               0.992179  2018-03-24 16:54:08   \n",
       "8               0.992040  2018-03-24 16:39:32   \n",
       "0               0.991692  2018-03-24 15:51:09   \n",
       "5               0.991660  2018-03-24 16:28:23   \n",
       "2               0.991532  2018-03-24 16:20:59   \n",
       "\n",
       "                                                                                                                                         tweet  \n",
       "6      No one thing is going to be a panacea for Black America. Not Hip Hop. Not Integration. Not Black business. None of these can do it all.  \n",
       "1       Tanith White commentating Worlds:\\n\\n“Well you look at the very best team in the world, Virtue and Moir they’ve had 21 years together”  \n",
       "7                           My response to any yt expat who comes at me from now on: Do you speak that way to the women from your own country?  \n",
       "4   my cat just walked in on me masturbating and looked at me with such disgust like he's the only pussy i'm allowed to give any attention to?  \n",
       "10  it shows how singleminded my focus was on virtuemoir during the olympics that i hardly remembered cappellini/lanotte's dance, it'S SO GOOD  \n",
       "9                                     im extremely amused at how hard the like, lore level overkill my light team is against some fuckin kaiju  \n",
       "8                                 I wonder why we're so fascinated by beings that could rip us apart with their bare hands, or, errr, claws...  \n",
       "0                    deke thinking fitz would say blimey is so cute I love one (1) grandson who knows absolutely nothing about his grandfather  \n",
       "5              Can someone call my work and tell them I can't come back from lunch because I'm listening to music at Wawa and don't wanna move  \n",
       "2                     South Carolina's turnovers in second quarter were traveling, ie. dead ball variety. So Buffalo cannot take off downhill.  "
      ]
     },
     "execution_count": 73,
     "metadata": {},
     "output_type": "execute_result"
    }
   ],
   "source": [
    "subtweets_df.head(10)"
   ]
  },
  {
   "cell_type": "code",
   "execution_count": 74,
   "metadata": {},
   "outputs": [
    {
     "data": {
      "image/png": "[encoded data removed]",
      "text/plain": [
       "<Figure size 1152x648 with 1 Axes>"
      ]
     },
     "metadata": {},
     "output_type": "display_data"
    }
   ],
   "source": [
    "ax = subtweets_df_for_plotting.plot.barh(logx=True, figsize=(16, 9), color=\"maroon\", fontsize=13);\n",
    "ax.set_alpha(0.8)\n",
    "ax.set_title(\"Live Downloaded Subtweets Test\", fontsize=18)\n",
    "ax.set_ylabel(\"Row Index\", fontsize=18);\n",
    "ax.set_xlabel(\"Subtweet Percentage Probability (logarithmic)\", fontsize=18);\n",
    "for i in ax.patches:\n",
    "    ax.text(i.get_width(), i.get_y() + 0.325, \"{:.3%}\".format(i.get_width()), fontsize=10, color=\"black\")\n",
    "ax.invert_yaxis()"
   ]
  }
 ],
 "metadata": {
  "kernelspec": {
   "display_name": "Python 3",
   "language": "python",
   "name": "python3"
  },
  "language_info": {
   "codemirror_mode": {
    "name": "ipython",
    "version": 3
   },
   "file_extension": ".py",
   "mimetype": "text/x-python",
   "name": "python",
   "nbconvert_exporter": "python",
   "pygments_lexer": "ipython3",
   "version": "3.6.4"
  }
 },
 "nbformat": 4,
 "nbformat_minor": 2
}
