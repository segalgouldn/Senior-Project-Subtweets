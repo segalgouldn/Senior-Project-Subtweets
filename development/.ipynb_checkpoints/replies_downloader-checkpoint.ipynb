{
 "cells": [
  {
   "cell_type": "markdown",
   "metadata": {},
   "source": [
    "## Non-subtweets Downloader Jupyter Notebook-in-Progress"
   ]
  },
  {
   "cell_type": "code",
   "execution_count": null,
   "metadata": {},
   "outputs": [],
   "source": [
    "import tweepy\n",
    "import json"
   ]
  },
  {
   "cell_type": "markdown",
   "metadata": {},
   "source": [
    "#### Set up access to the API"
   ]
  },
  {
   "cell_type": "code",
   "execution_count": null,
   "metadata": {},
   "outputs": [],
   "source": [
    "consumer_key, consumer_secret, access_token, access_token_secret = open(\"credentials_1.txt\").read().split(\"\\n\")"
   ]
  },
  {
   "cell_type": "code",
   "execution_count": null,
   "metadata": {},
   "outputs": [],
   "source": [
    "auth = tweepy.OAuthHandler(consumer_key, consumer_secret)\n",
    "auth.set_access_token(access_token, access_token_secret)"
   ]
  },
  {
   "cell_type": "markdown",
   "metadata": {},
   "source": [
    "#### Specifically take advantage of built-in methods to handle Twitter API rate limits"
   ]
  },
  {
   "cell_type": "code",
   "execution_count": null,
   "metadata": {},
   "outputs": [],
   "source": [
    "api = tweepy.API(auth, wait_on_rate_limit=True, wait_on_rate_limit_notify=True, compression=True)"
   ]
  },
  {
   "cell_type": "markdown",
   "metadata": {},
   "source": [
    "#### Find tweets with replies that do not claim it is a subtweet"
   ]
  },
  {
   "cell_type": "code",
   "execution_count": null,
   "metadata": {},
   "outputs": [],
   "source": [
    "def get_non_subtweets(max_tweets=20000, max_replies=10, query=(\"since:2018-02-28 \" \n",
    "                                                               + \"until:2018-03-28 \" \n",
    "                                                               + \"exclude:retweets \" \n",
    "                                                               + \"exclude:replies\")):\n",
    "    non_subtweets_list = []\n",
    "    i = 0\n",
    "    for potential_non_subtweet in tweepy.Cursor(api.search, \n",
    "                                                lang=\"en\", \n",
    "                                                tweet_mode=\"extended\", \n",
    "                                                q=query).items(max_tweets):\n",
    "        i += 1\n",
    "        if (potential_non_subtweet.in_reply_to_status_id_str \n",
    "            or \"subtweet\" in potential_non_subtweet.full_text \n",
    "            or \"Subtweet\" in potential_non_subtweet.full_text):\n",
    "            continue\n",
    "        replies = [reply for reply in tweepy.Cursor(api.search, \n",
    "                                                    lang=\"en\",\n",
    "                                                    tweet_mode=\"extended\", \n",
    "                                                    q=\"to:{} exclude:retweets\".format(potential_non_subtweet.user.screen_name), \n",
    "                                                    since_id=potential_non_subtweet.id_str).items(max_replies)]\n",
    "        valid_replies = True\n",
    "        for reply in replies:\n",
    "            if valid_replies and (\"subtweet\" in reply.full_text or \"Subtweet\" in reply.full_text):\n",
    "                valid_replies = False\n",
    "                break\n",
    "        if valid_replies and len(replies) > 0:\n",
    "            print(\"Tweet #{0} is not a subtweet: {1}\\n\".format(i+1,\n",
    "                                                               potential_non_subtweet.full_text.replace(\"\\n\", \" \")))\n",
    "            non_subtweets_list.append({\"tweet_data\": potential_non_subtweet._json, \n",
    "                                       \"replies\": [reply._json for reply in replies]})\n",
    "    return non_subtweets_list"
   ]
  },
  {
   "cell_type": "code",
   "execution_count": null,
   "metadata": {
    "scrolled": true
   },
   "outputs": [],
   "source": [
    "%%time\n",
    "non_subtweets_list = get_non_subtweets()\n",
    "print(len(non_subtweets_list))\n",
    "with open(\"non_subtweets.json\", \"w\") as outfile:\n",
    "    json.dump(non_subtweets_list, outfile, indent=4)"
   ]
  },
  {
   "cell_type": "code",
   "execution_count": null,
   "metadata": {},
   "outputs": [],
   "source": []
  }
 ],
 "metadata": {
  "kernelspec": {
   "display_name": "Python 3",
   "language": "python",
   "name": "python3"
  },
  "language_info": {
   "codemirror_mode": {
    "name": "ipython",
    "version": 3
   },
   "file_extension": ".py",
   "mimetype": "text/x-python",
   "name": "python",
   "nbconvert_exporter": "python",
   "pygments_lexer": "ipython3",
   "version": "3.6.4"
  }
 },
 "nbformat": 4,
 "nbformat_minor": 2
}
