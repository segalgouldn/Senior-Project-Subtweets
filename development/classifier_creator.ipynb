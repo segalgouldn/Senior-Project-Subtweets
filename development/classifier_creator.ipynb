{
 "cells": [
  {
   "cell_type": "markdown",
   "metadata": {},
   "source": [
    "## Using Scikit-Learn and NLTK to build a Naive Bayes Classifier that identifies subtweets"
   ]
  },
  {
   "cell_type": "markdown",
   "metadata": {},
   "source": [
    "#### In all tables, assume:\n",
    "* \"➊\" represents a single hashtag\n",
    "* \"➋\" represents a single URL\n",
    "* \"➌\" represents a single mention of username (e.g. \"@noah\")"
   ]
  },
  {
   "cell_type": "markdown",
   "metadata": {},
   "source": [
    "#### Import libraries"
   ]
  },
  {
   "cell_type": "code",
   "execution_count": 1,
   "metadata": {},
   "outputs": [],
   "source": [
    "%matplotlib inline"
   ]
  },
  {
   "cell_type": "code",
   "execution_count": 2,
   "metadata": {},
   "outputs": [],
   "source": [
    "from sklearn.feature_extraction import text\n",
    "from sklearn.feature_extraction.text import TfidfVectorizer\n",
    "from sklearn.naive_bayes import MultinomialNB\n",
    "from sklearn.pipeline import Pipeline\n",
    "from sklearn.model_selection import KFold\n",
    "from sklearn.metrics import classification_report, confusion_matrix, accuracy_score\n",
    "from sklearn.externals import joblib\n",
    "from nltk.corpus import stopwords\n",
    "from random import choice\n",
    "from string import punctuation\n",
    "\n",
    "import matplotlib.pyplot as plt\n",
    "import pandas as pd\n",
    "import numpy as np\n",
    "\n",
    "import scipy.stats\n",
    "import itertools\n",
    "import enchant\n",
    "import nltk\n",
    "import json\n",
    "import re"
   ]
  },
  {
   "cell_type": "markdown",
   "metadata": {},
   "source": [
    "#### Set up some regex patterns"
   ]
  },
  {
   "cell_type": "code",
   "execution_count": 3,
   "metadata": {},
   "outputs": [],
   "source": [
    "hashtags_pattern = r'(\\#[a-zA-Z0-9]+)'"
   ]
  },
  {
   "cell_type": "code",
   "execution_count": 4,
   "metadata": {},
   "outputs": [],
   "source": [
    "urls_pattern = r'(?i)\\b((?:https?://|www\\d{0,3}[.]|[a-z0-9.\\-]+[.][a-z]{2,4}/)(?:[^\\s()<>]|\\(([^\\s()<>]+|(\\([^\\s()<>]+\\)))*\\))+(?:\\(([^\\s()<>]+|(\\([^\\s()<>]+\\)))*\\)|[^\\s`!()\\[\\]{};:\\'\".,<>?\\xab\\xbb\\u201c\\u201d\\u2018\\u2019]))'\n"
   ]
  },
  {
   "cell_type": "code",
   "execution_count": 5,
   "metadata": {},
   "outputs": [],
   "source": [
    "at_mentions_pattern = r'(?<=^|(?<=[^a-zA-Z0-9-\\.]))@([A-Za-z0-9_]+)'"
   ]
  },
  {
   "cell_type": "markdown",
   "metadata": {},
   "source": [
    "#### Prepare English dictionary for language detection"
   ]
  },
  {
   "cell_type": "code",
   "execution_count": 6,
   "metadata": {},
   "outputs": [],
   "source": [
    "english_dict = enchant.Dict(\"en_US\")"
   ]
  },
  {
   "cell_type": "markdown",
   "metadata": {},
   "source": [
    "#### Use NLTK's tokenizer instead of Scikit's"
   ]
  },
  {
   "cell_type": "code",
   "execution_count": 7,
   "metadata": {},
   "outputs": [],
   "source": [
    "tokenizer = nltk.casual.TweetTokenizer(preserve_case=False, reduce_len=True)"
   ]
  },
  {
   "cell_type": "markdown",
   "metadata": {},
   "source": [
    "#### Prepare for viewing long text in CSVs and ones with really big and small numbers"
   ]
  },
  {
   "cell_type": "code",
   "execution_count": 8,
   "metadata": {},
   "outputs": [],
   "source": [
    "pd.set_option(\"max_colwidth\", 1000)"
   ]
  },
  {
   "cell_type": "code",
   "execution_count": 9,
   "metadata": {},
   "outputs": [],
   "source": [
    "pd.options.display.float_format = \"{:.4f}\".format"
   ]
  },
  {
   "cell_type": "markdown",
   "metadata": {},
   "source": [
    "#### Load the two data files"
   ]
  },
  {
   "cell_type": "code",
   "execution_count": 10,
   "metadata": {},
   "outputs": [],
   "source": [
    "subtweets_data = [t for t in json.load(open(\"../data/other_data/subtweets.json\")) \n",
    "                  if t[\"tweet_data\"][\"user\"][\"lang\"] == \"en\" \n",
    "                  and t[\"reply\"][\"user\"][\"lang\"] == \"en\"]"
   ]
  },
  {
   "cell_type": "code",
   "execution_count": 11,
   "metadata": {},
   "outputs": [],
   "source": [
    "non_subtweets_data = [t for t in json.load(open(\"../data/other_data/non_subtweets.json\")) \n",
    "                      if t[\"tweet_data\"][\"user\"][\"lang\"] == \"en\" \n",
    "                      and t[\"reply\"][\"user\"][\"lang\"] == \"en\"]"
   ]
  },
  {
   "cell_type": "markdown",
   "metadata": {},
   "source": [
    "#### Only use tweets with at least 50% English words\n",
    "#### Also, make the mentions of usernames, URLs, and hashtags generic"
   ]
  },
  {
   "cell_type": "code",
   "execution_count": 12,
   "metadata": {},
   "outputs": [
    {
     "name": "stdout",
     "output_type": "stream",
     "text": [
      "CPU times: user 268 ms, sys: 16.6 ms, total: 284 ms\n",
      "Wall time: 297 ms\n"
     ]
    }
   ],
   "source": [
    "%%time\n",
    "subtweets_data = [(re.sub(hashtags_pattern, \n",
    "                          \"➊\", \n",
    "                          re.sub(urls_pattern, \n",
    "                                 \"➋\", \n",
    "                                 re.sub(at_mentions_pattern, \n",
    "                                        \"➌\", \n",
    "                                        t[\"tweet_data\"][\"full_text\"])))\n",
    "                   .replace(\"\\u2018\", \"'\")\n",
    "                   .replace(\"\\u2019\", \"'\")\n",
    "                   .replace(\"&quot;\", \"\\\"\")\n",
    "                   .replace(\"&amp;\", \"&\")\n",
    "                   .replace(\"&gt;\", \">\")\n",
    "                   .replace(\"&lt;\", \"<\"))\n",
    "                  for t in subtweets_data]"
   ]
  },
  {
   "cell_type": "code",
   "execution_count": 13,
   "metadata": {},
   "outputs": [],
   "source": [
    "new_subtweets_data = []\n",
    "for tweet in subtweets_data:\n",
    "    tokens = tokenizer.tokenize(tweet)\n",
    "    english_tokens = [english_dict.check(token) for token in tokens]\n",
    "    percent_english_words = sum(english_tokens)/len(english_tokens)\n",
    "    if percent_english_words >= 0.5:\n",
    "        new_subtweets_data.append(tweet)"
   ]
  },
  {
   "cell_type": "code",
   "execution_count": 14,
   "metadata": {},
   "outputs": [
    {
     "name": "stdout",
     "output_type": "stream",
     "text": [
      "CPU times: user 418 ms, sys: 31.7 ms, total: 450 ms\n",
      "Wall time: 452 ms\n"
     ]
    }
   ],
   "source": [
    "%%time\n",
    "non_subtweets_data = [(re.sub(hashtags_pattern, \n",
    "                              \"➊\", \n",
    "                              re.sub(urls_pattern, \n",
    "                                     \"➋\", \n",
    "                                     re.sub(at_mentions_pattern, \n",
    "                                            \"➌\", \n",
    "                                            t[\"tweet_data\"][\"full_text\"])))\n",
    "                       .replace(\"\\u2018\", \"'\")\n",
    "                       .replace(\"\\u2019\", \"'\")\n",
    "                       .replace(\"&quot;\", \"\\\"\")\n",
    "                       .replace(\"&amp;\", \"&\")\n",
    "                       .replace(\"&gt;\", \">\")\n",
    "                       .replace(\"&lt;\", \"<\"))\n",
    "                      for t in non_subtweets_data]"
   ]
  },
  {
   "cell_type": "code",
   "execution_count": 15,
   "metadata": {},
   "outputs": [],
   "source": [
    "new_non_subtweets_data = []\n",
    "for tweet in non_subtweets_data:\n",
    "    tokens = tokenizer.tokenize(tweet)\n",
    "    english_tokens = [english_dict.check(token) for token in tokens]\n",
    "    percent_english_words = sum(english_tokens)/len(english_tokens)\n",
    "    if percent_english_words >= 0.5:\n",
    "        new_non_subtweets_data.append(tweet)"
   ]
  },
  {
   "cell_type": "markdown",
   "metadata": {},
   "source": [
    "#### Show examples"
   ]
  },
  {
   "cell_type": "code",
   "execution_count": 16,
   "metadata": {},
   "outputs": [
    {
     "name": "stdout",
     "output_type": "stream",
     "text": [
      "Subtweets dataset example:\n",
      "My feelings are all over the place. We're supposed to be engaged and both of us being busy dosen't help. I guess the babies just complete our little family and we'll have more time with each other when they come.😔\n"
     ]
    }
   ],
   "source": [
    "print(\"Subtweets dataset example:\")\n",
    "print(choice(new_subtweets_data))"
   ]
  },
  {
   "cell_type": "code",
   "execution_count": 17,
   "metadata": {},
   "outputs": [
    {
     "name": "stdout",
     "output_type": "stream",
     "text": [
      "Non-subtweets dataset example:\n",
      "➌ Hi there! I wasn't able to get through by phone, so I thought I'd ask my MtG question here: Are you taking preorders for booster boxes of Dominaria? If so, how much are they and can they be collected at the prerelease event?\n",
      "Thank you!\n"
     ]
    }
   ],
   "source": [
    "print(\"Non-subtweets dataset example:\")\n",
    "print(choice(new_non_subtweets_data))"
   ]
  },
  {
   "cell_type": "markdown",
   "metadata": {},
   "source": [
    "#### Find the length of the smaller dataset"
   ]
  },
  {
   "cell_type": "code",
   "execution_count": 18,
   "metadata": {},
   "outputs": [],
   "source": [
    "smallest_length = len(min([new_subtweets_data, new_non_subtweets_data], key=len))"
   ]
  },
  {
   "cell_type": "markdown",
   "metadata": {},
   "source": [
    "#### Cut both down to be the same length"
   ]
  },
  {
   "cell_type": "code",
   "execution_count": 19,
   "metadata": {},
   "outputs": [],
   "source": [
    "subtweets_data = new_subtweets_data[:smallest_length]"
   ]
  },
  {
   "cell_type": "code",
   "execution_count": 20,
   "metadata": {},
   "outputs": [],
   "source": [
    "non_subtweets_data = new_non_subtweets_data[:smallest_length]"
   ]
  },
  {
   "cell_type": "code",
   "execution_count": 21,
   "metadata": {},
   "outputs": [
    {
     "name": "stdout",
     "output_type": "stream",
     "text": [
      "Smallest dataset length: 7837\n"
     ]
    }
   ],
   "source": [
    "print(\"Smallest dataset length: {}\".format(len(non_subtweets_data)))"
   ]
  },
  {
   "cell_type": "markdown",
   "metadata": {},
   "source": [
    "#### Prepare data for training"
   ]
  },
  {
   "cell_type": "code",
   "execution_count": 22,
   "metadata": {},
   "outputs": [],
   "source": [
    "subtweets_data = [(tweet, \"subtweet\") for tweet in subtweets_data]"
   ]
  },
  {
   "cell_type": "code",
   "execution_count": 23,
   "metadata": {},
   "outputs": [],
   "source": [
    "non_subtweets_data = [(tweet, \"non-subtweet\") for tweet in non_subtweets_data]"
   ]
  },
  {
   "cell_type": "markdown",
   "metadata": {},
   "source": [
    "#### Combine them"
   ]
  },
  {
   "cell_type": "code",
   "execution_count": 24,
   "metadata": {},
   "outputs": [],
   "source": [
    "training_data = subtweets_data + non_subtweets_data"
   ]
  },
  {
   "cell_type": "markdown",
   "metadata": {},
   "source": [
    "#### Create custom stop words to include generic usernames, URLs, and hashtags, as well as common English first names"
   ]
  },
  {
   "cell_type": "code",
   "execution_count": 25,
   "metadata": {},
   "outputs": [],
   "source": [
    "names_lower = set([name.lower() for name in open(\"../data/other_data/first_names.txt\").read().split(\"\\n\")])"
   ]
  },
  {
   "cell_type": "code",
   "execution_count": 26,
   "metadata": {},
   "outputs": [],
   "source": [
    "generic_tokens = {\"➊\", \"➋\", \"➌\"}"
   ]
  },
  {
   "cell_type": "code",
   "execution_count": 27,
   "metadata": {},
   "outputs": [],
   "source": [
    "stop_words = text.ENGLISH_STOP_WORDS | names_lower | generic_tokens"
   ]
  },
  {
   "cell_type": "markdown",
   "metadata": {},
   "source": [
    "#### Build the pipeline"
   ]
  },
  {
   "cell_type": "code",
   "execution_count": 28,
   "metadata": {},
   "outputs": [],
   "source": [
    "sentiment_pipeline = Pipeline([\n",
    "    (\"vectorizer\", TfidfVectorizer(tokenizer=tokenizer.tokenize, \n",
    "                                   ngram_range=(1, 3), \n",
    "                                   stop_words=stop_words)),\n",
    "    (\"classifier\", MultinomialNB())\n",
    "])"
   ]
  },
  {
   "cell_type": "markdown",
   "metadata": {},
   "source": [
    "#### K-Folds splits up and separates out 10 training and test sets from the data, from which the classifier is trained and the confusion matrix and classification reports are updated"
   ]
  },
  {
   "cell_type": "code",
   "execution_count": 29,
   "metadata": {},
   "outputs": [],
   "source": [
    "text_training_data = np.array([row[0] for row in training_data])"
   ]
  },
  {
   "cell_type": "code",
   "execution_count": 30,
   "metadata": {},
   "outputs": [],
   "source": [
    "class_training_data = np.array([row[1] for row in training_data])"
   ]
  },
  {
   "cell_type": "code",
   "execution_count": 31,
   "metadata": {},
   "outputs": [],
   "source": [
    "num_folds=10"
   ]
  },
  {
   "cell_type": "code",
   "execution_count": 32,
   "metadata": {},
   "outputs": [],
   "source": [
    "kf = KFold(n_splits=num_folds, random_state=42, shuffle=True)"
   ]
  },
  {
   "cell_type": "code",
   "execution_count": 33,
   "metadata": {
    "scrolled": false
   },
   "outputs": [
    {
     "name": "stdout",
     "output_type": "stream",
     "text": [
      "Iteration 1\n",
      "              precision    recall  f1-score   support\n",
      "\n",
      "non-subtweet      0.732     0.644     0.685       793\n",
      "    subtweet      0.676     0.759     0.715       775\n",
      "\n",
      " avg / total      0.704     0.701     0.700      1568\n",
      "\n",
      "null accuracy: 0.506\n",
      "\n",
      "=====================================================\n",
      "Iteration 2\n",
      "              precision    recall  f1-score   support\n",
      "\n",
      "non-subtweet      0.688     0.631     0.658       789\n",
      "    subtweet      0.655     0.710     0.681       779\n",
      "\n",
      " avg / total      0.672     0.670     0.670      1568\n",
      "\n",
      "null accuracy: 0.503\n",
      "\n",
      "=====================================================\n",
      "Iteration 3\n",
      "              precision    recall  f1-score   support\n",
      "\n",
      "non-subtweet      0.703     0.685     0.694       769\n",
      "    subtweet      0.704     0.721     0.712       799\n",
      "\n",
      " avg / total      0.703     0.703     0.703      1568\n",
      "\n",
      "null accuracy: 0.510\n",
      "\n",
      "=====================================================\n",
      "Iteration 4\n",
      "              precision    recall  f1-score   support\n",
      "\n",
      "non-subtweet      0.731     0.639     0.682       801\n",
      "    subtweet      0.667     0.755     0.708       767\n",
      "\n",
      " avg / total      0.700     0.696     0.695      1568\n",
      "\n",
      "null accuracy: 0.511\n",
      "\n",
      "=====================================================\n",
      "Iteration 5\n",
      "              precision    recall  f1-score   support\n",
      "\n",
      "non-subtweet      0.708     0.656     0.681       779\n",
      "    subtweet      0.683     0.732     0.707       788\n",
      "\n",
      " avg / total      0.695     0.694     0.694      1567\n",
      "\n",
      "null accuracy: 0.503\n",
      "\n",
      "=====================================================\n",
      "Iteration 6\n",
      "              precision    recall  f1-score   support\n",
      "\n",
      "non-subtweet      0.684     0.662     0.673       758\n",
      "    subtweet      0.693     0.713     0.703       809\n",
      "\n",
      " avg / total      0.688     0.689     0.688      1567\n",
      "\n",
      "null accuracy: 0.516\n",
      "\n",
      "=====================================================\n",
      "Iteration 7\n",
      "              precision    recall  f1-score   support\n",
      "\n",
      "non-subtweet      0.699     0.630     0.662       751\n",
      "    subtweet      0.688     0.750     0.717       816\n",
      "\n",
      " avg / total      0.693     0.692     0.691      1567\n",
      "\n",
      "null accuracy: 0.521\n",
      "\n",
      "=====================================================\n",
      "Iteration 8\n",
      "              precision    recall  f1-score   support\n",
      "\n",
      "non-subtweet      0.733     0.643     0.685       812\n",
      "    subtweet      0.661     0.748     0.702       755\n",
      "\n",
      " avg / total      0.698     0.694     0.693      1567\n",
      "\n",
      "null accuracy: 0.518\n",
      "\n",
      "=====================================================\n",
      "Iteration 9\n",
      "              precision    recall  f1-score   support\n",
      "\n",
      "non-subtweet      0.731     0.642     0.683       829\n",
      "    subtweet      0.646     0.734     0.687       738\n",
      "\n",
      " avg / total      0.691     0.685     0.685      1567\n",
      "\n",
      "null accuracy: 0.529\n",
      "\n",
      "=====================================================\n",
      "Iteration 10\n",
      "              precision    recall  f1-score   support\n",
      "\n",
      "non-subtweet      0.707     0.681     0.694       756\n",
      "    subtweet      0.713     0.737     0.725       811\n",
      "\n",
      " avg / total      0.710     0.710     0.710      1567\n",
      "\n",
      "null accuracy: 0.518\n",
      "\n",
      "=====================================================\n",
      "CPU times: user 45.3 s, sys: 1.49 s, total: 46.8 s\n",
      "Wall time: 51.8 s\n"
     ]
    }
   ],
   "source": [
    "%%time\n",
    "cnf_matrix = np.zeros((2, 2), dtype=int)\n",
    "for i, (train_index, test_index) in enumerate(kf.split(text_training_data)):\n",
    "    \n",
    "    text_train, text_test = text_training_data[train_index], text_training_data[test_index]\n",
    "    class_train, class_test = class_training_data[train_index], class_training_data[test_index]\n",
    "    \n",
    "    sentiment_pipeline.fit(text_train, class_train)\n",
    "    predictions = sentiment_pipeline.predict(text_test)\n",
    "        \n",
    "    cnf_matrix += confusion_matrix(class_test, predictions)\n",
    "    \n",
    "    print(\"Iteration {}\".format(i+1))\n",
    "    print(classification_report(class_test, predictions, digits=3))\n",
    "    print(\"null accuracy: {:.3f}\\n\".format(max(pd.value_counts(pd.Series(class_test)))/float(len(class_test))))\n",
    "    print(\"=\"*53)"
   ]
  },
  {
   "cell_type": "markdown",
   "metadata": {},
   "source": [
    "#### See the most informative features"
   ]
  },
  {
   "cell_type": "code",
   "execution_count": 34,
   "metadata": {},
   "outputs": [],
   "source": [
    "def most_informative_features(pipeline, n=50):\n",
    "    vectorizer = pipeline.named_steps[\"vectorizer\"]\n",
    "    classifier = pipeline.named_steps[\"classifier\"]\n",
    "    \n",
    "    class_labels = classifier.classes_\n",
    "    \n",
    "    feature_names = vectorizer.get_feature_names()\n",
    "    \n",
    "    top_n_class_1 = sorted(zip(classifier.coef_[0], feature_names))[:n]\n",
    "    top_n_class_2 = sorted(zip(classifier.coef_[0], feature_names))[-n:]\n",
    "    \n",
    "    return {class_labels[0]: pd.DataFrame({\"Weight\": [tup[0] for tup in top_n_class_1], \n",
    "                                           \"Feature\": [tup[1] for tup in top_n_class_1]}), \n",
    "            class_labels[1]: pd.DataFrame({\"Weight\": [tup[0] for tup in reversed(top_n_class_2)],\n",
    "                                           \"Feature\": [tup[1] for tup in reversed(top_n_class_2)]})}"
   ]
  },
  {
   "cell_type": "code",
   "execution_count": 35,
   "metadata": {},
   "outputs": [],
   "source": [
    "most_informative_features_all = most_informative_features(sentiment_pipeline)"
   ]
  },
  {
   "cell_type": "code",
   "execution_count": 36,
   "metadata": {},
   "outputs": [],
   "source": [
    "most_informative_features_non_subtweet = most_informative_features_all[\"non-subtweet\"]"
   ]
  },
  {
   "cell_type": "code",
   "execution_count": 37,
   "metadata": {},
   "outputs": [],
   "source": [
    "most_informative_features_subtweet = most_informative_features_all[\"subtweet\"]"
   ]
  },
  {
   "cell_type": "code",
   "execution_count": 38,
   "metadata": {},
   "outputs": [
    {
     "data": {
      "text/html": [
       "<div>\n",
       "<style scoped>\n",
       "    .dataframe tbody tr th:only-of-type {\n",
       "        vertical-align: middle;\n",
       "    }\n",
       "\n",
       "    .dataframe tbody tr th {\n",
       "        vertical-align: top;\n",
       "    }\n",
       "\n",
       "    .dataframe thead th {\n",
       "        text-align: right;\n",
       "    }\n",
       "</style>\n",
       "<table border=\"1\" class=\"dataframe\">\n",
       "  <thead>\n",
       "    <tr style=\"text-align: right;\">\n",
       "      <th></th>\n",
       "      <th>Feature (Non-subtweet)</th>\n",
       "      <th>Weight (Non-subtweet)</th>\n",
       "      <th>Feature (Subtweet)</th>\n",
       "      <th>Weight (Subtweet)</th>\n",
       "    </tr>\n",
       "  </thead>\n",
       "  <tbody>\n",
       "    <tr>\n",
       "      <th>0</th>\n",
       "      <td>! ! &amp;</td>\n",
       "      <td>-12.6640</td>\n",
       "      <td>.</td>\n",
       "      <td>-7.5326</td>\n",
       "    </tr>\n",
       "    <tr>\n",
       "      <th>1</th>\n",
       "      <td>! ! (</td>\n",
       "      <td>-12.6640</td>\n",
       "      <td>,</td>\n",
       "      <td>-7.9221</td>\n",
       "    </tr>\n",
       "    <tr>\n",
       "      <th>2</th>\n",
       "      <td>! ! )</td>\n",
       "      <td>-12.6640</td>\n",
       "      <td>people</td>\n",
       "      <td>-8.3929</td>\n",
       "    </tr>\n",
       "    <tr>\n",
       "      <th>3</th>\n",
       "      <td>! ! .</td>\n",
       "      <td>-12.6640</td>\n",
       "      <td>?</td>\n",
       "      <td>-8.4622</td>\n",
       "    </tr>\n",
       "    <tr>\n",
       "      <th>4</th>\n",
       "      <td>! ! 100</td>\n",
       "      <td>-12.6640</td>\n",
       "      <td>don't</td>\n",
       "      <td>-8.5613</td>\n",
       "    </tr>\n",
       "    <tr>\n",
       "      <th>5</th>\n",
       "      <td>! ! 15</td>\n",
       "      <td>-12.6640</td>\n",
       "      <td>like</td>\n",
       "      <td>-8.5917</td>\n",
       "    </tr>\n",
       "    <tr>\n",
       "      <th>6</th>\n",
       "      <td>! ! 3</td>\n",
       "      <td>-12.6640</td>\n",
       "      <td>\"</td>\n",
       "      <td>-8.6097</td>\n",
       "    </tr>\n",
       "    <tr>\n",
       "      <th>7</th>\n",
       "      <td>! ! 5</td>\n",
       "      <td>-12.6640</td>\n",
       "      <td>just</td>\n",
       "      <td>-8.6781</td>\n",
       "    </tr>\n",
       "    <tr>\n",
       "      <th>8</th>\n",
       "      <td>! ! 8am</td>\n",
       "      <td>-12.6640</td>\n",
       "      <td>i'm</td>\n",
       "      <td>-8.6996</td>\n",
       "    </tr>\n",
       "    <tr>\n",
       "      <th>9</th>\n",
       "      <td>! ! :)</td>\n",
       "      <td>-12.6640</td>\n",
       "      <td>!</td>\n",
       "      <td>-8.9060</td>\n",
       "    </tr>\n",
       "    <tr>\n",
       "      <th>10</th>\n",
       "      <td>! ! ;)</td>\n",
       "      <td>-12.6640</td>\n",
       "      <td>it's</td>\n",
       "      <td>-8.9756</td>\n",
       "    </tr>\n",
       "    <tr>\n",
       "      <th>11</th>\n",
       "      <td>! ! absolutely</td>\n",
       "      <td>-12.6640</td>\n",
       "      <td>...</td>\n",
       "      <td>-9.0457</td>\n",
       "    </tr>\n",
       "    <tr>\n",
       "      <th>12</th>\n",
       "      <td>! ! amazing</td>\n",
       "      <td>-12.6640</td>\n",
       "      <td>you're</td>\n",
       "      <td>-9.0515</td>\n",
       "    </tr>\n",
       "    <tr>\n",
       "      <th>13</th>\n",
       "      <td>! ! ask</td>\n",
       "      <td>-12.6640</td>\n",
       "      <td>:</td>\n",
       "      <td>-9.0737</td>\n",
       "    </tr>\n",
       "    <tr>\n",
       "      <th>14</th>\n",
       "      <td>! ! awesome</td>\n",
       "      <td>-12.6640</td>\n",
       "      <td>know</td>\n",
       "      <td>-9.0953</td>\n",
       "    </tr>\n",
       "    <tr>\n",
       "      <th>15</th>\n",
       "      <td>! ! big</td>\n",
       "      <td>-12.6640</td>\n",
       "      <td>twitter</td>\n",
       "      <td>-9.1468</td>\n",
       "    </tr>\n",
       "    <tr>\n",
       "      <th>16</th>\n",
       "      <td>! ! bite</td>\n",
       "      <td>-12.6640</td>\n",
       "      <td>friends</td>\n",
       "      <td>-9.1676</td>\n",
       "    </tr>\n",
       "    <tr>\n",
       "      <th>17</th>\n",
       "      <td>! ! close</td>\n",
       "      <td>-12.6640</td>\n",
       "      <td>”</td>\n",
       "      <td>-9.2655</td>\n",
       "    </tr>\n",
       "    <tr>\n",
       "      <th>18</th>\n",
       "      <td>! ! collection</td>\n",
       "      <td>-12.6640</td>\n",
       "      <td>“</td>\n",
       "      <td>-9.2730</td>\n",
       "    </tr>\n",
       "    <tr>\n",
       "      <th>19</th>\n",
       "      <td>! ! come</td>\n",
       "      <td>-12.6640</td>\n",
       "      <td>time</td>\n",
       "      <td>-9.2904</td>\n",
       "    </tr>\n",
       "    <tr>\n",
       "      <th>20</th>\n",
       "      <td>! ! don't</td>\n",
       "      <td>-12.6640</td>\n",
       "      <td>want</td>\n",
       "      <td>-9.2949</td>\n",
       "    </tr>\n",
       "    <tr>\n",
       "      <th>21</th>\n",
       "      <td>! ! enter</td>\n",
       "      <td>-12.6640</td>\n",
       "      <td>u</td>\n",
       "      <td>-9.3026</td>\n",
       "    </tr>\n",
       "    <tr>\n",
       "      <th>22</th>\n",
       "      <td>! ! epic</td>\n",
       "      <td>-12.6640</td>\n",
       "      <td>really</td>\n",
       "      <td>-9.3542</td>\n",
       "    </tr>\n",
       "    <tr>\n",
       "      <th>23</th>\n",
       "      <td>! ! extremely</td>\n",
       "      <td>-12.6640</td>\n",
       "      <td>shit</td>\n",
       "      <td>-9.3723</td>\n",
       "    </tr>\n",
       "    <tr>\n",
       "      <th>24</th>\n",
       "      <td>! ! family</td>\n",
       "      <td>-12.6640</td>\n",
       "      <td>good</td>\n",
       "      <td>-9.4043</td>\n",
       "    </tr>\n",
       "    <tr>\n",
       "      <th>25</th>\n",
       "      <td>! ! finally</td>\n",
       "      <td>-12.6640</td>\n",
       "      <td>think</td>\n",
       "      <td>-9.4184</td>\n",
       "    </tr>\n",
       "    <tr>\n",
       "      <th>26</th>\n",
       "      <td>! ! glasgow</td>\n",
       "      <td>-12.6640</td>\n",
       "      <td>make</td>\n",
       "      <td>-9.4248</td>\n",
       "    </tr>\n",
       "    <tr>\n",
       "      <th>27</th>\n",
       "      <td>! ! guess</td>\n",
       "      <td>-12.6640</td>\n",
       "      <td>😂</td>\n",
       "      <td>-9.4359</td>\n",
       "    </tr>\n",
       "    <tr>\n",
       "      <th>28</th>\n",
       "      <td>! ! happy</td>\n",
       "      <td>-12.6640</td>\n",
       "      <td>can't</td>\n",
       "      <td>-9.4544</td>\n",
       "    </tr>\n",
       "    <tr>\n",
       "      <th>29</th>\n",
       "      <td>! ! hardest</td>\n",
       "      <td>-12.6640</td>\n",
       "      <td>*</td>\n",
       "      <td>-9.5023</td>\n",
       "    </tr>\n",
       "    <tr>\n",
       "      <th>30</th>\n",
       "      <td>! ! he's</td>\n",
       "      <td>-12.6640</td>\n",
       "      <td>need</td>\n",
       "      <td>-9.5308</td>\n",
       "    </tr>\n",
       "    <tr>\n",
       "      <th>31</th>\n",
       "      <td>! ! homeland</td>\n",
       "      <td>-12.6640</td>\n",
       "      <td>fuck</td>\n",
       "      <td>-9.5328</td>\n",
       "    </tr>\n",
       "    <tr>\n",
       "      <th>32</th>\n",
       "      <td>! ! isn't</td>\n",
       "      <td>-12.6640</td>\n",
       "      <td>tweet</td>\n",
       "      <td>-9.5364</td>\n",
       "    </tr>\n",
       "    <tr>\n",
       "      <th>33</th>\n",
       "      <td>! ! it's</td>\n",
       "      <td>-12.6640</td>\n",
       "      <td>say</td>\n",
       "      <td>-9.5649</td>\n",
       "    </tr>\n",
       "    <tr>\n",
       "      <th>34</th>\n",
       "      <td>! ! know</td>\n",
       "      <td>-12.6640</td>\n",
       "      <td>stop</td>\n",
       "      <td>-9.6284</td>\n",
       "    </tr>\n",
       "    <tr>\n",
       "      <th>35</th>\n",
       "      <td>! ! like</td>\n",
       "      <td>-12.6640</td>\n",
       "      <td>)</td>\n",
       "      <td>-9.6436</td>\n",
       "    </tr>\n",
       "    <tr>\n",
       "      <th>36</th>\n",
       "      <td>! ! lol</td>\n",
       "      <td>-12.6640</td>\n",
       "      <td>-</td>\n",
       "      <td>-9.6666</td>\n",
       "    </tr>\n",
       "    <tr>\n",
       "      <th>37</th>\n",
       "      <td>! ! looking</td>\n",
       "      <td>-12.6640</td>\n",
       "      <td>/</td>\n",
       "      <td>-9.6850</td>\n",
       "    </tr>\n",
       "    <tr>\n",
       "      <th>38</th>\n",
       "      <td>! ! looks</td>\n",
       "      <td>-12.6640</td>\n",
       "      <td>lol</td>\n",
       "      <td>-9.6878</td>\n",
       "    </tr>\n",
       "    <tr>\n",
       "      <th>39</th>\n",
       "      <td>! ! lov</td>\n",
       "      <td>-12.6640</td>\n",
       "      <td>person</td>\n",
       "      <td>-9.6952</td>\n",
       "    </tr>\n",
       "    <tr>\n",
       "      <th>40</th>\n",
       "      <td>! ! loved</td>\n",
       "      <td>-12.6640</td>\n",
       "      <td>fucking</td>\n",
       "      <td>-9.7133</td>\n",
       "    </tr>\n",
       "    <tr>\n",
       "      <th>41</th>\n",
       "      <td>! ! maaawd</td>\n",
       "      <td>-12.6640</td>\n",
       "      <td>life</td>\n",
       "      <td>-9.7144</td>\n",
       "    </tr>\n",
       "    <tr>\n",
       "      <th>42</th>\n",
       "      <td>! ! maga</td>\n",
       "      <td>-12.6640</td>\n",
       "      <td>hate</td>\n",
       "      <td>-9.7286</td>\n",
       "    </tr>\n",
       "    <tr>\n",
       "      <th>43</th>\n",
       "      <td>! ! make</td>\n",
       "      <td>-12.6640</td>\n",
       "      <td>got</td>\n",
       "      <td>-9.7451</td>\n",
       "    </tr>\n",
       "    <tr>\n",
       "      <th>44</th>\n",
       "      <td>! ! maybe</td>\n",
       "      <td>-12.6640</td>\n",
       "      <td>y'all</td>\n",
       "      <td>-9.7635</td>\n",
       "    </tr>\n",
       "    <tr>\n",
       "      <th>45</th>\n",
       "      <td>! ! need</td>\n",
       "      <td>-12.6640</td>\n",
       "      <td>'</td>\n",
       "      <td>-9.7664</td>\n",
       "    </tr>\n",
       "    <tr>\n",
       "      <th>46</th>\n",
       "      <td>! ! omfg</td>\n",
       "      <td>-12.6640</td>\n",
       "      <td>(</td>\n",
       "      <td>-9.7790</td>\n",
       "    </tr>\n",
       "    <tr>\n",
       "      <th>47</th>\n",
       "      <td>! ! open</td>\n",
       "      <td>-12.6640</td>\n",
       "      <td>! !</td>\n",
       "      <td>-9.7901</td>\n",
       "    </tr>\n",
       "    <tr>\n",
       "      <th>48</th>\n",
       "      <td>! ! packed</td>\n",
       "      <td>-12.6640</td>\n",
       "      <td>thing</td>\n",
       "      <td>-9.7926</td>\n",
       "    </tr>\n",
       "    <tr>\n",
       "      <th>49</th>\n",
       "      <td>! ! people</td>\n",
       "      <td>-12.6640</td>\n",
       "      <td>@</td>\n",
       "      <td>-9.7958</td>\n",
       "    </tr>\n",
       "  </tbody>\n",
       "</table>\n",
       "</div>"
      ],
      "text/plain": [
       "   Feature (Non-subtweet)  Weight (Non-subtweet) Feature (Subtweet)  \\\n",
       "0                   ! ! &               -12.6640                  .   \n",
       "1                   ! ! (               -12.6640                  ,   \n",
       "2                   ! ! )               -12.6640             people   \n",
       "3                   ! ! .               -12.6640                  ?   \n",
       "4                 ! ! 100               -12.6640              don't   \n",
       "5                  ! ! 15               -12.6640               like   \n",
       "6                   ! ! 3               -12.6640                  \"   \n",
       "7                   ! ! 5               -12.6640               just   \n",
       "8                 ! ! 8am               -12.6640                i'm   \n",
       "9                  ! ! :)               -12.6640                  !   \n",
       "10                 ! ! ;)               -12.6640               it's   \n",
       "11         ! ! absolutely               -12.6640                ...   \n",
       "12            ! ! amazing               -12.6640             you're   \n",
       "13                ! ! ask               -12.6640                  :   \n",
       "14            ! ! awesome               -12.6640               know   \n",
       "15                ! ! big               -12.6640            twitter   \n",
       "16               ! ! bite               -12.6640            friends   \n",
       "17              ! ! close               -12.6640                  ”   \n",
       "18         ! ! collection               -12.6640                  “   \n",
       "19               ! ! come               -12.6640               time   \n",
       "20              ! ! don't               -12.6640               want   \n",
       "21              ! ! enter               -12.6640                  u   \n",
       "22               ! ! epic               -12.6640             really   \n",
       "23          ! ! extremely               -12.6640               shit   \n",
       "24             ! ! family               -12.6640               good   \n",
       "25            ! ! finally               -12.6640              think   \n",
       "26            ! ! glasgow               -12.6640               make   \n",
       "27              ! ! guess               -12.6640                  😂   \n",
       "28              ! ! happy               -12.6640              can't   \n",
       "29            ! ! hardest               -12.6640                  *   \n",
       "30               ! ! he's               -12.6640               need   \n",
       "31           ! ! homeland               -12.6640               fuck   \n",
       "32              ! ! isn't               -12.6640              tweet   \n",
       "33               ! ! it's               -12.6640                say   \n",
       "34               ! ! know               -12.6640               stop   \n",
       "35               ! ! like               -12.6640                  )   \n",
       "36                ! ! lol               -12.6640                  -   \n",
       "37            ! ! looking               -12.6640                  /   \n",
       "38              ! ! looks               -12.6640                lol   \n",
       "39                ! ! lov               -12.6640             person   \n",
       "40              ! ! loved               -12.6640            fucking   \n",
       "41             ! ! maaawd               -12.6640               life   \n",
       "42               ! ! maga               -12.6640               hate   \n",
       "43               ! ! make               -12.6640                got   \n",
       "44              ! ! maybe               -12.6640              y'all   \n",
       "45               ! ! need               -12.6640                  '   \n",
       "46               ! ! omfg               -12.6640                  (   \n",
       "47               ! ! open               -12.6640                ! !   \n",
       "48             ! ! packed               -12.6640              thing   \n",
       "49             ! ! people               -12.6640                  @   \n",
       "\n",
       "    Weight (Subtweet)  \n",
       "0             -7.5326  \n",
       "1             -7.9221  \n",
       "2             -8.3929  \n",
       "3             -8.4622  \n",
       "4             -8.5613  \n",
       "5             -8.5917  \n",
       "6             -8.6097  \n",
       "7             -8.6781  \n",
       "8             -8.6996  \n",
       "9             -8.9060  \n",
       "10            -8.9756  \n",
       "11            -9.0457  \n",
       "12            -9.0515  \n",
       "13            -9.0737  \n",
       "14            -9.0953  \n",
       "15            -9.1468  \n",
       "16            -9.1676  \n",
       "17            -9.2655  \n",
       "18            -9.2730  \n",
       "19            -9.2904  \n",
       "20            -9.2949  \n",
       "21            -9.3026  \n",
       "22            -9.3542  \n",
       "23            -9.3723  \n",
       "24            -9.4043  \n",
       "25            -9.4184  \n",
       "26            -9.4248  \n",
       "27            -9.4359  \n",
       "28            -9.4544  \n",
       "29            -9.5023  \n",
       "30            -9.5308  \n",
       "31            -9.5328  \n",
       "32            -9.5364  \n",
       "33            -9.5649  \n",
       "34            -9.6284  \n",
       "35            -9.6436  \n",
       "36            -9.6666  \n",
       "37            -9.6850  \n",
       "38            -9.6878  \n",
       "39            -9.6952  \n",
       "40            -9.7133  \n",
       "41            -9.7144  \n",
       "42            -9.7286  \n",
       "43            -9.7451  \n",
       "44            -9.7635  \n",
       "45            -9.7664  \n",
       "46            -9.7790  \n",
       "47            -9.7901  \n",
       "48            -9.7926  \n",
       "49            -9.7958  "
      ]
     },
     "execution_count": 38,
     "metadata": {},
     "output_type": "execute_result"
    }
   ],
   "source": [
    "most_informative_features_non_subtweet.join(most_informative_features_subtweet, \n",
    "                                            lsuffix=\" (Non-subtweet)\", \n",
    "                                            rsuffix=\" (Subtweet)\")"
   ]
  },
  {
   "cell_type": "markdown",
   "metadata": {},
   "source": [
    "#### Define function for visualizing confusion matrices"
   ]
  },
  {
   "cell_type": "code",
   "execution_count": 39,
   "metadata": {},
   "outputs": [],
   "source": [
    "def plot_confusion_matrix(cm, classes, normalize=False,\n",
    "                          title=\"Confusion Matrix\", cmap=plt.cm.Blues):\n",
    "    if normalize:\n",
    "        cm = cm.astype(\"float\") / cm.sum(axis=1)[:, np.newaxis]\n",
    "\n",
    "    plt.imshow(cm, interpolation=\"nearest\", cmap=cmap)\n",
    "    plt.title(title)\n",
    "    plt.colorbar()\n",
    "    tick_marks = np.arange(len(classes))\n",
    "    plt.xticks(tick_marks, classes, rotation=45)\n",
    "    plt.yticks(tick_marks, classes)\n",
    "\n",
    "    fmt = \".2f\" if normalize else \"d\"\n",
    "    thresh = cm.max() / 2.\n",
    "    for i, j in itertools.product(range(cm.shape[0]), range(cm.shape[1])):\n",
    "        plt.text(j, i, format(cm[i, j], fmt),\n",
    "                 horizontalalignment=\"center\",\n",
    "                 color=\"white\" if cm[i, j] > thresh else \"black\")\n",
    "\n",
    "    plt.tight_layout()\n",
    "    plt.ylabel(\"True label\")\n",
    "    plt.xlabel(\"Predicted Label\")"
   ]
  },
  {
   "cell_type": "markdown",
   "metadata": {},
   "source": [
    "#### Show the matrices"
   ]
  },
  {
   "cell_type": "code",
   "execution_count": 40,
   "metadata": {},
   "outputs": [
    {
     "data": {
      "image/png": "[encoded data removed]",
      "text/plain": [
       "<Figure size 432x288 with 2 Axes>"
      ]
     },
     "metadata": {},
     "output_type": "display_data"
    },
    {
     "data": {
      "image/png": "[encoded data removed]",
      "text/plain": [
       "<Figure size 432x288 with 2 Axes>"
      ]
     },
     "metadata": {},
     "output_type": "display_data"
    }
   ],
   "source": [
    "class_names = [\"non-subtweet\", \"subtweet\"]\n",
    "\n",
    "np.set_printoptions(precision=2)\n",
    "\n",
    "plt.figure()\n",
    "plot_confusion_matrix(cnf_matrix, classes=class_names,\n",
    "                      title='Confusion matrix, without normalization')\n",
    "\n",
    "plt.figure()\n",
    "plot_confusion_matrix(cnf_matrix, classes=class_names, normalize=True,\n",
    "                      title='Normalized confusion matrix')\n",
    "\n",
    "plt.show()"
   ]
  },
  {
   "cell_type": "markdown",
   "metadata": {},
   "source": [
    "#### Update matplotlib style"
   ]
  },
  {
   "cell_type": "code",
   "execution_count": 41,
   "metadata": {},
   "outputs": [],
   "source": [
    "plt.style.use(\"fivethirtyeight\")"
   ]
  },
  {
   "cell_type": "markdown",
   "metadata": {},
   "source": [
    "#### Save the classifier for another time"
   ]
  },
  {
   "cell_type": "code",
   "execution_count": 42,
   "metadata": {},
   "outputs": [],
   "source": [
    "joblib.dump(sentiment_pipeline, \"../data/other_data/subtweets_classifier.pkl\");"
   ]
  },
  {
   "cell_type": "markdown",
   "metadata": {},
   "source": [
    "#### Print tests for the classifier"
   ]
  },
  {
   "cell_type": "code",
   "execution_count": 43,
   "metadata": {},
   "outputs": [],
   "source": [
    "def tests_dataframe(tweets_dataframe, text_column=\"SentimentText\", sentiment_column=\"Sentiment\"):\n",
    "    predictions = sentiment_pipeline.predict_proba(tweets_dataframe[text_column])\n",
    "    negative_probability = predictions[:, 0].tolist()\n",
    "    positive_probability = predictions[:, 1].tolist()\n",
    "    return pd.DataFrame({\"tweet\": tweets_dataframe[text_column], \n",
    "                         \"sentiment_score\": tweets_dataframe[sentiment_column], \n",
    "                         \"subtweet_negative_probability\": negative_probability, \n",
    "                         \"subtweet_positive_probability\": positive_probability}).sort_values(by=\"subtweet_positive_probability\", \n",
    "                                                                                             ascending=False)"
   ]
  },
  {
   "cell_type": "markdown",
   "metadata": {},
   "source": [
    "#### Make up some tweets"
   ]
  },
  {
   "cell_type": "code",
   "execution_count": 44,
   "metadata": {},
   "outputs": [],
   "source": [
    "test_tweets = [\"Some people don't know their place.\", \n",
    "               \"Isn't it funny how some people don't know their place?\", \n",
    "               \"How come you people act like this?\", \n",
    "               \"You're such a nerd.\",\n",
    "               \"I love Noah, he's so cool.\",\n",
    "               \"Who the heck is Noah?\",\n",
    "               \"This is a @NoahSegalGould subtweet. Go check out https://segal-gould.com.\", \n",
    "               \"This is a subtweet.\", \n",
    "               \"Hey @jack!\", \n",
    "               \"Hey Jack!\",\n",
    "               \"http://www.google.com\"]"
   ]
  },
  {
   "cell_type": "markdown",
   "metadata": {},
   "source": [
    "#### Make a dataframe from the list"
   ]
  },
  {
   "cell_type": "code",
   "execution_count": 45,
   "metadata": {},
   "outputs": [],
   "source": [
    "test_tweets_df = pd.DataFrame({\"Tweet\": test_tweets, \"Sentiment\": [None]*len(test_tweets)})"
   ]
  },
  {
   "cell_type": "markdown",
   "metadata": {},
   "source": [
    "#### Remove usernames, URLs, and hashtags"
   ]
  },
  {
   "cell_type": "code",
   "execution_count": 46,
   "metadata": {},
   "outputs": [],
   "source": [
    "test_tweets_df[\"Tweet\"] = test_tweets_df[\"Tweet\"].str.replace(hashtags_pattern, \"➊\")"
   ]
  },
  {
   "cell_type": "code",
   "execution_count": 47,
   "metadata": {},
   "outputs": [],
   "source": [
    "test_tweets_df[\"Tweet\"] = test_tweets_df[\"Tweet\"].str.replace(urls_pattern, \"➋\")"
   ]
  },
  {
   "cell_type": "code",
   "execution_count": 48,
   "metadata": {},
   "outputs": [],
   "source": [
    "test_tweets_df[\"Tweet\"] = test_tweets_df[\"Tweet\"].str.replace(at_mentions_pattern, \"➌\")"
   ]
  },
  {
   "cell_type": "markdown",
   "metadata": {},
   "source": [
    "#### Print the tests"
   ]
  },
  {
   "cell_type": "code",
   "execution_count": 49,
   "metadata": {},
   "outputs": [
    {
     "data": {
      "text/html": [
       "<div>\n",
       "<style scoped>\n",
       "    .dataframe tbody tr th:only-of-type {\n",
       "        vertical-align: middle;\n",
       "    }\n",
       "\n",
       "    .dataframe tbody tr th {\n",
       "        vertical-align: top;\n",
       "    }\n",
       "\n",
       "    .dataframe thead th {\n",
       "        text-align: right;\n",
       "    }\n",
       "</style>\n",
       "<table border=\"1\" class=\"dataframe\">\n",
       "  <thead>\n",
       "    <tr style=\"text-align: right;\">\n",
       "      <th></th>\n",
       "      <th>subtweet_positive_probability</th>\n",
       "      <th>tweet</th>\n",
       "    </tr>\n",
       "  </thead>\n",
       "  <tbody>\n",
       "    <tr>\n",
       "      <th>0</th>\n",
       "      <td>0.7802</td>\n",
       "      <td>Some people don't know their place.</td>\n",
       "    </tr>\n",
       "    <tr>\n",
       "      <th>1</th>\n",
       "      <td>0.7730</td>\n",
       "      <td>Isn't it funny how some people don't know their place?</td>\n",
       "    </tr>\n",
       "    <tr>\n",
       "      <th>2</th>\n",
       "      <td>0.7179</td>\n",
       "      <td>How come you people act like this?</td>\n",
       "    </tr>\n",
       "    <tr>\n",
       "      <th>3</th>\n",
       "      <td>0.6903</td>\n",
       "      <td>You're such a nerd.</td>\n",
       "    </tr>\n",
       "    <tr>\n",
       "      <th>4</th>\n",
       "      <td>0.5781</td>\n",
       "      <td>I love Noah, he's so cool.</td>\n",
       "    </tr>\n",
       "    <tr>\n",
       "      <th>10</th>\n",
       "      <td>0.4981</td>\n",
       "      <td>➋</td>\n",
       "    </tr>\n",
       "    <tr>\n",
       "      <th>5</th>\n",
       "      <td>0.4625</td>\n",
       "      <td>Who the heck is Noah?</td>\n",
       "    </tr>\n",
       "    <tr>\n",
       "      <th>6</th>\n",
       "      <td>0.4487</td>\n",
       "      <td>This is a ➌ subtweet. Go check out ➋.</td>\n",
       "    </tr>\n",
       "    <tr>\n",
       "      <th>7</th>\n",
       "      <td>0.4425</td>\n",
       "      <td>This is a subtweet.</td>\n",
       "    </tr>\n",
       "    <tr>\n",
       "      <th>8</th>\n",
       "      <td>0.2996</td>\n",
       "      <td>Hey ➌!</td>\n",
       "    </tr>\n",
       "    <tr>\n",
       "      <th>9</th>\n",
       "      <td>0.2996</td>\n",
       "      <td>Hey Jack!</td>\n",
       "    </tr>\n",
       "  </tbody>\n",
       "</table>\n",
       "</div>"
      ],
      "text/plain": [
       "    subtweet_positive_probability  \\\n",
       "0                          0.7802   \n",
       "1                          0.7730   \n",
       "2                          0.7179   \n",
       "3                          0.6903   \n",
       "4                          0.5781   \n",
       "10                         0.4981   \n",
       "5                          0.4625   \n",
       "6                          0.4487   \n",
       "7                          0.4425   \n",
       "8                          0.2996   \n",
       "9                          0.2996   \n",
       "\n",
       "                                                     tweet  \n",
       "0                      Some people don't know their place.  \n",
       "1   Isn't it funny how some people don't know their place?  \n",
       "2                       How come you people act like this?  \n",
       "3                                      You're such a nerd.  \n",
       "4                               I love Noah, he's so cool.  \n",
       "10                                                       ➋  \n",
       "5                                    Who the heck is Noah?  \n",
       "6                    This is a ➌ subtweet. Go check out ➋.  \n",
       "7                                      This is a subtweet.  \n",
       "8                                                   Hey ➌!  \n",
       "9                                                Hey Jack!  "
      ]
     },
     "execution_count": 49,
     "metadata": {},
     "output_type": "execute_result"
    }
   ],
   "source": [
    "tests_dataframe(test_tweets_df, text_column=\"Tweet\", \n",
    "                sentiment_column=\"Sentiment\").drop([\"sentiment_score\", \n",
    "                                                    \"subtweet_negative_probability\"], axis=1)"
   ]
  },
  {
   "cell_type": "markdown",
   "metadata": {},
   "source": [
    "#### Tests on friends' tweets"
   ]
  },
  {
   "cell_type": "markdown",
   "metadata": {},
   "source": [
    "#### Aaron"
   ]
  },
  {
   "cell_type": "code",
   "execution_count": 50,
   "metadata": {},
   "outputs": [],
   "source": [
    "aaron_df = pd.read_csv(\"../data/data_for_testing/friends_data/akrapf96_tweets.csv\").dropna()\n",
    "aaron_df[\"Sentiment\"] = None"
   ]
  },
  {
   "cell_type": "markdown",
   "metadata": {},
   "source": [
    "#### Remove usernames, URLs, and hashtags"
   ]
  },
  {
   "cell_type": "code",
   "execution_count": 51,
   "metadata": {},
   "outputs": [],
   "source": [
    "aaron_df[\"Text\"] = aaron_df[\"Text\"].str.replace(hashtags_pattern, \"➊\")"
   ]
  },
  {
   "cell_type": "code",
   "execution_count": 52,
   "metadata": {},
   "outputs": [],
   "source": [
    "aaron_df[\"Text\"] = aaron_df[\"Text\"].str.replace(urls_pattern, \"➋\")"
   ]
  },
  {
   "cell_type": "code",
   "execution_count": 53,
   "metadata": {},
   "outputs": [],
   "source": [
    "aaron_df[\"Text\"] = aaron_df[\"Text\"].str.replace(at_mentions_pattern, \"➌\")"
   ]
  },
  {
   "cell_type": "code",
   "execution_count": 54,
   "metadata": {
    "scrolled": true
   },
   "outputs": [],
   "source": [
    "aaron_df = tests_dataframe(aaron_df, text_column=\"Text\", \n",
    "                           sentiment_column=\"Sentiment\").drop([\"sentiment_score\", \n",
    "                                                               \"subtweet_negative_probability\"], axis=1)"
   ]
  },
  {
   "cell_type": "code",
   "execution_count": 55,
   "metadata": {},
   "outputs": [],
   "source": [
    "aaron_df.to_csv(\"../data/data_from_testing/friends_data/akrapf96_tests.csv\")"
   ]
  },
  {
   "cell_type": "code",
   "execution_count": 56,
   "metadata": {},
   "outputs": [
    {
     "data": {
      "text/html": [
       "<div>\n",
       "<style scoped>\n",
       "    .dataframe tbody tr th:only-of-type {\n",
       "        vertical-align: middle;\n",
       "    }\n",
       "\n",
       "    .dataframe tbody tr th {\n",
       "        vertical-align: top;\n",
       "    }\n",
       "\n",
       "    .dataframe thead th {\n",
       "        text-align: right;\n",
       "    }\n",
       "</style>\n",
       "<table border=\"1\" class=\"dataframe\">\n",
       "  <thead>\n",
       "    <tr style=\"text-align: right;\">\n",
       "      <th></th>\n",
       "      <th>subtweet_positive_probability</th>\n",
       "      <th>tweet</th>\n",
       "    </tr>\n",
       "  </thead>\n",
       "  <tbody>\n",
       "    <tr>\n",
       "      <th>2092</th>\n",
       "      <td>0.8578</td>\n",
       "      <td>I hate when people overuse emojis</td>\n",
       "    </tr>\n",
       "    <tr>\n",
       "      <th>2137</th>\n",
       "      <td>0.8442</td>\n",
       "      <td>Also you don't need to resort to social media 24/7 to complain about your very privileged life ¯\\_(ツ)_/¯</td>\n",
       "    </tr>\n",
       "    <tr>\n",
       "      <th>2151</th>\n",
       "      <td>0.8366</td>\n",
       "      <td>When I try to be supportive and caring I get ignored and then I'm told I'm not being supportive or caring ¯\\_(ツ)_/¯</td>\n",
       "    </tr>\n",
       "    <tr>\n",
       "      <th>2134</th>\n",
       "      <td>0.8177</td>\n",
       "      <td>What he doesn't know (unless he stalks my twitter which I know he does) is that I have fake accounts following all his social media</td>\n",
       "    </tr>\n",
       "    <tr>\n",
       "      <th>181</th>\n",
       "      <td>0.8143</td>\n",
       "      <td>I often obsess when texting older people if they will think less of me for saying \"LOL\" so I say \"haha\" instead but my mom just texting me \"LOL\" so maybe I've been overthinking this?</td>\n",
       "    </tr>\n",
       "    <tr>\n",
       "      <th>1510</th>\n",
       "      <td>0.8076</td>\n",
       "      <td>If you don't have tweet notifications turned on for me are we really friends</td>\n",
       "    </tr>\n",
       "    <tr>\n",
       "      <th>658</th>\n",
       "      <td>0.8062</td>\n",
       "      <td>I wonder how many animal social media accounts I follow across every platform</td>\n",
       "    </tr>\n",
       "    <tr>\n",
       "      <th>2076</th>\n",
       "      <td>0.8027</td>\n",
       "      <td>I still don't understand why my brother feels a need to literally narrate his life on Twitter. Nobody cares when you go to sleep or wake up</td>\n",
       "    </tr>\n",
       "    <tr>\n",
       "      <th>1519</th>\n",
       "      <td>0.8013</td>\n",
       "      <td>Is it weird how my mind designates which social media specific content belongs on? Like this tweet wouldn't make sense to me on facebook</td>\n",
       "    </tr>\n",
       "    <tr>\n",
       "      <th>2319</th>\n",
       "      <td>0.8005</td>\n",
       "      <td>Sometimes I wonder if people don't realize the 140 character limit and try to type a really long message and end up having it get cut off at</td>\n",
       "    </tr>\n",
       "  </tbody>\n",
       "</table>\n",
       "</div>"
      ],
      "text/plain": [
       "      subtweet_positive_probability  \\\n",
       "2092                         0.8578   \n",
       "2137                         0.8442   \n",
       "2151                         0.8366   \n",
       "2134                         0.8177   \n",
       "181                          0.8143   \n",
       "1510                         0.8076   \n",
       "658                          0.8062   \n",
       "2076                         0.8027   \n",
       "1519                         0.8013   \n",
       "2319                         0.8005   \n",
       "\n",
       "                                                                                                                                                                                       tweet  \n",
       "2092                                                                                                                                                       I hate when people overuse emojis  \n",
       "2137                                                                                Also you don't need to resort to social media 24/7 to complain about your very privileged life ¯\\_(ツ)_/¯  \n",
       "2151                                                                     When I try to be supportive and caring I get ignored and then I'm told I'm not being supportive or caring ¯\\_(ツ)_/¯  \n",
       "2134                                                    What he doesn't know (unless he stalks my twitter which I know he does) is that I have fake accounts following all his social media   \n",
       "181   I often obsess when texting older people if they will think less of me for saying \"LOL\" so I say \"haha\" instead but my mom just texting me \"LOL\" so maybe I've been overthinking this?  \n",
       "1510                                                                                                            If you don't have tweet notifications turned on for me are we really friends  \n",
       "658                                                                                                            I wonder how many animal social media accounts I follow across every platform  \n",
       "2076                                             I still don't understand why my brother feels a need to literally narrate his life on Twitter. Nobody cares when you go to sleep or wake up  \n",
       "1519                                                Is it weird how my mind designates which social media specific content belongs on? Like this tweet wouldn't make sense to me on facebook  \n",
       "2319                                            Sometimes I wonder if people don't realize the 140 character limit and try to type a really long message and end up having it get cut off at  "
      ]
     },
     "execution_count": 56,
     "metadata": {},
     "output_type": "execute_result"
    }
   ],
   "source": [
    "aaron_df.head(10)"
   ]
  },
  {
   "cell_type": "code",
   "execution_count": 57,
   "metadata": {},
   "outputs": [],
   "source": [
    "aaron_df_for_plotting = aaron_df.drop([\"tweet\"], axis=1)"
   ]
  },
  {
   "cell_type": "markdown",
   "metadata": {},
   "source": [
    "#### Julia"
   ]
  },
  {
   "cell_type": "code",
   "execution_count": 58,
   "metadata": {},
   "outputs": [],
   "source": [
    "julia_df = pd.read_csv(\"../data/data_for_testing/friends_data/juliaeberry_tweets.csv\").dropna()\n",
    "julia_df[\"Sentiment\"] = None"
   ]
  },
  {
   "cell_type": "markdown",
   "metadata": {},
   "source": [
    "#### Remove usernames, URLs, and hashtags"
   ]
  },
  {
   "cell_type": "code",
   "execution_count": 59,
   "metadata": {},
   "outputs": [],
   "source": [
    "julia_df[\"Text\"] = julia_df[\"Text\"].str.replace(hashtags_pattern, \"➊\")"
   ]
  },
  {
   "cell_type": "code",
   "execution_count": 60,
   "metadata": {},
   "outputs": [],
   "source": [
    "julia_df[\"Text\"] = julia_df[\"Text\"].str.replace(urls_pattern, \"➋\")"
   ]
  },
  {
   "cell_type": "code",
   "execution_count": 61,
   "metadata": {},
   "outputs": [],
   "source": [
    "julia_df[\"Text\"] = julia_df[\"Text\"].str.replace(at_mentions_pattern, \"➌\")"
   ]
  },
  {
   "cell_type": "code",
   "execution_count": 62,
   "metadata": {
    "scrolled": false
   },
   "outputs": [],
   "source": [
    "julia_df = tests_dataframe(julia_df, text_column=\"Text\", \n",
    "                           sentiment_column=\"Sentiment\").drop([\"sentiment_score\", \n",
    "                                                               \"subtweet_negative_probability\"], axis=1)"
   ]
  },
  {
   "cell_type": "code",
   "execution_count": 63,
   "metadata": {},
   "outputs": [],
   "source": [
    "julia_df.to_csv(\"../data/data_from_testing/friends_data/juliaeberry_tests.csv\")"
   ]
  },
  {
   "cell_type": "code",
   "execution_count": 64,
   "metadata": {},
   "outputs": [
    {
     "data": {
      "text/html": [
       "<div>\n",
       "<style scoped>\n",
       "    .dataframe tbody tr th:only-of-type {\n",
       "        vertical-align: middle;\n",
       "    }\n",
       "\n",
       "    .dataframe tbody tr th {\n",
       "        vertical-align: top;\n",
       "    }\n",
       "\n",
       "    .dataframe thead th {\n",
       "        text-align: right;\n",
       "    }\n",
       "</style>\n",
       "<table border=\"1\" class=\"dataframe\">\n",
       "  <thead>\n",
       "    <tr style=\"text-align: right;\">\n",
       "      <th></th>\n",
       "      <th>subtweet_positive_probability</th>\n",
       "      <th>tweet</th>\n",
       "    </tr>\n",
       "  </thead>\n",
       "  <tbody>\n",
       "    <tr>\n",
       "      <th>3197</th>\n",
       "      <td>0.8674</td>\n",
       "      <td>unpopular twitter opinion I don't like christine sudoku and elijah whatever and I don't think they're funny</td>\n",
       "    </tr>\n",
       "    <tr>\n",
       "      <th>3613</th>\n",
       "      <td>0.8566</td>\n",
       "      <td>don't follow bachelor contestants u liked on insta bc it will just make u hate them for being annoying and unoriginal ➊</td>\n",
       "    </tr>\n",
       "    <tr>\n",
       "      <th>2325</th>\n",
       "      <td>0.8399</td>\n",
       "      <td>I love seeing people I knew from hs at the gym! and by that I mean don't talk to me don't even look at me</td>\n",
       "    </tr>\n",
       "    <tr>\n",
       "      <th>1555</th>\n",
       "      <td>0.8317</td>\n",
       "      <td>tbt to when ➌ are real trash out of the garbage</td>\n",
       "    </tr>\n",
       "    <tr>\n",
       "      <th>3913</th>\n",
       "      <td>0.8153</td>\n",
       "      <td>tfw ur anxiety kills ur appetite but you can't do anything done bc ur still hungry so u just get more anxiety ➊</td>\n",
       "    </tr>\n",
       "    <tr>\n",
       "      <th>2235</th>\n",
       "      <td>0.8152</td>\n",
       "      <td>david mitchell said the world is full of people who want to make people who don't want to dance dance....</td>\n",
       "    </tr>\n",
       "    <tr>\n",
       "      <th>1450</th>\n",
       "      <td>0.8129</td>\n",
       "      <td>between this is just to say and sophia the robot memes, twitter has been fucking On recently</td>\n",
       "    </tr>\n",
       "    <tr>\n",
       "      <th>3859</th>\n",
       "      <td>0.8108</td>\n",
       "      <td>I don't really tmi about volleyball on twitter but I wish I could bc I could vent for hours about how this sport makes me feel lyk trash</td>\n",
       "    </tr>\n",
       "    <tr>\n",
       "      <th>2970</th>\n",
       "      <td>0.8066</td>\n",
       "      <td>funny how some people have suddenly become serious \"\"academics\"\" and think they're amazingly intelligent now....try no bitch u fake as fuck</td>\n",
       "    </tr>\n",
       "    <tr>\n",
       "      <th>3348</th>\n",
       "      <td>0.8026</td>\n",
       "      <td>one critique I have of westworld: there are too many boring white guys with beards and it's hard to tell them apart</td>\n",
       "    </tr>\n",
       "  </tbody>\n",
       "</table>\n",
       "</div>"
      ],
      "text/plain": [
       "      subtweet_positive_probability  \\\n",
       "3197                         0.8674   \n",
       "3613                         0.8566   \n",
       "2325                         0.8399   \n",
       "1555                         0.8317   \n",
       "3913                         0.8153   \n",
       "2235                         0.8152   \n",
       "1450                         0.8129   \n",
       "3859                         0.8108   \n",
       "2970                         0.8066   \n",
       "3348                         0.8026   \n",
       "\n",
       "                                                                                                                                            tweet  \n",
       "3197                                  unpopular twitter opinion I don't like christine sudoku and elijah whatever and I don't think they're funny  \n",
       "3613                      don't follow bachelor contestants u liked on insta bc it will just make u hate them for being annoying and unoriginal ➊  \n",
       "2325                                    I love seeing people I knew from hs at the gym! and by that I mean don't talk to me don't even look at me  \n",
       "1555                                                                                              tbt to when ➌ are real trash out of the garbage  \n",
       "3913                              tfw ur anxiety kills ur appetite but you can't do anything done bc ur still hungry so u just get more anxiety ➊  \n",
       "2235                                    david mitchell said the world is full of people who want to make people who don't want to dance dance....  \n",
       "1450                                                 between this is just to say and sophia the robot memes, twitter has been fucking On recently  \n",
       "3859     I don't really tmi about volleyball on twitter but I wish I could bc I could vent for hours about how this sport makes me feel lyk trash  \n",
       "2970  funny how some people have suddenly become serious \"\"academics\"\" and think they're amazingly intelligent now....try no bitch u fake as fuck  \n",
       "3348                          one critique I have of westworld: there are too many boring white guys with beards and it's hard to tell them apart  "
      ]
     },
     "execution_count": 64,
     "metadata": {},
     "output_type": "execute_result"
    }
   ],
   "source": [
    "julia_df.head(10)"
   ]
  },
  {
   "cell_type": "code",
   "execution_count": 65,
   "metadata": {},
   "outputs": [],
   "source": [
    "julia_df_for_plotting = julia_df.drop([\"tweet\"], axis=1)"
   ]
  },
  {
   "cell_type": "markdown",
   "metadata": {},
   "source": [
    "#### Noah"
   ]
  },
  {
   "cell_type": "code",
   "execution_count": 66,
   "metadata": {},
   "outputs": [],
   "source": [
    "noah_df = pd.read_csv(\"../data/data_for_testing/friends_data/noahsegalgould_tweets.csv\").dropna()\n",
    "noah_df[\"Sentiment\"] = None"
   ]
  },
  {
   "cell_type": "markdown",
   "metadata": {},
   "source": [
    "#### Remove usernames, URLs, and hashtags"
   ]
  },
  {
   "cell_type": "code",
   "execution_count": 67,
   "metadata": {},
   "outputs": [],
   "source": [
    "noah_df[\"Text\"] = noah_df[\"Text\"].str.replace(hashtags_pattern, \"➊\")"
   ]
  },
  {
   "cell_type": "code",
   "execution_count": 68,
   "metadata": {},
   "outputs": [],
   "source": [
    "noah_df[\"Text\"] = noah_df[\"Text\"].str.replace(urls_pattern, \"➋\")"
   ]
  },
  {
   "cell_type": "code",
   "execution_count": 69,
   "metadata": {},
   "outputs": [],
   "source": [
    "noah_df[\"Text\"] = noah_df[\"Text\"].str.replace(at_mentions_pattern, \"➌\")"
   ]
  },
  {
   "cell_type": "code",
   "execution_count": 70,
   "metadata": {
    "scrolled": false
   },
   "outputs": [],
   "source": [
    "noah_df = tests_dataframe(noah_df, text_column=\"Text\", \n",
    "                          sentiment_column=\"Sentiment\").drop([\"sentiment_score\", \n",
    "                                                              \"subtweet_negative_probability\"], axis=1)"
   ]
  },
  {
   "cell_type": "code",
   "execution_count": 71,
   "metadata": {},
   "outputs": [],
   "source": [
    "noah_df.to_csv(\"../data/data_from_testing/friends_data/noahsegalgould_tests.csv\")"
   ]
  },
  {
   "cell_type": "code",
   "execution_count": 72,
   "metadata": {},
   "outputs": [
    {
     "data": {
      "text/html": [
       "<div>\n",
       "<style scoped>\n",
       "    .dataframe tbody tr th:only-of-type {\n",
       "        vertical-align: middle;\n",
       "    }\n",
       "\n",
       "    .dataframe tbody tr th {\n",
       "        vertical-align: top;\n",
       "    }\n",
       "\n",
       "    .dataframe thead th {\n",
       "        text-align: right;\n",
       "    }\n",
       "</style>\n",
       "<table border=\"1\" class=\"dataframe\">\n",
       "  <thead>\n",
       "    <tr style=\"text-align: right;\">\n",
       "      <th></th>\n",
       "      <th>subtweet_positive_probability</th>\n",
       "      <th>tweet</th>\n",
       "    </tr>\n",
       "  </thead>\n",
       "  <tbody>\n",
       "    <tr>\n",
       "      <th>2022</th>\n",
       "      <td>0.8972</td>\n",
       "      <td>you may think you're cool but unless you're friends with my friends you're not actually as cool as you could be</td>\n",
       "    </tr>\n",
       "    <tr>\n",
       "      <th>1689</th>\n",
       "      <td>0.8490</td>\n",
       "      <td>linkedin is better than twitter.\\ndon't @ me.</td>\n",
       "    </tr>\n",
       "    <tr>\n",
       "      <th>1716</th>\n",
       "      <td>0.8412</td>\n",
       "      <td>If you don't make your meatloaf with ketchup don't bother talking to me</td>\n",
       "    </tr>\n",
       "    <tr>\n",
       "      <th>2027</th>\n",
       "      <td>0.8372</td>\n",
       "      <td>IF U CALL URSELF A WEEB BUT DONT HAVE ANIME PROF PICS ON ALL SOCIAL MEDIA\\n DELETE  UR  ACCOUNTS</td>\n",
       "    </tr>\n",
       "    <tr>\n",
       "      <th>1760</th>\n",
       "      <td>0.8172</td>\n",
       "      <td>don't ever talk to me or my hamartia ever again</td>\n",
       "    </tr>\n",
       "    <tr>\n",
       "      <th>340</th>\n",
       "      <td>0.8130</td>\n",
       "      <td>Twitter changed the way bots download tweets and now my friends’ twitter bots can’t be updated unless they give me sensitive information</td>\n",
       "    </tr>\n",
       "    <tr>\n",
       "      <th>291</th>\n",
       "      <td>0.8129</td>\n",
       "      <td>if you've still got tweet notifications on for me, I'm sorry, this is a subtweet</td>\n",
       "    </tr>\n",
       "    <tr>\n",
       "      <th>2523</th>\n",
       "      <td>0.8090</td>\n",
       "      <td>Instead of posting several vague tweets revolving around my issues of self-worth I'll just ask this: Who decides how good a friend I am?</td>\n",
       "    </tr>\n",
       "    <tr>\n",
       "      <th>1797</th>\n",
       "      <td>0.8083</td>\n",
       "      <td>don't @ ➋</td>\n",
       "    </tr>\n",
       "    <tr>\n",
       "      <th>1242</th>\n",
       "      <td>0.8020</td>\n",
       "      <td>stupid pet peeve of the evening:\\nsaying \"greater than\" aloud 5 times sounds stupid\\nso why type &gt;&gt;&gt;&gt;&gt;</td>\n",
       "    </tr>\n",
       "  </tbody>\n",
       "</table>\n",
       "</div>"
      ],
      "text/plain": [
       "      subtweet_positive_probability  \\\n",
       "2022                         0.8972   \n",
       "1689                         0.8490   \n",
       "1716                         0.8412   \n",
       "2027                         0.8372   \n",
       "1760                         0.8172   \n",
       "340                          0.8130   \n",
       "291                          0.8129   \n",
       "2523                         0.8090   \n",
       "1797                         0.8083   \n",
       "1242                         0.8020   \n",
       "\n",
       "                                                                                                                                         tweet  \n",
       "2022                           you may think you're cool but unless you're friends with my friends you're not actually as cool as you could be  \n",
       "1689                                                                                             linkedin is better than twitter.\\ndon't @ me.  \n",
       "1716                                                                   If you don't make your meatloaf with ketchup don't bother talking to me  \n",
       "2027                                         IF U CALL URSELF A WEEB BUT DONT HAVE ANIME PROF PICS ON ALL SOCIAL MEDIA\\n DELETE  UR  ACCOUNTS   \n",
       "1760                                                                                           don't ever talk to me or my hamartia ever again  \n",
       "340   Twitter changed the way bots download tweets and now my friends’ twitter bots can’t be updated unless they give me sensitive information  \n",
       "291                                                           if you've still got tweet notifications on for me, I'm sorry, this is a subtweet  \n",
       "2523  Instead of posting several vague tweets revolving around my issues of self-worth I'll just ask this: Who decides how good a friend I am?  \n",
       "1797                                                                                                                                 don't @ ➋  \n",
       "1242                                    stupid pet peeve of the evening:\\nsaying \"greater than\" aloud 5 times sounds stupid\\nso why type >>>>>  "
      ]
     },
     "execution_count": 72,
     "metadata": {},
     "output_type": "execute_result"
    }
   ],
   "source": [
    "noah_df.head(10)"
   ]
  },
  {
   "cell_type": "code",
   "execution_count": 73,
   "metadata": {},
   "outputs": [],
   "source": [
    "noah_df_for_plotting = noah_df.drop([\"tweet\"], axis=1)"
   ]
  },
  {
   "cell_type": "markdown",
   "metadata": {},
   "source": [
    "#### Rename the columns for later"
   ]
  },
  {
   "cell_type": "code",
   "execution_count": 74,
   "metadata": {},
   "outputs": [],
   "source": [
    "aaron_df_for_plotting_together = aaron_df_for_plotting.rename(columns={\"subtweet_positive_probability\": \"Aaron\"})"
   ]
  },
  {
   "cell_type": "code",
   "execution_count": 75,
   "metadata": {},
   "outputs": [],
   "source": [
    "julia_df_for_plotting_together = julia_df_for_plotting.rename(columns={\"subtweet_positive_probability\": \"Julia\"})"
   ]
  },
  {
   "cell_type": "code",
   "execution_count": 76,
   "metadata": {},
   "outputs": [],
   "source": [
    "noah_df_for_plotting_together = noah_df_for_plotting.rename(columns={\"subtweet_positive_probability\": \"Noah\"})"
   ]
  },
  {
   "cell_type": "markdown",
   "metadata": {},
   "source": [
    "#### Prepare statistics on friends' tweets"
   ]
  },
  {
   "cell_type": "code",
   "execution_count": 77,
   "metadata": {},
   "outputs": [],
   "source": [
    "friends_df = pd.concat([aaron_df_for_plotting_together, \n",
    "                        julia_df_for_plotting_together, \n",
    "                        noah_df_for_plotting_together], ignore_index=True)"
   ]
  },
  {
   "cell_type": "code",
   "execution_count": 78,
   "metadata": {},
   "outputs": [
    {
     "data": {
      "text/html": [
       "<div>\n",
       "<style scoped>\n",
       "    .dataframe tbody tr th:only-of-type {\n",
       "        vertical-align: middle;\n",
       "    }\n",
       "\n",
       "    .dataframe tbody tr th {\n",
       "        vertical-align: top;\n",
       "    }\n",
       "\n",
       "    .dataframe thead th {\n",
       "        text-align: right;\n",
       "    }\n",
       "</style>\n",
       "<table border=\"1\" class=\"dataframe\">\n",
       "  <thead>\n",
       "    <tr style=\"text-align: right;\">\n",
       "      <th></th>\n",
       "      <th>Aaron</th>\n",
       "      <th>Julia</th>\n",
       "      <th>Noah</th>\n",
       "    </tr>\n",
       "  </thead>\n",
       "  <tbody>\n",
       "    <tr>\n",
       "      <th>count</th>\n",
       "      <td>2640.0000</td>\n",
       "      <td>4356.0000</td>\n",
       "      <td>2814.0000</td>\n",
       "    </tr>\n",
       "    <tr>\n",
       "      <th>mean</th>\n",
       "      <td>0.5069</td>\n",
       "      <td>0.5162</td>\n",
       "      <td>0.5063</td>\n",
       "    </tr>\n",
       "    <tr>\n",
       "      <th>std</th>\n",
       "      <td>0.1147</td>\n",
       "      <td>0.1014</td>\n",
       "      <td>0.1078</td>\n",
       "    </tr>\n",
       "    <tr>\n",
       "      <th>min</th>\n",
       "      <td>0.0953</td>\n",
       "      <td>0.1522</td>\n",
       "      <td>0.1506</td>\n",
       "    </tr>\n",
       "    <tr>\n",
       "      <th>25%</th>\n",
       "      <td>0.4295</td>\n",
       "      <td>0.4476</td>\n",
       "      <td>0.4326</td>\n",
       "    </tr>\n",
       "    <tr>\n",
       "      <th>50%</th>\n",
       "      <td>0.5027</td>\n",
       "      <td>0.5164</td>\n",
       "      <td>0.5017</td>\n",
       "    </tr>\n",
       "    <tr>\n",
       "      <th>75%</th>\n",
       "      <td>0.5837</td>\n",
       "      <td>0.5818</td>\n",
       "      <td>0.5736</td>\n",
       "    </tr>\n",
       "    <tr>\n",
       "      <th>max</th>\n",
       "      <td>0.8578</td>\n",
       "      <td>0.8674</td>\n",
       "      <td>0.8972</td>\n",
       "    </tr>\n",
       "  </tbody>\n",
       "</table>\n",
       "</div>"
      ],
      "text/plain": [
       "          Aaron     Julia      Noah\n",
       "count 2640.0000 4356.0000 2814.0000\n",
       "mean     0.5069    0.5162    0.5063\n",
       "std      0.1147    0.1014    0.1078\n",
       "min      0.0953    0.1522    0.1506\n",
       "25%      0.4295    0.4476    0.4326\n",
       "50%      0.5027    0.5164    0.5017\n",
       "75%      0.5837    0.5818    0.5736\n",
       "max      0.8578    0.8674    0.8972"
      ]
     },
     "execution_count": 78,
     "metadata": {},
     "output_type": "execute_result"
    }
   ],
   "source": [
    "friends_df.describe()"
   ]
  },
  {
   "cell_type": "code",
   "execution_count": 79,
   "metadata": {},
   "outputs": [],
   "source": [
    "aaron_mean = friends_df.describe().Aaron[1]\n",
    "aaron_std = friends_df.describe().Aaron[2]\n",
    "\n",
    "julia_mean = friends_df.describe().Julia[1]\n",
    "julia_std = friends_df.describe().Julia[2]\n",
    "\n",
    "noah_mean = friends_df.describe().Noah[1]\n",
    "noah_std = friends_df.describe().Noah[2]"
   ]
  },
  {
   "cell_type": "markdown",
   "metadata": {},
   "source": [
    "#### Plot all the histograms"
   ]
  },
  {
   "cell_type": "code",
   "execution_count": 80,
   "metadata": {
    "scrolled": false
   },
   "outputs": [
    {
     "name": "stderr",
     "output_type": "stream",
     "text": [
      "/Users/Noah/anaconda/envs/work/lib/python3.6/site-packages/numpy/core/fromnumeric.py:52: FutureWarning: reshape is deprecated and will raise in a subsequent release. Please use .values.reshape(...) instead\n",
      "  return getattr(obj, method)(*args, **kwds)\n"
     ]
    },
    {
     "data": {
      "image/png": "[encoded data removed]",
      "text/plain": [
       "<Figure size 1152x648 with 1 Axes>"
      ]
     },
     "metadata": {},
     "output_type": "display_data"
    },
    {
     "name": "stdout",
     "output_type": "stream",
     "text": [
      "CPU times: user 617 ms, sys: 40.7 ms, total: 658 ms\n",
      "Wall time: 649 ms\n"
     ]
    }
   ],
   "source": [
    "%%time\n",
    "fig = plt.figure(figsize=(16, 9))\n",
    "ax = fig.add_subplot(111)\n",
    "\n",
    "n, bins, patches = ax.hist([aaron_df_for_plotting.subtweet_positive_probability, \n",
    "                            julia_df_for_plotting.subtweet_positive_probability, \n",
    "                            noah_df_for_plotting.subtweet_positive_probability], \n",
    "                           bins=\"scott\",\n",
    "                           color=[\"#256EFF\", \"#46237A\", \"#3DDC97\"],\n",
    "                           density=True, \n",
    "                           label=[\"Aaron\", \"Julia\", \"Noah\"],\n",
    "                           alpha=0.75)\n",
    "\n",
    "aaron_line = scipy.stats.norm.pdf(bins, aaron_mean, aaron_std)\n",
    "ax.plot(bins, aaron_line, \"--\", color=\"#256EFF\", linewidth=2)\n",
    "\n",
    "julia_line = scipy.stats.norm.pdf(bins, julia_mean, julia_std)\n",
    "ax.plot(bins, julia_line, \"--\", color=\"#46237A\", linewidth=2)\n",
    "\n",
    "noah_line = scipy.stats.norm.pdf(bins, noah_mean, noah_std)\n",
    "ax.plot(bins, noah_line, \"--\", color=\"#3DDC97\", linewidth=2)\n",
    "\n",
    "ax.set_xticks([float(x/10) for x in range(11)], minor=False)\n",
    "ax.set_title(\"Friends' Dataset Distribution of Subtweet Probabilities\", fontsize=18)\n",
    "ax.set_xlabel(\"Probability That Tweet is a Subtweet\", fontsize=18)\n",
    "ax.set_ylabel(\"Portion of Tweets with That Probability\", fontsize=18)\n",
    "\n",
    "ax.legend()\n",
    "\n",
    "plt.show()"
   ]
  },
  {
   "cell_type": "markdown",
   "metadata": {},
   "source": [
    "#### Statisitics on training data"
   ]
  },
  {
   "cell_type": "markdown",
   "metadata": {},
   "source": [
    "#### Remove mentions of usernames for these statistics"
   ]
  },
  {
   "cell_type": "code",
   "execution_count": 81,
   "metadata": {},
   "outputs": [],
   "source": [
    "training_data = [\" \".join([token for token in tokenizer.tokenize(pair[0]) if \"@\" not in token]) \n",
    "                 for pair in training_data]"
   ]
  },
  {
   "cell_type": "markdown",
   "metadata": {},
   "source": [
    "#### Lengths (Less than or equal to 280 characters and greater than or equal to 5 characters)"
   ]
  },
  {
   "cell_type": "code",
   "execution_count": 82,
   "metadata": {},
   "outputs": [],
   "source": [
    "length_data = [len(tweet) for tweet in training_data]"
   ]
  },
  {
   "cell_type": "code",
   "execution_count": 83,
   "metadata": {},
   "outputs": [],
   "source": [
    "length_data_for_stats = pd.DataFrame({\"Length\": length_data, \"Tweet\": training_data})"
   ]
  },
  {
   "cell_type": "code",
   "execution_count": 84,
   "metadata": {},
   "outputs": [],
   "source": [
    "# length_data_for_stats = length_data_for_stats[length_data_for_stats[\"Length\"] <= 280]  "
   ]
  },
  {
   "cell_type": "code",
   "execution_count": 85,
   "metadata": {},
   "outputs": [],
   "source": [
    "# length_data_for_stats = length_data_for_stats[length_data_for_stats[\"Length\"] >= 5]"
   ]
  },
  {
   "cell_type": "code",
   "execution_count": 86,
   "metadata": {},
   "outputs": [],
   "source": [
    "length_data = length_data_for_stats.Length.tolist()"
   ]
  },
  {
   "cell_type": "markdown",
   "metadata": {},
   "source": [
    "#### Top 10 longest tweets"
   ]
  },
  {
   "cell_type": "code",
   "execution_count": 87,
   "metadata": {},
   "outputs": [
    {
     "data": {
      "text/html": [
       "<div>\n",
       "<style scoped>\n",
       "    .dataframe tbody tr th:only-of-type {\n",
       "        vertical-align: middle;\n",
       "    }\n",
       "\n",
       "    .dataframe tbody tr th {\n",
       "        vertical-align: top;\n",
       "    }\n",
       "\n",
       "    .dataframe thead th {\n",
       "        text-align: right;\n",
       "    }\n",
       "</style>\n",
       "<table border=\"1\" class=\"dataframe\">\n",
       "  <thead>\n",
       "    <tr style=\"text-align: right;\">\n",
       "      <th></th>\n",
       "      <th>Length</th>\n",
       "      <th>Tweet</th>\n",
       "    </tr>\n",
       "  </thead>\n",
       "  <tbody>\n",
       "    <tr>\n",
       "      <th>14329</th>\n",
       "      <td>303</td>\n",
       "      <td>from 10/18 / 15 when he 1st played hurt &amp; began noticeably throwing w poor mechanics thru end of his injured 2016 yr , luck's stats were as good as his healthiest / best 2013-2014 yrs : - injured : 61 % comp , 7.4 ypa , 93 rtg , 41:18 td : int - healthy : 61 % comp , 7.2 ypa , 92 rtg , 63:25 td : int ➋</td>\n",
       "    </tr>\n",
       "    <tr>\n",
       "      <th>4476</th>\n",
       "      <td>302</td>\n",
       "      <td>in situations of power imbalance , wealth inequality , unequal access to ... everything-can ' we ' drop the ' we ' - because it really means you not me . when . you . pretend . that . we . all . share . same . interests . you . are . helping . the . most . powerful . oppress . the . least . powerful .</td>\n",
       "    </tr>\n",
       "    <tr>\n",
       "      <th>8001</th>\n",
       "      <td>300</td>\n",
       "      <td>hotel elevator earlier today : i get in , a young man and a young woman already in the car . me : \" good morning , both . \" woman : \" good morning . \" man , clearly writhing , not wanting to say anything but caught in a vortex due to the young woman's response . ten seconds later : \" ... morning . \"</td>\n",
       "    </tr>\n",
       "    <tr>\n",
       "      <th>15228</th>\n",
       "      <td>299</td>\n",
       "      <td>\" it is a key agreement that shapes today's globalisation \" - frau merkel on the paris ' agreement ' . climatefraud-a contrived tool of the deadly eu / un-centric marxist-globalist / islamist alliance , to wealth transfer &amp; to create such energy poverty , that sovereignwesterndemocracy implodes . ➋</td>\n",
       "    </tr>\n",
       "    <tr>\n",
       "      <th>14724</th>\n",
       "      <td>299</td>\n",
       "      <td>pentagon : master sergeant jonathan j . dunbar , assigned to headquarters , u . s . army special operations command , fort bragg , n . c . , was kia mar . 30 , while deployed in support of operation inherent resolve . dunbar died from wounds received during combat operations near manbij , syria . ➋</td>\n",
       "    </tr>\n",
       "    <tr>\n",
       "      <th>6017</th>\n",
       "      <td>299</td>\n",
       "      <td>person : * criticizes my writing * me : yup , they're right , 100 percent , spot on , very valid , absolutely agree person : * compliments my writing * me : ? ? ? did they read something else ? ? ? are they lying ? ? ? are they drunk ? ? ? i don't know what to do with this ? please just insult me ?</td>\n",
       "    </tr>\n",
       "    <tr>\n",
       "      <th>8702</th>\n",
       "      <td>298</td>\n",
       "      <td>i've fallen into a rabbit hole of goals from that 2016 run . faves : 1 ) crosby's goal against raanta in rd . 1 . 2 ) cullen's goal in ny . third period . tie game . 3 ) fehr's goal in game 2 vs . washington . 4 ) rust's breakaway in game 6 vs . tampa . 5 ) fehr's game 5 insurance goal vs . sj . ➋</td>\n",
       "    </tr>\n",
       "    <tr>\n",
       "      <th>5265</th>\n",
       "      <td>296</td>\n",
       "      <td>me : \" we can't deviate from the clinical policies the client's medical team chose \" coworker : \" well we'll ask the cto \" m : \" okay but he's in agreement too \" c : \" i don't want to talk to you . our medical licenses are on the line \" m : \" no ... they aren't . you didn't choose the policies \"</td>\n",
       "    </tr>\n",
       "    <tr>\n",
       "      <th>8607</th>\n",
       "      <td>296</td>\n",
       "      <td>the first-time event , bucky's yard sale , is april 12 and 13 from 9am - 2pm at etsu in the quad . donations of clothing , shoes accessories , and other cool things are needed ! drop-off bins are in the cpa , outside of sorc a in the culp , and in centennial , governors , stone , and clement . ➋</td>\n",
       "    </tr>\n",
       "    <tr>\n",
       "      <th>9006</th>\n",
       "      <td>296</td>\n",
       "      <td>➊ campaign ideas i can't get out of my head : 💠 gothic monster hunting ( e . g . krevborna , ravenloft , solomon kane ) 💠 aetherpunk intrigue ( e . g . kaladesh , lantan , eberron ) 💠 megadungeon exploration ( e . g . doomvault , rappan athuk ) merging them would not work well . need moar time .</td>\n",
       "    </tr>\n",
       "  </tbody>\n",
       "</table>\n",
       "</div>"
      ],
      "text/plain": [
       "       Length  \\\n",
       "14329     303   \n",
       "4476      302   \n",
       "8001      300   \n",
       "15228     299   \n",
       "14724     299   \n",
       "6017      299   \n",
       "8702      298   \n",
       "5265      296   \n",
       "8607      296   \n",
       "9006      296   \n",
       "\n",
       "                                                                                                                                                                                                                                                                                                                 Tweet  \n",
       "14329  from 10/18 / 15 when he 1st played hurt & began noticeably throwing w poor mechanics thru end of his injured 2016 yr , luck's stats were as good as his healthiest / best 2013-2014 yrs : - injured : 61 % comp , 7.4 ypa , 93 rtg , 41:18 td : int - healthy : 61 % comp , 7.2 ypa , 92 rtg , 63:25 td : int ➋  \n",
       "4476    in situations of power imbalance , wealth inequality , unequal access to ... everything-can ' we ' drop the ' we ' - because it really means you not me . when . you . pretend . that . we . all . share . same . interests . you . are . helping . the . most . powerful . oppress . the . least . powerful .  \n",
       "8001      hotel elevator earlier today : i get in , a young man and a young woman already in the car . me : \" good morning , both . \" woman : \" good morning . \" man , clearly writhing , not wanting to say anything but caught in a vortex due to the young woman's response . ten seconds later : \" ... morning . \"  \n",
       "15228      \" it is a key agreement that shapes today's globalisation \" - frau merkel on the paris ' agreement ' . climatefraud-a contrived tool of the deadly eu / un-centric marxist-globalist / islamist alliance , to wealth transfer & to create such energy poverty , that sovereignwesterndemocracy implodes . ➋  \n",
       "14724      pentagon : master sergeant jonathan j . dunbar , assigned to headquarters , u . s . army special operations command , fort bragg , n . c . , was kia mar . 30 , while deployed in support of operation inherent resolve . dunbar died from wounds received during combat operations near manbij , syria . ➋  \n",
       "6017       person : * criticizes my writing * me : yup , they're right , 100 percent , spot on , very valid , absolutely agree person : * compliments my writing * me : ? ? ? did they read something else ? ? ? are they lying ? ? ? are they drunk ? ? ? i don't know what to do with this ? please just insult me ?  \n",
       "8702        i've fallen into a rabbit hole of goals from that 2016 run . faves : 1 ) crosby's goal against raanta in rd . 1 . 2 ) cullen's goal in ny . third period . tie game . 3 ) fehr's goal in game 2 vs . washington . 4 ) rust's breakaway in game 6 vs . tampa . 5 ) fehr's game 5 insurance goal vs . sj . ➋  \n",
       "5265          me : \" we can't deviate from the clinical policies the client's medical team chose \" coworker : \" well we'll ask the cto \" m : \" okay but he's in agreement too \" c : \" i don't want to talk to you . our medical licenses are on the line \" m : \" no ... they aren't . you didn't choose the policies \"  \n",
       "8607          the first-time event , bucky's yard sale , is april 12 and 13 from 9am - 2pm at etsu in the quad . donations of clothing , shoes accessories , and other cool things are needed ! drop-off bins are in the cpa , outside of sorc a in the culp , and in centennial , governors , stone , and clement . ➋  \n",
       "9006          ➊ campaign ideas i can't get out of my head : 💠 gothic monster hunting ( e . g . krevborna , ravenloft , solomon kane ) 💠 aetherpunk intrigue ( e . g . kaladesh , lantan , eberron ) 💠 megadungeon exploration ( e . g . doomvault , rappan athuk ) merging them would not work well . need moar time .  "
      ]
     },
     "execution_count": 87,
     "metadata": {},
     "output_type": "execute_result"
    }
   ],
   "source": [
    "length_data_for_stats.sort_values(by=\"Length\", ascending=False).head(10)"
   ]
  },
  {
   "cell_type": "markdown",
   "metadata": {},
   "source": [
    "#### Top 10 shortest tweets"
   ]
  },
  {
   "cell_type": "code",
   "execution_count": 88,
   "metadata": {},
   "outputs": [
    {
     "data": {
      "text/html": [
       "<div>\n",
       "<style scoped>\n",
       "    .dataframe tbody tr th:only-of-type {\n",
       "        vertical-align: middle;\n",
       "    }\n",
       "\n",
       "    .dataframe tbody tr th {\n",
       "        vertical-align: top;\n",
       "    }\n",
       "\n",
       "    .dataframe thead th {\n",
       "        text-align: right;\n",
       "    }\n",
       "</style>\n",
       "<table border=\"1\" class=\"dataframe\">\n",
       "  <thead>\n",
       "    <tr style=\"text-align: right;\">\n",
       "      <th></th>\n",
       "      <th>Length</th>\n",
       "      <th>Tweet</th>\n",
       "    </tr>\n",
       "  </thead>\n",
       "  <tbody>\n",
       "    <tr>\n",
       "      <th>7699</th>\n",
       "      <td>1</td>\n",
       "      <td>a</td>\n",
       "    </tr>\n",
       "    <tr>\n",
       "      <th>2038</th>\n",
       "      <td>2</td>\n",
       "      <td>ha</td>\n",
       "    </tr>\n",
       "    <tr>\n",
       "      <th>5896</th>\n",
       "      <td>2</td>\n",
       "      <td>uh</td>\n",
       "    </tr>\n",
       "    <tr>\n",
       "      <th>3473</th>\n",
       "      <td>2</td>\n",
       "      <td>no</td>\n",
       "    </tr>\n",
       "    <tr>\n",
       "      <th>3785</th>\n",
       "      <td>3</td>\n",
       "      <td>ugh</td>\n",
       "    </tr>\n",
       "    <tr>\n",
       "      <th>6676</th>\n",
       "      <td>3</td>\n",
       "      <td>i -</td>\n",
       "    </tr>\n",
       "    <tr>\n",
       "      <th>4596</th>\n",
       "      <td>3</td>\n",
       "      <td>die</td>\n",
       "    </tr>\n",
       "    <tr>\n",
       "      <th>9177</th>\n",
       "      <td>4</td>\n",
       "      <td>go ➋</td>\n",
       "    </tr>\n",
       "    <tr>\n",
       "      <th>636</th>\n",
       "      <td>4</td>\n",
       "      <td>us ➋</td>\n",
       "    </tr>\n",
       "    <tr>\n",
       "      <th>648</th>\n",
       "      <td>4</td>\n",
       "      <td>oh ➋</td>\n",
       "    </tr>\n",
       "  </tbody>\n",
       "</table>\n",
       "</div>"
      ],
      "text/plain": [
       "      Length Tweet\n",
       "7699       1     a\n",
       "2038       2    ha\n",
       "5896       2    uh\n",
       "3473       2    no\n",
       "3785       3   ugh\n",
       "6676       3   i -\n",
       "4596       3   die\n",
       "9177       4  go ➋\n",
       "636        4  us ➋\n",
       "648        4  oh ➋"
      ]
     },
     "execution_count": 88,
     "metadata": {},
     "output_type": "execute_result"
    }
   ],
   "source": [
    "length_data_for_stats.sort_values(by=\"Length\", ascending=True).head(10)"
   ]
  },
  {
   "cell_type": "markdown",
   "metadata": {},
   "source": [
    "#### Tweet length statistics"
   ]
  },
  {
   "cell_type": "code",
   "execution_count": 89,
   "metadata": {},
   "outputs": [
    {
     "data": {
      "text/html": [
       "<div>\n",
       "<style scoped>\n",
       "    .dataframe tbody tr th:only-of-type {\n",
       "        vertical-align: middle;\n",
       "    }\n",
       "\n",
       "    .dataframe tbody tr th {\n",
       "        vertical-align: top;\n",
       "    }\n",
       "\n",
       "    .dataframe thead th {\n",
       "        text-align: right;\n",
       "    }\n",
       "</style>\n",
       "<table border=\"1\" class=\"dataframe\">\n",
       "  <thead>\n",
       "    <tr style=\"text-align: right;\">\n",
       "      <th></th>\n",
       "      <th>Length</th>\n",
       "    </tr>\n",
       "  </thead>\n",
       "  <tbody>\n",
       "    <tr>\n",
       "      <th>count</th>\n",
       "      <td>15674.0000</td>\n",
       "    </tr>\n",
       "    <tr>\n",
       "      <th>mean</th>\n",
       "      <td>109.5542</td>\n",
       "    </tr>\n",
       "    <tr>\n",
       "      <th>std</th>\n",
       "      <td>75.5204</td>\n",
       "    </tr>\n",
       "    <tr>\n",
       "      <th>min</th>\n",
       "      <td>1.0000</td>\n",
       "    </tr>\n",
       "    <tr>\n",
       "      <th>25%</th>\n",
       "      <td>50.0000</td>\n",
       "    </tr>\n",
       "    <tr>\n",
       "      <th>50%</th>\n",
       "      <td>89.0000</td>\n",
       "    </tr>\n",
       "    <tr>\n",
       "      <th>75%</th>\n",
       "      <td>154.0000</td>\n",
       "    </tr>\n",
       "    <tr>\n",
       "      <th>max</th>\n",
       "      <td>303.0000</td>\n",
       "    </tr>\n",
       "  </tbody>\n",
       "</table>\n",
       "</div>"
      ],
      "text/plain": [
       "          Length\n",
       "count 15674.0000\n",
       "mean    109.5542\n",
       "std      75.5204\n",
       "min       1.0000\n",
       "25%      50.0000\n",
       "50%      89.0000\n",
       "75%     154.0000\n",
       "max     303.0000"
      ]
     },
     "execution_count": 89,
     "metadata": {},
     "output_type": "execute_result"
    }
   ],
   "source": [
    "length_data_for_stats.describe()"
   ]
  },
  {
   "cell_type": "markdown",
   "metadata": {},
   "source": [
    "#### Punctuation"
   ]
  },
  {
   "cell_type": "code",
   "execution_count": 90,
   "metadata": {},
   "outputs": [],
   "source": [
    "punctuation_data = [len(set(punctuation).intersection(set(tweet))) for tweet in training_data]"
   ]
  },
  {
   "cell_type": "code",
   "execution_count": 91,
   "metadata": {},
   "outputs": [],
   "source": [
    "punctuation_data_for_stats = pd.DataFrame({\"Punctuation\": punctuation_data, \"Tweet\": training_data})"
   ]
  },
  {
   "cell_type": "markdown",
   "metadata": {},
   "source": [
    "#### Top 10 most punctuated tweets"
   ]
  },
  {
   "cell_type": "code",
   "execution_count": 92,
   "metadata": {},
   "outputs": [
    {
     "data": {
      "text/html": [
       "<div>\n",
       "<style scoped>\n",
       "    .dataframe tbody tr th:only-of-type {\n",
       "        vertical-align: middle;\n",
       "    }\n",
       "\n",
       "    .dataframe tbody tr th {\n",
       "        vertical-align: top;\n",
       "    }\n",
       "\n",
       "    .dataframe thead th {\n",
       "        text-align: right;\n",
       "    }\n",
       "</style>\n",
       "<table border=\"1\" class=\"dataframe\">\n",
       "  <thead>\n",
       "    <tr style=\"text-align: right;\">\n",
       "      <th></th>\n",
       "      <th>Punctuation</th>\n",
       "      <th>Tweet</th>\n",
       "    </tr>\n",
       "  </thead>\n",
       "  <tbody>\n",
       "    <tr>\n",
       "      <th>8957</th>\n",
       "      <td>10</td>\n",
       "      <td>going to go ahead and crown myself the absolute emperor of finding things on menus that sound interesting , deciding i would like to try them , then being told \" i'm sorry sir , that's actually not available ... \" [ then why the # $ % is it on your menuuu - - ]</td>\n",
       "    </tr>\n",
       "    <tr>\n",
       "      <th>13365</th>\n",
       "      <td>9</td>\n",
       "      <td>billboard hot 100 : ➊ ( - 3 ) tell me you love me , ➌ [ 19 weeks ] . * peak : ➊ *</td>\n",
       "    </tr>\n",
       "    <tr>\n",
       "      <th>11066</th>\n",
       "      <td>9</td>\n",
       "      <td>not every aspect worked , but overall had a lot of fun at ➊ . and also ( minor spoiler-ish thingy below ) ... … maybe the best \" single use of the f word in a pg - 13 movie \" ever ? ( didn't hurt that it was connected to a great love of mine ! )</td>\n",
       "    </tr>\n",
       "    <tr>\n",
       "      <th>11845</th>\n",
       "      <td>9</td>\n",
       "      <td>tucker carlson tonight &amp; tfw you're asking about america but you're scolded it's really about israel ... tucker : \" what is the american national security interest ... in syria ? \" sen . wicker ( r ): \" well , if you care about israel ... \" that was the exact question &amp; answer shocking ➋</td>\n",
       "    </tr>\n",
       "    <tr>\n",
       "      <th>11718</th>\n",
       "      <td>9</td>\n",
       "      <td>self-employed people : have you ever turned to social media to call out a client who is many weeks / months delinquent on a payment ? ( obviously , you're probably burning a bridge with that move , but if they don't pay ... )</td>\n",
       "    </tr>\n",
       "    <tr>\n",
       "      <th>909</th>\n",
       "      <td>9</td>\n",
       "      <td>twitter user : \" if you're [ oppressed identity / status / role ] , no need to read this ; if you're [ privileged identity / status / role ] , read it \" the parts of my brain responsible for assuring my physical &amp; emotional safety as a brainwashing survivor with 3000 diseases : ➋</td>\n",
       "    </tr>\n",
       "    <tr>\n",
       "      <th>6725</th>\n",
       "      <td>9</td>\n",
       "      <td>4 - yo : daddeee ! ? let's play ! me : ok , baby . 4yo : you play w / her . put a dress on her daddeee . me : ok . * puts doll in dollhouse * 4yo : she doesn't go there ! !</td>\n",
       "    </tr>\n",
       "    <tr>\n",
       "      <th>13933</th>\n",
       "      <td>9</td>\n",
       "      <td>feds had one chance to search cohen's places ! since he , alone &amp; w / trump , has been busy w / so much possibly criminal activity , searches covered the whole enchilada : bank fraud , tax crimes , $ laundering &amp; 2016 election-related crimes , including payoffs that could be fec violations . ➋</td>\n",
       "    </tr>\n",
       "    <tr>\n",
       "      <th>13817</th>\n",
       "      <td>8</td>\n",
       "      <td>print orders are available in my etsy store : ➋ ( * ´ ∀ ` * ) i am very proud of these prints and i'm very happy with their quality ! ! i hope you like them . this is a great way to support my works ( ｡ ･ ω ･ ｡ ) ﾉ ♡ rt and shares are always appreciated 💕 ➋</td>\n",
       "    </tr>\n",
       "    <tr>\n",
       "      <th>14623</th>\n",
       "      <td>8</td>\n",
       "      <td>park jimin fancafe 01.04 . 2018 { 12:30 am kst } i left the dorm , hoseok will be alone in the room , i don't know what is army anymore you're all just from the past bye don't come to me when u see me in the street &amp; say jimin because ima punch u in the face ➊_we_are_beardtan</td>\n",
       "    </tr>\n",
       "  </tbody>\n",
       "</table>\n",
       "</div>"
      ],
      "text/plain": [
       "       Punctuation  \\\n",
       "8957            10   \n",
       "13365            9   \n",
       "11066            9   \n",
       "11845            9   \n",
       "11718            9   \n",
       "909              9   \n",
       "6725             9   \n",
       "13933            9   \n",
       "13817            8   \n",
       "14623            8   \n",
       "\n",
       "                                                                                                                                                                                                                                                                                                        Tweet  \n",
       "8957                                    going to go ahead and crown myself the absolute emperor of finding things on menus that sound interesting , deciding i would like to try them , then being told \" i'm sorry sir , that's actually not available ... \" [ then why the # $ % is it on your menuuu - - ]  \n",
       "13365                                                                                                                                                                                                                       billboard hot 100 : ➊ ( - 3 ) tell me you love me , ➌ [ 19 weeks ] . * peak : ➊ *  \n",
       "11066                                                   not every aspect worked , but overall had a lot of fun at ➊ . and also ( minor spoiler-ish thingy below ) ... … maybe the best \" single use of the f word in a pg - 13 movie \" ever ? ( didn't hurt that it was connected to a great love of mine ! )  \n",
       "11845        tucker carlson tonight & tfw you're asking about america but you're scolded it's really about israel ... tucker : \" what is the american national security interest ... in syria ? \" sen . wicker ( r ): \" well , if you care about israel ... \" that was the exact question & answer shocking ➋  \n",
       "11718                                                                       self-employed people : have you ever turned to social media to call out a client who is many weeks / months delinquent on a payment ? ( obviously , you're probably burning a bridge with that move , but if they don't pay ... )  \n",
       "909                  twitter user : \" if you're [ oppressed identity / status / role ] , no need to read this ; if you're [ privileged identity / status / role ] , read it \" the parts of my brain responsible for assuring my physical & emotional safety as a brainwashing survivor with 3000 diseases : ➋  \n",
       "6725                                                                                                                             4 - yo : daddeee ! ? let's play ! me : ok , baby . 4yo : you play w / her . put a dress on her daddeee . me : ok . * puts doll in dollhouse * 4yo : she doesn't go there ! !  \n",
       "13933  feds had one chance to search cohen's places ! since he , alone & w / trump , has been busy w / so much possibly criminal activity , searches covered the whole enchilada : bank fraud , tax crimes , $ laundering & 2016 election-related crimes , including payoffs that could be fec violations . ➋  \n",
       "13817                                       print orders are available in my etsy store : ➋ ( * ´ ∀ ` * ) i am very proud of these prints and i'm very happy with their quality ! ! i hope you like them . this is a great way to support my works ( ｡ ･ ω ･ ｡ ) ﾉ ♡ rt and shares are always appreciated 💕 ➋  \n",
       "14623                    park jimin fancafe 01.04 . 2018 { 12:30 am kst } i left the dorm , hoseok will be alone in the room , i don't know what is army anymore you're all just from the past bye don't come to me when u see me in the street & say jimin because ima punch u in the face ➊_we_are_beardtan  "
      ]
     },
     "execution_count": 92,
     "metadata": {},
     "output_type": "execute_result"
    }
   ],
   "source": [
    "punctuation_data_for_stats.sort_values(by=\"Punctuation\", ascending=False).head(10)"
   ]
  },
  {
   "cell_type": "markdown",
   "metadata": {},
   "source": [
    "#### Tweets punctuation statistics"
   ]
  },
  {
   "cell_type": "code",
   "execution_count": 93,
   "metadata": {},
   "outputs": [
    {
     "data": {
      "text/html": [
       "<div>\n",
       "<style scoped>\n",
       "    .dataframe tbody tr th:only-of-type {\n",
       "        vertical-align: middle;\n",
       "    }\n",
       "\n",
       "    .dataframe tbody tr th {\n",
       "        vertical-align: top;\n",
       "    }\n",
       "\n",
       "    .dataframe thead th {\n",
       "        text-align: right;\n",
       "    }\n",
       "</style>\n",
       "<table border=\"1\" class=\"dataframe\">\n",
       "  <thead>\n",
       "    <tr style=\"text-align: right;\">\n",
       "      <th></th>\n",
       "      <th>Punctuation</th>\n",
       "    </tr>\n",
       "  </thead>\n",
       "  <tbody>\n",
       "    <tr>\n",
       "      <th>count</th>\n",
       "      <td>15674.0000</td>\n",
       "    </tr>\n",
       "    <tr>\n",
       "      <th>mean</th>\n",
       "      <td>1.8610</td>\n",
       "    </tr>\n",
       "    <tr>\n",
       "      <th>std</th>\n",
       "      <td>1.5408</td>\n",
       "    </tr>\n",
       "    <tr>\n",
       "      <th>min</th>\n",
       "      <td>0.0000</td>\n",
       "    </tr>\n",
       "    <tr>\n",
       "      <th>25%</th>\n",
       "      <td>1.0000</td>\n",
       "    </tr>\n",
       "    <tr>\n",
       "      <th>50%</th>\n",
       "      <td>2.0000</td>\n",
       "    </tr>\n",
       "    <tr>\n",
       "      <th>75%</th>\n",
       "      <td>3.0000</td>\n",
       "    </tr>\n",
       "    <tr>\n",
       "      <th>max</th>\n",
       "      <td>10.0000</td>\n",
       "    </tr>\n",
       "  </tbody>\n",
       "</table>\n",
       "</div>"
      ],
      "text/plain": [
       "       Punctuation\n",
       "count   15674.0000\n",
       "mean        1.8610\n",
       "std         1.5408\n",
       "min         0.0000\n",
       "25%         1.0000\n",
       "50%         2.0000\n",
       "75%         3.0000\n",
       "max        10.0000"
      ]
     },
     "execution_count": 93,
     "metadata": {},
     "output_type": "execute_result"
    }
   ],
   "source": [
    "punctuation_data_for_stats.describe()"
   ]
  },
  {
   "cell_type": "markdown",
   "metadata": {},
   "source": [
    "#### Stop words"
   ]
  },
  {
   "cell_type": "code",
   "execution_count": 94,
   "metadata": {},
   "outputs": [],
   "source": [
    "stop_words_data = [len(set(stopwords.words(\"english\")).intersection(set(tweet.lower()))) \n",
    "                   for tweet in training_data]"
   ]
  },
  {
   "cell_type": "code",
   "execution_count": 95,
   "metadata": {},
   "outputs": [],
   "source": [
    "stop_words_data_for_stats = pd.DataFrame({\"Stop words\": stop_words_data, \"Tweet\": training_data})"
   ]
  },
  {
   "cell_type": "markdown",
   "metadata": {},
   "source": [
    "#### Top 10 tweets with most stop words"
   ]
  },
  {
   "cell_type": "code",
   "execution_count": 96,
   "metadata": {},
   "outputs": [
    {
     "data": {
      "text/html": [
       "<div>\n",
       "<style scoped>\n",
       "    .dataframe tbody tr th:only-of-type {\n",
       "        vertical-align: middle;\n",
       "    }\n",
       "\n",
       "    .dataframe tbody tr th {\n",
       "        vertical-align: top;\n",
       "    }\n",
       "\n",
       "    .dataframe thead th {\n",
       "        text-align: right;\n",
       "    }\n",
       "</style>\n",
       "<table border=\"1\" class=\"dataframe\">\n",
       "  <thead>\n",
       "    <tr style=\"text-align: right;\">\n",
       "      <th></th>\n",
       "      <th>Stop words</th>\n",
       "      <th>Tweet</th>\n",
       "    </tr>\n",
       "  </thead>\n",
       "  <tbody>\n",
       "    <tr>\n",
       "      <th>0</th>\n",
       "      <td>8</td>\n",
       "      <td>i don't yet have adequate words to do so , but someday i wanna write about the beautiful dance which happens in google docs between a writer &amp; a good editor working simultaneously towards a deadline . when it's working , it's a beautiful dance — though no one really sees it .</td>\n",
       "    </tr>\n",
       "    <tr>\n",
       "      <th>9062</th>\n",
       "      <td>8</td>\n",
       "      <td>➌ too fine .. ima need him to have a show in a city near me 😩</td>\n",
       "    </tr>\n",
       "    <tr>\n",
       "      <th>9033</th>\n",
       "      <td>8</td>\n",
       "      <td>how is this still a \" phase \" if i'm voluntarily putting myself through a second , more intense puberty ? ? 🤔</td>\n",
       "    </tr>\n",
       "    <tr>\n",
       "      <th>9035</th>\n",
       "      <td>8</td>\n",
       "      <td>the role of dag rod rosenstein will be an oscar winner in the future film about the trump presidency . i'd like the story of the first few months to be told through the eyes of the bewildered sean spicer .</td>\n",
       "    </tr>\n",
       "    <tr>\n",
       "      <th>9038</th>\n",
       "      <td>8</td>\n",
       "      <td>done watching ' hacksaw ridge ' . if there's one thing i learned from that movie , it is simply , have faith in god .</td>\n",
       "    </tr>\n",
       "    <tr>\n",
       "      <th>9039</th>\n",
       "      <td>8</td>\n",
       "      <td>i feel people who can't celebrate or at the very least respect cardi b's success have never watched the grind from the ground up . they can't understand that her work ethic has gotten her where she is now . you don't have to stand for what's she's about but she's worked for it</td>\n",
       "    </tr>\n",
       "    <tr>\n",
       "      <th>9040</th>\n",
       "      <td>8</td>\n",
       "      <td>icymi : dolphins need to improve their 2nd round draft picks : ➋</td>\n",
       "    </tr>\n",
       "    <tr>\n",
       "      <th>9041</th>\n",
       "      <td>8</td>\n",
       "      <td>another republican who wants us back in syria but doesn't want to vote for it . does the country support america going in alone ? ➋</td>\n",
       "    </tr>\n",
       "    <tr>\n",
       "      <th>9043</th>\n",
       "      <td>8</td>\n",
       "      <td>you ever just have your phone in your hand and then you hand just decides it doesn't want to hold it anymore and throws it in the ground .</td>\n",
       "    </tr>\n",
       "    <tr>\n",
       "      <th>9044</th>\n",
       "      <td>8</td>\n",
       "      <td>footage from the night of kenneka jenkins passing . please pass this on these two men were working the night she passed and were seen following her in the hallway ! ! ! police need to ask them what was in this bag . ➌ ➋</td>\n",
       "    </tr>\n",
       "  </tbody>\n",
       "</table>\n",
       "</div>"
      ],
      "text/plain": [
       "      Stop words  \\\n",
       "0              8   \n",
       "9062           8   \n",
       "9033           8   \n",
       "9035           8   \n",
       "9038           8   \n",
       "9039           8   \n",
       "9040           8   \n",
       "9041           8   \n",
       "9043           8   \n",
       "9044           8   \n",
       "\n",
       "                                                                                                                                                                                                                                                                                      Tweet  \n",
       "0      i don't yet have adequate words to do so , but someday i wanna write about the beautiful dance which happens in google docs between a writer & a good editor working simultaneously towards a deadline . when it's working , it's a beautiful dance — though no one really sees it .  \n",
       "9062                                                                                                                                                                                                                          ➌ too fine .. ima need him to have a show in a city near me 😩  \n",
       "9033                                                                                                                                                                          how is this still a \" phase \" if i'm voluntarily putting myself through a second , more intense puberty ? ? 🤔  \n",
       "9035                                                                          the role of dag rod rosenstein will be an oscar winner in the future film about the trump presidency . i'd like the story of the first few months to be told through the eyes of the bewildered sean spicer .  \n",
       "9038                                                                                                                                                                  done watching ' hacksaw ridge ' . if there's one thing i learned from that movie , it is simply , have faith in god .  \n",
       "9039  i feel people who can't celebrate or at the very least respect cardi b's success have never watched the grind from the ground up . they can't understand that her work ethic has gotten her where she is now . you don't have to stand for what's she's about but she's worked for it  \n",
       "9040                                                                                                                                                                                                                       icymi : dolphins need to improve their 2nd round draft picks : ➋  \n",
       "9041                                                                                                                                                    another republican who wants us back in syria but doesn't want to vote for it . does the country support america going in alone ? ➋  \n",
       "9043                                                                                                                                             you ever just have your phone in your hand and then you hand just decides it doesn't want to hold it anymore and throws it in the ground .  \n",
       "9044                                                            footage from the night of kenneka jenkins passing . please pass this on these two men were working the night she passed and were seen following her in the hallway ! ! ! police need to ask them what was in this bag . ➌ ➋  "
      ]
     },
     "execution_count": 96,
     "metadata": {},
     "output_type": "execute_result"
    }
   ],
   "source": [
    "stop_words_data_for_stats.sort_values(by=\"Stop words\", ascending=False).head(10)"
   ]
  },
  {
   "cell_type": "markdown",
   "metadata": {},
   "source": [
    "#### Top 10 tweets with fewest stop words"
   ]
  },
  {
   "cell_type": "code",
   "execution_count": 97,
   "metadata": {},
   "outputs": [
    {
     "data": {
      "text/html": [
       "<div>\n",
       "<style scoped>\n",
       "    .dataframe tbody tr th:only-of-type {\n",
       "        vertical-align: middle;\n",
       "    }\n",
       "\n",
       "    .dataframe tbody tr th {\n",
       "        vertical-align: top;\n",
       "    }\n",
       "\n",
       "    .dataframe thead th {\n",
       "        text-align: right;\n",
       "    }\n",
       "</style>\n",
       "<table border=\"1\" class=\"dataframe\">\n",
       "  <thead>\n",
       "    <tr style=\"text-align: right;\">\n",
       "      <th></th>\n",
       "      <th>Stop words</th>\n",
       "      <th>Tweet</th>\n",
       "    </tr>\n",
       "  </thead>\n",
       "  <tbody>\n",
       "    <tr>\n",
       "      <th>8290</th>\n",
       "      <td>0</td>\n",
       "      <td>24 ➋</td>\n",
       "    </tr>\n",
       "    <tr>\n",
       "      <th>9100</th>\n",
       "      <td>0</td>\n",
       "      <td>... ➋</td>\n",
       "    </tr>\n",
       "    <tr>\n",
       "      <th>958</th>\n",
       "      <td>0</td>\n",
       "      <td>luv u</td>\n",
       "    </tr>\n",
       "    <tr>\n",
       "      <th>14086</th>\n",
       "      <td>0</td>\n",
       "      <td>➊ well ...</td>\n",
       "    </tr>\n",
       "    <tr>\n",
       "      <th>3785</th>\n",
       "      <td>0</td>\n",
       "      <td>ugh</td>\n",
       "    </tr>\n",
       "    <tr>\n",
       "      <th>3632</th>\n",
       "      <td>0</td>\n",
       "      <td>... ➋</td>\n",
       "    </tr>\n",
       "    <tr>\n",
       "      <th>11925</th>\n",
       "      <td>0</td>\n",
       "      <td>fuck ➋</td>\n",
       "    </tr>\n",
       "    <tr>\n",
       "      <th>3455</th>\n",
       "      <td>0</td>\n",
       "      <td>fuck ... ➋</td>\n",
       "    </tr>\n",
       "    <tr>\n",
       "      <th>1662</th>\n",
       "      <td>0</td>\n",
       "      <td>uh ➋</td>\n",
       "    </tr>\n",
       "    <tr>\n",
       "      <th>5896</th>\n",
       "      <td>0</td>\n",
       "      <td>uh</td>\n",
       "    </tr>\n",
       "  </tbody>\n",
       "</table>\n",
       "</div>"
      ],
      "text/plain": [
       "       Stop words       Tweet\n",
       "8290            0        24 ➋\n",
       "9100            0       ... ➋\n",
       "958             0       luv u\n",
       "14086           0  ➊ well ...\n",
       "3785            0         ugh\n",
       "3632            0       ... ➋\n",
       "11925           0      fuck ➋\n",
       "3455            0  fuck ... ➋\n",
       "1662            0        uh ➋\n",
       "5896            0          uh"
      ]
     },
     "execution_count": 97,
     "metadata": {},
     "output_type": "execute_result"
    }
   ],
   "source": [
    "stop_words_data_for_stats.sort_values(by=\"Stop words\", ascending=True).head(10)"
   ]
  },
  {
   "cell_type": "markdown",
   "metadata": {},
   "source": [
    "#### Tweets stop words statistics"
   ]
  },
  {
   "cell_type": "code",
   "execution_count": 98,
   "metadata": {},
   "outputs": [
    {
     "data": {
      "text/html": [
       "<div>\n",
       "<style scoped>\n",
       "    .dataframe tbody tr th:only-of-type {\n",
       "        vertical-align: middle;\n",
       "    }\n",
       "\n",
       "    .dataframe tbody tr th {\n",
       "        vertical-align: top;\n",
       "    }\n",
       "\n",
       "    .dataframe thead th {\n",
       "        text-align: right;\n",
       "    }\n",
       "</style>\n",
       "<table border=\"1\" class=\"dataframe\">\n",
       "  <thead>\n",
       "    <tr style=\"text-align: right;\">\n",
       "      <th></th>\n",
       "      <th>Stop words</th>\n",
       "    </tr>\n",
       "  </thead>\n",
       "  <tbody>\n",
       "    <tr>\n",
       "      <th>count</th>\n",
       "      <td>15674.0000</td>\n",
       "    </tr>\n",
       "    <tr>\n",
       "      <th>mean</th>\n",
       "      <td>7.1504</td>\n",
       "    </tr>\n",
       "    <tr>\n",
       "      <th>std</th>\n",
       "      <td>1.3123</td>\n",
       "    </tr>\n",
       "    <tr>\n",
       "      <th>min</th>\n",
       "      <td>0.0000</td>\n",
       "    </tr>\n",
       "    <tr>\n",
       "      <th>25%</th>\n",
       "      <td>7.0000</td>\n",
       "    </tr>\n",
       "    <tr>\n",
       "      <th>50%</th>\n",
       "      <td>8.0000</td>\n",
       "    </tr>\n",
       "    <tr>\n",
       "      <th>75%</th>\n",
       "      <td>8.0000</td>\n",
       "    </tr>\n",
       "    <tr>\n",
       "      <th>max</th>\n",
       "      <td>8.0000</td>\n",
       "    </tr>\n",
       "  </tbody>\n",
       "</table>\n",
       "</div>"
      ],
      "text/plain": [
       "       Stop words\n",
       "count  15674.0000\n",
       "mean       7.1504\n",
       "std        1.3123\n",
       "min        0.0000\n",
       "25%        7.0000\n",
       "50%        8.0000\n",
       "75%        8.0000\n",
       "max        8.0000"
      ]
     },
     "execution_count": 98,
     "metadata": {},
     "output_type": "execute_result"
    }
   ],
   "source": [
    "stop_words_data_for_stats.describe()"
   ]
  },
  {
   "cell_type": "markdown",
   "metadata": {},
   "source": [
    "#### Unique words (at least 2)"
   ]
  },
  {
   "cell_type": "code",
   "execution_count": 99,
   "metadata": {},
   "outputs": [],
   "source": [
    "unique_words_data = [len(set(tokenizer.tokenize(tweet))) for tweet in training_data]"
   ]
  },
  {
   "cell_type": "code",
   "execution_count": 100,
   "metadata": {},
   "outputs": [],
   "source": [
    "unique_words_data_for_stats = pd.DataFrame({\"Unique words\": unique_words_data, \"Tweet\": training_data})"
   ]
  },
  {
   "cell_type": "code",
   "execution_count": 101,
   "metadata": {},
   "outputs": [],
   "source": [
    "# unique_words_data_for_stats = unique_words_data_for_stats[unique_words_data_for_stats[\"Unique words\"] >= 2]"
   ]
  },
  {
   "cell_type": "code",
   "execution_count": 102,
   "metadata": {},
   "outputs": [],
   "source": [
    "unique_words_data = unique_words_data_for_stats[\"Unique words\"].tolist()"
   ]
  },
  {
   "cell_type": "markdown",
   "metadata": {},
   "source": [
    "#### Top 10 tweets with most unique words"
   ]
  },
  {
   "cell_type": "code",
   "execution_count": 103,
   "metadata": {},
   "outputs": [
    {
     "data": {
      "text/html": [
       "<div>\n",
       "<style scoped>\n",
       "    .dataframe tbody tr th:only-of-type {\n",
       "        vertical-align: middle;\n",
       "    }\n",
       "\n",
       "    .dataframe tbody tr th {\n",
       "        vertical-align: top;\n",
       "    }\n",
       "\n",
       "    .dataframe thead th {\n",
       "        text-align: right;\n",
       "    }\n",
       "</style>\n",
       "<table border=\"1\" class=\"dataframe\">\n",
       "  <thead>\n",
       "    <tr style=\"text-align: right;\">\n",
       "      <th></th>\n",
       "      <th>Tweet</th>\n",
       "      <th>Unique words</th>\n",
       "    </tr>\n",
       "  </thead>\n",
       "  <tbody>\n",
       "    <tr>\n",
       "      <th>13936</th>\n",
       "      <td>give away ! the rules are really easy , all you have to do is : 1 . must be following me ( i check ) 2 . rt and fav this tweet 3 . tag your mutuals / anyone 4 . only 1 winner ! 5 . i ship worldwide ;) it ends in 8th may 2018 or when this tweet hit 2k rt and like ! good luck ! ❤ ➋</td>\n",
       "      <td>60</td>\n",
       "    </tr>\n",
       "    <tr>\n",
       "      <th>4881</th>\n",
       "      <td>got into a tepid back nd forth w / a uknowwhoaj + columnist bc i said they steal their \" hot takes \" from blk twitter &amp; alike . wallahi my bdeshi ass did not sign up 4 this app to be called asinine by a 30yrold pakistani whos whole politics is post colonial memes for oriental minded t -</td>\n",
       "      <td>57</td>\n",
       "    </tr>\n",
       "    <tr>\n",
       "      <th>7013</th>\n",
       "      <td>crazy how wrong u can be about someone . a girl i graduated w / was always doing drugs &amp; got pregnant at 16 . i assumed she'd end up being a loser but it turn out she now has 4 beautiful kids &amp; is making over $ 4,500 / month just off of child support payments from the 3 different dads</td>\n",
       "      <td>57</td>\n",
       "    </tr>\n",
       "    <tr>\n",
       "      <th>11542</th>\n",
       "      <td>thought i'd bring this back ... ➊ and no , i'm not talking about myself here . i wish just once i'd be so bored with my life that i'd find the time to bash people / celebs i don't like .. i mean if i despise someone that much , why still watch his / her every move ? 🤦 ‍ ♀ ️ ➋</td>\n",
       "      <td>57</td>\n",
       "    </tr>\n",
       "    <tr>\n",
       "      <th>13339</th>\n",
       "      <td>- many 👮 ‍ ♂ ️ suffer in silence , not always by choice but by design ! ➊ can be a career killer &amp; worse many pd's do not see p . t . s . d as an insured disability ; this has to change 🆘 - hiding mine for 3 years made my ➊ unbearable ! please help us ➊ &amp; ➊ ⚖ ️ ➋</td>\n",
       "      <td>56</td>\n",
       "    </tr>\n",
       "    <tr>\n",
       "      <th>13107</th>\n",
       "      <td>➌ missed meeting rey , i left at 1:30 ( 5th in line , for 2 hrs ) so i didn't miss my other event . am i able to get a refund for the prepaid that i paid for the combo ? i know it wasn't your guys fault , but if he was gonna show up later then 12 i wouldn't have bought it .</td>\n",
       "      <td>55</td>\n",
       "    </tr>\n",
       "    <tr>\n",
       "      <th>13567</th>\n",
       "      <td>in loving memory of 21 yrs , my late husband i took off life support 1 yr ago this evening . the hardest thing i have ever had to do other than take your ashes to co . the memories of your 40 diff marriage proposals , i think of today . i love you &amp; semper fi , sgt . chris ! ❤ ️ 🇺 🇸 ➋</td>\n",
       "      <td>55</td>\n",
       "    </tr>\n",
       "    <tr>\n",
       "      <th>8413</th>\n",
       "      <td>i was born at 8: 48 in the morning 32 years ago . only one person calls me at that time every year and that is my mother . since the stroke she has forgotten so much . i didn't expect a call , but like clock work the phone rang . i got hit hard with the feels right now . thanks mom 💙 ➋</td>\n",
       "      <td>55</td>\n",
       "    </tr>\n",
       "    <tr>\n",
       "      <th>14327</th>\n",
       "      <td>never thought i was gonna kick half team but damn ... i guess i'll do it smh should've let me know so i could find some active players .. ppl now a days cant be trusted “ oh i'm active ” fuck you m8 ! ! ! y'all aren't active for shit . btw sorry if i'm mad ... but im mad 😡 ➊ ➋</td>\n",
       "      <td>55</td>\n",
       "    </tr>\n",
       "    <tr>\n",
       "      <th>12224</th>\n",
       "      <td>what's the one thing you hope for your character ( s ) to have / retain in smash 5 ? no matter what changes , i hope playing sonic feels just as free and enjoyable . i love being able to freely move anywhere in his cool blue style ( hoping shadow has a fiercer &amp; darker version of this )</td>\n",
       "      <td>55</td>\n",
       "    </tr>\n",
       "  </tbody>\n",
       "</table>\n",
       "</div>"
      ],
      "text/plain": [
       "                                                                                                                                                                                                                                                                                                 Tweet  \\\n",
       "13936         give away ! the rules are really easy , all you have to do is : 1 . must be following me ( i check ) 2 . rt and fav this tweet 3 . tag your mutuals / anyone 4 . only 1 winner ! 5 . i ship worldwide ;) it ends in 8th may 2018 or when this tweet hit 2k rt and like ! good luck ! ❤ ➋   \n",
       "4881   got into a tepid back nd forth w / a uknowwhoaj + columnist bc i said they steal their \" hot takes \" from blk twitter & alike . wallahi my bdeshi ass did not sign up 4 this app to be called asinine by a 30yrold pakistani whos whole politics is post colonial memes for oriental minded t -   \n",
       "7013     crazy how wrong u can be about someone . a girl i graduated w / was always doing drugs & got pregnant at 16 . i assumed she'd end up being a loser but it turn out she now has 4 beautiful kids & is making over $ 4,500 / month just off of child support payments from the 3 different dads   \n",
       "11542             thought i'd bring this back ... ➊ and no , i'm not talking about myself here . i wish just once i'd be so bored with my life that i'd find the time to bash people / celebs i don't like .. i mean if i despise someone that much , why still watch his / her every move ? 🤦 ‍ ♀ ️ ➋   \n",
       "13339                          - many 👮 ‍ ♂ ️ suffer in silence , not always by choice but by design ! ➊ can be a career killer & worse many pd's do not see p . t . s . d as an insured disability ; this has to change 🆘 - hiding mine for 3 years made my ➊ unbearable ! please help us ➊ & ➊ ⚖ ️ ➋   \n",
       "13107               ➌ missed meeting rey , i left at 1:30 ( 5th in line , for 2 hrs ) so i didn't miss my other event . am i able to get a refund for the prepaid that i paid for the combo ? i know it wasn't your guys fault , but if he was gonna show up later then 12 i wouldn't have bought it .   \n",
       "13567    in loving memory of 21 yrs , my late husband i took off life support 1 yr ago this evening . the hardest thing i have ever had to do other than take your ashes to co . the memories of your 40 diff marriage proposals , i think of today . i love you & semper fi , sgt . chris ! ❤ ️ 🇺 🇸 ➋   \n",
       "8413    i was born at 8: 48 in the morning 32 years ago . only one person calls me at that time every year and that is my mother . since the stroke she has forgotten so much . i didn't expect a call , but like clock work the phone rang . i got hit hard with the feels right now . thanks mom 💙 ➋   \n",
       "14327            never thought i was gonna kick half team but damn ... i guess i'll do it smh should've let me know so i could find some active players .. ppl now a days cant be trusted “ oh i'm active ” fuck you m8 ! ! ! y'all aren't active for shit . btw sorry if i'm mad ... but im mad 😡 ➊ ➋   \n",
       "12224  what's the one thing you hope for your character ( s ) to have / retain in smash 5 ? no matter what changes , i hope playing sonic feels just as free and enjoyable . i love being able to freely move anywhere in his cool blue style ( hoping shadow has a fiercer & darker version of this )   \n",
       "\n",
       "       Unique words  \n",
       "13936            60  \n",
       "4881             57  \n",
       "7013             57  \n",
       "11542            57  \n",
       "13339            56  \n",
       "13107            55  \n",
       "13567            55  \n",
       "8413             55  \n",
       "14327            55  \n",
       "12224            55  "
      ]
     },
     "execution_count": 103,
     "metadata": {},
     "output_type": "execute_result"
    }
   ],
   "source": [
    "unique_words_data_for_stats.sort_values(by=\"Unique words\", ascending=False).head(10)"
   ]
  },
  {
   "cell_type": "markdown",
   "metadata": {},
   "source": [
    "#### Top 10 tweets with fewest unique words"
   ]
  },
  {
   "cell_type": "code",
   "execution_count": 104,
   "metadata": {},
   "outputs": [
    {
     "data": {
      "text/html": [
       "<div>\n",
       "<style scoped>\n",
       "    .dataframe tbody tr th:only-of-type {\n",
       "        vertical-align: middle;\n",
       "    }\n",
       "\n",
       "    .dataframe tbody tr th {\n",
       "        vertical-align: top;\n",
       "    }\n",
       "\n",
       "    .dataframe thead th {\n",
       "        text-align: right;\n",
       "    }\n",
       "</style>\n",
       "<table border=\"1\" class=\"dataframe\">\n",
       "  <thead>\n",
       "    <tr style=\"text-align: right;\">\n",
       "      <th></th>\n",
       "      <th>Tweet</th>\n",
       "      <th>Unique words</th>\n",
       "    </tr>\n",
       "  </thead>\n",
       "  <tbody>\n",
       "    <tr>\n",
       "      <th>2353</th>\n",
       "      <td>catfish</td>\n",
       "      <td>1</td>\n",
       "    </tr>\n",
       "    <tr>\n",
       "      <th>975</th>\n",
       "      <td>ginger</td>\n",
       "      <td>1</td>\n",
       "    </tr>\n",
       "    <tr>\n",
       "      <th>933</th>\n",
       "      <td>assumptions</td>\n",
       "      <td>1</td>\n",
       "    </tr>\n",
       "    <tr>\n",
       "      <th>6106</th>\n",
       "      <td>annoying</td>\n",
       "      <td>1</td>\n",
       "    </tr>\n",
       "    <tr>\n",
       "      <th>2525</th>\n",
       "      <td>bitch</td>\n",
       "      <td>1</td>\n",
       "    </tr>\n",
       "    <tr>\n",
       "      <th>7702</th>\n",
       "      <td>rude</td>\n",
       "      <td>1</td>\n",
       "    </tr>\n",
       "    <tr>\n",
       "      <th>2342</th>\n",
       "      <td>corny</td>\n",
       "      <td>1</td>\n",
       "    </tr>\n",
       "    <tr>\n",
       "      <th>7699</th>\n",
       "      <td>a</td>\n",
       "      <td>1</td>\n",
       "    </tr>\n",
       "    <tr>\n",
       "      <th>2038</th>\n",
       "      <td>ha</td>\n",
       "      <td>1</td>\n",
       "    </tr>\n",
       "    <tr>\n",
       "      <th>2351</th>\n",
       "      <td>soft</td>\n",
       "      <td>1</td>\n",
       "    </tr>\n",
       "  </tbody>\n",
       "</table>\n",
       "</div>"
      ],
      "text/plain": [
       "            Tweet  Unique words\n",
       "2353      catfish             1\n",
       "975        ginger             1\n",
       "933   assumptions             1\n",
       "6106     annoying             1\n",
       "2525        bitch             1\n",
       "7702         rude             1\n",
       "2342        corny             1\n",
       "7699            a             1\n",
       "2038           ha             1\n",
       "2351         soft             1"
      ]
     },
     "execution_count": 104,
     "metadata": {},
     "output_type": "execute_result"
    }
   ],
   "source": [
    "unique_words_data_for_stats.sort_values(by=\"Unique words\", ascending=True).head(10)"
   ]
  },
  {
   "cell_type": "markdown",
   "metadata": {},
   "source": [
    "#### Tweets unique words statistics"
   ]
  },
  {
   "cell_type": "code",
   "execution_count": 105,
   "metadata": {},
   "outputs": [
    {
     "data": {
      "text/html": [
       "<div>\n",
       "<style scoped>\n",
       "    .dataframe tbody tr th:only-of-type {\n",
       "        vertical-align: middle;\n",
       "    }\n",
       "\n",
       "    .dataframe tbody tr th {\n",
       "        vertical-align: top;\n",
       "    }\n",
       "\n",
       "    .dataframe thead th {\n",
       "        text-align: right;\n",
       "    }\n",
       "</style>\n",
       "<table border=\"1\" class=\"dataframe\">\n",
       "  <thead>\n",
       "    <tr style=\"text-align: right;\">\n",
       "      <th></th>\n",
       "      <th>Unique words</th>\n",
       "    </tr>\n",
       "  </thead>\n",
       "  <tbody>\n",
       "    <tr>\n",
       "      <th>count</th>\n",
       "      <td>15674.0000</td>\n",
       "    </tr>\n",
       "    <tr>\n",
       "      <th>mean</th>\n",
       "      <td>19.8939</td>\n",
       "    </tr>\n",
       "    <tr>\n",
       "      <th>std</th>\n",
       "      <td>11.9839</td>\n",
       "    </tr>\n",
       "    <tr>\n",
       "      <th>min</th>\n",
       "      <td>1.0000</td>\n",
       "    </tr>\n",
       "    <tr>\n",
       "      <th>25%</th>\n",
       "      <td>10.0000</td>\n",
       "    </tr>\n",
       "    <tr>\n",
       "      <th>50%</th>\n",
       "      <td>17.0000</td>\n",
       "    </tr>\n",
       "    <tr>\n",
       "      <th>75%</th>\n",
       "      <td>28.0000</td>\n",
       "    </tr>\n",
       "    <tr>\n",
       "      <th>max</th>\n",
       "      <td>60.0000</td>\n",
       "    </tr>\n",
       "  </tbody>\n",
       "</table>\n",
       "</div>"
      ],
      "text/plain": [
       "       Unique words\n",
       "count    15674.0000\n",
       "mean        19.8939\n",
       "std         11.9839\n",
       "min          1.0000\n",
       "25%         10.0000\n",
       "50%         17.0000\n",
       "75%         28.0000\n",
       "max         60.0000"
      ]
     },
     "execution_count": 105,
     "metadata": {},
     "output_type": "execute_result"
    }
   ],
   "source": [
    "unique_words_data_for_stats.describe()"
   ]
  },
  {
   "cell_type": "markdown",
   "metadata": {},
   "source": [
    "#### Plot them"
   ]
  },
  {
   "cell_type": "code",
   "execution_count": 106,
   "metadata": {},
   "outputs": [
    {
     "data": {
      "image/png": "[encoded data removed]",
      "text/plain": [
       "<Figure size 1152x648 with 1 Axes>"
      ]
     },
     "metadata": {},
     "output_type": "display_data"
    }
   ],
   "source": [
    "length_mean = length_data_for_stats.describe().Length[1]\n",
    "length_std = length_data_for_stats.describe().Length[2]\n",
    "\n",
    "fig = plt.figure(figsize=(16, 9))\n",
    "ax = fig.add_subplot(111)\n",
    "\n",
    "n, bins, patches = ax.hist(length_data, \n",
    "                           bins=\"scott\", \n",
    "                           edgecolor=\"black\", \n",
    "                           density=True, \n",
    "                           color=\"#12355b\", \n",
    "                           alpha=0.5)\n",
    "\n",
    "length_line = scipy.stats.norm.pdf(bins, length_mean, length_std)\n",
    "ax.plot(bins, length_line, \"--\", linewidth=3, color=\"#415d7b\")\n",
    "\n",
    "ax.set_title(\"Training Dataset Distribution of Tweet Lengths\", fontsize=18)\n",
    "ax.set_xlabel(\"Tweet Length\", fontsize=18);\n",
    "ax.set_ylabel(\"Porton of Tweets with That Length\", fontsize=18);\n",
    "\n",
    "plt.show()"
   ]
  },
  {
   "cell_type": "code",
   "execution_count": 107,
   "metadata": {},
   "outputs": [
    {
     "data": {
      "image/png": "[encoded data removed]",
      "text/plain": [
       "<Figure size 1152x648 with 1 Axes>"
      ]
     },
     "metadata": {},
     "output_type": "display_data"
    }
   ],
   "source": [
    "punctuation_mean = punctuation_data_for_stats.describe().Punctuation[1]\n",
    "punctuation_std = punctuation_data_for_stats.describe().Punctuation[2]\n",
    "\n",
    "fig = plt.figure(figsize=(16, 9))\n",
    "ax = fig.add_subplot(111)\n",
    "\n",
    "n, bins, patches = ax.hist(punctuation_data, \n",
    "                           bins=\"scott\", \n",
    "                           edgecolor=\"black\", \n",
    "                           density=True, \n",
    "                           color=\"#420039\",\n",
    "                           alpha=0.5)\n",
    "\n",
    "punctution_line = scipy.stats.norm.pdf(bins, punctuation_mean, punctuation_std)\n",
    "ax.plot(bins, punctution_line, \"--\", linewidth=3, color=\"#673260\")\n",
    "\n",
    "ax.set_title(\"Training Dataset Distribution of Punctuation\", fontsize=18)\n",
    "ax.set_xlabel(\"Punctuating Characters\", fontsize=18)\n",
    "ax.set_ylabel(\"Porton of Punctuating Characters\", fontsize=18)\n",
    "\n",
    "plt.show()"
   ]
  },
  {
   "cell_type": "code",
   "execution_count": 108,
   "metadata": {},
   "outputs": [
    {
     "data": {
      "image/png": "[encoded data removed]",
      "text/plain": [
       "<Figure size 1152x648 with 1 Axes>"
      ]
     },
     "metadata": {},
     "output_type": "display_data"
    }
   ],
   "source": [
    "stop_words_mean = stop_words_data_for_stats.describe()[\"Stop words\"][1]\n",
    "stop_words_std = stop_words_data_for_stats.describe()[\"Stop words\"][2]\n",
    "\n",
    "fig = plt.figure(figsize=(16, 9))\n",
    "ax = fig.add_subplot(111)\n",
    "\n",
    "n, bins, patches = ax.hist(stop_words_data, \n",
    "                           bins=\"scott\", \n",
    "                           edgecolor=\"black\", \n",
    "                           density=True, \n",
    "                           color=\"#698f3f\",\n",
    "                           alpha=0.5)\n",
    "\n",
    "stop_words_line = scipy.stats.norm.pdf(bins, stop_words_mean, stop_words_std)\n",
    "ax.plot(bins, stop_words_line, \"--\", linewidth=3, color=\"#87a565\")\n",
    "\n",
    "ax.set_title(\"Training Dataset Distribution of Stop Words\", fontsize=18)\n",
    "ax.set_xlabel(\"Stop Words in Tweet\", fontsize=18)\n",
    "ax.set_ylabel(\"Porton of Tweets with That Number of Stop Words\", fontsize=18)\n",
    "\n",
    "plt.show()"
   ]
  },
  {
   "cell_type": "code",
   "execution_count": 109,
   "metadata": {
    "scrolled": false
   },
   "outputs": [
    {
     "data": {
      "image/png": "[encoded data removed]",
      "text/plain": [
       "<Figure size 1152x648 with 1 Axes>"
      ]
     },
     "metadata": {},
     "output_type": "display_data"
    }
   ],
   "source": [
    "unique_words_mean = unique_words_data_for_stats.describe()[\"Unique words\"][1]\n",
    "unique_words_std = unique_words_data_for_stats.describe()[\"Unique words\"][2]\n",
    "\n",
    "fig = plt.figure(figsize=(16, 9))\n",
    "ax = fig.add_subplot(111)\n",
    "\n",
    "n, bins, patches = ax.hist(unique_words_data, \n",
    "                           bins=\"scott\", \n",
    "                           edgecolor=\"black\", \n",
    "                           density=True, \n",
    "                           color=\"#Ca2e55\",\n",
    "                           alpha=0.5)\n",
    "\n",
    "unique_words_line = scipy.stats.norm.pdf(bins, unique_words_mean, unique_words_std)\n",
    "ax.plot(bins, unique_words_line, \"--\", linewidth=3, color=\"#d45776\")\n",
    "\n",
    "ax.set_title(\"Training Dataset Distribution of Unique Words\", fontsize=18)\n",
    "ax.set_xlabel(\"Unique Words in Tweet\", fontsize=18)\n",
    "ax.set_ylabel(\"Porton of Tweets with That Number of Unique Words\", fontsize=18)\n",
    "\n",
    "plt.show()"
   ]
  }
 ],
 "metadata": {
  "kernelspec": {
   "display_name": "Python 3",
   "language": "python",
   "name": "python3"
  },
  "language_info": {
   "codemirror_mode": {
    "name": "ipython",
    "version": 3
   },
   "file_extension": ".py",
   "mimetype": "text/x-python",
   "name": "python",
   "nbconvert_exporter": "python",
   "pygments_lexer": "ipython3",
   "version": "3.6.4"
  }
 },
 "nbformat": 4,
 "nbformat_minor": 2
}
