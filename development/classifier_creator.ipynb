{
 "cells": [
  {
   "cell_type": "markdown",
   "metadata": {},
   "source": [
    "## Using Scikit-Learn and NLTK to build a Naive Bayes Classifier that identifies subtweets"
   ]
  },
  {
   "cell_type": "markdown",
   "metadata": {},
   "source": [
    "#### Import libraries"
   ]
  },
  {
   "cell_type": "code",
   "execution_count": 1,
   "metadata": {},
   "outputs": [],
   "source": [
    "%matplotlib inline"
   ]
  },
  {
   "cell_type": "code",
   "execution_count": 2,
   "metadata": {},
   "outputs": [],
   "source": [
    "from sklearn.base import TransformerMixin, BaseEstimator\n",
    "from sklearn.feature_extraction import DictVectorizer\n",
    "from sklearn.feature_extraction.text import CountVectorizer, TfidfTransformer\n",
    "from sklearn.naive_bayes import MultinomialNB\n",
    "from sklearn.pipeline import Pipeline, FeatureUnion\n",
    "from sklearn.model_selection import train_test_split\n",
    "from sklearn.metrics import classification_report, confusion_matrix\n",
    "from sklearn.externals import joblib\n",
    "from time import time, sleep\n",
    "from random import choice\n",
    "from pprint import pprint\n",
    "import matplotlib.pyplot as plt\n",
    "import pandas as pd\n",
    "import numpy as np\n",
    "import itertools\n",
    "import datetime\n",
    "import tweepy\n",
    "import nltk\n",
    "import json\n",
    "import re"
   ]
  },
  {
   "cell_type": "markdown",
   "metadata": {},
   "source": [
    "#### Prepare for viewing long text in CSVs"
   ]
  },
  {
   "cell_type": "code",
   "execution_count": 3,
   "metadata": {},
   "outputs": [],
   "source": [
    "pd.set_option(\"max_colwidth\", 280)"
   ]
  },
  {
   "cell_type": "markdown",
   "metadata": {},
   "source": [
    "#### Load the two data files"
   ]
  },
  {
   "cell_type": "code",
   "execution_count": 4,
   "metadata": {},
   "outputs": [],
   "source": [
    "subtweets_data = json.load(open(\"../data/other_data/subtweets.json\"))"
   ]
  },
  {
   "cell_type": "code",
   "execution_count": 5,
   "metadata": {},
   "outputs": [],
   "source": [
    "non_subtweets_data = json.load(open(\"../data/other_data/non_subtweets.json\"))"
   ]
  },
  {
   "cell_type": "markdown",
   "metadata": {},
   "source": [
    "#### Find the length of the smaller dataset"
   ]
  },
  {
   "cell_type": "code",
   "execution_count": 6,
   "metadata": {},
   "outputs": [],
   "source": [
    "largest_length = len(min([subtweets_data, non_subtweets_data], key=len))"
   ]
  },
  {
   "cell_type": "markdown",
   "metadata": {},
   "source": [
    "#### Check the lengths and see examples\n",
    "#### Cut down both datasets to be the same size"
   ]
  },
  {
   "cell_type": "code",
   "execution_count": 7,
   "metadata": {},
   "outputs": [],
   "source": [
    "subtweets_data = [t[\"tweet_data\"][\"full_text\"] for t in subtweets_data][:largest_length]"
   ]
  },
  {
   "cell_type": "code",
   "execution_count": 8,
   "metadata": {},
   "outputs": [
    {
     "name": "stdout",
     "output_type": "stream",
     "text": [
      "Subtweets dataset length: 4257\n"
     ]
    }
   ],
   "source": [
    "print(\"Subtweets dataset length: {}\".format(len(subtweets_data)))"
   ]
  },
  {
   "cell_type": "code",
   "execution_count": 9,
   "metadata": {},
   "outputs": [
    {
     "name": "stdout",
     "output_type": "stream",
     "text": [
      "Subtweets dataset example:\n",
      "Holy shit she had clothes on wow\n"
     ]
    }
   ],
   "source": [
    "print(\"Subtweets dataset example:\")\n",
    "print(choice(subtweets_data))"
   ]
  },
  {
   "cell_type": "code",
   "execution_count": 10,
   "metadata": {},
   "outputs": [],
   "source": [
    "non_subtweets_data = [t[\"tweet_data\"][\"full_text\"] for t in non_subtweets_data][:largest_length]"
   ]
  },
  {
   "cell_type": "code",
   "execution_count": 11,
   "metadata": {},
   "outputs": [
    {
     "name": "stdout",
     "output_type": "stream",
     "text": [
      "Non-subtweets dataset length: 4257\n"
     ]
    }
   ],
   "source": [
    "print(\"Non-subtweets dataset length: {}\".format(len(non_subtweets_data)))"
   ]
  },
  {
   "cell_type": "code",
   "execution_count": 12,
   "metadata": {},
   "outputs": [
    {
     "name": "stdout",
     "output_type": "stream",
     "text": [
      "Non-subtweets dataset example:\n",
      "I’m currently a teacher in Elders Quorum — I presume I will be released (at least temporarily), too, since the current EQ presidency will be released/reorganized with this new change? #LDSconf\n"
     ]
    }
   ],
   "source": [
    "print(\"Non-subtweets dataset example:\")\n",
    "print(choice(non_subtweets_data))"
   ]
  },
  {
   "cell_type": "markdown",
   "metadata": {},
   "source": [
    "#### Prepare data for training"
   ]
  },
  {
   "cell_type": "code",
   "execution_count": 13,
   "metadata": {},
   "outputs": [],
   "source": [
    "subtweets_data = [(tweet.replace(\"&quot;\", \"\\\"\").replace(\"&amp;\", \"&\").replace(\"&gt;\", \">\").replace(\"&lt;\", \"<\"), \n",
    "                   \"positive\") for tweet in subtweets_data]"
   ]
  },
  {
   "cell_type": "code",
   "execution_count": 14,
   "metadata": {},
   "outputs": [],
   "source": [
    "non_subtweets_data = [(tweet.replace(\"&quot;\", \"\\\"\").replace(\"&amp;\", \"&\").replace(\"&gt;\", \">\").replace(\"&lt;\", \"<\"), \n",
    "                       \"negative\") for tweet in non_subtweets_data]"
   ]
  },
  {
   "cell_type": "markdown",
   "metadata": {},
   "source": [
    "#### Combine them"
   ]
  },
  {
   "cell_type": "code",
   "execution_count": 15,
   "metadata": {},
   "outputs": [],
   "source": [
    "training_data = subtweets_data + non_subtweets_data"
   ]
  },
  {
   "cell_type": "markdown",
   "metadata": {},
   "source": [
    "#### Create training and test sets from the single training set I made before"
   ]
  },
  {
   "cell_type": "code",
   "execution_count": 16,
   "metadata": {},
   "outputs": [],
   "source": [
    "text_train, text_test, class_train, class_test = train_test_split([row[0] for row in training_data], \n",
    "                                                                  [row[1] for row in training_data])"
   ]
  },
  {
   "cell_type": "markdown",
   "metadata": {},
   "source": [
    "#### Use NLTK's tokenizer instead of Scikit's"
   ]
  },
  {
   "cell_type": "code",
   "execution_count": 17,
   "metadata": {},
   "outputs": [],
   "source": [
    "tokenizer = nltk.casual.TweetTokenizer(preserve_case=False, reduce_len=True)"
   ]
  },
  {
   "cell_type": "markdown",
   "metadata": {},
   "source": [
    "#### Class for distinguishing polarizing parts of speech as features"
   ]
  },
  {
   "cell_type": "code",
   "execution_count": 18,
   "metadata": {
    "code_folding": []
   },
   "outputs": [],
   "source": [
    "class TweetStats(BaseEstimator, TransformerMixin):\n",
    "    def fit(self, x, y=None):\n",
    "        return self\n",
    "\n",
    "    def transform(self, posts):\n",
    "        pronouns = [\"You\", \"You're\", \"Youre\", \"Your\", \"U\", \"Ur\",\n",
    "                    \"She\", \"She's\", \"Her\", \"Hers\", \n",
    "                    \"He\", \"He's\", \"Hes\", \"Him\", \"His\", \n",
    "                    \"They\", \"They're\", \"Theyre\", \"Them\", \"Their\", \"Theirs\"]\n",
    "        prounouns_lower = set([pronoun.lower() for pronoun in pronouns])\n",
    "        \n",
    "        first_person_pronouns = [\"I\", \"I'm\", \"Im\", \"We\", \"We're\", \"Our\", \"My\", \"Us\"]\n",
    "        first_person_pronouns_lower = set([pronoun.lower() for pronoun in first_person_pronouns])\n",
    "        \n",
    "        pattern = \"(?:http|ftp|https)://(?:[\\w_-]+(?:(?:\\.[\\w_-]+)+))(?:[\\w.,@?^=%&:/~+#-]*[\\w@?^=%&/~+#-])?\"\n",
    "        \n",
    "        final_output = []\n",
    "        for text in posts:\n",
    "            tokenized_text = tokenizer.tokenize(text)\n",
    "            \n",
    "            num_pronouns = len(prounouns_lower.intersection(tokenized_text))\n",
    "            num_first_person = len(first_person_pronouns_lower.intersection(tokenized_text))\n",
    "            num_at_symbols = text.count(\"@\")\n",
    "            num_subtweet = text.count(\"subtweet\") + text.count(\"Subtweet\")\n",
    "            num_urls = len(re.findall(pattern, text))\n",
    "            \n",
    "            \n",
    "            weighted_dict = {\"num_subtweet\": num_subtweet,\n",
    "                             \"num_at_symbols\": num_at_symbols, \n",
    "                             \"num_urls\": num_urls,\n",
    "                             \"num_pronouns\": num_pronouns,\n",
    "                             \"num_first_person\": num_first_person}\n",
    "            final_output.append(weighted_dict)\n",
    "        return final_output"
   ]
  },
  {
   "cell_type": "markdown",
   "metadata": {},
   "source": [
    "#### Build the pipeline"
   ]
  },
  {
   "cell_type": "code",
   "execution_count": 19,
   "metadata": {},
   "outputs": [],
   "source": [
    "sentiment_pipeline = Pipeline([\n",
    "    (\"features\", FeatureUnion([\n",
    "        (\"ngram_tf_idf\", Pipeline([\n",
    "            (\"counts\", CountVectorizer(tokenizer=tokenizer.tokenize)),\n",
    "            (\"tf_idf\", TfidfTransformer())\n",
    "        ])),\n",
    "        (\"stats_vect\", Pipeline([\n",
    "            (\"tweet_stats\", TweetStats()),\n",
    "            (\"vect\", DictVectorizer())\n",
    "        ]))\n",
    "    ])),\n",
    "    (\"classifier\", MultinomialNB())\n",
    "])"
   ]
  },
  {
   "cell_type": "markdown",
   "metadata": {},
   "source": [
    "#### Show the results"
   ]
  },
  {
   "cell_type": "code",
   "execution_count": 20,
   "metadata": {},
   "outputs": [],
   "source": [
    "sentiment_pipeline.fit(text_train, class_train)\n",
    "predictions = sentiment_pipeline.predict(text_test)"
   ]
  },
  {
   "cell_type": "code",
   "execution_count": 21,
   "metadata": {},
   "outputs": [
    {
     "name": "stdout",
     "output_type": "stream",
     "text": [
      "             precision    recall  f1-score   support\n",
      "\n",
      "   negative       0.74      0.63      0.68      1073\n",
      "   positive       0.67      0.78      0.72      1056\n",
      "\n",
      "avg / total       0.71      0.70      0.70      2129\n",
      "\n"
     ]
    }
   ],
   "source": [
    "print(classification_report(class_test, predictions))"
   ]
  },
  {
   "cell_type": "markdown",
   "metadata": {},
   "source": [
    "#### Define function for visualizing confusion matrices"
   ]
  },
  {
   "cell_type": "code",
   "execution_count": 22,
   "metadata": {},
   "outputs": [],
   "source": [
    "def plot_confusion_matrix(cm, classes, normalize=False,\n",
    "                          title='Confusion matrix', cmap=plt.cm.Blues):\n",
    "    if normalize:\n",
    "        cm = cm.astype('float') / cm.sum(axis=1)[:, np.newaxis]\n",
    "\n",
    "    plt.imshow(cm, interpolation='nearest', cmap=cmap)\n",
    "    plt.title(title)\n",
    "    plt.colorbar()\n",
    "    tick_marks = np.arange(len(classes))\n",
    "    plt.xticks(tick_marks, classes, rotation=45)\n",
    "    plt.yticks(tick_marks, classes)\n",
    "\n",
    "    fmt = '.2f' if normalize else 'd'\n",
    "    thresh = cm.max() / 2.\n",
    "    for i, j in itertools.product(range(cm.shape[0]), range(cm.shape[1])):\n",
    "        plt.text(j, i, format(cm[i, j], fmt),\n",
    "                 horizontalalignment=\"center\",\n",
    "                 color=\"white\" if cm[i, j] > thresh else \"black\")\n",
    "\n",
    "    plt.tight_layout()\n",
    "    plt.ylabel('True label')\n",
    "    plt.xlabel('Predicted label')"
   ]
  },
  {
   "cell_type": "markdown",
   "metadata": {},
   "source": [
    "#### Show the matrices"
   ]
  },
  {
   "cell_type": "code",
   "execution_count": 23,
   "metadata": {},
   "outputs": [
    {
     "data": {
      "image/png": "[encoded data removed]",
      "text/plain": [
       "<Figure size 432x288 with 2 Axes>"
      ]
     },
     "metadata": {},
     "output_type": "display_data"
    },
    {
     "data": {
      "image/png": "[encoded data removed]",
      "text/plain": [
       "<Figure size 432x288 with 2 Axes>"
      ]
     },
     "metadata": {},
     "output_type": "display_data"
    }
   ],
   "source": [
    "class_names = [\"negative\", \"positive\"]\n",
    "\n",
    "cnf_matrix = confusion_matrix(class_test, predictions)\n",
    "np.set_printoptions(precision=2)\n",
    "\n",
    "plt.figure()\n",
    "plot_confusion_matrix(cnf_matrix, classes=class_names,\n",
    "                      title='Confusion matrix, without normalization')\n",
    "\n",
    "plt.figure()\n",
    "plot_confusion_matrix(cnf_matrix, classes=class_names, normalize=True,\n",
    "                      title='Normalized confusion matrix')\n",
    "\n",
    "plt.show()"
   ]
  },
  {
   "cell_type": "markdown",
   "metadata": {},
   "source": [
    "#### Save the classifier for another time"
   ]
  },
  {
   "cell_type": "code",
   "execution_count": 24,
   "metadata": {},
   "outputs": [],
   "source": [
    "joblib.dump(sentiment_pipeline, \"../data/other_data/subtweets_classifier.pkl\");"
   ]
  },
  {
   "cell_type": "markdown",
   "metadata": {},
   "source": [
    "#### Print tests for the classifier"
   ]
  },
  {
   "cell_type": "code",
   "execution_count": 25,
   "metadata": {},
   "outputs": [],
   "source": [
    "def tests_dataframe(tweets_dataframe, text_column=\"SentimentText\", sentiment_column=\"Sentiment\"):\n",
    "    predictions = sentiment_pipeline.predict_proba(tweets_dataframe[text_column])\n",
    "    negative_probability = predictions[:, 0].tolist()\n",
    "    positive_probability = predictions[:, 1].tolist()\n",
    "    return pd.DataFrame({\"tweet\": tweets_dataframe[text_column], \n",
    "                         \"sentiment_score\": tweets_dataframe[sentiment_column], \n",
    "                         \"subtweet_negative_probability\": negative_probability, \n",
    "                         \"subtweet_positive_probability\": positive_probability}).sort_values(by=\"subtweet_positive_probability\", \n",
    "                                                                                             ascending=False)"
   ]
  },
  {
   "cell_type": "markdown",
   "metadata": {},
   "source": [
    "#### Make up some tweets"
   ]
  },
  {
   "cell_type": "code",
   "execution_count": 26,
   "metadata": {},
   "outputs": [],
   "source": [
    "test_tweets = [\"Some people don't know their place.\", \n",
    "               \"Isn't it funny how some people don't know their place?\", \n",
    "               \"How come you people act like this?\", \n",
    "               \"You're such a nerd.\",\n",
    "               \"I love Noah, he's so cool.\",\n",
    "               \"Who the heck is Noah?\",\n",
    "               \"This is a @NoahSegalGould subtweet. Go check out https://segal-gould.com.\", \n",
    "               \"This is a subtweet.\", \n",
    "               \"Hey @jack!\", \n",
    "               \"Hey Jack!\",\n",
    "               \"http://www.google.com\"]"
   ]
  },
  {
   "cell_type": "markdown",
   "metadata": {},
   "source": [
    "#### Make a dataframe from the list"
   ]
  },
  {
   "cell_type": "code",
   "execution_count": 27,
   "metadata": {},
   "outputs": [],
   "source": [
    "test_tweets_df = pd.DataFrame({\"Tweet\": test_tweets, \"Sentiment\": [None]*len(test_tweets)})"
   ]
  },
  {
   "cell_type": "markdown",
   "metadata": {},
   "source": [
    "#### Print the tests"
   ]
  },
  {
   "cell_type": "code",
   "execution_count": 28,
   "metadata": {},
   "outputs": [
    {
     "data": {
      "text/html": [
       "<div>\n",
       "<style scoped>\n",
       "    .dataframe tbody tr th:only-of-type {\n",
       "        vertical-align: middle;\n",
       "    }\n",
       "\n",
       "    .dataframe tbody tr th {\n",
       "        vertical-align: top;\n",
       "    }\n",
       "\n",
       "    .dataframe thead th {\n",
       "        text-align: right;\n",
       "    }\n",
       "</style>\n",
       "<table border=\"1\" class=\"dataframe\">\n",
       "  <thead>\n",
       "    <tr style=\"text-align: right;\">\n",
       "      <th></th>\n",
       "      <th>sentiment_score</th>\n",
       "      <th>subtweet_negative_probability</th>\n",
       "      <th>subtweet_positive_probability</th>\n",
       "      <th>tweet</th>\n",
       "    </tr>\n",
       "  </thead>\n",
       "  <tbody>\n",
       "    <tr>\n",
       "      <th>1</th>\n",
       "      <td>None</td>\n",
       "      <td>0.084153</td>\n",
       "      <td>0.915847</td>\n",
       "      <td>Isn't it funny how some people don't know their place?</td>\n",
       "    </tr>\n",
       "    <tr>\n",
       "      <th>2</th>\n",
       "      <td>None</td>\n",
       "      <td>0.124300</td>\n",
       "      <td>0.875700</td>\n",
       "      <td>How come you people act like this?</td>\n",
       "    </tr>\n",
       "    <tr>\n",
       "      <th>0</th>\n",
       "      <td>None</td>\n",
       "      <td>0.128903</td>\n",
       "      <td>0.871097</td>\n",
       "      <td>Some people don't know their place.</td>\n",
       "    </tr>\n",
       "    <tr>\n",
       "      <th>3</th>\n",
       "      <td>None</td>\n",
       "      <td>0.194494</td>\n",
       "      <td>0.805506</td>\n",
       "      <td>You're such a nerd.</td>\n",
       "    </tr>\n",
       "    <tr>\n",
       "      <th>4</th>\n",
       "      <td>None</td>\n",
       "      <td>0.272727</td>\n",
       "      <td>0.727273</td>\n",
       "      <td>I love Noah, he's so cool.</td>\n",
       "    </tr>\n",
       "  </tbody>\n",
       "</table>\n",
       "</div>"
      ],
      "text/plain": [
       "  sentiment_score  subtweet_negative_probability  \\\n",
       "1            None                       0.084153   \n",
       "2            None                       0.124300   \n",
       "0            None                       0.128903   \n",
       "3            None                       0.194494   \n",
       "4            None                       0.272727   \n",
       "\n",
       "   subtweet_positive_probability  \\\n",
       "1                       0.915847   \n",
       "2                       0.875700   \n",
       "0                       0.871097   \n",
       "3                       0.805506   \n",
       "4                       0.727273   \n",
       "\n",
       "                                                    tweet  \n",
       "1  Isn't it funny how some people don't know their place?  \n",
       "2                      How come you people act like this?  \n",
       "0                     Some people don't know their place.  \n",
       "3                                     You're such a nerd.  \n",
       "4                              I love Noah, he's so cool.  "
      ]
     },
     "execution_count": 28,
     "metadata": {},
     "output_type": "execute_result"
    }
   ],
   "source": [
    "tests_dataframe(test_tweets_df, text_column=\"Tweet\", sentiment_column=\"Sentiment\").head()"
   ]
  },
  {
   "cell_type": "markdown",
   "metadata": {},
   "source": [
    "#### Test on actual tweets"
   ]
  },
  {
   "cell_type": "code",
   "execution_count": 29,
   "metadata": {},
   "outputs": [
    {
     "name": "stderr",
     "output_type": "stream",
     "text": [
      "b'Skipping line 8836: expected 4 fields, saw 5\\n'\n",
      "b'Skipping line 535882: expected 4 fields, saw 7\\n'\n"
     ]
    }
   ],
   "source": [
    "naji_df = pd.read_csv(\"../data/data_for_testing/other_data/naji_data.csv\", error_bad_lines=False)"
   ]
  },
  {
   "cell_type": "markdown",
   "metadata": {},
   "source": [
    "#### Repair some leftover HTML"
   ]
  },
  {
   "cell_type": "code",
   "execution_count": 30,
   "metadata": {},
   "outputs": [],
   "source": [
    "naji_df[\"SentimentText\"] = naji_df[\"SentimentText\"].str.replace(\"&quot;\", \"\\\"\")\n",
    "naji_df[\"SentimentText\"] = naji_df[\"SentimentText\"].str.replace(\"&amp;\", \"&\")\n",
    "naji_df[\"SentimentText\"] = naji_df[\"SentimentText\"].str.replace(\"&gt;\", \">\")\n",
    "naji_df[\"SentimentText\"] = naji_df[\"SentimentText\"].str.replace(\"&lt;\", \"<\")"
   ]
  },
  {
   "cell_type": "markdown",
   "metadata": {},
   "source": [
    "#### Remove rows with non-English"
   ]
  },
  {
   "cell_type": "code",
   "execution_count": 31,
   "metadata": {},
   "outputs": [],
   "source": [
    "def is_english(s):\n",
    "    return all(ord(char) < 128 for char in s)"
   ]
  },
  {
   "cell_type": "code",
   "execution_count": 32,
   "metadata": {},
   "outputs": [],
   "source": [
    "naji_df = naji_df[naji_df[\"SentimentText\"].map(is_english)]"
   ]
  },
  {
   "cell_type": "markdown",
   "metadata": {},
   "source": [
    "#### Show the length of the dataset"
   ]
  },
  {
   "cell_type": "code",
   "execution_count": 33,
   "metadata": {},
   "outputs": [
    {
     "name": "stdout",
     "output_type": "stream",
     "text": [
      "Length of dataset: 1564156\n"
     ]
    }
   ],
   "source": [
    "print(\"Length of dataset: {}\".format(len(naji_df)))"
   ]
  },
  {
   "cell_type": "markdown",
   "metadata": {},
   "source": [
    "#### Use randomly selected 5K rows from dataset"
   ]
  },
  {
   "cell_type": "code",
   "execution_count": 34,
   "metadata": {},
   "outputs": [],
   "source": [
    "naji_df = naji_df.sample(n=5000).reset_index(drop=True)"
   ]
  },
  {
   "cell_type": "markdown",
   "metadata": {},
   "source": [
    "#### Print and time the tests"
   ]
  },
  {
   "cell_type": "code",
   "execution_count": 35,
   "metadata": {
    "scrolled": false
   },
   "outputs": [
    {
     "name": "stdout",
     "output_type": "stream",
     "text": [
      "CPU times: user 934 ms, sys: 16.3 ms, total: 951 ms\n",
      "Wall time: 959 ms\n"
     ]
    }
   ],
   "source": [
    "%%time\n",
    "naji_df = tests_dataframe(naji_df)"
   ]
  },
  {
   "cell_type": "code",
   "execution_count": 36,
   "metadata": {},
   "outputs": [],
   "source": [
    "naji_df.to_csv(\"../data/data_from_testing/other_data/naji_tests.csv\")"
   ]
  },
  {
   "cell_type": "markdown",
   "metadata": {},
   "source": [
    "#### Plot the results"
   ]
  },
  {
   "cell_type": "code",
   "execution_count": 37,
   "metadata": {},
   "outputs": [],
   "source": [
    "naji_df_columns = [\"sentiment_score\", \"subtweet_negative_probability\", \"tweet\"]"
   ]
  },
  {
   "cell_type": "code",
   "execution_count": 38,
   "metadata": {},
   "outputs": [],
   "source": [
    "naji_df_for_plotting = naji_df.drop(naji_df_columns, axis=1).head(10)"
   ]
  },
  {
   "cell_type": "code",
   "execution_count": 39,
   "metadata": {},
   "outputs": [
    {
     "data": {
      "text/html": [
       "<div>\n",
       "<style scoped>\n",
       "    .dataframe tbody tr th:only-of-type {\n",
       "        vertical-align: middle;\n",
       "    }\n",
       "\n",
       "    .dataframe tbody tr th {\n",
       "        vertical-align: top;\n",
       "    }\n",
       "\n",
       "    .dataframe thead th {\n",
       "        text-align: right;\n",
       "    }\n",
       "</style>\n",
       "<table border=\"1\" class=\"dataframe\">\n",
       "  <thead>\n",
       "    <tr style=\"text-align: right;\">\n",
       "      <th></th>\n",
       "      <th>sentiment_score</th>\n",
       "      <th>subtweet_negative_probability</th>\n",
       "      <th>subtweet_positive_probability</th>\n",
       "      <th>tweet</th>\n",
       "    </tr>\n",
       "  </thead>\n",
       "  <tbody>\n",
       "    <tr>\n",
       "      <th>3569</th>\n",
       "      <td>1</td>\n",
       "      <td>0.072571</td>\n",
       "      <td>0.927429</td>\n",
       "      <td>One of the RedCarpetGlamours are the free stuff celebs are given. \"It's like once u can afford, they give it to you for free.\" Funny huh</td>\n",
       "    </tr>\n",
       "    <tr>\n",
       "      <th>3993</th>\n",
       "      <td>0</td>\n",
       "      <td>0.072965</td>\n",
       "      <td>0.927035</td>\n",
       "      <td>Why does Todd ignore me when I text him but he'll text his friends? That makes me feel special, let me tell ya.</td>\n",
       "    </tr>\n",
       "    <tr>\n",
       "      <th>3783</th>\n",
       "      <td>0</td>\n",
       "      <td>0.080052</td>\n",
       "      <td>0.919948</td>\n",
       "      <td>don't fall unless someone is willing to catch you</td>\n",
       "    </tr>\n",
       "    <tr>\n",
       "      <th>3138</th>\n",
       "      <td>1</td>\n",
       "      <td>0.091013</td>\n",
       "      <td>0.908987</td>\n",
       "      <td>Sons of silence = motorcycle gang. Where if you mess with them they will break your arms and legs off and kill you</td>\n",
       "    </tr>\n",
       "    <tr>\n",
       "      <th>4468</th>\n",
       "      <td>0</td>\n",
       "      <td>0.091289</td>\n",
       "      <td>0.908711</td>\n",
       "      <td>she got in my face and had the nerve to tell me to act like a lady. She's still bitching. Called her a fucking bitch in front of my mom.</td>\n",
       "    </tr>\n",
       "    <tr>\n",
       "      <th>4354</th>\n",
       "      <td>1</td>\n",
       "      <td>0.094796</td>\n",
       "      <td>0.905204</td>\n",
       "      <td>talkin to an old friend. its nice to hear from you. you're still the same</td>\n",
       "    </tr>\n",
       "    <tr>\n",
       "      <th>1530</th>\n",
       "      <td>1</td>\n",
       "      <td>0.105034</td>\n",
       "      <td>0.894966</td>\n",
       "      <td>Followers i expect a proper break up when u stop following me its only respectful - repeat \"its not u its me\" &amp; \"we can still B friends\"</td>\n",
       "    </tr>\n",
       "    <tr>\n",
       "      <th>806</th>\n",
       "      <td>0</td>\n",
       "      <td>0.106485</td>\n",
       "      <td>0.893515</td>\n",
       "      <td>I'm goning nite nite. I am watching The Strangers with my Ex and his Bff. I know, I know. I'm always with him lol he won't go home</td>\n",
       "    </tr>\n",
       "    <tr>\n",
       "      <th>745</th>\n",
       "      <td>1</td>\n",
       "      <td>0.118280</td>\n",
       "      <td>0.881720</td>\n",
       "      <td>hsbnd talking about why he's a FB looker not a poster. says he doesn't have anything interesting to say and he's not funny, that's funny</td>\n",
       "    </tr>\n",
       "    <tr>\n",
       "      <th>1928</th>\n",
       "      <td>0</td>\n",
       "      <td>0.120071</td>\n",
       "      <td>0.879929</td>\n",
       "      <td>Is going to have to redo the novel illustration she did months ago.  At least it's just one illustration and not all of them though!</td>\n",
       "    </tr>\n",
       "  </tbody>\n",
       "</table>\n",
       "</div>"
      ],
      "text/plain": [
       "      sentiment_score  subtweet_negative_probability  \\\n",
       "3569                1                       0.072571   \n",
       "3993                0                       0.072965   \n",
       "3783                0                       0.080052   \n",
       "3138                1                       0.091013   \n",
       "4468                0                       0.091289   \n",
       "4354                1                       0.094796   \n",
       "1530                1                       0.105034   \n",
       "806                 0                       0.106485   \n",
       "745                 1                       0.118280   \n",
       "1928                0                       0.120071   \n",
       "\n",
       "      subtweet_positive_probability  \\\n",
       "3569                       0.927429   \n",
       "3993                       0.927035   \n",
       "3783                       0.919948   \n",
       "3138                       0.908987   \n",
       "4468                       0.908711   \n",
       "4354                       0.905204   \n",
       "1530                       0.894966   \n",
       "806                        0.893515   \n",
       "745                        0.881720   \n",
       "1928                       0.879929   \n",
       "\n",
       "                                                                                                                                          tweet  \n",
       "3569  One of the RedCarpetGlamours are the free stuff celebs are given. \"It's like once u can afford, they give it to you for free.\" Funny huh   \n",
       "3993                           Why does Todd ignore me when I text him but he'll text his friends? That makes me feel special, let me tell ya.   \n",
       "3783                                                                                         don't fall unless someone is willing to catch you   \n",
       "3138                        Sons of silence = motorcycle gang. Where if you mess with them they will break your arms and legs off and kill you   \n",
       "4468  she got in my face and had the nerve to tell me to act like a lady. She's still bitching. Called her a fucking bitch in front of my mom.   \n",
       "4354                                                                 talkin to an old friend. its nice to hear from you. you're still the same   \n",
       "1530  Followers i expect a proper break up when u stop following me its only respectful - repeat \"its not u its me\" & \"we can still B friends\"   \n",
       "806         I'm goning nite nite. I am watching The Strangers with my Ex and his Bff. I know, I know. I'm always with him lol he won't go home   \n",
       "745   hsbnd talking about why he's a FB looker not a poster. says he doesn't have anything interesting to say and he's not funny, that's funny   \n",
       "1928       Is going to have to redo the novel illustration she did months ago.  At least it's just one illustration and not all of them though!  "
      ]
     },
     "execution_count": 39,
     "metadata": {},
     "output_type": "execute_result"
    }
   ],
   "source": [
    "naji_df.head(10)"
   ]
  },
  {
   "cell_type": "code",
   "execution_count": 40,
   "metadata": {},
   "outputs": [
    {
     "data": {
      "image/png": "[encoded data removed]",
      "text/plain": [
       "<Figure size 1152x648 with 1 Axes>"
      ]
     },
     "metadata": {},
     "output_type": "display_data"
    }
   ],
   "source": [
    "ax = naji_df_for_plotting.plot.barh(logx=True, figsize=(16, 9), color=\"maroon\", fontsize=13);\n",
    "ax.set_alpha(0.8)\n",
    "ax.set_title(\"Naji Dataset Randomly Selected Subtweets Test\", fontsize=18)\n",
    "ax.set_ylabel(\"Row Index\", fontsize=18);\n",
    "ax.set_xlabel(\"Subtweet Percentage Probability (logarithmic)\", fontsize=18);\n",
    "for i in ax.patches:\n",
    "    ax.text(i.get_width(), i.get_y() + 0.325, \"{:.3%}\".format(i.get_width()), fontsize=10, color=\"black\")\n",
    "ax.invert_yaxis()"
   ]
  },
  {
   "cell_type": "markdown",
   "metadata": {},
   "source": [
    "#### Tests on friends' tweets"
   ]
  },
  {
   "cell_type": "markdown",
   "metadata": {},
   "source": [
    "#### Aaron"
   ]
  },
  {
   "cell_type": "code",
   "execution_count": 41,
   "metadata": {},
   "outputs": [],
   "source": [
    "aaron_df = pd.read_csv(\"../data/data_for_testing/friends_data/akrapf96_tweets.csv\").dropna()\n",
    "aaron_df[\"Sentiment\"] = None"
   ]
  },
  {
   "cell_type": "code",
   "execution_count": 42,
   "metadata": {
    "scrolled": true
   },
   "outputs": [
    {
     "name": "stdout",
     "output_type": "stream",
     "text": [
      "CPU times: user 581 ms, sys: 6.36 ms, total: 587 ms\n",
      "Wall time: 590 ms\n"
     ]
    }
   ],
   "source": [
    "%%time\n",
    "aaron_df = tests_dataframe(aaron_df, text_column=\"Text\", sentiment_column=\"Sentiment\")"
   ]
  },
  {
   "cell_type": "code",
   "execution_count": 43,
   "metadata": {},
   "outputs": [],
   "source": [
    "aaron_df.to_csv(\"../data/data_from_testing/friends_data/akrapf96_tests.csv\")"
   ]
  },
  {
   "cell_type": "code",
   "execution_count": 44,
   "metadata": {},
   "outputs": [],
   "source": [
    "aaron_df_columns = [\"sentiment_score\", \"subtweet_negative_probability\", \"tweet\"]"
   ]
  },
  {
   "cell_type": "code",
   "execution_count": 45,
   "metadata": {},
   "outputs": [],
   "source": [
    "aaron_df_for_plotting = aaron_df.drop(aaron_df_columns, axis=1).head(10)"
   ]
  },
  {
   "cell_type": "code",
   "execution_count": 46,
   "metadata": {},
   "outputs": [
    {
     "data": {
      "text/html": [
       "<div>\n",
       "<style scoped>\n",
       "    .dataframe tbody tr th:only-of-type {\n",
       "        vertical-align: middle;\n",
       "    }\n",
       "\n",
       "    .dataframe tbody tr th {\n",
       "        vertical-align: top;\n",
       "    }\n",
       "\n",
       "    .dataframe thead th {\n",
       "        text-align: right;\n",
       "    }\n",
       "</style>\n",
       "<table border=\"1\" class=\"dataframe\">\n",
       "  <thead>\n",
       "    <tr style=\"text-align: right;\">\n",
       "      <th></th>\n",
       "      <th>sentiment_score</th>\n",
       "      <th>subtweet_negative_probability</th>\n",
       "      <th>subtweet_positive_probability</th>\n",
       "      <th>tweet</th>\n",
       "    </tr>\n",
       "  </thead>\n",
       "  <tbody>\n",
       "    <tr>\n",
       "      <th>2893</th>\n",
       "      <td>None</td>\n",
       "      <td>0.055981</td>\n",
       "      <td>0.944019</td>\n",
       "      <td>I love arguing with conservative bigots who don't understand basic decency. People have their own beliefs, just let them believe.</td>\n",
       "    </tr>\n",
       "    <tr>\n",
       "      <th>1600</th>\n",
       "      <td>None</td>\n",
       "      <td>0.056817</td>\n",
       "      <td>0.943183</td>\n",
       "      <td>shoutout to all the people tweeting #BeforeTheInternetExisted saying \"we actually talked to people face to face\" bc u know they're guilty</td>\n",
       "    </tr>\n",
       "    <tr>\n",
       "      <th>1994</th>\n",
       "      <td>None</td>\n",
       "      <td>0.058892</td>\n",
       "      <td>0.941108</td>\n",
       "      <td>i can't believe noah just trolls twitter waiting for you to tweet so he can respond without you tagging him</td>\n",
       "    </tr>\n",
       "    <tr>\n",
       "      <th>385</th>\n",
       "      <td>None</td>\n",
       "      <td>0.062107</td>\n",
       "      <td>0.937893</td>\n",
       "      <td>My dog literally changed positions on my bed just so she could watch me eat at my desk but pretends she asleep when I look at her like I can't tell when she huffs and puffs because she's not getting any</td>\n",
       "    </tr>\n",
       "    <tr>\n",
       "      <th>2438</th>\n",
       "      <td>None</td>\n",
       "      <td>0.062315</td>\n",
       "      <td>0.937685</td>\n",
       "      <td>the ultimate subtweet is the one where nobody is certain who you're talking about but there's always the possibility it's them</td>\n",
       "    </tr>\n",
       "    <tr>\n",
       "      <th>939</th>\n",
       "      <td>None</td>\n",
       "      <td>0.065209</td>\n",
       "      <td>0.934791</td>\n",
       "      <td>It's like they don't realize your tweet was about how expensive FAST FOOD is</td>\n",
       "    </tr>\n",
       "    <tr>\n",
       "      <th>545</th>\n",
       "      <td>None</td>\n",
       "      <td>0.070664</td>\n",
       "      <td>0.929336</td>\n",
       "      <td>Sucks that it happened today of all days :/ glad ur ok though, doesn't sound too bad so hopefully you can get your car fixed soon</td>\n",
       "    </tr>\n",
       "    <tr>\n",
       "      <th>821</th>\n",
       "      <td>None</td>\n",
       "      <td>0.071076</td>\n",
       "      <td>0.928924</td>\n",
       "      <td>tfw you're proud of something and want to share it with others but you realize that nobody actually cares</td>\n",
       "    </tr>\n",
       "    <tr>\n",
       "      <th>3318</th>\n",
       "      <td>None</td>\n",
       "      <td>0.071519</td>\n",
       "      <td>0.928481</td>\n",
       "      <td>If you don't follow me on Instagram, you're missing outpic.twitter.com/B2U8aJvSY3</td>\n",
       "    </tr>\n",
       "    <tr>\n",
       "      <th>3281</th>\n",
       "      <td>None</td>\n",
       "      <td>0.071808</td>\n",
       "      <td>0.928192</td>\n",
       "      <td>What he doesn't know (unless he stalks my twitter which I know he does) is that I have fake accounts following all his social media</td>\n",
       "    </tr>\n",
       "  </tbody>\n",
       "</table>\n",
       "</div>"
      ],
      "text/plain": [
       "     sentiment_score  subtweet_negative_probability  \\\n",
       "2893            None                       0.055981   \n",
       "1600            None                       0.056817   \n",
       "1994            None                       0.058892   \n",
       "385             None                       0.062107   \n",
       "2438            None                       0.062315   \n",
       "939             None                       0.065209   \n",
       "545             None                       0.070664   \n",
       "821             None                       0.071076   \n",
       "3318            None                       0.071519   \n",
       "3281            None                       0.071808   \n",
       "\n",
       "      subtweet_positive_probability  \\\n",
       "2893                       0.944019   \n",
       "1600                       0.943183   \n",
       "1994                       0.941108   \n",
       "385                        0.937893   \n",
       "2438                       0.937685   \n",
       "939                        0.934791   \n",
       "545                        0.929336   \n",
       "821                        0.928924   \n",
       "3318                       0.928481   \n",
       "3281                       0.928192   \n",
       "\n",
       "                                                                                                                                                                                                           tweet  \n",
       "2893                                                                           I love arguing with conservative bigots who don't understand basic decency. People have their own beliefs, just let them believe.  \n",
       "1600                                                                   shoutout to all the people tweeting #BeforeTheInternetExisted saying \"we actually talked to people face to face\" bc u know they're guilty  \n",
       "1994                                                                                                 i can't believe noah just trolls twitter waiting for you to tweet so he can respond without you tagging him  \n",
       "385   My dog literally changed positions on my bed just so she could watch me eat at my desk but pretends she asleep when I look at her like I can't tell when she huffs and puffs because she's not getting any  \n",
       "2438                                                                              the ultimate subtweet is the one where nobody is certain who you're talking about but there's always the possibility it's them  \n",
       "939                                                                                                                                 It's like they don't realize your tweet was about how expensive FAST FOOD is  \n",
       "545                                                                            Sucks that it happened today of all days :/ glad ur ok though, doesn't sound too bad so hopefully you can get your car fixed soon  \n",
       "821                                                                                                    tfw you're proud of something and want to share it with others but you realize that nobody actually cares  \n",
       "3318                                                                                                                           If you don't follow me on Instagram, you're missing outpic.twitter.com/B2U8aJvSY3  \n",
       "3281                                                                        What he doesn't know (unless he stalks my twitter which I know he does) is that I have fake accounts following all his social media   "
      ]
     },
     "execution_count": 46,
     "metadata": {},
     "output_type": "execute_result"
    }
   ],
   "source": [
    "aaron_df.head(10)"
   ]
  },
  {
   "cell_type": "code",
   "execution_count": 47,
   "metadata": {},
   "outputs": [
    {
     "data": {
      "image/png": "[encoded data removed]",
      "text/plain": [
       "<Figure size 1152x648 with 1 Axes>"
      ]
     },
     "metadata": {},
     "output_type": "display_data"
    }
   ],
   "source": [
    "ax = aaron_df_for_plotting.plot.barh(logx=True, figsize=(16, 9), color=\"maroon\", fontsize=13);\n",
    "ax.set_alpha(0.8)\n",
    "ax.set_title(\"Aaron Dataset Subtweets Test\", fontsize=18)\n",
    "ax.set_ylabel(\"Row Index\", fontsize=18);\n",
    "ax.set_xlabel(\"Subtweet Percentage Probability (logarithmic)\", fontsize=18);\n",
    "for i in ax.patches:\n",
    "    ax.text(i.get_width(), i.get_y() + 0.325, \"{:.3%}\".format(i.get_width()), fontsize=10, color=\"black\")\n",
    "ax.invert_yaxis()"
   ]
  },
  {
   "cell_type": "markdown",
   "metadata": {},
   "source": [
    "#### Julia"
   ]
  },
  {
   "cell_type": "code",
   "execution_count": 48,
   "metadata": {},
   "outputs": [],
   "source": [
    "julia_df = pd.read_csv(\"../data/data_for_testing/friends_data/juliaeberry_tweets.csv\").dropna()\n",
    "julia_df[\"Sentiment\"] = None"
   ]
  },
  {
   "cell_type": "code",
   "execution_count": 49,
   "metadata": {
    "scrolled": false
   },
   "outputs": [
    {
     "name": "stdout",
     "output_type": "stream",
     "text": [
      "CPU times: user 1.33 s, sys: 11 ms, total: 1.34 s\n",
      "Wall time: 1.34 s\n"
     ]
    }
   ],
   "source": [
    "%%time\n",
    "julia_df = tests_dataframe(julia_df, text_column=\"Text\", sentiment_column=\"Sentiment\")"
   ]
  },
  {
   "cell_type": "code",
   "execution_count": 50,
   "metadata": {},
   "outputs": [],
   "source": [
    "julia_df.to_csv(\"../data/data_from_testing/friends_data/juliaeberry_tests.csv\")"
   ]
  },
  {
   "cell_type": "code",
   "execution_count": 51,
   "metadata": {},
   "outputs": [],
   "source": [
    "julia_df_columns = [\"sentiment_score\", \"subtweet_negative_probability\", \"tweet\"]"
   ]
  },
  {
   "cell_type": "code",
   "execution_count": 52,
   "metadata": {},
   "outputs": [],
   "source": [
    "julia_df_for_plotting = julia_df.drop(julia_df_columns, axis=1).head(10)"
   ]
  },
  {
   "cell_type": "code",
   "execution_count": 53,
   "metadata": {},
   "outputs": [
    {
     "data": {
      "text/html": [
       "<div>\n",
       "<style scoped>\n",
       "    .dataframe tbody tr th:only-of-type {\n",
       "        vertical-align: middle;\n",
       "    }\n",
       "\n",
       "    .dataframe tbody tr th {\n",
       "        vertical-align: top;\n",
       "    }\n",
       "\n",
       "    .dataframe thead th {\n",
       "        text-align: right;\n",
       "    }\n",
       "</style>\n",
       "<table border=\"1\" class=\"dataframe\">\n",
       "  <thead>\n",
       "    <tr style=\"text-align: right;\">\n",
       "      <th></th>\n",
       "      <th>sentiment_score</th>\n",
       "      <th>subtweet_negative_probability</th>\n",
       "      <th>subtweet_positive_probability</th>\n",
       "      <th>tweet</th>\n",
       "    </tr>\n",
       "  </thead>\n",
       "  <tbody>\n",
       "    <tr>\n",
       "      <th>4395</th>\n",
       "      <td>None</td>\n",
       "      <td>0.031120</td>\n",
       "      <td>0.968880</td>\n",
       "      <td>if you continually cross post content on various social media to get validation that you're funny, you, regrettably, are probably not funny</td>\n",
       "    </tr>\n",
       "    <tr>\n",
       "      <th>4629</th>\n",
       "      <td>None</td>\n",
       "      <td>0.033980</td>\n",
       "      <td>0.966020</td>\n",
       "      <td>how do you tell ur coach who probably hates ur forgetful ass at this point that you can't go to practice bc u stayed up all night lmk</td>\n",
       "    </tr>\n",
       "    <tr>\n",
       "      <th>2926</th>\n",
       "      <td>None</td>\n",
       "      <td>0.036411</td>\n",
       "      <td>0.963589</td>\n",
       "      <td>if ur white and u didn't grow up saying \"y'all\" but you do now bc #trendy, consider NOT doing that</td>\n",
       "    </tr>\n",
       "    <tr>\n",
       "      <th>663</th>\n",
       "      <td>None</td>\n",
       "      <td>0.039373</td>\n",
       "      <td>0.960627</td>\n",
       "      <td>even if you are committed to cheating how can you possibly think that p/c are on the same level as v/m when you're watching papadakis shakily clamber onto cizeron for a lift in their short dance after you've just seen tessa hook her legs around scott's head and spin in THEIR ...</td>\n",
       "    </tr>\n",
       "    <tr>\n",
       "      <th>6086</th>\n",
       "      <td>None</td>\n",
       "      <td>0.039741</td>\n",
       "      <td>0.960259</td>\n",
       "      <td>tfw ur anxiety kills ur appetite but you can't do anything done bc ur still hungry so u just get more anxiety #gr8</td>\n",
       "    </tr>\n",
       "    <tr>\n",
       "      <th>6569</th>\n",
       "      <td>None</td>\n",
       "      <td>0.040414</td>\n",
       "      <td>0.959586</td>\n",
       "      <td>tfw really wanting to get out of class to work on ur essay but once ur back in ur dorm u want to do ANYTHING BUT WRITE THIS ESSAY</td>\n",
       "    </tr>\n",
       "    <tr>\n",
       "      <th>4071</th>\n",
       "      <td>None</td>\n",
       "      <td>0.040622</td>\n",
       "      <td>0.959378</td>\n",
       "      <td>if u rly need motivation, call it an incentive of honesty: people don't think ur going to cheat them all the fucking time. amazing!</td>\n",
       "    </tr>\n",
       "    <tr>\n",
       "      <th>773</th>\n",
       "      <td>None</td>\n",
       "      <td>0.041281</td>\n",
       "      <td>0.958719</td>\n",
       "      <td>\"I do feel grateful for the fact that we have one another, because I think people search their whole lives for someone that special\" -tessa\\n\\nwho even says this about somebody that they don't want to marry/be with forever? v/m soundbytes will be the death of me #virtuemoir</td>\n",
       "    </tr>\n",
       "    <tr>\n",
       "      <th>2120</th>\n",
       "      <td>None</td>\n",
       "      <td>0.042455</td>\n",
       "      <td>0.957545</td>\n",
       "      <td>unless u self-criting ur tweet about how warm it was</td>\n",
       "    </tr>\n",
       "    <tr>\n",
       "      <th>1138</th>\n",
       "      <td>None</td>\n",
       "      <td>0.045941</td>\n",
       "      <td>0.954059</td>\n",
       "      <td>\"what a COINcidence that you're here,\" drawls Bitcoin lustily. your palms sweat as you imagine what it would be like to own this creature, to do with him what you will. you drag your cursor over his coinhood, and he gasps. \\n\"transaction complete,\" you whisper into his ear la...</td>\n",
       "    </tr>\n",
       "  </tbody>\n",
       "</table>\n",
       "</div>"
      ],
      "text/plain": [
       "     sentiment_score  subtweet_negative_probability  \\\n",
       "4395            None                       0.031120   \n",
       "4629            None                       0.033980   \n",
       "2926            None                       0.036411   \n",
       "663             None                       0.039373   \n",
       "6086            None                       0.039741   \n",
       "6569            None                       0.040414   \n",
       "4071            None                       0.040622   \n",
       "773             None                       0.041281   \n",
       "2120            None                       0.042455   \n",
       "1138            None                       0.045941   \n",
       "\n",
       "      subtweet_positive_probability  \\\n",
       "4395                       0.968880   \n",
       "4629                       0.966020   \n",
       "2926                       0.963589   \n",
       "663                        0.960627   \n",
       "6086                       0.960259   \n",
       "6569                       0.959586   \n",
       "4071                       0.959378   \n",
       "773                        0.958719   \n",
       "2120                       0.957545   \n",
       "1138                       0.954059   \n",
       "\n",
       "                                                                                                                                                                                                                                                                                        tweet  \n",
       "4395                                                                                                                                              if you continually cross post content on various social media to get validation that you're funny, you, regrettably, are probably not funny  \n",
       "4629                                                                                                                                                    how do you tell ur coach who probably hates ur forgetful ass at this point that you can't go to practice bc u stayed up all night lmk  \n",
       "2926                                                                                                                                                                                       if ur white and u didn't grow up saying \"y'all\" but you do now bc #trendy, consider NOT doing that  \n",
       "663   even if you are committed to cheating how can you possibly think that p/c are on the same level as v/m when you're watching papadakis shakily clamber onto cizeron for a lift in their short dance after you've just seen tessa hook her legs around scott's head and spin in THEIR ...  \n",
       "6086                                                                                                                                                                       tfw ur anxiety kills ur appetite but you can't do anything done bc ur still hungry so u just get more anxiety #gr8  \n",
       "6569                                                                                                                                                        tfw really wanting to get out of class to work on ur essay but once ur back in ur dorm u want to do ANYTHING BUT WRITE THIS ESSAY  \n",
       "4071                                                                                                                                                      if u rly need motivation, call it an incentive of honesty: people don't think ur going to cheat them all the fucking time. amazing!  \n",
       "773        \"I do feel grateful for the fact that we have one another, because I think people search their whole lives for someone that special\" -tessa\\n\\nwho even says this about somebody that they don't want to marry/be with forever? v/m soundbytes will be the death of me #virtuemoir  \n",
       "2120                                                                                                                                                                                                                                     unless u self-criting ur tweet about how warm it was  \n",
       "1138  \"what a COINcidence that you're here,\" drawls Bitcoin lustily. your palms sweat as you imagine what it would be like to own this creature, to do with him what you will. you drag your cursor over his coinhood, and he gasps. \\n\"transaction complete,\" you whisper into his ear la...  "
      ]
     },
     "execution_count": 53,
     "metadata": {},
     "output_type": "execute_result"
    }
   ],
   "source": [
    "julia_df.head(10)"
   ]
  },
  {
   "cell_type": "code",
   "execution_count": 54,
   "metadata": {},
   "outputs": [
    {
     "data": {
      "image/png": "[encoded data removed]",
      "text/plain": [
       "<Figure size 1152x648 with 1 Axes>"
      ]
     },
     "metadata": {},
     "output_type": "display_data"
    }
   ],
   "source": [
    "ax = julia_df_for_plotting.plot.barh(logx=True, figsize=(16, 9), color=\"maroon\", fontsize=13);\n",
    "ax.set_alpha(0.8)\n",
    "ax.set_title(\"Julia Dataset Subtweets Test\", fontsize=18)\n",
    "ax.set_ylabel(\"Row Index\", fontsize=18);\n",
    "ax.set_xlabel(\"Subtweet Percentage Probability (logarithmic)\", fontsize=18);\n",
    "for i in ax.patches:\n",
    "    ax.text(i.get_width(), i.get_y() + 0.325, \"{:.3%}\".format(i.get_width()), fontsize=10, color=\"black\")\n",
    "ax.invert_yaxis()"
   ]
  },
  {
   "cell_type": "markdown",
   "metadata": {},
   "source": [
    "#### Zoe"
   ]
  },
  {
   "cell_type": "code",
   "execution_count": 55,
   "metadata": {},
   "outputs": [],
   "source": [
    "zoe_df = pd.read_csv(\"../data/data_for_testing/friends_data/zoeterhune_tweets.csv\").dropna()\n",
    "zoe_df[\"Sentiment\"] = None"
   ]
  },
  {
   "cell_type": "code",
   "execution_count": 56,
   "metadata": {},
   "outputs": [
    {
     "name": "stdout",
     "output_type": "stream",
     "text": [
      "CPU times: user 215 ms, sys: 4.28 ms, total: 219 ms\n",
      "Wall time: 217 ms\n"
     ]
    }
   ],
   "source": [
    "%%time\n",
    "zoe_df = tests_dataframe(zoe_df, text_column=\"Text\", sentiment_column=\"Sentiment\")"
   ]
  },
  {
   "cell_type": "code",
   "execution_count": 57,
   "metadata": {},
   "outputs": [],
   "source": [
    "zoe_df.to_csv(\"../data/data_from_testing/friends_data/zoeterhune_tests.csv\")"
   ]
  },
  {
   "cell_type": "code",
   "execution_count": 58,
   "metadata": {},
   "outputs": [],
   "source": [
    "zoe_df_columns = [\"sentiment_score\", \"subtweet_negative_probability\", \"tweet\"]"
   ]
  },
  {
   "cell_type": "code",
   "execution_count": 59,
   "metadata": {},
   "outputs": [],
   "source": [
    "zoe_df_for_plotting = zoe_df.drop(zoe_df_columns, axis=1).head(10)"
   ]
  },
  {
   "cell_type": "code",
   "execution_count": 60,
   "metadata": {},
   "outputs": [
    {
     "data": {
      "text/html": [
       "<div>\n",
       "<style scoped>\n",
       "    .dataframe tbody tr th:only-of-type {\n",
       "        vertical-align: middle;\n",
       "    }\n",
       "\n",
       "    .dataframe tbody tr th {\n",
       "        vertical-align: top;\n",
       "    }\n",
       "\n",
       "    .dataframe thead th {\n",
       "        text-align: right;\n",
       "    }\n",
       "</style>\n",
       "<table border=\"1\" class=\"dataframe\">\n",
       "  <thead>\n",
       "    <tr style=\"text-align: right;\">\n",
       "      <th></th>\n",
       "      <th>sentiment_score</th>\n",
       "      <th>subtweet_negative_probability</th>\n",
       "      <th>subtweet_positive_probability</th>\n",
       "      <th>tweet</th>\n",
       "    </tr>\n",
       "  </thead>\n",
       "  <tbody>\n",
       "    <tr>\n",
       "      <th>583</th>\n",
       "      <td>None</td>\n",
       "      <td>0.034395</td>\n",
       "      <td>0.965605</td>\n",
       "      <td>and u decide to tweet about it weeks later bc no one ever talked about it and ur anxious mind decided 2 interpret that as no one caring when, in reality, it's probably people forgetting because you, and your particular brand of anxiety, bounce haphazardly from one mood 2 the ...</td>\n",
       "    </tr>\n",
       "    <tr>\n",
       "      <th>456</th>\n",
       "      <td>None</td>\n",
       "      <td>0.050390</td>\n",
       "      <td>0.949610</td>\n",
       "      <td>when ur heart rate is fast before bed and u can't tell if it's the anxiety heart rate or the insomnia heart rate BUT you realize you're not anxious so it's probably the insomnia \\n\\nwelcome back old friend you have not been missed</td>\n",
       "    </tr>\n",
       "    <tr>\n",
       "      <th>303</th>\n",
       "      <td>None</td>\n",
       "      <td>0.056600</td>\n",
       "      <td>0.943400</td>\n",
       "      <td>they say pets can sense when ur Not Okay™ and I think it's true bc pinwheel refuses to fall asleep anywhere but on my lap/chest</td>\n",
       "    </tr>\n",
       "    <tr>\n",
       "      <th>788</th>\n",
       "      <td>None</td>\n",
       "      <td>0.057352</td>\n",
       "      <td>0.942648</td>\n",
       "      <td>u ever read a tweet and ur like damn did u write that just to upset me??? Well it only worked for three seconds</td>\n",
       "    </tr>\n",
       "    <tr>\n",
       "      <th>1115</th>\n",
       "      <td>None</td>\n",
       "      <td>0.058752</td>\n",
       "      <td>0.941248</td>\n",
       "      <td>if u don't watch all ur snap friends stories ur probably 2 self-involved</td>\n",
       "    </tr>\n",
       "    <tr>\n",
       "      <th>791</th>\n",
       "      <td>None</td>\n",
       "      <td>0.059332</td>\n",
       "      <td>0.940668</td>\n",
       "      <td>Delet this tweet \\nWhen ur famous u don't need people seeing this</td>\n",
       "    </tr>\n",
       "    <tr>\n",
       "      <th>277</th>\n",
       "      <td>None</td>\n",
       "      <td>0.065189</td>\n",
       "      <td>0.934811</td>\n",
       "      <td>ok so people from my old school keep lamenting the death of someone to whom they claim to be close but also like continually misgender them in their lamentations?? I Don't Like This</td>\n",
       "    </tr>\n",
       "    <tr>\n",
       "      <th>848</th>\n",
       "      <td>None</td>\n",
       "      <td>0.070035</td>\n",
       "      <td>0.929965</td>\n",
       "      <td>that one buzzfeed employee who thinks they're really funny but they aren't</td>\n",
       "    </tr>\n",
       "    <tr>\n",
       "      <th>1243</th>\n",
       "      <td>None</td>\n",
       "      <td>0.075678</td>\n",
       "      <td>0.924322</td>\n",
       "      <td>OH NOT A LAXATIVE I MEAN ONE OF THOSE PILLS THAT THEY MAKE OUT OF BACTERIA FROM UR POOP</td>\n",
       "    </tr>\n",
       "    <tr>\n",
       "      <th>906</th>\n",
       "      <td>None</td>\n",
       "      <td>0.079636</td>\n",
       "      <td>0.920364</td>\n",
       "      <td>it drives me fucking INSANE when the fucking animal is in the fucking fruit orchard and WANTS YOU TO GIVE IT FUCKIMGM FRUIT GET IT YOUR SELF PUNCHY SMH</td>\n",
       "    </tr>\n",
       "  </tbody>\n",
       "</table>\n",
       "</div>"
      ],
      "text/plain": [
       "     sentiment_score  subtweet_negative_probability  \\\n",
       "583             None                       0.034395   \n",
       "456             None                       0.050390   \n",
       "303             None                       0.056600   \n",
       "788             None                       0.057352   \n",
       "1115            None                       0.058752   \n",
       "791             None                       0.059332   \n",
       "277             None                       0.065189   \n",
       "848             None                       0.070035   \n",
       "1243            None                       0.075678   \n",
       "906             None                       0.079636   \n",
       "\n",
       "      subtweet_positive_probability  \\\n",
       "583                        0.965605   \n",
       "456                        0.949610   \n",
       "303                        0.943400   \n",
       "788                        0.942648   \n",
       "1115                       0.941248   \n",
       "791                        0.940668   \n",
       "277                        0.934811   \n",
       "848                        0.929965   \n",
       "1243                       0.924322   \n",
       "906                        0.920364   \n",
       "\n",
       "                                                                                                                                                                                                                                                                                        tweet  \n",
       "583   and u decide to tweet about it weeks later bc no one ever talked about it and ur anxious mind decided 2 interpret that as no one caring when, in reality, it's probably people forgetting because you, and your particular brand of anxiety, bounce haphazardly from one mood 2 the ...  \n",
       "456                                                    when ur heart rate is fast before bed and u can't tell if it's the anxiety heart rate or the insomnia heart rate BUT you realize you're not anxious so it's probably the insomnia \\n\\nwelcome back old friend you have not been missed  \n",
       "303                                                                                                                                                           they say pets can sense when ur Not Okay™ and I think it's true bc pinwheel refuses to fall asleep anywhere but on my lap/chest  \n",
       "788                                                                                                                                                                           u ever read a tweet and ur like damn did u write that just to upset me??? Well it only worked for three seconds  \n",
       "1115                                                                                                                                                                                                                 if u don't watch all ur snap friends stories ur probably 2 self-involved  \n",
       "791                                                                                                                                                                                                                         Delet this tweet \\nWhen ur famous u don't need people seeing this  \n",
       "277                                                                                                     ok so people from my old school keep lamenting the death of someone to whom they claim to be close but also like continually misgender them in their lamentations?? I Don't Like This  \n",
       "848                                                                                                                                                                                                                that one buzzfeed employee who thinks they're really funny but they aren't  \n",
       "1243                                                                                                                                                                                                  OH NOT A LAXATIVE I MEAN ONE OF THOSE PILLS THAT THEY MAKE OUT OF BACTERIA FROM UR POOP  \n",
       "906                                                                                                                                   it drives me fucking INSANE when the fucking animal is in the fucking fruit orchard and WANTS YOU TO GIVE IT FUCKIMGM FRUIT GET IT YOUR SELF PUNCHY SMH  "
      ]
     },
     "execution_count": 60,
     "metadata": {},
     "output_type": "execute_result"
    }
   ],
   "source": [
    "zoe_df.head(10)"
   ]
  },
  {
   "cell_type": "code",
   "execution_count": 61,
   "metadata": {},
   "outputs": [
    {
     "data": {
      "image/png": "[encoded data removed]",
      "text/plain": [
       "<Figure size 1152x648 with 1 Axes>"
      ]
     },
     "metadata": {},
     "output_type": "display_data"
    }
   ],
   "source": [
    "ax = zoe_df_for_plotting.plot.barh(logx=True, figsize=(16, 9), color=\"maroon\", fontsize=13);\n",
    "ax.set_alpha(0.8)\n",
    "ax.set_title(\"Zoe Dataset Subtweets Test\", fontsize=18)\n",
    "ax.set_ylabel(\"Row Index\", fontsize=18);\n",
    "ax.set_xlabel(\"Subtweet Percentage Probability (logarithmic)\", fontsize=18);\n",
    "for i in ax.patches:\n",
    "    ax.text(i.get_width(), i.get_y() + 0.325, \"{:.3%}\".format(i.get_width()), fontsize=10, color=\"black\")\n",
    "ax.invert_yaxis()"
   ]
  },
  {
   "cell_type": "markdown",
   "metadata": {},
   "source": [
    "#### Noah"
   ]
  },
  {
   "cell_type": "code",
   "execution_count": 62,
   "metadata": {},
   "outputs": [],
   "source": [
    "noah_df = pd.read_csv(\"../data/data_for_testing/friends_data/noahsegalgould_tweets.csv\").dropna()\n",
    "noah_df[\"Sentiment\"] = None"
   ]
  },
  {
   "cell_type": "code",
   "execution_count": 63,
   "metadata": {
    "scrolled": false
   },
   "outputs": [
    {
     "name": "stdout",
     "output_type": "stream",
     "text": [
      "CPU times: user 830 ms, sys: 13.5 ms, total: 844 ms\n",
      "Wall time: 855 ms\n"
     ]
    }
   ],
   "source": [
    "%%time\n",
    "noah_df = tests_dataframe(noah_df, text_column=\"Text\", sentiment_column=\"Sentiment\")"
   ]
  },
  {
   "cell_type": "code",
   "execution_count": 64,
   "metadata": {},
   "outputs": [],
   "source": [
    "noah_df.to_csv(\"../data/data_from_testing/friends_data/noahsegalgould_tests.csv\")"
   ]
  },
  {
   "cell_type": "code",
   "execution_count": 65,
   "metadata": {},
   "outputs": [],
   "source": [
    "noah_df_columns = [\"sentiment_score\", \"subtweet_negative_probability\", \"tweet\"]"
   ]
  },
  {
   "cell_type": "code",
   "execution_count": 66,
   "metadata": {},
   "outputs": [],
   "source": [
    "noah_df_for_plotting = noah_df.drop(noah_df_columns, axis=1).head(10)"
   ]
  },
  {
   "cell_type": "code",
   "execution_count": 67,
   "metadata": {},
   "outputs": [
    {
     "data": {
      "text/html": [
       "<div>\n",
       "<style scoped>\n",
       "    .dataframe tbody tr th:only-of-type {\n",
       "        vertical-align: middle;\n",
       "    }\n",
       "\n",
       "    .dataframe tbody tr th {\n",
       "        vertical-align: top;\n",
       "    }\n",
       "\n",
       "    .dataframe thead th {\n",
       "        text-align: right;\n",
       "    }\n",
       "</style>\n",
       "<table border=\"1\" class=\"dataframe\">\n",
       "  <thead>\n",
       "    <tr style=\"text-align: right;\">\n",
       "      <th></th>\n",
       "      <th>sentiment_score</th>\n",
       "      <th>subtweet_negative_probability</th>\n",
       "      <th>subtweet_positive_probability</th>\n",
       "      <th>tweet</th>\n",
       "    </tr>\n",
       "  </thead>\n",
       "  <tbody>\n",
       "    <tr>\n",
       "      <th>4192</th>\n",
       "      <td>None</td>\n",
       "      <td>0.030819</td>\n",
       "      <td>0.969181</td>\n",
       "      <td>You ever wonder how your siblings are when you're not with them? haha me neither</td>\n",
       "    </tr>\n",
       "    <tr>\n",
       "      <th>4166</th>\n",
       "      <td>None</td>\n",
       "      <td>0.033783</td>\n",
       "      <td>0.966217</td>\n",
       "      <td>TFW your old boss walks into DTR and you feel like you're supposed to look like you're working even though you don't work for her</td>\n",
       "    </tr>\n",
       "    <tr>\n",
       "      <th>2891</th>\n",
       "      <td>None</td>\n",
       "      <td>0.035329</td>\n",
       "      <td>0.964671</td>\n",
       "      <td>When you're telling me to die or making me feel inferior I don't like you but you're normally very kind so I'm content with that</td>\n",
       "    </tr>\n",
       "    <tr>\n",
       "      <th>3236</th>\n",
       "      <td>None</td>\n",
       "      <td>0.036056</td>\n",
       "      <td>0.963944</td>\n",
       "      <td>you may think you're cool but unless you're friends with my friends you're not actually as cool as you could be</td>\n",
       "    </tr>\n",
       "    <tr>\n",
       "      <th>696</th>\n",
       "      <td>None</td>\n",
       "      <td>0.040459</td>\n",
       "      <td>0.959541</td>\n",
       "      <td>I FIGURED OUT THAT I DON'T REALLY KNOW\\nIt's not satirizing anything in particular, and he's completely genuine across all his comedy pieces. I've described it before as \"broken comedy\" because it's not quite entirely nonsensical but it's really clearly funny because it's bad.</td>\n",
       "    </tr>\n",
       "    <tr>\n",
       "      <th>3525</th>\n",
       "      <td>None</td>\n",
       "      <td>0.044131</td>\n",
       "      <td>0.955869</td>\n",
       "      <td>some people want their kids to take care of them when they are elderly but I plan to enslave sentient AI to do that for me until the end.</td>\n",
       "    </tr>\n",
       "    <tr>\n",
       "      <th>3249</th>\n",
       "      <td>None</td>\n",
       "      <td>0.045659</td>\n",
       "      <td>0.954341</td>\n",
       "      <td>IF U CALL URSELF A WEEB BUT DONT HAVE ANIME PROF PICS ON ALL SOCIAL MEDIA\\n DELETE  UR  ACCOUNTS</td>\n",
       "    </tr>\n",
       "    <tr>\n",
       "      <th>4115</th>\n",
       "      <td>None</td>\n",
       "      <td>0.049934</td>\n",
       "      <td>0.950066</td>\n",
       "      <td>Tbh if you're a confident person I both envy you and can't wait for you to realize that all your efforts will ultimately fade into the void</td>\n",
       "    </tr>\n",
       "    <tr>\n",
       "      <th>379</th>\n",
       "      <td>None</td>\n",
       "      <td>0.052808</td>\n",
       "      <td>0.947192</td>\n",
       "      <td>The washer on the far left of the Robbins laundry room won’t start unless you press the start button really hard and someone forgot to start their laundry, so I did it for them as an act of charity. Is this tax-deductible?</td>\n",
       "    </tr>\n",
       "    <tr>\n",
       "      <th>3173</th>\n",
       "      <td>None</td>\n",
       "      <td>0.053189</td>\n",
       "      <td>0.946811</td>\n",
       "      <td>if you can't tell if it's enough words, the useless block quotes have probably fulfilled their purpose lmao</td>\n",
       "    </tr>\n",
       "  </tbody>\n",
       "</table>\n",
       "</div>"
      ],
      "text/plain": [
       "     sentiment_score  subtweet_negative_probability  \\\n",
       "4192            None                       0.030819   \n",
       "4166            None                       0.033783   \n",
       "2891            None                       0.035329   \n",
       "3236            None                       0.036056   \n",
       "696             None                       0.040459   \n",
       "3525            None                       0.044131   \n",
       "3249            None                       0.045659   \n",
       "4115            None                       0.049934   \n",
       "379             None                       0.052808   \n",
       "3173            None                       0.053189   \n",
       "\n",
       "      subtweet_positive_probability  \\\n",
       "4192                       0.969181   \n",
       "4166                       0.966217   \n",
       "2891                       0.964671   \n",
       "3236                       0.963944   \n",
       "696                        0.959541   \n",
       "3525                       0.955869   \n",
       "3249                       0.954341   \n",
       "4115                       0.950066   \n",
       "379                        0.947192   \n",
       "3173                       0.946811   \n",
       "\n",
       "                                                                                                                                                                                                                                                                                      tweet  \n",
       "4192                                                                                                                                                                                                       You ever wonder how your siblings are when you're not with them? haha me neither  \n",
       "4166                                                                                                                                                      TFW your old boss walks into DTR and you feel like you're supposed to look like you're working even though you don't work for her  \n",
       "2891                                                                                                                                                       When you're telling me to die or making me feel inferior I don't like you but you're normally very kind so I'm content with that  \n",
       "3236                                                                                                                                                                        you may think you're cool but unless you're friends with my friends you're not actually as cool as you could be  \n",
       "696   I FIGURED OUT THAT I DON'T REALLY KNOW\\nIt's not satirizing anything in particular, and he's completely genuine across all his comedy pieces. I've described it before as \"broken comedy\" because it's not quite entirely nonsensical but it's really clearly funny because it's bad.  \n",
       "3525                                                                                                                                              some people want their kids to take care of them when they are elderly but I plan to enslave sentient AI to do that for me until the end.  \n",
       "3249                                                                                                                                                                                      IF U CALL URSELF A WEEB BUT DONT HAVE ANIME PROF PICS ON ALL SOCIAL MEDIA\\n DELETE  UR  ACCOUNTS   \n",
       "4115                                                                                                                                            Tbh if you're a confident person I both envy you and can't wait for you to realize that all your efforts will ultimately fade into the void  \n",
       "379                                                          The washer on the far left of the Robbins laundry room won’t start unless you press the start button really hard and someone forgot to start their laundry, so I did it for them as an act of charity. Is this tax-deductible?  \n",
       "3173                                                                                                                                                                            if you can't tell if it's enough words, the useless block quotes have probably fulfilled their purpose lmao  "
      ]
     },
     "execution_count": 67,
     "metadata": {},
     "output_type": "execute_result"
    }
   ],
   "source": [
    "noah_df.head(10)"
   ]
  },
  {
   "cell_type": "code",
   "execution_count": 68,
   "metadata": {},
   "outputs": [
    {
     "data": {
      "image/png": "[encoded data removed]",
      "text/plain": [
       "<Figure size 1152x648 with 1 Axes>"
      ]
     },
     "metadata": {},
     "output_type": "display_data"
    }
   ],
   "source": [
    "ax = noah_df_for_plotting.plot.barh(logx=True, figsize=(16, 9), color=\"maroon\", fontsize=13);\n",
    "ax.set_alpha(0.8)\n",
    "ax.set_title(\"Noah Dataset Subtweets Test\", fontsize=18)\n",
    "ax.set_ylabel(\"Row Index\", fontsize=18);\n",
    "ax.set_xlabel(\"Subtweet Percentage Probability (logarithmic)\", fontsize=18);\n",
    "for i in ax.patches:\n",
    "    ax.text(i.get_width(), i.get_y() + 0.325, \"{:.3%}\".format(i.get_width()), fontsize=10, color=\"black\")\n",
    "ax.invert_yaxis()"
   ]
  },
  {
   "cell_type": "markdown",
   "metadata": {},
   "source": [
    "#### Test it in realtime\n",
    "#### Define some useful variables for later"
   ]
  },
  {
   "cell_type": "code",
   "execution_count": 69,
   "metadata": {},
   "outputs": [],
   "source": [
    "THRESHOLD = 0.95 # 95% positives and higher, only\n",
    "DURATION = 60 # 1 minute"
   ]
  },
  {
   "cell_type": "markdown",
   "metadata": {},
   "source": [
    "#### Load Twitter API credentials"
   ]
  },
  {
   "cell_type": "code",
   "execution_count": 70,
   "metadata": {},
   "outputs": [],
   "source": [
    "consumer_key, consumer_secret, access_token, access_token_secret = open(\"../../credentials.txt\").read().split(\"\\n\")"
   ]
  },
  {
   "cell_type": "markdown",
   "metadata": {},
   "source": [
    "#### Use the API credentials to connect to the API"
   ]
  },
  {
   "cell_type": "code",
   "execution_count": 71,
   "metadata": {},
   "outputs": [],
   "source": [
    "auth = tweepy.OAuthHandler(consumer_key, consumer_secret)\n",
    "auth.set_access_token(access_token, access_token_secret)\n",
    "api = tweepy.API(auth, retry_delay=1, timeout=120, # 2 minutes\n",
    "                 compression=True, wait_on_rate_limit=True, wait_on_rate_limit_notify=True)"
   ]
  },
  {
   "cell_type": "markdown",
   "metadata": {},
   "source": [
    "#### Prepare the final dataframe"
   ]
  },
  {
   "cell_type": "code",
   "execution_count": 72,
   "metadata": {},
   "outputs": [],
   "source": [
    "subtweets_live_list = []\n",
    "non_subtweets_live_list = []"
   ]
  },
  {
   "cell_type": "markdown",
   "metadata": {},
   "source": [
    "#### Create a custom class for streaming subtweets"
   ]
  },
  {
   "cell_type": "code",
   "execution_count": 73,
   "metadata": {},
   "outputs": [],
   "source": [
    "class StreamListener(tweepy.StreamListener):\n",
    "    def on_status(self, status):\n",
    "        choices = [\"retweet\", \"like\", \"retweet and like\", \"reply\"]\n",
    "        \n",
    "        id_str = status.id_str\n",
    "        screen_name = status.user.screen_name\n",
    "        created_at = status.created_at\n",
    "        retweeted = status.retweeted\n",
    "        in_reply_to = status.in_reply_to_status_id\n",
    "        \n",
    "        text = status.text.replace(\"&quot;\", \"\\\"\").replace(\"&amp;\", \"&\").replace(\"&gt;\", \">\").replace(\"&lt;\", \"<\")\n",
    "        \n",
    "        # negative_probability = sentiment_pipeline.predict_proba([text]).tolist()[0][0]\n",
    "        positive_probability = sentiment_pipeline.predict_proba([text]).tolist()[0][1]\n",
    "        \n",
    "        row = {\"tweet\": text, \n",
    "               \"screen_name\": screen_name, \n",
    "               \"time\": created_at, \n",
    "               \"subtweet_probability\": positive_probability}\n",
    "        \n",
    "        print_list = pd.DataFrame([row]).values.tolist()[0]\n",
    "        \n",
    "        if all([positive_probability >= THRESHOLD, \n",
    "                not retweeted,\n",
    "                \"RT @\" not in text, \n",
    "                not in_reply_to]):\n",
    "            \n",
    "            decision = choice(choices)\n",
    "            if decision == \"retweet\":\n",
    "                api.update_status((\"Is this a subtweet? {:.3%} \\n\" + \n",
    "                                   \"https://twitter.com/{}/status/{}\").format(positive_probability, \n",
    "                                                                              screen_name, \n",
    "                                                                              id_str))\n",
    "            \n",
    "            if decision == \"like\":\n",
    "                api.create_favorite(id_str)\n",
    "            \n",
    "            if decision == \"retweet and like\":\n",
    "                api.update_status((\"Is this a subtweet? {:.3%} \\n\" + \n",
    "                                   \"https://twitter.com/{}/status/{}\").format(positive_probability, \n",
    "                                                                              screen_name, \n",
    "                                                                              id_str))\n",
    "                api.create_favorite(id_str)\n",
    "            \n",
    "            if decision == \"reply\":\n",
    "                api.update_status(\"@{} Is this a subtweet? {:.3%}\".format(screen_name, positive_probability), id_str)\n",
    "            \n",
    "            subtweets_live_list.append(row)\n",
    "            subtweets_df = pd.DataFrame(subtweets_live_list).sort_values(by=\"subtweet_probability\", \n",
    "                                                                         ascending=False)\n",
    "            \n",
    "            subtweets_df.to_csv(\"../data/data_from_testing/live_downloaded_data/subtweets_live_data.csv\")\n",
    "            \n",
    "            print((\"Subtweet from @{0} (Probability of {1:.3%}):\\n\" + \n",
    "                   \"Time: {2}\\n\" + \n",
    "                   \"Tweet: {3}\\n\" +\n",
    "                   \"Total tweets acquired: {4}\\n\").format(print_list[0], \n",
    "                                                          print_list[1], \n",
    "                                                          print_list[2],\n",
    "                                                          print_list[3],\n",
    "                                                          (len(subtweets_live_list) \n",
    "                                                           + len(non_subtweets_live_list))))\n",
    "            \n",
    "            return row\n",
    "        else:\n",
    "            non_subtweets_live_list.append(row)\n",
    "            non_subtweets_df = pd.DataFrame(non_subtweets_live_list).sort_values(by=\"subtweet_probability\", \n",
    "                                                                                 ascending=False)\n",
    "            non_subtweets_df.to_csv(\"../data/data_from_testing/live_downloaded_data/non_subtweets_live_data.csv\")\n",
    "            \n",
    "            return row"
   ]
  },
  {
   "cell_type": "markdown",
   "metadata": {},
   "source": [
    "#### Get a list of the IDs of all my mutuals and my mutuals' followers"
   ]
  },
  {
   "cell_type": "code",
   "execution_count": 74,
   "metadata": {},
   "outputs": [],
   "source": [
    "def get_mutuals():\n",
    "    my_followers = [str(user_id) for ids_list in \n",
    "                    tweepy.Cursor(api.followers_ids, \n",
    "                                  screen_name=\"NoahSegalGould\").pages() \n",
    "                    for user_id in ids_list]\n",
    "    my_followeds = [str(user_id) for ids_list in \n",
    "                   tweepy.Cursor(api.friends_ids, \n",
    "                                 screen_name=\"NoahSegalGould\").pages() \n",
    "                   for user_id in ids_list]\n",
    "    \n",
    "    my_mutuals = list(set(my_followers) & set(my_followeds))\n",
    "    \n",
    "    bots = [\"890031065057853440\", \"895685688582180864\", \n",
    "            \"894658603977777152\", \"970553455709446144\", \n",
    "            \"786489395519983617\", \"975981192817373184\"]\n",
    "    \n",
    "    my_mutuals = [m for m in my_mutuals if m not in bots]\n",
    "    \n",
    "    with open(\"../data/other_data/NoahSegalGould_Mutuals_ids.json\", \"w\") as outfile:\n",
    "        json.dump(my_mutuals, outfile)\n",
    "    \n",
    "    return my_mutuals"
   ]
  },
  {
   "cell_type": "code",
   "execution_count": 75,
   "metadata": {},
   "outputs": [],
   "source": [
    "def get_mutuals_and_mutuals_mutuals_ids(mutuals_threshold=250):\n",
    "    my_mutuals = get_mutuals()\n",
    "    my_mutuals_mutuals = my_mutuals[:]\n",
    "\n",
    "    for i, mutual in enumerate(my_mutuals):\n",
    "        start_time = time()\n",
    "        user = api.get_user(user_id=mutual)\n",
    "        name = user.screen_name\n",
    "        is_protected = user.protected\n",
    "        if not is_protected:\n",
    "            mutuals_followers = []\n",
    "            followers_cursor = tweepy.Cursor(api.followers_ids, user_id=mutual).items()\n",
    "            while True:\n",
    "                try:\n",
    "                    mutuals_follower = followers_cursor.next()\n",
    "                    mutuals_followers.append(str(mutuals_follower))\n",
    "                except tweepy.TweepError:\n",
    "                    sleep(30) # 30 seconds\n",
    "                    continue\n",
    "                except StopIteration:\n",
    "                    break\n",
    "            mutuals_followeds = []\n",
    "            followeds_cursor = tweepy.Cursor(api.friends_ids, user_id=mutual).items()\n",
    "            while True:\n",
    "                try:\n",
    "                    mutuals_followed = followeds_cursor.next()\n",
    "                    mutuals_followeds.append(str(mutuals_followed))\n",
    "                except tweepy.TweepError:\n",
    "                    sleep(30) # 30 seconds\n",
    "                    continue\n",
    "                except StopIteration:\n",
    "                    break\n",
    "            mutuals_mutuals = list(set(mutuals_followers) & set(mutuals_followeds))\n",
    "            print(\"{} mutuals for mutual {}: {}\".format(len(mutuals_mutuals), i+1, name))\n",
    "            if len(mutuals_mutuals) <= mutuals_threshold: # Ignore my mutuals if they have a lot of mutuals\n",
    "                my_mutuals_mutuals.extend(mutuals_mutuals)\n",
    "            else:\n",
    "                print(\"\\tSkipping: {}\".format(name))\n",
    "        else:\n",
    "            continue\n",
    "        end_time = time()\n",
    "        with open(\"../data/other_data/NoahSegalGould_Mutuals_and_Mutuals_Mutuals_ids.json\", \"w\") as outfile:\n",
    "            json.dump(my_mutuals_mutuals, outfile)\n",
    "        print(\"{0:.2f} seconds for getting the mutuals' IDs of mutual {1}: {2}\\n\".format((end_time - start_time), \n",
    "                                                                                         i+1, name))\n",
    "    my_mutuals_mutuals = [str(mu) for mu in sorted([int(m) for m in list(set(my_mutuals_mutuals))])]\n",
    "    with open(\"../data/other_data/NoahSegalGould_Mutuals_and_Mutuals_Mutuals_ids.json\", \"w\") as outfile:\n",
    "        json.dump(my_mutuals_mutuals, outfile, indent=4)\n",
    "    return my_mutuals_mutuals"
   ]
  },
  {
   "cell_type": "code",
   "execution_count": 76,
   "metadata": {},
   "outputs": [],
   "source": [
    "# %%time\n",
    "# my_mutuals_mutuals = get_mutuals_and_mutuals_mutuals_ids()"
   ]
  },
  {
   "cell_type": "code",
   "execution_count": 77,
   "metadata": {},
   "outputs": [],
   "source": [
    "# %%time\n",
    "# my_mutuals = get_mutuals()"
   ]
  },
  {
   "cell_type": "code",
   "execution_count": 78,
   "metadata": {},
   "outputs": [],
   "source": [
    "# my_mutuals_mutuals = json.load(open(\"../data/other_data/NoahSegalGould_Mutuals_and_Mutuals_Mutuals_ids.json\"))"
   ]
  },
  {
   "cell_type": "code",
   "execution_count": 79,
   "metadata": {},
   "outputs": [],
   "source": [
    "# print(\"Total number of my mutuals: {}\".format(len(my_mutuals)))"
   ]
  },
  {
   "cell_type": "code",
   "execution_count": 80,
   "metadata": {},
   "outputs": [],
   "source": [
    "# print(\"Total number of my mutuals and my mutuals' mutuals: {}\".format(len(my_mutuals_mutuals)))"
   ]
  },
  {
   "cell_type": "markdown",
   "metadata": {},
   "source": [
    "#### Instantiate the listener"
   ]
  },
  {
   "cell_type": "code",
   "execution_count": 81,
   "metadata": {},
   "outputs": [],
   "source": [
    "# stream_listener = StreamListener()\n",
    "# stream = tweepy.Stream(auth=api.auth, listener=stream_listener)"
   ]
  },
  {
   "cell_type": "markdown",
   "metadata": {},
   "source": [
    "#### Start the stream asynchronously, and stop it after some duration of seconds"
   ]
  },
  {
   "cell_type": "code",
   "execution_count": 82,
   "metadata": {
    "scrolled": true
   },
   "outputs": [],
   "source": [
    "# %%time\n",
    "# stream.filter(locations=[-73.920176, 42.009637, -73.899739, 42.033421], stall_warnings=True, languages=[\"en\"], async=True)\n",
    "# stream.filter(follow=my_mutuals_mutuals, stall_warnings=True, languages=[\"en\"], async=True)\n",
    "# print(\"Streaming has started.\")\n",
    "# sleep(DURATION)\n",
    "# stream.disconnect()"
   ]
  },
  {
   "cell_type": "markdown",
   "metadata": {},
   "source": [
    "#### Plot the results"
   ]
  },
  {
   "cell_type": "code",
   "execution_count": 83,
   "metadata": {},
   "outputs": [],
   "source": [
    "# subtweets_df = pd.read_csv(\"../data/data_from_testing/live_downloaded_data/subtweets_live_data.csv\", index_col=0)"
   ]
  },
  {
   "cell_type": "code",
   "execution_count": 84,
   "metadata": {},
   "outputs": [],
   "source": [
    "# subtweets_df_columns = [\"screen_name\", \"time\", \"tweet\"]"
   ]
  },
  {
   "cell_type": "code",
   "execution_count": 85,
   "metadata": {},
   "outputs": [],
   "source": [
    "# subtweets_df_for_plotting = subtweets_df.drop(subtweets_df_columns, axis=1).head(10)"
   ]
  },
  {
   "cell_type": "code",
   "execution_count": 86,
   "metadata": {},
   "outputs": [],
   "source": [
    "# subtweets_df.head(10)"
   ]
  },
  {
   "cell_type": "code",
   "execution_count": 87,
   "metadata": {},
   "outputs": [],
   "source": [
    "# ax = subtweets_df_for_plotting.plot.barh(logx=True, figsize=(16, 9), color=\"maroon\", fontsize=13);\n",
    "# ax.set_alpha(0.8)\n",
    "# ax.set_title(\"Live Downloaded Subtweets Test\", fontsize=18)\n",
    "# ax.set_ylabel(\"Row Index\", fontsize=18);\n",
    "# ax.set_xlabel(\"Subtweet Percentage Probability (logarithmic)\", fontsize=18);\n",
    "# for i in ax.patches:\n",
    "#     ax.text(i.get_width(), i.get_y() + 0.325, \"{:.3%}\".format(i.get_width()), fontsize=10, color=\"black\")\n",
    "# ax.invert_yaxis()"
   ]
  }
 ],
 "metadata": {
  "kernelspec": {
   "display_name": "Python 3",
   "language": "python",
   "name": "python3"
  },
  "language_info": {
   "codemirror_mode": {
    "name": "ipython",
    "version": 3
   },
   "file_extension": ".py",
   "mimetype": "text/x-python",
   "name": "python",
   "nbconvert_exporter": "python",
   "pygments_lexer": "ipython3",
   "version": "3.6.4"
  }
 },
 "nbformat": 4,
 "nbformat_minor": 2
}
