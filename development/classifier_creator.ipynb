{
 "cells": [
  {
   "cell_type": "markdown",
   "metadata": {},
   "source": [
    "## Using Scikit-Learn and NLTK to build a Naive Bayes Classifier that identifies subtweets"
   ]
  },
  {
   "cell_type": "markdown",
   "metadata": {},
   "source": [
    "#### In all tables, assume:\n",
    "* \"➊\" represents a single hashtag\n",
    "* \"➋\" represents a single URL\n",
    "* \"➌\" represents a single mention of username (e.g. \"@noah\")"
   ]
  },
  {
   "cell_type": "markdown",
   "metadata": {},
   "source": [
    "#### Import libraries"
   ]
  },
  {
   "cell_type": "code",
   "execution_count": 1,
   "metadata": {},
   "outputs": [],
   "source": [
    "%matplotlib inline"
   ]
  },
  {
   "cell_type": "code",
   "execution_count": 2,
   "metadata": {},
   "outputs": [],
   "source": [
    "from sklearn.metrics import classification_report, confusion_matrix, accuracy_score\n",
    "from sklearn.feature_extraction.text import TfidfVectorizer\n",
    "from sklearn.feature_extraction import text\n",
    "from sklearn.naive_bayes import MultinomialNB\n",
    "from sklearn.model_selection import KFold\n",
    "from sklearn.pipeline import Pipeline\n",
    "from sklearn.externals import joblib\n",
    "from os.path import basename, splitext\n",
    "from random import choice, sample\n",
    "from nltk.corpus import stopwords\n",
    "from string import punctuation\n",
    "from pprint import pprint\n",
    "from glob import glob\n",
    "\n",
    "import matplotlib.pyplot as plt\n",
    "import pandas as pd\n",
    "import numpy as np\n",
    "\n",
    "import scipy.stats\n",
    "import itertools\n",
    "import enchant\n",
    "import nltk\n",
    "import json\n",
    "import re"
   ]
  },
  {
   "cell_type": "markdown",
   "metadata": {},
   "source": [
    "#### Set up some regex patterns"
   ]
  },
  {
   "cell_type": "code",
   "execution_count": 3,
   "metadata": {},
   "outputs": [],
   "source": [
    "hashtags_pattern = re.compile(r'(\\#[a-zA-Z0-9]+)')"
   ]
  },
  {
   "cell_type": "code",
   "execution_count": 4,
   "metadata": {},
   "outputs": [],
   "source": [
    "urls_pattern = re.compile(r'(?i)\\b((?:https?://|www\\d{0,3}[.]|[a-z0-9.\\-]+[.][a-z]{2,4}/)(?:[^\\s()<>]|\\(([^\\s()<>]+|(\\([^\\s()<>]+\\)))*\\))+(?:\\(([^\\s()<>]+|(\\([^\\s()<>]+\\)))*\\)|[^\\s`!()\\[\\]{};:\\'\".,<>?\\xab\\xbb\\u201c\\u201d\\u2018\\u2019]))')"
   ]
  },
  {
   "cell_type": "code",
   "execution_count": 5,
   "metadata": {},
   "outputs": [],
   "source": [
    "at_mentions_pattern = re.compile(r'(?<=^|(?<=[^a-zA-Z0-9-\\.]))@([A-Za-z0-9_]+)')"
   ]
  },
  {
   "cell_type": "markdown",
   "metadata": {},
   "source": [
    "#### Prepare English dictionary for language detection"
   ]
  },
  {
   "cell_type": "code",
   "execution_count": 6,
   "metadata": {},
   "outputs": [],
   "source": [
    "english_dict = enchant.Dict(\"en_US\")"
   ]
  },
  {
   "cell_type": "markdown",
   "metadata": {},
   "source": [
    "#### Use NLTK's tokenizer instead of Scikit's"
   ]
  },
  {
   "cell_type": "code",
   "execution_count": 7,
   "metadata": {},
   "outputs": [],
   "source": [
    "tokenizer = nltk.casual.TweetTokenizer(preserve_case=False, reduce_len=True)"
   ]
  },
  {
   "cell_type": "markdown",
   "metadata": {},
   "source": [
    "#### Prepare for viewing long text in CSVs and ones with really big and small numbers"
   ]
  },
  {
   "cell_type": "code",
   "execution_count": 8,
   "metadata": {},
   "outputs": [],
   "source": [
    "pd.set_option(\"max_colwidth\", 1000)"
   ]
  },
  {
   "cell_type": "code",
   "execution_count": 9,
   "metadata": {},
   "outputs": [],
   "source": [
    "pd.options.display.float_format = \"{:.4f}\".format"
   ]
  },
  {
   "cell_type": "markdown",
   "metadata": {},
   "source": [
    "#### Load the two data files\n",
    "#### Only use tweets with at least 50% English words\n",
    "#### Also, make the mentions of usernames, URLs, and hashtags generic"
   ]
  },
  {
   "cell_type": "code",
   "execution_count": 10,
   "metadata": {},
   "outputs": [],
   "source": [
    "def load_data(filename, threshold=0.5):\n",
    "    data = [(hashtags_pattern.sub(\"➊\", \n",
    "             urls_pattern.sub(\"➋\", \n",
    "             at_mentions_pattern.sub(\"➌\", \n",
    "             t[\"tweet_data\"][\"full_text\"])))\n",
    "             .replace(\"\\u2018\", \"'\")\n",
    "             .replace(\"\\u2019\", \"'\")\n",
    "             .replace(\"\\u201c\", \"\\\"\")\n",
    "             .replace(\"\\u201d\", \"\\\"\")\n",
    "             .replace(\"&quot;\", \"\\\"\")\n",
    "             .replace(\"&amp;\", \"&\")\n",
    "             .replace(\"&gt;\", \">\")\n",
    "             .replace(\"&lt;\", \"<\")) \n",
    "            for t in json.load(open(filename)) \n",
    "            if t[\"tweet_data\"][\"user\"][\"lang\"] == \"en\" \n",
    "            and t[\"reply\"][\"user\"][\"lang\"] == \"en\"]\n",
    "    new_data = []\n",
    "    for tweet in data:\n",
    "        tokens = tokenizer.tokenize(tweet)\n",
    "        english_tokens = [english_dict.check(token) for token in tokens]\n",
    "        percent_english_words = sum(english_tokens)/len(english_tokens)\n",
    "        if percent_english_words >= threshold:\n",
    "            new_data.append(tweet)\n",
    "    return new_data"
   ]
  },
  {
   "cell_type": "code",
   "execution_count": 11,
   "metadata": {},
   "outputs": [],
   "source": [
    "subtweets_data = load_data(\"../data/other_data/subtweets.json\")"
   ]
  },
  {
   "cell_type": "code",
   "execution_count": 12,
   "metadata": {},
   "outputs": [],
   "source": [
    "non_subtweets_data = load_data(\"../data/other_data/non_subtweets.json\")"
   ]
  },
  {
   "cell_type": "markdown",
   "metadata": {},
   "source": [
    "#### Show examples"
   ]
  },
  {
   "cell_type": "code",
   "execution_count": 13,
   "metadata": {},
   "outputs": [
    {
     "name": "stdout",
     "output_type": "stream",
     "text": [
      "Subtweets dataset example:\n",
      "This little girls to weird for me pure retard\n"
     ]
    }
   ],
   "source": [
    "print(\"Subtweets dataset example:\")\n",
    "print(choice(subtweets_data))"
   ]
  },
  {
   "cell_type": "code",
   "execution_count": 14,
   "metadata": {},
   "outputs": [
    {
     "name": "stdout",
     "output_type": "stream",
     "text": [
      "Non-subtweets dataset example:\n",
      "TESTED: \"The Golf Infomercial\" Wedge Test\n",
      "\n",
      "Do golf infomercial wedges really work?\n",
      "\n",
      "VIEW RESULTS: ➋ ➋\n"
     ]
    }
   ],
   "source": [
    "print(\"Non-subtweets dataset example:\")\n",
    "print(choice(non_subtweets_data))"
   ]
  },
  {
   "cell_type": "markdown",
   "metadata": {},
   "source": [
    "#### Find the length of the smaller dataset"
   ]
  },
  {
   "cell_type": "code",
   "execution_count": 15,
   "metadata": {},
   "outputs": [],
   "source": [
    "smallest_length = len(min([subtweets_data, non_subtweets_data], key=len))"
   ]
  },
  {
   "cell_type": "markdown",
   "metadata": {},
   "source": [
    "#### Cut both down to be the same length"
   ]
  },
  {
   "cell_type": "code",
   "execution_count": 16,
   "metadata": {},
   "outputs": [],
   "source": [
    "subtweets_data = subtweets_data[:smallest_length]"
   ]
  },
  {
   "cell_type": "code",
   "execution_count": 17,
   "metadata": {},
   "outputs": [],
   "source": [
    "non_subtweets_data = non_subtweets_data[:smallest_length]"
   ]
  },
  {
   "cell_type": "code",
   "execution_count": 18,
   "metadata": {},
   "outputs": [
    {
     "name": "stdout",
     "output_type": "stream",
     "text": [
      "Smallest dataset length: 7837\n"
     ]
    }
   ],
   "source": [
    "print(\"Smallest dataset length: {}\".format(len(subtweets_data)))"
   ]
  },
  {
   "cell_type": "markdown",
   "metadata": {},
   "source": [
    "#### Prepare data for training"
   ]
  },
  {
   "cell_type": "code",
   "execution_count": 19,
   "metadata": {},
   "outputs": [],
   "source": [
    "subtweets_data = [(tweet, \"subtweet\") for tweet in subtweets_data]"
   ]
  },
  {
   "cell_type": "code",
   "execution_count": 20,
   "metadata": {},
   "outputs": [],
   "source": [
    "non_subtweets_data = [(tweet, \"non-subtweet\") for tweet in non_subtweets_data]"
   ]
  },
  {
   "cell_type": "markdown",
   "metadata": {},
   "source": [
    "#### Combine them"
   ]
  },
  {
   "cell_type": "code",
   "execution_count": 21,
   "metadata": {},
   "outputs": [],
   "source": [
    "training_data = subtweets_data + non_subtweets_data"
   ]
  },
  {
   "cell_type": "markdown",
   "metadata": {},
   "source": [
    "#### Create custom stop words to include generic usernames, URLs, and hashtags, as well as common English first names"
   ]
  },
  {
   "cell_type": "code",
   "execution_count": 22,
   "metadata": {},
   "outputs": [],
   "source": [
    "names_lower = set([name.lower() for name in open(\"../data/other_data/first_names.txt\").read().split(\"\\n\")])"
   ]
  },
  {
   "cell_type": "code",
   "execution_count": 23,
   "metadata": {},
   "outputs": [],
   "source": [
    "generic_tokens = {\"➊\", \"➋\", \"➌\"}"
   ]
  },
  {
   "cell_type": "code",
   "execution_count": 24,
   "metadata": {},
   "outputs": [],
   "source": [
    "stop_words = text.ENGLISH_STOP_WORDS | names_lower | generic_tokens"
   ]
  },
  {
   "cell_type": "markdown",
   "metadata": {},
   "source": [
    "#### Build the pipeline"
   ]
  },
  {
   "cell_type": "code",
   "execution_count": 25,
   "metadata": {},
   "outputs": [],
   "source": [
    "sentiment_pipeline = Pipeline([\n",
    "    (\"vectorizer\", TfidfVectorizer(tokenizer=tokenizer.tokenize, \n",
    "                                   ngram_range=(1, 3), \n",
    "                                   stop_words=stop_words)),\n",
    "    (\"classifier\", MultinomialNB())\n",
    "])"
   ]
  },
  {
   "cell_type": "markdown",
   "metadata": {},
   "source": [
    "#### K-Folds splits up and separates out 10 training and test sets from the data, from which the classifier is trained and the confusion matrix and classification reports are updated"
   ]
  },
  {
   "cell_type": "code",
   "execution_count": 26,
   "metadata": {},
   "outputs": [],
   "source": [
    "def confusion_matrices(training_data, num_folds=10):\n",
    "    text_training_data = np.array([row[0] for row in training_data])\n",
    "    class_training_data = np.array([row[1] for row in training_data])\n",
    "    kf = KFold(n_splits=num_folds, random_state=42, shuffle=True)\n",
    "    \n",
    "    cnf_matrix_test = np.zeros((2, 2), dtype=int)\n",
    "    cnf_matrix_train = np.zeros((2, 2), dtype=int)\n",
    "    \n",
    "    test_reports = []\n",
    "    train_reports = []\n",
    "    for i, (train_index, test_index) in enumerate(kf.split(text_training_data)):\n",
    "\n",
    "        text_train, text_test = text_training_data[train_index], text_training_data[test_index]\n",
    "        class_train, class_test = class_training_data[train_index], class_training_data[test_index]\n",
    "\n",
    "        sentiment_pipeline.fit(text_train, class_train)\n",
    "        \n",
    "        predictions_test = sentiment_pipeline.predict(text_test)\n",
    "        predictions_train = sentiment_pipeline.predict(text_train)\n",
    "\n",
    "        cnf_matrix_test += confusion_matrix(class_test, predictions_test)\n",
    "        cnf_matrix_train += confusion_matrix(class_train, predictions_train)\n",
    "\n",
    "        print(\"Test Data Iteration {}:\".format(i+1))\n",
    "        \n",
    "        test_report = classification_report(class_test, predictions_test, digits=4)\n",
    "        test_reports.append(test_report)\n",
    "        print(test_report)\n",
    "        \n",
    "        print((\"Test Data Null Accuracy: {:.4f}\\n\"\n",
    "               .format(max(pd.value_counts(pd.Series(class_test)))/float(len(class_test)))))\n",
    "        print((\"Test Data Accuracy: {:.4f}\\n\"\n",
    "               .format(accuracy_score(class_test, predictions_test))))\n",
    "        print(\"=\"*53)\n",
    "        \n",
    "        print(\"Train Data Iteration {}:\".format(i+1))\n",
    "        \n",
    "        train_report = classification_report(class_train, predictions_train, digits=4)\n",
    "        train_reports.append(train_report)\n",
    "        print(train_report)\n",
    "        \n",
    "        print((\"Train Data Null Accuracy: {:.4f}\\n\"\n",
    "               .format(max(pd.value_counts(pd.Series(class_train)))/float(len(class_train)))))\n",
    "        print((\"Train Data Accuracy: {:.4f}\\n\"\n",
    "               .format(accuracy_score(class_train, predictions_train))))\n",
    "        print(\"=\"*53)\n",
    "        \n",
    "    def reports_mean(reports):\n",
    "        reports_lists_of_strings = [report.split(\"\\n\") for report in reports]\n",
    "        reports = [[[float(e) for e in report_string[2][16:].split()],\n",
    "                    [float(e) for e in report_string[3][16:].split()],\n",
    "                    [float(e) for e in report_string[5][16:].split()]]\n",
    "                   for report_string in reports_lists_of_strings]\n",
    "        mean_list = np.mean(np.array(reports), axis=0).tolist()\n",
    "        print(\"              precision    recall  f1-score   support\")\n",
    "        print()\n",
    "        print(\"non-subtweet     {0:.4f}    {1:.4f}    {2:.4f}      {3:d}\".format(mean_list[0][0], \n",
    "                                                                                 mean_list[0][1], \n",
    "                                                                                 mean_list[0][2], \n",
    "                                                                                 int(mean_list[0][3])))\n",
    "        print(\"    subtweet     {0:.4f}    {1:.4f}    {2:.4f}      {3:d}\".format(mean_list[1][0], \n",
    "                                                                                 mean_list[1][1], \n",
    "                                                                                 mean_list[1][2], \n",
    "                                                                                 int(mean_list[1][3])))\n",
    "        print()\n",
    "        print(\" avg / total     {0:.4f}    {1:.4f}    {2:.4f}      {3:d}\".format(mean_list[2][0], \n",
    "                                                                                 mean_list[2][1], \n",
    "                                                                                 mean_list[2][2], \n",
    "                                                                                 int(mean_list[2][3])))\n",
    "        print()\n",
    "        print(\"=\"*53)\n",
    "    \n",
    "    print(\"Test Data Averages Across All Folds:\")\n",
    "    reports_mean(test_reports)\n",
    "    print(\"Train Data Averages Across All Folds:\")\n",
    "    reports_mean(train_reports)\n",
    "    return {\"Test\": cnf_matrix_test, \"Train\": cnf_matrix_train}"
   ]
  },
  {
   "cell_type": "code",
   "execution_count": 27,
   "metadata": {
    "scrolled": false
   },
   "outputs": [
    {
     "name": "stdout",
     "output_type": "stream",
     "text": [
      "Test Data Iteration 1:\n",
      "              precision    recall  f1-score   support\n",
      "\n",
      "non-subtweet     0.7338    0.6431    0.6855       793\n",
      "    subtweet     0.6758    0.7613    0.7160       775\n",
      "\n",
      " avg / total     0.7052    0.7015    0.7006      1568\n",
      "\n",
      "Test Data Null Accuracy: 0.5057\n",
      "\n",
      "Test Data Accuracy: 0.7015\n",
      "\n",
      "=====================================================\n",
      "Train Data Iteration 1:\n",
      "              precision    recall  f1-score   support\n",
      "\n",
      "non-subtweet     0.9907    0.9806    0.9856      7044\n",
      "    subtweet     0.9808    0.9908    0.9858      7062\n",
      "\n",
      " avg / total     0.9857    0.9857    0.9857     14106\n",
      "\n",
      "Train Data Null Accuracy: 0.5006\n",
      "\n",
      "Train Data Accuracy: 0.9857\n",
      "\n",
      "=====================================================\n",
      "Test Data Iteration 2:\n",
      "              precision    recall  f1-score   support\n",
      "\n",
      "non-subtweet     0.6940    0.6324    0.6618       789\n",
      "    subtweet     0.6584    0.7176    0.6867       779\n",
      "\n",
      " avg / total     0.6763    0.6747    0.6742      1568\n",
      "\n",
      "Test Data Null Accuracy: 0.5032\n",
      "\n",
      "Test Data Accuracy: 0.6747\n",
      "\n",
      "=====================================================\n",
      "Train Data Iteration 2:\n",
      "              precision    recall  f1-score   support\n",
      "\n",
      "non-subtweet     0.9908    0.9786    0.9847      7048\n",
      "    subtweet     0.9789    0.9909    0.9849      7058\n",
      "\n",
      " avg / total     0.9848    0.9848    0.9848     14106\n",
      "\n",
      "Train Data Null Accuracy: 0.5004\n",
      "\n",
      "Train Data Accuracy: 0.9848\n",
      "\n",
      "=====================================================\n",
      "Test Data Iteration 3:\n",
      "              precision    recall  f1-score   support\n",
      "\n",
      "non-subtweet     0.7021    0.6866    0.6943       769\n",
      "    subtweet     0.7047    0.7196    0.7121       799\n",
      "\n",
      " avg / total     0.7034    0.7034    0.7033      1568\n",
      "\n",
      "Test Data Null Accuracy: 0.5096\n",
      "\n",
      "Test Data Accuracy: 0.7034\n",
      "\n",
      "=====================================================\n",
      "Train Data Iteration 3:\n",
      "              precision    recall  f1-score   support\n",
      "\n",
      "non-subtweet     0.9869    0.9829    0.9849      7068\n",
      "    subtweet     0.9829    0.9869    0.9849      7038\n",
      "\n",
      " avg / total     0.9849    0.9849    0.9849     14106\n",
      "\n",
      "Train Data Null Accuracy: 0.5011\n",
      "\n",
      "Train Data Accuracy: 0.9849\n",
      "\n",
      "=====================================================\n",
      "Test Data Iteration 4:\n",
      "              precision    recall  f1-score   support\n",
      "\n",
      "non-subtweet     0.7313    0.6355    0.6800       801\n",
      "    subtweet     0.6651    0.7562    0.7077       767\n",
      "\n",
      " avg / total     0.6989    0.6945    0.6936      1568\n",
      "\n",
      "Test Data Null Accuracy: 0.5108\n",
      "\n",
      "Test Data Accuracy: 0.6945\n",
      "\n",
      "=====================================================\n",
      "Train Data Iteration 4:\n",
      "              precision    recall  f1-score   support\n",
      "\n",
      "non-subtweet     0.9907    0.9802    0.9854      7036\n",
      "    subtweet     0.9805    0.9908    0.9856      7070\n",
      "\n",
      " avg / total     0.9856    0.9855    0.9855     14106\n",
      "\n",
      "Train Data Null Accuracy: 0.5012\n",
      "\n",
      "Train Data Accuracy: 0.9855\n",
      "\n",
      "=====================================================\n",
      "Test Data Iteration 5:\n",
      "              precision    recall  f1-score   support\n",
      "\n",
      "non-subtweet     0.7078    0.6560    0.6809       779\n",
      "    subtweet     0.6828    0.7322    0.7067       788\n",
      "\n",
      " avg / total     0.6952    0.6943    0.6939      1567\n",
      "\n",
      "Test Data Null Accuracy: 0.5029\n",
      "\n",
      "Test Data Accuracy: 0.6943\n",
      "\n",
      "=====================================================\n",
      "Train Data Iteration 5:\n",
      "              precision    recall  f1-score   support\n",
      "\n",
      "non-subtweet     0.9871    0.9829    0.9849      7058\n",
      "    subtweet     0.9829    0.9871    0.9850      7049\n",
      "\n",
      " avg / total     0.9850    0.9850    0.9850     14107\n",
      "\n",
      "Train Data Null Accuracy: 0.5003\n",
      "\n",
      "Train Data Accuracy: 0.9850\n",
      "\n",
      "=====================================================\n",
      "Test Data Iteration 6:\n",
      "              precision    recall  f1-score   support\n",
      "\n",
      "non-subtweet     0.6836    0.6583    0.6707       758\n",
      "    subtweet     0.6906    0.7145    0.7023       809\n",
      "\n",
      " avg / total     0.6872    0.6873    0.6870      1567\n",
      "\n",
      "Test Data Null Accuracy: 0.5163\n",
      "\n",
      "Test Data Accuracy: 0.6873\n",
      "\n",
      "=====================================================\n",
      "Train Data Iteration 6:\n",
      "              precision    recall  f1-score   support\n",
      "\n",
      "non-subtweet     0.9874    0.9846    0.9860      7079\n",
      "    subtweet     0.9845    0.9873    0.9859      7028\n",
      "\n",
      " avg / total     0.9860    0.9860    0.9860     14107\n",
      "\n",
      "Train Data Null Accuracy: 0.5018\n",
      "\n",
      "Train Data Accuracy: 0.9860\n",
      "\n",
      "=====================================================\n",
      "Test Data Iteration 7:\n",
      "              precision    recall  f1-score   support\n",
      "\n",
      "non-subtweet     0.7003    0.6285    0.6625       751\n",
      "    subtweet     0.6876    0.7525    0.7185       816\n",
      "\n",
      " avg / total     0.6937    0.6930    0.6917      1567\n",
      "\n",
      "Test Data Null Accuracy: 0.5207\n",
      "\n",
      "Test Data Accuracy: 0.6930\n",
      "\n",
      "=====================================================\n",
      "Train Data Iteration 7:\n",
      "              precision    recall  f1-score   support\n",
      "\n",
      "non-subtweet     0.9860    0.9852    0.9856      7086\n",
      "    subtweet     0.9851    0.9859    0.9855      7021\n",
      "\n",
      " avg / total     0.9855    0.9855    0.9855     14107\n",
      "\n",
      "Train Data Null Accuracy: 0.5023\n",
      "\n",
      "Train Data Accuracy: 0.9855\n",
      "\n",
      "=====================================================\n",
      "Test Data Iteration 8:\n",
      "              precision    recall  f1-score   support\n",
      "\n",
      "non-subtweet     0.7342    0.6429    0.6855       812\n",
      "    subtweet     0.6612    0.7497    0.7027       755\n",
      "\n",
      " avg / total     0.6990    0.6943    0.6938      1567\n",
      "\n",
      "Test Data Null Accuracy: 0.5182\n",
      "\n",
      "Test Data Accuracy: 0.6943\n",
      "\n",
      "=====================================================\n",
      "Train Data Iteration 8:\n",
      "              precision    recall  f1-score   support\n",
      "\n",
      "non-subtweet     0.9906    0.9795    0.9850      7025\n",
      "    subtweet     0.9799    0.9908    0.9853      7082\n",
      "\n",
      " avg / total     0.9852    0.9852    0.9852     14107\n",
      "\n",
      "Train Data Null Accuracy: 0.5020\n",
      "\n",
      "Train Data Accuracy: 0.9852\n",
      "\n",
      "=====================================================\n",
      "Test Data Iteration 9:\n",
      "              precision    recall  f1-score   support\n",
      "\n",
      "non-subtweet     0.7321    0.6429    0.6846       829\n",
      "    subtweet     0.6472    0.7358    0.6886       738\n",
      "\n",
      " avg / total     0.6921    0.6867    0.6865      1567\n",
      "\n",
      "Test Data Null Accuracy: 0.5290\n",
      "\n",
      "Test Data Accuracy: 0.6867\n",
      "\n",
      "=====================================================\n",
      "Train Data Iteration 9:\n",
      "              precision    recall  f1-score   support\n",
      "\n",
      "non-subtweet     0.9919    0.9796    0.9857      7008\n",
      "    subtweet     0.9801    0.9921    0.9861      7099\n",
      "\n",
      " avg / total     0.9860    0.9859    0.9859     14107\n",
      "\n",
      "Train Data Null Accuracy: 0.5032\n",
      "\n",
      "Train Data Accuracy: 0.9859\n",
      "\n",
      "=====================================================\n",
      "Test Data Iteration 10:\n",
      "              precision    recall  f1-score   support\n",
      "\n",
      "non-subtweet     0.7060    0.6799    0.6927       756\n",
      "    subtweet     0.7116    0.7361    0.7236       811\n",
      "\n",
      " avg / total     0.7089    0.7090    0.7087      1567\n",
      "\n",
      "Test Data Null Accuracy: 0.5175\n",
      "\n",
      "Test Data Accuracy: 0.7090\n",
      "\n",
      "=====================================================\n",
      "Train Data Iteration 10:\n",
      "              precision    recall  f1-score   support\n",
      "\n",
      "non-subtweet     0.9870    0.9849    0.9859      7081\n",
      "    subtweet     0.9848    0.9869    0.9859      7026\n",
      "\n",
      " avg / total     0.9859    0.9859    0.9859     14107\n",
      "\n",
      "Train Data Null Accuracy: 0.5019\n",
      "\n",
      "Train Data Accuracy: 0.9859\n",
      "\n",
      "=====================================================\n",
      "Test Data Averages Across All Folds:\n",
      "              precision    recall  f1-score   support\n",
      "\n",
      "non-subtweet     0.7125    0.6506    0.6798      783\n",
      "    subtweet     0.6785    0.7376    0.7065      783\n",
      "\n",
      " avg / total     0.6960    0.6939    0.6933      1567\n",
      "\n",
      "=====================================================\n",
      "Train Data Averages Across All Folds:\n",
      "              precision    recall  f1-score   support\n",
      "\n",
      "non-subtweet     0.9889    0.9819    0.9854      7053\n",
      "    subtweet     0.9820    0.9890    0.9855      7053\n",
      "\n",
      " avg / total     0.9855    0.9854    0.9854      14106\n",
      "\n",
      "=====================================================\n",
      "CPU times: user 1min 8s, sys: 1.76 s, total: 1min 10s\n",
      "Wall time: 1min 12s\n"
     ]
    }
   ],
   "source": [
    "%%time\n",
    "cnf_matrices = confusion_matrices(training_data)\n",
    "cnf_matrix_test = cnf_matrices[\"Test\"]\n",
    "cnf_matrix_train = cnf_matrices[\"Train\"]"
   ]
  },
  {
   "cell_type": "markdown",
   "metadata": {},
   "source": [
    "#### See the most informative features\n",
    "[How does \"MultinomialNB.coef_\" work?](https://stackoverflow.com/a/29915740/6147528)"
   ]
  },
  {
   "cell_type": "code",
   "execution_count": 28,
   "metadata": {},
   "outputs": [],
   "source": [
    "def most_informative_features(pipeline, n=10000):\n",
    "    vectorizer = pipeline.named_steps[\"vectorizer\"]\n",
    "    classifier = pipeline.named_steps[\"classifier\"]\n",
    "    \n",
    "    class_labels = classifier.classes_\n",
    "    \n",
    "    feature_names = vectorizer.get_feature_names()\n",
    "    \n",
    "    top_n_class_1 = sorted(zip(classifier.coef_[0], feature_names))[:n]\n",
    "    top_n_class_2 = sorted(zip(classifier.coef_[0], feature_names))[-n:]\n",
    "    \n",
    "    return {class_labels[0]: pd.DataFrame({\"Log Probability\": [tup[0] for tup in top_n_class_1], \n",
    "                                           \"Feature\": [tup[1] for tup in top_n_class_1]}), \n",
    "            class_labels[1]: pd.DataFrame({\"Log Probability\": [tup[0] for tup in reversed(top_n_class_2)],\n",
    "                                           \"Feature\": [tup[1] for tup in reversed(top_n_class_2)]})}"
   ]
  },
  {
   "cell_type": "code",
   "execution_count": 29,
   "metadata": {},
   "outputs": [
    {
     "name": "stdout",
     "output_type": "stream",
     "text": [
      "CPU times: user 1.34 s, sys: 39.3 ms, total: 1.38 s\n",
      "Wall time: 1.38 s\n"
     ]
    }
   ],
   "source": [
    "%%time\n",
    "most_informative_features_all = most_informative_features(sentiment_pipeline)"
   ]
  },
  {
   "cell_type": "code",
   "execution_count": 30,
   "metadata": {},
   "outputs": [],
   "source": [
    "most_informative_features_non_subtweet = most_informative_features_all[\"non-subtweet\"]"
   ]
  },
  {
   "cell_type": "code",
   "execution_count": 31,
   "metadata": {},
   "outputs": [],
   "source": [
    "most_informative_features_subtweet = most_informative_features_all[\"subtweet\"]"
   ]
  },
  {
   "cell_type": "code",
   "execution_count": 32,
   "metadata": {
    "scrolled": false
   },
   "outputs": [
    {
     "data": {
      "text/html": [
       "<div>\n",
       "<style scoped>\n",
       "    .dataframe tbody tr th:only-of-type {\n",
       "        vertical-align: middle;\n",
       "    }\n",
       "\n",
       "    .dataframe tbody tr th {\n",
       "        vertical-align: top;\n",
       "    }\n",
       "\n",
       "    .dataframe thead th {\n",
       "        text-align: right;\n",
       "    }\n",
       "</style>\n",
       "<table border=\"1\" class=\"dataframe\">\n",
       "  <thead>\n",
       "    <tr style=\"text-align: right;\">\n",
       "      <th></th>\n",
       "      <th>Feature (Non-subtweet)</th>\n",
       "      <th>Log Probability (Non-subtweet)</th>\n",
       "      <th>Feature (Subtweet)</th>\n",
       "      <th>Log Probability (Subtweet)</th>\n",
       "    </tr>\n",
       "  </thead>\n",
       "  <tbody>\n",
       "    <tr>\n",
       "      <th>0</th>\n",
       "      <td>! ! &amp;</td>\n",
       "      <td>-12.6618</td>\n",
       "      <td>.</td>\n",
       "      <td>-7.5300</td>\n",
       "    </tr>\n",
       "    <tr>\n",
       "      <th>1</th>\n",
       "      <td>! ! (</td>\n",
       "      <td>-12.6618</td>\n",
       "      <td>,</td>\n",
       "      <td>-7.9193</td>\n",
       "    </tr>\n",
       "    <tr>\n",
       "      <th>2</th>\n",
       "      <td>! ! )</td>\n",
       "      <td>-12.6618</td>\n",
       "      <td>\"</td>\n",
       "      <td>-8.0928</td>\n",
       "    </tr>\n",
       "    <tr>\n",
       "      <th>3</th>\n",
       "      <td>! ! .</td>\n",
       "      <td>-12.6618</td>\n",
       "      <td>people</td>\n",
       "      <td>-8.3903</td>\n",
       "    </tr>\n",
       "    <tr>\n",
       "      <th>4</th>\n",
       "      <td>! ! 100</td>\n",
       "      <td>-12.6618</td>\n",
       "      <td>?</td>\n",
       "      <td>-8.4594</td>\n",
       "    </tr>\n",
       "    <tr>\n",
       "      <th>5</th>\n",
       "      <td>! ! 15</td>\n",
       "      <td>-12.6618</td>\n",
       "      <td>don't</td>\n",
       "      <td>-8.5588</td>\n",
       "    </tr>\n",
       "    <tr>\n",
       "      <th>6</th>\n",
       "      <td>! ! 3</td>\n",
       "      <td>-12.6618</td>\n",
       "      <td>like</td>\n",
       "      <td>-8.5889</td>\n",
       "    </tr>\n",
       "    <tr>\n",
       "      <th>7</th>\n",
       "      <td>! ! 5</td>\n",
       "      <td>-12.6618</td>\n",
       "      <td>just</td>\n",
       "      <td>-8.6754</td>\n",
       "    </tr>\n",
       "    <tr>\n",
       "      <th>8</th>\n",
       "      <td>! ! 8am</td>\n",
       "      <td>-12.6618</td>\n",
       "      <td>i'm</td>\n",
       "      <td>-8.6969</td>\n",
       "    </tr>\n",
       "    <tr>\n",
       "      <th>9</th>\n",
       "      <td>! ! :)</td>\n",
       "      <td>-12.6618</td>\n",
       "      <td>!</td>\n",
       "      <td>-8.9031</td>\n",
       "    </tr>\n",
       "    <tr>\n",
       "      <th>10</th>\n",
       "      <td>! ! ;)</td>\n",
       "      <td>-12.6618</td>\n",
       "      <td>it's</td>\n",
       "      <td>-8.9727</td>\n",
       "    </tr>\n",
       "    <tr>\n",
       "      <th>11</th>\n",
       "      <td>! ! absolutely</td>\n",
       "      <td>-12.6618</td>\n",
       "      <td>...</td>\n",
       "      <td>-9.0431</td>\n",
       "    </tr>\n",
       "    <tr>\n",
       "      <th>12</th>\n",
       "      <td>! ! amazing</td>\n",
       "      <td>-12.6618</td>\n",
       "      <td>you're</td>\n",
       "      <td>-9.0488</td>\n",
       "    </tr>\n",
       "    <tr>\n",
       "      <th>13</th>\n",
       "      <td>! ! ask</td>\n",
       "      <td>-12.6618</td>\n",
       "      <td>:</td>\n",
       "      <td>-9.0704</td>\n",
       "    </tr>\n",
       "    <tr>\n",
       "      <th>14</th>\n",
       "      <td>! ! awesome</td>\n",
       "      <td>-12.6618</td>\n",
       "      <td>know</td>\n",
       "      <td>-9.0928</td>\n",
       "    </tr>\n",
       "    <tr>\n",
       "      <th>15</th>\n",
       "      <td>! ! big</td>\n",
       "      <td>-12.6618</td>\n",
       "      <td>twitter</td>\n",
       "      <td>-9.1443</td>\n",
       "    </tr>\n",
       "    <tr>\n",
       "      <th>16</th>\n",
       "      <td>! ! bite</td>\n",
       "      <td>-12.6618</td>\n",
       "      <td>friends</td>\n",
       "      <td>-9.1650</td>\n",
       "    </tr>\n",
       "    <tr>\n",
       "      <th>17</th>\n",
       "      <td>! ! close</td>\n",
       "      <td>-12.6618</td>\n",
       "      <td>time</td>\n",
       "      <td>-9.2879</td>\n",
       "    </tr>\n",
       "    <tr>\n",
       "      <th>18</th>\n",
       "      <td>! ! collection</td>\n",
       "      <td>-12.6618</td>\n",
       "      <td>want</td>\n",
       "      <td>-9.2923</td>\n",
       "    </tr>\n",
       "    <tr>\n",
       "      <th>19</th>\n",
       "      <td>! ! come</td>\n",
       "      <td>-12.6618</td>\n",
       "      <td>u</td>\n",
       "      <td>-9.3004</td>\n",
       "    </tr>\n",
       "    <tr>\n",
       "      <th>20</th>\n",
       "      <td>! ! don't</td>\n",
       "      <td>-12.6618</td>\n",
       "      <td>really</td>\n",
       "      <td>-9.3518</td>\n",
       "    </tr>\n",
       "    <tr>\n",
       "      <th>21</th>\n",
       "      <td>! ! enter</td>\n",
       "      <td>-12.6618</td>\n",
       "      <td>shit</td>\n",
       "      <td>-9.3699</td>\n",
       "    </tr>\n",
       "    <tr>\n",
       "      <th>22</th>\n",
       "      <td>! ! epic</td>\n",
       "      <td>-12.6618</td>\n",
       "      <td>good</td>\n",
       "      <td>-9.4017</td>\n",
       "    </tr>\n",
       "    <tr>\n",
       "      <th>23</th>\n",
       "      <td>! ! extremely</td>\n",
       "      <td>-12.6618</td>\n",
       "      <td>think</td>\n",
       "      <td>-9.4155</td>\n",
       "    </tr>\n",
       "    <tr>\n",
       "      <th>24</th>\n",
       "      <td>! ! family</td>\n",
       "      <td>-12.6618</td>\n",
       "      <td>make</td>\n",
       "      <td>-9.4225</td>\n",
       "    </tr>\n",
       "  </tbody>\n",
       "</table>\n",
       "</div>"
      ],
      "text/plain": [
       "   Feature (Non-subtweet)  Log Probability (Non-subtweet) Feature (Subtweet)  \\\n",
       "0                   ! ! &                        -12.6618                  .   \n",
       "1                   ! ! (                        -12.6618                  ,   \n",
       "2                   ! ! )                        -12.6618                  \"   \n",
       "3                   ! ! .                        -12.6618             people   \n",
       "4                 ! ! 100                        -12.6618                  ?   \n",
       "5                  ! ! 15                        -12.6618              don't   \n",
       "6                   ! ! 3                        -12.6618               like   \n",
       "7                   ! ! 5                        -12.6618               just   \n",
       "8                 ! ! 8am                        -12.6618                i'm   \n",
       "9                  ! ! :)                        -12.6618                  !   \n",
       "10                 ! ! ;)                        -12.6618               it's   \n",
       "11         ! ! absolutely                        -12.6618                ...   \n",
       "12            ! ! amazing                        -12.6618             you're   \n",
       "13                ! ! ask                        -12.6618                  :   \n",
       "14            ! ! awesome                        -12.6618               know   \n",
       "15                ! ! big                        -12.6618            twitter   \n",
       "16               ! ! bite                        -12.6618            friends   \n",
       "17              ! ! close                        -12.6618               time   \n",
       "18         ! ! collection                        -12.6618               want   \n",
       "19               ! ! come                        -12.6618                  u   \n",
       "20              ! ! don't                        -12.6618             really   \n",
       "21              ! ! enter                        -12.6618               shit   \n",
       "22               ! ! epic                        -12.6618               good   \n",
       "23          ! ! extremely                        -12.6618              think   \n",
       "24             ! ! family                        -12.6618               make   \n",
       "\n",
       "    Log Probability (Subtweet)  \n",
       "0                      -7.5300  \n",
       "1                      -7.9193  \n",
       "2                      -8.0928  \n",
       "3                      -8.3903  \n",
       "4                      -8.4594  \n",
       "5                      -8.5588  \n",
       "6                      -8.5889  \n",
       "7                      -8.6754  \n",
       "8                      -8.6969  \n",
       "9                      -8.9031  \n",
       "10                     -8.9727  \n",
       "11                     -9.0431  \n",
       "12                     -9.0488  \n",
       "13                     -9.0704  \n",
       "14                     -9.0928  \n",
       "15                     -9.1443  \n",
       "16                     -9.1650  \n",
       "17                     -9.2879  \n",
       "18                     -9.2923  \n",
       "19                     -9.3004  \n",
       "20                     -9.3518  \n",
       "21                     -9.3699  \n",
       "22                     -9.4017  \n",
       "23                     -9.4155  \n",
       "24                     -9.4225  "
      ]
     },
     "execution_count": 32,
     "metadata": {},
     "output_type": "execute_result"
    }
   ],
   "source": [
    "final_features = most_informative_features_non_subtweet.join(most_informative_features_subtweet, \n",
    "                                                             lsuffix=\" (Non-subtweet)\", \n",
    "                                                             rsuffix=\" (Subtweet)\")\n",
    "final_features.to_csv(\"../data/other_data/most_informative_features.csv\")\n",
    "final_features.head(25)"
   ]
  },
  {
   "cell_type": "markdown",
   "metadata": {},
   "source": [
    "#### Define function for visualizing confusion matrices"
   ]
  },
  {
   "cell_type": "code",
   "execution_count": 33,
   "metadata": {},
   "outputs": [],
   "source": [
    "def plot_confusion_matrix(cm, classes=[\"non-subtweet\", \"subtweet\"], \n",
    "                          title=\"Confusion Matrix\", cmap=plt.cm.Purples):\n",
    "    \n",
    "    cm_normalized = cm.astype(\"float\") / cm.sum(axis=1)[:, np.newaxis]\n",
    "\n",
    "    plt.imshow(cm, interpolation=\"nearest\", cmap=cmap)\n",
    "    plt.colorbar()\n",
    "    \n",
    "    plt.title(title, size=18)\n",
    "    \n",
    "    tick_marks = np.arange(len(classes))\n",
    "    plt.xticks(tick_marks, classes, rotation=45, fontsize=14)\n",
    "    plt.yticks(tick_marks, classes, fontsize=14)\n",
    "\n",
    "    thresh = cm.max() / 2.\n",
    "    for i, j in itertools.product(range(cm.shape[0]), range(cm.shape[1])):\n",
    "        plt.text(j, i, \"{} ({:.0%})\".format(cm[i, j], cm_normalized[i, j]),\n",
    "                horizontalalignment=\"center\", size=16,\n",
    "                color=\"white\" if cm[i, j] > thresh else \"black\")\n",
    "        \n",
    "    plt.tight_layout()\n",
    "    \n",
    "    plt.ylabel(\"True label\", fontsize=14)\n",
    "    plt.xlabel(\"Predicted Label\", fontsize=14)"
   ]
  },
  {
   "cell_type": "markdown",
   "metadata": {},
   "source": [
    "#### Show the matrices"
   ]
  },
  {
   "cell_type": "code",
   "execution_count": 34,
   "metadata": {},
   "outputs": [
    {
     "data": {
      "image/png": "[encoded data removed]",
      "text/plain": [
       "<Figure size 432x432 with 2 Axes>"
      ]
     },
     "metadata": {},
     "output_type": "display_data"
    },
    {
     "data": {
      "image/png": "[encoded data removed]",
      "text/plain": [
       "<Figure size 432x432 with 2 Axes>"
      ]
     },
     "metadata": {},
     "output_type": "display_data"
    }
   ],
   "source": [
    "np.set_printoptions(precision=2)\n",
    "\n",
    "plt.figure(figsize=(6, 6))\n",
    "plot_confusion_matrix(cnf_matrix_test, title=\"Test Data Confusion Matrix\")\n",
    "\n",
    "plt.figure(figsize=(6, 6))\n",
    "plot_confusion_matrix(cnf_matrix_train, title=\"Train Data Confusion Matrix\")\n",
    "\n",
    "plt.show()"
   ]
  },
  {
   "cell_type": "markdown",
   "metadata": {},
   "source": [
    "#### Update matplotlib style"
   ]
  },
  {
   "cell_type": "code",
   "execution_count": 35,
   "metadata": {},
   "outputs": [],
   "source": [
    "plt.style.use(\"fivethirtyeight\")"
   ]
  },
  {
   "cell_type": "markdown",
   "metadata": {},
   "source": [
    "#### Save the classifier for another time"
   ]
  },
  {
   "cell_type": "code",
   "execution_count": 36,
   "metadata": {},
   "outputs": [],
   "source": [
    "joblib.dump(sentiment_pipeline, \"../data/other_data/subtweets_classifier.pkl\");"
   ]
  },
  {
   "cell_type": "markdown",
   "metadata": {},
   "source": [
    "#### Print tests for the classifier"
   ]
  },
  {
   "cell_type": "code",
   "execution_count": 37,
   "metadata": {},
   "outputs": [],
   "source": [
    "def process_tweets_for_testing(filenames):\n",
    "    dataframes = {}\n",
    "    for filename in filenames:\n",
    "        username = splitext(basename(filename))[0][:-7]\n",
    "        dataframes[username] = {}\n",
    "        \n",
    "        user_df = pd.read_csv(filename).dropna()\n",
    "        user_df[\"Text\"] = user_df[\"Text\"].str.replace(hashtags_pattern, \"➊\")\n",
    "        user_df[\"Text\"] = user_df[\"Text\"].str.replace(urls_pattern, \"➋\")\n",
    "        user_df[\"Text\"] = user_df[\"Text\"].str.replace(at_mentions_pattern, \"➌\")\n",
    "        user_df[\"Text\"] = user_df[\"Text\"].str.replace(\"\\u2018\", \"'\")\n",
    "        user_df[\"Text\"] = user_df[\"Text\"].str.replace(\"\\u2019\", \"'\")\n",
    "        user_df[\"Text\"] = user_df[\"Text\"].str.replace(\"\\u201c\", \"\\\"\")\n",
    "        user_df[\"Text\"] = user_df[\"Text\"].str.replace(\"\\u201d\", \"\\\"\")\n",
    "        user_df[\"Text\"] = user_df[\"Text\"].str.replace(\"&quot;\", \"\\\"\")\n",
    "        user_df[\"Text\"] = user_df[\"Text\"].str.replace(\"&amp;\", \"&\")\n",
    "        user_df[\"Text\"] = user_df[\"Text\"].str.replace(\"&gt;\", \">\")\n",
    "        user_df[\"Text\"] = user_df[\"Text\"].str.replace(\"&lt;\", \"<\")\n",
    "        \n",
    "        predictions = sentiment_pipeline.predict_proba(user_df[\"Text\"])[:, 1].tolist()\n",
    "        user_df[\"SubtweetProbability\"] = predictions\n",
    "\n",
    "        dataframes[username][\"all\"] = user_df\n",
    "        \n",
    "        scores = user_df[[\"SubtweetProbability\"]].rename(columns={\"SubtweetProbability\": username})\n",
    "        \n",
    "        dataframes[username][\"scores\"] = scores\n",
    "        dataframes[username][\"stats\"] = scores.describe()\n",
    "        \n",
    "    return dataframes"
   ]
  },
  {
   "cell_type": "markdown",
   "metadata": {},
   "source": [
    "#### Load the CSV files"
   ]
  },
  {
   "cell_type": "code",
   "execution_count": 38,
   "metadata": {},
   "outputs": [],
   "source": [
    "filenames = glob(\"../data/data_for_testing/friends_data/*.csv\")"
   ]
  },
  {
   "cell_type": "code",
   "execution_count": 39,
   "metadata": {},
   "outputs": [
    {
     "name": "stdout",
     "output_type": "stream",
     "text": [
      "CPU times: user 9.09 s, sys: 153 ms, total: 9.24 s\n",
      "Wall time: 9.52 s\n"
     ]
    }
   ],
   "source": [
    "%%time\n",
    "dataframes = process_tweets_for_testing(filenames)"
   ]
  },
  {
   "cell_type": "markdown",
   "metadata": {},
   "source": [
    "#### Show a random table"
   ]
  },
  {
   "cell_type": "code",
   "execution_count": 40,
   "metadata": {},
   "outputs": [
    {
     "data": {
      "text/html": [
       "<div>\n",
       "<style scoped>\n",
       "    .dataframe tbody tr th:only-of-type {\n",
       "        vertical-align: middle;\n",
       "    }\n",
       "\n",
       "    .dataframe tbody tr th {\n",
       "        vertical-align: top;\n",
       "    }\n",
       "\n",
       "    .dataframe thead th {\n",
       "        text-align: right;\n",
       "    }\n",
       "</style>\n",
       "<table border=\"1\" class=\"dataframe\">\n",
       "  <thead>\n",
       "    <tr style=\"text-align: right;\">\n",
       "      <th></th>\n",
       "      <th>Text</th>\n",
       "      <th>Date</th>\n",
       "      <th>Favorites</th>\n",
       "      <th>Retweets</th>\n",
       "      <th>Tweet ID</th>\n",
       "      <th>SubtweetProbability</th>\n",
       "    </tr>\n",
       "  </thead>\n",
       "  <tbody>\n",
       "    <tr>\n",
       "      <th>2092</th>\n",
       "      <td>I hate when people overuse emojis</td>\n",
       "      <td>2015-06-26 13:01:35</td>\n",
       "      <td>0</td>\n",
       "      <td>0</td>\n",
       "      <td>614478624197091328</td>\n",
       "      <td>0.8579</td>\n",
       "    </tr>\n",
       "    <tr>\n",
       "      <th>2137</th>\n",
       "      <td>Also you don't need to resort to social media 24/7 to complain about your very privileged life ¯\\_(ツ)_/¯</td>\n",
       "      <td>2015-06-15 17:24:46</td>\n",
       "      <td>1</td>\n",
       "      <td>0</td>\n",
       "      <td>610558590278070272</td>\n",
       "      <td>0.8443</td>\n",
       "    </tr>\n",
       "    <tr>\n",
       "      <th>2151</th>\n",
       "      <td>When I try to be supportive and caring I get ignored and then I'm told I'm not being supportive or caring ¯\\_(ツ)_/¯</td>\n",
       "      <td>2015-06-13 08:44:07</td>\n",
       "      <td>0</td>\n",
       "      <td>0</td>\n",
       "      <td>609702789896372224</td>\n",
       "      <td>0.8366</td>\n",
       "    </tr>\n",
       "    <tr>\n",
       "      <th>2134</th>\n",
       "      <td>What he doesn't know (unless he stalks my twitter which I know he does) is that I have fake accounts following all his social media</td>\n",
       "      <td>2015-06-15 17:26:41</td>\n",
       "      <td>0</td>\n",
       "      <td>0</td>\n",
       "      <td>610559074820861953</td>\n",
       "      <td>0.8177</td>\n",
       "    </tr>\n",
       "    <tr>\n",
       "      <th>1510</th>\n",
       "      <td>If you don't have tweet notifications turned on for me are we really friends</td>\n",
       "      <td>2016-07-14 14:21:21</td>\n",
       "      <td>1</td>\n",
       "      <td>0</td>\n",
       "      <td>753655639465922560</td>\n",
       "      <td>0.8076</td>\n",
       "    </tr>\n",
       "  </tbody>\n",
       "</table>\n",
       "</div>"
      ],
      "text/plain": [
       "                                                                                                                                      Text  \\\n",
       "2092                                                                                                     I hate when people overuse emojis   \n",
       "2137                              Also you don't need to resort to social media 24/7 to complain about your very privileged life ¯\\_(ツ)_/¯   \n",
       "2151                   When I try to be supportive and caring I get ignored and then I'm told I'm not being supportive or caring ¯\\_(ツ)_/¯   \n",
       "2134  What he doesn't know (unless he stalks my twitter which I know he does) is that I have fake accounts following all his social media    \n",
       "1510                                                          If you don't have tweet notifications turned on for me are we really friends   \n",
       "\n",
       "                     Date  Favorites  Retweets            Tweet ID  \\\n",
       "2092  2015-06-26 13:01:35          0         0  614478624197091328   \n",
       "2137  2015-06-15 17:24:46          1         0  610558590278070272   \n",
       "2151  2015-06-13 08:44:07          0         0  609702789896372224   \n",
       "2134  2015-06-15 17:26:41          0         0  610559074820861953   \n",
       "1510  2016-07-14 14:21:21          1         0  753655639465922560   \n",
       "\n",
       "      SubtweetProbability  \n",
       "2092               0.8579  \n",
       "2137               0.8443  \n",
       "2151               0.8366  \n",
       "2134               0.8177  \n",
       "1510               0.8076  "
      ]
     },
     "execution_count": 40,
     "metadata": {},
     "output_type": "execute_result"
    }
   ],
   "source": [
    "chosen_username = choice(list(dataframes.keys()))\n",
    "dataframes[chosen_username][\"all\"].sort_values(by=\"SubtweetProbability\", ascending=False).head(5)"
   ]
  },
  {
   "cell_type": "markdown",
   "metadata": {},
   "source": [
    "#### Prepare statistics on tweets"
   ]
  },
  {
   "cell_type": "code",
   "execution_count": 41,
   "metadata": {},
   "outputs": [],
   "source": [
    "tests_df = pd.concat([df_dict[\"scores\"] for df_dict in dataframes.values()], ignore_index=True)"
   ]
  },
  {
   "cell_type": "code",
   "execution_count": 42,
   "metadata": {},
   "outputs": [
    {
     "data": {
      "text/html": [
       "<div>\n",
       "<style scoped>\n",
       "    .dataframe tbody tr th:only-of-type {\n",
       "        vertical-align: middle;\n",
       "    }\n",
       "\n",
       "    .dataframe tbody tr th {\n",
       "        vertical-align: top;\n",
       "    }\n",
       "\n",
       "    .dataframe thead th {\n",
       "        text-align: right;\n",
       "    }\n",
       "</style>\n",
       "<table border=\"1\" class=\"dataframe\">\n",
       "  <thead>\n",
       "    <tr style=\"text-align: right;\">\n",
       "      <th></th>\n",
       "      <th>adhaardesai</th>\n",
       "      <th>akrapf96</th>\n",
       "      <th>generatedtext</th>\n",
       "      <th>gothodile</th>\n",
       "      <th>juliaeberry</th>\n",
       "      <th>kayleesue</th>\n",
       "      <th>keithohara</th>\n",
       "      <th>metalgarurumonz</th>\n",
       "      <th>noahsegalgould</th>\n",
       "      <th>paul_hembree</th>\n",
       "      <th>pumpkinheadgal</th>\n",
       "      <th>scorpiodisaster</th>\n",
       "      <th>whoisleormiller</th>\n",
       "      <th>zoeterhune</th>\n",
       "    </tr>\n",
       "  </thead>\n",
       "  <tbody>\n",
       "    <tr>\n",
       "      <th>count</th>\n",
       "      <td>621.0000</td>\n",
       "      <td>2640.0000</td>\n",
       "      <td>2066.0000</td>\n",
       "      <td>3488.0000</td>\n",
       "      <td>4356.0000</td>\n",
       "      <td>1939.0000</td>\n",
       "      <td>1169.0000</td>\n",
       "      <td>638.0000</td>\n",
       "      <td>2814.0000</td>\n",
       "      <td>445.0000</td>\n",
       "      <td>772.0000</td>\n",
       "      <td>5364.0000</td>\n",
       "      <td>853.0000</td>\n",
       "      <td>1467.0000</td>\n",
       "    </tr>\n",
       "    <tr>\n",
       "      <th>mean</th>\n",
       "      <td>0.4996</td>\n",
       "      <td>0.5086</td>\n",
       "      <td>0.5438</td>\n",
       "      <td>0.5270</td>\n",
       "      <td>0.5187</td>\n",
       "      <td>0.4976</td>\n",
       "      <td>0.4388</td>\n",
       "      <td>0.5408</td>\n",
       "      <td>0.5107</td>\n",
       "      <td>0.4496</td>\n",
       "      <td>0.5375</td>\n",
       "      <td>0.5037</td>\n",
       "      <td>0.5399</td>\n",
       "      <td>0.5355</td>\n",
       "    </tr>\n",
       "    <tr>\n",
       "      <th>std</th>\n",
       "      <td>0.1059</td>\n",
       "      <td>0.1150</td>\n",
       "      <td>0.1136</td>\n",
       "      <td>0.1086</td>\n",
       "      <td>0.1023</td>\n",
       "      <td>0.1106</td>\n",
       "      <td>0.0981</td>\n",
       "      <td>0.1152</td>\n",
       "      <td>0.1089</td>\n",
       "      <td>0.0981</td>\n",
       "      <td>0.1168</td>\n",
       "      <td>0.1129</td>\n",
       "      <td>0.1131</td>\n",
       "      <td>0.1029</td>\n",
       "    </tr>\n",
       "    <tr>\n",
       "      <th>min</th>\n",
       "      <td>0.1981</td>\n",
       "      <td>0.0953</td>\n",
       "      <td>0.1266</td>\n",
       "      <td>0.1626</td>\n",
       "      <td>0.1522</td>\n",
       "      <td>0.0566</td>\n",
       "      <td>0.1497</td>\n",
       "      <td>0.1983</td>\n",
       "      <td>0.1506</td>\n",
       "      <td>0.1353</td>\n",
       "      <td>0.0750</td>\n",
       "      <td>0.0618</td>\n",
       "      <td>0.1781</td>\n",
       "      <td>0.1077</td>\n",
       "    </tr>\n",
       "    <tr>\n",
       "      <th>25%</th>\n",
       "      <td>0.4291</td>\n",
       "      <td>0.4304</td>\n",
       "      <td>0.4669</td>\n",
       "      <td>0.4538</td>\n",
       "      <td>0.4492</td>\n",
       "      <td>0.4260</td>\n",
       "      <td>0.3733</td>\n",
       "      <td>0.4700</td>\n",
       "      <td>0.4368</td>\n",
       "      <td>0.3896</td>\n",
       "      <td>0.4645</td>\n",
       "      <td>0.4279</td>\n",
       "      <td>0.4677</td>\n",
       "      <td>0.4708</td>\n",
       "    </tr>\n",
       "    <tr>\n",
       "      <th>50%</th>\n",
       "      <td>0.4971</td>\n",
       "      <td>0.5037</td>\n",
       "      <td>0.5417</td>\n",
       "      <td>0.5217</td>\n",
       "      <td>0.5180</td>\n",
       "      <td>0.4981</td>\n",
       "      <td>0.4379</td>\n",
       "      <td>0.5327</td>\n",
       "      <td>0.5061</td>\n",
       "      <td>0.4596</td>\n",
       "      <td>0.5351</td>\n",
       "      <td>0.4986</td>\n",
       "      <td>0.5410</td>\n",
       "      <td>0.5335</td>\n",
       "    </tr>\n",
       "    <tr>\n",
       "      <th>75%</th>\n",
       "      <td>0.5670</td>\n",
       "      <td>0.5847</td>\n",
       "      <td>0.6213</td>\n",
       "      <td>0.5982</td>\n",
       "      <td>0.5843</td>\n",
       "      <td>0.5669</td>\n",
       "      <td>0.5016</td>\n",
       "      <td>0.6190</td>\n",
       "      <td>0.5811</td>\n",
       "      <td>0.5117</td>\n",
       "      <td>0.6138</td>\n",
       "      <td>0.5782</td>\n",
       "      <td>0.6189</td>\n",
       "      <td>0.6028</td>\n",
       "    </tr>\n",
       "    <tr>\n",
       "      <th>max</th>\n",
       "      <td>0.8457</td>\n",
       "      <td>0.8579</td>\n",
       "      <td>0.8497</td>\n",
       "      <td>0.8749</td>\n",
       "      <td>0.8674</td>\n",
       "      <td>0.8766</td>\n",
       "      <td>0.8157</td>\n",
       "      <td>0.8498</td>\n",
       "      <td>0.8972</td>\n",
       "      <td>0.7563</td>\n",
       "      <td>0.8447</td>\n",
       "      <td>0.9091</td>\n",
       "      <td>0.8244</td>\n",
       "      <td>0.8674</td>\n",
       "    </tr>\n",
       "  </tbody>\n",
       "</table>\n",
       "</div>"
      ],
      "text/plain": [
       "       adhaardesai  akrapf96  generatedtext  gothodile  juliaeberry  \\\n",
       "count     621.0000 2640.0000      2066.0000  3488.0000    4356.0000   \n",
       "mean        0.4996    0.5086         0.5438     0.5270       0.5187   \n",
       "std         0.1059    0.1150         0.1136     0.1086       0.1023   \n",
       "min         0.1981    0.0953         0.1266     0.1626       0.1522   \n",
       "25%         0.4291    0.4304         0.4669     0.4538       0.4492   \n",
       "50%         0.4971    0.5037         0.5417     0.5217       0.5180   \n",
       "75%         0.5670    0.5847         0.6213     0.5982       0.5843   \n",
       "max         0.8457    0.8579         0.8497     0.8749       0.8674   \n",
       "\n",
       "       kayleesue  keithohara  metalgarurumonz  noahsegalgould  paul_hembree  \\\n",
       "count  1939.0000   1169.0000         638.0000       2814.0000      445.0000   \n",
       "mean      0.4976      0.4388           0.5408          0.5107        0.4496   \n",
       "std       0.1106      0.0981           0.1152          0.1089        0.0981   \n",
       "min       0.0566      0.1497           0.1983          0.1506        0.1353   \n",
       "25%       0.4260      0.3733           0.4700          0.4368        0.3896   \n",
       "50%       0.4981      0.4379           0.5327          0.5061        0.4596   \n",
       "75%       0.5669      0.5016           0.6190          0.5811        0.5117   \n",
       "max       0.8766      0.8157           0.8498          0.8972        0.7563   \n",
       "\n",
       "       pumpkinheadgal  scorpiodisaster  whoisleormiller  zoeterhune  \n",
       "count        772.0000        5364.0000         853.0000   1467.0000  \n",
       "mean           0.5375           0.5037           0.5399      0.5355  \n",
       "std            0.1168           0.1129           0.1131      0.1029  \n",
       "min            0.0750           0.0618           0.1781      0.1077  \n",
       "25%            0.4645           0.4279           0.4677      0.4708  \n",
       "50%            0.5351           0.4986           0.5410      0.5335  \n",
       "75%            0.6138           0.5782           0.6189      0.6028  \n",
       "max            0.8447           0.9091           0.8244      0.8674  "
      ]
     },
     "execution_count": 42,
     "metadata": {},
     "output_type": "execute_result"
    }
   ],
   "source": [
    "tests_df.describe()"
   ]
  },
  {
   "cell_type": "markdown",
   "metadata": {},
   "source": [
    "#### Plot a histogram with three random users"
   ]
  },
  {
   "cell_type": "code",
   "execution_count": 43,
   "metadata": {},
   "outputs": [
    {
     "data": {
      "image/png": "[encoded data removed]",
      "text/plain": [
       "<Figure size 1152x648 with 1 Axes>"
      ]
     },
     "metadata": {},
     "output_type": "display_data"
    }
   ],
   "source": [
    "random_choices = sample(list(dataframes.values()), 3)\n",
    "scores = [df_dict[\"scores\"][df_dict[\"scores\"].columns[0]].tolist() \n",
    "          for df_dict in random_choices]\n",
    "\n",
    "fig = plt.figure(figsize=(16, 9))\n",
    "ax = fig.add_subplot(111)\n",
    "\n",
    "n, bins, patches = ax.hist(scores, \n",
    "                           bins=\"scott\",\n",
    "                           color=[\"#256EFF\", \"#46237A\", \"#3DDC97\"],\n",
    "                           density=True, \n",
    "                           label=[\"User 1\", \"User 2\", \"User 3\"],\n",
    "                           alpha=0.75)\n",
    "\n",
    "stats = [df_dict[\"stats\"][df_dict[\"stats\"].columns[0]].tolist() \n",
    "         for df_dict in random_choices]\n",
    "\n",
    "line_1 = scipy.stats.norm.pdf(bins, stats[0][1], stats[0][2])\n",
    "ax.plot(bins, line_1, \"--\", color=\"#256EFF\", linewidth=2)\n",
    "\n",
    "line_2 = scipy.stats.norm.pdf(bins, stats[1][1], stats[1][2])\n",
    "ax.plot(bins, line_2, \"--\", color=\"#46237A\", linewidth=2)\n",
    "\n",
    "line_3 = scipy.stats.norm.pdf(bins, stats[2][1], stats[2][2])\n",
    "ax.plot(bins, line_3, \"--\", color=\"#3DDC97\", linewidth=2)\n",
    "\n",
    "ax.set_xticks([float(x/10) for x in range(11)], minor=False)\n",
    "ax.set_title(\"Distribution of Subtweet Probabilities In User Accounts\", fontsize=18)\n",
    "ax.set_xlabel(\"Probability That Tweet is a Subtweet\", fontsize=18)\n",
    "ax.set_ylabel(\"Percent of Tweets with That Probability\", fontsize=18)\n",
    "\n",
    "ax.legend()\n",
    "\n",
    "plt.show()"
   ]
  },
  {
   "cell_type": "markdown",
   "metadata": {},
   "source": [
    "#### Plot a histogram with all of them\n",
    "#### First, get some statistics"
   ]
  },
  {
   "cell_type": "code",
   "execution_count": 44,
   "metadata": {},
   "outputs": [],
   "source": [
    "new_tests_df = pd.concat([df_dict[\"scores\"].rename(columns={df_dict[\"scores\"].columns[0]:\"SubtweetProbability\"})\n",
    "                          for df_dict in dataframes.values()], ignore_index=True)\n",
    "\n",
    "new_tests_df_stats = new_tests_df.describe()"
   ]
  },
  {
   "cell_type": "markdown",
   "metadata": {},
   "source": [
    "#### Then view them"
   ]
  },
  {
   "cell_type": "code",
   "execution_count": 45,
   "metadata": {},
   "outputs": [
    {
     "data": {
      "text/html": [
       "<div>\n",
       "<style scoped>\n",
       "    .dataframe tbody tr th:only-of-type {\n",
       "        vertical-align: middle;\n",
       "    }\n",
       "\n",
       "    .dataframe tbody tr th {\n",
       "        vertical-align: top;\n",
       "    }\n",
       "\n",
       "    .dataframe thead th {\n",
       "        text-align: right;\n",
       "    }\n",
       "</style>\n",
       "<table border=\"1\" class=\"dataframe\">\n",
       "  <thead>\n",
       "    <tr style=\"text-align: right;\">\n",
       "      <th></th>\n",
       "      <th>SubtweetProbability</th>\n",
       "    </tr>\n",
       "  </thead>\n",
       "  <tbody>\n",
       "    <tr>\n",
       "      <th>count</th>\n",
       "      <td>28632.0000</td>\n",
       "    </tr>\n",
       "    <tr>\n",
       "      <th>mean</th>\n",
       "      <td>0.5133</td>\n",
       "    </tr>\n",
       "    <tr>\n",
       "      <th>std</th>\n",
       "      <td>0.1115</td>\n",
       "    </tr>\n",
       "    <tr>\n",
       "      <th>min</th>\n",
       "      <td>0.0566</td>\n",
       "    </tr>\n",
       "    <tr>\n",
       "      <th>25%</th>\n",
       "      <td>0.4385</td>\n",
       "    </tr>\n",
       "    <tr>\n",
       "      <th>50%</th>\n",
       "      <td>0.5093</td>\n",
       "    </tr>\n",
       "    <tr>\n",
       "      <th>75%</th>\n",
       "      <td>0.5860</td>\n",
       "    </tr>\n",
       "    <tr>\n",
       "      <th>max</th>\n",
       "      <td>0.9091</td>\n",
       "    </tr>\n",
       "  </tbody>\n",
       "</table>\n",
       "</div>"
      ],
      "text/plain": [
       "       SubtweetProbability\n",
       "count           28632.0000\n",
       "mean                0.5133\n",
       "std                 0.1115\n",
       "min                 0.0566\n",
       "25%                 0.4385\n",
       "50%                 0.5093\n",
       "75%                 0.5860\n",
       "max                 0.9091"
      ]
     },
     "execution_count": 45,
     "metadata": {},
     "output_type": "execute_result"
    }
   ],
   "source": [
    "new_tests_df_stats"
   ]
  },
  {
   "cell_type": "markdown",
   "metadata": {},
   "source": [
    "#### Now plot"
   ]
  },
  {
   "cell_type": "code",
   "execution_count": 46,
   "metadata": {},
   "outputs": [
    {
     "name": "stderr",
     "output_type": "stream",
     "text": [
      "No handles with labels found to put in legend.\n"
     ]
    },
    {
     "data": {
      "image/png": "[encoded data removed]",
      "text/plain": [
       "<Figure size 1152x648 with 1 Axes>"
      ]
     },
     "metadata": {},
     "output_type": "display_data"
    }
   ],
   "source": [
    "fig = plt.figure(figsize=(16, 9))\n",
    "ax = fig.add_subplot(111)\n",
    "\n",
    "n, bins, patches = ax.hist(new_tests_df[\"SubtweetProbability\"].tolist(), \n",
    "                           bins=\"scott\",\n",
    "                           color=\"#983B59\",\n",
    "                           edgecolor=\"black\", \n",
    "                           density=True, \n",
    "                           alpha=0.75)\n",
    "\n",
    "line = scipy.stats.norm.pdf(bins, new_tests_df_stats[\"SubtweetProbability\"][1], \n",
    "                              new_tests_df_stats[\"SubtweetProbability\"][2])\n",
    "\n",
    "ax.plot(bins, line, \"--\", color=\"#983B59\", linewidth=2)\n",
    "\n",
    "\n",
    "ax.set_xticks([float(x/10) for x in range(11)], minor=False)\n",
    "ax.set_title(\"Distribution of Subtweet Probabilities In All User Accounts\", fontsize=18)\n",
    "ax.set_xlabel(\"Probability That Tweet is a Subtweet\", fontsize=18)\n",
    "ax.set_ylabel(\"Percent of Tweets with That Probability\", fontsize=18)\n",
    "\n",
    "ax.legend()\n",
    "\n",
    "plt.show()"
   ]
  },
  {
   "cell_type": "markdown",
   "metadata": {},
   "source": [
    "#### Statisitics on training data"
   ]
  },
  {
   "cell_type": "markdown",
   "metadata": {},
   "source": [
    "#### Remove mentions of usernames for these statistics"
   ]
  },
  {
   "cell_type": "code",
   "execution_count": 47,
   "metadata": {},
   "outputs": [],
   "source": [
    "training_data = [(tweet[0]\n",
    "                  .replace(\"➊\", \"\")\n",
    "                  .replace(\"➋\", \"\")\n",
    "                  .replace(\"➌\", \"\")) for tweet in training_data]"
   ]
  },
  {
   "cell_type": "markdown",
   "metadata": {},
   "source": [
    "#### Lengths"
   ]
  },
  {
   "cell_type": "code",
   "execution_count": 48,
   "metadata": {},
   "outputs": [],
   "source": [
    "length_data = [len(tweet) for tweet in training_data]"
   ]
  },
  {
   "cell_type": "code",
   "execution_count": 49,
   "metadata": {},
   "outputs": [],
   "source": [
    "length_data_for_stats = pd.DataFrame({\"Length\": length_data, \"Tweet\": training_data})"
   ]
  },
  {
   "cell_type": "code",
   "execution_count": 50,
   "metadata": {},
   "outputs": [],
   "source": [
    "# length_data_for_stats = length_data_for_stats[length_data_for_stats[\"Length\"] <= 280]  "
   ]
  },
  {
   "cell_type": "code",
   "execution_count": 51,
   "metadata": {},
   "outputs": [],
   "source": [
    "# length_data_for_stats = length_data_for_stats[length_data_for_stats[\"Length\"] >= 5]"
   ]
  },
  {
   "cell_type": "code",
   "execution_count": 52,
   "metadata": {},
   "outputs": [],
   "source": [
    "length_data = length_data_for_stats.Length.tolist()"
   ]
  },
  {
   "cell_type": "markdown",
   "metadata": {},
   "source": [
    "#### Top 5 longest tweets"
   ]
  },
  {
   "cell_type": "code",
   "execution_count": 53,
   "metadata": {},
   "outputs": [
    {
     "data": {
      "text/html": [
       "<div>\n",
       "<style scoped>\n",
       "    .dataframe tbody tr th:only-of-type {\n",
       "        vertical-align: middle;\n",
       "    }\n",
       "\n",
       "    .dataframe tbody tr th {\n",
       "        vertical-align: top;\n",
       "    }\n",
       "\n",
       "    .dataframe thead th {\n",
       "        text-align: right;\n",
       "    }\n",
       "</style>\n",
       "<table border=\"1\" class=\"dataframe\">\n",
       "  <thead>\n",
       "    <tr style=\"text-align: right;\">\n",
       "      <th></th>\n",
       "      <th>Length</th>\n",
       "      <th>Tweet</th>\n",
       "    </tr>\n",
       "  </thead>\n",
       "  <tbody>\n",
       "    <tr>\n",
       "      <th>8887</th>\n",
       "      <td>281</td>\n",
       "      <td>This Tweet does not endorse the use of Nazi Symbols in any form! I think the image which has been published on social media and MSM is a day or two old. It conjures up strong emotions for many people, My question is simple what meaning do you think is being conveyed by the image?</td>\n",
       "    </tr>\n",
       "    <tr>\n",
       "      <th>2198</th>\n",
       "      <td>281</td>\n",
       "      <td>I need to learn how to do this. I ask \"how can I help\" a lot because I genuinely want to make things better for friends , but this *can* put a burden back upon those who are suffering. Sometimes it may be best to just have exuberant and fearless compassion the same way a pet does</td>\n",
       "    </tr>\n",
       "    <tr>\n",
       "      <th>1531</th>\n",
       "      <td>281</td>\n",
       "      <td>hi! I'm not normally v personal like this and I probably won't be at least for a v long time but I thought I'd share this \\nwhile I was scrolling on Twitter today I had like a sudden impulse to just dump all my thoughts about what id been reading and seeing and so far it actually-</td>\n",
       "    </tr>\n",
       "    <tr>\n",
       "      <th>10533</th>\n",
       "      <td>281</td>\n",
       "      <td>Some people are undecided about testing on animals. Understandable. There's so much propaganda and secrecy about it. Here's a quick test though, &amp; you're answer should tell you. What would you do if some man came to your house &amp; squirted disinfectant in your beautiful dog's eyes?</td>\n",
       "    </tr>\n",
       "    <tr>\n",
       "      <th>10521</th>\n",
       "      <td>281</td>\n",
       "      <td>Enthralled by Raja Shiv Chhatrapati, a well mounted magnum opus on life of the Maratha warrior at Red Fort. Vividly brought out his philosophies, struggles, inspiration from mother Jijayee &amp; penchant for gender equality through well conceived music, dance &amp; dialogues. A must see!</td>\n",
       "    </tr>\n",
       "  </tbody>\n",
       "</table>\n",
       "</div>"
      ],
      "text/plain": [
       "       Length  \\\n",
       "8887      281   \n",
       "2198      281   \n",
       "1531      281   \n",
       "10533     281   \n",
       "10521     281   \n",
       "\n",
       "                                                                                                                                                                                                                                                                                            Tweet  \n",
       "8887    This Tweet does not endorse the use of Nazi Symbols in any form! I think the image which has been published on social media and MSM is a day or two old. It conjures up strong emotions for many people, My question is simple what meaning do you think is being conveyed by the image?   \n",
       "2198    I need to learn how to do this. I ask \"how can I help\" a lot because I genuinely want to make things better for friends , but this *can* put a burden back upon those who are suffering. Sometimes it may be best to just have exuberant and fearless compassion the same way a pet does   \n",
       "1531   hi! I'm not normally v personal like this and I probably won't be at least for a v long time but I thought I'd share this \\nwhile I was scrolling on Twitter today I had like a sudden impulse to just dump all my thoughts about what id been reading and seeing and so far it actually-   \n",
       "10533   Some people are undecided about testing on animals. Understandable. There's so much propaganda and secrecy about it. Here's a quick test though, & you're answer should tell you. What would you do if some man came to your house & squirted disinfectant in your beautiful dog's eyes?   \n",
       "10521   Enthralled by Raja Shiv Chhatrapati, a well mounted magnum opus on life of the Maratha warrior at Red Fort. Vividly brought out his philosophies, struggles, inspiration from mother Jijayee & penchant for gender equality through well conceived music, dance & dialogues. A must see!   "
      ]
     },
     "execution_count": 53,
     "metadata": {},
     "output_type": "execute_result"
    }
   ],
   "source": [
    "length_data_for_stats.sort_values(by=\"Length\", ascending=False).head()"
   ]
  },
  {
   "cell_type": "markdown",
   "metadata": {},
   "source": [
    "#### Top 5 shortest tweets"
   ]
  },
  {
   "cell_type": "code",
   "execution_count": 54,
   "metadata": {},
   "outputs": [
    {
     "data": {
      "text/html": [
       "<div>\n",
       "<style scoped>\n",
       "    .dataframe tbody tr th:only-of-type {\n",
       "        vertical-align: middle;\n",
       "    }\n",
       "\n",
       "    .dataframe tbody tr th {\n",
       "        vertical-align: top;\n",
       "    }\n",
       "\n",
       "    .dataframe thead th {\n",
       "        text-align: right;\n",
       "    }\n",
       "</style>\n",
       "<table border=\"1\" class=\"dataframe\">\n",
       "  <thead>\n",
       "    <tr style=\"text-align: right;\">\n",
       "      <th></th>\n",
       "      <th>Length</th>\n",
       "      <th>Tweet</th>\n",
       "    </tr>\n",
       "  </thead>\n",
       "  <tbody>\n",
       "    <tr>\n",
       "      <th>7699</th>\n",
       "      <td>1</td>\n",
       "      <td>A</td>\n",
       "    </tr>\n",
       "    <tr>\n",
       "      <th>3473</th>\n",
       "      <td>2</td>\n",
       "      <td>no</td>\n",
       "    </tr>\n",
       "    <tr>\n",
       "      <th>5896</th>\n",
       "      <td>2</td>\n",
       "      <td>uh</td>\n",
       "    </tr>\n",
       "    <tr>\n",
       "      <th>6676</th>\n",
       "      <td>2</td>\n",
       "      <td>i-</td>\n",
       "    </tr>\n",
       "    <tr>\n",
       "      <th>2038</th>\n",
       "      <td>2</td>\n",
       "      <td>Ha</td>\n",
       "    </tr>\n",
       "  </tbody>\n",
       "</table>\n",
       "</div>"
      ],
      "text/plain": [
       "      Length Tweet\n",
       "7699       1     A\n",
       "3473       2    no\n",
       "5896       2    uh\n",
       "6676       2    i-\n",
       "2038       2    Ha"
      ]
     },
     "execution_count": 54,
     "metadata": {},
     "output_type": "execute_result"
    }
   ],
   "source": [
    "length_data_for_stats.sort_values(by=\"Length\", ascending=True).head()"
   ]
  },
  {
   "cell_type": "markdown",
   "metadata": {},
   "source": [
    "#### Tweet length statistics"
   ]
  },
  {
   "cell_type": "code",
   "execution_count": 55,
   "metadata": {},
   "outputs": [
    {
     "data": {
      "text/html": [
       "<div>\n",
       "<style scoped>\n",
       "    .dataframe tbody tr th:only-of-type {\n",
       "        vertical-align: middle;\n",
       "    }\n",
       "\n",
       "    .dataframe tbody tr th {\n",
       "        vertical-align: top;\n",
       "    }\n",
       "\n",
       "    .dataframe thead th {\n",
       "        text-align: right;\n",
       "    }\n",
       "</style>\n",
       "<table border=\"1\" class=\"dataframe\">\n",
       "  <thead>\n",
       "    <tr style=\"text-align: right;\">\n",
       "      <th></th>\n",
       "      <th>Length</th>\n",
       "    </tr>\n",
       "  </thead>\n",
       "  <tbody>\n",
       "    <tr>\n",
       "      <th>count</th>\n",
       "      <td>15674.0000</td>\n",
       "    </tr>\n",
       "    <tr>\n",
       "      <th>mean</th>\n",
       "      <td>106.8089</td>\n",
       "    </tr>\n",
       "    <tr>\n",
       "      <th>std</th>\n",
       "      <td>73.8680</td>\n",
       "    </tr>\n",
       "    <tr>\n",
       "      <th>min</th>\n",
       "      <td>1.0000</td>\n",
       "    </tr>\n",
       "    <tr>\n",
       "      <th>25%</th>\n",
       "      <td>48.0000</td>\n",
       "    </tr>\n",
       "    <tr>\n",
       "      <th>50%</th>\n",
       "      <td>87.0000</td>\n",
       "    </tr>\n",
       "    <tr>\n",
       "      <th>75%</th>\n",
       "      <td>150.0000</td>\n",
       "    </tr>\n",
       "    <tr>\n",
       "      <th>max</th>\n",
       "      <td>281.0000</td>\n",
       "    </tr>\n",
       "  </tbody>\n",
       "</table>\n",
       "</div>"
      ],
      "text/plain": [
       "          Length\n",
       "count 15674.0000\n",
       "mean    106.8089\n",
       "std      73.8680\n",
       "min       1.0000\n",
       "25%      48.0000\n",
       "50%      87.0000\n",
       "75%     150.0000\n",
       "max     281.0000"
      ]
     },
     "execution_count": 55,
     "metadata": {},
     "output_type": "execute_result"
    }
   ],
   "source": [
    "length_data_for_stats.describe()"
   ]
  },
  {
   "cell_type": "markdown",
   "metadata": {},
   "source": [
    "#### Punctuation"
   ]
  },
  {
   "cell_type": "code",
   "execution_count": 56,
   "metadata": {},
   "outputs": [],
   "source": [
    "punctuation_data = [len(set(punctuation).intersection(set(tweet))) for tweet in training_data]"
   ]
  },
  {
   "cell_type": "code",
   "execution_count": 57,
   "metadata": {},
   "outputs": [],
   "source": [
    "punctuation_data_for_stats = pd.DataFrame({\"Punctuation\": punctuation_data, \"Tweet\": training_data})"
   ]
  },
  {
   "cell_type": "markdown",
   "metadata": {},
   "source": [
    "#### Top 5 most punctuated tweets"
   ]
  },
  {
   "cell_type": "code",
   "execution_count": 58,
   "metadata": {},
   "outputs": [
    {
     "data": {
      "text/html": [
       "<div>\n",
       "<style scoped>\n",
       "    .dataframe tbody tr th:only-of-type {\n",
       "        vertical-align: middle;\n",
       "    }\n",
       "\n",
       "    .dataframe tbody tr th {\n",
       "        vertical-align: top;\n",
       "    }\n",
       "\n",
       "    .dataframe thead th {\n",
       "        text-align: right;\n",
       "    }\n",
       "</style>\n",
       "<table border=\"1\" class=\"dataframe\">\n",
       "  <thead>\n",
       "    <tr style=\"text-align: right;\">\n",
       "      <th></th>\n",
       "      <th>Punctuation</th>\n",
       "      <th>Tweet</th>\n",
       "    </tr>\n",
       "  </thead>\n",
       "  <tbody>\n",
       "    <tr>\n",
       "      <th>8957</th>\n",
       "      <td>11</td>\n",
       "      <td>Going to go ahead and crown myself the absolute emperor of finding things on menus that sound interesting, deciding I would like to try them, then being told \"I'm sorry sir, that's actually not available...\"\\n\\n[ then why the @#$% is it ON YOUR MENUUUUUUUU-- ]</td>\n",
       "    </tr>\n",
       "    <tr>\n",
       "      <th>6725</th>\n",
       "      <td>9</td>\n",
       "      <td>4-yo: DADDEEEEEE!? LET'S PLAY!\\nMe: Ok, baby. \\n4yo: you play w/ her. put a dress on her DADDEEEEEE. \\nMe: Ok. *puts doll in dollhouse*\\n4yo: SHE DOESN'T GO THERE!!</td>\n",
       "    </tr>\n",
       "    <tr>\n",
       "      <th>11718</th>\n",
       "      <td>9</td>\n",
       "      <td>Self-employed people: have you ever turned to social media to call out a client who is many weeks/months delinquent on a payment? \\n(Obviously, you're probably burning a bridge with that move, but if they don't pay...)</td>\n",
       "    </tr>\n",
       "    <tr>\n",
       "      <th>13365</th>\n",
       "      <td>9</td>\n",
       "      <td>Billboard Hot 100: (-3) Tell Me You Love Me,  [19 weeks]. *peak: *</td>\n",
       "    </tr>\n",
       "    <tr>\n",
       "      <th>11845</th>\n",
       "      <td>9</td>\n",
       "      <td>Tucker Carlson Tonight &amp; TFW you're asking about America\\nbut you're scolded it's really about Israel ...\\n \\nTucker: \"What is the American national security interest ... in Syria?\"\\n\\nSen. Wicker(R): \"Well, if you care about Israel ...\" \\n\\nThat was the exact question &amp; answer\\nShocking</td>\n",
       "    </tr>\n",
       "  </tbody>\n",
       "</table>\n",
       "</div>"
      ],
      "text/plain": [
       "       Punctuation  \\\n",
       "8957            11   \n",
       "6725             9   \n",
       "11718            9   \n",
       "13365            9   \n",
       "11845            9   \n",
       "\n",
       "                                                                                                                                                                                                                                                                                                   Tweet  \n",
       "8957                                Going to go ahead and crown myself the absolute emperor of finding things on menus that sound interesting, deciding I would like to try them, then being told \"I'm sorry sir, that's actually not available...\"\\n\\n[ then why the @#$% is it ON YOUR MENUUUUUUUU-- ]  \n",
       "6725                                                                                                                                4-yo: DADDEEEEEE!? LET'S PLAY!\\nMe: Ok, baby. \\n4yo: you play w/ her. put a dress on her DADDEEEEEE. \\nMe: Ok. *puts doll in dollhouse*\\n4yo: SHE DOESN'T GO THERE!!  \n",
       "11718                                                                         Self-employed people: have you ever turned to social media to call out a client who is many weeks/months delinquent on a payment? \\n(Obviously, you're probably burning a bridge with that move, but if they don't pay...)  \n",
       "13365                                                                                                                                                                                                                                 Billboard Hot 100: (-3) Tell Me You Love Me,  [19 weeks]. *peak: *  \n",
       "11845  Tucker Carlson Tonight & TFW you're asking about America\\nbut you're scolded it's really about Israel ...\\n \\nTucker: \"What is the American national security interest ... in Syria?\"\\n\\nSen. Wicker(R): \"Well, if you care about Israel ...\" \\n\\nThat was the exact question & answer\\nShocking   "
      ]
     },
     "execution_count": 58,
     "metadata": {},
     "output_type": "execute_result"
    }
   ],
   "source": [
    "punctuation_data_for_stats.sort_values(by=\"Punctuation\", ascending=False).head()"
   ]
  },
  {
   "cell_type": "markdown",
   "metadata": {},
   "source": [
    "#### Tweets punctuation statistics"
   ]
  },
  {
   "cell_type": "code",
   "execution_count": 59,
   "metadata": {},
   "outputs": [
    {
     "data": {
      "text/html": [
       "<div>\n",
       "<style scoped>\n",
       "    .dataframe tbody tr th:only-of-type {\n",
       "        vertical-align: middle;\n",
       "    }\n",
       "\n",
       "    .dataframe tbody tr th {\n",
       "        vertical-align: top;\n",
       "    }\n",
       "\n",
       "    .dataframe thead th {\n",
       "        text-align: right;\n",
       "    }\n",
       "</style>\n",
       "<table border=\"1\" class=\"dataframe\">\n",
       "  <thead>\n",
       "    <tr style=\"text-align: right;\">\n",
       "      <th></th>\n",
       "      <th>Punctuation</th>\n",
       "    </tr>\n",
       "  </thead>\n",
       "  <tbody>\n",
       "    <tr>\n",
       "      <th>count</th>\n",
       "      <td>15674.0000</td>\n",
       "    </tr>\n",
       "    <tr>\n",
       "      <th>mean</th>\n",
       "      <td>1.9168</td>\n",
       "    </tr>\n",
       "    <tr>\n",
       "      <th>std</th>\n",
       "      <td>1.5787</td>\n",
       "    </tr>\n",
       "    <tr>\n",
       "      <th>min</th>\n",
       "      <td>0.0000</td>\n",
       "    </tr>\n",
       "    <tr>\n",
       "      <th>25%</th>\n",
       "      <td>1.0000</td>\n",
       "    </tr>\n",
       "    <tr>\n",
       "      <th>50%</th>\n",
       "      <td>2.0000</td>\n",
       "    </tr>\n",
       "    <tr>\n",
       "      <th>75%</th>\n",
       "      <td>3.0000</td>\n",
       "    </tr>\n",
       "    <tr>\n",
       "      <th>max</th>\n",
       "      <td>11.0000</td>\n",
       "    </tr>\n",
       "  </tbody>\n",
       "</table>\n",
       "</div>"
      ],
      "text/plain": [
       "       Punctuation\n",
       "count   15674.0000\n",
       "mean        1.9168\n",
       "std         1.5787\n",
       "min         0.0000\n",
       "25%         1.0000\n",
       "50%         2.0000\n",
       "75%         3.0000\n",
       "max        11.0000"
      ]
     },
     "execution_count": 59,
     "metadata": {},
     "output_type": "execute_result"
    }
   ],
   "source": [
    "punctuation_data_for_stats.describe()"
   ]
  },
  {
   "cell_type": "markdown",
   "metadata": {},
   "source": [
    "#### Stop words"
   ]
  },
  {
   "cell_type": "code",
   "execution_count": 60,
   "metadata": {},
   "outputs": [],
   "source": [
    "stop_words_data = [len(set(stopwords.words(\"english\")).intersection(set(tweet.lower()))) \n",
    "                   for tweet in training_data]"
   ]
  },
  {
   "cell_type": "code",
   "execution_count": 61,
   "metadata": {},
   "outputs": [],
   "source": [
    "stop_words_data_for_stats = pd.DataFrame({\"Stop words\": stop_words_data, \"Tweet\": training_data})"
   ]
  },
  {
   "cell_type": "markdown",
   "metadata": {},
   "source": [
    "#### Top 5 tweets with most stop words"
   ]
  },
  {
   "cell_type": "code",
   "execution_count": 62,
   "metadata": {},
   "outputs": [
    {
     "data": {
      "text/html": [
       "<div>\n",
       "<style scoped>\n",
       "    .dataframe tbody tr th:only-of-type {\n",
       "        vertical-align: middle;\n",
       "    }\n",
       "\n",
       "    .dataframe tbody tr th {\n",
       "        vertical-align: top;\n",
       "    }\n",
       "\n",
       "    .dataframe thead th {\n",
       "        text-align: right;\n",
       "    }\n",
       "</style>\n",
       "<table border=\"1\" class=\"dataframe\">\n",
       "  <thead>\n",
       "    <tr style=\"text-align: right;\">\n",
       "      <th></th>\n",
       "      <th>Stop words</th>\n",
       "      <th>Tweet</th>\n",
       "    </tr>\n",
       "  </thead>\n",
       "  <tbody>\n",
       "    <tr>\n",
       "      <th>0</th>\n",
       "      <td>8</td>\n",
       "      <td>I don't yet have adequate words to do so, but someday I wanna write about the beautiful dance which happens in Google docs between a writer &amp; a good editor working simultaneously towards a deadline. When it's working, it's a beautiful dance—though no one really sees it.</td>\n",
       "    </tr>\n",
       "    <tr>\n",
       "      <th>9063</th>\n",
       "      <td>8</td>\n",
       "      <td>Honestly yea i fucked up but all of you are trash asf and your opinions mean nothing to me because mother fucker i can fix shit but yall are to close minded to see.</td>\n",
       "    </tr>\n",
       "    <tr>\n",
       "      <th>9035</th>\n",
       "      <td>8</td>\n",
       "      <td>The role of DAG Rod Rosenstein will be an Oscar winner in the future film about the Trump presidency. I'd like the story of the first few months to be told through the eyes of the bewildered Sean Spicer.</td>\n",
       "    </tr>\n",
       "    <tr>\n",
       "      <th>9038</th>\n",
       "      <td>8</td>\n",
       "      <td>Done watching 'Hacksaw Ridge'. If there's one thing I learned from that movie, it is simply, Have Faith in God.</td>\n",
       "    </tr>\n",
       "    <tr>\n",
       "      <th>9039</th>\n",
       "      <td>8</td>\n",
       "      <td>I feel people who can't celebrate or at the very least respect Cardi B's success have never watched the grind from the ground up. They can't understand that her work ethic has gotten her where she is now. You don't have to stand for what's she's about but she's worked for it</td>\n",
       "    </tr>\n",
       "  </tbody>\n",
       "</table>\n",
       "</div>"
      ],
      "text/plain": [
       "      Stop words  \\\n",
       "0              8   \n",
       "9063           8   \n",
       "9035           8   \n",
       "9038           8   \n",
       "9039           8   \n",
       "\n",
       "                                                                                                                                                                                                                                                                                    Tweet  \n",
       "0          I don't yet have adequate words to do so, but someday I wanna write about the beautiful dance which happens in Google docs between a writer & a good editor working simultaneously towards a deadline. When it's working, it's a beautiful dance—though no one really sees it.  \n",
       "9063                                                                                                                 Honestly yea i fucked up but all of you are trash asf and your opinions mean nothing to me because mother fucker i can fix shit but yall are to close minded to see.  \n",
       "9035                                                                          The role of DAG Rod Rosenstein will be an Oscar winner in the future film about the Trump presidency. I'd like the story of the first few months to be told through the eyes of the bewildered Sean Spicer.  \n",
       "9038                                                                                                                                                                      Done watching 'Hacksaw Ridge'. If there's one thing I learned from that movie, it is simply, Have Faith in God.  \n",
       "9039  I feel people who can't celebrate or at the very least respect Cardi B's success have never watched the grind from the ground up. They can't understand that her work ethic has gotten her where she is now. You don't have to stand for what's she's about but she's worked for it  "
      ]
     },
     "execution_count": 62,
     "metadata": {},
     "output_type": "execute_result"
    }
   ],
   "source": [
    "stop_words_data_for_stats.sort_values(by=\"Stop words\", ascending=False).head()"
   ]
  },
  {
   "cell_type": "markdown",
   "metadata": {},
   "source": [
    "#### Top 5 tweets with fewest stop words"
   ]
  },
  {
   "cell_type": "code",
   "execution_count": 63,
   "metadata": {},
   "outputs": [
    {
     "data": {
      "text/html": [
       "<div>\n",
       "<style scoped>\n",
       "    .dataframe tbody tr th:only-of-type {\n",
       "        vertical-align: middle;\n",
       "    }\n",
       "\n",
       "    .dataframe tbody tr th {\n",
       "        vertical-align: top;\n",
       "    }\n",
       "\n",
       "    .dataframe thead th {\n",
       "        text-align: right;\n",
       "    }\n",
       "</style>\n",
       "<table border=\"1\" class=\"dataframe\">\n",
       "  <thead>\n",
       "    <tr style=\"text-align: right;\">\n",
       "      <th></th>\n",
       "      <th>Stop words</th>\n",
       "      <th>Tweet</th>\n",
       "    </tr>\n",
       "  </thead>\n",
       "  <tbody>\n",
       "    <tr>\n",
       "      <th>3632</th>\n",
       "      <td>0</td>\n",
       "      <td>...</td>\n",
       "    </tr>\n",
       "    <tr>\n",
       "      <th>8290</th>\n",
       "      <td>0</td>\n",
       "      <td>24</td>\n",
       "    </tr>\n",
       "    <tr>\n",
       "      <th>11925</th>\n",
       "      <td>0</td>\n",
       "      <td>FUCK</td>\n",
       "    </tr>\n",
       "    <tr>\n",
       "      <th>10940</th>\n",
       "      <td>0</td>\n",
       "      <td>78 ... !</td>\n",
       "    </tr>\n",
       "    <tr>\n",
       "      <th>1796</th>\n",
       "      <td>0</td>\n",
       "      <td>fuck u</td>\n",
       "    </tr>\n",
       "  </tbody>\n",
       "</table>\n",
       "</div>"
      ],
      "text/plain": [
       "       Stop words      Tweet\n",
       "3632            0       ... \n",
       "8290            0        24 \n",
       "11925           0      FUCK \n",
       "10940           0  78 ... ! \n",
       "1796            0    fuck u "
      ]
     },
     "execution_count": 63,
     "metadata": {},
     "output_type": "execute_result"
    }
   ],
   "source": [
    "stop_words_data_for_stats.sort_values(by=\"Stop words\", ascending=True).head()"
   ]
  },
  {
   "cell_type": "markdown",
   "metadata": {},
   "source": [
    "#### Tweets stop words statistics"
   ]
  },
  {
   "cell_type": "code",
   "execution_count": 64,
   "metadata": {},
   "outputs": [
    {
     "data": {
      "text/html": [
       "<div>\n",
       "<style scoped>\n",
       "    .dataframe tbody tr th:only-of-type {\n",
       "        vertical-align: middle;\n",
       "    }\n",
       "\n",
       "    .dataframe tbody tr th {\n",
       "        vertical-align: top;\n",
       "    }\n",
       "\n",
       "    .dataframe thead th {\n",
       "        text-align: right;\n",
       "    }\n",
       "</style>\n",
       "<table border=\"1\" class=\"dataframe\">\n",
       "  <thead>\n",
       "    <tr style=\"text-align: right;\">\n",
       "      <th></th>\n",
       "      <th>Stop words</th>\n",
       "    </tr>\n",
       "  </thead>\n",
       "  <tbody>\n",
       "    <tr>\n",
       "      <th>count</th>\n",
       "      <td>15674.0000</td>\n",
       "    </tr>\n",
       "    <tr>\n",
       "      <th>mean</th>\n",
       "      <td>7.1515</td>\n",
       "    </tr>\n",
       "    <tr>\n",
       "      <th>std</th>\n",
       "      <td>1.3116</td>\n",
       "    </tr>\n",
       "    <tr>\n",
       "      <th>min</th>\n",
       "      <td>0.0000</td>\n",
       "    </tr>\n",
       "    <tr>\n",
       "      <th>25%</th>\n",
       "      <td>7.0000</td>\n",
       "    </tr>\n",
       "    <tr>\n",
       "      <th>50%</th>\n",
       "      <td>8.0000</td>\n",
       "    </tr>\n",
       "    <tr>\n",
       "      <th>75%</th>\n",
       "      <td>8.0000</td>\n",
       "    </tr>\n",
       "    <tr>\n",
       "      <th>max</th>\n",
       "      <td>8.0000</td>\n",
       "    </tr>\n",
       "  </tbody>\n",
       "</table>\n",
       "</div>"
      ],
      "text/plain": [
       "       Stop words\n",
       "count  15674.0000\n",
       "mean       7.1515\n",
       "std        1.3116\n",
       "min        0.0000\n",
       "25%        7.0000\n",
       "50%        8.0000\n",
       "75%        8.0000\n",
       "max        8.0000"
      ]
     },
     "execution_count": 64,
     "metadata": {},
     "output_type": "execute_result"
    }
   ],
   "source": [
    "stop_words_data_for_stats.describe()"
   ]
  },
  {
   "cell_type": "markdown",
   "metadata": {},
   "source": [
    "#### Unique words"
   ]
  },
  {
   "cell_type": "code",
   "execution_count": 65,
   "metadata": {},
   "outputs": [],
   "source": [
    "unique_words_data = [len(set(tokenizer.tokenize(tweet))) for tweet in training_data]"
   ]
  },
  {
   "cell_type": "code",
   "execution_count": 66,
   "metadata": {},
   "outputs": [],
   "source": [
    "unique_words_data_for_stats = pd.DataFrame({\"Unique words\": unique_words_data, \"Tweet\": training_data})"
   ]
  },
  {
   "cell_type": "code",
   "execution_count": 67,
   "metadata": {},
   "outputs": [],
   "source": [
    "# unique_words_data_for_stats = unique_words_data_for_stats[unique_words_data_for_stats[\"Unique words\"] >= 2]"
   ]
  },
  {
   "cell_type": "code",
   "execution_count": 68,
   "metadata": {},
   "outputs": [],
   "source": [
    "unique_words_data = unique_words_data_for_stats[\"Unique words\"].tolist()"
   ]
  },
  {
   "cell_type": "markdown",
   "metadata": {},
   "source": [
    "#### Top 5 tweets with most unique words"
   ]
  },
  {
   "cell_type": "code",
   "execution_count": 69,
   "metadata": {},
   "outputs": [
    {
     "data": {
      "text/html": [
       "<div>\n",
       "<style scoped>\n",
       "    .dataframe tbody tr th:only-of-type {\n",
       "        vertical-align: middle;\n",
       "    }\n",
       "\n",
       "    .dataframe tbody tr th {\n",
       "        vertical-align: top;\n",
       "    }\n",
       "\n",
       "    .dataframe thead th {\n",
       "        text-align: right;\n",
       "    }\n",
       "</style>\n",
       "<table border=\"1\" class=\"dataframe\">\n",
       "  <thead>\n",
       "    <tr style=\"text-align: right;\">\n",
       "      <th></th>\n",
       "      <th>Tweet</th>\n",
       "      <th>Unique words</th>\n",
       "    </tr>\n",
       "  </thead>\n",
       "  <tbody>\n",
       "    <tr>\n",
       "      <th>13936</th>\n",
       "      <td>GIVE AWAY!\\n\\nThe rules are really easy, all you have to do is :\\n1. Must be following me (i check) \\n2. RT and fav this tweet\\n3. tag your mutuals/anyone\\n4. only 1 winner! \\n5. i ship worldwide;) \\n\\nit ends in 8th May 2018 or when this tweet hit 2k RT and like!\\n\\nGood luck! ❤</td>\n",
       "      <td>59</td>\n",
       "    </tr>\n",
       "    <tr>\n",
       "      <th>4881</th>\n",
       "      <td>got into a tepid back nd forth w/ a uknowwhoAJ+columnist bc i said they steal their \"hot takes\" from blk twitter &amp; alike. wallahi my bdeshi ass did not sign up 4 this app to be called asinine by a 30yrold pakistani whos whole politics is Post Colonial Memes for Oriental Minded T-</td>\n",
       "      <td>57</td>\n",
       "    </tr>\n",
       "    <tr>\n",
       "      <th>7013</th>\n",
       "      <td>Crazy how wrong u can be about someone. A girl I graduated w/ was always doing drugs&amp; got pregnant at 16. I assumed she'd end up being a loser but it turn out she now has 4 beautiful kids&amp; is making over $4,500/month just off of child support payments from the 3 different dads</td>\n",
       "      <td>57</td>\n",
       "    </tr>\n",
       "    <tr>\n",
       "      <th>4992</th>\n",
       "      <td>Got into an argument w/ someone I went to HS w/ &amp; I would js like to repeat again tht I cannot wait to stunt on all the ppl who were bitches to me in HS @ our reunion. Catch me rollin up w/ my sexy ass gf, a nice car, a bomb body &amp; the career of my dreams as a big fuck u to them</td>\n",
       "      <td>55</td>\n",
       "    </tr>\n",
       "    <tr>\n",
       "      <th>11542</th>\n",
       "      <td>Thought I'd bring this back...  and no, I'm not talking about myself here. I wish just once I'd be so bored with my life that I'd find the time to bash people/celebs I don't like.. I mean if I despise someone THAT much, why still watch his/her every move? 🤦‍♀️</td>\n",
       "      <td>55</td>\n",
       "    </tr>\n",
       "  </tbody>\n",
       "</table>\n",
       "</div>"
      ],
      "text/plain": [
       "                                                                                                                                                                                                                                                                                           Tweet  \\\n",
       "13936  GIVE AWAY!\\n\\nThe rules are really easy, all you have to do is :\\n1. Must be following me (i check) \\n2. RT and fav this tweet\\n3. tag your mutuals/anyone\\n4. only 1 winner! \\n5. i ship worldwide;) \\n\\nit ends in 8th May 2018 or when this tweet hit 2k RT and like!\\n\\nGood luck! ❤    \n",
       "4881    got into a tepid back nd forth w/ a uknowwhoAJ+columnist bc i said they steal their \"hot takes\" from blk twitter & alike. wallahi my bdeshi ass did not sign up 4 this app to be called asinine by a 30yrold pakistani whos whole politics is Post Colonial Memes for Oriental Minded T-   \n",
       "7013       Crazy how wrong u can be about someone. A girl I graduated w/ was always doing drugs& got pregnant at 16. I assumed she'd end up being a loser but it turn out she now has 4 beautiful kids& is making over $4,500/month just off of child support payments from the 3 different dads   \n",
       "4992     Got into an argument w/ someone I went to HS w/ & I would js like to repeat again tht I cannot wait to stunt on all the ppl who were bitches to me in HS @ our reunion. Catch me rollin up w/ my sexy ass gf, a nice car, a bomb body & the career of my dreams as a big fuck u to them   \n",
       "11542                      Thought I'd bring this back...  and no, I'm not talking about myself here. I wish just once I'd be so bored with my life that I'd find the time to bash people/celebs I don't like.. I mean if I despise someone THAT much, why still watch his/her every move? 🤦‍♀️    \n",
       "\n",
       "       Unique words  \n",
       "13936            59  \n",
       "4881             57  \n",
       "7013             57  \n",
       "4992             55  \n",
       "11542            55  "
      ]
     },
     "execution_count": 69,
     "metadata": {},
     "output_type": "execute_result"
    }
   ],
   "source": [
    "unique_words_data_for_stats.sort_values(by=\"Unique words\", ascending=False).head()"
   ]
  },
  {
   "cell_type": "markdown",
   "metadata": {},
   "source": [
    "#### Top 5 tweets with fewest unique words"
   ]
  },
  {
   "cell_type": "code",
   "execution_count": 70,
   "metadata": {},
   "outputs": [
    {
     "data": {
      "text/html": [
       "<div>\n",
       "<style scoped>\n",
       "    .dataframe tbody tr th:only-of-type {\n",
       "        vertical-align: middle;\n",
       "    }\n",
       "\n",
       "    .dataframe tbody tr th {\n",
       "        vertical-align: top;\n",
       "    }\n",
       "\n",
       "    .dataframe thead th {\n",
       "        text-align: right;\n",
       "    }\n",
       "</style>\n",
       "<table border=\"1\" class=\"dataframe\">\n",
       "  <thead>\n",
       "    <tr style=\"text-align: right;\">\n",
       "      <th></th>\n",
       "      <th>Tweet</th>\n",
       "      <th>Unique words</th>\n",
       "    </tr>\n",
       "  </thead>\n",
       "  <tbody>\n",
       "    <tr>\n",
       "      <th>6106</th>\n",
       "      <td>Annoying</td>\n",
       "      <td>1</td>\n",
       "    </tr>\n",
       "    <tr>\n",
       "      <th>2525</th>\n",
       "      <td>Bitch</td>\n",
       "      <td>1</td>\n",
       "    </tr>\n",
       "    <tr>\n",
       "      <th>12087</th>\n",
       "      <td>Chandler</td>\n",
       "      <td>1</td>\n",
       "    </tr>\n",
       "    <tr>\n",
       "      <th>14559</th>\n",
       "      <td>Yes yes yes yes yes yes</td>\n",
       "      <td>1</td>\n",
       "    </tr>\n",
       "    <tr>\n",
       "      <th>14442</th>\n",
       "      <td>Hello\\n</td>\n",
       "      <td>1</td>\n",
       "    </tr>\n",
       "  </tbody>\n",
       "</table>\n",
       "</div>"
      ],
      "text/plain": [
       "                          Tweet  Unique words\n",
       "6106                   Annoying             1\n",
       "2525                      Bitch             1\n",
       "12087                 Chandler              1\n",
       "14559  Yes yes yes yes yes yes              1\n",
       "14442                   Hello\\n             1"
      ]
     },
     "execution_count": 70,
     "metadata": {},
     "output_type": "execute_result"
    }
   ],
   "source": [
    "unique_words_data_for_stats.sort_values(by=\"Unique words\", ascending=True).head()"
   ]
  },
  {
   "cell_type": "markdown",
   "metadata": {},
   "source": [
    "#### Tweets unique words statistics"
   ]
  },
  {
   "cell_type": "code",
   "execution_count": 71,
   "metadata": {},
   "outputs": [
    {
     "data": {
      "text/html": [
       "<div>\n",
       "<style scoped>\n",
       "    .dataframe tbody tr th:only-of-type {\n",
       "        vertical-align: middle;\n",
       "    }\n",
       "\n",
       "    .dataframe tbody tr th {\n",
       "        vertical-align: top;\n",
       "    }\n",
       "\n",
       "    .dataframe thead th {\n",
       "        text-align: right;\n",
       "    }\n",
       "</style>\n",
       "<table border=\"1\" class=\"dataframe\">\n",
       "  <thead>\n",
       "    <tr style=\"text-align: right;\">\n",
       "      <th></th>\n",
       "      <th>Unique words</th>\n",
       "    </tr>\n",
       "  </thead>\n",
       "  <tbody>\n",
       "    <tr>\n",
       "      <th>count</th>\n",
       "      <td>15674.0000</td>\n",
       "    </tr>\n",
       "    <tr>\n",
       "      <th>mean</th>\n",
       "      <td>19.2412</td>\n",
       "    </tr>\n",
       "    <tr>\n",
       "      <th>std</th>\n",
       "      <td>11.9298</td>\n",
       "    </tr>\n",
       "    <tr>\n",
       "      <th>min</th>\n",
       "      <td>1.0000</td>\n",
       "    </tr>\n",
       "    <tr>\n",
       "      <th>25%</th>\n",
       "      <td>10.0000</td>\n",
       "    </tr>\n",
       "    <tr>\n",
       "      <th>50%</th>\n",
       "      <td>17.0000</td>\n",
       "    </tr>\n",
       "    <tr>\n",
       "      <th>75%</th>\n",
       "      <td>27.0000</td>\n",
       "    </tr>\n",
       "    <tr>\n",
       "      <th>max</th>\n",
       "      <td>59.0000</td>\n",
       "    </tr>\n",
       "  </tbody>\n",
       "</table>\n",
       "</div>"
      ],
      "text/plain": [
       "       Unique words\n",
       "count    15674.0000\n",
       "mean        19.2412\n",
       "std         11.9298\n",
       "min          1.0000\n",
       "25%         10.0000\n",
       "50%         17.0000\n",
       "75%         27.0000\n",
       "max         59.0000"
      ]
     },
     "execution_count": 71,
     "metadata": {},
     "output_type": "execute_result"
    }
   ],
   "source": [
    "unique_words_data_for_stats.describe()"
   ]
  },
  {
   "cell_type": "markdown",
   "metadata": {},
   "source": [
    "#### Plot them"
   ]
  },
  {
   "cell_type": "code",
   "execution_count": 72,
   "metadata": {},
   "outputs": [
    {
     "data": {
      "image/png": "[encoded data removed]",
      "text/plain": [
       "<Figure size 1152x648 with 1 Axes>"
      ]
     },
     "metadata": {},
     "output_type": "display_data"
    }
   ],
   "source": [
    "length_mean = length_data_for_stats.describe().Length[1]\n",
    "length_std = length_data_for_stats.describe().Length[2]\n",
    "\n",
    "fig = plt.figure(figsize=(16, 9))\n",
    "ax = fig.add_subplot(111)\n",
    "\n",
    "n, bins, patches = ax.hist(length_data, \n",
    "                           bins=\"scott\", \n",
    "                           edgecolor=\"black\", \n",
    "                           # density=True, \n",
    "                           color=\"#12355b\", \n",
    "                           alpha=0.5)\n",
    "\n",
    "# length_line = scipy.stats.norm.pdf(bins, length_mean, length_std)\n",
    "# ax.plot(bins, length_line, \"--\", linewidth=3, color=\"#415d7b\")\n",
    "\n",
    "ax.set_title(\"Training Dataset Distribution of Tweet Lengths\", fontsize=18)\n",
    "ax.set_xlabel(\"Tweet Length\", fontsize=18);\n",
    "ax.set_ylabel(\"Number of Tweets with That Length\", fontsize=18);\n",
    "\n",
    "plt.show()"
   ]
  },
  {
   "cell_type": "code",
   "execution_count": 73,
   "metadata": {},
   "outputs": [
    {
     "data": {
      "image/png": "[encoded data removed]",
      "text/plain": [
       "<Figure size 1152x648 with 1 Axes>"
      ]
     },
     "metadata": {},
     "output_type": "display_data"
    }
   ],
   "source": [
    "punctuation_mean = punctuation_data_for_stats.describe().Punctuation[1]\n",
    "punctuation_std = punctuation_data_for_stats.describe().Punctuation[2]\n",
    "\n",
    "fig = plt.figure(figsize=(16, 9))\n",
    "ax = fig.add_subplot(111)\n",
    "\n",
    "n, bins, patches = ax.hist(punctuation_data, \n",
    "                           bins=\"scott\",\n",
    "                           edgecolor=\"black\", \n",
    "                           # density=True, \n",
    "                           color=\"#420039\",\n",
    "                           alpha=0.5)\n",
    "\n",
    "# punctution_line = scipy.stats.norm.pdf(bins, punctuation_mean, punctuation_std)\n",
    "# ax.plot(bins, punctution_line, \"--\", linewidth=3, color=\"#673260\")\n",
    "\n",
    "ax.set_title(\"Training Dataset Distribution of Punctuation\", fontsize=18)\n",
    "ax.set_xlabel(\"Punctuating Characters in Tweet\", fontsize=18)\n",
    "ax.set_ylabel(\"Number of Tweets with That Number of Punctuating Characters\", fontsize=18)\n",
    "\n",
    "plt.show()"
   ]
  },
  {
   "cell_type": "code",
   "execution_count": 74,
   "metadata": {},
   "outputs": [
    {
     "data": {
      "image/png": "[encoded data removed]",
      "text/plain": [
       "<Figure size 1152x648 with 1 Axes>"
      ]
     },
     "metadata": {},
     "output_type": "display_data"
    }
   ],
   "source": [
    "stop_words_mean = stop_words_data_for_stats.describe()[\"Stop words\"][1]\n",
    "stop_words_std = stop_words_data_for_stats.describe()[\"Stop words\"][2]\n",
    "\n",
    "fig = plt.figure(figsize=(16, 9))\n",
    "ax = fig.add_subplot(111)\n",
    "\n",
    "n, bins, patches = ax.hist(stop_words_data, \n",
    "                           bins=\"scott\", \n",
    "                           edgecolor=\"black\", \n",
    "                           # density=True, \n",
    "                           color=\"#698f3f\",\n",
    "                           alpha=0.5)\n",
    "\n",
    "# stop_words_line = scipy.stats.norm.pdf(bins, stop_words_mean, stop_words_std)\n",
    "# ax.plot(bins, stop_words_line, \"--\", linewidth=3, color=\"#87a565\")\n",
    "\n",
    "ax.set_title(\"Training Dataset Distribution of Stop Words\", fontsize=18)\n",
    "ax.set_xlabel(\"Stop Words in Tweet\", fontsize=18)\n",
    "ax.set_ylabel(\"Number of Tweets with That Number of Stop Words\", fontsize=18)\n",
    "\n",
    "plt.show()"
   ]
  },
  {
   "cell_type": "code",
   "execution_count": 75,
   "metadata": {
    "scrolled": false
   },
   "outputs": [
    {
     "data": {
      "image/png": "[encoded data removed]",
      "text/plain": [
       "<Figure size 1152x648 with 1 Axes>"
      ]
     },
     "metadata": {},
     "output_type": "display_data"
    }
   ],
   "source": [
    "unique_words_mean = unique_words_data_for_stats.describe()[\"Unique words\"][1]\n",
    "unique_words_std = unique_words_data_for_stats.describe()[\"Unique words\"][2]\n",
    "\n",
    "fig = plt.figure(figsize=(16, 9))\n",
    "ax = fig.add_subplot(111)\n",
    "\n",
    "n, bins, patches = ax.hist(unique_words_data, \n",
    "                           bins=\"scott\", \n",
    "                           edgecolor=\"black\", \n",
    "                           # density=True, \n",
    "                           color=\"#ca2e55\",\n",
    "                           alpha=0.5)\n",
    "\n",
    "# unique_words_line = scipy.stats.norm.pdf(bins, unique_words_mean, unique_words_std)\n",
    "# ax.plot(bins, unique_words_line, \"--\", linewidth=3, color=\"#d45776\")\n",
    "\n",
    "ax.set_title(\"Training Dataset Distribution of Unique Words\", fontsize=18)\n",
    "ax.set_xlabel(\"Unique Words in Tweet\", fontsize=18)\n",
    "ax.set_ylabel(\"Number of Tweets with That Number of Unique Words\", fontsize=18)\n",
    "\n",
    "plt.show()"
   ]
  }
 ],
 "metadata": {
  "kernelspec": {
   "display_name": "Python 3",
   "language": "python",
   "name": "python3"
  },
  "language_info": {
   "codemirror_mode": {
    "name": "ipython",
    "version": 3
   },
   "file_extension": ".py",
   "mimetype": "text/x-python",
   "name": "python",
   "nbconvert_exporter": "python",
   "pygments_lexer": "ipython3",
   "version": "3.6.4"
  }
 },
 "nbformat": 4,
 "nbformat_minor": 2
}
