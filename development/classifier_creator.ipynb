{
 "cells": [
  {
   "cell_type": "markdown",
   "metadata": {},
   "source": [
    "## Using Scikit-Learn and NLTK to build a Naive Bayes Classifier that identifies subtweets"
   ]
  },
  {
   "cell_type": "markdown",
   "metadata": {},
   "source": [
    "#### In all tables, assume:\n",
    "* \"➊\" represents a single hashtag\n",
    "* \"➋\" represents a single URL\n",
    "* \"➌\" represents a single mention of username (e.g. \"@noah\")"
   ]
  },
  {
   "cell_type": "markdown",
   "metadata": {},
   "source": [
    "#### Import libraries"
   ]
  },
  {
   "cell_type": "code",
   "execution_count": 1,
   "metadata": {},
   "outputs": [],
   "source": [
    "%matplotlib inline"
   ]
  },
  {
   "cell_type": "code",
   "execution_count": 2,
   "metadata": {},
   "outputs": [],
   "source": [
    "from sklearn.feature_extraction import text\n",
    "from sklearn.feature_extraction.text import TfidfVectorizer\n",
    "from sklearn.naive_bayes import MultinomialNB\n",
    "from sklearn.pipeline import Pipeline\n",
    "from sklearn.model_selection import KFold\n",
    "from sklearn.metrics import classification_report, confusion_matrix, accuracy_score\n",
    "from sklearn.externals import joblib\n",
    "from nltk.corpus import stopwords\n",
    "from random import choice\n",
    "from string import punctuation\n",
    "\n",
    "import matplotlib.pyplot as plt\n",
    "import pandas as pd\n",
    "import numpy as np\n",
    "\n",
    "import scipy.stats\n",
    "import itertools\n",
    "import enchant\n",
    "import nltk\n",
    "import json\n",
    "import re"
   ]
  },
  {
   "cell_type": "markdown",
   "metadata": {},
   "source": [
    "#### Set up some regex patterns"
   ]
  },
  {
   "cell_type": "code",
   "execution_count": 3,
   "metadata": {},
   "outputs": [],
   "source": [
    "hashtags_pattern = r'(\\#[a-zA-Z0-9]+)'"
   ]
  },
  {
   "cell_type": "code",
   "execution_count": 4,
   "metadata": {},
   "outputs": [],
   "source": [
    "urls_pattern = r'(?i)\\b((?:https?://|www\\d{0,3}[.]|[a-z0-9.\\-]+[.][a-z]{2,4}/)(?:[^\\s()<>]|\\(([^\\s()<>]+|(\\([^\\s()<>]+\\)))*\\))+(?:\\(([^\\s()<>]+|(\\([^\\s()<>]+\\)))*\\)|[^\\s`!()\\[\\]{};:\\'\".,<>?\\xab\\xbb\\u201c\\u201d\\u2018\\u2019]))'\n"
   ]
  },
  {
   "cell_type": "code",
   "execution_count": 5,
   "metadata": {},
   "outputs": [],
   "source": [
    "at_mentions_pattern = r'(?<=^|(?<=[^a-zA-Z0-9-\\.]))@([A-Za-z0-9_]+)'"
   ]
  },
  {
   "cell_type": "markdown",
   "metadata": {},
   "source": [
    "#### Prepare English dictionary for language detection"
   ]
  },
  {
   "cell_type": "code",
   "execution_count": 6,
   "metadata": {},
   "outputs": [],
   "source": [
    "english_dict = enchant.Dict(\"en_US\")"
   ]
  },
  {
   "cell_type": "markdown",
   "metadata": {},
   "source": [
    "#### Use NLTK's tokenizer instead of Scikit's"
   ]
  },
  {
   "cell_type": "code",
   "execution_count": 7,
   "metadata": {},
   "outputs": [],
   "source": [
    "tokenizer = nltk.casual.TweetTokenizer(preserve_case=False, reduce_len=True)"
   ]
  },
  {
   "cell_type": "markdown",
   "metadata": {},
   "source": [
    "#### Prepare for viewing long text in CSVs and ones with really big and small numbers"
   ]
  },
  {
   "cell_type": "code",
   "execution_count": 8,
   "metadata": {},
   "outputs": [],
   "source": [
    "pd.set_option(\"max_colwidth\", 280)"
   ]
  },
  {
   "cell_type": "code",
   "execution_count": 9,
   "metadata": {},
   "outputs": [],
   "source": [
    "pd.options.display.float_format = \"{:.4f}\".format"
   ]
  },
  {
   "cell_type": "markdown",
   "metadata": {},
   "source": [
    "#### Load the two data files"
   ]
  },
  {
   "cell_type": "code",
   "execution_count": 10,
   "metadata": {},
   "outputs": [],
   "source": [
    "subtweets_data = [t for t in json.load(open(\"../data/other_data/subtweets.json\")) \n",
    "                  if t[\"tweet_data\"][\"user\"][\"lang\"] == \"en\" \n",
    "                  and t[\"reply\"][\"user\"][\"lang\"] == \"en\"]"
   ]
  },
  {
   "cell_type": "code",
   "execution_count": 11,
   "metadata": {},
   "outputs": [],
   "source": [
    "non_subtweets_data = [t for t in json.load(open(\"../data/other_data/non_subtweets.json\")) \n",
    "                      if t[\"tweet_data\"][\"user\"][\"lang\"] == \"en\" \n",
    "                      and t[\"reply\"][\"user\"][\"lang\"] == \"en\"]"
   ]
  },
  {
   "cell_type": "markdown",
   "metadata": {},
   "source": [
    "#### Only use tweets with at least 5 English words\n",
    "#### Also, make the mentions of usernames, URLs, and hashtags generic"
   ]
  },
  {
   "cell_type": "code",
   "execution_count": 12,
   "metadata": {},
   "outputs": [
    {
     "name": "stdout",
     "output_type": "stream",
     "text": [
      "CPU times: user 4.51 s, sys: 1.63 s, total: 6.14 s\n",
      "Wall time: 6.65 s\n"
     ]
    }
   ],
   "source": [
    "%%time\n",
    "subtweets_data = [(re.sub(hashtags_pattern, \n",
    "                          \"➊\", \n",
    "                          re.sub(urls_pattern, \n",
    "                                 \"➋\", \n",
    "                                 re.sub(at_mentions_pattern, \n",
    "                                        \"➌\", \n",
    "                                        t[\"tweet_data\"][\"full_text\"])))\n",
    "                   .replace(\"\\u2018\", \"'\")\n",
    "                   .replace(\"\\u2019\", \"'\")\n",
    "                   .replace(\"&quot;\", \"\\\"\")\n",
    "                   .replace(\"&amp;\", \"&\")\n",
    "                   .replace(\"&gt;\", \">\")\n",
    "                   .replace(\"&lt;\", \"<\"))\n",
    "                  for t in subtweets_data \n",
    "                  if sum([english_dict.check(token) \n",
    "                          for token in tokenizer.tokenize(t[\"tweet_data\"][\"full_text\"])]) >= 5]"
   ]
  },
  {
   "cell_type": "code",
   "execution_count": 13,
   "metadata": {},
   "outputs": [
    {
     "name": "stdout",
     "output_type": "stream",
     "text": [
      "CPU times: user 7.59 s, sys: 2.73 s, total: 10.3 s\n",
      "Wall time: 11.4 s\n"
     ]
    }
   ],
   "source": [
    "%%time\n",
    "non_subtweets_data = [(re.sub(hashtags_pattern, \n",
    "                              \"➊\", \n",
    "                              re.sub(urls_pattern, \n",
    "                                     \"➋\", \n",
    "                                     re.sub(at_mentions_pattern, \n",
    "                                            \"➌\", \n",
    "                                            t[\"tweet_data\"][\"full_text\"])))\n",
    "                       .replace(\"\\u2018\", \"'\")\n",
    "                       .replace(\"\\u2019\", \"'\")\n",
    "                       .replace(\"&quot;\", \"\\\"\")\n",
    "                       .replace(\"&amp;\", \"&\")\n",
    "                       .replace(\"&gt;\", \">\")\n",
    "                       .replace(\"&lt;\", \"<\"))\n",
    "                      for t in non_subtweets_data \n",
    "                      if sum([english_dict.check(token) \n",
    "                              for token in tokenizer.tokenize(t[\"tweet_data\"][\"full_text\"])]) >= 5]"
   ]
  },
  {
   "cell_type": "markdown",
   "metadata": {},
   "source": [
    "#### Show examples"
   ]
  },
  {
   "cell_type": "code",
   "execution_count": 14,
   "metadata": {},
   "outputs": [
    {
     "name": "stdout",
     "output_type": "stream",
     "text": [
      "Subtweets dataset example:\n",
      "i understand following controversial accounts to the point where i'll judge you if your choice is too basic\n"
     ]
    }
   ],
   "source": [
    "print(\"Subtweets dataset example:\")\n",
    "print(choice(subtweets_data))"
   ]
  },
  {
   "cell_type": "code",
   "execution_count": 15,
   "metadata": {},
   "outputs": [
    {
     "name": "stdout",
     "output_type": "stream",
     "text": [
      "Non-subtweets dataset example:\n",
      "7 Google Analytics Mistakes That Still Happen Way Too Often ➋ good advice by Mel ➌\n"
     ]
    }
   ],
   "source": [
    "print(\"Non-subtweets dataset example:\")\n",
    "print(choice(non_subtweets_data))"
   ]
  },
  {
   "cell_type": "markdown",
   "metadata": {},
   "source": [
    "#### Find the length of the smaller dataset"
   ]
  },
  {
   "cell_type": "code",
   "execution_count": 16,
   "metadata": {},
   "outputs": [],
   "source": [
    "smallest_length = len(min([subtweets_data, non_subtweets_data], key=len))"
   ]
  },
  {
   "cell_type": "markdown",
   "metadata": {},
   "source": [
    "#### Cut both down to be the same length"
   ]
  },
  {
   "cell_type": "code",
   "execution_count": 17,
   "metadata": {},
   "outputs": [],
   "source": [
    "subtweets_data = subtweets_data[:smallest_length]"
   ]
  },
  {
   "cell_type": "code",
   "execution_count": 18,
   "metadata": {},
   "outputs": [],
   "source": [
    "non_subtweets_data = non_subtweets_data[:smallest_length]"
   ]
  },
  {
   "cell_type": "code",
   "execution_count": 19,
   "metadata": {},
   "outputs": [
    {
     "name": "stdout",
     "output_type": "stream",
     "text": [
      "Smallest dataset length: 7278\n"
     ]
    }
   ],
   "source": [
    "print(\"Smallest dataset length: {}\".format(len(non_subtweets_data)))"
   ]
  },
  {
   "cell_type": "markdown",
   "metadata": {},
   "source": [
    "#### Prepare data for training"
   ]
  },
  {
   "cell_type": "code",
   "execution_count": 20,
   "metadata": {},
   "outputs": [],
   "source": [
    "subtweets_data = [(tweet, \"subtweet\") for tweet in subtweets_data]"
   ]
  },
  {
   "cell_type": "code",
   "execution_count": 21,
   "metadata": {},
   "outputs": [],
   "source": [
    "non_subtweets_data = [(tweet, \"non-subtweet\") for tweet in non_subtweets_data]"
   ]
  },
  {
   "cell_type": "markdown",
   "metadata": {},
   "source": [
    "#### Combine them"
   ]
  },
  {
   "cell_type": "code",
   "execution_count": 22,
   "metadata": {},
   "outputs": [],
   "source": [
    "training_data = subtweets_data + non_subtweets_data"
   ]
  },
  {
   "cell_type": "markdown",
   "metadata": {},
   "source": [
    "#### Create custom stop words to include generic usernames, URLs, and hashtags, as well as common English first names"
   ]
  },
  {
   "cell_type": "code",
   "execution_count": 23,
   "metadata": {},
   "outputs": [],
   "source": [
    "names_lower = set([name.lower() for name in open(\"../data/other_data/first_names.txt\").read().split(\"\\n\")])"
   ]
  },
  {
   "cell_type": "code",
   "execution_count": 24,
   "metadata": {},
   "outputs": [],
   "source": [
    "generic_tokens = {\"➊\", \"➋\", \"➌\"}"
   ]
  },
  {
   "cell_type": "code",
   "execution_count": 25,
   "metadata": {},
   "outputs": [],
   "source": [
    "stop_words = text.ENGLISH_STOP_WORDS | names_lower | generic_tokens"
   ]
  },
  {
   "cell_type": "markdown",
   "metadata": {},
   "source": [
    "#### Build the pipeline"
   ]
  },
  {
   "cell_type": "code",
   "execution_count": 26,
   "metadata": {},
   "outputs": [],
   "source": [
    "sentiment_pipeline = Pipeline([\n",
    "    (\"vectorizer\", TfidfVectorizer(tokenizer=tokenizer.tokenize, \n",
    "                                   ngram_range=(1, 3), \n",
    "                                   stop_words=stop_words)),\n",
    "    (\"classifier\", MultinomialNB())\n",
    "])"
   ]
  },
  {
   "cell_type": "markdown",
   "metadata": {},
   "source": [
    "#### K-Folds splits up and separates out 10 training and test sets from the data, from which the classifier is trained and the confusion matrix and classification reports are updated"
   ]
  },
  {
   "cell_type": "code",
   "execution_count": 27,
   "metadata": {},
   "outputs": [],
   "source": [
    "text_training_data = np.array([row[0] for row in training_data])"
   ]
  },
  {
   "cell_type": "code",
   "execution_count": 28,
   "metadata": {},
   "outputs": [],
   "source": [
    "class_training_data = np.array([row[1] for row in training_data])"
   ]
  },
  {
   "cell_type": "code",
   "execution_count": 29,
   "metadata": {},
   "outputs": [],
   "source": [
    "kf = KFold(n_splits=10, random_state=7, shuffle=True)"
   ]
  },
  {
   "cell_type": "code",
   "execution_count": 30,
   "metadata": {
    "scrolled": false
   },
   "outputs": [
    {
     "name": "stdout",
     "output_type": "stream",
     "text": [
      "Iteration 1\n",
      "              precision    recall  f1-score   support\n",
      "\n",
      "non-subtweet      0.755     0.658     0.703       765\n",
      "    subtweet      0.668     0.764     0.713       691\n",
      "\n",
      " avg / total      0.714     0.708     0.708      1456\n",
      "\n",
      "accuracy: 0.708\n",
      "\n",
      "Iteration 2\n",
      "              precision    recall  f1-score   support\n",
      "\n",
      "non-subtweet      0.723     0.678     0.700       712\n",
      "    subtweet      0.709     0.751     0.730       744\n",
      "\n",
      " avg / total      0.716     0.716     0.715      1456\n",
      "\n",
      "accuracy: 0.716\n",
      "\n",
      "Iteration 3\n",
      "              precision    recall  f1-score   support\n",
      "\n",
      "non-subtweet      0.687     0.692     0.690       695\n",
      "    subtweet      0.717     0.712     0.715       761\n",
      "\n",
      " avg / total      0.703     0.703     0.703      1456\n",
      "\n",
      "accuracy: 0.703\n",
      "\n",
      "Iteration 4\n",
      "              precision    recall  f1-score   support\n",
      "\n",
      "non-subtweet      0.719     0.666     0.691       727\n",
      "    subtweet      0.690     0.741     0.714       729\n",
      "\n",
      " avg / total      0.704     0.703     0.703      1456\n",
      "\n",
      "accuracy: 0.703\n",
      "\n",
      "Iteration 5\n",
      "              precision    recall  f1-score   support\n",
      "\n",
      "non-subtweet      0.727     0.651     0.687       728\n",
      "    subtweet      0.684     0.755     0.718       728\n",
      "\n",
      " avg / total      0.706     0.703     0.702      1456\n",
      "\n",
      "accuracy: 0.703\n",
      "\n",
      "Iteration 6\n",
      "              precision    recall  f1-score   support\n",
      "\n",
      "non-subtweet      0.691     0.649     0.670       707\n",
      "    subtweet      0.687     0.726     0.706       749\n",
      "\n",
      " avg / total      0.689     0.689     0.688      1456\n",
      "\n",
      "accuracy: 0.689\n",
      "\n",
      "Iteration 7\n",
      "              precision    recall  f1-score   support\n",
      "\n",
      "non-subtweet      0.698     0.656     0.676       736\n",
      "    subtweet      0.668     0.709     0.688       719\n",
      "\n",
      " avg / total      0.683     0.682     0.682      1455\n",
      "\n",
      "accuracy: 0.682\n",
      "\n",
      "Iteration 8\n",
      "              precision    recall  f1-score   support\n",
      "\n",
      "non-subtweet      0.751     0.675     0.711       760\n",
      "    subtweet      0.680     0.755     0.716       695\n",
      "\n",
      " avg / total      0.717     0.713     0.713      1455\n",
      "\n",
      "accuracy: 0.713\n",
      "\n",
      "Iteration 9\n",
      "              precision    recall  f1-score   support\n",
      "\n",
      "non-subtweet      0.692     0.661     0.676       728\n",
      "    subtweet      0.675     0.706     0.690       727\n",
      "\n",
      " avg / total      0.684     0.683     0.683      1455\n",
      "\n",
      "accuracy: 0.683\n",
      "\n",
      "Iteration 10\n",
      "              precision    recall  f1-score   support\n",
      "\n",
      "non-subtweet      0.727     0.665     0.695       720\n",
      "    subtweet      0.697     0.755     0.725       735\n",
      "\n",
      " avg / total      0.712     0.711     0.710      1455\n",
      "\n",
      "accuracy: 0.711\n",
      "\n",
      "CPU times: user 39.5 s, sys: 982 ms, total: 40.5 s\n",
      "Wall time: 41.1 s\n"
     ]
    }
   ],
   "source": [
    "%%time\n",
    "cnf_matrix = np.zeros((2, 2), dtype=int)\n",
    "for i, (train_index, test_index) in enumerate(kf.split(text_training_data)):\n",
    "    \n",
    "    text_train, text_test = text_training_data[train_index], text_training_data[test_index]\n",
    "    class_train, class_test = class_training_data[train_index], class_training_data[test_index]\n",
    "    \n",
    "    sentiment_pipeline.fit(text_train, class_train)\n",
    "    predictions = sentiment_pipeline.predict(text_test)\n",
    "        \n",
    "    cnf_matrix += confusion_matrix(class_test, predictions)\n",
    "    \n",
    "    print(\"Iteration {}\".format(i+1))\n",
    "    print(classification_report(class_test, predictions, digits=3))\n",
    "    print(\"accuracy: {:.3f}\\n\".format(accuracy_score(class_test, predictions)))"
   ]
  },
  {
   "cell_type": "markdown",
   "metadata": {},
   "source": [
    "#### See the most informative features"
   ]
  },
  {
   "cell_type": "code",
   "execution_count": 31,
   "metadata": {},
   "outputs": [],
   "source": [
    "def most_informative_features(pipeline, n=20):\n",
    "    vectorizer = pipeline.named_steps[\"vectorizer\"]\n",
    "    classifier = pipeline.named_steps[\"classifier\"]\n",
    "    \n",
    "    class_labels = classifier.classes_\n",
    "    \n",
    "    feature_names = vectorizer.get_feature_names()\n",
    "    \n",
    "    top_n_class_1 = sorted(zip(classifier.coef_[0], feature_names))[:n]\n",
    "    top_n_class_2 = sorted(zip(classifier.coef_[0], feature_names))[-n:]\n",
    "    \n",
    "    return {class_labels[0]: pd.DataFrame({\"Weight\": [tup[0] for tup in top_n_class_1], \n",
    "                                           \"Feature\": [tup[1] for tup in top_n_class_1]}), \n",
    "            class_labels[1]: pd.DataFrame({\"Weight\": [tup[0] for tup in reversed(top_n_class_2)],\n",
    "                                           \"Feature\": [tup[1] for tup in reversed(top_n_class_2)]})}"
   ]
  },
  {
   "cell_type": "code",
   "execution_count": 32,
   "metadata": {},
   "outputs": [],
   "source": [
    "most_informative_features_all = most_informative_features(sentiment_pipeline)"
   ]
  },
  {
   "cell_type": "code",
   "execution_count": 33,
   "metadata": {},
   "outputs": [],
   "source": [
    "most_informative_features_non_subtweet = most_informative_features_all[\"non-subtweet\"]"
   ]
  },
  {
   "cell_type": "code",
   "execution_count": 34,
   "metadata": {},
   "outputs": [],
   "source": [
    "most_informative_features_subtweet = most_informative_features_all[\"subtweet\"]"
   ]
  },
  {
   "cell_type": "code",
   "execution_count": 35,
   "metadata": {},
   "outputs": [
    {
     "data": {
      "text/html": [
       "<div>\n",
       "<style scoped>\n",
       "    .dataframe tbody tr th:only-of-type {\n",
       "        vertical-align: middle;\n",
       "    }\n",
       "\n",
       "    .dataframe tbody tr th {\n",
       "        vertical-align: top;\n",
       "    }\n",
       "\n",
       "    .dataframe thead th {\n",
       "        text-align: right;\n",
       "    }\n",
       "</style>\n",
       "<table border=\"1\" class=\"dataframe\">\n",
       "  <thead>\n",
       "    <tr style=\"text-align: right;\">\n",
       "      <th></th>\n",
       "      <th>Feature (Non-subtweet)</th>\n",
       "      <th>Weight (Non-subtweet)</th>\n",
       "      <th>Feature (Subtweet)</th>\n",
       "      <th>Weight (Subtweet)</th>\n",
       "    </tr>\n",
       "  </thead>\n",
       "  <tbody>\n",
       "    <tr>\n",
       "      <th>0</th>\n",
       "      <td>! ! &amp;</td>\n",
       "      <td>-12.6746</td>\n",
       "      <td>.</td>\n",
       "      <td>-7.6327</td>\n",
       "    </tr>\n",
       "    <tr>\n",
       "      <th>1</th>\n",
       "      <td>! ! (</td>\n",
       "      <td>-12.6746</td>\n",
       "      <td>,</td>\n",
       "      <td>-7.9706</td>\n",
       "    </tr>\n",
       "    <tr>\n",
       "      <th>2</th>\n",
       "      <td>! ! )</td>\n",
       "      <td>-12.6746</td>\n",
       "      <td>people</td>\n",
       "      <td>-8.4275</td>\n",
       "    </tr>\n",
       "    <tr>\n",
       "      <th>3</th>\n",
       "      <td>! ! 100</td>\n",
       "      <td>-12.6746</td>\n",
       "      <td>?</td>\n",
       "      <td>-8.5486</td>\n",
       "    </tr>\n",
       "    <tr>\n",
       "      <th>4</th>\n",
       "      <td>! ! 15</td>\n",
       "      <td>-12.6746</td>\n",
       "      <td>don't</td>\n",
       "      <td>-8.5798</td>\n",
       "    </tr>\n",
       "    <tr>\n",
       "      <th>5</th>\n",
       "      <td>! ! 2-1</td>\n",
       "      <td>-12.6746</td>\n",
       "      <td>like</td>\n",
       "      <td>-8.6100</td>\n",
       "    </tr>\n",
       "    <tr>\n",
       "      <th>6</th>\n",
       "      <td>! ! 3</td>\n",
       "      <td>-12.6746</td>\n",
       "      <td>\"</td>\n",
       "      <td>-8.6197</td>\n",
       "    </tr>\n",
       "    <tr>\n",
       "      <th>7</th>\n",
       "      <td>! ! 5</td>\n",
       "      <td>-12.6746</td>\n",
       "      <td>just</td>\n",
       "      <td>-8.7128</td>\n",
       "    </tr>\n",
       "    <tr>\n",
       "      <th>8</th>\n",
       "      <td>! ! :</td>\n",
       "      <td>-12.6746</td>\n",
       "      <td>i'm</td>\n",
       "      <td>-8.7675</td>\n",
       "    </tr>\n",
       "    <tr>\n",
       "      <th>9</th>\n",
       "      <td>! ! :)</td>\n",
       "      <td>-12.6746</td>\n",
       "      <td>it's</td>\n",
       "      <td>-8.9806</td>\n",
       "    </tr>\n",
       "    <tr>\n",
       "      <th>10</th>\n",
       "      <td>! ! ;)</td>\n",
       "      <td>-12.6746</td>\n",
       "      <td>!</td>\n",
       "      <td>-9.0063</td>\n",
       "    </tr>\n",
       "    <tr>\n",
       "      <th>11</th>\n",
       "      <td>! ! amazing</td>\n",
       "      <td>-12.6746</td>\n",
       "      <td>know</td>\n",
       "      <td>-9.1138</td>\n",
       "    </tr>\n",
       "    <tr>\n",
       "      <th>12</th>\n",
       "      <td>! ! ask</td>\n",
       "      <td>-12.6746</td>\n",
       "      <td>:</td>\n",
       "      <td>-9.1324</td>\n",
       "    </tr>\n",
       "    <tr>\n",
       "      <th>13</th>\n",
       "      <td>! ! awesome</td>\n",
       "      <td>-12.6746</td>\n",
       "      <td>you're</td>\n",
       "      <td>-9.1508</td>\n",
       "    </tr>\n",
       "    <tr>\n",
       "      <th>14</th>\n",
       "      <td>! ! big</td>\n",
       "      <td>-12.6746</td>\n",
       "      <td>...</td>\n",
       "      <td>-9.1547</td>\n",
       "    </tr>\n",
       "    <tr>\n",
       "      <th>15</th>\n",
       "      <td>! ! bite</td>\n",
       "      <td>-12.6746</td>\n",
       "      <td>“</td>\n",
       "      <td>-9.2530</td>\n",
       "    </tr>\n",
       "    <tr>\n",
       "      <th>16</th>\n",
       "      <td>! ! close</td>\n",
       "      <td>-12.6746</td>\n",
       "      <td>”</td>\n",
       "      <td>-9.2566</td>\n",
       "    </tr>\n",
       "    <tr>\n",
       "      <th>17</th>\n",
       "      <td>! ! collection</td>\n",
       "      <td>-12.6746</td>\n",
       "      <td>twitter</td>\n",
       "      <td>-9.2693</td>\n",
       "    </tr>\n",
       "    <tr>\n",
       "      <th>18</th>\n",
       "      <td>! ! come</td>\n",
       "      <td>-12.6746</td>\n",
       "      <td>want</td>\n",
       "      <td>-9.3033</td>\n",
       "    </tr>\n",
       "    <tr>\n",
       "      <th>19</th>\n",
       "      <td>! ! contribution</td>\n",
       "      <td>-12.6746</td>\n",
       "      <td>time</td>\n",
       "      <td>-9.3568</td>\n",
       "    </tr>\n",
       "  </tbody>\n",
       "</table>\n",
       "</div>"
      ],
      "text/plain": [
       "   Feature (Non-subtweet)  Weight (Non-subtweet) Feature (Subtweet)  \\\n",
       "0                   ! ! &               -12.6746                  .   \n",
       "1                   ! ! (               -12.6746                  ,   \n",
       "2                   ! ! )               -12.6746             people   \n",
       "3                 ! ! 100               -12.6746                  ?   \n",
       "4                  ! ! 15               -12.6746              don't   \n",
       "5                 ! ! 2-1               -12.6746               like   \n",
       "6                   ! ! 3               -12.6746                  \"   \n",
       "7                   ! ! 5               -12.6746               just   \n",
       "8                   ! ! :               -12.6746                i'm   \n",
       "9                  ! ! :)               -12.6746               it's   \n",
       "10                 ! ! ;)               -12.6746                  !   \n",
       "11            ! ! amazing               -12.6746               know   \n",
       "12                ! ! ask               -12.6746                  :   \n",
       "13            ! ! awesome               -12.6746             you're   \n",
       "14                ! ! big               -12.6746                ...   \n",
       "15               ! ! bite               -12.6746                  “   \n",
       "16              ! ! close               -12.6746                  ”   \n",
       "17         ! ! collection               -12.6746            twitter   \n",
       "18               ! ! come               -12.6746               want   \n",
       "19       ! ! contribution               -12.6746               time   \n",
       "\n",
       "    Weight (Subtweet)  \n",
       "0             -7.6327  \n",
       "1             -7.9706  \n",
       "2             -8.4275  \n",
       "3             -8.5486  \n",
       "4             -8.5798  \n",
       "5             -8.6100  \n",
       "6             -8.6197  \n",
       "7             -8.7128  \n",
       "8             -8.7675  \n",
       "9             -8.9806  \n",
       "10            -9.0063  \n",
       "11            -9.1138  \n",
       "12            -9.1324  \n",
       "13            -9.1508  \n",
       "14            -9.1547  \n",
       "15            -9.2530  \n",
       "16            -9.2566  \n",
       "17            -9.2693  \n",
       "18            -9.3033  \n",
       "19            -9.3568  "
      ]
     },
     "execution_count": 35,
     "metadata": {},
     "output_type": "execute_result"
    }
   ],
   "source": [
    "most_informative_features_non_subtweet.join(most_informative_features_subtweet, \n",
    "                                            lsuffix=\" (Non-subtweet)\", \n",
    "                                            rsuffix=\" (Subtweet)\")"
   ]
  },
  {
   "cell_type": "markdown",
   "metadata": {},
   "source": [
    "#### Define function for visualizing confusion matrices"
   ]
  },
  {
   "cell_type": "code",
   "execution_count": 36,
   "metadata": {},
   "outputs": [],
   "source": [
    "def plot_confusion_matrix(cm, classes, normalize=False,\n",
    "                          title=\"Confusion Matrix\", cmap=plt.cm.Blues):\n",
    "    if normalize:\n",
    "        cm = cm.astype(\"float\") / cm.sum(axis=1)[:, np.newaxis]\n",
    "\n",
    "    plt.imshow(cm, interpolation=\"nearest\", cmap=cmap)\n",
    "    plt.title(title)\n",
    "    plt.colorbar()\n",
    "    tick_marks = np.arange(len(classes))\n",
    "    plt.xticks(tick_marks, classes, rotation=45)\n",
    "    plt.yticks(tick_marks, classes)\n",
    "\n",
    "    fmt = \".2f\" if normalize else \"d\"\n",
    "    thresh = cm.max() / 2.\n",
    "    for i, j in itertools.product(range(cm.shape[0]), range(cm.shape[1])):\n",
    "        plt.text(j, i, format(cm[i, j], fmt),\n",
    "                 horizontalalignment=\"center\",\n",
    "                 color=\"white\" if cm[i, j] > thresh else \"black\")\n",
    "\n",
    "    plt.tight_layout()\n",
    "    plt.ylabel(\"True label\")\n",
    "    plt.xlabel(\"Predicted Label\")"
   ]
  },
  {
   "cell_type": "markdown",
   "metadata": {},
   "source": [
    "#### Show the matrices"
   ]
  },
  {
   "cell_type": "code",
   "execution_count": 37,
   "metadata": {},
   "outputs": [
    {
     "data": {
      "image/png": "[encoded data removed]",
      "text/plain": [
       "<Figure size 432x288 with 2 Axes>"
      ]
     },
     "metadata": {},
     "output_type": "display_data"
    },
    {
     "data": {
      "image/png": "[encoded data removed]",
      "text/plain": [
       "<Figure size 432x288 with 2 Axes>"
      ]
     },
     "metadata": {},
     "output_type": "display_data"
    }
   ],
   "source": [
    "class_names = [\"non-subtweet\", \"subtweet\"]\n",
    "\n",
    "np.set_printoptions(precision=2)\n",
    "\n",
    "plt.figure()\n",
    "plot_confusion_matrix(cnf_matrix, classes=class_names,\n",
    "                      title='Confusion matrix, without normalization')\n",
    "\n",
    "plt.figure()\n",
    "plot_confusion_matrix(cnf_matrix, classes=class_names, normalize=True,\n",
    "                      title='Normalized confusion matrix')\n",
    "\n",
    "plt.show()"
   ]
  },
  {
   "cell_type": "markdown",
   "metadata": {},
   "source": [
    "#### Update matplotlib style"
   ]
  },
  {
   "cell_type": "code",
   "execution_count": 38,
   "metadata": {},
   "outputs": [],
   "source": [
    "plt.style.use(\"fivethirtyeight\")"
   ]
  },
  {
   "cell_type": "markdown",
   "metadata": {},
   "source": [
    "#### Save the classifier for another time"
   ]
  },
  {
   "cell_type": "code",
   "execution_count": 39,
   "metadata": {},
   "outputs": [],
   "source": [
    "joblib.dump(sentiment_pipeline, \"../data/other_data/subtweets_classifier.pkl\");"
   ]
  },
  {
   "cell_type": "markdown",
   "metadata": {},
   "source": [
    "#### Print tests for the classifier"
   ]
  },
  {
   "cell_type": "code",
   "execution_count": 40,
   "metadata": {},
   "outputs": [],
   "source": [
    "def tests_dataframe(tweets_dataframe, text_column=\"SentimentText\", sentiment_column=\"Sentiment\"):\n",
    "    predictions = sentiment_pipeline.predict_proba(tweets_dataframe[text_column])\n",
    "    negative_probability = predictions[:, 0].tolist()\n",
    "    positive_probability = predictions[:, 1].tolist()\n",
    "    return pd.DataFrame({\"tweet\": tweets_dataframe[text_column], \n",
    "                         \"sentiment_score\": tweets_dataframe[sentiment_column], \n",
    "                         \"subtweet_negative_probability\": negative_probability, \n",
    "                         \"subtweet_positive_probability\": positive_probability}).sort_values(by=\"subtweet_positive_probability\", \n",
    "                                                                                             ascending=False)"
   ]
  },
  {
   "cell_type": "markdown",
   "metadata": {},
   "source": [
    "#### Make up some tweets"
   ]
  },
  {
   "cell_type": "code",
   "execution_count": 41,
   "metadata": {},
   "outputs": [],
   "source": [
    "test_tweets = [\"Some people don't know their place.\", \n",
    "               \"Isn't it funny how some people don't know their place?\", \n",
    "               \"How come you people act like this?\", \n",
    "               \"You're such a nerd.\",\n",
    "               \"I love Noah, he's so cool.\",\n",
    "               \"Who the heck is Noah?\",\n",
    "               \"This is a @NoahSegalGould subtweet. Go check out https://segal-gould.com.\", \n",
    "               \"This is a subtweet.\", \n",
    "               \"Hey @jack!\", \n",
    "               \"Hey Jack!\",\n",
    "               \"http://www.google.com\"]"
   ]
  },
  {
   "cell_type": "markdown",
   "metadata": {},
   "source": [
    "#### Make a dataframe from the list"
   ]
  },
  {
   "cell_type": "code",
   "execution_count": 42,
   "metadata": {},
   "outputs": [],
   "source": [
    "test_tweets_df = pd.DataFrame({\"Tweet\": test_tweets, \"Sentiment\": [None]*len(test_tweets)})"
   ]
  },
  {
   "cell_type": "markdown",
   "metadata": {},
   "source": [
    "#### Remove usernames, URLs, and hashtags"
   ]
  },
  {
   "cell_type": "code",
   "execution_count": 43,
   "metadata": {},
   "outputs": [],
   "source": [
    "test_tweets_df[\"Tweet\"] = test_tweets_df[\"Tweet\"].str.replace(hashtags_pattern, \"➊\")"
   ]
  },
  {
   "cell_type": "code",
   "execution_count": 44,
   "metadata": {},
   "outputs": [],
   "source": [
    "test_tweets_df[\"Tweet\"] = test_tweets_df[\"Tweet\"].str.replace(urls_pattern, \"➋\")"
   ]
  },
  {
   "cell_type": "code",
   "execution_count": 45,
   "metadata": {},
   "outputs": [],
   "source": [
    "test_tweets_df[\"Tweet\"] = test_tweets_df[\"Tweet\"].str.replace(at_mentions_pattern, \"➌\")"
   ]
  },
  {
   "cell_type": "markdown",
   "metadata": {},
   "source": [
    "#### Print the tests"
   ]
  },
  {
   "cell_type": "code",
   "execution_count": 46,
   "metadata": {},
   "outputs": [
    {
     "data": {
      "text/html": [
       "<div>\n",
       "<style scoped>\n",
       "    .dataframe tbody tr th:only-of-type {\n",
       "        vertical-align: middle;\n",
       "    }\n",
       "\n",
       "    .dataframe tbody tr th {\n",
       "        vertical-align: top;\n",
       "    }\n",
       "\n",
       "    .dataframe thead th {\n",
       "        text-align: right;\n",
       "    }\n",
       "</style>\n",
       "<table border=\"1\" class=\"dataframe\">\n",
       "  <thead>\n",
       "    <tr style=\"text-align: right;\">\n",
       "      <th></th>\n",
       "      <th>subtweet_positive_probability</th>\n",
       "      <th>tweet</th>\n",
       "    </tr>\n",
       "  </thead>\n",
       "  <tbody>\n",
       "    <tr>\n",
       "      <th>1</th>\n",
       "      <td>0.8411</td>\n",
       "      <td>Isn't it funny how some people don't know their place?</td>\n",
       "    </tr>\n",
       "    <tr>\n",
       "      <th>0</th>\n",
       "      <td>0.8310</td>\n",
       "      <td>Some people don't know their place.</td>\n",
       "    </tr>\n",
       "    <tr>\n",
       "      <th>2</th>\n",
       "      <td>0.7141</td>\n",
       "      <td>How come you people act like this?</td>\n",
       "    </tr>\n",
       "    <tr>\n",
       "      <th>3</th>\n",
       "      <td>0.6586</td>\n",
       "      <td>You're such a nerd.</td>\n",
       "    </tr>\n",
       "    <tr>\n",
       "      <th>4</th>\n",
       "      <td>0.5831</td>\n",
       "      <td>I love Noah, he's so cool.</td>\n",
       "    </tr>\n",
       "  </tbody>\n",
       "</table>\n",
       "</div>"
      ],
      "text/plain": [
       "   subtweet_positive_probability  \\\n",
       "1                         0.8411   \n",
       "0                         0.8310   \n",
       "2                         0.7141   \n",
       "3                         0.6586   \n",
       "4                         0.5831   \n",
       "\n",
       "                                                    tweet  \n",
       "1  Isn't it funny how some people don't know their place?  \n",
       "0                     Some people don't know their place.  \n",
       "2                      How come you people act like this?  \n",
       "3                                     You're such a nerd.  \n",
       "4                              I love Noah, he's so cool.  "
      ]
     },
     "execution_count": 46,
     "metadata": {},
     "output_type": "execute_result"
    }
   ],
   "source": [
    "tests_dataframe(test_tweets_df, text_column=\"Tweet\", \n",
    "                sentiment_column=\"Sentiment\").drop([\"sentiment_score\", \n",
    "                                                    \"subtweet_negative_probability\"], axis=1).head()"
   ]
  },
  {
   "cell_type": "markdown",
   "metadata": {},
   "source": [
    "#### Tests on friends' tweets"
   ]
  },
  {
   "cell_type": "markdown",
   "metadata": {},
   "source": [
    "#### Aaron"
   ]
  },
  {
   "cell_type": "code",
   "execution_count": 47,
   "metadata": {},
   "outputs": [],
   "source": [
    "aaron_df = pd.read_csv(\"../data/data_for_testing/friends_data/akrapf96_tweets.csv\").dropna()\n",
    "aaron_df[\"Sentiment\"] = None"
   ]
  },
  {
   "cell_type": "markdown",
   "metadata": {},
   "source": [
    "#### Remove usernames, URLs, and hashtags"
   ]
  },
  {
   "cell_type": "code",
   "execution_count": 48,
   "metadata": {},
   "outputs": [],
   "source": [
    "aaron_df[\"Text\"] = aaron_df[\"Text\"].str.replace(hashtags_pattern, \"➊\")"
   ]
  },
  {
   "cell_type": "code",
   "execution_count": 49,
   "metadata": {},
   "outputs": [],
   "source": [
    "aaron_df[\"Text\"] = aaron_df[\"Text\"].str.replace(urls_pattern, \"➋\")"
   ]
  },
  {
   "cell_type": "code",
   "execution_count": 50,
   "metadata": {},
   "outputs": [],
   "source": [
    "aaron_df[\"Text\"] = aaron_df[\"Text\"].str.replace(at_mentions_pattern, \"➌\")"
   ]
  },
  {
   "cell_type": "code",
   "execution_count": 51,
   "metadata": {
    "scrolled": true
   },
   "outputs": [],
   "source": [
    "aaron_df = tests_dataframe(aaron_df, text_column=\"Text\", \n",
    "                           sentiment_column=\"Sentiment\").drop([\"sentiment_score\", \n",
    "                                                               \"subtweet_negative_probability\"], axis=1)"
   ]
  },
  {
   "cell_type": "code",
   "execution_count": 52,
   "metadata": {},
   "outputs": [],
   "source": [
    "aaron_df.to_csv(\"../data/data_from_testing/friends_data/akrapf96_tests.csv\")"
   ]
  },
  {
   "cell_type": "code",
   "execution_count": 53,
   "metadata": {},
   "outputs": [
    {
     "data": {
      "text/html": [
       "<div>\n",
       "<style scoped>\n",
       "    .dataframe tbody tr th:only-of-type {\n",
       "        vertical-align: middle;\n",
       "    }\n",
       "\n",
       "    .dataframe tbody tr th {\n",
       "        vertical-align: top;\n",
       "    }\n",
       "\n",
       "    .dataframe thead th {\n",
       "        text-align: right;\n",
       "    }\n",
       "</style>\n",
       "<table border=\"1\" class=\"dataframe\">\n",
       "  <thead>\n",
       "    <tr style=\"text-align: right;\">\n",
       "      <th></th>\n",
       "      <th>subtweet_positive_probability</th>\n",
       "      <th>tweet</th>\n",
       "    </tr>\n",
       "  </thead>\n",
       "  <tbody>\n",
       "    <tr>\n",
       "      <th>2137</th>\n",
       "      <td>0.9228</td>\n",
       "      <td>Also you don't need to resort to social media 24/7 to complain about your very privileged life ¯\\_(ツ)_/¯</td>\n",
       "    </tr>\n",
       "    <tr>\n",
       "      <th>2151</th>\n",
       "      <td>0.9139</td>\n",
       "      <td>When I try to be supportive and caring I get ignored and then I'm told I'm not being supportive or caring ¯\\_(ツ)_/¯</td>\n",
       "    </tr>\n",
       "    <tr>\n",
       "      <th>2073</th>\n",
       "      <td>0.9020</td>\n",
       "      <td>\"i do have aids ¯\\_(ツ)_/¯. That's what happens when you're super gay\" ➊</td>\n",
       "    </tr>\n",
       "    <tr>\n",
       "      <th>1596</th>\n",
       "      <td>0.8940</td>\n",
       "      <td>¯\\_(ツ)_/¯ lol ¯\\_(ツ)_/¯ lol ¯\\_(ツ)_/¯ lol ¯\\_(ツ)_/¯ lol ¯\\_(ツ)_/¯ lol ¯\\_(ツ)_/¯ lol ¯\\_(ツ)_/¯ lol ¯\\_(ツ)_/¯ lol ¯\\_(ツ)_/¯ lol ¯\\_(ツ)_/¯ lol</td>\n",
       "    </tr>\n",
       "    <tr>\n",
       "      <th>2125</th>\n",
       "      <td>0.8911</td>\n",
       "      <td>¯\\_(ツ)_/¯</td>\n",
       "    </tr>\n",
       "  </tbody>\n",
       "</table>\n",
       "</div>"
      ],
      "text/plain": [
       "      subtweet_positive_probability  \\\n",
       "2137                         0.9228   \n",
       "2151                         0.9139   \n",
       "2073                         0.9020   \n",
       "1596                         0.8940   \n",
       "2125                         0.8911   \n",
       "\n",
       "                                                                                                                                            tweet  \n",
       "2137                                     Also you don't need to resort to social media 24/7 to complain about your very privileged life ¯\\_(ツ)_/¯  \n",
       "2151                          When I try to be supportive and caring I get ignored and then I'm told I'm not being supportive or caring ¯\\_(ツ)_/¯  \n",
       "2073                                                                      \"i do have aids ¯\\_(ツ)_/¯. That's what happens when you're super gay\" ➊  \n",
       "1596  ¯\\_(ツ)_/¯ lol ¯\\_(ツ)_/¯ lol ¯\\_(ツ)_/¯ lol ¯\\_(ツ)_/¯ lol ¯\\_(ツ)_/¯ lol ¯\\_(ツ)_/¯ lol ¯\\_(ツ)_/¯ lol ¯\\_(ツ)_/¯ lol ¯\\_(ツ)_/¯ lol ¯\\_(ツ)_/¯ lol  \n",
       "2125                                                                                                                                    ¯\\_(ツ)_/¯  "
      ]
     },
     "execution_count": 53,
     "metadata": {},
     "output_type": "execute_result"
    }
   ],
   "source": [
    "aaron_df.head()"
   ]
  },
  {
   "cell_type": "code",
   "execution_count": 54,
   "metadata": {},
   "outputs": [],
   "source": [
    "aaron_df_for_plotting = aaron_df.drop([\"tweet\"], axis=1)"
   ]
  },
  {
   "cell_type": "markdown",
   "metadata": {},
   "source": [
    "#### Julia"
   ]
  },
  {
   "cell_type": "code",
   "execution_count": 55,
   "metadata": {},
   "outputs": [],
   "source": [
    "julia_df = pd.read_csv(\"../data/data_for_testing/friends_data/juliaeberry_tweets.csv\").dropna()\n",
    "julia_df[\"Sentiment\"] = None"
   ]
  },
  {
   "cell_type": "markdown",
   "metadata": {},
   "source": [
    "#### Remove usernames, URLs, and hashtags"
   ]
  },
  {
   "cell_type": "code",
   "execution_count": 56,
   "metadata": {},
   "outputs": [],
   "source": [
    "julia_df[\"Text\"] = julia_df[\"Text\"].str.replace(hashtags_pattern, \"➊\")"
   ]
  },
  {
   "cell_type": "code",
   "execution_count": 57,
   "metadata": {},
   "outputs": [],
   "source": [
    "julia_df[\"Text\"] = julia_df[\"Text\"].str.replace(urls_pattern, \"➋\")"
   ]
  },
  {
   "cell_type": "code",
   "execution_count": 58,
   "metadata": {},
   "outputs": [],
   "source": [
    "julia_df[\"Text\"] = julia_df[\"Text\"].str.replace(at_mentions_pattern, \"➌\")"
   ]
  },
  {
   "cell_type": "code",
   "execution_count": 59,
   "metadata": {
    "scrolled": false
   },
   "outputs": [],
   "source": [
    "julia_df = tests_dataframe(julia_df, text_column=\"Text\", \n",
    "                           sentiment_column=\"Sentiment\").drop([\"sentiment_score\", \n",
    "                                                               \"subtweet_negative_probability\"], axis=1)"
   ]
  },
  {
   "cell_type": "code",
   "execution_count": 60,
   "metadata": {},
   "outputs": [],
   "source": [
    "julia_df.to_csv(\"../data/data_from_testing/friends_data/juliaeberry_tests.csv\")"
   ]
  },
  {
   "cell_type": "code",
   "execution_count": 61,
   "metadata": {},
   "outputs": [
    {
     "data": {
      "text/html": [
       "<div>\n",
       "<style scoped>\n",
       "    .dataframe tbody tr th:only-of-type {\n",
       "        vertical-align: middle;\n",
       "    }\n",
       "\n",
       "    .dataframe tbody tr th {\n",
       "        vertical-align: top;\n",
       "    }\n",
       "\n",
       "    .dataframe thead th {\n",
       "        text-align: right;\n",
       "    }\n",
       "</style>\n",
       "<table border=\"1\" class=\"dataframe\">\n",
       "  <thead>\n",
       "    <tr style=\"text-align: right;\">\n",
       "      <th></th>\n",
       "      <th>subtweet_positive_probability</th>\n",
       "      <th>tweet</th>\n",
       "    </tr>\n",
       "  </thead>\n",
       "  <tbody>\n",
       "    <tr>\n",
       "      <th>3197</th>\n",
       "      <td>0.8786</td>\n",
       "      <td>unpopular twitter opinion I don't like christine sudoku and elijah whatever and I don't think they're funny</td>\n",
       "    </tr>\n",
       "    <tr>\n",
       "      <th>49</th>\n",
       "      <td>0.8648</td>\n",
       "      <td>･ ｡\\n ☆∴｡　*\\n　･ﾟ*｡★･\\n　　･ *ﾟ｡　　 *\\n　 ･ ﾟ*｡･ﾟ★｡\\n　　　☆ﾟ･｡°*. ﾟ\\n*　　ﾟ｡·*･｡ ﾟ*\\n　　　ﾟ *.｡☆｡★　･\\n　　* ☆ ｡･ﾟ*.｡\\n　　　 *　★ ﾟ･｡ *  ｡\\n　　　　･　　ﾟ☆ ｡➋</td>\n",
       "    </tr>\n",
       "    <tr>\n",
       "      <th>50</th>\n",
       "      <td>0.8648</td>\n",
       "      <td>･ ｡\\n ☆∴｡　*\\n　･ﾟ*｡★･\\n　　･ *ﾟ｡　　 *\\n　 ･ ﾟ*｡･ﾟ★｡\\n　　　☆ﾟ･｡°*. ﾟ\\n*　　ﾟ｡·*･｡ ﾟ*\\n　　　ﾟ *.｡☆｡★　･\\n　　* ☆ ｡･ﾟ*.｡\\n　　　 *　★ ﾟ･｡ *  ｡\\n　　　　･　　ﾟ☆ ｡➋</td>\n",
       "    </tr>\n",
       "    <tr>\n",
       "      <th>4257</th>\n",
       "      <td>0.8616</td>\n",
       "      <td>been sitting under a tree with ➌ and ➌ and I have read 7 pages of the book I'm writing my final paper on ¯\\_(ツ)_/¯</td>\n",
       "    </tr>\n",
       "    <tr>\n",
       "      <th>4342</th>\n",
       "      <td>0.8611</td>\n",
       "      <td>I've never fully understood the appeal of tinder but now friendsy got me hooked so             ¯\\_(ツ)_/¯</td>\n",
       "    </tr>\n",
       "  </tbody>\n",
       "</table>\n",
       "</div>"
      ],
      "text/plain": [
       "      subtweet_positive_probability  \\\n",
       "3197                         0.8786   \n",
       "49                           0.8648   \n",
       "50                           0.8648   \n",
       "4257                         0.8616   \n",
       "4342                         0.8611   \n",
       "\n",
       "                                                                                                                                        tweet  \n",
       "3197                              unpopular twitter opinion I don't like christine sudoku and elijah whatever and I don't think they're funny  \n",
       "49    ･ ｡\\n ☆∴｡　*\\n　･ﾟ*｡★･\\n　　･ *ﾟ｡　　 *\\n　 ･ ﾟ*｡･ﾟ★｡\\n　　　☆ﾟ･｡°*. ﾟ\\n*　　ﾟ｡·*･｡ ﾟ*\\n　　　ﾟ *.｡☆｡★　･\\n　　* ☆ ｡･ﾟ*.｡\\n　　　 *　★ ﾟ･｡ *  ｡\\n　　　　･　　ﾟ☆ ｡➋  \n",
       "50    ･ ｡\\n ☆∴｡　*\\n　･ﾟ*｡★･\\n　　･ *ﾟ｡　　 *\\n　 ･ ﾟ*｡･ﾟ★｡\\n　　　☆ﾟ･｡°*. ﾟ\\n*　　ﾟ｡·*･｡ ﾟ*\\n　　　ﾟ *.｡☆｡★　･\\n　　* ☆ ｡･ﾟ*.｡\\n　　　 *　★ ﾟ･｡ *  ｡\\n　　　　･　　ﾟ☆ ｡➋  \n",
       "4257                       been sitting under a tree with ➌ and ➌ and I have read 7 pages of the book I'm writing my final paper on ¯\\_(ツ)_/¯  \n",
       "4342                                 I've never fully understood the appeal of tinder but now friendsy got me hooked so             ¯\\_(ツ)_/¯  "
      ]
     },
     "execution_count": 61,
     "metadata": {},
     "output_type": "execute_result"
    }
   ],
   "source": [
    "julia_df.head(5)"
   ]
  },
  {
   "cell_type": "code",
   "execution_count": 62,
   "metadata": {},
   "outputs": [],
   "source": [
    "julia_df_for_plotting = julia_df.drop([\"tweet\"], axis=1)"
   ]
  },
  {
   "cell_type": "markdown",
   "metadata": {},
   "source": [
    "#### Lex"
   ]
  },
  {
   "cell_type": "code",
   "execution_count": 63,
   "metadata": {},
   "outputs": [],
   "source": [
    "lex_df = pd.read_csv(\"../data/data_for_testing/friends_data/gothodile_tweets.csv\").dropna()\n",
    "lex_df[\"Sentiment\"] = None"
   ]
  },
  {
   "cell_type": "markdown",
   "metadata": {},
   "source": [
    "#### Remove usernames, URLs, and hashtags"
   ]
  },
  {
   "cell_type": "code",
   "execution_count": 64,
   "metadata": {},
   "outputs": [],
   "source": [
    "lex_df[\"Text\"] = lex_df[\"Text\"].str.replace(hashtags_pattern, \"➊\")"
   ]
  },
  {
   "cell_type": "code",
   "execution_count": 65,
   "metadata": {},
   "outputs": [],
   "source": [
    "lex_df[\"Text\"] = lex_df[\"Text\"].str.replace(urls_pattern, \"➋\")"
   ]
  },
  {
   "cell_type": "code",
   "execution_count": 66,
   "metadata": {},
   "outputs": [],
   "source": [
    "lex_df[\"Text\"] = lex_df[\"Text\"].str.replace(at_mentions_pattern, \"➌\")"
   ]
  },
  {
   "cell_type": "code",
   "execution_count": 67,
   "metadata": {},
   "outputs": [],
   "source": [
    "lex_df = tests_dataframe(lex_df, text_column=\"Text\", \n",
    "                         sentiment_column=\"Sentiment\").drop([\"sentiment_score\",\n",
    "                                                             \"subtweet_negative_probability\"], axis=1)"
   ]
  },
  {
   "cell_type": "code",
   "execution_count": 68,
   "metadata": {},
   "outputs": [],
   "source": [
    "lex_df.to_csv(\"../data/data_from_testing/friends_data/gothodile_tests.csv\")"
   ]
  },
  {
   "cell_type": "code",
   "execution_count": 69,
   "metadata": {},
   "outputs": [
    {
     "data": {
      "text/html": [
       "<div>\n",
       "<style scoped>\n",
       "    .dataframe tbody tr th:only-of-type {\n",
       "        vertical-align: middle;\n",
       "    }\n",
       "\n",
       "    .dataframe tbody tr th {\n",
       "        vertical-align: top;\n",
       "    }\n",
       "\n",
       "    .dataframe thead th {\n",
       "        text-align: right;\n",
       "    }\n",
       "</style>\n",
       "<table border=\"1\" class=\"dataframe\">\n",
       "  <thead>\n",
       "    <tr style=\"text-align: right;\">\n",
       "      <th></th>\n",
       "      <th>subtweet_positive_probability</th>\n",
       "      <th>tweet</th>\n",
       "    </tr>\n",
       "  </thead>\n",
       "  <tbody>\n",
       "    <tr>\n",
       "      <th>1043</th>\n",
       "      <td>0.8597</td>\n",
       "      <td>and i realize thats not something i should complain about but it feels kinda evolutionarily inefficiant.</td>\n",
       "    </tr>\n",
       "    <tr>\n",
       "      <th>3260</th>\n",
       "      <td>0.8550</td>\n",
       "      <td>its as bad of an excuse as any to try and say \"if you're a REAL comic book fan you'll like it\"</td>\n",
       "    </tr>\n",
       "    <tr>\n",
       "      <th>2054</th>\n",
       "      <td>0.8300</td>\n",
       "      <td>so like literally u can stop tweeting @ me to die because i didnt put an art cred on my relatable meme shitpost</td>\n",
       "    </tr>\n",
       "    <tr>\n",
       "      <th>2138</th>\n",
       "      <td>0.8283</td>\n",
       "      <td>wanna know what a real depression mood is?? pinterest. i feel like pinterest is where u go when u dont want to think about anything.</td>\n",
       "    </tr>\n",
       "    <tr>\n",
       "      <th>2110</th>\n",
       "      <td>0.8245</td>\n",
       "      <td>needing help on things but not wanting to ask because u know theyre just gonna say some stupid shit and u dont want to go to jail for murder</td>\n",
       "    </tr>\n",
       "  </tbody>\n",
       "</table>\n",
       "</div>"
      ],
      "text/plain": [
       "      subtweet_positive_probability  \\\n",
       "1043                         0.8597   \n",
       "3260                         0.8550   \n",
       "2054                         0.8300   \n",
       "2138                         0.8283   \n",
       "2110                         0.8245   \n",
       "\n",
       "                                                                                                                                             tweet  \n",
       "1043                                      and i realize thats not something i should complain about but it feels kinda evolutionarily inefficiant.  \n",
       "3260                                                its as bad of an excuse as any to try and say \"if you're a REAL comic book fan you'll like it\"  \n",
       "2054                               so like literally u can stop tweeting @ me to die because i didnt put an art cred on my relatable meme shitpost  \n",
       "2138          wanna know what a real depression mood is?? pinterest. i feel like pinterest is where u go when u dont want to think about anything.  \n",
       "2110  needing help on things but not wanting to ask because u know theyre just gonna say some stupid shit and u dont want to go to jail for murder  "
      ]
     },
     "execution_count": 69,
     "metadata": {},
     "output_type": "execute_result"
    }
   ],
   "source": [
    "lex_df.head()"
   ]
  },
  {
   "cell_type": "code",
   "execution_count": 70,
   "metadata": {},
   "outputs": [],
   "source": [
    "lex_df_for_plotting = lex_df.drop([\"tweet\"], axis=1)"
   ]
  },
  {
   "cell_type": "markdown",
   "metadata": {},
   "source": [
    "#### Noah"
   ]
  },
  {
   "cell_type": "code",
   "execution_count": 71,
   "metadata": {},
   "outputs": [],
   "source": [
    "noah_df = pd.read_csv(\"../data/data_for_testing/friends_data/noahsegalgould_tweets.csv\").dropna()\n",
    "noah_df[\"Sentiment\"] = None"
   ]
  },
  {
   "cell_type": "markdown",
   "metadata": {},
   "source": [
    "#### Remove usernames, URLs, and hashtags"
   ]
  },
  {
   "cell_type": "code",
   "execution_count": 72,
   "metadata": {},
   "outputs": [],
   "source": [
    "noah_df[\"Text\"] = noah_df[\"Text\"].str.replace(hashtags_pattern, \"➊\")"
   ]
  },
  {
   "cell_type": "code",
   "execution_count": 73,
   "metadata": {},
   "outputs": [],
   "source": [
    "noah_df[\"Text\"] = noah_df[\"Text\"].str.replace(urls_pattern, \"➋\")"
   ]
  },
  {
   "cell_type": "code",
   "execution_count": 74,
   "metadata": {},
   "outputs": [],
   "source": [
    "noah_df[\"Text\"] = noah_df[\"Text\"].str.replace(at_mentions_pattern, \"➌\")"
   ]
  },
  {
   "cell_type": "code",
   "execution_count": 75,
   "metadata": {
    "scrolled": false
   },
   "outputs": [],
   "source": [
    "noah_df = tests_dataframe(noah_df, text_column=\"Text\", \n",
    "                          sentiment_column=\"Sentiment\").drop([\"sentiment_score\", \n",
    "                                                              \"subtweet_negative_probability\"], axis=1)"
   ]
  },
  {
   "cell_type": "code",
   "execution_count": 76,
   "metadata": {},
   "outputs": [],
   "source": [
    "noah_df.to_csv(\"../data/data_from_testing/friends_data/noahsegalgould_tests.csv\")"
   ]
  },
  {
   "cell_type": "code",
   "execution_count": 77,
   "metadata": {},
   "outputs": [
    {
     "data": {
      "text/html": [
       "<div>\n",
       "<style scoped>\n",
       "    .dataframe tbody tr th:only-of-type {\n",
       "        vertical-align: middle;\n",
       "    }\n",
       "\n",
       "    .dataframe tbody tr th {\n",
       "        vertical-align: top;\n",
       "    }\n",
       "\n",
       "    .dataframe thead th {\n",
       "        text-align: right;\n",
       "    }\n",
       "</style>\n",
       "<table border=\"1\" class=\"dataframe\">\n",
       "  <thead>\n",
       "    <tr style=\"text-align: right;\">\n",
       "      <th></th>\n",
       "      <th>subtweet_positive_probability</th>\n",
       "      <th>tweet</th>\n",
       "    </tr>\n",
       "  </thead>\n",
       "  <tbody>\n",
       "    <tr>\n",
       "      <th>2022</th>\n",
       "      <td>0.8911</td>\n",
       "      <td>you may think you're cool but unless you're friends with my friends you're not actually as cool as you could be</td>\n",
       "    </tr>\n",
       "    <tr>\n",
       "      <th>2588</th>\n",
       "      <td>0.8504</td>\n",
       "      <td>I'm gonna start a political party that exists only to express its members indecisiveness. It will be the \"¯\\_(ツ)_/¯\" party.</td>\n",
       "    </tr>\n",
       "    <tr>\n",
       "      <th>2027</th>\n",
       "      <td>0.8503</td>\n",
       "      <td>IF U CALL URSELF A WEEB BUT DONT HAVE ANIME PROF PICS ON ALL SOCIAL MEDIA\\n DELETE  UR  ACCOUNTS</td>\n",
       "    </tr>\n",
       "    <tr>\n",
       "      <th>1716</th>\n",
       "      <td>0.8440</td>\n",
       "      <td>If you don't make your meatloaf with ketchup don't bother talking to me</td>\n",
       "    </tr>\n",
       "    <tr>\n",
       "      <th>1689</th>\n",
       "      <td>0.8345</td>\n",
       "      <td>linkedin is better than twitter.\\ndon't @ me.</td>\n",
       "    </tr>\n",
       "  </tbody>\n",
       "</table>\n",
       "</div>"
      ],
      "text/plain": [
       "      subtweet_positive_probability  \\\n",
       "2022                         0.8911   \n",
       "2588                         0.8504   \n",
       "2027                         0.8503   \n",
       "1716                         0.8440   \n",
       "1689                         0.8345   \n",
       "\n",
       "                                                                                                                            tweet  \n",
       "2022              you may think you're cool but unless you're friends with my friends you're not actually as cool as you could be  \n",
       "2588  I'm gonna start a political party that exists only to express its members indecisiveness. It will be the \"¯\\_(ツ)_/¯\" party.  \n",
       "2027                            IF U CALL URSELF A WEEB BUT DONT HAVE ANIME PROF PICS ON ALL SOCIAL MEDIA\\n DELETE  UR  ACCOUNTS   \n",
       "1716                                                      If you don't make your meatloaf with ketchup don't bother talking to me  \n",
       "1689                                                                                linkedin is better than twitter.\\ndon't @ me.  "
      ]
     },
     "execution_count": 77,
     "metadata": {},
     "output_type": "execute_result"
    }
   ],
   "source": [
    "noah_df.head()"
   ]
  },
  {
   "cell_type": "code",
   "execution_count": 78,
   "metadata": {},
   "outputs": [],
   "source": [
    "noah_df_for_plotting = noah_df.drop([\"tweet\"], axis=1)"
   ]
  },
  {
   "cell_type": "markdown",
   "metadata": {},
   "source": [
    "#### Rename the columns for later"
   ]
  },
  {
   "cell_type": "code",
   "execution_count": 79,
   "metadata": {},
   "outputs": [],
   "source": [
    "aaron_df_for_plotting_together = aaron_df_for_plotting.rename(columns={\"subtweet_positive_probability\": \"Aaron\"})"
   ]
  },
  {
   "cell_type": "code",
   "execution_count": 80,
   "metadata": {},
   "outputs": [],
   "source": [
    "julia_df_for_plotting_together = julia_df_for_plotting.rename(columns={\"subtweet_positive_probability\": \"Julia\"})"
   ]
  },
  {
   "cell_type": "code",
   "execution_count": 81,
   "metadata": {},
   "outputs": [],
   "source": [
    "lex_df_for_plotting_together = lex_df_for_plotting.rename(columns={\"subtweet_positive_probability\": \"Lex\"})"
   ]
  },
  {
   "cell_type": "code",
   "execution_count": 82,
   "metadata": {},
   "outputs": [],
   "source": [
    "noah_df_for_plotting_together = noah_df_for_plotting.rename(columns={\"subtweet_positive_probability\": \"Noah\"})"
   ]
  },
  {
   "cell_type": "markdown",
   "metadata": {},
   "source": [
    "#### Prepare statistics on friends' tweets"
   ]
  },
  {
   "cell_type": "code",
   "execution_count": 83,
   "metadata": {},
   "outputs": [],
   "source": [
    "friends_df = pd.concat([aaron_df_for_plotting_together, \n",
    "                        julia_df_for_plotting_together, \n",
    "                        lex_df_for_plotting_together, \n",
    "                        noah_df_for_plotting_together], ignore_index=True)"
   ]
  },
  {
   "cell_type": "code",
   "execution_count": 84,
   "metadata": {},
   "outputs": [
    {
     "data": {
      "text/html": [
       "<div>\n",
       "<style scoped>\n",
       "    .dataframe tbody tr th:only-of-type {\n",
       "        vertical-align: middle;\n",
       "    }\n",
       "\n",
       "    .dataframe tbody tr th {\n",
       "        vertical-align: top;\n",
       "    }\n",
       "\n",
       "    .dataframe thead th {\n",
       "        text-align: right;\n",
       "    }\n",
       "</style>\n",
       "<table border=\"1\" class=\"dataframe\">\n",
       "  <thead>\n",
       "    <tr style=\"text-align: right;\">\n",
       "      <th></th>\n",
       "      <th>Aaron</th>\n",
       "      <th>Julia</th>\n",
       "      <th>Lex</th>\n",
       "      <th>Noah</th>\n",
       "    </tr>\n",
       "  </thead>\n",
       "  <tbody>\n",
       "    <tr>\n",
       "      <th>count</th>\n",
       "      <td>2640.0000</td>\n",
       "      <td>4356.0000</td>\n",
       "      <td>3488.0000</td>\n",
       "      <td>2814.0000</td>\n",
       "    </tr>\n",
       "    <tr>\n",
       "      <th>mean</th>\n",
       "      <td>0.5082</td>\n",
       "      <td>0.5198</td>\n",
       "      <td>0.5279</td>\n",
       "      <td>0.5087</td>\n",
       "    </tr>\n",
       "    <tr>\n",
       "      <th>std</th>\n",
       "      <td>0.1212</td>\n",
       "      <td>0.1036</td>\n",
       "      <td>0.1120</td>\n",
       "      <td>0.1097</td>\n",
       "    </tr>\n",
       "    <tr>\n",
       "      <th>min</th>\n",
       "      <td>0.1386</td>\n",
       "      <td>0.1274</td>\n",
       "      <td>0.1493</td>\n",
       "      <td>0.1450</td>\n",
       "    </tr>\n",
       "    <tr>\n",
       "      <th>25%</th>\n",
       "      <td>0.4251</td>\n",
       "      <td>0.4513</td>\n",
       "      <td>0.4566</td>\n",
       "      <td>0.4374</td>\n",
       "    </tr>\n",
       "    <tr>\n",
       "      <th>50%</th>\n",
       "      <td>0.5070</td>\n",
       "      <td>0.5159</td>\n",
       "      <td>0.5219</td>\n",
       "      <td>0.5059</td>\n",
       "    </tr>\n",
       "    <tr>\n",
       "      <th>75%</th>\n",
       "      <td>0.5873</td>\n",
       "      <td>0.5863</td>\n",
       "      <td>0.6055</td>\n",
       "      <td>0.5806</td>\n",
       "    </tr>\n",
       "    <tr>\n",
       "      <th>max</th>\n",
       "      <td>0.9228</td>\n",
       "      <td>0.8786</td>\n",
       "      <td>0.8597</td>\n",
       "      <td>0.8911</td>\n",
       "    </tr>\n",
       "  </tbody>\n",
       "</table>\n",
       "</div>"
      ],
      "text/plain": [
       "          Aaron     Julia       Lex      Noah\n",
       "count 2640.0000 4356.0000 3488.0000 2814.0000\n",
       "mean     0.5082    0.5198    0.5279    0.5087\n",
       "std      0.1212    0.1036    0.1120    0.1097\n",
       "min      0.1386    0.1274    0.1493    0.1450\n",
       "25%      0.4251    0.4513    0.4566    0.4374\n",
       "50%      0.5070    0.5159    0.5219    0.5059\n",
       "75%      0.5873    0.5863    0.6055    0.5806\n",
       "max      0.9228    0.8786    0.8597    0.8911"
      ]
     },
     "execution_count": 84,
     "metadata": {},
     "output_type": "execute_result"
    }
   ],
   "source": [
    "friends_df.describe()"
   ]
  },
  {
   "cell_type": "code",
   "execution_count": 85,
   "metadata": {},
   "outputs": [],
   "source": [
    "aaron_mean = friends_df.describe().Aaron[1]\n",
    "aaron_std = friends_df.describe().Aaron[2]\n",
    "\n",
    "julia_mean = friends_df.describe().Julia[1]\n",
    "julia_std = friends_df.describe().Julia[2]\n",
    "\n",
    "noah_mean = friends_df.describe().Noah[1]\n",
    "noah_std = friends_df.describe().Noah[2]\n",
    "\n",
    "lex_mean = friends_df.describe().Lex[1]\n",
    "lex_std = friends_df.describe().Lex[2]"
   ]
  },
  {
   "cell_type": "markdown",
   "metadata": {},
   "source": [
    "#### Plot all the histograms"
   ]
  },
  {
   "cell_type": "code",
   "execution_count": 86,
   "metadata": {
    "scrolled": false
   },
   "outputs": [
    {
     "name": "stderr",
     "output_type": "stream",
     "text": [
      "/Users/Noah/anaconda/envs/work/lib/python3.6/site-packages/numpy/core/fromnumeric.py:52: FutureWarning: reshape is deprecated and will raise in a subsequent release. Please use .values.reshape(...) instead\n",
      "  return getattr(obj, method)(*args, **kwds)\n"
     ]
    },
    {
     "data": {
      "image/png": "[encoded data removed]",
      "text/plain": [
       "<Figure size 1152x648 with 1 Axes>"
      ]
     },
     "metadata": {},
     "output_type": "display_data"
    },
    {
     "name": "stdout",
     "output_type": "stream",
     "text": [
      "CPU times: user 710 ms, sys: 51.8 ms, total: 762 ms\n",
      "Wall time: 807 ms\n"
     ]
    }
   ],
   "source": [
    "%%time\n",
    "fig = plt.figure(figsize=(16, 9))\n",
    "ax = fig.add_subplot(111)\n",
    "\n",
    "n, bins, patches = ax.hist([aaron_df_for_plotting.subtweet_positive_probability, \n",
    "                            julia_df_for_plotting.subtweet_positive_probability, \n",
    "                            noah_df_for_plotting.subtweet_positive_probability, \n",
    "                            lex_df_for_plotting.subtweet_positive_probability], \n",
    "                           bins=\"doane\",\n",
    "                           color=[\"#256EFF\", \"#46237A\", \"#3DDC97\", \"#FF495C\"],\n",
    "                           density=True, label=[\"Aaron\", \"Julia\", \"Noah\", \"Lex\"], \n",
    "                           alpha=0.75)\n",
    "\n",
    "aaron_line = scipy.stats.norm.pdf(bins, aaron_mean, aaron_std)\n",
    "ax.plot(bins, aaron_line, \"--\", color=\"#256EFF\", linewidth=3)\n",
    "\n",
    "julia_line = scipy.stats.norm.pdf(bins, julia_mean, julia_std)\n",
    "ax.plot(bins, julia_line, \"--\", color=\"#46237A\", linewidth=3)\n",
    "\n",
    "noah_line = scipy.stats.norm.pdf(bins, noah_mean, noah_std)\n",
    "ax.plot(bins, noah_line, \"--\", color=\"#3DDC97\", linewidth=3)\n",
    "\n",
    "lex_line = scipy.stats.norm.pdf(bins, lex_mean, lex_std)\n",
    "ax.plot(bins, lex_line, \"--\", color=\"#FF495C\", linewidth=3)\n",
    "\n",
    "ax.set_xticks([float(x/10) for x in range(11)], minor=False)\n",
    "ax.set_title(\"Friends' Dataset Distribution of Subtweet Probabilities\", fontsize=18)\n",
    "ax.set_xlabel(\"Probability That Tweet is a Subtweet\", fontsize=18)\n",
    "ax.set_ylabel(\"Portion of Tweets with That Probability\", fontsize=18)\n",
    "\n",
    "ax.legend()\n",
    "\n",
    "plt.show()"
   ]
  },
  {
   "cell_type": "markdown",
   "metadata": {},
   "source": [
    "#### Statisitics on training data"
   ]
  },
  {
   "cell_type": "markdown",
   "metadata": {},
   "source": [
    "#### Remove mentions of usernames for these statistics"
   ]
  },
  {
   "cell_type": "code",
   "execution_count": 87,
   "metadata": {},
   "outputs": [],
   "source": [
    "training_data = [\" \".join([token for token in tokenizer.tokenize(pair[0]) if \"@\" not in token]) \n",
    "                 for pair in training_data]"
   ]
  },
  {
   "cell_type": "markdown",
   "metadata": {},
   "source": [
    "#### Lengths (Less than or equal to 280 characters and greater than or equal to 5 characters)"
   ]
  },
  {
   "cell_type": "code",
   "execution_count": 88,
   "metadata": {},
   "outputs": [],
   "source": [
    "length_data = [len(tweet) for tweet in training_data]"
   ]
  },
  {
   "cell_type": "code",
   "execution_count": 89,
   "metadata": {},
   "outputs": [],
   "source": [
    "length_data_for_stats = pd.DataFrame({\"Length\": length_data, \"Tweet\": training_data})"
   ]
  },
  {
   "cell_type": "code",
   "execution_count": 90,
   "metadata": {},
   "outputs": [],
   "source": [
    "length_data_for_stats = length_data_for_stats[length_data_for_stats[\"Length\"] <= 280]  "
   ]
  },
  {
   "cell_type": "code",
   "execution_count": 91,
   "metadata": {},
   "outputs": [],
   "source": [
    "length_data_for_stats = length_data_for_stats[length_data_for_stats[\"Length\"] >= 5]"
   ]
  },
  {
   "cell_type": "code",
   "execution_count": 92,
   "metadata": {},
   "outputs": [],
   "source": [
    "length_data = length_data_for_stats.Length.tolist()"
   ]
  },
  {
   "cell_type": "code",
   "execution_count": 93,
   "metadata": {},
   "outputs": [
    {
     "data": {
      "text/html": [
       "<div>\n",
       "<style scoped>\n",
       "    .dataframe tbody tr th:only-of-type {\n",
       "        vertical-align: middle;\n",
       "    }\n",
       "\n",
       "    .dataframe tbody tr th {\n",
       "        vertical-align: top;\n",
       "    }\n",
       "\n",
       "    .dataframe thead th {\n",
       "        text-align: right;\n",
       "    }\n",
       "</style>\n",
       "<table border=\"1\" class=\"dataframe\">\n",
       "  <thead>\n",
       "    <tr style=\"text-align: right;\">\n",
       "      <th></th>\n",
       "      <th>Length</th>\n",
       "      <th>Tweet</th>\n",
       "    </tr>\n",
       "  </thead>\n",
       "  <tbody>\n",
       "    <tr>\n",
       "      <th>3417</th>\n",
       "      <td>280</td>\n",
       "      <td>i'll never have any respect for trophy hunters . i know there's an argument made about it helping conservation , but shit it's pathetic . it's like buying dlc to fucking clobber the kids that couldn't afford it . there's no sport in it , just spend a ton of money , hide and s...</td>\n",
       "    </tr>\n",
       "    <tr>\n",
       "      <th>5351</th>\n",
       "      <td>280</td>\n",
       "      <td>so uh , slightly annoying thing but like legitmately , don't just go \" but i / thought / x was the best :/ / \" when i'm on my unpopular opinion thread bc tbh it makes me legitmately never want to speak again . like yes , it's a popular game and you liked it and i'm glad you d...</td>\n",
       "    </tr>\n",
       "    <tr>\n",
       "      <th>4299</th>\n",
       "      <td>280</td>\n",
       "      <td>the corbyn jewish stuff is fucking me up anti semitism is generally bad but its annoying to constantly have to claim lies in order not to be an anti semititic like you cant say ' jews are powerful ' even though thats obviously true and pepo wont even debate you on this just s...</td>\n",
       "    </tr>\n",
       "    <tr>\n",
       "      <th>3461</th>\n",
       "      <td>280</td>\n",
       "      <td>in conclusion , if i'm gonna read about a bunch of kids screwing around at an oxbridge or eton knockoff or w / e , i'm just gonna read brideshead revisited , because sebastian flyte wouldn't giggle about turning tea into whiskey , he would treat getting wasted like it was his...</td>\n",
       "    </tr>\n",
       "    <tr>\n",
       "      <th>1688</th>\n",
       "      <td>280</td>\n",
       "      <td>when your stupid ass ex runs around telling her dumb ass friends a bunch of bullshit and giving your number to people then you have a bunch of fucking pussies saying if you got a problem meet up with me we can settle it get the fuck out of here , bunch of fucking gunsels get ...</td>\n",
       "    </tr>\n",
       "  </tbody>\n",
       "</table>\n",
       "</div>"
      ],
      "text/plain": [
       "      Length  \\\n",
       "3417     280   \n",
       "5351     280   \n",
       "4299     280   \n",
       "3461     280   \n",
       "1688     280   \n",
       "\n",
       "                                                                                                                                                                                                                                                                                        Tweet  \n",
       "3417  i'll never have any respect for trophy hunters . i know there's an argument made about it helping conservation , but shit it's pathetic . it's like buying dlc to fucking clobber the kids that couldn't afford it . there's no sport in it , just spend a ton of money , hide and s...  \n",
       "5351  so uh , slightly annoying thing but like legitmately , don't just go \" but i / thought / x was the best :/ / \" when i'm on my unpopular opinion thread bc tbh it makes me legitmately never want to speak again . like yes , it's a popular game and you liked it and i'm glad you d...  \n",
       "4299  the corbyn jewish stuff is fucking me up anti semitism is generally bad but its annoying to constantly have to claim lies in order not to be an anti semititic like you cant say ' jews are powerful ' even though thats obviously true and pepo wont even debate you on this just s...  \n",
       "3461  in conclusion , if i'm gonna read about a bunch of kids screwing around at an oxbridge or eton knockoff or w / e , i'm just gonna read brideshead revisited , because sebastian flyte wouldn't giggle about turning tea into whiskey , he would treat getting wasted like it was his...  \n",
       "1688  when your stupid ass ex runs around telling her dumb ass friends a bunch of bullshit and giving your number to people then you have a bunch of fucking pussies saying if you got a problem meet up with me we can settle it get the fuck out of here , bunch of fucking gunsels get ...  "
      ]
     },
     "execution_count": 93,
     "metadata": {},
     "output_type": "execute_result"
    }
   ],
   "source": [
    "length_data_for_stats.sort_values(by=\"Length\", ascending=False).head()"
   ]
  },
  {
   "cell_type": "code",
   "execution_count": 94,
   "metadata": {},
   "outputs": [
    {
     "data": {
      "text/html": [
       "<div>\n",
       "<style scoped>\n",
       "    .dataframe tbody tr th:only-of-type {\n",
       "        vertical-align: middle;\n",
       "    }\n",
       "\n",
       "    .dataframe tbody tr th {\n",
       "        vertical-align: top;\n",
       "    }\n",
       "\n",
       "    .dataframe thead th {\n",
       "        text-align: right;\n",
       "    }\n",
       "</style>\n",
       "<table border=\"1\" class=\"dataframe\">\n",
       "  <thead>\n",
       "    <tr style=\"text-align: right;\">\n",
       "      <th></th>\n",
       "      <th>Length</th>\n",
       "      <th>Tweet</th>\n",
       "    </tr>\n",
       "  </thead>\n",
       "  <tbody>\n",
       "    <tr>\n",
       "      <th>10743</th>\n",
       "      <td>11</td>\n",
       "      <td>l i l a c ➋</td>\n",
       "    </tr>\n",
       "    <tr>\n",
       "      <th>10612</th>\n",
       "      <td>13</td>\n",
       "      <td>a l m o s t ➋</td>\n",
       "    </tr>\n",
       "    <tr>\n",
       "      <th>1796</th>\n",
       "      <td>13</td>\n",
       "      <td>i t s j o k e</td>\n",
       "    </tr>\n",
       "    <tr>\n",
       "      <th>5812</th>\n",
       "      <td>14</td>\n",
       "      <td>a rat is a rat</td>\n",
       "    </tr>\n",
       "    <tr>\n",
       "      <th>2892</th>\n",
       "      <td>15</td>\n",
       "      <td>i want to die .</td>\n",
       "    </tr>\n",
       "  </tbody>\n",
       "</table>\n",
       "</div>"
      ],
      "text/plain": [
       "       Length            Tweet\n",
       "10743      11      l i l a c ➋\n",
       "10612      13    a l m o s t ➋\n",
       "1796       13    i t s j o k e\n",
       "5812       14   a rat is a rat\n",
       "2892       15  i want to die ."
      ]
     },
     "execution_count": 94,
     "metadata": {},
     "output_type": "execute_result"
    }
   ],
   "source": [
    "length_data_for_stats.sort_values(by=\"Length\", ascending=True).head()"
   ]
  },
  {
   "cell_type": "code",
   "execution_count": 95,
   "metadata": {},
   "outputs": [
    {
     "data": {
      "text/html": [
       "<div>\n",
       "<style scoped>\n",
       "    .dataframe tbody tr th:only-of-type {\n",
       "        vertical-align: middle;\n",
       "    }\n",
       "\n",
       "    .dataframe tbody tr th {\n",
       "        vertical-align: top;\n",
       "    }\n",
       "\n",
       "    .dataframe thead th {\n",
       "        text-align: right;\n",
       "    }\n",
       "</style>\n",
       "<table border=\"1\" class=\"dataframe\">\n",
       "  <thead>\n",
       "    <tr style=\"text-align: right;\">\n",
       "      <th></th>\n",
       "      <th>Length</th>\n",
       "    </tr>\n",
       "  </thead>\n",
       "  <tbody>\n",
       "    <tr>\n",
       "      <th>count</th>\n",
       "      <td>14144.0000</td>\n",
       "    </tr>\n",
       "    <tr>\n",
       "      <th>mean</th>\n",
       "      <td>112.7000</td>\n",
       "    </tr>\n",
       "    <tr>\n",
       "      <th>std</th>\n",
       "      <td>68.2908</td>\n",
       "    </tr>\n",
       "    <tr>\n",
       "      <th>min</th>\n",
       "      <td>11.0000</td>\n",
       "    </tr>\n",
       "    <tr>\n",
       "      <th>25%</th>\n",
       "      <td>58.0000</td>\n",
       "    </tr>\n",
       "    <tr>\n",
       "      <th>50%</th>\n",
       "      <td>94.0000</td>\n",
       "    </tr>\n",
       "    <tr>\n",
       "      <th>75%</th>\n",
       "      <td>154.0000</td>\n",
       "    </tr>\n",
       "    <tr>\n",
       "      <th>max</th>\n",
       "      <td>280.0000</td>\n",
       "    </tr>\n",
       "  </tbody>\n",
       "</table>\n",
       "</div>"
      ],
      "text/plain": [
       "          Length\n",
       "count 14144.0000\n",
       "mean    112.7000\n",
       "std      68.2908\n",
       "min      11.0000\n",
       "25%      58.0000\n",
       "50%      94.0000\n",
       "75%     154.0000\n",
       "max     280.0000"
      ]
     },
     "execution_count": 95,
     "metadata": {},
     "output_type": "execute_result"
    }
   ],
   "source": [
    "length_data_for_stats.describe()"
   ]
  },
  {
   "cell_type": "markdown",
   "metadata": {},
   "source": [
    "#### Punctuation"
   ]
  },
  {
   "cell_type": "code",
   "execution_count": 96,
   "metadata": {},
   "outputs": [],
   "source": [
    "punctuation_data = [len(set(punctuation).intersection(set(tweet))) for tweet in training_data]"
   ]
  },
  {
   "cell_type": "code",
   "execution_count": 97,
   "metadata": {},
   "outputs": [],
   "source": [
    "punctuation_data_for_stats = pd.DataFrame({\"Punctuation\": punctuation_data, \"Tweet\": training_data})"
   ]
  },
  {
   "cell_type": "code",
   "execution_count": 98,
   "metadata": {},
   "outputs": [
    {
     "data": {
      "text/html": [
       "<div>\n",
       "<style scoped>\n",
       "    .dataframe tbody tr th:only-of-type {\n",
       "        vertical-align: middle;\n",
       "    }\n",
       "\n",
       "    .dataframe tbody tr th {\n",
       "        vertical-align: top;\n",
       "    }\n",
       "\n",
       "    .dataframe thead th {\n",
       "        text-align: right;\n",
       "    }\n",
       "</style>\n",
       "<table border=\"1\" class=\"dataframe\">\n",
       "  <thead>\n",
       "    <tr style=\"text-align: right;\">\n",
       "      <th></th>\n",
       "      <th>Punctuation</th>\n",
       "      <th>Tweet</th>\n",
       "    </tr>\n",
       "  </thead>\n",
       "  <tbody>\n",
       "    <tr>\n",
       "      <th>6533</th>\n",
       "      <td>13</td>\n",
       "      <td>if u were killed tomorrow , i wouldnt go 2 ur funeral cuz id b n jail 4 killin da person that killed u ! ... ___ ... / _ = = o ; ; ; ___ [ ] ... ) , — - . ( _ ( __ ) / ... / / ( .. ) ) , — - - \" ... / / ___ / / .. / / ___ / / we true homies we ride together we die together</td>\n",
       "    </tr>\n",
       "    <tr>\n",
       "      <th>10474</th>\n",
       "      <td>11</td>\n",
       "      <td>[ bang dream girls band party seiyuu profiles arpil 2018 edition ] order of posting : - hello , happy world ( 4/8 ) - roselia ( 4/8 ) - pastel * palettes ( 4/9 ) - afterglow ( 4/9 ) - poppin'party ( 4/10 ) let's go !</td>\n",
       "    </tr>\n",
       "    <tr>\n",
       "      <th>8338</th>\n",
       "      <td>10</td>\n",
       "      <td>going to go ahead and crown myself the absolute emperor of finding things on menus that sound interesting , deciding i would like to try them , then being told \" i'm sorry sir , that's actually not available ... \" [ then why the # $ % is it on your menuuu - - ]</td>\n",
       "    </tr>\n",
       "    <tr>\n",
       "      <th>12488</th>\n",
       "      <td>9</td>\n",
       "      <td>billboard hot 100 : ➊ ( - 3 ) tell me you love me , ➌ [ 19 weeks ] . * peak : ➊ *</td>\n",
       "    </tr>\n",
       "    <tr>\n",
       "      <th>10929</th>\n",
       "      <td>9</td>\n",
       "      <td>self-employed people : have you ever turned to social media to call out a client who is many weeks / months delinquent on a payment ? ( obviously , you're probably burning a bridge with that move , but if they don't pay ... )</td>\n",
       "    </tr>\n",
       "  </tbody>\n",
       "</table>\n",
       "</div>"
      ],
      "text/plain": [
       "       Punctuation  \\\n",
       "6533            13   \n",
       "10474           11   \n",
       "8338            10   \n",
       "12488            9   \n",
       "10929            9   \n",
       "\n",
       "                                                                                                                                                                                                                                                                                   Tweet  \n",
       "6533   if u were killed tomorrow , i wouldnt go 2 ur funeral cuz id b n jail 4 killin da person that killed u ! ... ___ ... / _ = = o ; ; ; ___ [ ] ... ) , — - . ( _ ( __ ) / ... / / ( .. ) ) , — - - \" ... / / ___ / / .. / / ___ / / we true homies we ride together we die together  \n",
       "10474                                                           [ bang dream girls band party seiyuu profiles arpil 2018 edition ] order of posting : - hello , happy world ( 4/8 ) - roselia ( 4/8 ) - pastel * palettes ( 4/9 ) - afterglow ( 4/9 ) - poppin'party ( 4/10 ) let's go !  \n",
       "8338               going to go ahead and crown myself the absolute emperor of finding things on menus that sound interesting , deciding i would like to try them , then being told \" i'm sorry sir , that's actually not available ... \" [ then why the # $ % is it on your menuuu - - ]  \n",
       "12488                                                                                                                                                                                                  billboard hot 100 : ➊ ( - 3 ) tell me you love me , ➌ [ 19 weeks ] . * peak : ➊ *  \n",
       "10929                                                  self-employed people : have you ever turned to social media to call out a client who is many weeks / months delinquent on a payment ? ( obviously , you're probably burning a bridge with that move , but if they don't pay ... )  "
      ]
     },
     "execution_count": 98,
     "metadata": {},
     "output_type": "execute_result"
    }
   ],
   "source": [
    "punctuation_data_for_stats.sort_values(by=\"Punctuation\", ascending=False).head()"
   ]
  },
  {
   "cell_type": "code",
   "execution_count": 99,
   "metadata": {},
   "outputs": [
    {
     "data": {
      "text/html": [
       "<div>\n",
       "<style scoped>\n",
       "    .dataframe tbody tr th:only-of-type {\n",
       "        vertical-align: middle;\n",
       "    }\n",
       "\n",
       "    .dataframe tbody tr th {\n",
       "        vertical-align: top;\n",
       "    }\n",
       "\n",
       "    .dataframe thead th {\n",
       "        text-align: right;\n",
       "    }\n",
       "</style>\n",
       "<table border=\"1\" class=\"dataframe\">\n",
       "  <thead>\n",
       "    <tr style=\"text-align: right;\">\n",
       "      <th></th>\n",
       "      <th>Punctuation</th>\n",
       "    </tr>\n",
       "  </thead>\n",
       "  <tbody>\n",
       "    <tr>\n",
       "      <th>count</th>\n",
       "      <td>14556.0000</td>\n",
       "    </tr>\n",
       "    <tr>\n",
       "      <th>mean</th>\n",
       "      <td>2.0045</td>\n",
       "    </tr>\n",
       "    <tr>\n",
       "      <th>std</th>\n",
       "      <td>1.5377</td>\n",
       "    </tr>\n",
       "    <tr>\n",
       "      <th>min</th>\n",
       "      <td>0.0000</td>\n",
       "    </tr>\n",
       "    <tr>\n",
       "      <th>25%</th>\n",
       "      <td>1.0000</td>\n",
       "    </tr>\n",
       "    <tr>\n",
       "      <th>50%</th>\n",
       "      <td>2.0000</td>\n",
       "    </tr>\n",
       "    <tr>\n",
       "      <th>75%</th>\n",
       "      <td>3.0000</td>\n",
       "    </tr>\n",
       "    <tr>\n",
       "      <th>max</th>\n",
       "      <td>13.0000</td>\n",
       "    </tr>\n",
       "  </tbody>\n",
       "</table>\n",
       "</div>"
      ],
      "text/plain": [
       "       Punctuation\n",
       "count   14556.0000\n",
       "mean        2.0045\n",
       "std         1.5377\n",
       "min         0.0000\n",
       "25%         1.0000\n",
       "50%         2.0000\n",
       "75%         3.0000\n",
       "max        13.0000"
      ]
     },
     "execution_count": 99,
     "metadata": {},
     "output_type": "execute_result"
    }
   ],
   "source": [
    "punctuation_data_for_stats.describe()"
   ]
  },
  {
   "cell_type": "markdown",
   "metadata": {},
   "source": [
    "#### Stop words"
   ]
  },
  {
   "cell_type": "code",
   "execution_count": 100,
   "metadata": {},
   "outputs": [],
   "source": [
    "stop_words_data = [len(set(stopwords.words(\"english\")).intersection(set(tweet.lower()))) \n",
    "                   for tweet in training_data]"
   ]
  },
  {
   "cell_type": "code",
   "execution_count": 101,
   "metadata": {},
   "outputs": [],
   "source": [
    "stop_words_data_for_stats = pd.DataFrame({\"Stop words\": stop_words_data, \"Tweet\": training_data})"
   ]
  },
  {
   "cell_type": "code",
   "execution_count": 102,
   "metadata": {},
   "outputs": [
    {
     "data": {
      "text/html": [
       "<div>\n",
       "<style scoped>\n",
       "    .dataframe tbody tr th:only-of-type {\n",
       "        vertical-align: middle;\n",
       "    }\n",
       "\n",
       "    .dataframe tbody tr th {\n",
       "        vertical-align: top;\n",
       "    }\n",
       "\n",
       "    .dataframe thead th {\n",
       "        text-align: right;\n",
       "    }\n",
       "</style>\n",
       "<table border=\"1\" class=\"dataframe\">\n",
       "  <thead>\n",
       "    <tr style=\"text-align: right;\">\n",
       "      <th></th>\n",
       "      <th>Stop words</th>\n",
       "      <th>Tweet</th>\n",
       "    </tr>\n",
       "  </thead>\n",
       "  <tbody>\n",
       "    <tr>\n",
       "      <th>0</th>\n",
       "      <td>8</td>\n",
       "      <td>i don't yet have adequate words to do so , but someday i wanna write about the beautiful dance which happens in google docs between a writer &amp; a good editor working simultaneously towards a deadline . when it's working , it's a beautiful dance — though no one really sees it .</td>\n",
       "    </tr>\n",
       "    <tr>\n",
       "      <th>8602</th>\n",
       "      <td>8</td>\n",
       "      <td>thanks for today boys 💋 i'll be back on ➌ ➌ ➌ tomorrow 12-8 pm ❤ ️ can't wait to show you my new lingerie ... and more 😏 ➋</td>\n",
       "    </tr>\n",
       "    <tr>\n",
       "      <th>8593</th>\n",
       "      <td>8</td>\n",
       "      <td>mlb radar with a good sampling of approaching storms . some gusty winds expected along with heavy rain and frequent lightning . ➊ ➋</td>\n",
       "    </tr>\n",
       "    <tr>\n",
       "      <th>8594</th>\n",
       "      <td>8</td>\n",
       "      <td>me being under the weather is clearlysetting lo off . she's defiant , loving , tearful , angry , touchy feely + clingy . she's ripping tiny pieces of the wallpaper off in her room . i'm struggling to feel any patience with it cos i feel rough . sigh . that's all . sigh . ➊ ➊</td>\n",
       "    </tr>\n",
       "    <tr>\n",
       "      <th>8595</th>\n",
       "      <td>8</td>\n",
       "      <td>much of the chattering class said ➌ would lose the election , but he won ; said he'd hurt the economy , but it's booming ; said tax cuts would fail , but they passed , creating more jobs &amp; higher wages ; and said he'd weaken america , but our military is now stronger than ever</td>\n",
       "    </tr>\n",
       "  </tbody>\n",
       "</table>\n",
       "</div>"
      ],
      "text/plain": [
       "      Stop words  \\\n",
       "0              8   \n",
       "8602           8   \n",
       "8593           8   \n",
       "8594           8   \n",
       "8595           8   \n",
       "\n",
       "                                                                                                                                                                                                                                                                                      Tweet  \n",
       "0      i don't yet have adequate words to do so , but someday i wanna write about the beautiful dance which happens in google docs between a writer & a good editor working simultaneously towards a deadline . when it's working , it's a beautiful dance — though no one really sees it .  \n",
       "8602                                                                                                                                                             thanks for today boys 💋 i'll be back on ➌ ➌ ➌ tomorrow 12-8 pm ❤ ️ can't wait to show you my new lingerie ... and more 😏 ➋  \n",
       "8593                                                                                                                                                    mlb radar with a good sampling of approaching storms . some gusty winds expected along with heavy rain and frequent lightning . ➊ ➋  \n",
       "8594    me being under the weather is clearlysetting lo off . she's defiant , loving , tearful , angry , touchy feely + clingy . she's ripping tiny pieces of the wallpaper off in her room . i'm struggling to feel any patience with it cos i feel rough . sigh . that's all . sigh . ➊ ➊  \n",
       "8595  much of the chattering class said ➌ would lose the election , but he won ; said he'd hurt the economy , but it's booming ; said tax cuts would fail , but they passed , creating more jobs & higher wages ; and said he'd weaken america , but our military is now stronger than ever  "
      ]
     },
     "execution_count": 102,
     "metadata": {},
     "output_type": "execute_result"
    }
   ],
   "source": [
    "stop_words_data_for_stats.sort_values(by=\"Stop words\", ascending=False).head()"
   ]
  },
  {
   "cell_type": "code",
   "execution_count": 103,
   "metadata": {},
   "outputs": [
    {
     "data": {
      "text/html": [
       "<div>\n",
       "<style scoped>\n",
       "    .dataframe tbody tr th:only-of-type {\n",
       "        vertical-align: middle;\n",
       "    }\n",
       "\n",
       "    .dataframe tbody tr th {\n",
       "        vertical-align: top;\n",
       "    }\n",
       "\n",
       "    .dataframe thead th {\n",
       "        text-align: right;\n",
       "    }\n",
       "</style>\n",
       "<table border=\"1\" class=\"dataframe\">\n",
       "  <thead>\n",
       "    <tr style=\"text-align: right;\">\n",
       "      <th></th>\n",
       "      <th>Stop words</th>\n",
       "      <th>Tweet</th>\n",
       "    </tr>\n",
       "  </thead>\n",
       "  <tbody>\n",
       "    <tr>\n",
       "      <th>10778</th>\n",
       "      <td>1</td>\n",
       "      <td>book cover no . 12 ➊ ➊ ➊ ➊ ➋ ➋</td>\n",
       "    </tr>\n",
       "    <tr>\n",
       "      <th>3819</th>\n",
       "      <td>2</td>\n",
       "      <td>beep boop boner : too beep , too boner</td>\n",
       "    </tr>\n",
       "    <tr>\n",
       "      <th>13627</th>\n",
       "      <td>2</td>\n",
       "      <td>yes yes yes yes yes yes ➋</td>\n",
       "    </tr>\n",
       "    <tr>\n",
       "      <th>6132</th>\n",
       "      <td>2</td>\n",
       "      <td>drive drive drive drive drive ➋</td>\n",
       "    </tr>\n",
       "    <tr>\n",
       "      <th>13707</th>\n",
       "      <td>2</td>\n",
       "      <td>➌ leg work pt . 2 ? ?</td>\n",
       "    </tr>\n",
       "  </tbody>\n",
       "</table>\n",
       "</div>"
      ],
      "text/plain": [
       "       Stop words                                   Tweet\n",
       "10778           1          book cover no . 12 ➊ ➊ ➊ ➊ ➋ ➋\n",
       "3819            2  beep boop boner : too beep , too boner\n",
       "13627           2               yes yes yes yes yes yes ➋\n",
       "6132            2         drive drive drive drive drive ➋\n",
       "13707           2                   ➌ leg work pt . 2 ? ?"
      ]
     },
     "execution_count": 103,
     "metadata": {},
     "output_type": "execute_result"
    }
   ],
   "source": [
    "stop_words_data_for_stats.sort_values(by=\"Stop words\", ascending=True).head()"
   ]
  },
  {
   "cell_type": "code",
   "execution_count": 104,
   "metadata": {},
   "outputs": [
    {
     "data": {
      "text/html": [
       "<div>\n",
       "<style scoped>\n",
       "    .dataframe tbody tr th:only-of-type {\n",
       "        vertical-align: middle;\n",
       "    }\n",
       "\n",
       "    .dataframe tbody tr th {\n",
       "        vertical-align: top;\n",
       "    }\n",
       "\n",
       "    .dataframe thead th {\n",
       "        text-align: right;\n",
       "    }\n",
       "</style>\n",
       "<table border=\"1\" class=\"dataframe\">\n",
       "  <thead>\n",
       "    <tr style=\"text-align: right;\">\n",
       "      <th></th>\n",
       "      <th>Stop words</th>\n",
       "    </tr>\n",
       "  </thead>\n",
       "  <tbody>\n",
       "    <tr>\n",
       "      <th>count</th>\n",
       "      <td>14556.0000</td>\n",
       "    </tr>\n",
       "    <tr>\n",
       "      <th>mean</th>\n",
       "      <td>7.4009</td>\n",
       "    </tr>\n",
       "    <tr>\n",
       "      <th>std</th>\n",
       "      <td>0.9266</td>\n",
       "    </tr>\n",
       "    <tr>\n",
       "      <th>min</th>\n",
       "      <td>1.0000</td>\n",
       "    </tr>\n",
       "    <tr>\n",
       "      <th>25%</th>\n",
       "      <td>7.0000</td>\n",
       "    </tr>\n",
       "    <tr>\n",
       "      <th>50%</th>\n",
       "      <td>8.0000</td>\n",
       "    </tr>\n",
       "    <tr>\n",
       "      <th>75%</th>\n",
       "      <td>8.0000</td>\n",
       "    </tr>\n",
       "    <tr>\n",
       "      <th>max</th>\n",
       "      <td>8.0000</td>\n",
       "    </tr>\n",
       "  </tbody>\n",
       "</table>\n",
       "</div>"
      ],
      "text/plain": [
       "       Stop words\n",
       "count  14556.0000\n",
       "mean       7.4009\n",
       "std        0.9266\n",
       "min        1.0000\n",
       "25%        7.0000\n",
       "50%        8.0000\n",
       "75%        8.0000\n",
       "max        8.0000"
      ]
     },
     "execution_count": 104,
     "metadata": {},
     "output_type": "execute_result"
    }
   ],
   "source": [
    "stop_words_data_for_stats.describe()"
   ]
  },
  {
   "cell_type": "markdown",
   "metadata": {},
   "source": [
    "#### Unique words (at least 2)"
   ]
  },
  {
   "cell_type": "code",
   "execution_count": 105,
   "metadata": {},
   "outputs": [],
   "source": [
    "unique_words_data = [len(set(tokenizer.tokenize(tweet))) for tweet in training_data]"
   ]
  },
  {
   "cell_type": "code",
   "execution_count": 106,
   "metadata": {},
   "outputs": [],
   "source": [
    "unique_words_data_for_stats = pd.DataFrame({\"Unique words\": unique_words_data, \"Tweet\": training_data})"
   ]
  },
  {
   "cell_type": "code",
   "execution_count": 107,
   "metadata": {},
   "outputs": [],
   "source": [
    "# unique_words_data_for_stats = unique_words_data_for_stats[unique_words_data_for_stats[\"Unique words\"] >= 2]"
   ]
  },
  {
   "cell_type": "code",
   "execution_count": 108,
   "metadata": {},
   "outputs": [],
   "source": [
    "unique_words_data = unique_words_data_for_stats[\"Unique words\"].tolist()"
   ]
  },
  {
   "cell_type": "code",
   "execution_count": 109,
   "metadata": {},
   "outputs": [
    {
     "data": {
      "text/html": [
       "<div>\n",
       "<style scoped>\n",
       "    .dataframe tbody tr th:only-of-type {\n",
       "        vertical-align: middle;\n",
       "    }\n",
       "\n",
       "    .dataframe tbody tr th {\n",
       "        vertical-align: top;\n",
       "    }\n",
       "\n",
       "    .dataframe thead th {\n",
       "        text-align: right;\n",
       "    }\n",
       "</style>\n",
       "<table border=\"1\" class=\"dataframe\">\n",
       "  <thead>\n",
       "    <tr style=\"text-align: right;\">\n",
       "      <th></th>\n",
       "      <th>Tweet</th>\n",
       "      <th>Unique words</th>\n",
       "    </tr>\n",
       "  </thead>\n",
       "  <tbody>\n",
       "    <tr>\n",
       "      <th>13039</th>\n",
       "      <td>give away ! the rules are really easy , all you have to do is : 1 . must be following me ( i check ) 2 . rt and fav this tweet 3 . tag your mutuals / anyone 4 . only 1 winner ! 5 . i ship worldwide ;) it ends in 8th may 2018 or when this tweet hit 2k rt and like ! good luck !...</td>\n",
       "      <td>60</td>\n",
       "    </tr>\n",
       "    <tr>\n",
       "      <th>4513</th>\n",
       "      <td>got into a tepid back nd forth w / a uknowwhoaj + columnist bc i said they steal their \" hot takes \" from blk twitter &amp; alike . wallahi my bdeshi ass did not sign up 4 this app to be called asinine by a 30yrold pakistani whos whole politics is post colonial memes for oriental...</td>\n",
       "      <td>57</td>\n",
       "    </tr>\n",
       "    <tr>\n",
       "      <th>10764</th>\n",
       "      <td>thought i'd bring this back ... ➊ and no , i'm not talking about myself here . i wish just once i'd be so bored with my life that i'd find the time to bash people / celebs i don't like .. i mean if i despise someone that much , why still watch his / her every move ? 🤦 ‍ ♀ ️ ➋</td>\n",
       "      <td>57</td>\n",
       "    </tr>\n",
       "    <tr>\n",
       "      <th>6502</th>\n",
       "      <td>crazy how wrong u can be about someone . a girl i graduated w / was always doing drugs &amp; got pregnant at 16 . i assumed she'd end up being a loser but it turn out she now has 4 beautiful kids &amp; is making over $ 4,500 / month just off of child support payments from the 3 diffe...</td>\n",
       "      <td>57</td>\n",
       "    </tr>\n",
       "    <tr>\n",
       "      <th>12467</th>\n",
       "      <td>- many 👮 ‍ ♂ ️ suffer in silence , not always by choice but by design ! ➊ can be a career killer &amp; worse many pd's do not see p . t . s . d as an insured disability ; this has to change 🆘 - hiding mine for 3 years made my ➊ unbearable ! please help us ➊ &amp; ➊ ⚖ ️ ➋</td>\n",
       "      <td>56</td>\n",
       "    </tr>\n",
       "  </tbody>\n",
       "</table>\n",
       "</div>"
      ],
      "text/plain": [
       "                                                                                                                                                                                                                                                                                         Tweet  \\\n",
       "13039  give away ! the rules are really easy , all you have to do is : 1 . must be following me ( i check ) 2 . rt and fav this tweet 3 . tag your mutuals / anyone 4 . only 1 winner ! 5 . i ship worldwide ;) it ends in 8th may 2018 or when this tweet hit 2k rt and like ! good luck !...   \n",
       "4513   got into a tepid back nd forth w / a uknowwhoaj + columnist bc i said they steal their \" hot takes \" from blk twitter & alike . wallahi my bdeshi ass did not sign up 4 this app to be called asinine by a 30yrold pakistani whos whole politics is post colonial memes for oriental...   \n",
       "10764     thought i'd bring this back ... ➊ and no , i'm not talking about myself here . i wish just once i'd be so bored with my life that i'd find the time to bash people / celebs i don't like .. i mean if i despise someone that much , why still watch his / her every move ? 🤦 ‍ ♀ ️ ➋   \n",
       "6502   crazy how wrong u can be about someone . a girl i graduated w / was always doing drugs & got pregnant at 16 . i assumed she'd end up being a loser but it turn out she now has 4 beautiful kids & is making over $ 4,500 / month just off of child support payments from the 3 diffe...   \n",
       "12467                  - many 👮 ‍ ♂ ️ suffer in silence , not always by choice but by design ! ➊ can be a career killer & worse many pd's do not see p . t . s . d as an insured disability ; this has to change 🆘 - hiding mine for 3 years made my ➊ unbearable ! please help us ➊ & ➊ ⚖ ️ ➋   \n",
       "\n",
       "       Unique words  \n",
       "13039            60  \n",
       "4513             57  \n",
       "10764            57  \n",
       "6502             57  \n",
       "12467            56  "
      ]
     },
     "execution_count": 109,
     "metadata": {},
     "output_type": "execute_result"
    }
   ],
   "source": [
    "unique_words_data_for_stats.sort_values(by=\"Unique words\", ascending=False).head()"
   ]
  },
  {
   "cell_type": "code",
   "execution_count": 110,
   "metadata": {},
   "outputs": [
    {
     "data": {
      "text/html": [
       "<div>\n",
       "<style scoped>\n",
       "    .dataframe tbody tr th:only-of-type {\n",
       "        vertical-align: middle;\n",
       "    }\n",
       "\n",
       "    .dataframe tbody tr th {\n",
       "        vertical-align: top;\n",
       "    }\n",
       "\n",
       "    .dataframe thead th {\n",
       "        text-align: right;\n",
       "    }\n",
       "</style>\n",
       "<table border=\"1\" class=\"dataframe\">\n",
       "  <thead>\n",
       "    <tr style=\"text-align: right;\">\n",
       "      <th></th>\n",
       "      <th>Tweet</th>\n",
       "      <th>Unique words</th>\n",
       "    </tr>\n",
       "  </thead>\n",
       "  <tbody>\n",
       "    <tr>\n",
       "      <th>13627</th>\n",
       "      <td>yes yes yes yes yes yes ➋</td>\n",
       "      <td>2</td>\n",
       "    </tr>\n",
       "    <tr>\n",
       "      <th>6132</th>\n",
       "      <td>drive drive drive drive drive ➋</td>\n",
       "      <td>2</td>\n",
       "    </tr>\n",
       "    <tr>\n",
       "      <th>788</th>\n",
       "      <td>this this this this this this ➋</td>\n",
       "      <td>2</td>\n",
       "    </tr>\n",
       "    <tr>\n",
       "      <th>5812</th>\n",
       "      <td>a rat is a rat</td>\n",
       "      <td>3</td>\n",
       "    </tr>\n",
       "    <tr>\n",
       "      <th>5363</th>\n",
       "      <td>she's whipped your honor</td>\n",
       "      <td>4</td>\n",
       "    </tr>\n",
       "  </tbody>\n",
       "</table>\n",
       "</div>"
      ],
      "text/plain": [
       "                                 Tweet  Unique words\n",
       "13627        yes yes yes yes yes yes ➋             2\n",
       "6132   drive drive drive drive drive ➋             2\n",
       "788    this this this this this this ➋             2\n",
       "5812                    a rat is a rat             3\n",
       "5363          she's whipped your honor             4"
      ]
     },
     "execution_count": 110,
     "metadata": {},
     "output_type": "execute_result"
    }
   ],
   "source": [
    "unique_words_data_for_stats.sort_values(by=\"Unique words\", ascending=True).head()"
   ]
  },
  {
   "cell_type": "code",
   "execution_count": 111,
   "metadata": {},
   "outputs": [
    {
     "data": {
      "text/html": [
       "<div>\n",
       "<style scoped>\n",
       "    .dataframe tbody tr th:only-of-type {\n",
       "        vertical-align: middle;\n",
       "    }\n",
       "\n",
       "    .dataframe tbody tr th {\n",
       "        vertical-align: top;\n",
       "    }\n",
       "\n",
       "    .dataframe thead th {\n",
       "        text-align: right;\n",
       "    }\n",
       "</style>\n",
       "<table border=\"1\" class=\"dataframe\">\n",
       "  <thead>\n",
       "    <tr style=\"text-align: right;\">\n",
       "      <th></th>\n",
       "      <th>Unique words</th>\n",
       "    </tr>\n",
       "  </thead>\n",
       "  <tbody>\n",
       "    <tr>\n",
       "      <th>count</th>\n",
       "      <td>14556.0000</td>\n",
       "    </tr>\n",
       "    <tr>\n",
       "      <th>mean</th>\n",
       "      <td>21.2712</td>\n",
       "    </tr>\n",
       "    <tr>\n",
       "      <th>std</th>\n",
       "      <td>11.4486</td>\n",
       "    </tr>\n",
       "    <tr>\n",
       "      <th>min</th>\n",
       "      <td>2.0000</td>\n",
       "    </tr>\n",
       "    <tr>\n",
       "      <th>25%</th>\n",
       "      <td>12.0000</td>\n",
       "    </tr>\n",
       "    <tr>\n",
       "      <th>50%</th>\n",
       "      <td>18.0000</td>\n",
       "    </tr>\n",
       "    <tr>\n",
       "      <th>75%</th>\n",
       "      <td>29.0000</td>\n",
       "    </tr>\n",
       "    <tr>\n",
       "      <th>max</th>\n",
       "      <td>60.0000</td>\n",
       "    </tr>\n",
       "  </tbody>\n",
       "</table>\n",
       "</div>"
      ],
      "text/plain": [
       "       Unique words\n",
       "count    14556.0000\n",
       "mean        21.2712\n",
       "std         11.4486\n",
       "min          2.0000\n",
       "25%         12.0000\n",
       "50%         18.0000\n",
       "75%         29.0000\n",
       "max         60.0000"
      ]
     },
     "execution_count": 111,
     "metadata": {},
     "output_type": "execute_result"
    }
   ],
   "source": [
    "unique_words_data_for_stats.describe()"
   ]
  },
  {
   "cell_type": "markdown",
   "metadata": {},
   "source": [
    "#### Plot them"
   ]
  },
  {
   "cell_type": "code",
   "execution_count": 112,
   "metadata": {},
   "outputs": [
    {
     "data": {
      "image/png": "[encoded data removed]",
      "text/plain": [
       "<Figure size 1152x648 with 1 Axes>"
      ]
     },
     "metadata": {},
     "output_type": "display_data"
    }
   ],
   "source": [
    "length_mean = length_data_for_stats.describe().Length[1]\n",
    "length_std = length_data_for_stats.describe().Length[2]\n",
    "\n",
    "fig = plt.figure(figsize=(16, 9))\n",
    "ax = fig.add_subplot(111)\n",
    "\n",
    "n, bins, patches = ax.hist(length_data, bins=\"doane\", edgecolor=\"black\", density=True, alpha=0.75)\n",
    "\n",
    "length_line = scipy.stats.norm.pdf(bins, length_mean, length_std)\n",
    "ax.plot(bins, length_line, \"--\", linewidth=3, color=\"lightblue\")\n",
    "\n",
    "ax.set_title(\"Training Dataset Distribution of Tweet Lengths\", fontsize=18)\n",
    "ax.set_xlabel(\"Tweet Length\", fontsize=18);\n",
    "ax.set_ylabel(\"Porton of Tweets with That Length\", fontsize=18);\n",
    "\n",
    "plt.show()"
   ]
  },
  {
   "cell_type": "code",
   "execution_count": 113,
   "metadata": {},
   "outputs": [
    {
     "data": {
      "image/png": "[encoded data removed]",
      "text/plain": [
       "<Figure size 1152x648 with 1 Axes>"
      ]
     },
     "metadata": {},
     "output_type": "display_data"
    }
   ],
   "source": [
    "punctuation_mean = punctuation_data_for_stats.describe().Punctuation[1]\n",
    "punctuation_std = punctuation_data_for_stats.describe().Punctuation[2]\n",
    "\n",
    "fig = plt.figure(figsize=(16, 9))\n",
    "ax = fig.add_subplot(111)\n",
    "\n",
    "n, bins, patches = ax.hist(punctuation_data, bins=\"doane\", edgecolor=\"black\", density=True, alpha=0.75)\n",
    "\n",
    "punctution_line = scipy.stats.norm.pdf(bins, punctuation_mean, punctuation_std)\n",
    "ax.plot(bins, punctution_line, \"--\", linewidth=3, color=\"lightblue\")\n",
    "\n",
    "ax.set_title(\"Training Dataset Distribution of Punctuation\", fontsize=18)\n",
    "ax.set_xlabel(\"Punctuating Characters\", fontsize=18)\n",
    "ax.set_ylabel(\"Porton of Punctuating Characters\", fontsize=18)\n",
    "\n",
    "plt.show()"
   ]
  },
  {
   "cell_type": "code",
   "execution_count": 114,
   "metadata": {},
   "outputs": [
    {
     "data": {
      "image/png": "[encoded data removed]",
      "text/plain": [
       "<Figure size 1152x648 with 1 Axes>"
      ]
     },
     "metadata": {},
     "output_type": "display_data"
    }
   ],
   "source": [
    "stop_words_mean = stop_words_data_for_stats.describe()[\"Stop words\"][1]\n",
    "stop_words_std = stop_words_data_for_stats.describe()[\"Stop words\"][2]\n",
    "\n",
    "fig = plt.figure(figsize=(16, 9))\n",
    "ax = fig.add_subplot(111)\n",
    "\n",
    "n, bins, patches = ax.hist(stop_words_data, bins=\"doane\", edgecolor=\"black\", density=True, alpha=0.75)\n",
    "\n",
    "stop_words_line = scipy.stats.norm.pdf(bins, stop_words_mean, stop_words_std)\n",
    "ax.plot(bins, stop_words_line, \"--\", linewidth=3, color=\"lightblue\")\n",
    "\n",
    "ax.set_title(\"Training Dataset Distribution of Stop Words\", fontsize=18)\n",
    "ax.set_xlabel(\"Stop Words in Tweet\", fontsize=18)\n",
    "ax.set_ylabel(\"Porton of Tweets with That Number of Stop Words\", fontsize=18)\n",
    "\n",
    "plt.show()"
   ]
  },
  {
   "cell_type": "code",
   "execution_count": 115,
   "metadata": {
    "scrolled": false
   },
   "outputs": [
    {
     "data": {
      "image/png": "[encoded data removed]",
      "text/plain": [
       "<Figure size 1152x648 with 1 Axes>"
      ]
     },
     "metadata": {},
     "output_type": "display_data"
    }
   ],
   "source": [
    "unique_words_mean = unique_words_data_for_stats.describe()[\"Unique words\"][1]\n",
    "unique_words_std = unique_words_data_for_stats.describe()[\"Unique words\"][2]\n",
    "\n",
    "fig = plt.figure(figsize=(16, 9))\n",
    "ax = fig.add_subplot(111)\n",
    "\n",
    "n, bins, patches = ax.hist(unique_words_data, bins=\"doane\", edgecolor=\"black\", density=True, alpha=0.75)\n",
    "\n",
    "unique_words_line = scipy.stats.norm.pdf(bins, unique_words_mean, unique_words_std)\n",
    "ax.plot(bins, unique_words_line, \"--\", linewidth=3, color=\"lightblue\")\n",
    "\n",
    "ax.set_title(\"Training Dataset Distribution of Unique Words\", fontsize=18)\n",
    "ax.set_xlabel(\"Unique Words in Tweet\", fontsize=18)\n",
    "ax.set_ylabel(\"Porton of Tweets with That Number of Unique Words\", fontsize=18)\n",
    "\n",
    "plt.show()"
   ]
  }
 ],
 "metadata": {
  "kernelspec": {
   "display_name": "Python 3",
   "language": "python",
   "name": "python3"
  },
  "language_info": {
   "codemirror_mode": {
    "name": "ipython",
    "version": 3
   },
   "file_extension": ".py",
   "mimetype": "text/x-python",
   "name": "python",
   "nbconvert_exporter": "python",
   "pygments_lexer": "ipython3",
   "version": "3.6.4"
  }
 },
 "nbformat": 4,
 "nbformat_minor": 2
}
