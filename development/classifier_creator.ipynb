{
 "cells": [
  {
   "cell_type": "markdown",
   "metadata": {},
   "source": [
    "## Using Scikit-Learn and NLTK to build a Naive Bayes Classifier that identifies subtweets"
   ]
  },
  {
   "cell_type": "markdown",
   "metadata": {},
   "source": [
    "#### Import libraries"
   ]
  },
  {
   "cell_type": "code",
   "execution_count": 1,
   "metadata": {},
   "outputs": [],
   "source": [
    "%matplotlib inline"
   ]
  },
  {
   "cell_type": "code",
   "execution_count": 2,
   "metadata": {},
   "outputs": [],
   "source": [
    "from sklearn.base import TransformerMixin, BaseEstimator\n",
    "from sklearn.feature_extraction import DictVectorizer\n",
    "from sklearn.feature_extraction.text import CountVectorizer, TfidfTransformer\n",
    "from sklearn.naive_bayes import MultinomialNB\n",
    "from sklearn.pipeline import Pipeline, FeatureUnion\n",
    "from sklearn.model_selection import train_test_split, KFold\n",
    "from sklearn.metrics import classification_report, confusion_matrix\n",
    "from sklearn.externals import joblib\n",
    "from time import time, sleep\n",
    "from random import choice\n",
    "from pprint import pprint\n",
    "import matplotlib.pyplot as plt\n",
    "import pandas as pd\n",
    "import numpy as np\n",
    "import itertools\n",
    "import datetime\n",
    "import tweepy\n",
    "import nltk\n",
    "import json\n",
    "import re"
   ]
  },
  {
   "cell_type": "markdown",
   "metadata": {},
   "source": [
    "#### Prepare for viewing long text in CSVs"
   ]
  },
  {
   "cell_type": "code",
   "execution_count": 3,
   "metadata": {},
   "outputs": [],
   "source": [
    "pd.set_option(\"max_colwidth\", 280)"
   ]
  },
  {
   "cell_type": "markdown",
   "metadata": {},
   "source": [
    "#### Load the two data files"
   ]
  },
  {
   "cell_type": "code",
   "execution_count": 4,
   "metadata": {},
   "outputs": [],
   "source": [
    "subtweets_data = json.load(open(\"../data/other_data/subtweets.json\"))"
   ]
  },
  {
   "cell_type": "code",
   "execution_count": 5,
   "metadata": {},
   "outputs": [],
   "source": [
    "non_subtweets_data = json.load(open(\"../data/other_data/non_subtweets.json\"))"
   ]
  },
  {
   "cell_type": "markdown",
   "metadata": {},
   "source": [
    "#### Find the length of the smaller dataset"
   ]
  },
  {
   "cell_type": "code",
   "execution_count": 6,
   "metadata": {},
   "outputs": [],
   "source": [
    "largest_length = len(min([subtweets_data, non_subtweets_data], key=len))"
   ]
  },
  {
   "cell_type": "markdown",
   "metadata": {},
   "source": [
    "#### Check the lengths and see examples\n",
    "#### Cut down both datasets to be the same size"
   ]
  },
  {
   "cell_type": "code",
   "execution_count": 7,
   "metadata": {},
   "outputs": [],
   "source": [
    "subtweets_data = [t[\"tweet_data\"][\"full_text\"] for t in subtweets_data][:largest_length]"
   ]
  },
  {
   "cell_type": "code",
   "execution_count": 8,
   "metadata": {},
   "outputs": [
    {
     "name": "stdout",
     "output_type": "stream",
     "text": [
      "Subtweets dataset length: 8154\n"
     ]
    }
   ],
   "source": [
    "print(\"Subtweets dataset length: {}\".format(len(subtweets_data)))"
   ]
  },
  {
   "cell_type": "code",
   "execution_count": 9,
   "metadata": {},
   "outputs": [
    {
     "name": "stdout",
     "output_type": "stream",
     "text": [
      "Subtweets dataset example:\n",
      "Excited to live alone solely because I can get a ouija board and no one can give me shit for it\n"
     ]
    }
   ],
   "source": [
    "print(\"Subtweets dataset example:\")\n",
    "print(choice(subtweets_data))"
   ]
  },
  {
   "cell_type": "code",
   "execution_count": 10,
   "metadata": {},
   "outputs": [],
   "source": [
    "non_subtweets_data = [t[\"tweet_data\"][\"full_text\"] for t in non_subtweets_data][:largest_length]"
   ]
  },
  {
   "cell_type": "code",
   "execution_count": 11,
   "metadata": {},
   "outputs": [
    {
     "name": "stdout",
     "output_type": "stream",
     "text": [
      "Non-subtweets dataset length: 8154\n"
     ]
    }
   ],
   "source": [
    "print(\"Non-subtweets dataset length: {}\".format(len(non_subtweets_data)))"
   ]
  },
  {
   "cell_type": "code",
   "execution_count": 12,
   "metadata": {},
   "outputs": [
    {
     "name": "stdout",
     "output_type": "stream",
     "text": [
      "Non-subtweets dataset example:\n",
      "日本の皆さん。 あなたがコンサートに参加しているのなら、明日は叫び、歌って、汗を流して一晩中踊ってください！ パーティーしよう🇯🇵 #24KMagicWorldTour\n"
     ]
    }
   ],
   "source": [
    "print(\"Non-subtweets dataset example:\")\n",
    "print(choice(non_subtweets_data))"
   ]
  },
  {
   "cell_type": "markdown",
   "metadata": {},
   "source": [
    "#### Prepare data for training"
   ]
  },
  {
   "cell_type": "code",
   "execution_count": 13,
   "metadata": {},
   "outputs": [],
   "source": [
    "subtweets_data = [(tweet.replace(\"&quot;\", \"\\\"\").replace(\"&amp;\", \"&\").replace(\"&gt;\", \">\").replace(\"&lt;\", \"<\"), \n",
    "                   \"subtweet\") for tweet in subtweets_data]"
   ]
  },
  {
   "cell_type": "code",
   "execution_count": 14,
   "metadata": {},
   "outputs": [],
   "source": [
    "non_subtweets_data = [(tweet.replace(\"&quot;\", \"\\\"\").replace(\"&amp;\", \"&\").replace(\"&gt;\", \">\").replace(\"&lt;\", \"<\"), \n",
    "                       \"non-subtweet\") for tweet in non_subtweets_data]"
   ]
  },
  {
   "cell_type": "markdown",
   "metadata": {},
   "source": [
    "#### Combine them"
   ]
  },
  {
   "cell_type": "code",
   "execution_count": 15,
   "metadata": {},
   "outputs": [],
   "source": [
    "training_data = subtweets_data + non_subtweets_data"
   ]
  },
  {
   "cell_type": "markdown",
   "metadata": {},
   "source": [
    "#### (Do not) create training and test sets from the single training set I made before"
   ]
  },
  {
   "cell_type": "code",
   "execution_count": 16,
   "metadata": {},
   "outputs": [],
   "source": [
    "# text_train, text_test, class_train, class_test = train_test_split([row[0] for row in training_data], \n",
    "#                                                                   [row[1] for row in training_data], test_size=0.1)"
   ]
  },
  {
   "cell_type": "markdown",
   "metadata": {},
   "source": [
    "#### Use NLTK's tokenizer instead of Scikit's"
   ]
  },
  {
   "cell_type": "code",
   "execution_count": 17,
   "metadata": {},
   "outputs": [],
   "source": [
    "tokenizer = nltk.casual.TweetTokenizer(preserve_case=False, reduce_len=True)"
   ]
  },
  {
   "cell_type": "markdown",
   "metadata": {},
   "source": [
    "#### Class for distinguishing polarizing parts of speech as features"
   ]
  },
  {
   "cell_type": "code",
   "execution_count": 18,
   "metadata": {
    "code_folding": []
   },
   "outputs": [],
   "source": [
    "class TweetStats(BaseEstimator, TransformerMixin):\n",
    "    def fit(self, x, y=None):\n",
    "        return self\n",
    "\n",
    "    def transform(self, posts):\n",
    "        others = [\"You\", \"You're\", \"Youre\", \"Your\", \"Yours\", \"U\", \"Ur\", \"Urs\",\n",
    "                  \"She\", \"She's\", \"Shes\", \"Her\", \"Hers\", \n",
    "                  \"He\", \"He's\", \"Hes\", \"Him\", \"His\", \n",
    "                  \"They\", \"They're\", \"Theyre\", \"Them\", \"Their\", \"Theirs\"]\n",
    "        others_lower = set([other.lower() for other in others])\n",
    "        \n",
    "        selfs = [\"I\", \"I'm\", \"Im\", \"We\", \"We're\", \"Our\", \"Ours\", \"My\", \"Mine\", \"Us\"]\n",
    "        selfs_lower = set([self.lower() for self in selfs])\n",
    "        \n",
    "        names_lower = set([name.lower() for name in open(\"../data/other_data/first_names.txt\").read().split(\"\\n\")])\n",
    "        \n",
    "        pattern = \"(?:http|ftp|https)://(?:[\\w_-]+(?:(?:\\.[\\w_-]+)+))(?:[\\w.,@?^=%&:/~+#-]*[\\w@?^=%&/~+#-])?\"\n",
    "                \n",
    "        final_output = []\n",
    "        for text in posts:\n",
    "            tokenized_text = tokenizer.tokenize(text)\n",
    "            \n",
    "            num_others = len(others_lower.intersection(tokenized_text))\n",
    "            num_selfs = len(selfs_lower.intersection(tokenized_text))\n",
    "            num_at_symbols = text.count(\"@\")\n",
    "            num_subtweet = text.count(\"subtweet\") + text.count(\"Subtweet\")\n",
    "            num_urls = len(re.findall(pattern, text))\n",
    "            num_names = len(names_lower.intersection(tokenized_text))\n",
    "            \n",
    "            weighted_dict = {\"num_others\": num_others,\n",
    "                             \"num_selfs\": num_selfs,\n",
    "                             \"num_at_symbols\": num_at_symbols,\n",
    "                             \"num_subtweet\": num_subtweet,\n",
    "                             \"num_urls\": num_urls, \n",
    "                             \"num_names\": num_names}\n",
    "            final_output.append(weighted_dict)\n",
    "        return final_output"
   ]
  },
  {
   "cell_type": "markdown",
   "metadata": {},
   "source": [
    "#### Build the pipeline"
   ]
  },
  {
   "cell_type": "code",
   "execution_count": 19,
   "metadata": {},
   "outputs": [],
   "source": [
    "sentiment_pipeline = Pipeline([\n",
    "    (\"features\", FeatureUnion([\n",
    "        (\"ngram_tf_idf\", Pipeline([\n",
    "            (\"counts\", CountVectorizer(tokenizer=tokenizer.tokenize)),\n",
    "            (\"tf_idf\", TfidfTransformer())\n",
    "        ])),\n",
    "        (\"stats_vect\", Pipeline([\n",
    "            (\"tweet_stats\", TweetStats()),\n",
    "            (\"vect\", DictVectorizer())\n",
    "        ]))\n",
    "    ])),\n",
    "    (\"classifier\", MultinomialNB())\n",
    "])"
   ]
  },
  {
   "cell_type": "markdown",
   "metadata": {},
   "source": [
    "#### K-Folds splits up and separates out 10 training and test sets from the data, from which the classifier is trained and the confusion matrix and classification reports are updated"
   ]
  },
  {
   "cell_type": "code",
   "execution_count": 20,
   "metadata": {},
   "outputs": [],
   "source": [
    "text_training_data = np.array([row[0] for row in training_data])"
   ]
  },
  {
   "cell_type": "code",
   "execution_count": 21,
   "metadata": {},
   "outputs": [],
   "source": [
    "class_training_data = np.array([row[1] for row in training_data])"
   ]
  },
  {
   "cell_type": "code",
   "execution_count": 22,
   "metadata": {},
   "outputs": [],
   "source": [
    "kf = KFold(n_splits=10, random_state=7, shuffle=True)"
   ]
  },
  {
   "cell_type": "code",
   "execution_count": 23,
   "metadata": {
    "scrolled": false
   },
   "outputs": [
    {
     "name": "stdout",
     "output_type": "stream",
     "text": [
      "              precision    recall  f1-score   support\n",
      "\n",
      "non-subtweet       0.78      0.63      0.70       832\n",
      "    subtweet       0.68      0.81      0.74       799\n",
      "\n",
      " avg / total       0.73      0.72      0.72      1631\n",
      "\n",
      "              precision    recall  f1-score   support\n",
      "\n",
      "non-subtweet       0.77      0.64      0.70       826\n",
      "    subtweet       0.69      0.81      0.74       805\n",
      "\n",
      " avg / total       0.73      0.72      0.72      1631\n",
      "\n",
      "              precision    recall  f1-score   support\n",
      "\n",
      "non-subtweet       0.76      0.65      0.70       806\n",
      "    subtweet       0.70      0.80      0.75       825\n",
      "\n",
      " avg / total       0.73      0.73      0.73      1631\n",
      "\n",
      "              precision    recall  f1-score   support\n",
      "\n",
      "non-subtweet       0.76      0.64      0.70       796\n",
      "    subtweet       0.70      0.80      0.75       835\n",
      "\n",
      " avg / total       0.73      0.72      0.72      1631\n",
      "\n",
      "              precision    recall  f1-score   support\n",
      "\n",
      "non-subtweet       0.77      0.65      0.70       827\n",
      "    subtweet       0.69      0.80      0.74       804\n",
      "\n",
      " avg / total       0.73      0.72      0.72      1631\n",
      "\n",
      "              precision    recall  f1-score   support\n",
      "\n",
      "non-subtweet       0.76      0.65      0.70       791\n",
      "    subtweet       0.71      0.81      0.75       840\n",
      "\n",
      " avg / total       0.73      0.73      0.73      1631\n",
      "\n",
      "              precision    recall  f1-score   support\n",
      "\n",
      "non-subtweet       0.76      0.66      0.71       813\n",
      "    subtweet       0.70      0.79      0.74       818\n",
      "\n",
      " avg / total       0.73      0.73      0.72      1631\n",
      "\n",
      "              precision    recall  f1-score   support\n",
      "\n",
      "non-subtweet       0.77      0.64      0.70       843\n",
      "    subtweet       0.68      0.80      0.73       788\n",
      "\n",
      " avg / total       0.73      0.72      0.72      1631\n",
      "\n",
      "              precision    recall  f1-score   support\n",
      "\n",
      "non-subtweet       0.76      0.63      0.69       814\n",
      "    subtweet       0.68      0.80      0.74       816\n",
      "\n",
      " avg / total       0.72      0.71      0.71      1630\n",
      "\n",
      "              precision    recall  f1-score   support\n",
      "\n",
      "non-subtweet       0.74      0.64      0.68       806\n",
      "    subtweet       0.69      0.78      0.73       824\n",
      "\n",
      " avg / total       0.71      0.71      0.71      1630\n",
      "\n"
     ]
    }
   ],
   "source": [
    "cnf_matrix = np.zeros((2, 2), dtype=int)\n",
    "for train_index, test_index in kf.split(text_training_data):\n",
    "    # print(\"TRAIN:\", train_index, \"TEST:\", test_index)\n",
    "    \n",
    "    text_train, text_test = text_training_data[train_index], text_training_data[test_index]\n",
    "    class_train, class_test = class_training_data[train_index], class_training_data[test_index]\n",
    "    \n",
    "    sentiment_pipeline.fit(text_train, class_train)\n",
    "    predictions = sentiment_pipeline.predict(text_test)\n",
    "    \n",
    "    # print(predictions)\n",
    "    \n",
    "    cnf_matrix += confusion_matrix(class_test, predictions)\n",
    "    \n",
    "    print(classification_report(class_test, predictions))"
   ]
  },
  {
   "cell_type": "markdown",
   "metadata": {},
   "source": [
    "#### Define function for visualizing confusion matrices"
   ]
  },
  {
   "cell_type": "code",
   "execution_count": 24,
   "metadata": {},
   "outputs": [],
   "source": [
    "def plot_confusion_matrix(cm, classes, normalize=False,\n",
    "                          title=\"Confusion Matrix\", cmap=plt.cm.Blues):\n",
    "    if normalize:\n",
    "        cm = cm.astype(\"float\") / cm.sum(axis=1)[:, np.newaxis]\n",
    "\n",
    "    plt.imshow(cm, interpolation=\"nearest\", cmap=cmap)\n",
    "    plt.title(title)\n",
    "    plt.colorbar()\n",
    "    tick_marks = np.arange(len(classes))\n",
    "    plt.xticks(tick_marks, classes, rotation=45)\n",
    "    plt.yticks(tick_marks, classes)\n",
    "\n",
    "    fmt = \".2f\" if normalize else \"d\"\n",
    "    thresh = cm.max() / 2.\n",
    "    for i, j in itertools.product(range(cm.shape[0]), range(cm.shape[1])):\n",
    "        plt.text(j, i, format(cm[i, j], fmt),\n",
    "                 horizontalalignment=\"center\",\n",
    "                 color=\"white\" if cm[i, j] > thresh else \"black\")\n",
    "\n",
    "    plt.tight_layout()\n",
    "    plt.ylabel(\"True label\")\n",
    "    plt.xlabel(\"Predicted Label\")"
   ]
  },
  {
   "cell_type": "markdown",
   "metadata": {},
   "source": [
    "#### Show the matrices"
   ]
  },
  {
   "cell_type": "code",
   "execution_count": 25,
   "metadata": {},
   "outputs": [
    {
     "data": {
      "image/png": "[encoded data removed]",
      "text/plain": [
       "<Figure size 432x288 with 2 Axes>"
      ]
     },
     "metadata": {},
     "output_type": "display_data"
    },
    {
     "data": {
      "image/png": "[encoded data removed]",
      "text/plain": [
       "<Figure size 432x288 with 2 Axes>"
      ]
     },
     "metadata": {},
     "output_type": "display_data"
    }
   ],
   "source": [
    "class_names = [\"non-subtweet\", \"subtweet\"]\n",
    "\n",
    "# cnf_matrix = confusion_matrix(class_test, predictions)\n",
    "np.set_printoptions(precision=2)\n",
    "\n",
    "plt.figure()\n",
    "plot_confusion_matrix(cnf_matrix, classes=class_names,\n",
    "                      title='Confusion matrix, without normalization')\n",
    "\n",
    "plt.figure()\n",
    "plot_confusion_matrix(cnf_matrix, classes=class_names, normalize=True,\n",
    "                      title='Normalized confusion matrix')\n",
    "\n",
    "plt.show()"
   ]
  },
  {
   "cell_type": "markdown",
   "metadata": {},
   "source": [
    "### Update matplotlib style"
   ]
  },
  {
   "cell_type": "code",
   "execution_count": 26,
   "metadata": {},
   "outputs": [],
   "source": [
    "plt.style.use(\"fivethirtyeight\")"
   ]
  },
  {
   "cell_type": "markdown",
   "metadata": {},
   "source": [
    "#### Save the classifier for another time"
   ]
  },
  {
   "cell_type": "code",
   "execution_count": 27,
   "metadata": {},
   "outputs": [],
   "source": [
    "joblib.dump(sentiment_pipeline, \"../data/other_data/subtweets_classifier.pkl\");"
   ]
  },
  {
   "cell_type": "markdown",
   "metadata": {},
   "source": [
    "#### Print tests for the classifier"
   ]
  },
  {
   "cell_type": "code",
   "execution_count": 28,
   "metadata": {},
   "outputs": [],
   "source": [
    "def tests_dataframe(tweets_dataframe, text_column=\"SentimentText\", sentiment_column=\"Sentiment\"):\n",
    "    predictions = sentiment_pipeline.predict_proba(tweets_dataframe[text_column])\n",
    "    negative_probability = predictions[:, 0].tolist()\n",
    "    positive_probability = predictions[:, 1].tolist()\n",
    "    return pd.DataFrame({\"tweet\": tweets_dataframe[text_column], \n",
    "                         \"sentiment_score\": tweets_dataframe[sentiment_column], \n",
    "                         \"subtweet_negative_probability\": negative_probability, \n",
    "                         \"subtweet_positive_probability\": positive_probability}).sort_values(by=\"subtweet_positive_probability\", \n",
    "                                                                                             ascending=False)"
   ]
  },
  {
   "cell_type": "markdown",
   "metadata": {},
   "source": [
    "#### Make up some tweets"
   ]
  },
  {
   "cell_type": "code",
   "execution_count": 29,
   "metadata": {},
   "outputs": [],
   "source": [
    "test_tweets = [\"Some people don't know their place.\", \n",
    "               \"Isn't it funny how some people don't know their place?\", \n",
    "               \"How come you people act like this?\", \n",
    "               \"You're such a nerd.\",\n",
    "               \"I love Noah, he's so cool.\",\n",
    "               \"Who the heck is Noah?\",\n",
    "               \"This is a @NoahSegalGould subtweet. Go check out https://segal-gould.com.\", \n",
    "               \"This is a subtweet.\", \n",
    "               \"Hey @jack!\", \n",
    "               \"Hey Jack!\",\n",
    "               \"http://www.google.com\"]"
   ]
  },
  {
   "cell_type": "markdown",
   "metadata": {},
   "source": [
    "#### Make a dataframe from the list"
   ]
  },
  {
   "cell_type": "code",
   "execution_count": 30,
   "metadata": {},
   "outputs": [],
   "source": [
    "test_tweets_df = pd.DataFrame({\"Tweet\": test_tweets, \"Sentiment\": [None]*len(test_tweets)})"
   ]
  },
  {
   "cell_type": "markdown",
   "metadata": {},
   "source": [
    "#### Print the tests"
   ]
  },
  {
   "cell_type": "code",
   "execution_count": 31,
   "metadata": {},
   "outputs": [
    {
     "name": "stdout",
     "output_type": "stream",
     "text": [
      "CPU times: user 13.8 ms, sys: 2.94 ms, total: 16.7 ms\n",
      "Wall time: 15.5 ms\n"
     ]
    },
    {
     "data": {
      "text/html": [
       "<div>\n",
       "<style scoped>\n",
       "    .dataframe tbody tr th:only-of-type {\n",
       "        vertical-align: middle;\n",
       "    }\n",
       "\n",
       "    .dataframe tbody tr th {\n",
       "        vertical-align: top;\n",
       "    }\n",
       "\n",
       "    .dataframe thead th {\n",
       "        text-align: right;\n",
       "    }\n",
       "</style>\n",
       "<table border=\"1\" class=\"dataframe\">\n",
       "  <thead>\n",
       "    <tr style=\"text-align: right;\">\n",
       "      <th></th>\n",
       "      <th>subtweet_positive_probability</th>\n",
       "      <th>tweet</th>\n",
       "    </tr>\n",
       "  </thead>\n",
       "  <tbody>\n",
       "    <tr>\n",
       "      <th>1</th>\n",
       "      <td>0.896955</td>\n",
       "      <td>Isn't it funny how some people don't know their place?</td>\n",
       "    </tr>\n",
       "    <tr>\n",
       "      <th>0</th>\n",
       "      <td>0.873770</td>\n",
       "      <td>Some people don't know their place.</td>\n",
       "    </tr>\n",
       "    <tr>\n",
       "      <th>2</th>\n",
       "      <td>0.847159</td>\n",
       "      <td>How come you people act like this?</td>\n",
       "    </tr>\n",
       "    <tr>\n",
       "      <th>3</th>\n",
       "      <td>0.829718</td>\n",
       "      <td>You're such a nerd.</td>\n",
       "    </tr>\n",
       "    <tr>\n",
       "      <th>4</th>\n",
       "      <td>0.731392</td>\n",
       "      <td>I love Noah, he's so cool.</td>\n",
       "    </tr>\n",
       "  </tbody>\n",
       "</table>\n",
       "</div>"
      ],
      "text/plain": [
       "   subtweet_positive_probability  \\\n",
       "1                       0.896955   \n",
       "0                       0.873770   \n",
       "2                       0.847159   \n",
       "3                       0.829718   \n",
       "4                       0.731392   \n",
       "\n",
       "                                                    tweet  \n",
       "1  Isn't it funny how some people don't know their place?  \n",
       "0                     Some people don't know their place.  \n",
       "2                      How come you people act like this?  \n",
       "3                                     You're such a nerd.  \n",
       "4                              I love Noah, he's so cool.  "
      ]
     },
     "execution_count": 31,
     "metadata": {},
     "output_type": "execute_result"
    }
   ],
   "source": [
    "%%time\n",
    "tests_dataframe(test_tweets_df, text_column=\"Tweet\", \n",
    "                sentiment_column=\"Sentiment\").drop([\"sentiment_score\", \n",
    "                                                    \"subtweet_negative_probability\"], axis=1).head()"
   ]
  },
  {
   "cell_type": "markdown",
   "metadata": {},
   "source": [
    "#### Test on actual tweets"
   ]
  },
  {
   "cell_type": "code",
   "execution_count": 32,
   "metadata": {},
   "outputs": [
    {
     "name": "stderr",
     "output_type": "stream",
     "text": [
      "b'Skipping line 8836: expected 4 fields, saw 5\\n'\n",
      "b'Skipping line 535882: expected 4 fields, saw 7\\n'\n"
     ]
    }
   ],
   "source": [
    "naji_df = pd.read_csv(\"../data/data_for_testing/other_data/naji_data.csv\", error_bad_lines=False)"
   ]
  },
  {
   "cell_type": "markdown",
   "metadata": {},
   "source": [
    "#### Repair some leftover HTML"
   ]
  },
  {
   "cell_type": "code",
   "execution_count": 33,
   "metadata": {},
   "outputs": [],
   "source": [
    "naji_df[\"SentimentText\"] = naji_df[\"SentimentText\"].str.replace(\"&quot;\", \"\\\"\")\n",
    "naji_df[\"SentimentText\"] = naji_df[\"SentimentText\"].str.replace(\"&amp;\", \"&\")\n",
    "naji_df[\"SentimentText\"] = naji_df[\"SentimentText\"].str.replace(\"&gt;\", \">\")\n",
    "naji_df[\"SentimentText\"] = naji_df[\"SentimentText\"].str.replace(\"&lt;\", \"<\")"
   ]
  },
  {
   "cell_type": "markdown",
   "metadata": {},
   "source": [
    "#### Remove rows with non-English"
   ]
  },
  {
   "cell_type": "code",
   "execution_count": 34,
   "metadata": {},
   "outputs": [],
   "source": [
    "def is_english(s):\n",
    "    return all(ord(char) < 128 for char in s)"
   ]
  },
  {
   "cell_type": "code",
   "execution_count": 35,
   "metadata": {},
   "outputs": [],
   "source": [
    "naji_df = naji_df[naji_df[\"SentimentText\"].map(is_english)]"
   ]
  },
  {
   "cell_type": "markdown",
   "metadata": {},
   "source": [
    "#### Show the length of the dataset"
   ]
  },
  {
   "cell_type": "code",
   "execution_count": 36,
   "metadata": {},
   "outputs": [
    {
     "name": "stdout",
     "output_type": "stream",
     "text": [
      "Length of dataset: 1564156\n"
     ]
    }
   ],
   "source": [
    "print(\"Length of dataset: {}\".format(len(naji_df)))"
   ]
  },
  {
   "cell_type": "markdown",
   "metadata": {},
   "source": [
    "#### (Don't) use randomly selected 5K rows from dataset"
   ]
  },
  {
   "cell_type": "code",
   "execution_count": 37,
   "metadata": {},
   "outputs": [],
   "source": [
    "# naji_df = naji_df.sample(n=5000).reset_index(drop=True)"
   ]
  },
  {
   "cell_type": "markdown",
   "metadata": {},
   "source": [
    "#### Print and time the tests"
   ]
  },
  {
   "cell_type": "code",
   "execution_count": 38,
   "metadata": {
    "scrolled": false
   },
   "outputs": [
    {
     "name": "stdout",
     "output_type": "stream",
     "text": [
      "CPU times: user 5min 14s, sys: 6.41 s, total: 5min 21s\n",
      "Wall time: 5min 39s\n"
     ]
    }
   ],
   "source": [
    "%%time\n",
    "naji_df = tests_dataframe(naji_df).drop([\"sentiment_score\", \"subtweet_negative_probability\"], axis=1)"
   ]
  },
  {
   "cell_type": "code",
   "execution_count": 39,
   "metadata": {},
   "outputs": [],
   "source": [
    "naji_df.to_csv(\"../data/data_from_testing/other_data/naji_tests.csv\")"
   ]
  },
  {
   "cell_type": "code",
   "execution_count": 40,
   "metadata": {},
   "outputs": [
    {
     "data": {
      "text/html": [
       "<div>\n",
       "<style scoped>\n",
       "    .dataframe tbody tr th:only-of-type {\n",
       "        vertical-align: middle;\n",
       "    }\n",
       "\n",
       "    .dataframe tbody tr th {\n",
       "        vertical-align: top;\n",
       "    }\n",
       "\n",
       "    .dataframe thead th {\n",
       "        text-align: right;\n",
       "    }\n",
       "</style>\n",
       "<table border=\"1\" class=\"dataframe\">\n",
       "  <thead>\n",
       "    <tr style=\"text-align: right;\">\n",
       "      <th></th>\n",
       "      <th>subtweet_positive_probability</th>\n",
       "      <th>tweet</th>\n",
       "    </tr>\n",
       "  </thead>\n",
       "  <tbody>\n",
       "    <tr>\n",
       "      <th>1255435</th>\n",
       "      <td>0.988699</td>\n",
       "      <td>thinks people really dont understand even when their words to you say they do  u think something then realise something else</td>\n",
       "    </tr>\n",
       "    <tr>\n",
       "      <th>896251</th>\n",
       "      <td>0.987086</td>\n",
       "      <td>If you guys are into your Twitter and Tweets then check out www.tweetlater.com dont tell them I sent you cause they wont know who I am</td>\n",
       "    </tr>\n",
       "    <tr>\n",
       "      <th>558945</th>\n",
       "      <td>0.986579</td>\n",
       "      <td>Again, thanks!I hate when you make me realize that you're too good a friend to me.As ur friend I want to tell u, u need better friends.</td>\n",
       "    </tr>\n",
       "    <tr>\n",
       "      <th>636297</th>\n",
       "      <td>0.985089</td>\n",
       "      <td>cuz when youre fifteen and somebody tells you they love you ,you're gonna believe them...</td>\n",
       "    </tr>\n",
       "    <tr>\n",
       "      <th>1441266</th>\n",
       "      <td>0.984381</td>\n",
       "      <td>I hate when boys whine bc you don't text them but when you do they never respond!</td>\n",
       "    </tr>\n",
       "  </tbody>\n",
       "</table>\n",
       "</div>"
      ],
      "text/plain": [
       "         subtweet_positive_probability  \\\n",
       "1255435                       0.988699   \n",
       "896251                        0.987086   \n",
       "558945                        0.986579   \n",
       "636297                        0.985089   \n",
       "1441266                       0.984381   \n",
       "\n",
       "                                                                                                                                            tweet  \n",
       "1255435              thinks people really dont understand even when their words to you say they do  u think something then realise something else  \n",
       "896251    If you guys are into your Twitter and Tweets then check out www.tweetlater.com dont tell them I sent you cause they wont know who I am   \n",
       "558945   Again, thanks!I hate when you make me realize that you're too good a friend to me.As ur friend I want to tell u, u need better friends.   \n",
       "636297                                                 cuz when youre fifteen and somebody tells you they love you ,you're gonna believe them...   \n",
       "1441266                                                        I hate when boys whine bc you don't text them but when you do they never respond!   "
      ]
     },
     "execution_count": 40,
     "metadata": {},
     "output_type": "execute_result"
    }
   ],
   "source": [
    "naji_df.head()"
   ]
  },
  {
   "cell_type": "markdown",
   "metadata": {},
   "source": [
    "#### Plot the results"
   ]
  },
  {
   "cell_type": "code",
   "execution_count": 41,
   "metadata": {},
   "outputs": [],
   "source": [
    "naji_df_for_plotting = naji_df.drop([\"tweet\"], axis=1)"
   ]
  },
  {
   "cell_type": "code",
   "execution_count": 42,
   "metadata": {
    "scrolled": false
   },
   "outputs": [
    {
     "data": {
      "image/png": "[encoded data removed]",
      "text/plain": [
       "<Figure size 1152x648 with 1 Axes>"
      ]
     },
     "metadata": {},
     "output_type": "display_data"
    }
   ],
   "source": [
    "ax = naji_df_for_plotting.plot.hist(bins=100, figsize=(16, 9), color=\"maroon\", alpha=0.75, fontsize=13);\n",
    "ax.set_title(\"Naji Dataset Distribution of Subtweet Positivity Probabilities\", fontsize=18)\n",
    "ax.set_xlabel(\"Positivity Probability\", fontsize=18);\n",
    "ax.set_ylabel(\"Tweet Count\", fontsize=18);"
   ]
  },
  {
   "cell_type": "markdown",
   "metadata": {},
   "source": [
    "#### Tests on friends' tweets"
   ]
  },
  {
   "cell_type": "markdown",
   "metadata": {},
   "source": [
    "#### Aaron"
   ]
  },
  {
   "cell_type": "code",
   "execution_count": 43,
   "metadata": {},
   "outputs": [],
   "source": [
    "aaron_df = pd.read_csv(\"../data/data_for_testing/friends_data/akrapf96_tweets.csv\").dropna()\n",
    "aaron_df[\"Sentiment\"] = None"
   ]
  },
  {
   "cell_type": "code",
   "execution_count": 44,
   "metadata": {
    "scrolled": true
   },
   "outputs": [
    {
     "name": "stdout",
     "output_type": "stream",
     "text": [
      "CPU times: user 643 ms, sys: 11.5 ms, total: 655 ms\n",
      "Wall time: 678 ms\n"
     ]
    }
   ],
   "source": [
    "%%time\n",
    "aaron_df = tests_dataframe(aaron_df, text_column=\"Text\", \n",
    "                           sentiment_column=\"Sentiment\").drop([\"sentiment_score\", \n",
    "                                                               \"subtweet_negative_probability\"], axis=1)"
   ]
  },
  {
   "cell_type": "code",
   "execution_count": 45,
   "metadata": {},
   "outputs": [],
   "source": [
    "aaron_df.to_csv(\"../data/data_from_testing/friends_data/akrapf96_tests.csv\")"
   ]
  },
  {
   "cell_type": "code",
   "execution_count": 46,
   "metadata": {},
   "outputs": [
    {
     "data": {
      "text/html": [
       "<div>\n",
       "<style scoped>\n",
       "    .dataframe tbody tr th:only-of-type {\n",
       "        vertical-align: middle;\n",
       "    }\n",
       "\n",
       "    .dataframe tbody tr th {\n",
       "        vertical-align: top;\n",
       "    }\n",
       "\n",
       "    .dataframe thead th {\n",
       "        text-align: right;\n",
       "    }\n",
       "</style>\n",
       "<table border=\"1\" class=\"dataframe\">\n",
       "  <thead>\n",
       "    <tr style=\"text-align: right;\">\n",
       "      <th></th>\n",
       "      <th>subtweet_positive_probability</th>\n",
       "      <th>tweet</th>\n",
       "    </tr>\n",
       "  </thead>\n",
       "  <tbody>\n",
       "    <tr>\n",
       "      <th>2893</th>\n",
       "      <td>0.972252</td>\n",
       "      <td>I love arguing with conservative bigots who don't understand basic decency. People have their own beliefs, just let them believe.</td>\n",
       "    </tr>\n",
       "    <tr>\n",
       "      <th>3284</th>\n",
       "      <td>0.962698</td>\n",
       "      <td>Also you don't need to resort to social media 24/7 to complain about your very privileged life ¯\\_(ツ)_/¯</td>\n",
       "    </tr>\n",
       "    <tr>\n",
       "      <th>1994</th>\n",
       "      <td>0.960500</td>\n",
       "      <td>i can't believe noah just trolls twitter waiting for you to tweet so he can respond without you tagging him</td>\n",
       "    </tr>\n",
       "    <tr>\n",
       "      <th>3299</th>\n",
       "      <td>0.960456</td>\n",
       "      <td>When I try to be supportive and caring I get ignored and then I'm told I'm not being supportive or caring ¯\\_(ツ)_/¯</td>\n",
       "    </tr>\n",
       "    <tr>\n",
       "      <th>821</th>\n",
       "      <td>0.957877</td>\n",
       "      <td>tfw you're proud of something and want to share it with others but you realize that nobody actually cares</td>\n",
       "    </tr>\n",
       "  </tbody>\n",
       "</table>\n",
       "</div>"
      ],
      "text/plain": [
       "      subtweet_positive_probability  \\\n",
       "2893                       0.972252   \n",
       "3284                       0.962698   \n",
       "1994                       0.960500   \n",
       "3299                       0.960456   \n",
       "821                        0.957877   \n",
       "\n",
       "                                                                                                                                  tweet  \n",
       "2893  I love arguing with conservative bigots who don't understand basic decency. People have their own beliefs, just let them believe.  \n",
       "3284                           Also you don't need to resort to social media 24/7 to complain about your very privileged life ¯\\_(ツ)_/¯  \n",
       "1994                        i can't believe noah just trolls twitter waiting for you to tweet so he can respond without you tagging him  \n",
       "3299                When I try to be supportive and caring I get ignored and then I'm told I'm not being supportive or caring ¯\\_(ツ)_/¯  \n",
       "821                           tfw you're proud of something and want to share it with others but you realize that nobody actually cares  "
      ]
     },
     "execution_count": 46,
     "metadata": {},
     "output_type": "execute_result"
    }
   ],
   "source": [
    "aaron_df.head()"
   ]
  },
  {
   "cell_type": "code",
   "execution_count": 47,
   "metadata": {},
   "outputs": [],
   "source": [
    "aaron_df_for_plotting = aaron_df.drop([\"tweet\"], axis=1)"
   ]
  },
  {
   "cell_type": "code",
   "execution_count": 48,
   "metadata": {},
   "outputs": [
    {
     "data": {
      "image/png": "[encoded data removed]",
      "text/plain": [
       "<Figure size 1152x648 with 1 Axes>"
      ]
     },
     "metadata": {},
     "output_type": "display_data"
    }
   ],
   "source": [
    "ax = aaron_df_for_plotting.plot.hist(bins=25, figsize=(16, 9), color=\"maroon\", alpha=0.75, fontsize=13);\n",
    "ax.set_title(\"Aaron Dataset Distribution of Subtweet Positivity Probabilities\", fontsize=18)\n",
    "ax.set_xlabel(\"Positivity Probability\", fontsize=18);\n",
    "ax.set_ylabel(\"Tweet Count\", fontsize=18);"
   ]
  },
  {
   "cell_type": "markdown",
   "metadata": {},
   "source": [
    "#### Julia"
   ]
  },
  {
   "cell_type": "code",
   "execution_count": 49,
   "metadata": {},
   "outputs": [],
   "source": [
    "julia_df = pd.read_csv(\"../data/data_for_testing/friends_data/juliaeberry_tweets.csv\").dropna()\n",
    "julia_df[\"Sentiment\"] = None"
   ]
  },
  {
   "cell_type": "code",
   "execution_count": 50,
   "metadata": {
    "scrolled": false
   },
   "outputs": [
    {
     "name": "stdout",
     "output_type": "stream",
     "text": [
      "CPU times: user 1.71 s, sys: 31.3 ms, total: 1.74 s\n",
      "Wall time: 1.99 s\n"
     ]
    }
   ],
   "source": [
    "%%time\n",
    "julia_df = tests_dataframe(julia_df, text_column=\"Text\", \n",
    "                           sentiment_column=\"Sentiment\").drop([\"sentiment_score\", \n",
    "                                                               \"subtweet_negative_probability\"], axis=1)"
   ]
  },
  {
   "cell_type": "code",
   "execution_count": 51,
   "metadata": {},
   "outputs": [],
   "source": [
    "julia_df.to_csv(\"../data/data_from_testing/friends_data/juliaeberry_tests.csv\")"
   ]
  },
  {
   "cell_type": "code",
   "execution_count": 52,
   "metadata": {},
   "outputs": [
    {
     "data": {
      "text/html": [
       "<div>\n",
       "<style scoped>\n",
       "    .dataframe tbody tr th:only-of-type {\n",
       "        vertical-align: middle;\n",
       "    }\n",
       "\n",
       "    .dataframe tbody tr th {\n",
       "        vertical-align: top;\n",
       "    }\n",
       "\n",
       "    .dataframe thead th {\n",
       "        text-align: right;\n",
       "    }\n",
       "</style>\n",
       "<table border=\"1\" class=\"dataframe\">\n",
       "  <thead>\n",
       "    <tr style=\"text-align: right;\">\n",
       "      <th></th>\n",
       "      <th>subtweet_positive_probability</th>\n",
       "      <th>tweet</th>\n",
       "    </tr>\n",
       "  </thead>\n",
       "  <tbody>\n",
       "    <tr>\n",
       "      <th>2926</th>\n",
       "      <td>0.971452</td>\n",
       "      <td>if ur white and u didn't grow up saying \"y'all\" but you do now bc #trendy, consider NOT doing that</td>\n",
       "    </tr>\n",
       "    <tr>\n",
       "      <th>5634</th>\n",
       "      <td>0.964430</td>\n",
       "      <td>don't follow bachelor contestants u liked on insta bc it will just make u hate them for being annoying and unoriginal #sorrycaila</td>\n",
       "    </tr>\n",
       "    <tr>\n",
       "      <th>1138</th>\n",
       "      <td>0.962955</td>\n",
       "      <td>\"what a COINcidence that you're here,\" drawls Bitcoin lustily. your palms sweat as you imagine what it would be like to own this creature, to do with him what you will. you drag your cursor over his coinhood, and he gasps. \\n\"transaction complete,\" you whisper into his ear la...</td>\n",
       "    </tr>\n",
       "    <tr>\n",
       "      <th>3634</th>\n",
       "      <td>0.959004</td>\n",
       "      <td>do you ever see someone's posts online that are so unfunny that you just kind of sit there through them in disbelief</td>\n",
       "    </tr>\n",
       "    <tr>\n",
       "      <th>4629</th>\n",
       "      <td>0.958883</td>\n",
       "      <td>how do you tell ur coach who probably hates ur forgetful ass at this point that you can't go to practice bc u stayed up all night lmk</td>\n",
       "    </tr>\n",
       "  </tbody>\n",
       "</table>\n",
       "</div>"
      ],
      "text/plain": [
       "      subtweet_positive_probability  \\\n",
       "2926                       0.971452   \n",
       "5634                       0.964430   \n",
       "1138                       0.962955   \n",
       "3634                       0.959004   \n",
       "4629                       0.958883   \n",
       "\n",
       "                                                                                                                                                                                                                                                                                        tweet  \n",
       "2926                                                                                                                                                                                       if ur white and u didn't grow up saying \"y'all\" but you do now bc #trendy, consider NOT doing that  \n",
       "5634                                                                                                                                                        don't follow bachelor contestants u liked on insta bc it will just make u hate them for being annoying and unoriginal #sorrycaila  \n",
       "1138  \"what a COINcidence that you're here,\" drawls Bitcoin lustily. your palms sweat as you imagine what it would be like to own this creature, to do with him what you will. you drag your cursor over his coinhood, and he gasps. \\n\"transaction complete,\" you whisper into his ear la...  \n",
       "3634                                                                                                                                                                     do you ever see someone's posts online that are so unfunny that you just kind of sit there through them in disbelief  \n",
       "4629                                                                                                                                                    how do you tell ur coach who probably hates ur forgetful ass at this point that you can't go to practice bc u stayed up all night lmk  "
      ]
     },
     "execution_count": 52,
     "metadata": {},
     "output_type": "execute_result"
    }
   ],
   "source": [
    "julia_df.head()"
   ]
  },
  {
   "cell_type": "code",
   "execution_count": 53,
   "metadata": {},
   "outputs": [],
   "source": [
    "julia_df_for_plotting = julia_df.drop([\"tweet\"], axis=1)"
   ]
  },
  {
   "cell_type": "code",
   "execution_count": 54,
   "metadata": {},
   "outputs": [
    {
     "data": {
      "image/png": "[encoded data removed]",
      "text/plain": [
       "<Figure size 1152x648 with 1 Axes>"
      ]
     },
     "metadata": {},
     "output_type": "display_data"
    }
   ],
   "source": [
    "ax = julia_df_for_plotting.plot.hist(bins=25, figsize=(16, 9), color=\"maroon\", alpha=0.75, fontsize=13);\n",
    "ax.set_title(\"Julia Dataset Distribution of Subtweet Positivity Probabilities\", fontsize=18)\n",
    "ax.set_xlabel(\"Positivity Probability\", fontsize=18);\n",
    "ax.set_ylabel(\"Tweet Count\", fontsize=18);"
   ]
  },
  {
   "cell_type": "markdown",
   "metadata": {},
   "source": [
    "#### Zoe"
   ]
  },
  {
   "cell_type": "code",
   "execution_count": 55,
   "metadata": {},
   "outputs": [],
   "source": [
    "zoe_df = pd.read_csv(\"../data/data_for_testing/friends_data/zoeterhune_tweets.csv\").dropna()\n",
    "zoe_df[\"Sentiment\"] = None"
   ]
  },
  {
   "cell_type": "code",
   "execution_count": 56,
   "metadata": {},
   "outputs": [
    {
     "name": "stdout",
     "output_type": "stream",
     "text": [
      "CPU times: user 338 ms, sys: 9.15 ms, total: 347 ms\n",
      "Wall time: 392 ms\n"
     ]
    }
   ],
   "source": [
    "%%time\n",
    "zoe_df = tests_dataframe(zoe_df, text_column=\"Text\", \n",
    "                         sentiment_column=\"Sentiment\").drop([\"sentiment_score\",\n",
    "                                                             \"subtweet_negative_probability\"], axis=1)"
   ]
  },
  {
   "cell_type": "code",
   "execution_count": 57,
   "metadata": {},
   "outputs": [],
   "source": [
    "zoe_df.to_csv(\"../data/data_from_testing/friends_data/zoeterhune_tests.csv\")"
   ]
  },
  {
   "cell_type": "code",
   "execution_count": 58,
   "metadata": {},
   "outputs": [
    {
     "data": {
      "text/html": [
       "<div>\n",
       "<style scoped>\n",
       "    .dataframe tbody tr th:only-of-type {\n",
       "        vertical-align: middle;\n",
       "    }\n",
       "\n",
       "    .dataframe tbody tr th {\n",
       "        vertical-align: top;\n",
       "    }\n",
       "\n",
       "    .dataframe thead th {\n",
       "        text-align: right;\n",
       "    }\n",
       "</style>\n",
       "<table border=\"1\" class=\"dataframe\">\n",
       "  <thead>\n",
       "    <tr style=\"text-align: right;\">\n",
       "      <th></th>\n",
       "      <th>subtweet_positive_probability</th>\n",
       "      <th>tweet</th>\n",
       "    </tr>\n",
       "  </thead>\n",
       "  <tbody>\n",
       "    <tr>\n",
       "      <th>583</th>\n",
       "      <td>0.978702</td>\n",
       "      <td>and u decide to tweet about it weeks later bc no one ever talked about it and ur anxious mind decided 2 interpret that as no one caring when, in reality, it's probably people forgetting because you, and your particular brand of anxiety, bounce haphazardly from one mood 2 the ...</td>\n",
       "    </tr>\n",
       "    <tr>\n",
       "      <th>711</th>\n",
       "      <td>0.961542</td>\n",
       "      <td>U ever subtweet people who replied to a random tweet someone u followed liked bc I just did</td>\n",
       "    </tr>\n",
       "    <tr>\n",
       "      <th>216</th>\n",
       "      <td>0.955530</td>\n",
       "      <td>did you say no and you're mad i would dare suggest such a change or are you mad someone said no</td>\n",
       "    </tr>\n",
       "    <tr>\n",
       "      <th>824</th>\n",
       "      <td>0.955477</td>\n",
       "      <td>if ur mom doesnt make deviled eggs and then force them down ur throat is she even ur mom</td>\n",
       "    </tr>\n",
       "    <tr>\n",
       "      <th>446</th>\n",
       "      <td>0.951258</td>\n",
       "      <td>YEAH BUT U DON'T GET TO CONTINUALLY TRASH A MOVIE WITHOUT INFORMING THE PUBLIC THAT YOU WEEPED LIKE A LITTLE BABY INFANT WHILE WATCHING IT! YOU DO NOT GET TO DO THIS! BE HONEST WITH YOUR FANS</td>\n",
       "    </tr>\n",
       "  </tbody>\n",
       "</table>\n",
       "</div>"
      ],
      "text/plain": [
       "     subtweet_positive_probability  \\\n",
       "583                       0.978702   \n",
       "711                       0.961542   \n",
       "216                       0.955530   \n",
       "824                       0.955477   \n",
       "446                       0.951258   \n",
       "\n",
       "                                                                                                                                                                                                                                                                                       tweet  \n",
       "583  and u decide to tweet about it weeks later bc no one ever talked about it and ur anxious mind decided 2 interpret that as no one caring when, in reality, it's probably people forgetting because you, and your particular brand of anxiety, bounce haphazardly from one mood 2 the ...  \n",
       "711                                                                                                                                                                                              U ever subtweet people who replied to a random tweet someone u followed liked bc I just did  \n",
       "216                                                                                                                                                                                          did you say no and you're mad i would dare suggest such a change or are you mad someone said no  \n",
       "824                                                                                                                                                                                                 if ur mom doesnt make deviled eggs and then force them down ur throat is she even ur mom  \n",
       "446                                                                                          YEAH BUT U DON'T GET TO CONTINUALLY TRASH A MOVIE WITHOUT INFORMING THE PUBLIC THAT YOU WEEPED LIKE A LITTLE BABY INFANT WHILE WATCHING IT! YOU DO NOT GET TO DO THIS! BE HONEST WITH YOUR FANS  "
      ]
     },
     "execution_count": 58,
     "metadata": {},
     "output_type": "execute_result"
    }
   ],
   "source": [
    "zoe_df.head()"
   ]
  },
  {
   "cell_type": "code",
   "execution_count": 59,
   "metadata": {},
   "outputs": [],
   "source": [
    "zoe_df_for_plotting = zoe_df.drop([\"tweet\"], axis=1)"
   ]
  },
  {
   "cell_type": "code",
   "execution_count": 60,
   "metadata": {},
   "outputs": [
    {
     "data": {
      "image/png": "[encoded data removed]",
      "text/plain": [
       "<Figure size 1152x648 with 1 Axes>"
      ]
     },
     "metadata": {},
     "output_type": "display_data"
    }
   ],
   "source": [
    "ax = zoe_df_for_plotting.plot.hist(bins=25, figsize=(16, 9), color=\"maroon\", alpha=0.75, fontsize=13);\n",
    "ax.set_title(\"Zoe Dataset Distribution of Subtweet Positivity Probabilities\", fontsize=18)\n",
    "ax.set_xlabel(\"Positivity Probability\", fontsize=18);\n",
    "ax.set_ylabel(\"Tweet Count\", fontsize=18);"
   ]
  },
  {
   "cell_type": "markdown",
   "metadata": {},
   "source": [
    "#### Noah"
   ]
  },
  {
   "cell_type": "code",
   "execution_count": 61,
   "metadata": {},
   "outputs": [],
   "source": [
    "noah_df = pd.read_csv(\"../data/data_for_testing/friends_data/noahsegalgould_tweets.csv\").dropna()\n",
    "noah_df[\"Sentiment\"] = None"
   ]
  },
  {
   "cell_type": "code",
   "execution_count": 62,
   "metadata": {
    "scrolled": false
   },
   "outputs": [
    {
     "name": "stdout",
     "output_type": "stream",
     "text": [
      "CPU times: user 856 ms, sys: 14.2 ms, total: 870 ms\n",
      "Wall time: 900 ms\n"
     ]
    }
   ],
   "source": [
    "%%time\n",
    "noah_df = tests_dataframe(noah_df, text_column=\"Text\", \n",
    "                          sentiment_column=\"Sentiment\").drop([\"sentiment_score\", \n",
    "                                                              \"subtweet_negative_probability\"], axis=1)"
   ]
  },
  {
   "cell_type": "code",
   "execution_count": 63,
   "metadata": {},
   "outputs": [],
   "source": [
    "noah_df.to_csv(\"../data/data_from_testing/friends_data/noahsegalgould_tests.csv\")"
   ]
  },
  {
   "cell_type": "code",
   "execution_count": 64,
   "metadata": {},
   "outputs": [
    {
     "data": {
      "text/html": [
       "<div>\n",
       "<style scoped>\n",
       "    .dataframe tbody tr th:only-of-type {\n",
       "        vertical-align: middle;\n",
       "    }\n",
       "\n",
       "    .dataframe tbody tr th {\n",
       "        vertical-align: top;\n",
       "    }\n",
       "\n",
       "    .dataframe thead th {\n",
       "        text-align: right;\n",
       "    }\n",
       "</style>\n",
       "<table border=\"1\" class=\"dataframe\">\n",
       "  <thead>\n",
       "    <tr style=\"text-align: right;\">\n",
       "      <th></th>\n",
       "      <th>subtweet_positive_probability</th>\n",
       "      <th>tweet</th>\n",
       "    </tr>\n",
       "  </thead>\n",
       "  <tbody>\n",
       "    <tr>\n",
       "      <th>2891</th>\n",
       "      <td>0.972031</td>\n",
       "      <td>When you're telling me to die or making me feel inferior I don't like you but you're normally very kind so I'm content with that</td>\n",
       "    </tr>\n",
       "    <tr>\n",
       "      <th>3125</th>\n",
       "      <td>0.967761</td>\n",
       "      <td>Whenever my dog is whining because she wants something I'm eating I just imagine her fatshaming me</td>\n",
       "    </tr>\n",
       "    <tr>\n",
       "      <th>992</th>\n",
       "      <td>0.967524</td>\n",
       "      <td>wow the bots really likes this tweet\\nBUT YOU DONT KNOW\\nWHAT THEY WENT THROUGH\\nFOR HER TO OPEN UP\\nAND *NOT* BE A SOCIOPATHIC MURDERER\\nand I think it was only 2-3 times</td>\n",
       "    </tr>\n",
       "    <tr>\n",
       "      <th>4166</th>\n",
       "      <td>0.961933</td>\n",
       "      <td>TFW your old boss walks into DTR and you feel like you're supposed to look like you're working even though you don't work for her</td>\n",
       "    </tr>\n",
       "    <tr>\n",
       "      <th>3236</th>\n",
       "      <td>0.957660</td>\n",
       "      <td>you may think you're cool but unless you're friends with my friends you're not actually as cool as you could be</td>\n",
       "    </tr>\n",
       "  </tbody>\n",
       "</table>\n",
       "</div>"
      ],
      "text/plain": [
       "      subtweet_positive_probability  \\\n",
       "2891                       0.972031   \n",
       "3125                       0.967761   \n",
       "992                        0.967524   \n",
       "4166                       0.961933   \n",
       "3236                       0.957660   \n",
       "\n",
       "                                                                                                                                                                            tweet  \n",
       "2891                                             When you're telling me to die or making me feel inferior I don't like you but you're normally very kind so I'm content with that  \n",
       "3125                                                                           Whenever my dog is whining because she wants something I'm eating I just imagine her fatshaming me  \n",
       "992   wow the bots really likes this tweet\\nBUT YOU DONT KNOW\\nWHAT THEY WENT THROUGH\\nFOR HER TO OPEN UP\\nAND *NOT* BE A SOCIOPATHIC MURDERER\\nand I think it was only 2-3 times  \n",
       "4166                                            TFW your old boss walks into DTR and you feel like you're supposed to look like you're working even though you don't work for her  \n",
       "3236                                                              you may think you're cool but unless you're friends with my friends you're not actually as cool as you could be  "
      ]
     },
     "execution_count": 64,
     "metadata": {},
     "output_type": "execute_result"
    }
   ],
   "source": [
    "noah_df.head()"
   ]
  },
  {
   "cell_type": "code",
   "execution_count": 65,
   "metadata": {},
   "outputs": [],
   "source": [
    "noah_df_for_plotting = noah_df.drop([\"tweet\"], axis=1)"
   ]
  },
  {
   "cell_type": "code",
   "execution_count": 66,
   "metadata": {},
   "outputs": [
    {
     "data": {
      "image/png": "[encoded data removed]",
      "text/plain": [
       "<Figure size 1152x648 with 1 Axes>"
      ]
     },
     "metadata": {},
     "output_type": "display_data"
    }
   ],
   "source": [
    "ax = noah_df_for_plotting.plot.hist(bins=25, figsize=(16, 9), color=\"maroon\", alpha=0.75, fontsize=13);\n",
    "ax.set_title(\"Noah Dataset Distribution of Subtweet Positivity Probabilities\", fontsize=18)\n",
    "ax.set_xlabel(\"Positivity Probability\", fontsize=18);\n",
    "ax.set_ylabel(\"Tweet Count\", fontsize=18);"
   ]
  }
 ],
 "metadata": {
  "kernelspec": {
   "display_name": "Python 3",
   "language": "python",
   "name": "python3"
  },
  "language_info": {
   "codemirror_mode": {
    "name": "ipython",
    "version": 3
   },
   "file_extension": ".py",
   "mimetype": "text/x-python",
   "name": "python",
   "nbconvert_exporter": "python",
   "pygments_lexer": "ipython3",
   "version": "3.6.4"
  }
 },
 "nbformat": 4,
 "nbformat_minor": 2
}
