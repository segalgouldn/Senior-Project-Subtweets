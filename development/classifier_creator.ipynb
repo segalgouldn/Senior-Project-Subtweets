{
 "cells": [
  {
   "cell_type": "markdown",
   "metadata": {},
   "source": [
    "## Using Scikit-Learn and NLTK to build a Naive Bayes Classifier that identifies subtweets"
   ]
  },
  {
   "cell_type": "markdown",
   "metadata": {},
   "source": [
    "#### Import libraries"
   ]
  },
  {
   "cell_type": "code",
   "execution_count": 1,
   "metadata": {},
   "outputs": [],
   "source": [
    "%matplotlib inline"
   ]
  },
  {
   "cell_type": "code",
   "execution_count": 2,
   "metadata": {},
   "outputs": [],
   "source": [
    "from sklearn.base import TransformerMixin, BaseEstimator\n",
    "from sklearn.feature_extraction import DictVectorizer\n",
    "from sklearn.feature_extraction.text import TfidfVectorizer\n",
    "from sklearn.naive_bayes import MultinomialNB\n",
    "from sklearn.pipeline import Pipeline, FeatureUnion\n",
    "from sklearn.model_selection import KFold\n",
    "from sklearn.metrics import classification_report, confusion_matrix\n",
    "from sklearn.externals import joblib\n",
    "from nltk.corpus import stopwords\n",
    "from random import choice\n",
    "from string import punctuation\n",
    "\n",
    "import matplotlib.pyplot as plt\n",
    "import pandas as pd\n",
    "import numpy as np\n",
    "\n",
    "import scipy.stats\n",
    "import itertools\n",
    "import enchant\n",
    "import nltk\n",
    "import json\n",
    "import re"
   ]
  },
  {
   "cell_type": "markdown",
   "metadata": {},
   "source": [
    "#### Prepare English dictionary for language detection"
   ]
  },
  {
   "cell_type": "code",
   "execution_count": 3,
   "metadata": {},
   "outputs": [],
   "source": [
    "english_dict = enchant.Dict(\"en_US\")"
   ]
  },
  {
   "cell_type": "markdown",
   "metadata": {},
   "source": [
    "#### Use NLTK's tokenizer instead of Scikit's"
   ]
  },
  {
   "cell_type": "code",
   "execution_count": 4,
   "metadata": {},
   "outputs": [],
   "source": [
    "tokenizer = nltk.casual.TweetTokenizer(preserve_case=False, reduce_len=True)"
   ]
  },
  {
   "cell_type": "markdown",
   "metadata": {},
   "source": [
    "#### Prepare for viewing long text in CSVs and ones with really big and small numbers"
   ]
  },
  {
   "cell_type": "code",
   "execution_count": 5,
   "metadata": {},
   "outputs": [],
   "source": [
    "pd.set_option(\"max_colwidth\", 280)"
   ]
  },
  {
   "cell_type": "code",
   "execution_count": 6,
   "metadata": {},
   "outputs": [],
   "source": [
    "pd.options.display.float_format = \"{:.4f}\".format"
   ]
  },
  {
   "cell_type": "markdown",
   "metadata": {},
   "source": [
    "#### Load the two data files"
   ]
  },
  {
   "cell_type": "code",
   "execution_count": 7,
   "metadata": {},
   "outputs": [],
   "source": [
    "subtweets_data = [t for t in json.load(open(\"../data/other_data/subtweets.json\")) \n",
    "                  if t[\"tweet_data\"][\"user\"][\"lang\"] == \"en\" \n",
    "                  and t[\"reply\"][\"user\"][\"lang\"] == \"en\"]"
   ]
  },
  {
   "cell_type": "code",
   "execution_count": 8,
   "metadata": {},
   "outputs": [],
   "source": [
    "non_subtweets_data = [t for t in json.load(open(\"../data/other_data/non_subtweets.json\")) \n",
    "                      if t[\"tweet_data\"][\"user\"][\"lang\"] == \"en\" \n",
    "                      and t[\"reply\"][\"user\"][\"lang\"] == \"en\"]"
   ]
  },
  {
   "cell_type": "markdown",
   "metadata": {},
   "source": [
    "#### Only use tweets with at least 2 English words"
   ]
  },
  {
   "cell_type": "code",
   "execution_count": 9,
   "metadata": {},
   "outputs": [
    {
     "name": "stdout",
     "output_type": "stream",
     "text": [
      "CPU times: user 4.38 s, sys: 1.67 s, total: 6.05 s\n",
      "Wall time: 6.87 s\n"
     ]
    }
   ],
   "source": [
    "%%time\n",
    "subtweets_data = [t[\"tweet_data\"][\"full_text\"] \n",
    "                  for t in subtweets_data \n",
    "                  if sum([english_dict.check(token) \n",
    "                          for token in tokenizer.tokenize(t[\"tweet_data\"][\"full_text\"])]) >= 2]"
   ]
  },
  {
   "cell_type": "code",
   "execution_count": 10,
   "metadata": {},
   "outputs": [
    {
     "name": "stdout",
     "output_type": "stream",
     "text": [
      "CPU times: user 6.79 s, sys: 2.55 s, total: 9.34 s\n",
      "Wall time: 10 s\n"
     ]
    }
   ],
   "source": [
    "%%time\n",
    "non_subtweets_data = [t[\"tweet_data\"][\"full_text\"] \n",
    "                      for t in non_subtweets_data \n",
    "                      if sum([english_dict.check(token) \n",
    "                              for token in tokenizer.tokenize(t[\"tweet_data\"][\"full_text\"])]) >= 2]"
   ]
  },
  {
   "cell_type": "markdown",
   "metadata": {},
   "source": [
    "#### Show examples"
   ]
  },
  {
   "cell_type": "code",
   "execution_count": 11,
   "metadata": {},
   "outputs": [
    {
     "name": "stdout",
     "output_type": "stream",
     "text": [
      "Subtweets dataset example:\n",
      "And camp invites is not offers https://t.co/FeQwRQIJVH\n"
     ]
    }
   ],
   "source": [
    "print(\"Subtweets dataset example:\")\n",
    "print(choice(subtweets_data))"
   ]
  },
  {
   "cell_type": "code",
   "execution_count": 12,
   "metadata": {},
   "outputs": [
    {
     "name": "stdout",
     "output_type": "stream",
     "text": [
      "Non-subtweets dataset example:\n",
      "Lmao this is disrespectful to Daniel Caesar https://t.co/gfbCFTQtEC\n"
     ]
    }
   ],
   "source": [
    "print(\"Non-subtweets dataset example:\")\n",
    "print(choice(non_subtweets_data))"
   ]
  },
  {
   "cell_type": "markdown",
   "metadata": {},
   "source": [
    "#### Find the length of the smaller dataset"
   ]
  },
  {
   "cell_type": "code",
   "execution_count": 13,
   "metadata": {},
   "outputs": [],
   "source": [
    "smallest_length = len(min([subtweets_data, non_subtweets_data], key=len))"
   ]
  },
  {
   "cell_type": "markdown",
   "metadata": {},
   "source": [
    "#### Cut both down to be the same length"
   ]
  },
  {
   "cell_type": "code",
   "execution_count": 14,
   "metadata": {},
   "outputs": [],
   "source": [
    "subtweets_data = subtweets_data[:smallest_length]"
   ]
  },
  {
   "cell_type": "code",
   "execution_count": 15,
   "metadata": {},
   "outputs": [],
   "source": [
    "non_subtweets_data = non_subtweets_data[:smallest_length]"
   ]
  },
  {
   "cell_type": "code",
   "execution_count": 16,
   "metadata": {},
   "outputs": [
    {
     "name": "stdout",
     "output_type": "stream",
     "text": [
      "Smallest dataset length: 8006\n"
     ]
    }
   ],
   "source": [
    "print(\"Smallest dataset length: {}\".format(len(non_subtweets_data)))"
   ]
  },
  {
   "cell_type": "markdown",
   "metadata": {},
   "source": [
    "#### Prepare data for training"
   ]
  },
  {
   "cell_type": "code",
   "execution_count": 17,
   "metadata": {},
   "outputs": [],
   "source": [
    "subtweets_data = [(tweet.replace(\"\\u2018\", \"'\").replace(\"\\u2019\", \"'\").replace(\"&quot;\", \"\\\"\").replace(\"&amp;\", \"&\").replace(\"&gt;\", \">\").replace(\"&lt;\", \"<\"), \n",
    "                   \"subtweet\") for tweet in subtweets_data]"
   ]
  },
  {
   "cell_type": "code",
   "execution_count": 18,
   "metadata": {},
   "outputs": [],
   "source": [
    "non_subtweets_data = [(tweet.replace(\"\\u2018\", \"'\").replace(\"\\u2019\", \"'\").replace(\"&quot;\", \"\\\"\").replace(\"&amp;\", \"&\").replace(\"&gt;\", \">\").replace(\"&lt;\", \"<\"), \n",
    "                       \"non-subtweet\") for tweet in non_subtweets_data]"
   ]
  },
  {
   "cell_type": "markdown",
   "metadata": {},
   "source": [
    "#### Combine them"
   ]
  },
  {
   "cell_type": "code",
   "execution_count": 19,
   "metadata": {},
   "outputs": [],
   "source": [
    "training_data = subtweets_data + non_subtweets_data"
   ]
  },
  {
   "cell_type": "markdown",
   "metadata": {},
   "source": [
    "#### Class for distinguishing polarizing parts of speech as features"
   ]
  },
  {
   "cell_type": "code",
   "execution_count": 20,
   "metadata": {
    "code_folding": []
   },
   "outputs": [],
   "source": [
    "class TweetStats(BaseEstimator, TransformerMixin):\n",
    "    def fit(self, x, y=None):\n",
    "        return self\n",
    "\n",
    "    def transform(self, posts):\n",
    "        others = [\"You\", \"You're\", \"Youre\", \"Your\", \"Yours\", \"U\", \"Ur\", \"Urs\",\n",
    "                  \"She\", \"She's\", \"Shes\", \"Her\", \"Hers\", \n",
    "                  \"He\", \"He's\", \"Hes\", \"Him\", \"His\", \n",
    "                  \"They\", \"They're\", \"Theyre\", \"Them\", \"Their\", \"Theirs\"]\n",
    "        others_lower = set([other.lower() for other in others])\n",
    "        \n",
    "        selfs = [\"I\", \"I'm\", \"Im\", \"We\", \"We're\", \"Our\", \"Ours\", \"My\", \"Mine\", \"Us\"]\n",
    "        selfs_lower = set([self.lower() for self in selfs])\n",
    "        \n",
    "        names_lower = set([name.lower() for name in open(\"../data/other_data/first_names.txt\").read().split(\"\\n\")])\n",
    "        \n",
    "        pattern = \"(?:http|ftp|https)://(?:[\\w_-]+(?:(?:\\.[\\w_-]+)+))(?:[\\w.,@?^=%&:/~+#-]*[\\w@?^=%&/~+#-])?\"\n",
    "                \n",
    "        final_output = []\n",
    "        for text in posts:\n",
    "            tokenized_text = tokenizer.tokenize(text)\n",
    "            \n",
    "            num_others = len(others_lower.intersection(tokenized_text))\n",
    "            num_selfs = len(selfs_lower.intersection(tokenized_text))\n",
    "            num_at_symbols = text.count(\"@\")\n",
    "            num_subtweet = text.count(\"subtweet\") + text.count(\"Subtweet\")\n",
    "            num_urls = len(re.findall(pattern, text))\n",
    "            num_names = len(names_lower.intersection(tokenized_text))\n",
    "            \n",
    "            weighted_dict = {\"num_others\": num_others,\n",
    "                             \"num_selfs\": num_selfs,\n",
    "                             \"num_at_symbols\": num_at_symbols,\n",
    "                             \"num_subtweet\": num_subtweet,\n",
    "                             \"num_urls\": num_urls, \n",
    "                             \"num_names\": num_names}\n",
    "            final_output.append(weighted_dict)\n",
    "        return final_output"
   ]
  },
  {
   "cell_type": "markdown",
   "metadata": {},
   "source": [
    "#### Build the pipeline"
   ]
  },
  {
   "cell_type": "code",
   "execution_count": 21,
   "metadata": {},
   "outputs": [],
   "source": [
    "sentiment_pipeline = Pipeline([\n",
    "    (\"features\", FeatureUnion([\n",
    "        (\"ngram_tf_idf\", TfidfVectorizer(tokenizer=tokenizer.tokenize, \n",
    "                                         ngram_range=(1, 3), \n",
    "                                         stop_words=\"english\")),\n",
    "        (\"stats_vect\", Pipeline([\n",
    "            (\"tweet_stats\", TweetStats()),\n",
    "            (\"vect\", DictVectorizer())\n",
    "        ]))\n",
    "    ])),\n",
    "    (\"classifier\", MultinomialNB())\n",
    "])"
   ]
  },
  {
   "cell_type": "markdown",
   "metadata": {},
   "source": [
    "#### K-Folds splits up and separates out 10 training and test sets from the data, from which the classifier is trained and the confusion matrix and classification reports are updated"
   ]
  },
  {
   "cell_type": "code",
   "execution_count": 22,
   "metadata": {},
   "outputs": [],
   "source": [
    "text_training_data = np.array([row[0] for row in training_data])"
   ]
  },
  {
   "cell_type": "code",
   "execution_count": 23,
   "metadata": {},
   "outputs": [],
   "source": [
    "class_training_data = np.array([row[1] for row in training_data])"
   ]
  },
  {
   "cell_type": "code",
   "execution_count": 24,
   "metadata": {},
   "outputs": [],
   "source": [
    "kf = KFold(n_splits=10, random_state=7, shuffle=True)"
   ]
  },
  {
   "cell_type": "code",
   "execution_count": 25,
   "metadata": {
    "scrolled": false
   },
   "outputs": [
    {
     "name": "stdout",
     "output_type": "stream",
     "text": [
      "              precision    recall  f1-score   support\n",
      "\n",
      "non-subtweet       0.71      0.79      0.75       803\n",
      "    subtweet       0.76      0.68      0.72       799\n",
      "\n",
      " avg / total       0.74      0.74      0.73      1602\n",
      "\n",
      "              precision    recall  f1-score   support\n",
      "\n",
      "non-subtweet       0.72      0.76      0.74       820\n",
      "    subtweet       0.73      0.70      0.72       782\n",
      "\n",
      " avg / total       0.73      0.73      0.73      1602\n",
      "\n",
      "              precision    recall  f1-score   support\n",
      "\n",
      "non-subtweet       0.73      0.78      0.75       815\n",
      "    subtweet       0.76      0.69      0.72       786\n",
      "\n",
      " avg / total       0.74      0.74      0.74      1601\n",
      "\n",
      "              precision    recall  f1-score   support\n",
      "\n",
      "non-subtweet       0.70      0.79      0.75       776\n",
      "    subtweet       0.78      0.69      0.73       825\n",
      "\n",
      " avg / total       0.74      0.74      0.74      1601\n",
      "\n",
      "              precision    recall  f1-score   support\n",
      "\n",
      "non-subtweet       0.72      0.77      0.75       806\n",
      "    subtweet       0.75      0.70      0.72       795\n",
      "\n",
      " avg / total       0.74      0.73      0.73      1601\n",
      "\n",
      "              precision    recall  f1-score   support\n",
      "\n",
      "non-subtweet       0.70      0.81      0.75       772\n",
      "    subtweet       0.80      0.68      0.73       829\n",
      "\n",
      " avg / total       0.75      0.74      0.74      1601\n",
      "\n",
      "              precision    recall  f1-score   support\n",
      "\n",
      "non-subtweet       0.72      0.77      0.75       800\n",
      "    subtweet       0.75      0.70      0.73       801\n",
      "\n",
      " avg / total       0.74      0.74      0.74      1601\n",
      "\n",
      "              precision    recall  f1-score   support\n",
      "\n",
      "non-subtweet       0.73      0.76      0.74       826\n",
      "    subtweet       0.73      0.70      0.72       775\n",
      "\n",
      " avg / total       0.73      0.73      0.73      1601\n",
      "\n",
      "              precision    recall  f1-score   support\n",
      "\n",
      "non-subtweet       0.72      0.77      0.74       799\n",
      "    subtweet       0.76      0.69      0.72       802\n",
      "\n",
      " avg / total       0.74      0.73      0.73      1601\n",
      "\n",
      "              precision    recall  f1-score   support\n",
      "\n",
      "non-subtweet       0.68      0.77      0.72       789\n",
      "    subtweet       0.75      0.65      0.70       812\n",
      "\n",
      " avg / total       0.72      0.71      0.71      1601\n",
      "\n",
      "CPU times: user 1min 7s, sys: 1.59 s, total: 1min 9s\n",
      "Wall time: 1min 10s\n"
     ]
    }
   ],
   "source": [
    "%%time\n",
    "cnf_matrix = np.zeros((2, 2), dtype=int)\n",
    "for train_index, test_index in kf.split(text_training_data):\n",
    "    # print(\"TRAIN:\", train_index, \"TEST:\", test_index)\n",
    "    \n",
    "    text_train, text_test = text_training_data[train_index], text_training_data[test_index]\n",
    "    class_train, class_test = class_training_data[train_index], class_training_data[test_index]\n",
    "    \n",
    "    sentiment_pipeline.fit(text_train, class_train)\n",
    "    predictions = sentiment_pipeline.predict(text_test)\n",
    "    \n",
    "    # print(predictions)\n",
    "    \n",
    "    cnf_matrix += confusion_matrix(class_test, predictions)\n",
    "    \n",
    "    print(classification_report(class_test, predictions))"
   ]
  },
  {
   "cell_type": "markdown",
   "metadata": {},
   "source": [
    "#### Define function for visualizing confusion matrices"
   ]
  },
  {
   "cell_type": "code",
   "execution_count": 26,
   "metadata": {},
   "outputs": [],
   "source": [
    "def plot_confusion_matrix(cm, classes, normalize=False,\n",
    "                          title=\"Confusion Matrix\", cmap=plt.cm.Blues):\n",
    "    if normalize:\n",
    "        cm = cm.astype(\"float\") / cm.sum(axis=1)[:, np.newaxis]\n",
    "\n",
    "    plt.imshow(cm, interpolation=\"nearest\", cmap=cmap)\n",
    "    plt.title(title)\n",
    "    plt.colorbar()\n",
    "    tick_marks = np.arange(len(classes))\n",
    "    plt.xticks(tick_marks, classes, rotation=45)\n",
    "    plt.yticks(tick_marks, classes)\n",
    "\n",
    "    fmt = \".2f\" if normalize else \"d\"\n",
    "    thresh = cm.max() / 2.\n",
    "    for i, j in itertools.product(range(cm.shape[0]), range(cm.shape[1])):\n",
    "        plt.text(j, i, format(cm[i, j], fmt),\n",
    "                 horizontalalignment=\"center\",\n",
    "                 color=\"white\" if cm[i, j] > thresh else \"black\")\n",
    "\n",
    "    plt.tight_layout()\n",
    "    plt.ylabel(\"True label\")\n",
    "    plt.xlabel(\"Predicted Label\")"
   ]
  },
  {
   "cell_type": "markdown",
   "metadata": {},
   "source": [
    "#### Show the matrices"
   ]
  },
  {
   "cell_type": "code",
   "execution_count": 27,
   "metadata": {},
   "outputs": [
    {
     "data": {
      "image/png": "[encoded data removed]",
      "text/plain": [
       "<Figure size 432x288 with 2 Axes>"
      ]
     },
     "metadata": {},
     "output_type": "display_data"
    },
    {
     "data": {
      "image/png": "[encoded data removed]",
      "text/plain": [
       "<Figure size 432x288 with 2 Axes>"
      ]
     },
     "metadata": {},
     "output_type": "display_data"
    }
   ],
   "source": [
    "class_names = [\"non-subtweet\", \"subtweet\"]\n",
    "\n",
    "# cnf_matrix = confusion_matrix(class_test, predictions)\n",
    "np.set_printoptions(precision=2)\n",
    "\n",
    "plt.figure()\n",
    "plot_confusion_matrix(cnf_matrix, classes=class_names,\n",
    "                      title='Confusion matrix, without normalization')\n",
    "\n",
    "plt.figure()\n",
    "plot_confusion_matrix(cnf_matrix, classes=class_names, normalize=True,\n",
    "                      title='Normalized confusion matrix')\n",
    "\n",
    "plt.show()"
   ]
  },
  {
   "cell_type": "markdown",
   "metadata": {},
   "source": [
    "#### Update matplotlib style"
   ]
  },
  {
   "cell_type": "code",
   "execution_count": 28,
   "metadata": {},
   "outputs": [],
   "source": [
    "plt.style.use(\"fivethirtyeight\")"
   ]
  },
  {
   "cell_type": "markdown",
   "metadata": {},
   "source": [
    "#### Save the classifier for another time"
   ]
  },
  {
   "cell_type": "code",
   "execution_count": 29,
   "metadata": {},
   "outputs": [],
   "source": [
    "joblib.dump(sentiment_pipeline, \"../data/other_data/subtweets_classifier.pkl\");"
   ]
  },
  {
   "cell_type": "markdown",
   "metadata": {},
   "source": [
    "#### Print tests for the classifier"
   ]
  },
  {
   "cell_type": "code",
   "execution_count": 30,
   "metadata": {},
   "outputs": [],
   "source": [
    "def tests_dataframe(tweets_dataframe, text_column=\"SentimentText\", sentiment_column=\"Sentiment\"):\n",
    "    predictions = sentiment_pipeline.predict_proba(tweets_dataframe[text_column])\n",
    "    negative_probability = predictions[:, 0].tolist()\n",
    "    positive_probability = predictions[:, 1].tolist()\n",
    "    return pd.DataFrame({\"tweet\": tweets_dataframe[text_column], \n",
    "                         \"sentiment_score\": tweets_dataframe[sentiment_column], \n",
    "                         \"subtweet_negative_probability\": negative_probability, \n",
    "                         \"subtweet_positive_probability\": positive_probability}).sort_values(by=\"subtweet_positive_probability\", \n",
    "                                                                                             ascending=False)"
   ]
  },
  {
   "cell_type": "markdown",
   "metadata": {},
   "source": [
    "#### Make up some tweets"
   ]
  },
  {
   "cell_type": "code",
   "execution_count": 31,
   "metadata": {},
   "outputs": [],
   "source": [
    "test_tweets = [\"Some people don't know their place.\", \n",
    "               \"Isn't it funny how some people don't know their place?\", \n",
    "               \"How come you people act like this?\", \n",
    "               \"You're such a nerd.\",\n",
    "               \"I love Noah, he's so cool.\",\n",
    "               \"Who the heck is Noah?\",\n",
    "               \"This is a @NoahSegalGould subtweet. Go check out https://segal-gould.com.\", \n",
    "               \"This is a subtweet.\", \n",
    "               \"Hey @jack!\", \n",
    "               \"Hey Jack!\",\n",
    "               \"http://www.google.com\"]"
   ]
  },
  {
   "cell_type": "markdown",
   "metadata": {},
   "source": [
    "#### Make a dataframe from the list"
   ]
  },
  {
   "cell_type": "code",
   "execution_count": 32,
   "metadata": {},
   "outputs": [],
   "source": [
    "test_tweets_df = pd.DataFrame({\"Tweet\": test_tweets, \"Sentiment\": [None]*len(test_tweets)})"
   ]
  },
  {
   "cell_type": "markdown",
   "metadata": {},
   "source": [
    "#### Print the tests"
   ]
  },
  {
   "cell_type": "code",
   "execution_count": 33,
   "metadata": {},
   "outputs": [
    {
     "data": {
      "text/html": [
       "<div>\n",
       "<style scoped>\n",
       "    .dataframe tbody tr th:only-of-type {\n",
       "        vertical-align: middle;\n",
       "    }\n",
       "\n",
       "    .dataframe tbody tr th {\n",
       "        vertical-align: top;\n",
       "    }\n",
       "\n",
       "    .dataframe thead th {\n",
       "        text-align: right;\n",
       "    }\n",
       "</style>\n",
       "<table border=\"1\" class=\"dataframe\">\n",
       "  <thead>\n",
       "    <tr style=\"text-align: right;\">\n",
       "      <th></th>\n",
       "      <th>subtweet_positive_probability</th>\n",
       "      <th>tweet</th>\n",
       "    </tr>\n",
       "  </thead>\n",
       "  <tbody>\n",
       "    <tr>\n",
       "      <th>1</th>\n",
       "      <td>0.8904</td>\n",
       "      <td>Isn't it funny how some people don't know their place?</td>\n",
       "    </tr>\n",
       "    <tr>\n",
       "      <th>0</th>\n",
       "      <td>0.8819</td>\n",
       "      <td>Some people don't know their place.</td>\n",
       "    </tr>\n",
       "    <tr>\n",
       "      <th>2</th>\n",
       "      <td>0.8272</td>\n",
       "      <td>How come you people act like this?</td>\n",
       "    </tr>\n",
       "    <tr>\n",
       "      <th>3</th>\n",
       "      <td>0.7649</td>\n",
       "      <td>You're such a nerd.</td>\n",
       "    </tr>\n",
       "    <tr>\n",
       "      <th>4</th>\n",
       "      <td>0.6427</td>\n",
       "      <td>I love Noah, he's so cool.</td>\n",
       "    </tr>\n",
       "  </tbody>\n",
       "</table>\n",
       "</div>"
      ],
      "text/plain": [
       "   subtweet_positive_probability  \\\n",
       "1                         0.8904   \n",
       "0                         0.8819   \n",
       "2                         0.8272   \n",
       "3                         0.7649   \n",
       "4                         0.6427   \n",
       "\n",
       "                                                    tweet  \n",
       "1  Isn't it funny how some people don't know their place?  \n",
       "0                     Some people don't know their place.  \n",
       "2                      How come you people act like this?  \n",
       "3                                     You're such a nerd.  \n",
       "4                              I love Noah, he's so cool.  "
      ]
     },
     "execution_count": 33,
     "metadata": {},
     "output_type": "execute_result"
    }
   ],
   "source": [
    "tests_dataframe(test_tweets_df, text_column=\"Tweet\", \n",
    "                sentiment_column=\"Sentiment\").drop([\"sentiment_score\", \n",
    "                                                    \"subtweet_negative_probability\"], axis=1).head()"
   ]
  },
  {
   "cell_type": "markdown",
   "metadata": {},
   "source": [
    "#### Tests on friends' tweets"
   ]
  },
  {
   "cell_type": "markdown",
   "metadata": {},
   "source": [
    "#### Aaron"
   ]
  },
  {
   "cell_type": "code",
   "execution_count": 34,
   "metadata": {},
   "outputs": [],
   "source": [
    "aaron_df = pd.read_csv(\"../data/data_for_testing/friends_data/akrapf96_tweets.csv\").dropna()\n",
    "aaron_df[\"Sentiment\"] = None"
   ]
  },
  {
   "cell_type": "code",
   "execution_count": 35,
   "metadata": {
    "scrolled": true
   },
   "outputs": [],
   "source": [
    "aaron_df = tests_dataframe(aaron_df, text_column=\"Text\", \n",
    "                           sentiment_column=\"Sentiment\").drop([\"sentiment_score\", \n",
    "                                                               \"subtweet_negative_probability\"], axis=1)"
   ]
  },
  {
   "cell_type": "code",
   "execution_count": 36,
   "metadata": {},
   "outputs": [],
   "source": [
    "aaron_df.to_csv(\"../data/data_from_testing/friends_data/akrapf96_tests.csv\")"
   ]
  },
  {
   "cell_type": "code",
   "execution_count": 37,
   "metadata": {},
   "outputs": [
    {
     "data": {
      "text/html": [
       "<div>\n",
       "<style scoped>\n",
       "    .dataframe tbody tr th:only-of-type {\n",
       "        vertical-align: middle;\n",
       "    }\n",
       "\n",
       "    .dataframe tbody tr th {\n",
       "        vertical-align: top;\n",
       "    }\n",
       "\n",
       "    .dataframe thead th {\n",
       "        text-align: right;\n",
       "    }\n",
       "</style>\n",
       "<table border=\"1\" class=\"dataframe\">\n",
       "  <thead>\n",
       "    <tr style=\"text-align: right;\">\n",
       "      <th></th>\n",
       "      <th>subtweet_positive_probability</th>\n",
       "      <th>tweet</th>\n",
       "    </tr>\n",
       "  </thead>\n",
       "  <tbody>\n",
       "    <tr>\n",
       "      <th>2137</th>\n",
       "      <td>0.9769</td>\n",
       "      <td>Also you don't need to resort to social media 24/7 to complain about your very privileged life ¯\\_(ツ)_/¯</td>\n",
       "    </tr>\n",
       "    <tr>\n",
       "      <th>2073</th>\n",
       "      <td>0.9557</td>\n",
       "      <td>\"i do have aids ¯\\_(ツ)_/¯. That's what happens when you're super gay\" #quotesfromwork</td>\n",
       "    </tr>\n",
       "    <tr>\n",
       "      <th>2151</th>\n",
       "      <td>0.9518</td>\n",
       "      <td>When I try to be supportive and caring I get ignored and then I'm told I'm not being supportive or caring ¯\\_(ツ)_/¯</td>\n",
       "    </tr>\n",
       "    <tr>\n",
       "      <th>2079</th>\n",
       "      <td>0.9512</td>\n",
       "      <td>When you get called a faggot ¯\\_(ツ)_/¯</td>\n",
       "    </tr>\n",
       "    <tr>\n",
       "      <th>1596</th>\n",
       "      <td>0.9375</td>\n",
       "      <td>¯\\_(ツ)_/¯ lol ¯\\_(ツ)_/¯ lol ¯\\_(ツ)_/¯ lol ¯\\_(ツ)_/¯ lol ¯\\_(ツ)_/¯ lol ¯\\_(ツ)_/¯ lol ¯\\_(ツ)_/¯ lol ¯\\_(ツ)_/¯ lol ¯\\_(ツ)_/¯ lol ¯\\_(ツ)_/¯ lol</td>\n",
       "    </tr>\n",
       "  </tbody>\n",
       "</table>\n",
       "</div>"
      ],
      "text/plain": [
       "      subtweet_positive_probability  \\\n",
       "2137                         0.9769   \n",
       "2073                         0.9557   \n",
       "2151                         0.9518   \n",
       "2079                         0.9512   \n",
       "1596                         0.9375   \n",
       "\n",
       "                                                                                                                                            tweet  \n",
       "2137                                     Also you don't need to resort to social media 24/7 to complain about your very privileged life ¯\\_(ツ)_/¯  \n",
       "2073                                                        \"i do have aids ¯\\_(ツ)_/¯. That's what happens when you're super gay\" #quotesfromwork  \n",
       "2151                          When I try to be supportive and caring I get ignored and then I'm told I'm not being supportive or caring ¯\\_(ツ)_/¯  \n",
       "2079                                                                                                       When you get called a faggot ¯\\_(ツ)_/¯  \n",
       "1596  ¯\\_(ツ)_/¯ lol ¯\\_(ツ)_/¯ lol ¯\\_(ツ)_/¯ lol ¯\\_(ツ)_/¯ lol ¯\\_(ツ)_/¯ lol ¯\\_(ツ)_/¯ lol ¯\\_(ツ)_/¯ lol ¯\\_(ツ)_/¯ lol ¯\\_(ツ)_/¯ lol ¯\\_(ツ)_/¯ lol  "
      ]
     },
     "execution_count": 37,
     "metadata": {},
     "output_type": "execute_result"
    }
   ],
   "source": [
    "aaron_df.head()"
   ]
  },
  {
   "cell_type": "code",
   "execution_count": 38,
   "metadata": {},
   "outputs": [],
   "source": [
    "aaron_df_for_plotting = aaron_df.drop([\"tweet\"], axis=1)"
   ]
  },
  {
   "cell_type": "markdown",
   "metadata": {},
   "source": [
    "#### Julia"
   ]
  },
  {
   "cell_type": "code",
   "execution_count": 39,
   "metadata": {},
   "outputs": [],
   "source": [
    "julia_df = pd.read_csv(\"../data/data_for_testing/friends_data/juliaeberry_tweets.csv\").dropna()\n",
    "julia_df[\"Sentiment\"] = None"
   ]
  },
  {
   "cell_type": "code",
   "execution_count": 40,
   "metadata": {
    "scrolled": false
   },
   "outputs": [],
   "source": [
    "julia_df = tests_dataframe(julia_df, text_column=\"Text\", \n",
    "                           sentiment_column=\"Sentiment\").drop([\"sentiment_score\", \n",
    "                                                               \"subtweet_negative_probability\"], axis=1)"
   ]
  },
  {
   "cell_type": "code",
   "execution_count": 41,
   "metadata": {},
   "outputs": [],
   "source": [
    "julia_df.to_csv(\"../data/data_from_testing/friends_data/juliaeberry_tests.csv\")"
   ]
  },
  {
   "cell_type": "code",
   "execution_count": 42,
   "metadata": {},
   "outputs": [
    {
     "data": {
      "text/html": [
       "<div>\n",
       "<style scoped>\n",
       "    .dataframe tbody tr th:only-of-type {\n",
       "        vertical-align: middle;\n",
       "    }\n",
       "\n",
       "    .dataframe tbody tr th {\n",
       "        vertical-align: top;\n",
       "    }\n",
       "\n",
       "    .dataframe thead th {\n",
       "        text-align: right;\n",
       "    }\n",
       "</style>\n",
       "<table border=\"1\" class=\"dataframe\">\n",
       "  <thead>\n",
       "    <tr style=\"text-align: right;\">\n",
       "      <th></th>\n",
       "      <th>subtweet_positive_probability</th>\n",
       "      <th>tweet</th>\n",
       "    </tr>\n",
       "  </thead>\n",
       "  <tbody>\n",
       "    <tr>\n",
       "      <th>3613</th>\n",
       "      <td>0.9223</td>\n",
       "      <td>don't follow bachelor contestants u liked on insta bc it will just make u hate them for being annoying and unoriginal #sorrycaila</td>\n",
       "    </tr>\n",
       "    <tr>\n",
       "      <th>3913</th>\n",
       "      <td>0.9198</td>\n",
       "      <td>tfw ur anxiety kills ur appetite but you can't do anything done bc ur still hungry so u just get more anxiety #gr8</td>\n",
       "    </tr>\n",
       "    <tr>\n",
       "      <th>2936</th>\n",
       "      <td>0.9143</td>\n",
       "      <td>how do you tell ur coach who probably hates ur forgetful ass at this point that you can't go to practice bc u stayed up all night lmk</td>\n",
       "    </tr>\n",
       "    <tr>\n",
       "      <th>2970</th>\n",
       "      <td>0.9114</td>\n",
       "      <td>funny how some people have suddenly become serious \"\"academics\"\" and think they're amazingly intelligent now....try no bitch u fake as fuck</td>\n",
       "    </tr>\n",
       "    <tr>\n",
       "      <th>2776</th>\n",
       "      <td>0.9095</td>\n",
       "      <td>if you continually cross post content on various social media to get validation that you're funny, you, regrettably, are probably not funny</td>\n",
       "    </tr>\n",
       "  </tbody>\n",
       "</table>\n",
       "</div>"
      ],
      "text/plain": [
       "      subtweet_positive_probability  \\\n",
       "3613                         0.9223   \n",
       "3913                         0.9198   \n",
       "2936                         0.9143   \n",
       "2970                         0.9114   \n",
       "2776                         0.9095   \n",
       "\n",
       "                                                                                                                                            tweet  \n",
       "3613            don't follow bachelor contestants u liked on insta bc it will just make u hate them for being annoying and unoriginal #sorrycaila  \n",
       "3913                           tfw ur anxiety kills ur appetite but you can't do anything done bc ur still hungry so u just get more anxiety #gr8  \n",
       "2936        how do you tell ur coach who probably hates ur forgetful ass at this point that you can't go to practice bc u stayed up all night lmk  \n",
       "2970  funny how some people have suddenly become serious \"\"academics\"\" and think they're amazingly intelligent now....try no bitch u fake as fuck  \n",
       "2776  if you continually cross post content on various social media to get validation that you're funny, you, regrettably, are probably not funny  "
      ]
     },
     "execution_count": 42,
     "metadata": {},
     "output_type": "execute_result"
    }
   ],
   "source": [
    "julia_df.head()"
   ]
  },
  {
   "cell_type": "code",
   "execution_count": 43,
   "metadata": {},
   "outputs": [],
   "source": [
    "julia_df_for_plotting = julia_df.drop([\"tweet\"], axis=1)"
   ]
  },
  {
   "cell_type": "markdown",
   "metadata": {},
   "source": [
    "#### Lex"
   ]
  },
  {
   "cell_type": "code",
   "execution_count": 44,
   "metadata": {},
   "outputs": [],
   "source": [
    "lex_df = pd.read_csv(\"../data/data_for_testing/friends_data/gothodile_tweets.csv\").dropna()\n",
    "lex_df[\"Sentiment\"] = None"
   ]
  },
  {
   "cell_type": "code",
   "execution_count": 45,
   "metadata": {},
   "outputs": [],
   "source": [
    "lex_df = tests_dataframe(lex_df, text_column=\"Text\", \n",
    "                         sentiment_column=\"Sentiment\").drop([\"sentiment_score\",\n",
    "                                                             \"subtweet_negative_probability\"], axis=1)"
   ]
  },
  {
   "cell_type": "code",
   "execution_count": 46,
   "metadata": {},
   "outputs": [],
   "source": [
    "lex_df.to_csv(\"../data/data_from_testing/friends_data/gothodile_tests.csv\")"
   ]
  },
  {
   "cell_type": "code",
   "execution_count": 47,
   "metadata": {},
   "outputs": [
    {
     "data": {
      "text/html": [
       "<div>\n",
       "<style scoped>\n",
       "    .dataframe tbody tr th:only-of-type {\n",
       "        vertical-align: middle;\n",
       "    }\n",
       "\n",
       "    .dataframe tbody tr th {\n",
       "        vertical-align: top;\n",
       "    }\n",
       "\n",
       "    .dataframe thead th {\n",
       "        text-align: right;\n",
       "    }\n",
       "</style>\n",
       "<table border=\"1\" class=\"dataframe\">\n",
       "  <thead>\n",
       "    <tr style=\"text-align: right;\">\n",
       "      <th></th>\n",
       "      <th>subtweet_positive_probability</th>\n",
       "      <th>tweet</th>\n",
       "    </tr>\n",
       "  </thead>\n",
       "  <tbody>\n",
       "    <tr>\n",
       "      <th>661</th>\n",
       "      <td>0.9424</td>\n",
       "      <td>dudes have zero concept of girls being out of their league. i feel like 98% of dudes out there realistically think that if they met Megan Fox that she would want to sleep with them. thats the level of unreality we're dealing with.</td>\n",
       "    </tr>\n",
       "    <tr>\n",
       "      <th>357</th>\n",
       "      <td>0.9386</td>\n",
       "      <td>\"im like the girl that you take out because she seems nice but then your first time having sex I growl and bite your nipple and you tell all your friends about how weird it was\"</td>\n",
       "    </tr>\n",
       "    <tr>\n",
       "      <th>662</th>\n",
       "      <td>0.9308</td>\n",
       "      <td>i hate ugly dudes trashing girls that are so out of their league its a joke.... like sure you can be like \"well margot robbie's basically flat chested if u actually look at her\" like.. you have cum stained sweat pants and dorito dust on your chin, you little worm</td>\n",
       "    </tr>\n",
       "    <tr>\n",
       "      <th>2110</th>\n",
       "      <td>0.9144</td>\n",
       "      <td>needing help on things but not wanting to ask because u know theyre just gonna say some stupid shit and u dont want to go to jail for murder</td>\n",
       "    </tr>\n",
       "    <tr>\n",
       "      <th>3052</th>\n",
       "      <td>0.9125</td>\n",
       "      <td>but like if you tell people you're a psych major they're like \"o haha soft science\"</td>\n",
       "    </tr>\n",
       "  </tbody>\n",
       "</table>\n",
       "</div>"
      ],
      "text/plain": [
       "      subtweet_positive_probability  \\\n",
       "661                          0.9424   \n",
       "357                          0.9386   \n",
       "662                          0.9308   \n",
       "2110                         0.9144   \n",
       "3052                         0.9125   \n",
       "\n",
       "                                                                                                                                                                                                                                                                        tweet  \n",
       "661                                    dudes have zero concept of girls being out of their league. i feel like 98% of dudes out there realistically think that if they met Megan Fox that she would want to sleep with them. thats the level of unreality we're dealing with.  \n",
       "357                                                                                         \"im like the girl that you take out because she seems nice but then your first time having sex I growl and bite your nipple and you tell all your friends about how weird it was\"  \n",
       "662   i hate ugly dudes trashing girls that are so out of their league its a joke.... like sure you can be like \"well margot robbie's basically flat chested if u actually look at her\" like.. you have cum stained sweat pants and dorito dust on your chin, you little worm  \n",
       "2110                                                                                                                             needing help on things but not wanting to ask because u know theyre just gonna say some stupid shit and u dont want to go to jail for murder  \n",
       "3052                                                                                                                                                                                      but like if you tell people you're a psych major they're like \"o haha soft science\"  "
      ]
     },
     "execution_count": 47,
     "metadata": {},
     "output_type": "execute_result"
    }
   ],
   "source": [
    "lex_df.head()"
   ]
  },
  {
   "cell_type": "code",
   "execution_count": 48,
   "metadata": {},
   "outputs": [],
   "source": [
    "lex_df_for_plotting = lex_df.drop([\"tweet\"], axis=1)"
   ]
  },
  {
   "cell_type": "markdown",
   "metadata": {},
   "source": [
    "#### Noah"
   ]
  },
  {
   "cell_type": "code",
   "execution_count": 49,
   "metadata": {},
   "outputs": [],
   "source": [
    "noah_df = pd.read_csv(\"../data/data_for_testing/friends_data/noahsegalgould_tweets.csv\").dropna()\n",
    "noah_df[\"Sentiment\"] = None"
   ]
  },
  {
   "cell_type": "code",
   "execution_count": 50,
   "metadata": {
    "scrolled": false
   },
   "outputs": [],
   "source": [
    "noah_df = tests_dataframe(noah_df, text_column=\"Text\", \n",
    "                          sentiment_column=\"Sentiment\").drop([\"sentiment_score\", \n",
    "                                                              \"subtweet_negative_probability\"], axis=1)"
   ]
  },
  {
   "cell_type": "code",
   "execution_count": 51,
   "metadata": {},
   "outputs": [],
   "source": [
    "noah_df.to_csv(\"../data/data_from_testing/friends_data/noahsegalgould_tests.csv\")"
   ]
  },
  {
   "cell_type": "code",
   "execution_count": 52,
   "metadata": {},
   "outputs": [
    {
     "data": {
      "text/html": [
       "<div>\n",
       "<style scoped>\n",
       "    .dataframe tbody tr th:only-of-type {\n",
       "        vertical-align: middle;\n",
       "    }\n",
       "\n",
       "    .dataframe tbody tr th {\n",
       "        vertical-align: top;\n",
       "    }\n",
       "\n",
       "    .dataframe thead th {\n",
       "        text-align: right;\n",
       "    }\n",
       "</style>\n",
       "<table border=\"1\" class=\"dataframe\">\n",
       "  <thead>\n",
       "    <tr style=\"text-align: right;\">\n",
       "      <th></th>\n",
       "      <th>subtweet_positive_probability</th>\n",
       "      <th>tweet</th>\n",
       "    </tr>\n",
       "  </thead>\n",
       "  <tbody>\n",
       "    <tr>\n",
       "      <th>2022</th>\n",
       "      <td>0.9280</td>\n",
       "      <td>you may think you're cool but unless you're friends with my friends you're not actually as cool as you could be</td>\n",
       "    </tr>\n",
       "    <tr>\n",
       "      <th>2027</th>\n",
       "      <td>0.9220</td>\n",
       "      <td>IF U CALL URSELF A WEEB BUT DONT HAVE ANIME PROF PICS ON ALL SOCIAL MEDIA\\n DELETE  UR  ACCOUNTS</td>\n",
       "    </tr>\n",
       "    <tr>\n",
       "      <th>1716</th>\n",
       "      <td>0.9085</td>\n",
       "      <td>If you don't make your meatloaf with ketchup don't bother talking to me</td>\n",
       "    </tr>\n",
       "    <tr>\n",
       "      <th>2588</th>\n",
       "      <td>0.9075</td>\n",
       "      <td>I'm gonna start a political party that exists only to express its members indecisiveness. It will be the \"¯\\_(ツ)_/¯\" party.</td>\n",
       "    </tr>\n",
       "    <tr>\n",
       "      <th>2367</th>\n",
       "      <td>0.9050</td>\n",
       "      <td>TFW you forget you're logged in to your twitter bot and you accidentally Tweet from it</td>\n",
       "    </tr>\n",
       "  </tbody>\n",
       "</table>\n",
       "</div>"
      ],
      "text/plain": [
       "      subtweet_positive_probability  \\\n",
       "2022                         0.9280   \n",
       "2027                         0.9220   \n",
       "1716                         0.9085   \n",
       "2588                         0.9075   \n",
       "2367                         0.9050   \n",
       "\n",
       "                                                                                                                            tweet  \n",
       "2022              you may think you're cool but unless you're friends with my friends you're not actually as cool as you could be  \n",
       "2027                            IF U CALL URSELF A WEEB BUT DONT HAVE ANIME PROF PICS ON ALL SOCIAL MEDIA\\n DELETE  UR  ACCOUNTS   \n",
       "1716                                                      If you don't make your meatloaf with ketchup don't bother talking to me  \n",
       "2588  I'm gonna start a political party that exists only to express its members indecisiveness. It will be the \"¯\\_(ツ)_/¯\" party.  \n",
       "2367                                       TFW you forget you're logged in to your twitter bot and you accidentally Tweet from it  "
      ]
     },
     "execution_count": 52,
     "metadata": {},
     "output_type": "execute_result"
    }
   ],
   "source": [
    "noah_df.head()"
   ]
  },
  {
   "cell_type": "code",
   "execution_count": 53,
   "metadata": {},
   "outputs": [],
   "source": [
    "noah_df_for_plotting = noah_df.drop([\"tweet\"], axis=1)"
   ]
  },
  {
   "cell_type": "markdown",
   "metadata": {},
   "source": [
    "#### Rename the columns for later"
   ]
  },
  {
   "cell_type": "code",
   "execution_count": 54,
   "metadata": {},
   "outputs": [],
   "source": [
    "aaron_df_for_plotting_together = aaron_df_for_plotting.rename(columns={\"subtweet_positive_probability\": \"Aaron\"})"
   ]
  },
  {
   "cell_type": "code",
   "execution_count": 55,
   "metadata": {},
   "outputs": [],
   "source": [
    "julia_df_for_plotting_together = julia_df_for_plotting.rename(columns={\"subtweet_positive_probability\": \"Julia\"})"
   ]
  },
  {
   "cell_type": "code",
   "execution_count": 56,
   "metadata": {},
   "outputs": [],
   "source": [
    "lex_df_for_plotting_together = lex_df_for_plotting.rename(columns={\"subtweet_positive_probability\": \"Lex\"})"
   ]
  },
  {
   "cell_type": "code",
   "execution_count": 57,
   "metadata": {},
   "outputs": [],
   "source": [
    "noah_df_for_plotting_together = noah_df_for_plotting.rename(columns={\"subtweet_positive_probability\": \"Noah\"})"
   ]
  },
  {
   "cell_type": "markdown",
   "metadata": {},
   "source": [
    "#### Prepare statistics on friends' tweets"
   ]
  },
  {
   "cell_type": "code",
   "execution_count": 58,
   "metadata": {},
   "outputs": [],
   "source": [
    "friends_df = pd.concat([aaron_df_for_plotting_together, \n",
    "                        julia_df_for_plotting_together, \n",
    "                        lex_df_for_plotting_together, \n",
    "                        noah_df_for_plotting_together], ignore_index=True)"
   ]
  },
  {
   "cell_type": "code",
   "execution_count": 59,
   "metadata": {},
   "outputs": [
    {
     "data": {
      "text/html": [
       "<div>\n",
       "<style scoped>\n",
       "    .dataframe tbody tr th:only-of-type {\n",
       "        vertical-align: middle;\n",
       "    }\n",
       "\n",
       "    .dataframe tbody tr th {\n",
       "        vertical-align: top;\n",
       "    }\n",
       "\n",
       "    .dataframe thead th {\n",
       "        text-align: right;\n",
       "    }\n",
       "</style>\n",
       "<table border=\"1\" class=\"dataframe\">\n",
       "  <thead>\n",
       "    <tr style=\"text-align: right;\">\n",
       "      <th></th>\n",
       "      <th>Aaron</th>\n",
       "      <th>Julia</th>\n",
       "      <th>Lex</th>\n",
       "      <th>Noah</th>\n",
       "    </tr>\n",
       "  </thead>\n",
       "  <tbody>\n",
       "    <tr>\n",
       "      <th>count</th>\n",
       "      <td>2640.0000</td>\n",
       "      <td>4356.0000</td>\n",
       "      <td>3488.0000</td>\n",
       "      <td>2814.0000</td>\n",
       "    </tr>\n",
       "    <tr>\n",
       "      <th>mean</th>\n",
       "      <td>0.4774</td>\n",
       "      <td>0.5046</td>\n",
       "      <td>0.5247</td>\n",
       "      <td>0.4809</td>\n",
       "    </tr>\n",
       "    <tr>\n",
       "      <th>std</th>\n",
       "      <td>0.1925</td>\n",
       "      <td>0.1523</td>\n",
       "      <td>0.1698</td>\n",
       "      <td>0.1722</td>\n",
       "    </tr>\n",
       "    <tr>\n",
       "      <th>min</th>\n",
       "      <td>0.0005</td>\n",
       "      <td>0.0024</td>\n",
       "      <td>0.0007</td>\n",
       "      <td>0.0011</td>\n",
       "    </tr>\n",
       "    <tr>\n",
       "      <th>25%</th>\n",
       "      <td>0.3378</td>\n",
       "      <td>0.4075</td>\n",
       "      <td>0.4357</td>\n",
       "      <td>0.3605</td>\n",
       "    </tr>\n",
       "    <tr>\n",
       "      <th>50%</th>\n",
       "      <td>0.5036</td>\n",
       "      <td>0.5080</td>\n",
       "      <td>0.5336</td>\n",
       "      <td>0.4992</td>\n",
       "    </tr>\n",
       "    <tr>\n",
       "      <th>75%</th>\n",
       "      <td>0.6159</td>\n",
       "      <td>0.6083</td>\n",
       "      <td>0.6434</td>\n",
       "      <td>0.5990</td>\n",
       "    </tr>\n",
       "    <tr>\n",
       "      <th>max</th>\n",
       "      <td>0.9769</td>\n",
       "      <td>0.9223</td>\n",
       "      <td>0.9424</td>\n",
       "      <td>0.9280</td>\n",
       "    </tr>\n",
       "  </tbody>\n",
       "</table>\n",
       "</div>"
      ],
      "text/plain": [
       "          Aaron     Julia       Lex      Noah\n",
       "count 2640.0000 4356.0000 3488.0000 2814.0000\n",
       "mean     0.4774    0.5046    0.5247    0.4809\n",
       "std      0.1925    0.1523    0.1698    0.1722\n",
       "min      0.0005    0.0024    0.0007    0.0011\n",
       "25%      0.3378    0.4075    0.4357    0.3605\n",
       "50%      0.5036    0.5080    0.5336    0.4992\n",
       "75%      0.6159    0.6083    0.6434    0.5990\n",
       "max      0.9769    0.9223    0.9424    0.9280"
      ]
     },
     "execution_count": 59,
     "metadata": {},
     "output_type": "execute_result"
    }
   ],
   "source": [
    "friends_df.describe()"
   ]
  },
  {
   "cell_type": "code",
   "execution_count": 60,
   "metadata": {},
   "outputs": [],
   "source": [
    "aaron_mean = friends_df.describe().Aaron[1]\n",
    "aaron_std = friends_df.describe().Aaron[2]\n",
    "\n",
    "julia_mean = friends_df.describe().Julia[1]\n",
    "julia_std = friends_df.describe().Julia[2]\n",
    "\n",
    "noah_mean = friends_df.describe().Noah[1]\n",
    "noah_std = friends_df.describe().Noah[2]\n",
    "\n",
    "lex_mean = friends_df.describe().Lex[1]\n",
    "lex_std = friends_df.describe().Lex[2]"
   ]
  },
  {
   "cell_type": "markdown",
   "metadata": {},
   "source": [
    "#### Plot all the histograms"
   ]
  },
  {
   "cell_type": "code",
   "execution_count": 61,
   "metadata": {
    "scrolled": false
   },
   "outputs": [
    {
     "name": "stderr",
     "output_type": "stream",
     "text": [
      "/Users/Noah/anaconda/envs/work/lib/python3.6/site-packages/numpy/core/fromnumeric.py:52: FutureWarning: reshape is deprecated and will raise in a subsequent release. Please use .values.reshape(...) instead\n",
      "  return getattr(obj, method)(*args, **kwds)\n"
     ]
    },
    {
     "data": {
      "image/png": "[encoded data removed]",
      "text/plain": [
       "<Figure size 1152x648 with 1 Axes>"
      ]
     },
     "metadata": {},
     "output_type": "display_data"
    },
    {
     "name": "stdout",
     "output_type": "stream",
     "text": [
      "CPU times: user 761 ms, sys: 49.9 ms, total: 811 ms\n",
      "Wall time: 1.06 s\n"
     ]
    }
   ],
   "source": [
    "%%time\n",
    "fig = plt.figure(figsize=(16, 9))\n",
    "ax = fig.add_subplot(111)\n",
    "\n",
    "n, bins, patches = ax.hist([aaron_df_for_plotting.subtweet_positive_probability, \n",
    "                            julia_df_for_plotting.subtweet_positive_probability, \n",
    "                            noah_df_for_plotting.subtweet_positive_probability, \n",
    "                            lex_df_for_plotting.subtweet_positive_probability], \n",
    "                           bins=\"doane\",\n",
    "                           color=[\"#256EFF\", \"#46237A\", \"#3DDC97\", \"#FF495C\"],\n",
    "                           density=True, label=[\"Aaron\", \"Julia\", \"Noah\", \"Lex\"], \n",
    "                           alpha=0.75)\n",
    "\n",
    "aaron_line = scipy.stats.norm.pdf(bins, aaron_mean, aaron_std)\n",
    "ax.plot(bins, aaron_line, \"--\", color=\"#256EFF\", linewidth=3)\n",
    "\n",
    "julia_line = scipy.stats.norm.pdf(bins, julia_mean, julia_std)\n",
    "ax.plot(bins, julia_line, \"--\", color=\"#46237A\", linewidth=3)\n",
    "\n",
    "noah_line = scipy.stats.norm.pdf(bins, noah_mean, noah_std)\n",
    "ax.plot(bins, noah_line, \"--\", color=\"#3DDC97\", linewidth=3)\n",
    "\n",
    "lex_line = scipy.stats.norm.pdf(bins, lex_mean, lex_std)\n",
    "ax.plot(bins, lex_line, \"--\", color=\"#FF495C\", linewidth=3)\n",
    "\n",
    "ax.set_xticks([float(x/10) for x in range(11)], minor=False)\n",
    "ax.set_title(\"Friends' Dataset Distribution of Subtweet Probabilities\", fontsize=18)\n",
    "ax.set_xlabel(\"Probability That Tweet is a Subtweet\", fontsize=18)\n",
    "ax.set_ylabel(\"Portion of Tweets with That Probability\", fontsize=18)\n",
    "\n",
    "ax.legend()\n",
    "\n",
    "plt.show()"
   ]
  },
  {
   "cell_type": "markdown",
   "metadata": {},
   "source": [
    "#### Statisitics on training data"
   ]
  },
  {
   "cell_type": "markdown",
   "metadata": {},
   "source": [
    "#### Remove mentions of usernames for these statistics"
   ]
  },
  {
   "cell_type": "code",
   "execution_count": 62,
   "metadata": {},
   "outputs": [],
   "source": [
    "training_data = [\" \".join([token for token in tokenizer.tokenize(pair[0]) if \"@\" not in token]) \n",
    "                 for pair in training_data]"
   ]
  },
  {
   "cell_type": "markdown",
   "metadata": {},
   "source": [
    "#### Lengths (Less than or equal to 280 characters and greater than or equal to 5 characters)"
   ]
  },
  {
   "cell_type": "code",
   "execution_count": 63,
   "metadata": {},
   "outputs": [],
   "source": [
    "length_data = [len(tweet) for tweet in training_data]"
   ]
  },
  {
   "cell_type": "code",
   "execution_count": 64,
   "metadata": {},
   "outputs": [],
   "source": [
    "length_data_for_stats = pd.DataFrame({\"Length\": length_data, \"Tweet\": training_data})"
   ]
  },
  {
   "cell_type": "code",
   "execution_count": 65,
   "metadata": {},
   "outputs": [],
   "source": [
    "# length_data_for_stats = length_data_for_stats[length_data_for_stats[\"Length\"] <= 280]  "
   ]
  },
  {
   "cell_type": "code",
   "execution_count": 66,
   "metadata": {},
   "outputs": [],
   "source": [
    "# length_data_for_stats = length_data_for_stats[length_data_for_stats[\"Length\"] >= 5]"
   ]
  },
  {
   "cell_type": "code",
   "execution_count": 67,
   "metadata": {},
   "outputs": [],
   "source": [
    "length_data = length_data_for_stats.Length.tolist()"
   ]
  },
  {
   "cell_type": "code",
   "execution_count": 68,
   "metadata": {},
   "outputs": [
    {
     "data": {
      "text/html": [
       "<div>\n",
       "<style scoped>\n",
       "    .dataframe tbody tr th:only-of-type {\n",
       "        vertical-align: middle;\n",
       "    }\n",
       "\n",
       "    .dataframe tbody tr th {\n",
       "        vertical-align: top;\n",
       "    }\n",
       "\n",
       "    .dataframe thead th {\n",
       "        text-align: right;\n",
       "    }\n",
       "</style>\n",
       "<table border=\"1\" class=\"dataframe\">\n",
       "  <thead>\n",
       "    <tr style=\"text-align: right;\">\n",
       "      <th></th>\n",
       "      <th>Length</th>\n",
       "      <th>Tweet</th>\n",
       "    </tr>\n",
       "  </thead>\n",
       "  <tbody>\n",
       "    <tr>\n",
       "      <th>14987</th>\n",
       "      <td>325</td>\n",
       "      <td>from 10/18 / 15 when he 1st played hurt &amp; began noticeably throwing w poor mechanics thru end of his injured 2016 yr , luck's stats were as good as his healthiest / best 2013-2014 yrs : - injured : 61 % comp , 7.4 ypa , 93 rtg , 41:18 td : int - healthy : 61 % comp , 7.2 ypa ...</td>\n",
       "    </tr>\n",
       "    <tr>\n",
       "      <th>15954</th>\n",
       "      <td>321</td>\n",
       "      <td>\" it is a key agreement that shapes today's globalisation \" - frau merkel on the paris ' agreement ' . climatefraud-a contrived tool of the deadly eu / un-centric marxist-globalist / islamist alliance , to wealth transfer &amp; to create such energy poverty , that sovereignwester...</td>\n",
       "    </tr>\n",
       "    <tr>\n",
       "      <th>15411</th>\n",
       "      <td>321</td>\n",
       "      <td>pentagon : master sergeant jonathan j . dunbar , assigned to headquarters , u . s . army special operations command , fort bragg , n . c . , was kia mar . 30 , while deployed in support of operation inherent resolve . dunbar died from wounds received during combat operations ...</td>\n",
       "    </tr>\n",
       "    <tr>\n",
       "      <th>8934</th>\n",
       "      <td>320</td>\n",
       "      <td>i've fallen into a rabbit hole of goals from that 2016 run . faves : 1 ) crosby's goal against raanta in rd . 1 . 2 ) cullen's goal in ny . third period . tie game . 3 ) fehr's goal in game 2 vs . washington . 4 ) rust's breakaway in game 6 vs . tampa . 5 ) fehr's game 5 insu...</td>\n",
       "    </tr>\n",
       "    <tr>\n",
       "      <th>13602</th>\n",
       "      <td>320</td>\n",
       "      <td>you are a neutral political analyst :) :) stick to defending the congress and its inept bunch .. as for what is a ' perforation ' , i trust the cmo more than quacks like #kafeelkhan or that sundry bunch of ' neutral analysts ' , who know zilch , but have an opinion on everyth...</td>\n",
       "    </tr>\n",
       "  </tbody>\n",
       "</table>\n",
       "</div>"
      ],
      "text/plain": [
       "       Length  \\\n",
       "14987     325   \n",
       "15954     321   \n",
       "15411     321   \n",
       "8934      320   \n",
       "13602     320   \n",
       "\n",
       "                                                                                                                                                                                                                                                                                         Tweet  \n",
       "14987  from 10/18 / 15 when he 1st played hurt & began noticeably throwing w poor mechanics thru end of his injured 2016 yr , luck's stats were as good as his healthiest / best 2013-2014 yrs : - injured : 61 % comp , 7.4 ypa , 93 rtg , 41:18 td : int - healthy : 61 % comp , 7.2 ypa ...  \n",
       "15954  \" it is a key agreement that shapes today's globalisation \" - frau merkel on the paris ' agreement ' . climatefraud-a contrived tool of the deadly eu / un-centric marxist-globalist / islamist alliance , to wealth transfer & to create such energy poverty , that sovereignwester...  \n",
       "15411  pentagon : master sergeant jonathan j . dunbar , assigned to headquarters , u . s . army special operations command , fort bragg , n . c . , was kia mar . 30 , while deployed in support of operation inherent resolve . dunbar died from wounds received during combat operations ...  \n",
       "8934   i've fallen into a rabbit hole of goals from that 2016 run . faves : 1 ) crosby's goal against raanta in rd . 1 . 2 ) cullen's goal in ny . third period . tie game . 3 ) fehr's goal in game 2 vs . washington . 4 ) rust's breakaway in game 6 vs . tampa . 5 ) fehr's game 5 insu...  \n",
       "13602  you are a neutral political analyst :) :) stick to defending the congress and its inept bunch .. as for what is a ' perforation ' , i trust the cmo more than quacks like #kafeelkhan or that sundry bunch of ' neutral analysts ' , who know zilch , but have an opinion on everyth...  "
      ]
     },
     "execution_count": 68,
     "metadata": {},
     "output_type": "execute_result"
    }
   ],
   "source": [
    "length_data_for_stats.sort_values(by=\"Length\", ascending=False).head()"
   ]
  },
  {
   "cell_type": "code",
   "execution_count": 69,
   "metadata": {},
   "outputs": [
    {
     "data": {
      "text/html": [
       "<div>\n",
       "<style scoped>\n",
       "    .dataframe tbody tr th:only-of-type {\n",
       "        vertical-align: middle;\n",
       "    }\n",
       "\n",
       "    .dataframe tbody tr th {\n",
       "        vertical-align: top;\n",
       "    }\n",
       "\n",
       "    .dataframe thead th {\n",
       "        text-align: right;\n",
       "    }\n",
       "</style>\n",
       "<table border=\"1\" class=\"dataframe\">\n",
       "  <thead>\n",
       "    <tr style=\"text-align: right;\">\n",
       "      <th></th>\n",
       "      <th>Length</th>\n",
       "      <th>Tweet</th>\n",
       "    </tr>\n",
       "  </thead>\n",
       "  <tbody>\n",
       "    <tr>\n",
       "      <th>3432</th>\n",
       "      <td>5</td>\n",
       "      <td>hi ho</td>\n",
       "    </tr>\n",
       "    <tr>\n",
       "      <th>1560</th>\n",
       "      <td>5</td>\n",
       "      <td>s a d</td>\n",
       "    </tr>\n",
       "    <tr>\n",
       "      <th>3250</th>\n",
       "      <td>5</td>\n",
       "      <td>bye .</td>\n",
       "    </tr>\n",
       "    <tr>\n",
       "      <th>5106</th>\n",
       "      <td>6</td>\n",
       "      <td>nice .</td>\n",
       "    </tr>\n",
       "    <tr>\n",
       "      <th>4839</th>\n",
       "      <td>6</td>\n",
       "      <td>miss u</td>\n",
       "    </tr>\n",
       "  </tbody>\n",
       "</table>\n",
       "</div>"
      ],
      "text/plain": [
       "      Length   Tweet\n",
       "3432       5   hi ho\n",
       "1560       5   s a d\n",
       "3250       5   bye .\n",
       "5106       6  nice .\n",
       "4839       6  miss u"
      ]
     },
     "execution_count": 69,
     "metadata": {},
     "output_type": "execute_result"
    }
   ],
   "source": [
    "length_data_for_stats.sort_values(by=\"Length\", ascending=True).head()"
   ]
  },
  {
   "cell_type": "code",
   "execution_count": 70,
   "metadata": {},
   "outputs": [
    {
     "data": {
      "text/html": [
       "<div>\n",
       "<style scoped>\n",
       "    .dataframe tbody tr th:only-of-type {\n",
       "        vertical-align: middle;\n",
       "    }\n",
       "\n",
       "    .dataframe tbody tr th {\n",
       "        vertical-align: top;\n",
       "    }\n",
       "\n",
       "    .dataframe thead th {\n",
       "        text-align: right;\n",
       "    }\n",
       "</style>\n",
       "<table border=\"1\" class=\"dataframe\">\n",
       "  <thead>\n",
       "    <tr style=\"text-align: right;\">\n",
       "      <th></th>\n",
       "      <th>Length</th>\n",
       "    </tr>\n",
       "  </thead>\n",
       "  <tbody>\n",
       "    <tr>\n",
       "      <th>count</th>\n",
       "      <td>16012.0000</td>\n",
       "    </tr>\n",
       "    <tr>\n",
       "      <th>mean</th>\n",
       "      <td>118.1940</td>\n",
       "    </tr>\n",
       "    <tr>\n",
       "      <th>std</th>\n",
       "      <td>76.4052</td>\n",
       "    </tr>\n",
       "    <tr>\n",
       "      <th>min</th>\n",
       "      <td>5.0000</td>\n",
       "    </tr>\n",
       "    <tr>\n",
       "      <th>25%</th>\n",
       "      <td>58.0000</td>\n",
       "    </tr>\n",
       "    <tr>\n",
       "      <th>50%</th>\n",
       "      <td>97.0000</td>\n",
       "    </tr>\n",
       "    <tr>\n",
       "      <th>75%</th>\n",
       "      <td>162.0000</td>\n",
       "    </tr>\n",
       "    <tr>\n",
       "      <th>max</th>\n",
       "      <td>325.0000</td>\n",
       "    </tr>\n",
       "  </tbody>\n",
       "</table>\n",
       "</div>"
      ],
      "text/plain": [
       "          Length\n",
       "count 16012.0000\n",
       "mean    118.1940\n",
       "std      76.4052\n",
       "min       5.0000\n",
       "25%      58.0000\n",
       "50%      97.0000\n",
       "75%     162.0000\n",
       "max     325.0000"
      ]
     },
     "execution_count": 70,
     "metadata": {},
     "output_type": "execute_result"
    }
   ],
   "source": [
    "length_data_for_stats.describe()"
   ]
  },
  {
   "cell_type": "markdown",
   "metadata": {},
   "source": [
    "#### Punctuation"
   ]
  },
  {
   "cell_type": "code",
   "execution_count": 71,
   "metadata": {},
   "outputs": [],
   "source": [
    "punctuation_data = [len(set(punctuation).intersection(set(tweet))) for tweet in training_data]"
   ]
  },
  {
   "cell_type": "code",
   "execution_count": 72,
   "metadata": {},
   "outputs": [],
   "source": [
    "punctuation_data_for_stats = pd.DataFrame({\"Punctuation\": punctuation_data, \"Tweet\": training_data})"
   ]
  },
  {
   "cell_type": "code",
   "execution_count": 73,
   "metadata": {},
   "outputs": [
    {
     "data": {
      "text/html": [
       "<div>\n",
       "<style scoped>\n",
       "    .dataframe tbody tr th:only-of-type {\n",
       "        vertical-align: middle;\n",
       "    }\n",
       "\n",
       "    .dataframe tbody tr th {\n",
       "        vertical-align: top;\n",
       "    }\n",
       "\n",
       "    .dataframe thead th {\n",
       "        text-align: right;\n",
       "    }\n",
       "</style>\n",
       "<table border=\"1\" class=\"dataframe\">\n",
       "  <thead>\n",
       "    <tr style=\"text-align: right;\">\n",
       "      <th></th>\n",
       "      <th>Punctuation</th>\n",
       "      <th>Tweet</th>\n",
       "    </tr>\n",
       "  </thead>\n",
       "  <tbody>\n",
       "    <tr>\n",
       "      <th>7192</th>\n",
       "      <td>13</td>\n",
       "      <td>if u were killed tomorrow , i wouldnt go 2 ur funeral cuz id b n jail 4 killin da person that killed u ! ... ___ ... / _ = = o ; ; ; ___ [ ] ... ) , — - . ( _ ( __ ) / ... / / ( .. ) ) , — - - \" ... / / ___ / / .. / / ___ / / we true homies we ride together we die together</td>\n",
       "    </tr>\n",
       "    <tr>\n",
       "      <th>13680</th>\n",
       "      <td>11</td>\n",
       "      <td>[ new ] in response to mondli makhanya's column on #winniemandela - in a world that ( still ) tells women to be humble and kowtow to respectability , mam ' winnie is someone we aspire to be like . https://t.co/T5GBAiHswR</td>\n",
       "    </tr>\n",
       "    <tr>\n",
       "      <th>14220</th>\n",
       "      <td>11</td>\n",
       "      <td>\" hey mister , she's my sister ! \" happy #nationalsiblingsday ! is in rochester may 1-6 ( only 3 weeks away ) for 8 performances ! for more info and how to buy tickets , visit https://t.co/4PSY94m0Bi . https://t.co/lCI1rw6phq</td>\n",
       "    </tr>\n",
       "    <tr>\n",
       "      <th>11645</th>\n",
       "      <td>11</td>\n",
       "      <td>[ bang dream girls band party seiyuu profiles arpil 2018 edition ] order of posting : - hello , happy world ( 4/8 ) - roselia ( 4/8 ) - pastel * palettes ( 4/9 ) - afterglow ( 4/9 ) - poppin'party ( 4/10 ) let's go !</td>\n",
       "    </tr>\n",
       "    <tr>\n",
       "      <th>1703</th>\n",
       "      <td>10</td>\n",
       "      <td>\" i really can't stand the young ' turds ' ( ) and especially the guy who runs the place . his name is like cank or something like that , like a canker sore , . i can't even pronounce his last name . \" - #westand https://t.co/92eA3ndbVh</td>\n",
       "    </tr>\n",
       "  </tbody>\n",
       "</table>\n",
       "</div>"
      ],
      "text/plain": [
       "       Punctuation  \\\n",
       "7192            13   \n",
       "13680           11   \n",
       "14220           11   \n",
       "11645           11   \n",
       "1703            10   \n",
       "\n",
       "                                                                                                                                                                                                                                                                                   Tweet  \n",
       "7192   if u were killed tomorrow , i wouldnt go 2 ur funeral cuz id b n jail 4 killin da person that killed u ! ... ___ ... / _ = = o ; ; ; ___ [ ] ... ) , — - . ( _ ( __ ) / ... / / ( .. ) ) , — - - \" ... / / ___ / / .. / / ___ / / we true homies we ride together we die together  \n",
       "13680                                                       [ new ] in response to mondli makhanya's column on #winniemandela - in a world that ( still ) tells women to be humble and kowtow to respectability , mam ' winnie is someone we aspire to be like . https://t.co/T5GBAiHswR  \n",
       "14220                                                  \" hey mister , she's my sister ! \" happy #nationalsiblingsday ! is in rochester may 1-6 ( only 3 weeks away ) for 8 performances ! for more info and how to buy tickets , visit https://t.co/4PSY94m0Bi . https://t.co/lCI1rw6phq  \n",
       "11645                                                           [ bang dream girls band party seiyuu profiles arpil 2018 edition ] order of posting : - hello , happy world ( 4/8 ) - roselia ( 4/8 ) - pastel * palettes ( 4/9 ) - afterglow ( 4/9 ) - poppin'party ( 4/10 ) let's go !  \n",
       "1703                                        \" i really can't stand the young ' turds ' ( ) and especially the guy who runs the place . his name is like cank or something like that , like a canker sore , . i can't even pronounce his last name . \" - #westand https://t.co/92eA3ndbVh  "
      ]
     },
     "execution_count": 73,
     "metadata": {},
     "output_type": "execute_result"
    }
   ],
   "source": [
    "punctuation_data_for_stats.sort_values(by=\"Punctuation\", ascending=False).head()"
   ]
  },
  {
   "cell_type": "code",
   "execution_count": 74,
   "metadata": {},
   "outputs": [
    {
     "data": {
      "text/html": [
       "<div>\n",
       "<style scoped>\n",
       "    .dataframe tbody tr th:only-of-type {\n",
       "        vertical-align: middle;\n",
       "    }\n",
       "\n",
       "    .dataframe tbody tr th {\n",
       "        vertical-align: top;\n",
       "    }\n",
       "\n",
       "    .dataframe thead th {\n",
       "        text-align: right;\n",
       "    }\n",
       "</style>\n",
       "<table border=\"1\" class=\"dataframe\">\n",
       "  <thead>\n",
       "    <tr style=\"text-align: right;\">\n",
       "      <th></th>\n",
       "      <th>Punctuation</th>\n",
       "    </tr>\n",
       "  </thead>\n",
       "  <tbody>\n",
       "    <tr>\n",
       "      <th>count</th>\n",
       "      <td>16012.0000</td>\n",
       "    </tr>\n",
       "    <tr>\n",
       "      <th>mean</th>\n",
       "      <td>2.8888</td>\n",
       "    </tr>\n",
       "    <tr>\n",
       "      <th>std</th>\n",
       "      <td>1.9488</td>\n",
       "    </tr>\n",
       "    <tr>\n",
       "      <th>min</th>\n",
       "      <td>0.0000</td>\n",
       "    </tr>\n",
       "    <tr>\n",
       "      <th>25%</th>\n",
       "      <td>1.0000</td>\n",
       "    </tr>\n",
       "    <tr>\n",
       "      <th>50%</th>\n",
       "      <td>3.0000</td>\n",
       "    </tr>\n",
       "    <tr>\n",
       "      <th>75%</th>\n",
       "      <td>4.0000</td>\n",
       "    </tr>\n",
       "    <tr>\n",
       "      <th>max</th>\n",
       "      <td>13.0000</td>\n",
       "    </tr>\n",
       "  </tbody>\n",
       "</table>\n",
       "</div>"
      ],
      "text/plain": [
       "       Punctuation\n",
       "count   16012.0000\n",
       "mean        2.8888\n",
       "std         1.9488\n",
       "min         0.0000\n",
       "25%         1.0000\n",
       "50%         3.0000\n",
       "75%         4.0000\n",
       "max        13.0000"
      ]
     },
     "execution_count": 74,
     "metadata": {},
     "output_type": "execute_result"
    }
   ],
   "source": [
    "punctuation_data_for_stats.describe()"
   ]
  },
  {
   "cell_type": "markdown",
   "metadata": {},
   "source": [
    "#### Stop words"
   ]
  },
  {
   "cell_type": "code",
   "execution_count": 75,
   "metadata": {},
   "outputs": [],
   "source": [
    "stop_words_data = [len(set(stopwords.words(\"english\")).intersection(set(tweet.lower()))) \n",
    "                   for tweet in training_data]"
   ]
  },
  {
   "cell_type": "code",
   "execution_count": 76,
   "metadata": {},
   "outputs": [],
   "source": [
    "stop_words_data_for_stats = pd.DataFrame({\"Stop words\": stop_words_data, \"Tweet\": training_data})"
   ]
  },
  {
   "cell_type": "code",
   "execution_count": 77,
   "metadata": {},
   "outputs": [
    {
     "data": {
      "text/html": [
       "<div>\n",
       "<style scoped>\n",
       "    .dataframe tbody tr th:only-of-type {\n",
       "        vertical-align: middle;\n",
       "    }\n",
       "\n",
       "    .dataframe tbody tr th {\n",
       "        vertical-align: top;\n",
       "    }\n",
       "\n",
       "    .dataframe thead th {\n",
       "        text-align: right;\n",
       "    }\n",
       "</style>\n",
       "<table border=\"1\" class=\"dataframe\">\n",
       "  <thead>\n",
       "    <tr style=\"text-align: right;\">\n",
       "      <th></th>\n",
       "      <th>Stop words</th>\n",
       "      <th>Tweet</th>\n",
       "    </tr>\n",
       "  </thead>\n",
       "  <tbody>\n",
       "    <tr>\n",
       "      <th>0</th>\n",
       "      <td>8</td>\n",
       "      <td>i don't yet have adequate words to do so , but someday i wanna write about the beautiful dance which happens in google docs between a writer &amp; a good editor working simultaneously towards a deadline . when it's working , it's a beautiful dance — though no one really sees it .</td>\n",
       "    </tr>\n",
       "    <tr>\n",
       "      <th>8406</th>\n",
       "      <td>8</td>\n",
       "      <td>still important : jw uncovered evidence showing that lois lerner was actively involved in a lengthy cover-up of improper irs activities , targeting , &amp; abuses . jw further revealed the irs scandal included the involvement of obama's doj &amp; the fbi as well . https://t.co/J0UKwp...</td>\n",
       "    </tr>\n",
       "    <tr>\n",
       "      <th>8311</th>\n",
       "      <td>8</td>\n",
       "      <td>at #aaem18 : advocate for yourself so that you can advocate for your pts . tx then like we know them , bc their problems are our problems</td>\n",
       "    </tr>\n",
       "    <tr>\n",
       "      <th>8312</th>\n",
       "      <td>8</td>\n",
       "      <td>wrong decision . we women don't need any #reservation anywhere , be it in the parliament or the iits . gender based reservation is against the very principle of gender equality . https://t.co/vEJZp0WAHC</td>\n",
       "    </tr>\n",
       "    <tr>\n",
       "      <th>8313</th>\n",
       "      <td>8</td>\n",
       "      <td>i just a quad espresso ... pray for my soul .</td>\n",
       "    </tr>\n",
       "  </tbody>\n",
       "</table>\n",
       "</div>"
      ],
      "text/plain": [
       "      Stop words  \\\n",
       "0              8   \n",
       "8406           8   \n",
       "8311           8   \n",
       "8312           8   \n",
       "8313           8   \n",
       "\n",
       "                                                                                                                                                                                                                                                                                        Tweet  \n",
       "0        i don't yet have adequate words to do so , but someday i wanna write about the beautiful dance which happens in google docs between a writer & a good editor working simultaneously towards a deadline . when it's working , it's a beautiful dance — though no one really sees it .  \n",
       "8406  still important : jw uncovered evidence showing that lois lerner was actively involved in a lengthy cover-up of improper irs activities , targeting , & abuses . jw further revealed the irs scandal included the involvement of obama's doj & the fbi as well . https://t.co/J0UKwp...  \n",
       "8311                                                                                                                                                at #aaem18 : advocate for yourself so that you can advocate for your pts . tx then like we know them , bc their problems are our problems  \n",
       "8312                                                                               wrong decision . we women don't need any #reservation anywhere , be it in the parliament or the iits . gender based reservation is against the very principle of gender equality . https://t.co/vEJZp0WAHC  \n",
       "8313                                                                                                                                                                                                                                            i just a quad espresso ... pray for my soul .  "
      ]
     },
     "execution_count": 77,
     "metadata": {},
     "output_type": "execute_result"
    }
   ],
   "source": [
    "stop_words_data_for_stats.sort_values(by=\"Stop words\", ascending=False).head()"
   ]
  },
  {
   "cell_type": "code",
   "execution_count": 78,
   "metadata": {},
   "outputs": [
    {
     "data": {
      "text/html": [
       "<div>\n",
       "<style scoped>\n",
       "    .dataframe tbody tr th:only-of-type {\n",
       "        vertical-align: middle;\n",
       "    }\n",
       "\n",
       "    .dataframe tbody tr th {\n",
       "        vertical-align: top;\n",
       "    }\n",
       "\n",
       "    .dataframe thead th {\n",
       "        text-align: right;\n",
       "    }\n",
       "</style>\n",
       "<table border=\"1\" class=\"dataframe\">\n",
       "  <thead>\n",
       "    <tr style=\"text-align: right;\">\n",
       "      <th></th>\n",
       "      <th>Stop words</th>\n",
       "      <th>Tweet</th>\n",
       "    </tr>\n",
       "  </thead>\n",
       "  <tbody>\n",
       "    <tr>\n",
       "      <th>2365</th>\n",
       "      <td>0</td>\n",
       "      <td>..   . - .. - - - ... - .   . - - - . - - . - .. . -</td>\n",
       "    </tr>\n",
       "    <tr>\n",
       "      <th>10042</th>\n",
       "      <td>0</td>\n",
       "      <td>훠이니 ... / 괴롭다 ...</td>\n",
       "    </tr>\n",
       "    <tr>\n",
       "      <th>13363</th>\n",
       "      <td>1</td>\n",
       "      <td>l o l 👋 🏽 👋 🏽</td>\n",
       "    </tr>\n",
       "    <tr>\n",
       "      <th>15595</th>\n",
       "      <td>1</td>\n",
       "      <td>who up ?</td>\n",
       "    </tr>\n",
       "    <tr>\n",
       "      <th>3250</th>\n",
       "      <td>1</td>\n",
       "      <td>bye .</td>\n",
       "    </tr>\n",
       "  </tbody>\n",
       "</table>\n",
       "</div>"
      ],
      "text/plain": [
       "       Stop words                                                 Tweet\n",
       "2365            0  ..   . - .. - - - ... - .   . - - - . - - . - .. . -\n",
       "10042           0                                     훠이니 ... / 괴롭다 ...\n",
       "13363           1                                         l o l 👋 🏽 👋 🏽\n",
       "15595           1                                              who up ?\n",
       "3250            1                                                 bye ."
      ]
     },
     "execution_count": 78,
     "metadata": {},
     "output_type": "execute_result"
    }
   ],
   "source": [
    "stop_words_data_for_stats.sort_values(by=\"Stop words\", ascending=True).head()"
   ]
  },
  {
   "cell_type": "code",
   "execution_count": 79,
   "metadata": {},
   "outputs": [
    {
     "data": {
      "text/html": [
       "<div>\n",
       "<style scoped>\n",
       "    .dataframe tbody tr th:only-of-type {\n",
       "        vertical-align: middle;\n",
       "    }\n",
       "\n",
       "    .dataframe tbody tr th {\n",
       "        vertical-align: top;\n",
       "    }\n",
       "\n",
       "    .dataframe thead th {\n",
       "        text-align: right;\n",
       "    }\n",
       "</style>\n",
       "<table border=\"1\" class=\"dataframe\">\n",
       "  <thead>\n",
       "    <tr style=\"text-align: right;\">\n",
       "      <th></th>\n",
       "      <th>Stop words</th>\n",
       "    </tr>\n",
       "  </thead>\n",
       "  <tbody>\n",
       "    <tr>\n",
       "      <th>count</th>\n",
       "      <td>16012.0000</td>\n",
       "    </tr>\n",
       "    <tr>\n",
       "      <th>mean</th>\n",
       "      <td>7.3168</td>\n",
       "    </tr>\n",
       "    <tr>\n",
       "      <th>std</th>\n",
       "      <td>1.0624</td>\n",
       "    </tr>\n",
       "    <tr>\n",
       "      <th>min</th>\n",
       "      <td>0.0000</td>\n",
       "    </tr>\n",
       "    <tr>\n",
       "      <th>25%</th>\n",
       "      <td>7.0000</td>\n",
       "    </tr>\n",
       "    <tr>\n",
       "      <th>50%</th>\n",
       "      <td>8.0000</td>\n",
       "    </tr>\n",
       "    <tr>\n",
       "      <th>75%</th>\n",
       "      <td>8.0000</td>\n",
       "    </tr>\n",
       "    <tr>\n",
       "      <th>max</th>\n",
       "      <td>8.0000</td>\n",
       "    </tr>\n",
       "  </tbody>\n",
       "</table>\n",
       "</div>"
      ],
      "text/plain": [
       "       Stop words\n",
       "count  16012.0000\n",
       "mean       7.3168\n",
       "std        1.0624\n",
       "min        0.0000\n",
       "25%        7.0000\n",
       "50%        8.0000\n",
       "75%        8.0000\n",
       "max        8.0000"
      ]
     },
     "execution_count": 79,
     "metadata": {},
     "output_type": "execute_result"
    }
   ],
   "source": [
    "stop_words_data_for_stats.describe()"
   ]
  },
  {
   "cell_type": "markdown",
   "metadata": {},
   "source": [
    "#### Unique words (at least 2)"
   ]
  },
  {
   "cell_type": "code",
   "execution_count": 80,
   "metadata": {},
   "outputs": [],
   "source": [
    "unique_words_data = [len(set(tokenizer.tokenize(tweet))) for tweet in training_data]"
   ]
  },
  {
   "cell_type": "code",
   "execution_count": 81,
   "metadata": {},
   "outputs": [],
   "source": [
    "unique_words_data_for_stats = pd.DataFrame({\"Unique words\": unique_words_data, \"Tweet\": training_data})"
   ]
  },
  {
   "cell_type": "code",
   "execution_count": 82,
   "metadata": {},
   "outputs": [],
   "source": [
    "# unique_words_data_for_stats = unique_words_data_for_stats[unique_words_data_for_stats[\"Unique words\"] >= 2]"
   ]
  },
  {
   "cell_type": "code",
   "execution_count": 83,
   "metadata": {},
   "outputs": [],
   "source": [
    "unique_words_data = unique_words_data_for_stats[\"Unique words\"].tolist()"
   ]
  },
  {
   "cell_type": "code",
   "execution_count": 84,
   "metadata": {},
   "outputs": [
    {
     "data": {
      "text/html": [
       "<div>\n",
       "<style scoped>\n",
       "    .dataframe tbody tr th:only-of-type {\n",
       "        vertical-align: middle;\n",
       "    }\n",
       "\n",
       "    .dataframe tbody tr th {\n",
       "        vertical-align: top;\n",
       "    }\n",
       "\n",
       "    .dataframe thead th {\n",
       "        text-align: right;\n",
       "    }\n",
       "</style>\n",
       "<table border=\"1\" class=\"dataframe\">\n",
       "  <thead>\n",
       "    <tr style=\"text-align: right;\">\n",
       "      <th></th>\n",
       "      <th>Tweet</th>\n",
       "      <th>Unique words</th>\n",
       "    </tr>\n",
       "  </thead>\n",
       "  <tbody>\n",
       "    <tr>\n",
       "      <th>14562</th>\n",
       "      <td>give away ! the rules are really easy , all you have to do is : 1 . must be following me ( i check ) 2 . rt and fav this tweet 3 . tag your mutuals / anyone 4 . only 1 winner ! 5 . i ship worldwide ;) it ends in 8th may 2018 or when this tweet hit 2k rt and like ! good luck !...</td>\n",
       "      <td>60</td>\n",
       "    </tr>\n",
       "    <tr>\n",
       "      <th>13916</th>\n",
       "      <td>- many 👮 ‍ ♂ ️ suffer in silence , not always by choice but by design ! #ptsd can be a career killer &amp; worse many pd's do not see p . t . s . d as an insured disability ; this has to change 🆘 - hiding mine for 3 years made my #fight unbearable ! please help us #unmaskptsd &amp; #...</td>\n",
       "      <td>59</td>\n",
       "    </tr>\n",
       "    <tr>\n",
       "      <th>7159</th>\n",
       "      <td>crazy how wrong u can be about someone . a girl i graduated w / was always doing drugs &amp; got pregnant at 16 . i assumed she'd end up being a loser but it turn out she now has 4 beautiful kids &amp; is making over $ 4,500 / month just off of child support payments from the 3 diffe...</td>\n",
       "      <td>57</td>\n",
       "    </tr>\n",
       "    <tr>\n",
       "      <th>4978</th>\n",
       "      <td>got into a tepid back nd forth w / a uknowwhoaj + columnist bc i said they steal their \" hot takes \" from blk twitter &amp; alike . wallahi my bdeshi ass did not sign up 4 this app to be called asinine by a 30yrold pakistani whos whole politics is post colonial memes for oriental...</td>\n",
       "      <td>57</td>\n",
       "    </tr>\n",
       "    <tr>\n",
       "      <th>11978</th>\n",
       "      <td>thought i'd bring this back ... #tuesdaythoughts and no , i'm not talking about myself here . i wish just once i'd be so bored with my life that i'd find the time to bash people / celebs i don't like .. i mean if i despise someone that much , why still watch his / her every m...</td>\n",
       "      <td>57</td>\n",
       "    </tr>\n",
       "  </tbody>\n",
       "</table>\n",
       "</div>"
      ],
      "text/plain": [
       "                                                                                                                                                                                                                                                                                         Tweet  \\\n",
       "14562  give away ! the rules are really easy , all you have to do is : 1 . must be following me ( i check ) 2 . rt and fav this tweet 3 . tag your mutuals / anyone 4 . only 1 winner ! 5 . i ship worldwide ;) it ends in 8th may 2018 or when this tweet hit 2k rt and like ! good luck !...   \n",
       "13916  - many 👮 ‍ ♂ ️ suffer in silence , not always by choice but by design ! #ptsd can be a career killer & worse many pd's do not see p . t . s . d as an insured disability ; this has to change 🆘 - hiding mine for 3 years made my #fight unbearable ! please help us #unmaskptsd & #...   \n",
       "7159   crazy how wrong u can be about someone . a girl i graduated w / was always doing drugs & got pregnant at 16 . i assumed she'd end up being a loser but it turn out she now has 4 beautiful kids & is making over $ 4,500 / month just off of child support payments from the 3 diffe...   \n",
       "4978   got into a tepid back nd forth w / a uknowwhoaj + columnist bc i said they steal their \" hot takes \" from blk twitter & alike . wallahi my bdeshi ass did not sign up 4 this app to be called asinine by a 30yrold pakistani whos whole politics is post colonial memes for oriental...   \n",
       "11978  thought i'd bring this back ... #tuesdaythoughts and no , i'm not talking about myself here . i wish just once i'd be so bored with my life that i'd find the time to bash people / celebs i don't like .. i mean if i despise someone that much , why still watch his / her every m...   \n",
       "\n",
       "       Unique words  \n",
       "14562            60  \n",
       "13916            59  \n",
       "7159             57  \n",
       "4978             57  \n",
       "11978            57  "
      ]
     },
     "execution_count": 84,
     "metadata": {},
     "output_type": "execute_result"
    }
   ],
   "source": [
    "unique_words_data_for_stats.sort_values(by=\"Unique words\", ascending=False).head()"
   ]
  },
  {
   "cell_type": "code",
   "execution_count": 85,
   "metadata": {},
   "outputs": [
    {
     "data": {
      "text/html": [
       "<div>\n",
       "<style scoped>\n",
       "    .dataframe tbody tr th:only-of-type {\n",
       "        vertical-align: middle;\n",
       "    }\n",
       "\n",
       "    .dataframe tbody tr th {\n",
       "        vertical-align: top;\n",
       "    }\n",
       "\n",
       "    .dataframe thead th {\n",
       "        text-align: right;\n",
       "    }\n",
       "</style>\n",
       "<table border=\"1\" class=\"dataframe\">\n",
       "  <thead>\n",
       "    <tr style=\"text-align: right;\">\n",
       "      <th></th>\n",
       "      <th>Tweet</th>\n",
       "      <th>Unique words</th>\n",
       "    </tr>\n",
       "  </thead>\n",
       "  <tbody>\n",
       "    <tr>\n",
       "      <th>10794</th>\n",
       "      <td>sushi sushi</td>\n",
       "      <td>1</td>\n",
       "    </tr>\n",
       "    <tr>\n",
       "      <th>4913</th>\n",
       "      <td>zero likes</td>\n",
       "      <td>2</td>\n",
       "    </tr>\n",
       "    <tr>\n",
       "      <th>860</th>\n",
       "      <td>sen bobs</td>\n",
       "      <td>2</td>\n",
       "    </tr>\n",
       "    <tr>\n",
       "      <th>961</th>\n",
       "      <td>fuck you</td>\n",
       "      <td>2</td>\n",
       "    </tr>\n",
       "    <tr>\n",
       "      <th>14820</th>\n",
       "      <td>azure sucks</td>\n",
       "      <td>2</td>\n",
       "    </tr>\n",
       "  </tbody>\n",
       "</table>\n",
       "</div>"
      ],
      "text/plain": [
       "             Tweet  Unique words\n",
       "10794  sushi sushi             1\n",
       "4913    zero likes             2\n",
       "860       sen bobs             2\n",
       "961       fuck you             2\n",
       "14820  azure sucks             2"
      ]
     },
     "execution_count": 85,
     "metadata": {},
     "output_type": "execute_result"
    }
   ],
   "source": [
    "unique_words_data_for_stats.sort_values(by=\"Unique words\", ascending=True).head()"
   ]
  },
  {
   "cell_type": "code",
   "execution_count": 86,
   "metadata": {},
   "outputs": [
    {
     "data": {
      "text/html": [
       "<div>\n",
       "<style scoped>\n",
       "    .dataframe tbody tr th:only-of-type {\n",
       "        vertical-align: middle;\n",
       "    }\n",
       "\n",
       "    .dataframe tbody tr th {\n",
       "        vertical-align: top;\n",
       "    }\n",
       "\n",
       "    .dataframe thead th {\n",
       "        text-align: right;\n",
       "    }\n",
       "</style>\n",
       "<table border=\"1\" class=\"dataframe\">\n",
       "  <thead>\n",
       "    <tr style=\"text-align: right;\">\n",
       "      <th></th>\n",
       "      <th>Unique words</th>\n",
       "    </tr>\n",
       "  </thead>\n",
       "  <tbody>\n",
       "    <tr>\n",
       "      <th>count</th>\n",
       "      <td>16012.0000</td>\n",
       "    </tr>\n",
       "    <tr>\n",
       "      <th>mean</th>\n",
       "      <td>19.5278</td>\n",
       "    </tr>\n",
       "    <tr>\n",
       "      <th>std</th>\n",
       "      <td>11.9313</td>\n",
       "    </tr>\n",
       "    <tr>\n",
       "      <th>min</th>\n",
       "      <td>1.0000</td>\n",
       "    </tr>\n",
       "    <tr>\n",
       "      <th>25%</th>\n",
       "      <td>10.0000</td>\n",
       "    </tr>\n",
       "    <tr>\n",
       "      <th>50%</th>\n",
       "      <td>17.0000</td>\n",
       "    </tr>\n",
       "    <tr>\n",
       "      <th>75%</th>\n",
       "      <td>27.0000</td>\n",
       "    </tr>\n",
       "    <tr>\n",
       "      <th>max</th>\n",
       "      <td>60.0000</td>\n",
       "    </tr>\n",
       "  </tbody>\n",
       "</table>\n",
       "</div>"
      ],
      "text/plain": [
       "       Unique words\n",
       "count    16012.0000\n",
       "mean        19.5278\n",
       "std         11.9313\n",
       "min          1.0000\n",
       "25%         10.0000\n",
       "50%         17.0000\n",
       "75%         27.0000\n",
       "max         60.0000"
      ]
     },
     "execution_count": 86,
     "metadata": {},
     "output_type": "execute_result"
    }
   ],
   "source": [
    "unique_words_data_for_stats.describe()"
   ]
  },
  {
   "cell_type": "markdown",
   "metadata": {},
   "source": [
    "#### Plot them"
   ]
  },
  {
   "cell_type": "code",
   "execution_count": 87,
   "metadata": {},
   "outputs": [
    {
     "data": {
      "image/png": "[encoded data removed]",
      "text/plain": [
       "<Figure size 1152x648 with 1 Axes>"
      ]
     },
     "metadata": {},
     "output_type": "display_data"
    }
   ],
   "source": [
    "length_mean = length_data_for_stats.describe().Length[1]\n",
    "length_std = length_data_for_stats.describe().Length[2]\n",
    "\n",
    "fig = plt.figure(figsize=(16, 9))\n",
    "ax = fig.add_subplot(111)\n",
    "\n",
    "n, bins, patches = ax.hist(length_data, bins=\"doane\", edgecolor=\"black\", density=True, alpha=0.75)\n",
    "\n",
    "length_line = scipy.stats.norm.pdf(bins, length_mean, length_std)\n",
    "ax.plot(bins, length_line, \"--\", linewidth=3, color=\"lightblue\")\n",
    "\n",
    "ax.set_title(\"Training Dataset Distribution of Tweet Lengths\", fontsize=18)\n",
    "ax.set_xlabel(\"Tweet Length\", fontsize=18);\n",
    "ax.set_ylabel(\"Porton of Tweets with That Length\", fontsize=18);\n",
    "\n",
    "plt.show()"
   ]
  },
  {
   "cell_type": "code",
   "execution_count": 88,
   "metadata": {},
   "outputs": [
    {
     "data": {
      "image/png": "[encoded data removed]",
      "text/plain": [
       "<Figure size 1152x648 with 1 Axes>"
      ]
     },
     "metadata": {},
     "output_type": "display_data"
    }
   ],
   "source": [
    "punctuation_mean = punctuation_data_for_stats.describe().Punctuation[1]\n",
    "punctuation_std = punctuation_data_for_stats.describe().Punctuation[2]\n",
    "\n",
    "fig = plt.figure(figsize=(16, 9))\n",
    "ax = fig.add_subplot(111)\n",
    "\n",
    "n, bins, patches = ax.hist(punctuation_data, bins=\"doane\", edgecolor=\"black\", density=True, alpha=0.75)\n",
    "\n",
    "punctution_line = scipy.stats.norm.pdf(bins, punctuation_mean, punctuation_std)\n",
    "ax.plot(bins, punctution_line, \"--\", linewidth=3, color=\"lightblue\")\n",
    "\n",
    "ax.set_title(\"Training Dataset Distribution of Punctuation\", fontsize=18)\n",
    "ax.set_xlabel(\"Punctuating Characters\", fontsize=18)\n",
    "ax.set_ylabel(\"Porton of Punctuating Characters\", fontsize=18)\n",
    "\n",
    "plt.show()"
   ]
  },
  {
   "cell_type": "code",
   "execution_count": 89,
   "metadata": {},
   "outputs": [
    {
     "data": {
      "image/png": "[encoded data removed]",
      "text/plain": [
       "<Figure size 1152x648 with 1 Axes>"
      ]
     },
     "metadata": {},
     "output_type": "display_data"
    }
   ],
   "source": [
    "stop_words_mean = stop_words_data_for_stats.describe()[\"Stop words\"][1]\n",
    "stop_words_std = stop_words_data_for_stats.describe()[\"Stop words\"][2]\n",
    "\n",
    "fig = plt.figure(figsize=(16, 9))\n",
    "ax = fig.add_subplot(111)\n",
    "\n",
    "n, bins, patches = ax.hist(stop_words_data, bins=\"doane\", edgecolor=\"black\", density=True, alpha=0.75)\n",
    "\n",
    "stop_words_line = scipy.stats.norm.pdf(bins, stop_words_mean, stop_words_std)\n",
    "ax.plot(bins, stop_words_line, \"--\", linewidth=3, color=\"lightblue\")\n",
    "\n",
    "ax.set_title(\"Training Dataset Distribution of Stop Words\", fontsize=18)\n",
    "ax.set_xlabel(\"Stop Words in Tweet\", fontsize=18)\n",
    "ax.set_ylabel(\"Porton of Tweets with That Number of Stop Words\", fontsize=18)\n",
    "\n",
    "plt.show()"
   ]
  },
  {
   "cell_type": "code",
   "execution_count": 90,
   "metadata": {
    "scrolled": false
   },
   "outputs": [
    {
     "data": {
      "image/png": "[encoded data removed]",
      "text/plain": [
       "<Figure size 1152x648 with 1 Axes>"
      ]
     },
     "metadata": {},
     "output_type": "display_data"
    }
   ],
   "source": [
    "unique_words_mean = unique_words_data_for_stats.describe()[\"Unique words\"][1]\n",
    "unique_words_std = unique_words_data_for_stats.describe()[\"Unique words\"][2]\n",
    "\n",
    "fig = plt.figure(figsize=(16, 9))\n",
    "ax = fig.add_subplot(111)\n",
    "\n",
    "n, bins, patches = ax.hist(unique_words_data, bins=\"doane\", edgecolor=\"black\", density=True, alpha=0.75)\n",
    "\n",
    "unique_words_line = scipy.stats.norm.pdf(bins, unique_words_mean, unique_words_std)\n",
    "ax.plot(bins, unique_words_line, \"--\", linewidth=3, color=\"lightblue\")\n",
    "\n",
    "ax.set_title(\"Training Dataset Distribution of Unique Words\", fontsize=18)\n",
    "ax.set_xlabel(\"Unique Words in Tweet\", fontsize=18)\n",
    "ax.set_ylabel(\"Porton of Tweets with That Number of Unique Words\", fontsize=18)\n",
    "\n",
    "plt.show()"
   ]
  }
 ],
 "metadata": {
  "kernelspec": {
   "display_name": "Python 3",
   "language": "python",
   "name": "python3"
  },
  "language_info": {
   "codemirror_mode": {
    "name": "ipython",
    "version": 3
   },
   "file_extension": ".py",
   "mimetype": "text/x-python",
   "name": "python",
   "nbconvert_exporter": "python",
   "pygments_lexer": "ipython3",
   "version": "3.6.4"
  }
 },
 "nbformat": 4,
 "nbformat_minor": 2
}
