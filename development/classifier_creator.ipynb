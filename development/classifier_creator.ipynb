{
 "cells": [
  {
   "cell_type": "markdown",
   "metadata": {},
   "source": [
    "## Using Scikit-Learn and NLTK to build a Naive Bayes Classifier that identifies subtweets"
   ]
  },
  {
   "cell_type": "markdown",
   "metadata": {},
   "source": [
    "#### In all tables, assume:\n",
    "* \"➊\" represents a single URL\n",
    "* \"➋\" represents a single mention of a username (e.g. \"@noah\")\n",
    "* \"➌\" represents a single mention of an English first name "
   ]
  },
  {
   "cell_type": "markdown",
   "metadata": {},
   "source": [
    "#### Import libraries"
   ]
  },
  {
   "cell_type": "code",
   "execution_count": 1,
   "metadata": {},
   "outputs": [],
   "source": [
    "%matplotlib inline"
   ]
  },
  {
   "cell_type": "code",
   "execution_count": 2,
   "metadata": {},
   "outputs": [],
   "source": [
    "from sklearn.metrics import classification_report, confusion_matrix, accuracy_score\n",
    "from sklearn.feature_extraction.text import TfidfVectorizer\n",
    "from sklearn.feature_extraction import text\n",
    "from sklearn.naive_bayes import MultinomialNB\n",
    "from sklearn.model_selection import KFold\n",
    "from sklearn.pipeline import Pipeline\n",
    "from sklearn.externals import joblib\n",
    "from os.path import basename, splitext\n",
    "from random import choice, sample\n",
    "from nltk.corpus import stopwords\n",
    "from string import punctuation\n",
    "from pprint import pprint\n",
    "from glob import glob\n",
    "\n",
    "import matplotlib.pyplot as plt\n",
    "import pandas as pd\n",
    "import numpy as np\n",
    "\n",
    "import scipy.stats\n",
    "import itertools\n",
    "import enchant\n",
    "import nltk\n",
    "import json\n",
    "import re"
   ]
  },
  {
   "cell_type": "markdown",
   "metadata": {},
   "source": [
    "#### Set up some regex patterns"
   ]
  },
  {
   "cell_type": "code",
   "execution_count": 3,
   "metadata": {},
   "outputs": [],
   "source": [
    "urls_pattern = re.compile(r'(?i)\\b((?:https?://|www\\d{0,3}[.]|[a-z0-9.\\-]+[.][a-z]{2,4}/)(?:[^\\s()<>]|\\(([^\\s()<>]+|(\\([^\\s()<>]+\\)))*\\))+(?:\\(([^\\s()<>]+|(\\([^\\s()<>]+\\)))*\\)|[^\\s`!()\\[\\]{};:\\'\".,<>?\\xab\\xbb\\u201c\\u201d\\u2018\\u2019]))')"
   ]
  },
  {
   "cell_type": "code",
   "execution_count": 4,
   "metadata": {},
   "outputs": [],
   "source": [
    "at_mentions_pattern = re.compile(r'(?<=^|(?<=[^a-zA-Z0-9-\\.]))@([A-Za-z0-9_]+)')"
   ]
  },
  {
   "cell_type": "code",
   "execution_count": 5,
   "metadata": {},
   "outputs": [],
   "source": [
    "names = open(\"../data/other_data/first_names.txt\").read().split(\"\\n\")\n",
    "names_pattern = re.compile(r'\\b(?:{})\\b'.format('|'.join(names)))"
   ]
  },
  {
   "cell_type": "markdown",
   "metadata": {},
   "source": [
    "#### Prepare English dictionary for language detection"
   ]
  },
  {
   "cell_type": "code",
   "execution_count": 6,
   "metadata": {},
   "outputs": [],
   "source": [
    "english_dict = enchant.Dict(\"en_US\")"
   ]
  },
  {
   "cell_type": "markdown",
   "metadata": {},
   "source": [
    "#### Use NLTK's tokenizer instead of Scikit's"
   ]
  },
  {
   "cell_type": "code",
   "execution_count": 7,
   "metadata": {},
   "outputs": [],
   "source": [
    "tokenizer = nltk.casual.TweetTokenizer()"
   ]
  },
  {
   "cell_type": "markdown",
   "metadata": {},
   "source": [
    "#### Prepare for viewing long text in CSVs and ones with really big and small numbers"
   ]
  },
  {
   "cell_type": "code",
   "execution_count": 8,
   "metadata": {},
   "outputs": [],
   "source": [
    "pd.set_option(\"display.height\", 1000)\n",
    "pd.set_option(\"display.max_rows\", 500)\n",
    "pd.set_option(\"display.max_columns\", 500)\n",
    "pd.set_option(\"display.width\", 1000)\n",
    "pd.set_option(\"max_colwidth\", 1000)"
   ]
  },
  {
   "cell_type": "code",
   "execution_count": 9,
   "metadata": {},
   "outputs": [],
   "source": [
    "pd.options.display.float_format = \"{:.4f}\".format"
   ]
  },
  {
   "cell_type": "markdown",
   "metadata": {},
   "source": [
    "#### Load the two data files\n",
    "#### Only use tweets with at least 10% English words\n",
    "#### Also, make the mentions of usernames, names, and URLs generic"
   ]
  },
  {
   "cell_type": "code",
   "execution_count": 10,
   "metadata": {},
   "outputs": [],
   "source": [
    "def load_data(filename, threshold=0.1):\n",
    "    data = [(urls_pattern.sub(\"➊\", \n",
    "             at_mentions_pattern.sub(\"➋\", \n",
    "             names_pattern.sub(\"➌\",\n",
    "             t[\"tweet_data\"][\"full_text\"])))\n",
    "             .replace(\"\\u2018\", \"'\")\n",
    "             .replace(\"\\u2019\", \"'\")\n",
    "             .replace(\"\\u201c\", \"\\\"\")\n",
    "             .replace(\"\\u201d\", \"\\\"\")\n",
    "             .replace(\"&quot;\", \"\\\"\")\n",
    "             .replace(\"&amp;\", \"&\")\n",
    "             .replace(\"&gt;\", \">\")\n",
    "             .replace(\"&lt;\", \"<\")) \n",
    "            for t in json.load(open(filename)) \n",
    "            if t[\"tweet_data\"][\"lang\"] == \"en\" \n",
    "            and t[\"reply\"][\"lang\"] == \"en\" \n",
    "            and t[\"tweet_data\"][\"user\"][\"lang\"] == \"en\" \n",
    "            and t[\"reply\"][\"user\"][\"lang\"] == \"en\"]\n",
    "    new_data = []\n",
    "    for tweet in data:\n",
    "        tokens = tokenizer.tokenize(tweet)\n",
    "        english_tokens = [english_dict.check(token) for token in tokens]\n",
    "        percent_english_words = sum(english_tokens)/len(english_tokens)\n",
    "        if percent_english_words >= threshold:\n",
    "            new_data.append(tweet)\n",
    "    return new_data"
   ]
  },
  {
   "cell_type": "code",
   "execution_count": 11,
   "metadata": {},
   "outputs": [],
   "source": [
    "subtweets_data = load_data(\"../data/other_data/subtweets.json\")"
   ]
  },
  {
   "cell_type": "code",
   "execution_count": 12,
   "metadata": {},
   "outputs": [],
   "source": [
    "non_subtweets_data = load_data(\"../data/other_data/non_subtweets.json\")"
   ]
  },
  {
   "cell_type": "markdown",
   "metadata": {},
   "source": [
    "#### Remove tweets which are present in both datasets"
   ]
  },
  {
   "cell_type": "code",
   "execution_count": 13,
   "metadata": {},
   "outputs": [],
   "source": [
    "subtweets_data = [tweet for tweet in subtweets_data if tweet not in non_subtweets_data]"
   ]
  },
  {
   "cell_type": "code",
   "execution_count": 14,
   "metadata": {},
   "outputs": [],
   "source": [
    "non_subtweets_data = [tweet for tweet in non_subtweets_data if tweet not in subtweets_data]"
   ]
  },
  {
   "cell_type": "markdown",
   "metadata": {},
   "source": [
    "#### Show examples"
   ]
  },
  {
   "cell_type": "code",
   "execution_count": 15,
   "metadata": {},
   "outputs": [
    {
     "name": "stdout",
     "output_type": "stream",
     "text": [
      "Subtweets dataset example:\n",
      "True friends stab you in the front 🤘🏽\n"
     ]
    }
   ],
   "source": [
    "print(\"Subtweets dataset example:\")\n",
    "print(choice(subtweets_data))"
   ]
  },
  {
   "cell_type": "code",
   "execution_count": 16,
   "metadata": {},
   "outputs": [
    {
     "name": "stdout",
     "output_type": "stream",
     "text": [
      "Non-subtweets dataset example:\n",
      "Congratulations to our nurses at North Shore University Hospital for earning Magnet status – the gold standard for #nursing excellence – by ➋! ➊\n"
     ]
    }
   ],
   "source": [
    "print(\"Non-subtweets dataset example:\")\n",
    "print(choice(non_subtweets_data))"
   ]
  },
  {
   "cell_type": "markdown",
   "metadata": {},
   "source": [
    "#### Find the length of the smaller dataset"
   ]
  },
  {
   "cell_type": "code",
   "execution_count": 17,
   "metadata": {},
   "outputs": [],
   "source": [
    "smallest_length = len(min([subtweets_data, non_subtweets_data], key=len))"
   ]
  },
  {
   "cell_type": "markdown",
   "metadata": {},
   "source": [
    "#### Cut both down to be the same length"
   ]
  },
  {
   "cell_type": "code",
   "execution_count": 18,
   "metadata": {},
   "outputs": [],
   "source": [
    "subtweets_data = sample(subtweets_data, smallest_length)"
   ]
  },
  {
   "cell_type": "code",
   "execution_count": 19,
   "metadata": {},
   "outputs": [],
   "source": [
    "non_subtweets_data = sample(non_subtweets_data, smallest_length)"
   ]
  },
  {
   "cell_type": "code",
   "execution_count": 20,
   "metadata": {},
   "outputs": [
    {
     "name": "stdout",
     "output_type": "stream",
     "text": [
      "Smallest dataset length: 11288\n"
     ]
    }
   ],
   "source": [
    "print(\"Smallest dataset length: {}\".format(len(subtweets_data)))"
   ]
  },
  {
   "cell_type": "markdown",
   "metadata": {},
   "source": [
    "#### Prepare data for training"
   ]
  },
  {
   "cell_type": "code",
   "execution_count": 21,
   "metadata": {},
   "outputs": [],
   "source": [
    "subtweets_data = [(tweet, \"subtweet\") for tweet in subtweets_data]"
   ]
  },
  {
   "cell_type": "code",
   "execution_count": 22,
   "metadata": {},
   "outputs": [],
   "source": [
    "non_subtweets_data = [(tweet, \"non-subtweet\") for tweet in non_subtweets_data]"
   ]
  },
  {
   "cell_type": "markdown",
   "metadata": {},
   "source": [
    "#### Combine them"
   ]
  },
  {
   "cell_type": "code",
   "execution_count": 23,
   "metadata": {},
   "outputs": [],
   "source": [
    "training_data = subtweets_data + non_subtweets_data"
   ]
  },
  {
   "cell_type": "markdown",
   "metadata": {},
   "source": [
    "#### Build the pipeline"
   ]
  },
  {
   "cell_type": "code",
   "execution_count": 24,
   "metadata": {},
   "outputs": [],
   "source": [
    "sentiment_pipeline = Pipeline([\n",
    "    (\"vectorizer\", TfidfVectorizer(tokenizer=tokenizer.tokenize, \n",
    "                                   ngram_range=(1, 3), \n",
    "                                   stop_words=\"english\")),\n",
    "    (\"classifier\", MultinomialNB())\n",
    "])"
   ]
  },
  {
   "cell_type": "markdown",
   "metadata": {},
   "source": [
    "#### K-Folds splits up and separates out 10 training and test sets from the data, from which the classifier is trained and the confusion matrix and classification reports are updated"
   ]
  },
  {
   "cell_type": "code",
   "execution_count": 25,
   "metadata": {},
   "outputs": [],
   "source": [
    "def confusion_matrices(training_data, num_folds=10):\n",
    "    text_training_data = np.array([row[0] for row in training_data])\n",
    "    class_training_data = np.array([row[1] for row in training_data])\n",
    "    kf = KFold(n_splits=num_folds, random_state=42, shuffle=True)\n",
    "    \n",
    "    cnf_matrix_test = np.zeros((2, 2), dtype=int)\n",
    "    cnf_matrix_train = np.zeros((2, 2), dtype=int)\n",
    "    \n",
    "    test_reports = []\n",
    "    train_reports = []\n",
    "    \n",
    "    test_accuracies = []\n",
    "    train_accuracies = []\n",
    "    for i, (train_index, test_index) in enumerate(kf.split(text_training_data)):\n",
    "\n",
    "        text_train, text_test = text_training_data[train_index], text_training_data[test_index]\n",
    "        class_train, class_test = class_training_data[train_index], class_training_data[test_index]\n",
    "\n",
    "        sentiment_pipeline.fit(text_train, class_train)\n",
    "        \n",
    "        predictions_test = sentiment_pipeline.predict(text_test)\n",
    "        predictions_train = sentiment_pipeline.predict(text_train)\n",
    "\n",
    "        cnf_matrix_test += confusion_matrix(class_test, predictions_test)\n",
    "        cnf_matrix_train += confusion_matrix(class_train, predictions_train)\n",
    "\n",
    "        print(\"Test Data Iteration {}:\".format(i+1))\n",
    "        \n",
    "        test_report = classification_report(class_test, predictions_test, digits=4)\n",
    "        test_reports.append(test_report)\n",
    "        print(test_report)\n",
    "                \n",
    "        test_accuracy = accuracy_score(class_test, predictions_test)\n",
    "        test_accuracies.append(test_accuracy)\n",
    "        print(\"Test Data Accuracy: {:.4f}\\n\".format(test_accuracy))\n",
    "        print(\"=\"*53)\n",
    "        \n",
    "        print(\"Train Data Iteration {}:\".format(i+1))\n",
    "        \n",
    "        train_report = classification_report(class_train, predictions_train, digits=4)\n",
    "        train_reports.append(train_report)\n",
    "        print(train_report)\n",
    "                \n",
    "        train_accuracy = accuracy_score(class_train, predictions_train)\n",
    "        train_accuracies.append(train_accuracy)\n",
    "        print(\"Train Data Accuracy: {:.4f}\\n\".format(train_accuracy))\n",
    "        print(\"=\"*53)\n",
    "        \n",
    "    def reports_mean(reports):\n",
    "        reports_lists_of_strings = [report.split(\"\\n\") for report in reports]\n",
    "        reports = [[[float(e) for e in report_string[2][16:].split()],\n",
    "                    [float(e) for e in report_string[3][16:].split()],\n",
    "                    [float(e) for e in report_string[5][16:].split()]]\n",
    "                   for report_string in reports_lists_of_strings]\n",
    "        mean_list = np.mean(np.array(reports), axis=0).tolist()\n",
    "        print(\"              precision    recall  f1-score   support\")\n",
    "        print()\n",
    "        print(\"non-subtweet     {0:.4f}    {1:.4f}    {2:.4f}      {3:d}\".format(mean_list[0][0], \n",
    "                                                                                 mean_list[0][1], \n",
    "                                                                                 mean_list[0][2], \n",
    "                                                                                 int(mean_list[0][3])))\n",
    "        print(\"    subtweet     {0:.4f}    {1:.4f}    {2:.4f}      {3:d}\".format(mean_list[1][0], \n",
    "                                                                                 mean_list[1][1], \n",
    "                                                                                 mean_list[1][2], \n",
    "                                                                                 int(mean_list[1][3])))\n",
    "        print()\n",
    "        print(\" avg / total     {0:.4f}    {1:.4f}    {2:.4f}      {3:d}\".format(mean_list[2][0], \n",
    "                                                                                 mean_list[2][1], \n",
    "                                                                                 mean_list[2][2], \n",
    "                                                                                 int(mean_list[2][3])))\n",
    "        print()\n",
    "        print(\"=\"*53)\n",
    "    \n",
    "    print(\"Test Data Averages Across All Folds:\")\n",
    "    reports_mean(test_reports)\n",
    "    \n",
    "    print(\"Train Data Averages Across All Folds:\")\n",
    "    reports_mean(train_reports)\n",
    "    \n",
    "    return {\"Test\": cnf_matrix_test, \"Train\": cnf_matrix_train}"
   ]
  },
  {
   "cell_type": "code",
   "execution_count": 26,
   "metadata": {
    "scrolled": false
   },
   "outputs": [
    {
     "name": "stdout",
     "output_type": "stream",
     "text": [
      "Test Data Iteration 1:\n",
      "              precision    recall  f1-score   support\n",
      "\n",
      "non-subtweet     0.7176    0.7222    0.7199      1087\n",
      "    subtweet     0.7405    0.7361    0.7383      1171\n",
      "\n",
      " avg / total     0.7295    0.7294    0.7294      2258\n",
      "\n",
      "Test Data Accuracy: 0.7294\n",
      "\n",
      "=====================================================\n",
      "Train Data Iteration 1:\n",
      "              precision    recall  f1-score   support\n",
      "\n",
      "non-subtweet     0.9796    0.9856    0.9826     10201\n",
      "    subtweet     0.9854    0.9793    0.9824     10117\n",
      "\n",
      " avg / total     0.9825    0.9825    0.9825     20318\n",
      "\n",
      "Train Data Accuracy: 0.9825\n",
      "\n",
      "=====================================================\n",
      "Test Data Iteration 2:\n",
      "              precision    recall  f1-score   support\n",
      "\n",
      "non-subtweet     0.7053    0.7008    0.7030      1103\n",
      "    subtweet     0.7160    0.7203    0.7182      1155\n",
      "\n",
      " avg / total     0.7108    0.7108    0.7108      2258\n",
      "\n",
      "Test Data Accuracy: 0.7108\n",
      "\n",
      "=====================================================\n",
      "Train Data Iteration 2:\n",
      "              precision    recall  f1-score   support\n",
      "\n",
      "non-subtweet     0.9805    0.9858    0.9831     10185\n",
      "    subtweet     0.9856    0.9803    0.9829     10133\n",
      "\n",
      " avg / total     0.9830    0.9830    0.9830     20318\n",
      "\n",
      "Train Data Accuracy: 0.9830\n",
      "\n",
      "=====================================================\n",
      "Test Data Iteration 3:\n",
      "              precision    recall  f1-score   support\n",
      "\n",
      "non-subtweet     0.7418    0.7043    0.7226      1150\n",
      "    subtweet     0.7084    0.7455    0.7265      1108\n",
      "\n",
      " avg / total     0.7254    0.7245    0.7245      2258\n",
      "\n",
      "Test Data Accuracy: 0.7245\n",
      "\n",
      "=====================================================\n",
      "Train Data Iteration 3:\n",
      "              precision    recall  f1-score   support\n",
      "\n",
      "non-subtweet     0.9815    0.9847    0.9831     10138\n",
      "    subtweet     0.9847    0.9815    0.9831     10180\n",
      "\n",
      " avg / total     0.9831    0.9831    0.9831     20318\n",
      "\n",
      "Train Data Accuracy: 0.9831\n",
      "\n",
      "=====================================================\n",
      "Test Data Iteration 4:\n",
      "              precision    recall  f1-score   support\n",
      "\n",
      "non-subtweet     0.7389    0.7100    0.7241      1124\n",
      "    subtweet     0.7233    0.7513    0.7370      1134\n",
      "\n",
      " avg / total     0.7310    0.7307    0.7306      2258\n",
      "\n",
      "Test Data Accuracy: 0.7307\n",
      "\n",
      "=====================================================\n",
      "Train Data Iteration 4:\n",
      "              precision    recall  f1-score   support\n",
      "\n",
      "non-subtweet     0.9808    0.9862    0.9835     10164\n",
      "    subtweet     0.9861    0.9807    0.9834     10154\n",
      "\n",
      " avg / total     0.9835    0.9835    0.9835     20318\n",
      "\n",
      "Train Data Accuracy: 0.9835\n",
      "\n",
      "=====================================================\n",
      "Test Data Iteration 5:\n",
      "              precision    recall  f1-score   support\n",
      "\n",
      "non-subtweet     0.7343    0.6835    0.7080      1128\n",
      "    subtweet     0.7045    0.7531    0.7280      1130\n",
      "\n",
      " avg / total     0.7194    0.7183    0.7180      2258\n",
      "\n",
      "Test Data Accuracy: 0.7183\n",
      "\n",
      "=====================================================\n",
      "Train Data Iteration 5:\n",
      "              precision    recall  f1-score   support\n",
      "\n",
      "non-subtweet     0.9811    0.9856    0.9834     10160\n",
      "    subtweet     0.9856    0.9810    0.9833     10158\n",
      "\n",
      " avg / total     0.9833    0.9833    0.9833     20318\n",
      "\n",
      "Train Data Accuracy: 0.9833\n",
      "\n",
      "=====================================================\n",
      "Test Data Iteration 6:\n",
      "              precision    recall  f1-score   support\n",
      "\n",
      "non-subtweet     0.7438    0.7022    0.7224      1145\n",
      "    subtweet     0.7103    0.7511    0.7301      1113\n",
      "\n",
      " avg / total     0.7273    0.7263    0.7262      2258\n",
      "\n",
      "Test Data Accuracy: 0.7263\n",
      "\n",
      "=====================================================\n",
      "Train Data Iteration 6:\n",
      "              precision    recall  f1-score   support\n",
      "\n",
      "non-subtweet     0.9820    0.9848    0.9834     10143\n",
      "    subtweet     0.9848    0.9820    0.9834     10175\n",
      "\n",
      " avg / total     0.9834    0.9834    0.9834     20318\n",
      "\n",
      "Train Data Accuracy: 0.9834\n",
      "\n",
      "=====================================================\n",
      "Test Data Iteration 7:\n",
      "              precision    recall  f1-score   support\n",
      "\n",
      "non-subtweet     0.7432    0.6874    0.7142      1158\n",
      "    subtweet     0.6948    0.7498    0.7212      1099\n",
      "\n",
      " avg / total     0.7196    0.7178    0.7176      2257\n",
      "\n",
      "Test Data Accuracy: 0.7178\n",
      "\n",
      "=====================================================\n",
      "Train Data Iteration 7:\n",
      "              precision    recall  f1-score   support\n",
      "\n",
      "non-subtweet     0.9815    0.9853    0.9834     10130\n",
      "    subtweet     0.9853    0.9815    0.9834     10189\n",
      "\n",
      " avg / total     0.9834    0.9834    0.9834     20319\n",
      "\n",
      "Train Data Accuracy: 0.9834\n",
      "\n",
      "=====================================================\n",
      "Test Data Iteration 8:\n",
      "              precision    recall  f1-score   support\n",
      "\n",
      "non-subtweet     0.7300    0.6715    0.6995      1099\n",
      "    subtweet     0.7103    0.7642    0.7363      1158\n",
      "\n",
      " avg / total     0.7199    0.7191    0.7184      2257\n",
      "\n",
      "Test Data Accuracy: 0.7191\n",
      "\n",
      "=====================================================\n",
      "Train Data Iteration 8:\n",
      "              precision    recall  f1-score   support\n",
      "\n",
      "non-subtweet     0.9803    0.9859    0.9831     10189\n",
      "    subtweet     0.9857    0.9801    0.9829     10130\n",
      "\n",
      " avg / total     0.9830    0.9830    0.9830     20319\n",
      "\n",
      "Train Data Accuracy: 0.9830\n",
      "\n",
      "=====================================================\n",
      "Test Data Iteration 9:\n",
      "              precision    recall  f1-score   support\n",
      "\n",
      "non-subtweet     0.7644    0.6960    0.7286      1161\n",
      "    subtweet     0.7058    0.7728    0.7378      1096\n",
      "\n",
      " avg / total     0.7360    0.7333    0.7331      2257\n",
      "\n",
      "Test Data Accuracy: 0.7333\n",
      "\n",
      "=====================================================\n",
      "Train Data Iteration 9:\n",
      "              precision    recall  f1-score   support\n",
      "\n",
      "non-subtweet     0.9806    0.9843    0.9825     10127\n",
      "    subtweet     0.9843    0.9807    0.9825     10192\n",
      "\n",
      " avg / total     0.9825    0.9825    0.9825     20319\n",
      "\n",
      "Train Data Accuracy: 0.9825\n",
      "\n",
      "=====================================================\n",
      "Test Data Iteration 10:\n",
      "              precision    recall  f1-score   support\n",
      "\n",
      "non-subtweet     0.7250    0.7026    0.7136      1133\n",
      "    subtweet     0.7092    0.7313    0.7201      1124\n",
      "\n",
      " avg / total     0.7171    0.7169    0.7168      2257\n",
      "\n",
      "Test Data Accuracy: 0.7169\n",
      "\n",
      "=====================================================\n",
      "Train Data Iteration 10:\n",
      "              precision    recall  f1-score   support\n",
      "\n",
      "non-subtweet     0.9806    0.9844    0.9825     10155\n",
      "    subtweet     0.9844    0.9805    0.9825     10164\n",
      "\n",
      " avg / total     0.9825    0.9825    0.9825     20319\n",
      "\n",
      "Train Data Accuracy: 0.9825\n",
      "\n",
      "=====================================================\n",
      "Test Data Averages Across All Folds:\n",
      "              precision    recall  f1-score   support\n",
      "\n",
      "non-subtweet     0.7344    0.6981    0.7156      1128\n",
      "    subtweet     0.7123    0.7476    0.7293      1128\n",
      "\n",
      " avg / total     0.7236    0.7227    0.7225      2257\n",
      "\n",
      "=====================================================\n",
      "Train Data Averages Across All Folds:\n",
      "              precision    recall  f1-score   support\n",
      "\n",
      "non-subtweet     0.9809    0.9853    0.9831      10159\n",
      "    subtweet     0.9852    0.9808    0.9830      10159\n",
      "\n",
      " avg / total     0.9830    0.9830    0.9830      20318\n",
      "\n",
      "=====================================================\n"
     ]
    }
   ],
   "source": [
    "cnf_matrices = confusion_matrices(training_data)\n",
    "cnf_matrix_test = cnf_matrices[\"Test\"]\n",
    "cnf_matrix_train = cnf_matrices[\"Train\"]"
   ]
  },
  {
   "cell_type": "markdown",
   "metadata": {},
   "source": [
    "#### See the most informative features\n",
    "[How does \"MultinomialNB.coef_\" work?](https://stackoverflow.com/a/29915740/6147528)"
   ]
  },
  {
   "cell_type": "code",
   "execution_count": 27,
   "metadata": {},
   "outputs": [],
   "source": [
    "def most_informative_features(pipeline, n=15000):\n",
    "    vectorizer = pipeline.named_steps[\"vectorizer\"]\n",
    "    classifier = pipeline.named_steps[\"classifier\"]\n",
    "    \n",
    "    class_labels = classifier.classes_\n",
    "    \n",
    "    feature_names = vectorizer.get_feature_names()\n",
    "    \n",
    "    top_n_class_1 = sorted(zip(classifier.coef_[0], feature_names))[:n]\n",
    "    top_n_class_2 = sorted(zip(classifier.coef_[0], feature_names))[-n:]\n",
    "    \n",
    "    return {class_labels[0]: pd.DataFrame({\"Log Probability\": [tup[0] for tup in top_n_class_1], \n",
    "                                           \"Feature\": [tup[1] for tup in top_n_class_1]}), \n",
    "            class_labels[1]: pd.DataFrame({\"Log Probability\": [tup[0] for tup in reversed(top_n_class_2)],\n",
    "                                           \"Feature\": [tup[1] for tup in reversed(top_n_class_2)]})}"
   ]
  },
  {
   "cell_type": "code",
   "execution_count": 28,
   "metadata": {},
   "outputs": [],
   "source": [
    "most_informative_features_all = most_informative_features(sentiment_pipeline)"
   ]
  },
  {
   "cell_type": "code",
   "execution_count": 29,
   "metadata": {},
   "outputs": [],
   "source": [
    "most_informative_features_non_subtweet = most_informative_features_all[\"non-subtweet\"]"
   ]
  },
  {
   "cell_type": "code",
   "execution_count": 30,
   "metadata": {},
   "outputs": [],
   "source": [
    "most_informative_features_subtweet = most_informative_features_all[\"subtweet\"]"
   ]
  },
  {
   "cell_type": "code",
   "execution_count": 31,
   "metadata": {
    "scrolled": false
   },
   "outputs": [
    {
     "data": {
      "text/html": [
       "<div>\n",
       "<style scoped>\n",
       "    .dataframe tbody tr th:only-of-type {\n",
       "        vertical-align: middle;\n",
       "    }\n",
       "\n",
       "    .dataframe tbody tr th {\n",
       "        vertical-align: top;\n",
       "    }\n",
       "\n",
       "    .dataframe thead th {\n",
       "        text-align: right;\n",
       "    }\n",
       "</style>\n",
       "<table border=\"1\" class=\"dataframe\">\n",
       "  <thead>\n",
       "    <tr style=\"text-align: right;\">\n",
       "      <th></th>\n",
       "      <th>Feature (Non-subtweet)</th>\n",
       "      <th>Log Probability (Non-subtweet)</th>\n",
       "      <th>Feature (Subtweet)</th>\n",
       "      <th>Log Probability (Subtweet)</th>\n",
       "    </tr>\n",
       "  </thead>\n",
       "  <tbody>\n",
       "    <tr>\n",
       "      <th>0</th>\n",
       "      <td>! ! #absapremiership</td>\n",
       "      <td>-13.0545</td>\n",
       "      <td>.</td>\n",
       "      <td>-7.6448</td>\n",
       "    </tr>\n",
       "    <tr>\n",
       "      <th>1</th>\n",
       "      <td>! ! #bbnaija</td>\n",
       "      <td>-13.0545</td>\n",
       "      <td>,</td>\n",
       "      <td>-8.0039</td>\n",
       "    </tr>\n",
       "    <tr>\n",
       "      <th>2</th>\n",
       "      <td>! ! #cholecystectomy</td>\n",
       "      <td>-13.0545</td>\n",
       "      <td>➊</td>\n",
       "      <td>-8.0539</td>\n",
       "    </tr>\n",
       "    <tr>\n",
       "      <th>3</th>\n",
       "      <td>! ! #happyeasterfromhell</td>\n",
       "      <td>-13.0545</td>\n",
       "      <td>\"</td>\n",
       "      <td>-8.1549</td>\n",
       "    </tr>\n",
       "    <tr>\n",
       "      <th>4</th>\n",
       "      <td>! ! #liars</td>\n",
       "      <td>-13.0545</td>\n",
       "      <td>people</td>\n",
       "      <td>-8.4268</td>\n",
       "    </tr>\n",
       "    <tr>\n",
       "      <th>5</th>\n",
       "      <td>! ! #manila</td>\n",
       "      <td>-13.0545</td>\n",
       "      <td>?</td>\n",
       "      <td>-8.5501</td>\n",
       "    </tr>\n",
       "    <tr>\n",
       "      <th>6</th>\n",
       "      <td>! ! #meekotw</td>\n",
       "      <td>-13.0545</td>\n",
       "      <td>like</td>\n",
       "      <td>-8.6645</td>\n",
       "    </tr>\n",
       "    <tr>\n",
       "      <th>7</th>\n",
       "      <td>! ! #newprofilepic</td>\n",
       "      <td>-13.0545</td>\n",
       "      <td>don't</td>\n",
       "      <td>-8.6859</td>\n",
       "    </tr>\n",
       "    <tr>\n",
       "      <th>8</th>\n",
       "      <td>! ! #nintendoswitch</td>\n",
       "      <td>-13.0545</td>\n",
       "      <td>just</td>\n",
       "      <td>-8.7385</td>\n",
       "    </tr>\n",
       "    <tr>\n",
       "      <th>9</th>\n",
       "      <td>! ! #nraisaterroristorganzation</td>\n",
       "      <td>-13.0545</td>\n",
       "      <td>i'm</td>\n",
       "      <td>-8.8133</td>\n",
       "    </tr>\n",
       "    <tr>\n",
       "      <th>10</th>\n",
       "      <td>! ! #proaf</td>\n",
       "      <td>-13.0545</td>\n",
       "      <td>!</td>\n",
       "      <td>-8.8511</td>\n",
       "    </tr>\n",
       "    <tr>\n",
       "      <th>11</th>\n",
       "      <td>! ! #realflavorrealfast</td>\n",
       "      <td>-13.0545</td>\n",
       "      <td>it's</td>\n",
       "      <td>-9.0665</td>\n",
       "    </tr>\n",
       "    <tr>\n",
       "      <th>12</th>\n",
       "      <td>! ! #repost</td>\n",
       "      <td>-13.0545</td>\n",
       "      <td>. ➊</td>\n",
       "      <td>-9.0996</td>\n",
       "    </tr>\n",
       "    <tr>\n",
       "      <th>13</th>\n",
       "      <td>! ! #sdlive</td>\n",
       "      <td>-13.0545</td>\n",
       "      <td>:</td>\n",
       "      <td>-9.1246</td>\n",
       "    </tr>\n",
       "    <tr>\n",
       "      <th>14</th>\n",
       "      <td>! ! #shotmakers</td>\n",
       "      <td>-13.0545</td>\n",
       "      <td>know</td>\n",
       "      <td>-9.1482</td>\n",
       "    </tr>\n",
       "    <tr>\n",
       "      <th>15</th>\n",
       "      <td>! ! #spreadyourlight</td>\n",
       "      <td>-13.0545</td>\n",
       "      <td>...</td>\n",
       "      <td>-9.1563</td>\n",
       "    </tr>\n",
       "    <tr>\n",
       "      <th>16</th>\n",
       "      <td>! ! #stopsoros</td>\n",
       "      <td>-13.0545</td>\n",
       "      <td>you're</td>\n",
       "      <td>-9.2032</td>\n",
       "    </tr>\n",
       "    <tr>\n",
       "      <th>17</th>\n",
       "      <td>! ! #suckabee</td>\n",
       "      <td>-13.0545</td>\n",
       "      <td>love</td>\n",
       "      <td>-9.2800</td>\n",
       "    </tr>\n",
       "    <tr>\n",
       "      <th>18</th>\n",
       "      <td>! ! #thevoice</td>\n",
       "      <td>-13.0545</td>\n",
       "      <td>twitter</td>\n",
       "      <td>-9.2832</td>\n",
       "    </tr>\n",
       "    <tr>\n",
       "      <th>19</th>\n",
       "      <td>! ! #thisismylifenow</td>\n",
       "      <td>-13.0545</td>\n",
       "      <td>friends</td>\n",
       "      <td>-9.3662</td>\n",
       "    </tr>\n",
       "    <tr>\n",
       "      <th>20</th>\n",
       "      <td>! ! #tootlingtuesday</td>\n",
       "      <td>-13.0545</td>\n",
       "      <td>➋</td>\n",
       "      <td>-9.4069</td>\n",
       "    </tr>\n",
       "    <tr>\n",
       "      <th>21</th>\n",
       "      <td>! ! #traceybarbie</td>\n",
       "      <td>-13.0545</td>\n",
       "      <td>*</td>\n",
       "      <td>-9.4107</td>\n",
       "    </tr>\n",
       "    <tr>\n",
       "      <th>22</th>\n",
       "      <td>! ! #tucker</td>\n",
       "      <td>-13.0545</td>\n",
       "      <td>😂</td>\n",
       "      <td>-9.4370</td>\n",
       "    </tr>\n",
       "    <tr>\n",
       "      <th>23</th>\n",
       "      <td>! ! #tuesdaythoughts</td>\n",
       "      <td>-13.0545</td>\n",
       "      <td>time</td>\n",
       "      <td>-9.4407</td>\n",
       "    </tr>\n",
       "    <tr>\n",
       "      <th>24</th>\n",
       "      <td>! ! #twitchtv</td>\n",
       "      <td>-13.0545</td>\n",
       "      <td>really</td>\n",
       "      <td>-9.4500</td>\n",
       "    </tr>\n",
       "    <tr>\n",
       "      <th>25</th>\n",
       "      <td>! ! #wwie</td>\n",
       "      <td>-13.0545</td>\n",
       "      <td>want</td>\n",
       "      <td>-9.4583</td>\n",
       "    </tr>\n",
       "    <tr>\n",
       "      <th>26</th>\n",
       "      <td>! ! &amp;</td>\n",
       "      <td>-13.0545</td>\n",
       "      <td>think</td>\n",
       "      <td>-9.4589</td>\n",
       "    </tr>\n",
       "    <tr>\n",
       "      <th>27</th>\n",
       "      <td>! ! )</td>\n",
       "      <td>-13.0545</td>\n",
       "      <td>shit</td>\n",
       "      <td>-9.4697</td>\n",
       "    </tr>\n",
       "    <tr>\n",
       "      <th>28</th>\n",
       "      <td>! ! -</td>\n",
       "      <td>-13.0545</td>\n",
       "      <td>good</td>\n",
       "      <td>-9.4903</td>\n",
       "    </tr>\n",
       "    <tr>\n",
       "      <th>29</th>\n",
       "      <td>! ! 0.125</td>\n",
       "      <td>-13.0545</td>\n",
       "      <td>can't</td>\n",
       "      <td>-9.5028</td>\n",
       "    </tr>\n",
       "    <tr>\n",
       "      <th>30</th>\n",
       "      <td>! ! 100</td>\n",
       "      <td>-13.0545</td>\n",
       "      <td>u</td>\n",
       "      <td>-9.5055</td>\n",
       "    </tr>\n",
       "    <tr>\n",
       "      <th>31</th>\n",
       "      <td>! ! 11</td>\n",
       "      <td>-13.0545</td>\n",
       "      <td>make</td>\n",
       "      <td>-9.5476</td>\n",
       "    </tr>\n",
       "    <tr>\n",
       "      <th>32</th>\n",
       "      <td>! ! 15</td>\n",
       "      <td>-13.0545</td>\n",
       "      <td>tweet</td>\n",
       "      <td>-9.6071</td>\n",
       "    </tr>\n",
       "    <tr>\n",
       "      <th>33</th>\n",
       "      <td>! ! 3</td>\n",
       "      <td>-13.0545</td>\n",
       "      <td>need</td>\n",
       "      <td>-9.6523</td>\n",
       "    </tr>\n",
       "    <tr>\n",
       "      <th>34</th>\n",
       "      <td>! ! 8am</td>\n",
       "      <td>-13.0545</td>\n",
       "      <td>say</td>\n",
       "      <td>-9.6749</td>\n",
       "    </tr>\n",
       "    <tr>\n",
       "      <th>35</th>\n",
       "      <td>! ! :)</td>\n",
       "      <td>-13.0545</td>\n",
       "      <td>lol</td>\n",
       "      <td>-9.7129</td>\n",
       "    </tr>\n",
       "    <tr>\n",
       "      <th>36</th>\n",
       "      <td>! ! ;)</td>\n",
       "      <td>-13.0545</td>\n",
       "      <td>/</td>\n",
       "      <td>-9.7339</td>\n",
       "    </tr>\n",
       "    <tr>\n",
       "      <th>37</th>\n",
       "      <td>! ! aahhh</td>\n",
       "      <td>-13.0545</td>\n",
       "      <td>stop</td>\n",
       "      <td>-9.7367</td>\n",
       "    </tr>\n",
       "    <tr>\n",
       "      <th>38</th>\n",
       "      <td>! ! absolutely</td>\n",
       "      <td>-13.0545</td>\n",
       "      <td>fuck</td>\n",
       "      <td>-9.7382</td>\n",
       "    </tr>\n",
       "    <tr>\n",
       "      <th>39</th>\n",
       "      <td>! ! ask</td>\n",
       "      <td>-13.0545</td>\n",
       "      <td>! !</td>\n",
       "      <td>-9.7406</td>\n",
       "    </tr>\n",
       "    <tr>\n",
       "      <th>40</th>\n",
       "      <td>! ! aug</td>\n",
       "      <td>-13.0545</td>\n",
       "      <td>person</td>\n",
       "      <td>-9.7460</td>\n",
       "    </tr>\n",
       "    <tr>\n",
       "      <th>41</th>\n",
       "      <td>! ! awesome</td>\n",
       "      <td>-13.0545</td>\n",
       "      <td>hate</td>\n",
       "      <td>-9.7798</td>\n",
       "    </tr>\n",
       "    <tr>\n",
       "      <th>42</th>\n",
       "      <td>! ! bambam</td>\n",
       "      <td>-13.0545</td>\n",
       "      <td>thing</td>\n",
       "      <td>-9.7862</td>\n",
       "    </tr>\n",
       "    <tr>\n",
       "      <th>43</th>\n",
       "      <td>! ! best</td>\n",
       "      <td>-13.0545</td>\n",
       "      <td>)</td>\n",
       "      <td>-9.7998</td>\n",
       "    </tr>\n",
       "    <tr>\n",
       "      <th>44</th>\n",
       "      <td>! ! beyoncé</td>\n",
       "      <td>-13.0545</td>\n",
       "      <td>y'all</td>\n",
       "      <td>-9.8020</td>\n",
       "    </tr>\n",
       "    <tr>\n",
       "      <th>45</th>\n",
       "      <td>! ! big</td>\n",
       "      <td>-13.0545</td>\n",
       "      <td>-</td>\n",
       "      <td>-9.8458</td>\n",
       "    </tr>\n",
       "    <tr>\n",
       "      <th>46</th>\n",
       "      <td>! ! bring</td>\n",
       "      <td>-13.0545</td>\n",
       "      <td>'</td>\n",
       "      <td>-9.8509</td>\n",
       "    </tr>\n",
       "    <tr>\n",
       "      <th>47</th>\n",
       "      <td>! ! bwaaaaaah</td>\n",
       "      <td>-13.0545</td>\n",
       "      <td>life</td>\n",
       "      <td>-9.8618</td>\n",
       "    </tr>\n",
       "    <tr>\n",
       "      <th>48</th>\n",
       "      <td>! ! camera</td>\n",
       "      <td>-13.0545</td>\n",
       "      <td>fucking</td>\n",
       "      <td>-9.8618</td>\n",
       "    </tr>\n",
       "    <tr>\n",
       "      <th>49</th>\n",
       "      <td>! ! catch</td>\n",
       "      <td>-13.0545</td>\n",
       "      <td>? ?</td>\n",
       "      <td>-9.8826</td>\n",
       "    </tr>\n",
       "  </tbody>\n",
       "</table>\n",
       "</div>"
      ],
      "text/plain": [
       "             Feature (Non-subtweet)  Log Probability (Non-subtweet) Feature (Subtweet)  Log Probability (Subtweet)\n",
       "0              ! ! #absapremiership                        -13.0545                  .                     -7.6448\n",
       "1                      ! ! #bbnaija                        -13.0545                  ,                     -8.0039\n",
       "2              ! ! #cholecystectomy                        -13.0545                  ➊                     -8.0539\n",
       "3          ! ! #happyeasterfromhell                        -13.0545                  \"                     -8.1549\n",
       "4                        ! ! #liars                        -13.0545             people                     -8.4268\n",
       "5                       ! ! #manila                        -13.0545                  ?                     -8.5501\n",
       "6                      ! ! #meekotw                        -13.0545               like                     -8.6645\n",
       "7                ! ! #newprofilepic                        -13.0545              don't                     -8.6859\n",
       "8               ! ! #nintendoswitch                        -13.0545               just                     -8.7385\n",
       "9   ! ! #nraisaterroristorganzation                        -13.0545                i'm                     -8.8133\n",
       "10                       ! ! #proaf                        -13.0545                  !                     -8.8511\n",
       "11          ! ! #realflavorrealfast                        -13.0545               it's                     -9.0665\n",
       "12                      ! ! #repost                        -13.0545                . ➊                     -9.0996\n",
       "13                      ! ! #sdlive                        -13.0545                  :                     -9.1246\n",
       "14                  ! ! #shotmakers                        -13.0545               know                     -9.1482\n",
       "15             ! ! #spreadyourlight                        -13.0545                ...                     -9.1563\n",
       "16                   ! ! #stopsoros                        -13.0545             you're                     -9.2032\n",
       "17                    ! ! #suckabee                        -13.0545               love                     -9.2800\n",
       "18                    ! ! #thevoice                        -13.0545            twitter                     -9.2832\n",
       "19             ! ! #thisismylifenow                        -13.0545            friends                     -9.3662\n",
       "20             ! ! #tootlingtuesday                        -13.0545                  ➋                     -9.4069\n",
       "21                ! ! #traceybarbie                        -13.0545                  *                     -9.4107\n",
       "22                      ! ! #tucker                        -13.0545                  😂                     -9.4370\n",
       "23             ! ! #tuesdaythoughts                        -13.0545               time                     -9.4407\n",
       "24                    ! ! #twitchtv                        -13.0545             really                     -9.4500\n",
       "25                        ! ! #wwie                        -13.0545               want                     -9.4583\n",
       "26                            ! ! &                        -13.0545              think                     -9.4589\n",
       "27                            ! ! )                        -13.0545               shit                     -9.4697\n",
       "28                            ! ! -                        -13.0545               good                     -9.4903\n",
       "29                        ! ! 0.125                        -13.0545              can't                     -9.5028\n",
       "30                          ! ! 100                        -13.0545                  u                     -9.5055\n",
       "31                           ! ! 11                        -13.0545               make                     -9.5476\n",
       "32                           ! ! 15                        -13.0545              tweet                     -9.6071\n",
       "33                            ! ! 3                        -13.0545               need                     -9.6523\n",
       "34                          ! ! 8am                        -13.0545                say                     -9.6749\n",
       "35                           ! ! :)                        -13.0545                lol                     -9.7129\n",
       "36                           ! ! ;)                        -13.0545                  /                     -9.7339\n",
       "37                        ! ! aahhh                        -13.0545               stop                     -9.7367\n",
       "38                   ! ! absolutely                        -13.0545               fuck                     -9.7382\n",
       "39                          ! ! ask                        -13.0545                ! !                     -9.7406\n",
       "40                          ! ! aug                        -13.0545             person                     -9.7460\n",
       "41                      ! ! awesome                        -13.0545               hate                     -9.7798\n",
       "42                       ! ! bambam                        -13.0545              thing                     -9.7862\n",
       "43                         ! ! best                        -13.0545                  )                     -9.7998\n",
       "44                      ! ! beyoncé                        -13.0545              y'all                     -9.8020\n",
       "45                          ! ! big                        -13.0545                  -                     -9.8458\n",
       "46                        ! ! bring                        -13.0545                  '                     -9.8509\n",
       "47                    ! ! bwaaaaaah                        -13.0545               life                     -9.8618\n",
       "48                       ! ! camera                        -13.0545            fucking                     -9.8618\n",
       "49                        ! ! catch                        -13.0545                ? ?                     -9.8826"
      ]
     },
     "execution_count": 31,
     "metadata": {},
     "output_type": "execute_result"
    }
   ],
   "source": [
    "final_features = most_informative_features_non_subtweet.join(most_informative_features_subtweet, \n",
    "                                                             lsuffix=\" (Non-subtweet)\", \n",
    "                                                             rsuffix=\" (Subtweet)\")\n",
    "final_features.to_csv(\"../data/other_data/most_informative_features.csv\")\n",
    "final_features.head(50)"
   ]
  },
  {
   "cell_type": "markdown",
   "metadata": {},
   "source": [
    "#### Define function for visualizing confusion matrices"
   ]
  },
  {
   "cell_type": "code",
   "execution_count": 32,
   "metadata": {},
   "outputs": [],
   "source": [
    "def plot_confusion_matrix(cm, classes=[\"non-subtweet\", \"subtweet\"], \n",
    "                          title=\"Confusion Matrix\", cmap=plt.cm.Purples):\n",
    "    \n",
    "    cm_normalized = cm.astype(\"float\") / cm.sum(axis=1)[:, np.newaxis]\n",
    "\n",
    "    plt.imshow(cm, interpolation=\"nearest\", cmap=cmap)\n",
    "    plt.colorbar()\n",
    "    \n",
    "    plt.title(title, size=18)\n",
    "    \n",
    "    tick_marks = np.arange(len(classes))\n",
    "    plt.xticks(tick_marks, classes, rotation=45, fontsize=14)\n",
    "    plt.yticks(tick_marks, classes, fontsize=14)\n",
    "\n",
    "    thresh = cm.max() / 2.\n",
    "    for i, j in itertools.product(range(cm.shape[0]), range(cm.shape[1])):\n",
    "        plt.text(j, i, \"{} ({:.0%})\".format(cm[i, j], cm_normalized[i, j]),\n",
    "                horizontalalignment=\"center\", size=16,\n",
    "                color=\"white\" if cm[i, j] > thresh else \"black\")\n",
    "        \n",
    "    plt.tight_layout()\n",
    "    \n",
    "    plt.ylabel(\"True label\", fontsize=14)\n",
    "    plt.xlabel(\"Predicted Label\", fontsize=14)"
   ]
  },
  {
   "cell_type": "markdown",
   "metadata": {},
   "source": [
    "#### Show the matrices"
   ]
  },
  {
   "cell_type": "code",
   "execution_count": 33,
   "metadata": {},
   "outputs": [
    {
     "data": {
      "image/png": "[encoded data removed]",
      "text/plain": [
       "<Figure size 432x432 with 2 Axes>"
      ]
     },
     "metadata": {},
     "output_type": "display_data"
    },
    {
     "data": {
      "image/png": "[encoded data removed]",
      "text/plain": [
       "<Figure size 432x432 with 2 Axes>"
      ]
     },
     "metadata": {},
     "output_type": "display_data"
    }
   ],
   "source": [
    "np.set_printoptions(precision=2)\n",
    "\n",
    "plt.figure(figsize=(6, 6))\n",
    "plot_confusion_matrix(cnf_matrix_test, title=\"Test Data Confusion Matrix\")\n",
    "\n",
    "plt.figure(figsize=(6, 6))\n",
    "plot_confusion_matrix(cnf_matrix_train, title=\"Train Data Confusion Matrix\")\n",
    "\n",
    "plt.show()"
   ]
  },
  {
   "cell_type": "markdown",
   "metadata": {},
   "source": [
    "#### Update matplotlib style"
   ]
  },
  {
   "cell_type": "code",
   "execution_count": 34,
   "metadata": {},
   "outputs": [],
   "source": [
    "plt.style.use(\"fivethirtyeight\")"
   ]
  },
  {
   "cell_type": "markdown",
   "metadata": {},
   "source": [
    "#### Save the classifier for another time"
   ]
  },
  {
   "cell_type": "code",
   "execution_count": 35,
   "metadata": {},
   "outputs": [],
   "source": [
    "joblib.dump(sentiment_pipeline, \"../data/other_data/subtweets_classifier.pkl\");"
   ]
  },
  {
   "cell_type": "markdown",
   "metadata": {},
   "source": [
    "#### Print tests for the classifier"
   ]
  },
  {
   "cell_type": "code",
   "execution_count": 36,
   "metadata": {},
   "outputs": [],
   "source": [
    "def process_tweets_for_testing(filenames):\n",
    "    dataframes = {}\n",
    "    for filename in filenames:\n",
    "        username = splitext(basename(filename))[0][:-7]\n",
    "        dataframes[username] = {}\n",
    "        \n",
    "        user_df = pd.read_csv(filename).dropna()\n",
    "        user_df[\"Text\"] = user_df[\"Text\"].str.replace(urls_pattern, \"➊\")\n",
    "        user_df[\"Text\"] = user_df[\"Text\"].str.replace(at_mentions_pattern, \"➋\")\n",
    "        user_df[\"Text\"] = user_df[\"Text\"].str.replace(names_pattern, \"➌\")\n",
    "        user_df[\"Text\"] = user_df[\"Text\"].str.replace(\"\\u2018\", \"'\")\n",
    "        user_df[\"Text\"] = user_df[\"Text\"].str.replace(\"\\u2019\", \"'\")\n",
    "        user_df[\"Text\"] = user_df[\"Text\"].str.replace(\"\\u201c\", \"\\\"\")\n",
    "        user_df[\"Text\"] = user_df[\"Text\"].str.replace(\"\\u201d\", \"\\\"\")\n",
    "        user_df[\"Text\"] = user_df[\"Text\"].str.replace(\"&quot;\", \"\\\"\")\n",
    "        user_df[\"Text\"] = user_df[\"Text\"].str.replace(\"&amp;\", \"&\")\n",
    "        user_df[\"Text\"] = user_df[\"Text\"].str.replace(\"&gt;\", \">\")\n",
    "        user_df[\"Text\"] = user_df[\"Text\"].str.replace(\"&lt;\", \"<\")\n",
    "        \n",
    "        predictions = sentiment_pipeline.predict_proba(user_df[\"Text\"])[:, 1].tolist()\n",
    "        user_df[\"SubtweetProbability\"] = predictions\n",
    "\n",
    "        dataframes[username][\"all\"] = user_df\n",
    "        \n",
    "        scores = user_df[[\"SubtweetProbability\"]].rename(columns={\"SubtweetProbability\": username})\n",
    "        \n",
    "        dataframes[username][\"scores\"] = scores\n",
    "        dataframes[username][\"stats\"] = scores.describe()\n",
    "        \n",
    "    return dataframes"
   ]
  },
  {
   "cell_type": "markdown",
   "metadata": {},
   "source": [
    "#### Load the CSV files"
   ]
  },
  {
   "cell_type": "code",
   "execution_count": 37,
   "metadata": {},
   "outputs": [],
   "source": [
    "filenames = glob(\"../data/data_for_testing/friends_data/*.csv\")"
   ]
  },
  {
   "cell_type": "code",
   "execution_count": 38,
   "metadata": {},
   "outputs": [],
   "source": [
    "dataframes = process_tweets_for_testing(filenames)"
   ]
  },
  {
   "cell_type": "markdown",
   "metadata": {},
   "source": [
    "#### Show a random table"
   ]
  },
  {
   "cell_type": "code",
   "execution_count": 39,
   "metadata": {},
   "outputs": [
    {
     "data": {
      "text/html": [
       "<div>\n",
       "<style scoped>\n",
       "    .dataframe tbody tr th:only-of-type {\n",
       "        vertical-align: middle;\n",
       "    }\n",
       "\n",
       "    .dataframe tbody tr th {\n",
       "        vertical-align: top;\n",
       "    }\n",
       "\n",
       "    .dataframe thead th {\n",
       "        text-align: right;\n",
       "    }\n",
       "</style>\n",
       "<table border=\"1\" class=\"dataframe\">\n",
       "  <thead>\n",
       "    <tr style=\"text-align: right;\">\n",
       "      <th></th>\n",
       "      <th>Text</th>\n",
       "      <th>Date</th>\n",
       "      <th>Favorites</th>\n",
       "      <th>Retweets</th>\n",
       "      <th>Tweet ID</th>\n",
       "      <th>SubtweetProbability</th>\n",
       "    </tr>\n",
       "  </thead>\n",
       "  <tbody>\n",
       "    <tr>\n",
       "      <th>753</th>\n",
       "      <td>no offense but there are maybe like two people who are not annoying on social media</td>\n",
       "      <td>2018-01-11 15:00:31</td>\n",
       "      <td>2</td>\n",
       "      <td>0</td>\n",
       "      <td>951544369068347392</td>\n",
       "      <td>0.8710</td>\n",
       "    </tr>\n",
       "    <tr>\n",
       "      <th>803</th>\n",
       "      <td>the fact that twitter shows tweets people you follow have liked means that sub-liking is also a thing</td>\n",
       "      <td>2018-01-10 16:56:58</td>\n",
       "      <td>6</td>\n",
       "      <td>0</td>\n",
       "      <td>951211288046301184</td>\n",
       "      <td>0.8671</td>\n",
       "    </tr>\n",
       "    <tr>\n",
       "      <th>751</th>\n",
       "      <td>I think u and I both know that we're both annoying bc we complain way too much</td>\n",
       "      <td>2018-01-11 15:01:50</td>\n",
       "      <td>1</td>\n",
       "      <td>0</td>\n",
       "      <td>951544701798305792</td>\n",
       "      <td>0.8609</td>\n",
       "    </tr>\n",
       "    <tr>\n",
       "      <th>886</th>\n",
       "      <td>angery tweets targeted at a specific person or group of people without directly mentioning the target</td>\n",
       "      <td>2017-12-27 18:08:54</td>\n",
       "      <td>2</td>\n",
       "      <td>0</td>\n",
       "      <td>946155959679967234</td>\n",
       "      <td>0.8578</td>\n",
       "    </tr>\n",
       "    <tr>\n",
       "      <th>288</th>\n",
       "      <td>i don't trust people who can</td>\n",
       "      <td>2018-02-04 21:39:26</td>\n",
       "      <td>0</td>\n",
       "      <td>0</td>\n",
       "      <td>960342070723571713</td>\n",
       "      <td>0.8356</td>\n",
       "    </tr>\n",
       "  </tbody>\n",
       "</table>\n",
       "</div>"
      ],
      "text/plain": [
       "                                                                                                      Text                 Date  Favorites  Retweets            Tweet ID  SubtweetProbability\n",
       "753                    no offense but there are maybe like two people who are not annoying on social media  2018-01-11 15:00:31          2         0  951544369068347392               0.8710\n",
       "803  the fact that twitter shows tweets people you follow have liked means that sub-liking is also a thing  2018-01-10 16:56:58          6         0  951211288046301184               0.8671\n",
       "751                         I think u and I both know that we're both annoying bc we complain way too much  2018-01-11 15:01:50          1         0  951544701798305792               0.8609\n",
       "886  angery tweets targeted at a specific person or group of people without directly mentioning the target  2017-12-27 18:08:54          2         0  946155959679967234               0.8578\n",
       "288                                                                           i don't trust people who can  2018-02-04 21:39:26          0         0  960342070723571713               0.8356"
      ]
     },
     "execution_count": 39,
     "metadata": {},
     "output_type": "execute_result"
    }
   ],
   "source": [
    "chosen_username = choice(list(dataframes.keys()))\n",
    "dataframes[chosen_username][\"all\"].sort_values(by=\"SubtweetProbability\", ascending=False).head(5)"
   ]
  },
  {
   "cell_type": "markdown",
   "metadata": {},
   "source": [
    "#### Prepare statistics on tweets"
   ]
  },
  {
   "cell_type": "code",
   "execution_count": 40,
   "metadata": {},
   "outputs": [],
   "source": [
    "test_df = pd.concat([df_dict[\"scores\"] for df_dict in dataframes.values()], ignore_index=True)"
   ]
  },
  {
   "cell_type": "code",
   "execution_count": 41,
   "metadata": {},
   "outputs": [],
   "source": [
    "test_df_stats = test_df.count()"
   ]
  },
  {
   "cell_type": "markdown",
   "metadata": {},
   "source": [
    "#### Total number of tweets per account:"
   ]
  },
  {
   "cell_type": "code",
   "execution_count": 42,
   "metadata": {},
   "outputs": [
    {
     "data": {
      "text/plain": [
       "akrapf96           2640\n",
       "generatedtext      2066\n",
       "gothodile          3488\n",
       "juliaeberry        4356\n",
       "kayleesue          1939\n",
       "keithohara         1169\n",
       "noahsegalgould     2814\n",
       "pumpkinheadgal      772\n",
       "scorpiodisaster    5364\n",
       "whoisleormiller     853\n",
       "zoeterhune         1467\n",
       "dtype: int64"
      ]
     },
     "execution_count": 42,
     "metadata": {},
     "output_type": "execute_result"
    }
   ],
   "source": [
    "test_df_stats"
   ]
  },
  {
   "cell_type": "code",
   "execution_count": 43,
   "metadata": {},
   "outputs": [],
   "source": [
    "test_df_over = test_df[test_df >= 0.5]"
   ]
  },
  {
   "cell_type": "code",
   "execution_count": 44,
   "metadata": {},
   "outputs": [],
   "source": [
    "test_df_over_stats = test_df_over.count()"
   ]
  },
  {
   "cell_type": "markdown",
   "metadata": {},
   "source": [
    "#### Total number of classified subtweets (>= 50%) per account"
   ]
  },
  {
   "cell_type": "code",
   "execution_count": 45,
   "metadata": {},
   "outputs": [
    {
     "data": {
      "text/plain": [
       "akrapf96           1453\n",
       "generatedtext      1460\n",
       "gothodile          1987\n",
       "juliaeberry        2652\n",
       "kayleesue           942\n",
       "keithohara          334\n",
       "noahsegalgould     1577\n",
       "pumpkinheadgal      517\n",
       "scorpiodisaster    2918\n",
       "whoisleormiller     578\n",
       "zoeterhune          956\n",
       "dtype: int64"
      ]
     },
     "execution_count": 45,
     "metadata": {},
     "output_type": "execute_result"
    }
   ],
   "source": [
    "test_df_over_stats"
   ]
  },
  {
   "cell_type": "code",
   "execution_count": 46,
   "metadata": {},
   "outputs": [],
   "source": [
    "test_df_combined = pd.concat([test_df_over_stats, test_df_stats], axis=1)"
   ]
  },
  {
   "cell_type": "code",
   "execution_count": 47,
   "metadata": {},
   "outputs": [],
   "source": [
    "test_df_combined.columns = [\"subtweets\", \"total_tweets\"]"
   ]
  },
  {
   "cell_type": "code",
   "execution_count": 48,
   "metadata": {},
   "outputs": [],
   "source": [
    "test_df_combined[\"percent_subtweets\"] = test_df_combined[\"subtweets\"]/test_df_combined[\"total_tweets\"]"
   ]
  },
  {
   "cell_type": "code",
   "execution_count": 49,
   "metadata": {},
   "outputs": [],
   "source": [
    "test_df_combined.sort_values(by=\"percent_subtweets\", inplace=True)"
   ]
  },
  {
   "cell_type": "markdown",
   "metadata": {},
   "source": [
    "#### Overall stats"
   ]
  },
  {
   "cell_type": "code",
   "execution_count": 50,
   "metadata": {},
   "outputs": [
    {
     "data": {
      "text/html": [
       "<div>\n",
       "<style scoped>\n",
       "    .dataframe tbody tr th:only-of-type {\n",
       "        vertical-align: middle;\n",
       "    }\n",
       "\n",
       "    .dataframe tbody tr th {\n",
       "        vertical-align: top;\n",
       "    }\n",
       "\n",
       "    .dataframe thead th {\n",
       "        text-align: right;\n",
       "    }\n",
       "</style>\n",
       "<table border=\"1\" class=\"dataframe\">\n",
       "  <thead>\n",
       "    <tr style=\"text-align: right;\">\n",
       "      <th></th>\n",
       "      <th>subtweets</th>\n",
       "      <th>total_tweets</th>\n",
       "      <th>percent_subtweets</th>\n",
       "    </tr>\n",
       "  </thead>\n",
       "  <tbody>\n",
       "    <tr>\n",
       "      <th>keithohara</th>\n",
       "      <td>334</td>\n",
       "      <td>1169</td>\n",
       "      <td>0.2857</td>\n",
       "    </tr>\n",
       "    <tr>\n",
       "      <th>kayleesue</th>\n",
       "      <td>942</td>\n",
       "      <td>1939</td>\n",
       "      <td>0.4858</td>\n",
       "    </tr>\n",
       "    <tr>\n",
       "      <th>scorpiodisaster</th>\n",
       "      <td>2918</td>\n",
       "      <td>5364</td>\n",
       "      <td>0.5440</td>\n",
       "    </tr>\n",
       "    <tr>\n",
       "      <th>akrapf96</th>\n",
       "      <td>1453</td>\n",
       "      <td>2640</td>\n",
       "      <td>0.5504</td>\n",
       "    </tr>\n",
       "    <tr>\n",
       "      <th>noahsegalgould</th>\n",
       "      <td>1577</td>\n",
       "      <td>2814</td>\n",
       "      <td>0.5604</td>\n",
       "    </tr>\n",
       "    <tr>\n",
       "      <th>gothodile</th>\n",
       "      <td>1987</td>\n",
       "      <td>3488</td>\n",
       "      <td>0.5697</td>\n",
       "    </tr>\n",
       "    <tr>\n",
       "      <th>juliaeberry</th>\n",
       "      <td>2652</td>\n",
       "      <td>4356</td>\n",
       "      <td>0.6088</td>\n",
       "    </tr>\n",
       "    <tr>\n",
       "      <th>zoeterhune</th>\n",
       "      <td>956</td>\n",
       "      <td>1467</td>\n",
       "      <td>0.6517</td>\n",
       "    </tr>\n",
       "    <tr>\n",
       "      <th>pumpkinheadgal</th>\n",
       "      <td>517</td>\n",
       "      <td>772</td>\n",
       "      <td>0.6697</td>\n",
       "    </tr>\n",
       "    <tr>\n",
       "      <th>whoisleormiller</th>\n",
       "      <td>578</td>\n",
       "      <td>853</td>\n",
       "      <td>0.6776</td>\n",
       "    </tr>\n",
       "    <tr>\n",
       "      <th>generatedtext</th>\n",
       "      <td>1460</td>\n",
       "      <td>2066</td>\n",
       "      <td>0.7067</td>\n",
       "    </tr>\n",
       "  </tbody>\n",
       "</table>\n",
       "</div>"
      ],
      "text/plain": [
       "                 subtweets  total_tweets  percent_subtweets\n",
       "keithohara             334          1169             0.2857\n",
       "kayleesue              942          1939             0.4858\n",
       "scorpiodisaster       2918          5364             0.5440\n",
       "akrapf96              1453          2640             0.5504\n",
       "noahsegalgould        1577          2814             0.5604\n",
       "gothodile             1987          3488             0.5697\n",
       "juliaeberry           2652          4356             0.6088\n",
       "zoeterhune             956          1467             0.6517\n",
       "pumpkinheadgal         517           772             0.6697\n",
       "whoisleormiller        578           853             0.6776\n",
       "generatedtext         1460          2066             0.7067"
      ]
     },
     "execution_count": 50,
     "metadata": {},
     "output_type": "execute_result"
    }
   ],
   "source": [
    "test_df_combined"
   ]
  },
  {
   "cell_type": "markdown",
   "metadata": {},
   "source": [
    "#### Min subtweeter"
   ]
  },
  {
   "cell_type": "code",
   "execution_count": 51,
   "metadata": {},
   "outputs": [],
   "source": [
    "min_sub = (test_df_combined.loc[test_df_combined.percent_subtweets==test_df_combined.percent_subtweets.min()]\n",
    "           .transpose())"
   ]
  },
  {
   "cell_type": "code",
   "execution_count": 52,
   "metadata": {},
   "outputs": [
    {
     "data": {
      "text/html": [
       "<div>\n",
       "<style scoped>\n",
       "    .dataframe tbody tr th:only-of-type {\n",
       "        vertical-align: middle;\n",
       "    }\n",
       "\n",
       "    .dataframe tbody tr th {\n",
       "        vertical-align: top;\n",
       "    }\n",
       "\n",
       "    .dataframe thead th {\n",
       "        text-align: right;\n",
       "    }\n",
       "</style>\n",
       "<table border=\"1\" class=\"dataframe\">\n",
       "  <thead>\n",
       "    <tr style=\"text-align: right;\">\n",
       "      <th></th>\n",
       "      <th>keithohara</th>\n",
       "    </tr>\n",
       "  </thead>\n",
       "  <tbody>\n",
       "    <tr>\n",
       "      <th>subtweets</th>\n",
       "      <td>334.0000</td>\n",
       "    </tr>\n",
       "    <tr>\n",
       "      <th>total_tweets</th>\n",
       "      <td>1169.0000</td>\n",
       "    </tr>\n",
       "    <tr>\n",
       "      <th>percent_subtweets</th>\n",
       "      <td>0.2857</td>\n",
       "    </tr>\n",
       "  </tbody>\n",
       "</table>\n",
       "</div>"
      ],
      "text/plain": [
       "                   keithohara\n",
       "subtweets            334.0000\n",
       "total_tweets        1169.0000\n",
       "percent_subtweets      0.2857"
      ]
     },
     "execution_count": 52,
     "metadata": {},
     "output_type": "execute_result"
    }
   ],
   "source": [
    "min_sub"
   ]
  },
  {
   "cell_type": "code",
   "execution_count": 53,
   "metadata": {},
   "outputs": [],
   "source": [
    "min_name = min_sub.columns[0]"
   ]
  },
  {
   "cell_type": "markdown",
   "metadata": {},
   "source": [
    "#### Median subtweeter"
   ]
  },
  {
   "cell_type": "code",
   "execution_count": 54,
   "metadata": {},
   "outputs": [],
   "source": [
    "med_sub = (test_df_combined.loc[test_df_combined.percent_subtweets==test_df_combined.percent_subtweets.median()]\n",
    "           .transpose())"
   ]
  },
  {
   "cell_type": "code",
   "execution_count": 55,
   "metadata": {},
   "outputs": [
    {
     "data": {
      "text/html": [
       "<div>\n",
       "<style scoped>\n",
       "    .dataframe tbody tr th:only-of-type {\n",
       "        vertical-align: middle;\n",
       "    }\n",
       "\n",
       "    .dataframe tbody tr th {\n",
       "        vertical-align: top;\n",
       "    }\n",
       "\n",
       "    .dataframe thead th {\n",
       "        text-align: right;\n",
       "    }\n",
       "</style>\n",
       "<table border=\"1\" class=\"dataframe\">\n",
       "  <thead>\n",
       "    <tr style=\"text-align: right;\">\n",
       "      <th></th>\n",
       "      <th>gothodile</th>\n",
       "    </tr>\n",
       "  </thead>\n",
       "  <tbody>\n",
       "    <tr>\n",
       "      <th>subtweets</th>\n",
       "      <td>1987.0000</td>\n",
       "    </tr>\n",
       "    <tr>\n",
       "      <th>total_tweets</th>\n",
       "      <td>3488.0000</td>\n",
       "    </tr>\n",
       "    <tr>\n",
       "      <th>percent_subtweets</th>\n",
       "      <td>0.5697</td>\n",
       "    </tr>\n",
       "  </tbody>\n",
       "</table>\n",
       "</div>"
      ],
      "text/plain": [
       "                   gothodile\n",
       "subtweets          1987.0000\n",
       "total_tweets       3488.0000\n",
       "percent_subtweets     0.5697"
      ]
     },
     "execution_count": 55,
     "metadata": {},
     "output_type": "execute_result"
    }
   ],
   "source": [
    "med_sub"
   ]
  },
  {
   "cell_type": "code",
   "execution_count": 56,
   "metadata": {},
   "outputs": [],
   "source": [
    "med_name = med_sub.columns[0]"
   ]
  },
  {
   "cell_type": "markdown",
   "metadata": {},
   "source": [
    "#### Maximum subtweeter"
   ]
  },
  {
   "cell_type": "code",
   "execution_count": 57,
   "metadata": {},
   "outputs": [],
   "source": [
    "max_sub = (test_df_combined.loc[test_df_combined.percent_subtweets==test_df_combined.percent_subtweets.max()]\n",
    "           .transpose())"
   ]
  },
  {
   "cell_type": "code",
   "execution_count": 58,
   "metadata": {},
   "outputs": [
    {
     "data": {
      "text/html": [
       "<div>\n",
       "<style scoped>\n",
       "    .dataframe tbody tr th:only-of-type {\n",
       "        vertical-align: middle;\n",
       "    }\n",
       "\n",
       "    .dataframe tbody tr th {\n",
       "        vertical-align: top;\n",
       "    }\n",
       "\n",
       "    .dataframe thead th {\n",
       "        text-align: right;\n",
       "    }\n",
       "</style>\n",
       "<table border=\"1\" class=\"dataframe\">\n",
       "  <thead>\n",
       "    <tr style=\"text-align: right;\">\n",
       "      <th></th>\n",
       "      <th>generatedtext</th>\n",
       "    </tr>\n",
       "  </thead>\n",
       "  <tbody>\n",
       "    <tr>\n",
       "      <th>subtweets</th>\n",
       "      <td>1460.0000</td>\n",
       "    </tr>\n",
       "    <tr>\n",
       "      <th>total_tweets</th>\n",
       "      <td>2066.0000</td>\n",
       "    </tr>\n",
       "    <tr>\n",
       "      <th>percent_subtweets</th>\n",
       "      <td>0.7067</td>\n",
       "    </tr>\n",
       "  </tbody>\n",
       "</table>\n",
       "</div>"
      ],
      "text/plain": [
       "                   generatedtext\n",
       "subtweets              1460.0000\n",
       "total_tweets           2066.0000\n",
       "percent_subtweets         0.7067"
      ]
     },
     "execution_count": 58,
     "metadata": {},
     "output_type": "execute_result"
    }
   ],
   "source": [
    "max_sub"
   ]
  },
  {
   "cell_type": "code",
   "execution_count": 59,
   "metadata": {},
   "outputs": [],
   "source": [
    "max_name = max_sub.columns[0]"
   ]
  },
  {
   "cell_type": "markdown",
   "metadata": {},
   "source": [
    "#### Plot a histogram with three random users"
   ]
  },
  {
   "cell_type": "code",
   "execution_count": 60,
   "metadata": {},
   "outputs": [
    {
     "name": "stdout",
     "output_type": "stream",
     "text": [
      "[0.43124774187297815, 0.11470247621812371]\n",
      "[0.5181890043086139, 0.12907908918041683]\n",
      "[0.5625465100894748, 0.12051928373485082]\n"
     ]
    },
    {
     "data": {
      "image/png": "[encoded data removed]",
      "text/plain": [
       "<Figure size 1152x648 with 1 Axes>"
      ]
     },
     "metadata": {},
     "output_type": "display_data"
    }
   ],
   "source": [
    "choices = [dataframes[min_name], dataframes[med_name], dataframes[max_name]]\n",
    "scores = [df_dict[\"scores\"][df_dict[\"scores\"].columns[0]].tolist() \n",
    "          for df_dict in choices]\n",
    "\n",
    "fig = plt.figure(figsize=(16, 9))\n",
    "ax = fig.add_subplot(111)\n",
    "\n",
    "n, bins, patches = ax.hist(scores, \n",
    "                           bins=\"scott\",\n",
    "                           color=[\"#FA8072\", \"#B0A6A4\", \"#FC1501\"],\n",
    "                           density=True, \n",
    "                           label=[\"Minimum Subtweeter\", \"Median Subtweeter\", \"Maximum Subtweeter\"],\n",
    "                           alpha=0.75)\n",
    "\n",
    "stats = [df_dict[\"stats\"][df_dict[\"stats\"].columns[0]].tolist() \n",
    "         for df_dict in choices]\n",
    "for e in stats:\n",
    "    print(e[1:3])\n",
    "line_1 = scipy.stats.norm.pdf(bins, stats[0][1], stats[0][2])\n",
    "ax.plot(bins, line_1, \"--\", color=\"#FA8072\", linewidth=2)\n",
    "\n",
    "line_2 = scipy.stats.norm.pdf(bins, stats[1][1], stats[1][2])\n",
    "ax.plot(bins, line_2, \"--\", color=\"#B0A6A4\", linewidth=2)\n",
    "\n",
    "line_3 = scipy.stats.norm.pdf(bins, stats[2][1], stats[2][2])\n",
    "ax.plot(bins, line_3, \"--\", color=\"#FC1501\", linewidth=2)\n",
    "\n",
    "ax.set_xticks([float(x/10) for x in range(11)], minor=False)\n",
    "ax.set_title(\"Distribution of Subtweet Probabilities In User Accounts\", fontsize=18)\n",
    "ax.set_xlabel(\"Probability That Tweet is a Subtweet\", fontsize=18)\n",
    "ax.set_ylabel(\"Percent of Tweets with That Probability\", fontsize=18)\n",
    "\n",
    "ax.legend()\n",
    "\n",
    "plt.show()"
   ]
  },
  {
   "cell_type": "markdown",
   "metadata": {},
   "source": [
    "#### Plot a histogram with all of them\n",
    "#### First, get some statistics"
   ]
  },
  {
   "cell_type": "code",
   "execution_count": 61,
   "metadata": {},
   "outputs": [],
   "source": [
    "new_tests_df = pd.concat([df_dict[\"scores\"].rename(columns={df_dict[\"scores\"].columns[0]:\"SubtweetProbability\"})\n",
    "                          for df_dict in dataframes.values()], ignore_index=True)\n",
    "\n",
    "new_tests_df_stats = new_tests_df.describe()"
   ]
  },
  {
   "cell_type": "markdown",
   "metadata": {},
   "source": [
    "#### Then view them"
   ]
  },
  {
   "cell_type": "code",
   "execution_count": 62,
   "metadata": {},
   "outputs": [
    {
     "data": {
      "text/html": [
       "<div>\n",
       "<style scoped>\n",
       "    .dataframe tbody tr th:only-of-type {\n",
       "        vertical-align: middle;\n",
       "    }\n",
       "\n",
       "    .dataframe tbody tr th {\n",
       "        vertical-align: top;\n",
       "    }\n",
       "\n",
       "    .dataframe thead th {\n",
       "        text-align: right;\n",
       "    }\n",
       "</style>\n",
       "<table border=\"1\" class=\"dataframe\">\n",
       "  <thead>\n",
       "    <tr style=\"text-align: right;\">\n",
       "      <th></th>\n",
       "      <th>SubtweetProbability</th>\n",
       "    </tr>\n",
       "  </thead>\n",
       "  <tbody>\n",
       "    <tr>\n",
       "      <th>count</th>\n",
       "      <td>26928.0000</td>\n",
       "    </tr>\n",
       "    <tr>\n",
       "      <th>mean</th>\n",
       "      <td>0.5172</td>\n",
       "    </tr>\n",
       "    <tr>\n",
       "      <th>std</th>\n",
       "      <td>0.1262</td>\n",
       "    </tr>\n",
       "    <tr>\n",
       "      <th>min</th>\n",
       "      <td>0.0219</td>\n",
       "    </tr>\n",
       "    <tr>\n",
       "      <th>25%</th>\n",
       "      <td>0.4360</td>\n",
       "    </tr>\n",
       "    <tr>\n",
       "      <th>50%</th>\n",
       "      <td>0.5191</td>\n",
       "    </tr>\n",
       "    <tr>\n",
       "      <th>75%</th>\n",
       "      <td>0.6008</td>\n",
       "    </tr>\n",
       "    <tr>\n",
       "      <th>max</th>\n",
       "      <td>0.9537</td>\n",
       "    </tr>\n",
       "  </tbody>\n",
       "</table>\n",
       "</div>"
      ],
      "text/plain": [
       "       SubtweetProbability\n",
       "count           26928.0000\n",
       "mean                0.5172\n",
       "std                 0.1262\n",
       "min                 0.0219\n",
       "25%                 0.4360\n",
       "50%                 0.5191\n",
       "75%                 0.6008\n",
       "max                 0.9537"
      ]
     },
     "execution_count": 62,
     "metadata": {},
     "output_type": "execute_result"
    }
   ],
   "source": [
    "new_tests_df.describe()"
   ]
  },
  {
   "cell_type": "markdown",
   "metadata": {},
   "source": [
    "#### Now plot"
   ]
  },
  {
   "cell_type": "code",
   "execution_count": 63,
   "metadata": {},
   "outputs": [
    {
     "name": "stderr",
     "output_type": "stream",
     "text": [
      "No handles with labels found to put in legend.\n"
     ]
    },
    {
     "name": "stdout",
     "output_type": "stream",
     "text": [
      "0.5172188068814326\n",
      "0.12617331042417565\n"
     ]
    },
    {
     "data": {
      "image/png": "[encoded data removed]",
      "text/plain": [
       "<Figure size 1152x648 with 1 Axes>"
      ]
     },
     "metadata": {},
     "output_type": "display_data"
    }
   ],
   "source": [
    "fig = plt.figure(figsize=(16, 9))\n",
    "ax = fig.add_subplot(111)\n",
    "\n",
    "n, bins, patches = ax.hist(new_tests_df[\"SubtweetProbability\"].tolist(), \n",
    "                           bins=\"scott\",\n",
    "                           color=\"#6E8B3D\",\n",
    "                           edgecolor=\"black\", \n",
    "                           density=True, \n",
    "                           alpha=0.75)\n",
    "print(new_tests_df_stats[\"SubtweetProbability\"][1])\n",
    "print(new_tests_df_stats[\"SubtweetProbability\"][2])\n",
    "line = scipy.stats.norm.pdf(bins, new_tests_df_stats[\"SubtweetProbability\"][1], \n",
    "                            new_tests_df_stats[\"SubtweetProbability\"][2])\n",
    "\n",
    "ax.plot(bins, line, \"--\", color=\"#6E8B3D\", linewidth=2)\n",
    "\n",
    "\n",
    "ax.set_xticks([float(x/10) for x in range(11)], minor=False)\n",
    "ax.set_title(\"Distribution of Subtweet Probabilities In All User Accounts\", fontsize=18)\n",
    "ax.set_xlabel(\"Probability That Tweet is a Subtweet\", fontsize=18)\n",
    "ax.set_ylabel(\"Percent of Tweets with That Probability\", fontsize=18)\n",
    "\n",
    "ax.legend()\n",
    "\n",
    "plt.show()"
   ]
  },
  {
   "cell_type": "markdown",
   "metadata": {},
   "source": [
    "#### Statisitics on training data"
   ]
  },
  {
   "cell_type": "markdown",
   "metadata": {},
   "source": [
    "#### Remove generic tokens for these statistics"
   ]
  },
  {
   "cell_type": "code",
   "execution_count": 64,
   "metadata": {},
   "outputs": [],
   "source": [
    "subtweets_data = [tweet[0] for tweet in subtweets_data]\n",
    "non_subtweets_data = [tweet[0] for tweet in non_subtweets_data]"
   ]
  },
  {
   "cell_type": "markdown",
   "metadata": {},
   "source": [
    "#### Lengths"
   ]
  },
  {
   "cell_type": "code",
   "execution_count": 65,
   "metadata": {},
   "outputs": [],
   "source": [
    "length_data_subtweets = [len(tweet) for tweet in subtweets_data]\n",
    "length_data_non_subtweets = [len(tweet) for tweet in non_subtweets_data]"
   ]
  },
  {
   "cell_type": "code",
   "execution_count": 66,
   "metadata": {},
   "outputs": [],
   "source": [
    "length_data_for_stats_subtweets = pd.DataFrame({\"Length\": length_data_subtweets, \n",
    "                                                \"Tweet\": subtweets_data})\n",
    "length_data_for_stats_non_subtweets = pd.DataFrame({\"Length\": length_data_non_subtweets, \n",
    "                                                    \"Tweet\": non_subtweets_data})"
   ]
  },
  {
   "cell_type": "markdown",
   "metadata": {},
   "source": [
    "#### Tweet length statistics"
   ]
  },
  {
   "cell_type": "code",
   "execution_count": 67,
   "metadata": {},
   "outputs": [
    {
     "data": {
      "text/html": [
       "<div>\n",
       "<style scoped>\n",
       "    .dataframe tbody tr th:only-of-type {\n",
       "        vertical-align: middle;\n",
       "    }\n",
       "\n",
       "    .dataframe tbody tr th {\n",
       "        vertical-align: top;\n",
       "    }\n",
       "\n",
       "    .dataframe thead th {\n",
       "        text-align: right;\n",
       "    }\n",
       "</style>\n",
       "<table border=\"1\" class=\"dataframe\">\n",
       "  <thead>\n",
       "    <tr style=\"text-align: right;\">\n",
       "      <th></th>\n",
       "      <th>Length</th>\n",
       "    </tr>\n",
       "  </thead>\n",
       "  <tbody>\n",
       "    <tr>\n",
       "      <th>count</th>\n",
       "      <td>11288.0000</td>\n",
       "    </tr>\n",
       "    <tr>\n",
       "      <th>mean</th>\n",
       "      <td>103.7098</td>\n",
       "    </tr>\n",
       "    <tr>\n",
       "      <th>std</th>\n",
       "      <td>71.9859</td>\n",
       "    </tr>\n",
       "    <tr>\n",
       "      <th>min</th>\n",
       "      <td>4.0000</td>\n",
       "    </tr>\n",
       "    <tr>\n",
       "      <th>25%</th>\n",
       "      <td>47.0000</td>\n",
       "    </tr>\n",
       "    <tr>\n",
       "      <th>50%</th>\n",
       "      <td>84.0000</td>\n",
       "    </tr>\n",
       "    <tr>\n",
       "      <th>75%</th>\n",
       "      <td>143.0000</td>\n",
       "    </tr>\n",
       "    <tr>\n",
       "      <th>max</th>\n",
       "      <td>282.0000</td>\n",
       "    </tr>\n",
       "  </tbody>\n",
       "</table>\n",
       "</div>"
      ],
      "text/plain": [
       "          Length\n",
       "count 11288.0000\n",
       "mean    103.7098\n",
       "std      71.9859\n",
       "min       4.0000\n",
       "25%      47.0000\n",
       "50%      84.0000\n",
       "75%     143.0000\n",
       "max     282.0000"
      ]
     },
     "execution_count": 67,
     "metadata": {},
     "output_type": "execute_result"
    }
   ],
   "source": [
    "length_data_for_stats_subtweets.describe()"
   ]
  },
  {
   "cell_type": "code",
   "execution_count": 68,
   "metadata": {},
   "outputs": [
    {
     "data": {
      "text/html": [
       "<div>\n",
       "<style scoped>\n",
       "    .dataframe tbody tr th:only-of-type {\n",
       "        vertical-align: middle;\n",
       "    }\n",
       "\n",
       "    .dataframe tbody tr th {\n",
       "        vertical-align: top;\n",
       "    }\n",
       "\n",
       "    .dataframe thead th {\n",
       "        text-align: right;\n",
       "    }\n",
       "</style>\n",
       "<table border=\"1\" class=\"dataframe\">\n",
       "  <thead>\n",
       "    <tr style=\"text-align: right;\">\n",
       "      <th></th>\n",
       "      <th>Length</th>\n",
       "    </tr>\n",
       "  </thead>\n",
       "  <tbody>\n",
       "    <tr>\n",
       "      <th>count</th>\n",
       "      <td>11288.0000</td>\n",
       "    </tr>\n",
       "    <tr>\n",
       "      <th>mean</th>\n",
       "      <td>104.9724</td>\n",
       "    </tr>\n",
       "    <tr>\n",
       "      <th>std</th>\n",
       "      <td>74.8360</td>\n",
       "    </tr>\n",
       "    <tr>\n",
       "      <th>min</th>\n",
       "      <td>5.0000</td>\n",
       "    </tr>\n",
       "    <tr>\n",
       "      <th>25%</th>\n",
       "      <td>45.0000</td>\n",
       "    </tr>\n",
       "    <tr>\n",
       "      <th>50%</th>\n",
       "      <td>84.0000</td>\n",
       "    </tr>\n",
       "    <tr>\n",
       "      <th>75%</th>\n",
       "      <td>149.0000</td>\n",
       "    </tr>\n",
       "    <tr>\n",
       "      <th>max</th>\n",
       "      <td>343.0000</td>\n",
       "    </tr>\n",
       "  </tbody>\n",
       "</table>\n",
       "</div>"
      ],
      "text/plain": [
       "          Length\n",
       "count 11288.0000\n",
       "mean    104.9724\n",
       "std      74.8360\n",
       "min       5.0000\n",
       "25%      45.0000\n",
       "50%      84.0000\n",
       "75%     149.0000\n",
       "max     343.0000"
      ]
     },
     "execution_count": 68,
     "metadata": {},
     "output_type": "execute_result"
    }
   ],
   "source": [
    "length_data_for_stats_non_subtweets.describe()"
   ]
  },
  {
   "cell_type": "markdown",
   "metadata": {},
   "source": [
    "#### Punctuation"
   ]
  },
  {
   "cell_type": "code",
   "execution_count": 69,
   "metadata": {},
   "outputs": [],
   "source": [
    "punctuation_data_subtweets = [len(set(punctuation).intersection(set(tweet))) \n",
    "                              for tweet in subtweets_data]\n",
    "punctuation_data_non_subtweets = [len(set(punctuation).intersection(set(tweet))) \n",
    "                                  for tweet in non_subtweets_data]"
   ]
  },
  {
   "cell_type": "code",
   "execution_count": 70,
   "metadata": {},
   "outputs": [],
   "source": [
    "punctuation_data_for_stats_subtweets = pd.DataFrame({\"Punctuation\": punctuation_data_subtweets, \n",
    "                                                     \"Tweet\": subtweets_data})\n",
    "punctuation_data_for_stats_non_subtweets = pd.DataFrame({\"Punctuation\": punctuation_data_non_subtweets, \n",
    "                                                         \"Tweet\": non_subtweets_data})"
   ]
  },
  {
   "cell_type": "code",
   "execution_count": 71,
   "metadata": {},
   "outputs": [
    {
     "data": {
      "text/html": [
       "<div>\n",
       "<style scoped>\n",
       "    .dataframe tbody tr th:only-of-type {\n",
       "        vertical-align: middle;\n",
       "    }\n",
       "\n",
       "    .dataframe tbody tr th {\n",
       "        vertical-align: top;\n",
       "    }\n",
       "\n",
       "    .dataframe thead th {\n",
       "        text-align: right;\n",
       "    }\n",
       "</style>\n",
       "<table border=\"1\" class=\"dataframe\">\n",
       "  <thead>\n",
       "    <tr style=\"text-align: right;\">\n",
       "      <th></th>\n",
       "      <th>Punctuation</th>\n",
       "    </tr>\n",
       "  </thead>\n",
       "  <tbody>\n",
       "    <tr>\n",
       "      <th>count</th>\n",
       "      <td>11288.0000</td>\n",
       "    </tr>\n",
       "    <tr>\n",
       "      <th>mean</th>\n",
       "      <td>1.7892</td>\n",
       "    </tr>\n",
       "    <tr>\n",
       "      <th>std</th>\n",
       "      <td>1.5407</td>\n",
       "    </tr>\n",
       "    <tr>\n",
       "      <th>min</th>\n",
       "      <td>0.0000</td>\n",
       "    </tr>\n",
       "    <tr>\n",
       "      <th>25%</th>\n",
       "      <td>1.0000</td>\n",
       "    </tr>\n",
       "    <tr>\n",
       "      <th>50%</th>\n",
       "      <td>2.0000</td>\n",
       "    </tr>\n",
       "    <tr>\n",
       "      <th>75%</th>\n",
       "      <td>3.0000</td>\n",
       "    </tr>\n",
       "    <tr>\n",
       "      <th>max</th>\n",
       "      <td>13.0000</td>\n",
       "    </tr>\n",
       "  </tbody>\n",
       "</table>\n",
       "</div>"
      ],
      "text/plain": [
       "       Punctuation\n",
       "count   11288.0000\n",
       "mean        1.7892\n",
       "std         1.5407\n",
       "min         0.0000\n",
       "25%         1.0000\n",
       "50%         2.0000\n",
       "75%         3.0000\n",
       "max        13.0000"
      ]
     },
     "execution_count": 71,
     "metadata": {},
     "output_type": "execute_result"
    }
   ],
   "source": [
    "punctuation_data_for_stats_subtweets.describe()"
   ]
  },
  {
   "cell_type": "code",
   "execution_count": 72,
   "metadata": {},
   "outputs": [
    {
     "data": {
      "text/html": [
       "<div>\n",
       "<style scoped>\n",
       "    .dataframe tbody tr th:only-of-type {\n",
       "        vertical-align: middle;\n",
       "    }\n",
       "\n",
       "    .dataframe tbody tr th {\n",
       "        vertical-align: top;\n",
       "    }\n",
       "\n",
       "    .dataframe thead th {\n",
       "        text-align: right;\n",
       "    }\n",
       "</style>\n",
       "<table border=\"1\" class=\"dataframe\">\n",
       "  <thead>\n",
       "    <tr style=\"text-align: right;\">\n",
       "      <th></th>\n",
       "      <th>Punctuation</th>\n",
       "    </tr>\n",
       "  </thead>\n",
       "  <tbody>\n",
       "    <tr>\n",
       "      <th>count</th>\n",
       "      <td>11288.0000</td>\n",
       "    </tr>\n",
       "    <tr>\n",
       "      <th>mean</th>\n",
       "      <td>2.1615</td>\n",
       "    </tr>\n",
       "    <tr>\n",
       "      <th>std</th>\n",
       "      <td>1.6928</td>\n",
       "    </tr>\n",
       "    <tr>\n",
       "      <th>min</th>\n",
       "      <td>0.0000</td>\n",
       "    </tr>\n",
       "    <tr>\n",
       "      <th>25%</th>\n",
       "      <td>1.0000</td>\n",
       "    </tr>\n",
       "    <tr>\n",
       "      <th>50%</th>\n",
       "      <td>2.0000</td>\n",
       "    </tr>\n",
       "    <tr>\n",
       "      <th>75%</th>\n",
       "      <td>3.0000</td>\n",
       "    </tr>\n",
       "    <tr>\n",
       "      <th>max</th>\n",
       "      <td>11.0000</td>\n",
       "    </tr>\n",
       "  </tbody>\n",
       "</table>\n",
       "</div>"
      ],
      "text/plain": [
       "       Punctuation\n",
       "count   11288.0000\n",
       "mean        2.1615\n",
       "std         1.6928\n",
       "min         0.0000\n",
       "25%         1.0000\n",
       "50%         2.0000\n",
       "75%         3.0000\n",
       "max        11.0000"
      ]
     },
     "execution_count": 72,
     "metadata": {},
     "output_type": "execute_result"
    }
   ],
   "source": [
    "punctuation_data_for_stats_non_subtweets.describe()"
   ]
  },
  {
   "cell_type": "markdown",
   "metadata": {},
   "source": [
    "#### Stop words"
   ]
  },
  {
   "cell_type": "code",
   "execution_count": 73,
   "metadata": {},
   "outputs": [],
   "source": [
    "stop_words_data_subtweets = [len(set(stopwords.words(\"english\")).intersection(set(tweet.lower()))) \n",
    "                             for tweet in subtweets_data]\n",
    "stop_words_data_non_subtweets = [len(set(stopwords.words(\"english\")).intersection(set(tweet.lower()))) \n",
    "                                 for tweet in non_subtweets_data]"
   ]
  },
  {
   "cell_type": "code",
   "execution_count": 74,
   "metadata": {},
   "outputs": [],
   "source": [
    "stop_words_data_for_stats_subtweets = pd.DataFrame({\"Stop words\": stop_words_data_subtweets, \n",
    "                                                    \"Tweet\": subtweets_data})\n",
    "stop_words_data_for_stats_non_subtweets = pd.DataFrame({\"Stop words\": stop_words_data_non_subtweets, \n",
    "                                                        \"Tweet\": non_subtweets_data})"
   ]
  },
  {
   "cell_type": "markdown",
   "metadata": {},
   "source": [
    "#### Tweets stop words statistics"
   ]
  },
  {
   "cell_type": "code",
   "execution_count": 75,
   "metadata": {},
   "outputs": [
    {
     "data": {
      "text/html": [
       "<div>\n",
       "<style scoped>\n",
       "    .dataframe tbody tr th:only-of-type {\n",
       "        vertical-align: middle;\n",
       "    }\n",
       "\n",
       "    .dataframe tbody tr th {\n",
       "        vertical-align: top;\n",
       "    }\n",
       "\n",
       "    .dataframe thead th {\n",
       "        text-align: right;\n",
       "    }\n",
       "</style>\n",
       "<table border=\"1\" class=\"dataframe\">\n",
       "  <thead>\n",
       "    <tr style=\"text-align: right;\">\n",
       "      <th></th>\n",
       "      <th>Stop words</th>\n",
       "    </tr>\n",
       "  </thead>\n",
       "  <tbody>\n",
       "    <tr>\n",
       "      <th>count</th>\n",
       "      <td>11288.0000</td>\n",
       "    </tr>\n",
       "    <tr>\n",
       "      <th>mean</th>\n",
       "      <td>7.1411</td>\n",
       "    </tr>\n",
       "    <tr>\n",
       "      <th>std</th>\n",
       "      <td>1.3108</td>\n",
       "    </tr>\n",
       "    <tr>\n",
       "      <th>min</th>\n",
       "      <td>0.0000</td>\n",
       "    </tr>\n",
       "    <tr>\n",
       "      <th>25%</th>\n",
       "      <td>7.0000</td>\n",
       "    </tr>\n",
       "    <tr>\n",
       "      <th>50%</th>\n",
       "      <td>8.0000</td>\n",
       "    </tr>\n",
       "    <tr>\n",
       "      <th>75%</th>\n",
       "      <td>8.0000</td>\n",
       "    </tr>\n",
       "    <tr>\n",
       "      <th>max</th>\n",
       "      <td>8.0000</td>\n",
       "    </tr>\n",
       "  </tbody>\n",
       "</table>\n",
       "</div>"
      ],
      "text/plain": [
       "       Stop words\n",
       "count  11288.0000\n",
       "mean       7.1411\n",
       "std        1.3108\n",
       "min        0.0000\n",
       "25%        7.0000\n",
       "50%        8.0000\n",
       "75%        8.0000\n",
       "max        8.0000"
      ]
     },
     "execution_count": 75,
     "metadata": {},
     "output_type": "execute_result"
    }
   ],
   "source": [
    "stop_words_data_for_stats_subtweets.describe()"
   ]
  },
  {
   "cell_type": "code",
   "execution_count": 76,
   "metadata": {},
   "outputs": [
    {
     "data": {
      "text/html": [
       "<div>\n",
       "<style scoped>\n",
       "    .dataframe tbody tr th:only-of-type {\n",
       "        vertical-align: middle;\n",
       "    }\n",
       "\n",
       "    .dataframe tbody tr th {\n",
       "        vertical-align: top;\n",
       "    }\n",
       "\n",
       "    .dataframe thead th {\n",
       "        text-align: right;\n",
       "    }\n",
       "</style>\n",
       "<table border=\"1\" class=\"dataframe\">\n",
       "  <thead>\n",
       "    <tr style=\"text-align: right;\">\n",
       "      <th></th>\n",
       "      <th>Stop words</th>\n",
       "    </tr>\n",
       "  </thead>\n",
       "  <tbody>\n",
       "    <tr>\n",
       "      <th>count</th>\n",
       "      <td>11288.0000</td>\n",
       "    </tr>\n",
       "    <tr>\n",
       "      <th>mean</th>\n",
       "      <td>7.0456</td>\n",
       "    </tr>\n",
       "    <tr>\n",
       "      <th>std</th>\n",
       "      <td>1.3925</td>\n",
       "    </tr>\n",
       "    <tr>\n",
       "      <th>min</th>\n",
       "      <td>0.0000</td>\n",
       "    </tr>\n",
       "    <tr>\n",
       "      <th>25%</th>\n",
       "      <td>7.0000</td>\n",
       "    </tr>\n",
       "    <tr>\n",
       "      <th>50%</th>\n",
       "      <td>8.0000</td>\n",
       "    </tr>\n",
       "    <tr>\n",
       "      <th>75%</th>\n",
       "      <td>8.0000</td>\n",
       "    </tr>\n",
       "    <tr>\n",
       "      <th>max</th>\n",
       "      <td>8.0000</td>\n",
       "    </tr>\n",
       "  </tbody>\n",
       "</table>\n",
       "</div>"
      ],
      "text/plain": [
       "       Stop words\n",
       "count  11288.0000\n",
       "mean       7.0456\n",
       "std        1.3925\n",
       "min        0.0000\n",
       "25%        7.0000\n",
       "50%        8.0000\n",
       "75%        8.0000\n",
       "max        8.0000"
      ]
     },
     "execution_count": 76,
     "metadata": {},
     "output_type": "execute_result"
    }
   ],
   "source": [
    "stop_words_data_for_stats_non_subtweets.describe()"
   ]
  },
  {
   "cell_type": "markdown",
   "metadata": {},
   "source": [
    "#### Unique words"
   ]
  },
  {
   "cell_type": "code",
   "execution_count": 77,
   "metadata": {},
   "outputs": [],
   "source": [
    "unique_words_data_subtweets = [sum([english_dict.check(token) \n",
    "                                    for token in set(tokenizer.tokenize(tweet))]) \n",
    "                               for tweet in subtweets_data]\n",
    "unique_words_data_non_subtweets = [sum([english_dict.check(token) \n",
    "                                        for token in set(tokenizer.tokenize(tweet))]) \n",
    "                                   for tweet in non_subtweets_data]"
   ]
  },
  {
   "cell_type": "code",
   "execution_count": 78,
   "metadata": {},
   "outputs": [],
   "source": [
    "unique_words_data_for_stats_subtweets = pd.DataFrame({\"Unique words\": unique_words_data_subtweets, \n",
    "                                                      \"Tweet\": subtweets_data})\n",
    "unique_words_data_for_stats_non_subtweets = pd.DataFrame({\"Unique words\": unique_words_data_non_subtweets, \n",
    "                                                          \"Tweet\": non_subtweets_data})"
   ]
  },
  {
   "cell_type": "markdown",
   "metadata": {},
   "source": [
    "#### Tweets unique words statistics"
   ]
  },
  {
   "cell_type": "code",
   "execution_count": 79,
   "metadata": {},
   "outputs": [
    {
     "data": {
      "text/html": [
       "<div>\n",
       "<style scoped>\n",
       "    .dataframe tbody tr th:only-of-type {\n",
       "        vertical-align: middle;\n",
       "    }\n",
       "\n",
       "    .dataframe tbody tr th {\n",
       "        vertical-align: top;\n",
       "    }\n",
       "\n",
       "    .dataframe thead th {\n",
       "        text-align: right;\n",
       "    }\n",
       "</style>\n",
       "<table border=\"1\" class=\"dataframe\">\n",
       "  <thead>\n",
       "    <tr style=\"text-align: right;\">\n",
       "      <th></th>\n",
       "      <th>Unique words</th>\n",
       "    </tr>\n",
       "  </thead>\n",
       "  <tbody>\n",
       "    <tr>\n",
       "      <th>count</th>\n",
       "      <td>11288.0000</td>\n",
       "    </tr>\n",
       "    <tr>\n",
       "      <th>mean</th>\n",
       "      <td>16.7966</td>\n",
       "    </tr>\n",
       "    <tr>\n",
       "      <th>std</th>\n",
       "      <td>10.9451</td>\n",
       "    </tr>\n",
       "    <tr>\n",
       "      <th>min</th>\n",
       "      <td>1.0000</td>\n",
       "    </tr>\n",
       "    <tr>\n",
       "      <th>25%</th>\n",
       "      <td>8.0000</td>\n",
       "    </tr>\n",
       "    <tr>\n",
       "      <th>50%</th>\n",
       "      <td>14.0000</td>\n",
       "    </tr>\n",
       "    <tr>\n",
       "      <th>75%</th>\n",
       "      <td>23.0000</td>\n",
       "    </tr>\n",
       "    <tr>\n",
       "      <th>max</th>\n",
       "      <td>55.0000</td>\n",
       "    </tr>\n",
       "  </tbody>\n",
       "</table>\n",
       "</div>"
      ],
      "text/plain": [
       "       Unique words\n",
       "count    11288.0000\n",
       "mean        16.7966\n",
       "std         10.9451\n",
       "min          1.0000\n",
       "25%          8.0000\n",
       "50%         14.0000\n",
       "75%         23.0000\n",
       "max         55.0000"
      ]
     },
     "execution_count": 79,
     "metadata": {},
     "output_type": "execute_result"
    }
   ],
   "source": [
    "unique_words_data_for_stats_subtweets.describe()"
   ]
  },
  {
   "cell_type": "code",
   "execution_count": 80,
   "metadata": {},
   "outputs": [
    {
     "data": {
      "text/html": [
       "<div>\n",
       "<style scoped>\n",
       "    .dataframe tbody tr th:only-of-type {\n",
       "        vertical-align: middle;\n",
       "    }\n",
       "\n",
       "    .dataframe tbody tr th {\n",
       "        vertical-align: top;\n",
       "    }\n",
       "\n",
       "    .dataframe thead th {\n",
       "        text-align: right;\n",
       "    }\n",
       "</style>\n",
       "<table border=\"1\" class=\"dataframe\">\n",
       "  <thead>\n",
       "    <tr style=\"text-align: right;\">\n",
       "      <th></th>\n",
       "      <th>Unique words</th>\n",
       "    </tr>\n",
       "  </thead>\n",
       "  <tbody>\n",
       "    <tr>\n",
       "      <th>count</th>\n",
       "      <td>11288.0000</td>\n",
       "    </tr>\n",
       "    <tr>\n",
       "      <th>mean</th>\n",
       "      <td>16.1331</td>\n",
       "    </tr>\n",
       "    <tr>\n",
       "      <th>std</th>\n",
       "      <td>11.1662</td>\n",
       "    </tr>\n",
       "    <tr>\n",
       "      <th>min</th>\n",
       "      <td>1.0000</td>\n",
       "    </tr>\n",
       "    <tr>\n",
       "      <th>25%</th>\n",
       "      <td>7.0000</td>\n",
       "    </tr>\n",
       "    <tr>\n",
       "      <th>50%</th>\n",
       "      <td>13.0000</td>\n",
       "    </tr>\n",
       "    <tr>\n",
       "      <th>75%</th>\n",
       "      <td>23.0000</td>\n",
       "    </tr>\n",
       "    <tr>\n",
       "      <th>max</th>\n",
       "      <td>50.0000</td>\n",
       "    </tr>\n",
       "  </tbody>\n",
       "</table>\n",
       "</div>"
      ],
      "text/plain": [
       "       Unique words\n",
       "count    11288.0000\n",
       "mean        16.1331\n",
       "std         11.1662\n",
       "min          1.0000\n",
       "25%          7.0000\n",
       "50%         13.0000\n",
       "75%         23.0000\n",
       "max         50.0000"
      ]
     },
     "execution_count": 80,
     "metadata": {},
     "output_type": "execute_result"
    }
   ],
   "source": [
    "unique_words_data_for_stats_non_subtweets.describe()"
   ]
  },
  {
   "cell_type": "markdown",
   "metadata": {},
   "source": [
    "#### Plot them"
   ]
  },
  {
   "cell_type": "code",
   "execution_count": 81,
   "metadata": {},
   "outputs": [
    {
     "data": {
      "image/png": "[encoded data removed]",
      "text/plain": [
       "<Figure size 1152x648 with 1 Axes>"
      ]
     },
     "metadata": {},
     "output_type": "display_data"
    }
   ],
   "source": [
    "fig = plt.figure(figsize=(16, 9))\n",
    "ax = fig.add_subplot(111)\n",
    "\n",
    "n, bins, patches = ax.hist([length_data_subtweets, length_data_non_subtweets], \n",
    "                           bins=\"sturges\", \n",
    "                           edgecolor=\"black\", \n",
    "                           color=[\"#B4436C\", \"#3066BE\"],\n",
    "                           alpha=0.8)\n",
    "ax.legend([\"Subtweets\", \"Non-Subtweets\"], loc=\"best\")\n",
    "ax.set_title(\"Training Dataset Distribution of Tweet Lengths\", fontsize=18)\n",
    "ax.set_xlabel(\"Tweet Length\", fontsize=18);\n",
    "ax.set_ylabel(\"Number of Tweets with That Length\", fontsize=18);\n",
    "\n",
    "plt.show()"
   ]
  },
  {
   "cell_type": "code",
   "execution_count": 82,
   "metadata": {},
   "outputs": [
    {
     "data": {
      "image/png": "[encoded data removed]",
      "text/plain": [
       "<Figure size 1152x648 with 1 Axes>"
      ]
     },
     "metadata": {},
     "output_type": "display_data"
    }
   ],
   "source": [
    "fig = plt.figure(figsize=(16, 9))\n",
    "ax = fig.add_subplot(111)\n",
    "\n",
    "n, bins, patches = ax.hist([punctuation_data_subtweets, punctuation_data_non_subtweets], \n",
    "                           bins=\"doane\", \n",
    "                           edgecolor=\"black\", \n",
    "                           color=[\"#B4436C\", \"#3066BE\"],\n",
    "                           alpha=0.8)\n",
    "ax.set_xticks(np.arange(0, 13, step=1))\n",
    "ax.legend([\"Subtweets\", \"Non-Subtweets\"], loc=\"best\")\n",
    "ax.set_title(\"Training Dataset Distribution of Punctuation\", fontsize=18)\n",
    "ax.set_xlabel(\"Punctuating Characters in Tweet\", fontsize=18)\n",
    "ax.set_ylabel(\"Number of Tweets with That Number of Punctuating Characters\", fontsize=18)\n",
    "\n",
    "plt.show()"
   ]
  },
  {
   "cell_type": "code",
   "execution_count": 83,
   "metadata": {},
   "outputs": [
    {
     "data": {
      "image/png": "[encoded data removed]",
      "text/plain": [
       "<Figure size 1152x648 with 1 Axes>"
      ]
     },
     "metadata": {},
     "output_type": "display_data"
    }
   ],
   "source": [
    "fig = plt.figure(figsize=(16, 9))\n",
    "ax = fig.add_subplot(111)\n",
    "\n",
    "n, bins, patches = ax.hist([stop_words_data_subtweets, stop_words_data_non_subtweets], \n",
    "                           bins=\"doane\", \n",
    "                           edgecolor=\"black\", \n",
    "                           color=[\"#B4436C\", \"#3066BE\"],\n",
    "                           alpha=0.8)\n",
    "\n",
    "ax.legend([\"Subtweets\", \"Non-Subtweets\"], loc=\"best\")\n",
    "ax.set_title(\"Training Dataset Distribution of Stop Words\", fontsize=18)\n",
    "ax.set_xlabel(\"Stop Words in Tweet\", fontsize=18)\n",
    "ax.set_ylabel(\"Number of Tweets with That Number of Stop Words\", fontsize=18)\n",
    "\n",
    "plt.show()"
   ]
  },
  {
   "cell_type": "code",
   "execution_count": 84,
   "metadata": {
    "scrolled": false
   },
   "outputs": [
    {
     "data": {
      "image/png": "[encoded data removed]",
      "text/plain": [
       "<Figure size 1152x648 with 1 Axes>"
      ]
     },
     "metadata": {},
     "output_type": "display_data"
    }
   ],
   "source": [
    "fig = plt.figure(figsize=(16, 9))\n",
    "ax = fig.add_subplot(111)\n",
    "\n",
    "n, bins, patches = ax.hist([unique_words_data_subtweets, unique_words_data_non_subtweets], \n",
    "                           bins=\"sturges\", \n",
    "                           edgecolor=\"black\", \n",
    "                           color=[\"#B4436C\", \"#3066BE\"],\n",
    "                           alpha=0.8)\n",
    "\n",
    "ax.legend([\"Subtweets\", \"Non-Subtweets\"], loc=\"best\")\n",
    "ax.set_title(\"Training Dataset Distribution of Unique Words\", fontsize=18)\n",
    "ax.set_xlabel(\"Unique English Words in Tweet\", fontsize=18)\n",
    "ax.set_ylabel(\"Number of Tweets with That Number of Unique English Words\", fontsize=18)\n",
    "\n",
    "plt.show()"
   ]
  }
 ],
 "metadata": {
  "kernelspec": {
   "display_name": "Python 3",
   "language": "python",
   "name": "python3"
  },
  "language_info": {
   "codemirror_mode": {
    "name": "ipython",
    "version": 3
   },
   "file_extension": ".py",
   "mimetype": "text/x-python",
   "name": "python",
   "nbconvert_exporter": "python",
   "pygments_lexer": "ipython3",
   "version": "3.6.4"
  }
 },
 "nbformat": 4,
 "nbformat_minor": 2
}
