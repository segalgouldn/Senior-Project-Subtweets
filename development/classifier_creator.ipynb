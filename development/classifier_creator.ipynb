{
 "cells": [
  {
   "cell_type": "markdown",
   "metadata": {},
   "source": [
    "## Using Scikit-Learn and NLTK to build a Naive Bayes Classifier that identifies subtweets"
   ]
  },
  {
   "cell_type": "markdown",
   "metadata": {},
   "source": [
    "#### In all tables, assume:\n",
    "* \"➊\" represents a single URL\n",
    "* \"➋\" represents a single mention of a username (e.g. \"@noah\")\n",
    "* \"➌\" represents a single mention of an English first name "
   ]
  },
  {
   "cell_type": "markdown",
   "metadata": {},
   "source": [
    "#### Import libraries"
   ]
  },
  {
   "cell_type": "code",
   "execution_count": 1,
   "metadata": {},
   "outputs": [],
   "source": [
    "%matplotlib inline"
   ]
  },
  {
   "cell_type": "code",
   "execution_count": 2,
   "metadata": {},
   "outputs": [],
   "source": [
    "from sklearn.metrics import classification_report, confusion_matrix, accuracy_score\n",
    "from sklearn.feature_extraction.text import TfidfVectorizer\n",
    "from sklearn.feature_extraction import text\n",
    "from sklearn.naive_bayes import MultinomialNB\n",
    "from sklearn.model_selection import KFold\n",
    "from sklearn.pipeline import Pipeline\n",
    "from sklearn.externals import joblib\n",
    "from os.path import basename, splitext\n",
    "from random import choice, sample\n",
    "from nltk.corpus import stopwords\n",
    "from string import punctuation\n",
    "from pprint import pprint\n",
    "from glob import glob\n",
    "\n",
    "import matplotlib.pyplot as plt\n",
    "import pandas as pd\n",
    "import numpy as np\n",
    "\n",
    "import scipy.stats\n",
    "import itertools\n",
    "import enchant\n",
    "import nltk\n",
    "import json\n",
    "import re"
   ]
  },
  {
   "cell_type": "markdown",
   "metadata": {},
   "source": [
    "#### Set up some regex patterns"
   ]
  },
  {
   "cell_type": "code",
   "execution_count": 3,
   "metadata": {},
   "outputs": [],
   "source": [
    "urls_pattern = re.compile(r'(?i)\\b((?:https?://|www\\d{0,3}[.]|[a-z0-9.\\-]+[.][a-z]{2,4}/)(?:[^\\s()<>]|\\(([^\\s()<>]+|(\\([^\\s()<>]+\\)))*\\))+(?:\\(([^\\s()<>]+|(\\([^\\s()<>]+\\)))*\\)|[^\\s`!()\\[\\]{};:\\'\".,<>?\\xab\\xbb\\u201c\\u201d\\u2018\\u2019]))')"
   ]
  },
  {
   "cell_type": "code",
   "execution_count": 4,
   "metadata": {},
   "outputs": [],
   "source": [
    "at_mentions_pattern = re.compile(r'(?<=^|(?<=[^a-zA-Z0-9-\\.]))@([A-Za-z0-9_]+)')"
   ]
  },
  {
   "cell_type": "code",
   "execution_count": 5,
   "metadata": {},
   "outputs": [],
   "source": [
    "names = open(\"../data/other_data/first_names.txt\").read().split(\"\\n\")\n",
    "names_pattern = re.compile(r'\\b(?:{})\\b'.format('|'.join(names)))"
   ]
  },
  {
   "cell_type": "markdown",
   "metadata": {},
   "source": [
    "#### Prepare English dictionary for language detection"
   ]
  },
  {
   "cell_type": "code",
   "execution_count": 6,
   "metadata": {},
   "outputs": [],
   "source": [
    "english_dict = enchant.Dict(\"en_US\")"
   ]
  },
  {
   "cell_type": "markdown",
   "metadata": {},
   "source": [
    "#### Use NLTK's tokenizer instead of Scikit's"
   ]
  },
  {
   "cell_type": "code",
   "execution_count": 7,
   "metadata": {},
   "outputs": [],
   "source": [
    "tokenizer = nltk.casual.TweetTokenizer()"
   ]
  },
  {
   "cell_type": "markdown",
   "metadata": {},
   "source": [
    "#### Prepare for viewing long text in CSVs and ones with really big and small numbers"
   ]
  },
  {
   "cell_type": "code",
   "execution_count": 8,
   "metadata": {},
   "outputs": [],
   "source": [
    "pd.set_option(\"display.height\", 1000)\n",
    "pd.set_option(\"display.max_rows\", 500)\n",
    "pd.set_option(\"display.max_columns\", 500)\n",
    "pd.set_option(\"display.width\", 1000)\n",
    "pd.set_option(\"max_colwidth\", 1000)"
   ]
  },
  {
   "cell_type": "code",
   "execution_count": 9,
   "metadata": {},
   "outputs": [],
   "source": [
    "pd.options.display.float_format = \"{:.4f}\".format"
   ]
  },
  {
   "cell_type": "markdown",
   "metadata": {},
   "source": [
    "#### Load the two data files\n",
    "#### Only use tweets with at least 10% English words\n",
    "#### Also, make the mentions of usernames, names, and URLs generic"
   ]
  },
  {
   "cell_type": "code",
   "execution_count": 10,
   "metadata": {},
   "outputs": [],
   "source": [
    "def load_data(filename, threshold=0.1):\n",
    "    data = [(urls_pattern.sub(\"➊\", \n",
    "             at_mentions_pattern.sub(\"➋\", \n",
    "             names_pattern.sub(\"➌\",\n",
    "             t[\"tweet_data\"][\"full_text\"])))\n",
    "             .replace(\"\\u2018\", \"'\")\n",
    "             .replace(\"\\u2019\", \"'\")\n",
    "             .replace(\"\\u201c\", \"\\\"\")\n",
    "             .replace(\"\\u201d\", \"\\\"\")\n",
    "             .replace(\"&quot;\", \"\\\"\")\n",
    "             .replace(\"&amp;\", \"&\")\n",
    "             .replace(\"&gt;\", \">\")\n",
    "             .replace(\"&lt;\", \"<\")) \n",
    "            for t in json.load(open(filename)) \n",
    "            if t[\"tweet_data\"][\"lang\"] == \"en\" \n",
    "            and t[\"reply\"][\"lang\"] == \"en\" \n",
    "            and t[\"tweet_data\"][\"user\"][\"lang\"] == \"en\" \n",
    "            and t[\"reply\"][\"user\"][\"lang\"] == \"en\"]\n",
    "    new_data = []\n",
    "    for tweet in data:\n",
    "        tokens = tokenizer.tokenize(tweet)\n",
    "        english_tokens = [english_dict.check(token) for token in tokens]\n",
    "        percent_english_words = sum(english_tokens)/len(english_tokens)\n",
    "        if percent_english_words >= threshold:\n",
    "            new_data.append(tweet)\n",
    "    return new_data"
   ]
  },
  {
   "cell_type": "code",
   "execution_count": 11,
   "metadata": {},
   "outputs": [],
   "source": [
    "subtweets_data = load_data(\"../data/other_data/subtweets.json\")"
   ]
  },
  {
   "cell_type": "code",
   "execution_count": 12,
   "metadata": {},
   "outputs": [],
   "source": [
    "non_subtweets_data = load_data(\"../data/other_data/non_subtweets.json\")"
   ]
  },
  {
   "cell_type": "markdown",
   "metadata": {},
   "source": [
    "#### Remove tweets which are present in both datasets"
   ]
  },
  {
   "cell_type": "code",
   "execution_count": 13,
   "metadata": {},
   "outputs": [
    {
     "name": "stdout",
     "output_type": "stream",
     "text": [
      "CPU times: user 10.5 s, sys: 149 ms, total: 10.6 s\n",
      "Wall time: 11.1 s\n"
     ]
    }
   ],
   "source": [
    "subtweets_data = [tweet for tweet in subtweets_data if tweet not in non_subtweets_data]"
   ]
  },
  {
   "cell_type": "code",
   "execution_count": 14,
   "metadata": {},
   "outputs": [
    {
     "name": "stdout",
     "output_type": "stream",
     "text": [
      "CPU times: user 10.1 s, sys: 263 ms, total: 10.4 s\n",
      "Wall time: 13.9 s\n"
     ]
    }
   ],
   "source": [
    "non_subtweets_data = [tweet for tweet in non_subtweets_data if tweet not in subtweets_data]"
   ]
  },
  {
   "cell_type": "markdown",
   "metadata": {},
   "source": [
    "#### Show examples"
   ]
  },
  {
   "cell_type": "code",
   "execution_count": 15,
   "metadata": {},
   "outputs": [
    {
     "name": "stdout",
     "output_type": "stream",
     "text": [
      "Subtweets dataset example:\n",
      "The next straight cisgender white middle class dude that discovered socialism the minute he realized he wasn't gonna make the money he thought he was tells me I don't care about social justice is gonna get a copy of Das Kapital shoved up their ass.\n",
      "I think she know! ➊\n",
      "Don't be this person. ➊\n",
      "Support your local library or chuck_wendig will release the ants. @ Los Osos Library ➊\n",
      "Isn't it crazy how we are in our mid twenties and some people still act like they're in high school? All I'm saying is grow a pair and say what you have to say 🤭\n",
      "y'all talk a lot of shit on the president but he's the commander in chief lol try to fight him he'll just launch a missile at you idiot\n",
      "TFW you think Bears has mistaken our departure time by 2 hours.....\n",
      "@ people who leave group chats almost instantly: Why are you so boring and bitter\n",
      "I think this is the first time I've ever turned off somebody's retweets, holy cow. No more Ragna, Goku, Raven, w/e. sheesh\n",
      "The worst thing you can do for your mental health is track Twitter metrics. Don't look at who unfollowed you. Don't do it.\n"
     ]
    }
   ],
   "source": [
    "print(\"Subtweets dataset example:\")\n",
    "for _ in range(10):\n",
    "    print(choice(subtweets_data))"
   ]
  },
  {
   "cell_type": "code",
   "execution_count": 16,
   "metadata": {},
   "outputs": [
    {
     "name": "stdout",
     "output_type": "stream",
     "text": [
      "Non-subtweets dataset example:\n",
      "➌ ➌ \"All these years the UK fighters had to go to America. We can do it in London. Wembley. Cardiff. It's local. We are staying right here. I want Wilder next or Fury. Either one\".\n",
      "WATCH: Eagles of Death Metal frontman apologizes after calling March For Our Lives students \"pathetic\" ➊ ➊\n",
      "Well that sealed it HRC endorsed ➋ Fight for progress just another slogan - I can't take any more of these Centrist A** hole$ !! ➊\n",
      "➋ happy birthday superstar 🎈\n",
      "every time hatok makes a jab at 14, i die a little inside knowing its the best modern final fantasy experience\n",
      "\n",
      "CHANGE MY MIND\n",
      "Thanks ➋ for the birthday gift. And use some rewards points ➊\n",
      "My son was born today welcome to tha #GramKillers 💪🏾💪🏾💪🏾\n",
      "Half way through the first day of qualifying matches and our Drive Team is doing a great job! We may be rookies but we don't play like it! #frcnyli #sobotz #team6911 ➊\n",
      "These companies pulled their ads from ➋. I call for them to  reinstate the ads and do what it is right. Showing you're easily manipulated isn't a good stance for the future. \n",
      "1. ➋ \n",
      "2. ➋\n",
      "3. Waywair\n",
      "4. ➋\n",
      "5. ➋ \n",
      "6. ➋ \n",
      "7. ➋\n",
      "Difference between ugly niggas and ugly women \n",
      "\n",
      "• Ugly niggas know they're ugly and accept the fact that they aren't getting chose over handsome niggas unless their money and 'swag' on point\n",
      "\n",
      "• Ugly women make excuses and shame men for not choosing them over attractive women\n"
     ]
    }
   ],
   "source": [
    "print(\"Non-subtweets dataset example:\")\n",
    "for _ in range(10):\n",
    "    print(choice(non_subtweets_data))"
   ]
  },
  {
   "cell_type": "markdown",
   "metadata": {},
   "source": [
    "#### Find the length of the smaller dataset"
   ]
  },
  {
   "cell_type": "code",
   "execution_count": 17,
   "metadata": {},
   "outputs": [],
   "source": [
    "smallest_length = len(min([subtweets_data, non_subtweets_data], key=len))"
   ]
  },
  {
   "cell_type": "markdown",
   "metadata": {},
   "source": [
    "#### Cut both down to be the same length"
   ]
  },
  {
   "cell_type": "code",
   "execution_count": 18,
   "metadata": {},
   "outputs": [],
   "source": [
    "subtweets_data = sample(subtweets_data, smallest_length)"
   ]
  },
  {
   "cell_type": "code",
   "execution_count": 19,
   "metadata": {},
   "outputs": [],
   "source": [
    "non_subtweets_data = sample(non_subtweets_data, smallest_length)"
   ]
  },
  {
   "cell_type": "code",
   "execution_count": 20,
   "metadata": {},
   "outputs": [
    {
     "name": "stdout",
     "output_type": "stream",
     "text": [
      "Smallest dataset length: 11288\n"
     ]
    }
   ],
   "source": [
    "print(\"Smallest dataset length: {}\".format(len(subtweets_data)))"
   ]
  },
  {
   "cell_type": "markdown",
   "metadata": {},
   "source": [
    "#### Prepare data for training"
   ]
  },
  {
   "cell_type": "code",
   "execution_count": 21,
   "metadata": {},
   "outputs": [],
   "source": [
    "subtweets_data = [(tweet, \"subtweet\") for tweet in subtweets_data]"
   ]
  },
  {
   "cell_type": "code",
   "execution_count": 22,
   "metadata": {},
   "outputs": [],
   "source": [
    "non_subtweets_data = [(tweet, \"non-subtweet\") for tweet in non_subtweets_data]"
   ]
  },
  {
   "cell_type": "markdown",
   "metadata": {},
   "source": [
    "#### Combine them"
   ]
  },
  {
   "cell_type": "code",
   "execution_count": 23,
   "metadata": {},
   "outputs": [],
   "source": [
    "training_data = subtweets_data + non_subtweets_data"
   ]
  },
  {
   "cell_type": "markdown",
   "metadata": {},
   "source": [
    "#### Build the pipeline"
   ]
  },
  {
   "cell_type": "code",
   "execution_count": 24,
   "metadata": {},
   "outputs": [],
   "source": [
    "sentiment_pipeline = Pipeline([\n",
    "    (\"vectorizer\", TfidfVectorizer(tokenizer=tokenizer.tokenize, \n",
    "                                   ngram_range=(1, 3), \n",
    "                                   stop_words=\"english\")),\n",
    "    (\"classifier\", MultinomialNB())\n",
    "])"
   ]
  },
  {
   "cell_type": "markdown",
   "metadata": {},
   "source": [
    "#### K-Folds splits up and separates out 10 training and test sets from the data, from which the classifier is trained and the confusion matrix and classification reports are updated"
   ]
  },
  {
   "cell_type": "code",
   "execution_count": 25,
   "metadata": {},
   "outputs": [],
   "source": [
    "def confusion_matrices(training_data, num_folds=10):\n",
    "    text_training_data = np.array([row[0] for row in training_data])\n",
    "    class_training_data = np.array([row[1] for row in training_data])\n",
    "    kf = KFold(n_splits=num_folds, random_state=42, shuffle=True)\n",
    "    \n",
    "    cnf_matrix_test = np.zeros((2, 2), dtype=int)\n",
    "    cnf_matrix_train = np.zeros((2, 2), dtype=int)\n",
    "    \n",
    "    test_reports = []\n",
    "    train_reports = []\n",
    "    \n",
    "    test_accuracies = []\n",
    "    train_accuracies = []\n",
    "    for i, (train_index, test_index) in enumerate(kf.split(text_training_data)):\n",
    "\n",
    "        text_train, text_test = text_training_data[train_index], text_training_data[test_index]\n",
    "        class_train, class_test = class_training_data[train_index], class_training_data[test_index]\n",
    "\n",
    "        sentiment_pipeline.fit(text_train, class_train)\n",
    "        \n",
    "        predictions_test = sentiment_pipeline.predict(text_test)\n",
    "        predictions_train = sentiment_pipeline.predict(text_train)\n",
    "\n",
    "        cnf_matrix_test += confusion_matrix(class_test, predictions_test)\n",
    "        cnf_matrix_train += confusion_matrix(class_train, predictions_train)\n",
    "\n",
    "        print(\"Test Data Iteration {}:\".format(i+1))\n",
    "        \n",
    "        test_report = classification_report(class_test, predictions_test, digits=4)\n",
    "        test_reports.append(test_report)\n",
    "        print(test_report)\n",
    "                \n",
    "        test_accuracy = accuracy_score(class_test, predictions_test)\n",
    "        test_accuracies.append(test_accuracy)\n",
    "        print(\"Test Data Accuracy: {:.4f}\\n\".format(test_accuracy))\n",
    "        print(\"=\"*53)\n",
    "        \n",
    "        print(\"Train Data Iteration {}:\".format(i+1))\n",
    "        \n",
    "        train_report = classification_report(class_train, predictions_train, digits=4)\n",
    "        train_reports.append(train_report)\n",
    "        print(train_report)\n",
    "                \n",
    "        train_accuracy = accuracy_score(class_train, predictions_train)\n",
    "        train_accuracies.append(train_accuracy)\n",
    "        print(\"Train Data Accuracy: {:.4f}\\n\".format(train_accuracy))\n",
    "        print(\"=\"*53)\n",
    "        \n",
    "    def reports_mean(reports):\n",
    "        reports_lists_of_strings = [report.split(\"\\n\") for report in reports]\n",
    "        reports = [[[float(e) for e in report_string[2][16:].split()],\n",
    "                    [float(e) for e in report_string[3][16:].split()],\n",
    "                    [float(e) for e in report_string[5][16:].split()]]\n",
    "                   for report_string in reports_lists_of_strings]\n",
    "        mean_list = np.mean(np.array(reports), axis=0).tolist()\n",
    "        print(\"              precision    recall  f1-score   support\")\n",
    "        print()\n",
    "        print(\"non-subtweet     {0:.4f}    {1:.4f}    {2:.4f}      {3:d}\".format(mean_list[0][0], \n",
    "                                                                                 mean_list[0][1], \n",
    "                                                                                 mean_list[0][2], \n",
    "                                                                                 int(mean_list[0][3])))\n",
    "        print(\"    subtweet     {0:.4f}    {1:.4f}    {2:.4f}      {3:d}\".format(mean_list[1][0], \n",
    "                                                                                 mean_list[1][1], \n",
    "                                                                                 mean_list[1][2], \n",
    "                                                                                 int(mean_list[1][3])))\n",
    "        print()\n",
    "        print(\" avg / total     {0:.4f}    {1:.4f}    {2:.4f}      {3:d}\".format(mean_list[2][0], \n",
    "                                                                                 mean_list[2][1], \n",
    "                                                                                 mean_list[2][2], \n",
    "                                                                                 int(mean_list[2][3])))\n",
    "        print()\n",
    "        print(\"=\"*53)\n",
    "    \n",
    "    print(\"Test Data Averages Across All Folds:\")\n",
    "    reports_mean(test_reports)\n",
    "    \n",
    "    print(\"Train Data Averages Across All Folds:\")\n",
    "    reports_mean(train_reports)\n",
    "    \n",
    "    return {\"Test\": cnf_matrix_test, \"Train\": cnf_matrix_train}"
   ]
  },
  {
   "cell_type": "code",
   "execution_count": 26,
   "metadata": {
    "scrolled": false
   },
   "outputs": [
    {
     "name": "stdout",
     "output_type": "stream",
     "text": [
      "Test Data Iteration 1:\n",
      "              precision    recall  f1-score   support\n",
      "\n",
      "non-subtweet     0.7046    0.7111    0.7079      1087\n",
      "    subtweet     0.7295    0.7233    0.7264      1171\n",
      "\n",
      " avg / total     0.7176    0.7174    0.7175      2258\n",
      "\n",
      "Test Data Accuracy: 0.7174\n",
      "\n",
      "=====================================================\n",
      "Train Data Iteration 1:\n",
      "              precision    recall  f1-score   support\n",
      "\n",
      "non-subtweet     0.9812    0.9870    0.9841     10201\n",
      "    subtweet     0.9868    0.9809    0.9838     10117\n",
      "\n",
      " avg / total     0.9840    0.9840    0.9840     20318\n",
      "\n",
      "Train Data Accuracy: 0.9840\n",
      "\n",
      "=====================================================\n",
      "Test Data Iteration 2:\n",
      "              precision    recall  f1-score   support\n",
      "\n",
      "non-subtweet     0.7160    0.7063    0.7111      1103\n",
      "    subtweet     0.7231    0.7325    0.7277      1155\n",
      "\n",
      " avg / total     0.7196    0.7197    0.7196      2258\n",
      "\n",
      "Test Data Accuracy: 0.7197\n",
      "\n",
      "=====================================================\n",
      "Train Data Iteration 2:\n",
      "              precision    recall  f1-score   support\n",
      "\n",
      "non-subtweet     0.9807    0.9849    0.9828     10185\n",
      "    subtweet     0.9847    0.9806    0.9826     10133\n",
      "\n",
      " avg / total     0.9827    0.9827    0.9827     20318\n",
      "\n",
      "Train Data Accuracy: 0.9827\n",
      "\n",
      "=====================================================\n",
      "Test Data Iteration 3:\n",
      "              precision    recall  f1-score   support\n",
      "\n",
      "non-subtweet     0.7589    0.7035    0.7301      1150\n",
      "    subtweet     0.7139    0.7681    0.7400      1108\n",
      "\n",
      " avg / total     0.7368    0.7352    0.7350      2258\n",
      "\n",
      "Test Data Accuracy: 0.7352\n",
      "\n",
      "=====================================================\n",
      "Train Data Iteration 3:\n",
      "              precision    recall  f1-score   support\n",
      "\n",
      "non-subtweet     0.9815    0.9852    0.9834     10138\n",
      "    subtweet     0.9852    0.9815    0.9834     10180\n",
      "\n",
      " avg / total     0.9834    0.9834    0.9834     20318\n",
      "\n",
      "Train Data Accuracy: 0.9834\n",
      "\n",
      "=====================================================\n",
      "Test Data Iteration 4:\n",
      "              precision    recall  f1-score   support\n",
      "\n",
      "non-subtweet     0.7354    0.7171    0.7261      1124\n",
      "    subtweet     0.7263    0.7443    0.7352      1134\n",
      "\n",
      " avg / total     0.7308    0.7307    0.7307      2258\n",
      "\n",
      "Test Data Accuracy: 0.7307\n",
      "\n",
      "=====================================================\n",
      "Train Data Iteration 4:\n",
      "              precision    recall  f1-score   support\n",
      "\n",
      "non-subtweet     0.9819    0.9849    0.9834     10164\n",
      "    subtweet     0.9849    0.9818    0.9833     10154\n",
      "\n",
      " avg / total     0.9834    0.9834    0.9834     20318\n",
      "\n",
      "Train Data Accuracy: 0.9834\n",
      "\n",
      "=====================================================\n",
      "Test Data Iteration 5:\n",
      "              precision    recall  f1-score   support\n",
      "\n",
      "non-subtweet     0.7452    0.7181    0.7314      1128\n",
      "    subtweet     0.7284    0.7549    0.7414      1130\n",
      "\n",
      " avg / total     0.7368    0.7365    0.7364      2258\n",
      "\n",
      "Test Data Accuracy: 0.7365\n",
      "\n",
      "=====================================================\n",
      "Train Data Iteration 5:\n",
      "              precision    recall  f1-score   support\n",
      "\n",
      "non-subtweet     0.9809    0.9842    0.9825     10160\n",
      "    subtweet     0.9841    0.9808    0.9824     10158\n",
      "\n",
      " avg / total     0.9825    0.9825    0.9825     20318\n",
      "\n",
      "Train Data Accuracy: 0.9825\n",
      "\n",
      "=====================================================\n",
      "Test Data Iteration 6:\n",
      "              precision    recall  f1-score   support\n",
      "\n",
      "non-subtweet     0.7329    0.6926    0.7122      1145\n",
      "    subtweet     0.7007    0.7403    0.7200      1113\n",
      "\n",
      " avg / total     0.7170    0.7161    0.7160      2258\n",
      "\n",
      "Test Data Accuracy: 0.7161\n",
      "\n",
      "=====================================================\n",
      "Train Data Iteration 6:\n",
      "              precision    recall  f1-score   support\n",
      "\n",
      "non-subtweet     0.9838    0.9854    0.9846     10143\n",
      "    subtweet     0.9854    0.9838    0.9846     10175\n",
      "\n",
      " avg / total     0.9846    0.9846    0.9846     20318\n",
      "\n",
      "Train Data Accuracy: 0.9846\n",
      "\n",
      "=====================================================\n",
      "Test Data Iteration 7:\n",
      "              precision    recall  f1-score   support\n",
      "\n",
      "non-subtweet     0.7533    0.6960    0.7235      1158\n",
      "    subtweet     0.7035    0.7598    0.7305      1099\n",
      "\n",
      " avg / total     0.7290    0.7271    0.7269      2257\n",
      "\n",
      "Test Data Accuracy: 0.7271\n",
      "\n",
      "=====================================================\n",
      "Train Data Iteration 7:\n",
      "              precision    recall  f1-score   support\n",
      "\n",
      "non-subtweet     0.9808    0.9836    0.9822     10130\n",
      "    subtweet     0.9837    0.9809    0.9823     10189\n",
      "\n",
      " avg / total     0.9822    0.9822    0.9822     20319\n",
      "\n",
      "Train Data Accuracy: 0.9822\n",
      "\n",
      "=====================================================\n",
      "Test Data Iteration 8:\n",
      "              precision    recall  f1-score   support\n",
      "\n",
      "non-subtweet     0.7206    0.6970    0.7086      1099\n",
      "    subtweet     0.7211    0.7435    0.7321      1158\n",
      "\n",
      " avg / total     0.7209    0.7209    0.7207      2257\n",
      "\n",
      "Test Data Accuracy: 0.7209\n",
      "\n",
      "=====================================================\n",
      "Train Data Iteration 8:\n",
      "              precision    recall  f1-score   support\n",
      "\n",
      "non-subtweet     0.9804    0.9855    0.9829     10189\n",
      "    subtweet     0.9853    0.9802    0.9827     10130\n",
      "\n",
      " avg / total     0.9828    0.9828    0.9828     20319\n",
      "\n",
      "Train Data Accuracy: 0.9828\n",
      "\n",
      "=====================================================\n",
      "Test Data Iteration 9:\n",
      "              precision    recall  f1-score   support\n",
      "\n",
      "non-subtweet     0.7348    0.6658    0.6986      1161\n",
      "    subtweet     0.6780    0.7454    0.7101      1096\n",
      "\n",
      " avg / total     0.7072    0.7045    0.7042      2257\n",
      "\n",
      "Test Data Accuracy: 0.7045\n",
      "\n",
      "=====================================================\n",
      "Train Data Iteration 9:\n",
      "              precision    recall  f1-score   support\n",
      "\n",
      "non-subtweet     0.9815    0.9836    0.9825     10127\n",
      "    subtweet     0.9837    0.9816    0.9826     10192\n",
      "\n",
      " avg / total     0.9826    0.9826    0.9826     20319\n",
      "\n",
      "Train Data Accuracy: 0.9826\n",
      "\n",
      "=====================================================\n",
      "Test Data Iteration 10:\n",
      "              precision    recall  f1-score   support\n",
      "\n",
      "non-subtweet     0.7286    0.6849    0.7061      1133\n",
      "    subtweet     0.7005    0.7429    0.7211      1124\n",
      "\n",
      " avg / total     0.7146    0.7138    0.7136      2257\n",
      "\n",
      "Test Data Accuracy: 0.7138\n",
      "\n",
      "=====================================================\n",
      "Train Data Iteration 10:\n",
      "              precision    recall  f1-score   support\n",
      "\n",
      "non-subtweet     0.9806    0.9852    0.9829     10155\n",
      "    subtweet     0.9852    0.9805    0.9828     10164\n",
      "\n",
      " avg / total     0.9829    0.9829    0.9829     20319\n",
      "\n",
      "Train Data Accuracy: 0.9829\n",
      "\n",
      "=====================================================\n",
      "Test Data Averages Across All Folds:\n",
      "              precision    recall  f1-score   support\n",
      "\n",
      "non-subtweet     0.7330    0.6992    0.7156      1128\n",
      "    subtweet     0.7125    0.7455    0.7284      1128\n",
      "\n",
      " avg / total     0.7230    0.7222    0.7221      2257\n",
      "\n",
      "=====================================================\n",
      "Train Data Averages Across All Folds:\n",
      "              precision    recall  f1-score   support\n",
      "\n",
      "non-subtweet     0.9813    0.9850    0.9831      10159\n",
      "    subtweet     0.9849    0.9813    0.9831      10159\n",
      "\n",
      " avg / total     0.9831    0.9831    0.9831      20318\n",
      "\n",
      "=====================================================\n",
      "CPU times: user 1min 26s, sys: 2.59 s, total: 1min 28s\n",
      "Wall time: 1min 37s\n"
     ]
    }
   ],
   "source": [
    "cnf_matrices = confusion_matrices(training_data)\n",
    "cnf_matrix_test = cnf_matrices[\"Test\"]\n",
    "cnf_matrix_train = cnf_matrices[\"Train\"]"
   ]
  },
  {
   "cell_type": "markdown",
   "metadata": {},
   "source": [
    "#### See the most informative features\n",
    "[How does \"MultinomialNB.coef_\" work?](https://stackoverflow.com/a/29915740/6147528)"
   ]
  },
  {
   "cell_type": "code",
   "execution_count": 27,
   "metadata": {},
   "outputs": [],
   "source": [
    "def most_informative_features(pipeline, n=15000):\n",
    "    vectorizer = pipeline.named_steps[\"vectorizer\"]\n",
    "    classifier = pipeline.named_steps[\"classifier\"]\n",
    "    \n",
    "    class_labels = classifier.classes_\n",
    "    \n",
    "    feature_names = vectorizer.get_feature_names()\n",
    "    \n",
    "    top_n_class_1 = sorted(zip(classifier.coef_[0], feature_names))[:n]\n",
    "    top_n_class_2 = sorted(zip(classifier.coef_[0], feature_names))[-n:]\n",
    "    \n",
    "    return {class_labels[0]: pd.DataFrame({\"Log Probability\": [tup[0] for tup in top_n_class_1], \n",
    "                                           \"Feature\": [tup[1] for tup in top_n_class_1]}), \n",
    "            class_labels[1]: pd.DataFrame({\"Log Probability\": [tup[0] for tup in reversed(top_n_class_2)],\n",
    "                                           \"Feature\": [tup[1] for tup in reversed(top_n_class_2)]})}"
   ]
  },
  {
   "cell_type": "code",
   "execution_count": 28,
   "metadata": {},
   "outputs": [
    {
     "name": "stdout",
     "output_type": "stream",
     "text": [
      "CPU times: user 2.01 s, sys: 33.6 ms, total: 2.04 s\n",
      "Wall time: 2.05 s\n"
     ]
    }
   ],
   "source": [
    "most_informative_features_all = most_informative_features(sentiment_pipeline)"
   ]
  },
  {
   "cell_type": "code",
   "execution_count": 29,
   "metadata": {},
   "outputs": [],
   "source": [
    "most_informative_features_non_subtweet = most_informative_features_all[\"non-subtweet\"]"
   ]
  },
  {
   "cell_type": "code",
   "execution_count": 30,
   "metadata": {},
   "outputs": [],
   "source": [
    "most_informative_features_subtweet = most_informative_features_all[\"subtweet\"]"
   ]
  },
  {
   "cell_type": "code",
   "execution_count": 31,
   "metadata": {
    "scrolled": false
   },
   "outputs": [
    {
     "data": {
      "text/html": [
       "<div>\n",
       "<style scoped>\n",
       "    .dataframe tbody tr th:only-of-type {\n",
       "        vertical-align: middle;\n",
       "    }\n",
       "\n",
       "    .dataframe tbody tr th {\n",
       "        vertical-align: top;\n",
       "    }\n",
       "\n",
       "    .dataframe thead th {\n",
       "        text-align: right;\n",
       "    }\n",
       "</style>\n",
       "<table border=\"1\" class=\"dataframe\">\n",
       "  <thead>\n",
       "    <tr style=\"text-align: right;\">\n",
       "      <th></th>\n",
       "      <th>Feature (Non-subtweet)</th>\n",
       "      <th>Log Probability (Non-subtweet)</th>\n",
       "      <th>Feature (Subtweet)</th>\n",
       "      <th>Log Probability (Subtweet)</th>\n",
       "    </tr>\n",
       "  </thead>\n",
       "  <tbody>\n",
       "    <tr>\n",
       "      <th>0</th>\n",
       "      <td>! ! #absapremiership</td>\n",
       "      <td>-13.0606</td>\n",
       "      <td>.</td>\n",
       "      <td>-7.6610</td>\n",
       "    </tr>\n",
       "    <tr>\n",
       "      <th>1</th>\n",
       "      <td>! ! #b2b</td>\n",
       "      <td>-13.0606</td>\n",
       "      <td>,</td>\n",
       "      <td>-8.0238</td>\n",
       "    </tr>\n",
       "    <tr>\n",
       "      <th>2</th>\n",
       "      <td>! ! #beredseered</td>\n",
       "      <td>-13.0606</td>\n",
       "      <td>➊</td>\n",
       "      <td>-8.0423</td>\n",
       "    </tr>\n",
       "    <tr>\n",
       "      <th>3</th>\n",
       "      <td>! ! #cholecystectomy</td>\n",
       "      <td>-13.0606</td>\n",
       "      <td>\"</td>\n",
       "      <td>-8.1517</td>\n",
       "    </tr>\n",
       "    <tr>\n",
       "      <th>4</th>\n",
       "      <td>! ! #fbr</td>\n",
       "      <td>-13.0606</td>\n",
       "      <td>people</td>\n",
       "      <td>-8.4336</td>\n",
       "    </tr>\n",
       "    <tr>\n",
       "      <th>5</th>\n",
       "      <td>! ! #free</td>\n",
       "      <td>-13.0606</td>\n",
       "      <td>?</td>\n",
       "      <td>-8.5699</td>\n",
       "    </tr>\n",
       "    <tr>\n",
       "      <th>6</th>\n",
       "      <td>! ! #frustrated</td>\n",
       "      <td>-13.0606</td>\n",
       "      <td>don't</td>\n",
       "      <td>-8.6773</td>\n",
       "    </tr>\n",
       "    <tr>\n",
       "      <th>7</th>\n",
       "      <td>! ! #ipl2018</td>\n",
       "      <td>-13.0606</td>\n",
       "      <td>like</td>\n",
       "      <td>-8.6839</td>\n",
       "    </tr>\n",
       "    <tr>\n",
       "      <th>8</th>\n",
       "      <td>! ! #liars</td>\n",
       "      <td>-13.0606</td>\n",
       "      <td>just</td>\n",
       "      <td>-8.7258</td>\n",
       "    </tr>\n",
       "    <tr>\n",
       "      <th>9</th>\n",
       "      <td>! ! #lottedutyfreexbts</td>\n",
       "      <td>-13.0606</td>\n",
       "      <td>i'm</td>\n",
       "      <td>-8.8254</td>\n",
       "    </tr>\n",
       "    <tr>\n",
       "      <th>10</th>\n",
       "      <td>! ! #meekotw</td>\n",
       "      <td>-13.0606</td>\n",
       "      <td>!</td>\n",
       "      <td>-8.8402</td>\n",
       "    </tr>\n",
       "    <tr>\n",
       "      <th>11</th>\n",
       "      <td>! ! #miz</td>\n",
       "      <td>-13.0606</td>\n",
       "      <td>it's</td>\n",
       "      <td>-9.0796</td>\n",
       "    </tr>\n",
       "    <tr>\n",
       "      <th>12</th>\n",
       "      <td>! ! #noveladdicted</td>\n",
       "      <td>-13.0606</td>\n",
       "      <td>:</td>\n",
       "      <td>-9.0986</td>\n",
       "    </tr>\n",
       "    <tr>\n",
       "      <th>13</th>\n",
       "      <td>! ! #ohbacchanalshow</td>\n",
       "      <td>-13.0606</td>\n",
       "      <td>. ➊</td>\n",
       "      <td>-9.1025</td>\n",
       "    </tr>\n",
       "    <tr>\n",
       "      <th>14</th>\n",
       "      <td>! ! #prebook</td>\n",
       "      <td>-13.0606</td>\n",
       "      <td>know</td>\n",
       "      <td>-9.1460</td>\n",
       "    </tr>\n",
       "    <tr>\n",
       "      <th>15</th>\n",
       "      <td>! ! #proaf</td>\n",
       "      <td>-13.0606</td>\n",
       "      <td>...</td>\n",
       "      <td>-9.1882</td>\n",
       "    </tr>\n",
       "    <tr>\n",
       "      <th>16</th>\n",
       "      <td>! ! #ps4share</td>\n",
       "      <td>-13.0606</td>\n",
       "      <td>you're</td>\n",
       "      <td>-9.2240</td>\n",
       "    </tr>\n",
       "    <tr>\n",
       "      <th>17</th>\n",
       "      <td>! ! #stopsoros</td>\n",
       "      <td>-13.0606</td>\n",
       "      <td>twitter</td>\n",
       "      <td>-9.2856</td>\n",
       "    </tr>\n",
       "    <tr>\n",
       "      <th>18</th>\n",
       "      <td>! ! #teampierce</td>\n",
       "      <td>-13.0606</td>\n",
       "      <td>love</td>\n",
       "      <td>-9.3048</td>\n",
       "    </tr>\n",
       "    <tr>\n",
       "      <th>19</th>\n",
       "      <td>! ! #teentitans</td>\n",
       "      <td>-13.0606</td>\n",
       "      <td>friends</td>\n",
       "      <td>-9.3911</td>\n",
       "    </tr>\n",
       "    <tr>\n",
       "      <th>20</th>\n",
       "      <td>! ! #thisismylifenow</td>\n",
       "      <td>-13.0606</td>\n",
       "      <td>➋</td>\n",
       "      <td>-9.4050</td>\n",
       "    </tr>\n",
       "    <tr>\n",
       "      <th>21</th>\n",
       "      <td>! ! #traceybarbie</td>\n",
       "      <td>-13.0606</td>\n",
       "      <td>time</td>\n",
       "      <td>-9.4088</td>\n",
       "    </tr>\n",
       "    <tr>\n",
       "      <th>22</th>\n",
       "      <td>! ! #tuesdaythoughts</td>\n",
       "      <td>-13.0606</td>\n",
       "      <td>*</td>\n",
       "      <td>-9.4259</td>\n",
       "    </tr>\n",
       "    <tr>\n",
       "      <th>23</th>\n",
       "      <td>! ! #twitchtv</td>\n",
       "      <td>-13.0606</td>\n",
       "      <td>really</td>\n",
       "      <td>-9.4367</td>\n",
       "    </tr>\n",
       "    <tr>\n",
       "      <th>24</th>\n",
       "      <td>! ! #wwie</td>\n",
       "      <td>-13.0606</td>\n",
       "      <td>want</td>\n",
       "      <td>-9.4640</td>\n",
       "    </tr>\n",
       "    <tr>\n",
       "      <th>25</th>\n",
       "      <td>! ! &amp;</td>\n",
       "      <td>-13.0606</td>\n",
       "      <td>😂</td>\n",
       "      <td>-9.4668</td>\n",
       "    </tr>\n",
       "    <tr>\n",
       "      <th>26</th>\n",
       "      <td>! ! )</td>\n",
       "      <td>-13.0606</td>\n",
       "      <td>shit</td>\n",
       "      <td>-9.4689</td>\n",
       "    </tr>\n",
       "    <tr>\n",
       "      <th>27</th>\n",
       "      <td>! ! 0.125</td>\n",
       "      <td>-13.0606</td>\n",
       "      <td>u</td>\n",
       "      <td>-9.4732</td>\n",
       "    </tr>\n",
       "    <tr>\n",
       "      <th>28</th>\n",
       "      <td>! ! 11</td>\n",
       "      <td>-13.0606</td>\n",
       "      <td>think</td>\n",
       "      <td>-9.4804</td>\n",
       "    </tr>\n",
       "    <tr>\n",
       "      <th>29</th>\n",
       "      <td>! ! 15</td>\n",
       "      <td>-13.0606</td>\n",
       "      <td>good</td>\n",
       "      <td>-9.5227</td>\n",
       "    </tr>\n",
       "    <tr>\n",
       "      <th>30</th>\n",
       "      <td>! ! 2-1</td>\n",
       "      <td>-13.0606</td>\n",
       "      <td>make</td>\n",
       "      <td>-9.5261</td>\n",
       "    </tr>\n",
       "    <tr>\n",
       "      <th>31</th>\n",
       "      <td>! ! 3</td>\n",
       "      <td>-13.0606</td>\n",
       "      <td>can't</td>\n",
       "      <td>-9.5578</td>\n",
       "    </tr>\n",
       "    <tr>\n",
       "      <th>32</th>\n",
       "      <td>! ! 5</td>\n",
       "      <td>-13.0606</td>\n",
       "      <td>tweet</td>\n",
       "      <td>-9.5846</td>\n",
       "    </tr>\n",
       "    <tr>\n",
       "      <th>33</th>\n",
       "      <td>! ! ;)</td>\n",
       "      <td>-13.0606</td>\n",
       "      <td>need</td>\n",
       "      <td>-9.6691</td>\n",
       "    </tr>\n",
       "    <tr>\n",
       "      <th>34</th>\n",
       "      <td>! ! @</td>\n",
       "      <td>-13.0606</td>\n",
       "      <td>say</td>\n",
       "      <td>-9.6764</td>\n",
       "    </tr>\n",
       "    <tr>\n",
       "      <th>35</th>\n",
       "      <td>! ! agree</td>\n",
       "      <td>-13.0606</td>\n",
       "      <td>lol</td>\n",
       "      <td>-9.7169</td>\n",
       "    </tr>\n",
       "    <tr>\n",
       "      <th>36</th>\n",
       "      <td>! ! amazing</td>\n",
       "      <td>-13.0606</td>\n",
       "      <td>fuck</td>\n",
       "      <td>-9.7270</td>\n",
       "    </tr>\n",
       "    <tr>\n",
       "      <th>37</th>\n",
       "      <td>! ! approved</td>\n",
       "      <td>-13.0606</td>\n",
       "      <td>! !</td>\n",
       "      <td>-9.7471</td>\n",
       "    </tr>\n",
       "    <tr>\n",
       "      <th>38</th>\n",
       "      <td>! ! aug</td>\n",
       "      <td>-13.0606</td>\n",
       "      <td>/</td>\n",
       "      <td>-9.7500</td>\n",
       "    </tr>\n",
       "    <tr>\n",
       "      <th>39</th>\n",
       "      <td>! ! bambam</td>\n",
       "      <td>-13.0606</td>\n",
       "      <td>hate</td>\n",
       "      <td>-9.7744</td>\n",
       "    </tr>\n",
       "    <tr>\n",
       "      <th>40</th>\n",
       "      <td>! ! best</td>\n",
       "      <td>-13.0606</td>\n",
       "      <td>person</td>\n",
       "      <td>-9.7881</td>\n",
       "    </tr>\n",
       "    <tr>\n",
       "      <th>41</th>\n",
       "      <td>! ! beyoncé</td>\n",
       "      <td>-13.0606</td>\n",
       "      <td>stop</td>\n",
       "      <td>-9.7882</td>\n",
       "    </tr>\n",
       "    <tr>\n",
       "      <th>42</th>\n",
       "      <td>! ! bite</td>\n",
       "      <td>-13.0606</td>\n",
       "      <td>thing</td>\n",
       "      <td>-9.7958</td>\n",
       "    </tr>\n",
       "    <tr>\n",
       "      <th>43</th>\n",
       "      <td>! ! breaking</td>\n",
       "      <td>-13.0606</td>\n",
       "      <td>)</td>\n",
       "      <td>-9.8085</td>\n",
       "    </tr>\n",
       "    <tr>\n",
       "      <th>44</th>\n",
       "      <td>! ! bring</td>\n",
       "      <td>-13.0606</td>\n",
       "      <td>? ?</td>\n",
       "      <td>-9.8219</td>\n",
       "    </tr>\n",
       "    <tr>\n",
       "      <th>45</th>\n",
       "      <td>! ! camera</td>\n",
       "      <td>-13.0606</td>\n",
       "      <td>y'all</td>\n",
       "      <td>-9.8226</td>\n",
       "    </tr>\n",
       "    <tr>\n",
       "      <th>46</th>\n",
       "      <td>! ! catch</td>\n",
       "      <td>-13.0606</td>\n",
       "      <td>life</td>\n",
       "      <td>-9.8333</td>\n",
       "    </tr>\n",
       "    <tr>\n",
       "      <th>47</th>\n",
       "      <td>! ! champ</td>\n",
       "      <td>-13.0606</td>\n",
       "      <td>fucking</td>\n",
       "      <td>-9.8499</td>\n",
       "    </tr>\n",
       "    <tr>\n",
       "      <th>48</th>\n",
       "      <td>! ! chefboyar</td>\n",
       "      <td>-13.0606</td>\n",
       "      <td>'</td>\n",
       "      <td>-9.8546</td>\n",
       "    </tr>\n",
       "    <tr>\n",
       "      <th>49</th>\n",
       "      <td>! ! classics</td>\n",
       "      <td>-13.0606</td>\n",
       "      <td>-</td>\n",
       "      <td>-9.8856</td>\n",
       "    </tr>\n",
       "  </tbody>\n",
       "</table>\n",
       "</div>"
      ],
      "text/plain": [
       "    Feature (Non-subtweet)  Log Probability (Non-subtweet) Feature (Subtweet)  Log Probability (Subtweet)\n",
       "0     ! ! #absapremiership                        -13.0606                  .                     -7.6610\n",
       "1                 ! ! #b2b                        -13.0606                  ,                     -8.0238\n",
       "2         ! ! #beredseered                        -13.0606                  ➊                     -8.0423\n",
       "3     ! ! #cholecystectomy                        -13.0606                  \"                     -8.1517\n",
       "4                 ! ! #fbr                        -13.0606             people                     -8.4336\n",
       "5                ! ! #free                        -13.0606                  ?                     -8.5699\n",
       "6          ! ! #frustrated                        -13.0606              don't                     -8.6773\n",
       "7             ! ! #ipl2018                        -13.0606               like                     -8.6839\n",
       "8               ! ! #liars                        -13.0606               just                     -8.7258\n",
       "9   ! ! #lottedutyfreexbts                        -13.0606                i'm                     -8.8254\n",
       "10            ! ! #meekotw                        -13.0606                  !                     -8.8402\n",
       "11                ! ! #miz                        -13.0606               it's                     -9.0796\n",
       "12      ! ! #noveladdicted                        -13.0606                  :                     -9.0986\n",
       "13    ! ! #ohbacchanalshow                        -13.0606                . ➊                     -9.1025\n",
       "14            ! ! #prebook                        -13.0606               know                     -9.1460\n",
       "15              ! ! #proaf                        -13.0606                ...                     -9.1882\n",
       "16           ! ! #ps4share                        -13.0606             you're                     -9.2240\n",
       "17          ! ! #stopsoros                        -13.0606            twitter                     -9.2856\n",
       "18         ! ! #teampierce                        -13.0606               love                     -9.3048\n",
       "19         ! ! #teentitans                        -13.0606            friends                     -9.3911\n",
       "20    ! ! #thisismylifenow                        -13.0606                  ➋                     -9.4050\n",
       "21       ! ! #traceybarbie                        -13.0606               time                     -9.4088\n",
       "22    ! ! #tuesdaythoughts                        -13.0606                  *                     -9.4259\n",
       "23           ! ! #twitchtv                        -13.0606             really                     -9.4367\n",
       "24               ! ! #wwie                        -13.0606               want                     -9.4640\n",
       "25                   ! ! &                        -13.0606                  😂                     -9.4668\n",
       "26                   ! ! )                        -13.0606               shit                     -9.4689\n",
       "27               ! ! 0.125                        -13.0606                  u                     -9.4732\n",
       "28                  ! ! 11                        -13.0606              think                     -9.4804\n",
       "29                  ! ! 15                        -13.0606               good                     -9.5227\n",
       "30                 ! ! 2-1                        -13.0606               make                     -9.5261\n",
       "31                   ! ! 3                        -13.0606              can't                     -9.5578\n",
       "32                   ! ! 5                        -13.0606              tweet                     -9.5846\n",
       "33                  ! ! ;)                        -13.0606               need                     -9.6691\n",
       "34                   ! ! @                        -13.0606                say                     -9.6764\n",
       "35               ! ! agree                        -13.0606                lol                     -9.7169\n",
       "36             ! ! amazing                        -13.0606               fuck                     -9.7270\n",
       "37            ! ! approved                        -13.0606                ! !                     -9.7471\n",
       "38                 ! ! aug                        -13.0606                  /                     -9.7500\n",
       "39              ! ! bambam                        -13.0606               hate                     -9.7744\n",
       "40                ! ! best                        -13.0606             person                     -9.7881\n",
       "41             ! ! beyoncé                        -13.0606               stop                     -9.7882\n",
       "42                ! ! bite                        -13.0606              thing                     -9.7958\n",
       "43            ! ! breaking                        -13.0606                  )                     -9.8085\n",
       "44               ! ! bring                        -13.0606                ? ?                     -9.8219\n",
       "45              ! ! camera                        -13.0606              y'all                     -9.8226\n",
       "46               ! ! catch                        -13.0606               life                     -9.8333\n",
       "47               ! ! champ                        -13.0606            fucking                     -9.8499\n",
       "48           ! ! chefboyar                        -13.0606                  '                     -9.8546\n",
       "49            ! ! classics                        -13.0606                  -                     -9.8856"
      ]
     },
     "execution_count": 31,
     "metadata": {},
     "output_type": "execute_result"
    }
   ],
   "source": [
    "final_features = most_informative_features_non_subtweet.join(most_informative_features_subtweet, \n",
    "                                                             lsuffix=\" (Non-subtweet)\", \n",
    "                                                             rsuffix=\" (Subtweet)\")\n",
    "final_features.to_csv(\"../data/other_data/most_informative_features.csv\")\n",
    "final_features.head(50)"
   ]
  },
  {
   "cell_type": "markdown",
   "metadata": {},
   "source": [
    "#### Define function for visualizing confusion matrices"
   ]
  },
  {
   "cell_type": "code",
   "execution_count": 32,
   "metadata": {},
   "outputs": [],
   "source": [
    "def plot_confusion_matrix(cm, classes=[\"non-subtweet\", \"subtweet\"], \n",
    "                          title=\"Confusion Matrix\", cmap=plt.cm.Purples):\n",
    "    \n",
    "    cm_normalized = cm.astype(\"float\") / cm.sum(axis=1)[:, np.newaxis]\n",
    "\n",
    "    plt.imshow(cm, interpolation=\"nearest\", cmap=cmap)\n",
    "    plt.colorbar()\n",
    "    \n",
    "    plt.title(title, size=18)\n",
    "    \n",
    "    tick_marks = np.arange(len(classes))\n",
    "    plt.xticks(tick_marks, classes, rotation=45, fontsize=14)\n",
    "    plt.yticks(tick_marks, classes, fontsize=14)\n",
    "\n",
    "    thresh = cm.max() / 2.\n",
    "    for i, j in itertools.product(range(cm.shape[0]), range(cm.shape[1])):\n",
    "        plt.text(j, i, \"{} ({:.0%})\".format(cm[i, j], cm_normalized[i, j]),\n",
    "                horizontalalignment=\"center\", size=16,\n",
    "                color=\"white\" if cm[i, j] > thresh else \"black\")\n",
    "        \n",
    "    plt.tight_layout()\n",
    "    \n",
    "    plt.ylabel(\"True label\", fontsize=14)\n",
    "    plt.xlabel(\"Predicted Label\", fontsize=14)"
   ]
  },
  {
   "cell_type": "markdown",
   "metadata": {},
   "source": [
    "#### Show the matrices"
   ]
  },
  {
   "cell_type": "code",
   "execution_count": 33,
   "metadata": {},
   "outputs": [
    {
     "data": {
      "image/png": "[encoded data removed]",
      "text/plain": [
       "<Figure size 432x432 with 2 Axes>"
      ]
     },
     "metadata": {},
     "output_type": "display_data"
    },
    {
     "data": {
      "image/png": "[encoded data removed]",
      "text/plain": [
       "<Figure size 432x432 with 2 Axes>"
      ]
     },
     "metadata": {},
     "output_type": "display_data"
    }
   ],
   "source": [
    "np.set_printoptions(precision=2)\n",
    "\n",
    "plt.figure(figsize=(6, 6))\n",
    "plot_confusion_matrix(cnf_matrix_test, title=\"Test Data Confusion Matrix\")\n",
    "\n",
    "plt.figure(figsize=(6, 6))\n",
    "plot_confusion_matrix(cnf_matrix_train, title=\"Train Data Confusion Matrix\")\n",
    "\n",
    "plt.show()"
   ]
  },
  {
   "cell_type": "markdown",
   "metadata": {},
   "source": [
    "#### Update matplotlib style"
   ]
  },
  {
   "cell_type": "code",
   "execution_count": 34,
   "metadata": {},
   "outputs": [],
   "source": [
    "plt.style.use(\"fivethirtyeight\")"
   ]
  },
  {
   "cell_type": "markdown",
   "metadata": {},
   "source": [
    "#### Save the classifier for another time"
   ]
  },
  {
   "cell_type": "code",
   "execution_count": 35,
   "metadata": {},
   "outputs": [],
   "source": [
    "joblib.dump(sentiment_pipeline, \"../data/other_data/subtweets_classifier.pkl\");"
   ]
  },
  {
   "cell_type": "markdown",
   "metadata": {},
   "source": [
    "#### Print tests for the classifier"
   ]
  },
  {
   "cell_type": "code",
   "execution_count": 36,
   "metadata": {},
   "outputs": [],
   "source": [
    "def process_tweets_for_testing(filenames):\n",
    "    dataframes = {}\n",
    "    for filename in filenames:\n",
    "        username = splitext(basename(filename))[0][:-7]\n",
    "        dataframes[username] = {}\n",
    "        \n",
    "        user_df = pd.read_csv(filename).dropna()\n",
    "        user_df[\"Text\"] = user_df[\"Text\"].str.replace(urls_pattern, \"➊\")\n",
    "        user_df[\"Text\"] = user_df[\"Text\"].str.replace(at_mentions_pattern, \"➋\")\n",
    "        user_df[\"Text\"] = user_df[\"Text\"].str.replace(names_pattern, \"➌\")\n",
    "        user_df[\"Text\"] = user_df[\"Text\"].str.replace(\"\\u2018\", \"'\")\n",
    "        user_df[\"Text\"] = user_df[\"Text\"].str.replace(\"\\u2019\", \"'\")\n",
    "        user_df[\"Text\"] = user_df[\"Text\"].str.replace(\"\\u201c\", \"\\\"\")\n",
    "        user_df[\"Text\"] = user_df[\"Text\"].str.replace(\"\\u201d\", \"\\\"\")\n",
    "        user_df[\"Text\"] = user_df[\"Text\"].str.replace(\"&quot;\", \"\\\"\")\n",
    "        user_df[\"Text\"] = user_df[\"Text\"].str.replace(\"&amp;\", \"&\")\n",
    "        user_df[\"Text\"] = user_df[\"Text\"].str.replace(\"&gt;\", \">\")\n",
    "        user_df[\"Text\"] = user_df[\"Text\"].str.replace(\"&lt;\", \"<\")\n",
    "        \n",
    "        predictions = sentiment_pipeline.predict_proba(user_df[\"Text\"])[:, 1].tolist()\n",
    "        user_df[\"SubtweetProbability\"] = predictions\n",
    "\n",
    "        dataframes[username][\"all\"] = user_df\n",
    "        \n",
    "        scores = user_df[[\"SubtweetProbability\"]].rename(columns={\"SubtweetProbability\": username})\n",
    "        \n",
    "        dataframes[username][\"scores\"] = scores\n",
    "        dataframes[username][\"stats\"] = scores.describe()\n",
    "        \n",
    "    return dataframes"
   ]
  },
  {
   "cell_type": "markdown",
   "metadata": {},
   "source": [
    "#### Load the CSV files"
   ]
  },
  {
   "cell_type": "code",
   "execution_count": 37,
   "metadata": {},
   "outputs": [],
   "source": [
    "filenames = glob(\"../data/data_for_testing/friends_data/*.csv\")"
   ]
  },
  {
   "cell_type": "code",
   "execution_count": 38,
   "metadata": {},
   "outputs": [
    {
     "name": "stdout",
     "output_type": "stream",
     "text": [
      "CPU times: user 9.48 s, sys: 183 ms, total: 9.66 s\n",
      "Wall time: 10.2 s\n"
     ]
    }
   ],
   "source": [
    "dataframes = process_tweets_for_testing(filenames)"
   ]
  },
  {
   "cell_type": "markdown",
   "metadata": {},
   "source": [
    "#### Show a random table"
   ]
  },
  {
   "cell_type": "code",
   "execution_count": 39,
   "metadata": {},
   "outputs": [
    {
     "data": {
      "text/html": [
       "<div>\n",
       "<style scoped>\n",
       "    .dataframe tbody tr th:only-of-type {\n",
       "        vertical-align: middle;\n",
       "    }\n",
       "\n",
       "    .dataframe tbody tr th {\n",
       "        vertical-align: top;\n",
       "    }\n",
       "\n",
       "    .dataframe thead th {\n",
       "        text-align: right;\n",
       "    }\n",
       "</style>\n",
       "<table border=\"1\" class=\"dataframe\">\n",
       "  <thead>\n",
       "    <tr style=\"text-align: right;\">\n",
       "      <th></th>\n",
       "      <th>Text</th>\n",
       "      <th>Date</th>\n",
       "      <th>Favorites</th>\n",
       "      <th>Retweets</th>\n",
       "      <th>Tweet ID</th>\n",
       "      <th>SubtweetProbability</th>\n",
       "    </tr>\n",
       "  </thead>\n",
       "  <tbody>\n",
       "    <tr>\n",
       "      <th>270</th>\n",
       "      <td>herding cats only you're also a cat</td>\n",
       "      <td>2017-04-09 11:56:33</td>\n",
       "      <td>2</td>\n",
       "      <td>0</td>\n",
       "      <td>851101536944095232</td>\n",
       "      <td>0.7328</td>\n",
       "    </tr>\n",
       "    <tr>\n",
       "      <th>14</th>\n",
       "      <td>*catches story about Far Cry 5 composer on NPR*\\n\\n\"Oh cool\"\\n\\n*NPR host proceeds to insult earlier generations of game composers while obviously knowing nothing about the medium*\\n\\n\"...arschloch...\"\\n\\n*composer tacitly agrees*\\n\\n*breaks radio*</td>\n",
       "      <td>2018-03-28 14:23:01</td>\n",
       "      <td>9</td>\n",
       "      <td>0</td>\n",
       "      <td>979061310695641088</td>\n",
       "      <td>0.7274</td>\n",
       "    </tr>\n",
       "    <tr>\n",
       "      <th>154</th>\n",
       "      <td>i'm bored with twitter, let's look at twitter</td>\n",
       "      <td>2017-09-19 17:56:21</td>\n",
       "      <td>2</td>\n",
       "      <td>1</td>\n",
       "      <td>910261304711159808</td>\n",
       "      <td>0.7170</td>\n",
       "    </tr>\n",
       "    <tr>\n",
       "      <th>64</th>\n",
       "      <td>wow, LINQ can be dangerously CPU hungry if you aren't careful (*sometimes* i'm not)</td>\n",
       "      <td>2018-01-14 20:30:49</td>\n",
       "      <td>0</td>\n",
       "      <td>0</td>\n",
       "      <td>952714658875457536</td>\n",
       "      <td>0.7064</td>\n",
       "    </tr>\n",
       "    <tr>\n",
       "      <th>96</th>\n",
       "      <td>My new phone doesn't know me yet.  When I type \"hellscape\" I mean \"hellscape,\" not \"Hillsdale\"</td>\n",
       "      <td>2017-12-06 19:28:20</td>\n",
       "      <td>5</td>\n",
       "      <td>0</td>\n",
       "      <td>938565806719455232</td>\n",
       "      <td>0.6912</td>\n",
       "    </tr>\n",
       "  </tbody>\n",
       "</table>\n",
       "</div>"
      ],
      "text/plain": [
       "                                                                                                                                                                                                                                                         Text                 Date  Favorites  Retweets            Tweet ID  SubtweetProbability\n",
       "270                                                                                                                                                                                                                       herding cats only you're also a cat  2017-04-09 11:56:33          2         0  851101536944095232               0.7328\n",
       "14   *catches story about Far Cry 5 composer on NPR*\\n\\n\"Oh cool\"\\n\\n*NPR host proceeds to insult earlier generations of game composers while obviously knowing nothing about the medium*\\n\\n\"...arschloch...\"\\n\\n*composer tacitly agrees*\\n\\n*breaks radio*  2018-03-28 14:23:01          9         0  979061310695641088               0.7274\n",
       "154                                                                                                                                                                                                             i'm bored with twitter, let's look at twitter  2017-09-19 17:56:21          2         1  910261304711159808               0.7170\n",
       "64                                                                                                                                                                        wow, LINQ can be dangerously CPU hungry if you aren't careful (*sometimes* i'm not)  2018-01-14 20:30:49          0         0  952714658875457536               0.7064\n",
       "96                                                                                                                                                             My new phone doesn't know me yet.  When I type \"hellscape\" I mean \"hellscape,\" not \"Hillsdale\"  2017-12-06 19:28:20          5         0  938565806719455232               0.6912"
      ]
     },
     "execution_count": 39,
     "metadata": {},
     "output_type": "execute_result"
    }
   ],
   "source": [
    "chosen_username = choice(list(dataframes.keys()))\n",
    "dataframes[chosen_username][\"all\"].sort_values(by=\"SubtweetProbability\", ascending=False).head(5)"
   ]
  },
  {
   "cell_type": "markdown",
   "metadata": {},
   "source": [
    "#### Prepare statistics on tweets"
   ]
  },
  {
   "cell_type": "code",
   "execution_count": 40,
   "metadata": {},
   "outputs": [],
   "source": [
    "tests_df = pd.concat([df_dict[\"scores\"] for df_dict in dataframes.values()], ignore_index=True)"
   ]
  },
  {
   "cell_type": "code",
   "execution_count": 41,
   "metadata": {},
   "outputs": [],
   "source": [
    "test_df_stats = tests_df.describe()"
   ]
  },
  {
   "cell_type": "code",
   "execution_count": 42,
   "metadata": {},
   "outputs": [],
   "source": [
    "test_df_stats.columns = [\"User {}\".format(i + 1) for i, column in enumerate(test_df_stats.columns)]"
   ]
  },
  {
   "cell_type": "code",
   "execution_count": 43,
   "metadata": {},
   "outputs": [
    {
     "data": {
      "text/html": [
       "<div>\n",
       "<style scoped>\n",
       "    .dataframe tbody tr th:only-of-type {\n",
       "        vertical-align: middle;\n",
       "    }\n",
       "\n",
       "    .dataframe tbody tr th {\n",
       "        vertical-align: top;\n",
       "    }\n",
       "\n",
       "    .dataframe thead th {\n",
       "        text-align: right;\n",
       "    }\n",
       "</style>\n",
       "<table border=\"1\" class=\"dataframe\">\n",
       "  <thead>\n",
       "    <tr style=\"text-align: right;\">\n",
       "      <th></th>\n",
       "      <th>User 1</th>\n",
       "      <th>User 2</th>\n",
       "      <th>User 3</th>\n",
       "      <th>User 4</th>\n",
       "      <th>User 5</th>\n",
       "      <th>User 6</th>\n",
       "      <th>User 7</th>\n",
       "      <th>User 8</th>\n",
       "      <th>User 9</th>\n",
       "      <th>User 10</th>\n",
       "      <th>User 11</th>\n",
       "      <th>User 12</th>\n",
       "      <th>User 13</th>\n",
       "      <th>User 14</th>\n",
       "    </tr>\n",
       "  </thead>\n",
       "  <tbody>\n",
       "    <tr>\n",
       "      <th>count</th>\n",
       "      <td>621.0000</td>\n",
       "      <td>2640.0000</td>\n",
       "      <td>2066.0000</td>\n",
       "      <td>3488.0000</td>\n",
       "      <td>4356.0000</td>\n",
       "      <td>1939.0000</td>\n",
       "      <td>1169.0000</td>\n",
       "      <td>638.0000</td>\n",
       "      <td>2814.0000</td>\n",
       "      <td>445.0000</td>\n",
       "      <td>772.0000</td>\n",
       "      <td>5364.0000</td>\n",
       "      <td>853.0000</td>\n",
       "      <td>1467.0000</td>\n",
       "    </tr>\n",
       "    <tr>\n",
       "      <th>mean</th>\n",
       "      <td>0.5198</td>\n",
       "      <td>0.5110</td>\n",
       "      <td>0.5621</td>\n",
       "      <td>0.5227</td>\n",
       "      <td>0.5312</td>\n",
       "      <td>0.4936</td>\n",
       "      <td>0.4296</td>\n",
       "      <td>0.5424</td>\n",
       "      <td>0.5169</td>\n",
       "      <td>0.4174</td>\n",
       "      <td>0.5506</td>\n",
       "      <td>0.5093</td>\n",
       "      <td>0.5556</td>\n",
       "      <td>0.5378</td>\n",
       "    </tr>\n",
       "    <tr>\n",
       "      <th>std</th>\n",
       "      <td>0.1187</td>\n",
       "      <td>0.1334</td>\n",
       "      <td>0.1211</td>\n",
       "      <td>0.1300</td>\n",
       "      <td>0.1090</td>\n",
       "      <td>0.1272</td>\n",
       "      <td>0.1155</td>\n",
       "      <td>0.1295</td>\n",
       "      <td>0.1230</td>\n",
       "      <td>0.1158</td>\n",
       "      <td>0.1214</td>\n",
       "      <td>0.1274</td>\n",
       "      <td>0.1246</td>\n",
       "      <td>0.1239</td>\n",
       "    </tr>\n",
       "    <tr>\n",
       "      <th>min</th>\n",
       "      <td>0.1162</td>\n",
       "      <td>0.0617</td>\n",
       "      <td>0.0912</td>\n",
       "      <td>0.0869</td>\n",
       "      <td>0.0637</td>\n",
       "      <td>0.0368</td>\n",
       "      <td>0.0195</td>\n",
       "      <td>0.1063</td>\n",
       "      <td>0.0330</td>\n",
       "      <td>0.0521</td>\n",
       "      <td>0.1355</td>\n",
       "      <td>0.0399</td>\n",
       "      <td>0.1186</td>\n",
       "      <td>0.0457</td>\n",
       "    </tr>\n",
       "    <tr>\n",
       "      <th>25%</th>\n",
       "      <td>0.4379</td>\n",
       "      <td>0.4252</td>\n",
       "      <td>0.4807</td>\n",
       "      <td>0.4298</td>\n",
       "      <td>0.4596</td>\n",
       "      <td>0.4158</td>\n",
       "      <td>0.3585</td>\n",
       "      <td>0.4568</td>\n",
       "      <td>0.4366</td>\n",
       "      <td>0.3536</td>\n",
       "      <td>0.4724</td>\n",
       "      <td>0.4264</td>\n",
       "      <td>0.4787</td>\n",
       "      <td>0.4687</td>\n",
       "    </tr>\n",
       "    <tr>\n",
       "      <th>50%</th>\n",
       "      <td>0.5219</td>\n",
       "      <td>0.5142</td>\n",
       "      <td>0.5592</td>\n",
       "      <td>0.5290</td>\n",
       "      <td>0.5336</td>\n",
       "      <td>0.4988</td>\n",
       "      <td>0.4322</td>\n",
       "      <td>0.5391</td>\n",
       "      <td>0.5230</td>\n",
       "      <td>0.4189</td>\n",
       "      <td>0.5475</td>\n",
       "      <td>0.5069</td>\n",
       "      <td>0.5530</td>\n",
       "      <td>0.5395</td>\n",
       "    </tr>\n",
       "    <tr>\n",
       "      <th>75%</th>\n",
       "      <td>0.6023</td>\n",
       "      <td>0.6005</td>\n",
       "      <td>0.6454</td>\n",
       "      <td>0.6179</td>\n",
       "      <td>0.6012</td>\n",
       "      <td>0.5752</td>\n",
       "      <td>0.5043</td>\n",
       "      <td>0.6323</td>\n",
       "      <td>0.5977</td>\n",
       "      <td>0.5002</td>\n",
       "      <td>0.6366</td>\n",
       "      <td>0.5918</td>\n",
       "      <td>0.6395</td>\n",
       "      <td>0.6238</td>\n",
       "    </tr>\n",
       "    <tr>\n",
       "      <th>max</th>\n",
       "      <td>0.8661</td>\n",
       "      <td>0.9078</td>\n",
       "      <td>0.8883</td>\n",
       "      <td>0.9049</td>\n",
       "      <td>0.9113</td>\n",
       "      <td>0.9018</td>\n",
       "      <td>0.8408</td>\n",
       "      <td>0.8874</td>\n",
       "      <td>0.8931</td>\n",
       "      <td>0.7328</td>\n",
       "      <td>0.8806</td>\n",
       "      <td>0.9067</td>\n",
       "      <td>0.8725</td>\n",
       "      <td>0.9007</td>\n",
       "    </tr>\n",
       "  </tbody>\n",
       "</table>\n",
       "</div>"
      ],
      "text/plain": [
       "        User 1    User 2    User 3    User 4    User 5    User 6    User 7   User 8    User 9  User 10  User 11   User 12  User 13   User 14\n",
       "count 621.0000 2640.0000 2066.0000 3488.0000 4356.0000 1939.0000 1169.0000 638.0000 2814.0000 445.0000 772.0000 5364.0000 853.0000 1467.0000\n",
       "mean    0.5198    0.5110    0.5621    0.5227    0.5312    0.4936    0.4296   0.5424    0.5169   0.4174   0.5506    0.5093   0.5556    0.5378\n",
       "std     0.1187    0.1334    0.1211    0.1300    0.1090    0.1272    0.1155   0.1295    0.1230   0.1158   0.1214    0.1274   0.1246    0.1239\n",
       "min     0.1162    0.0617    0.0912    0.0869    0.0637    0.0368    0.0195   0.1063    0.0330   0.0521   0.1355    0.0399   0.1186    0.0457\n",
       "25%     0.4379    0.4252    0.4807    0.4298    0.4596    0.4158    0.3585   0.4568    0.4366   0.3536   0.4724    0.4264   0.4787    0.4687\n",
       "50%     0.5219    0.5142    0.5592    0.5290    0.5336    0.4988    0.4322   0.5391    0.5230   0.4189   0.5475    0.5069   0.5530    0.5395\n",
       "75%     0.6023    0.6005    0.6454    0.6179    0.6012    0.5752    0.5043   0.6323    0.5977   0.5002   0.6366    0.5918   0.6395    0.6238\n",
       "max     0.8661    0.9078    0.8883    0.9049    0.9113    0.9018    0.8408   0.8874    0.8931   0.7328   0.8806    0.9067   0.8725    0.9007"
      ]
     },
     "execution_count": 43,
     "metadata": {},
     "output_type": "execute_result"
    }
   ],
   "source": [
    "test_df_stats"
   ]
  },
  {
   "cell_type": "markdown",
   "metadata": {},
   "source": [
    "#### Plot a histogram with three random users"
   ]
  },
  {
   "cell_type": "code",
   "execution_count": 44,
   "metadata": {},
   "outputs": [
    {
     "name": "stdout",
     "output_type": "stream",
     "text": [
      "[2640.0, 0.510974216440794, 0.1333750739119666, 0.06167070282863514, 0.42522095864796183, 0.5141759670853949, 0.6005047582561756, 0.9078269341439998]\n",
      "[2814.0, 0.5168738021156133, 0.1229585539376188, 0.0330098917047056, 0.43660560090304806, 0.5229978405874081, 0.5977007670244899, 0.8931268586639309]\n",
      "[5364.0, 0.5092823782982704, 0.12739269335236975, 0.039857144868322675, 0.42642798430433415, 0.5068758516607921, 0.5918282179395047, 0.9067181108055742]\n"
     ]
    },
    {
     "data": {
      "image/png": "[encoded data removed]",
      "text/plain": [
       "<Figure size 1152x648 with 1 Axes>"
      ]
     },
     "metadata": {},
     "output_type": "display_data"
    }
   ],
   "source": [
    "random_choices = sample(list(dataframes.values()), 3)\n",
    "scores = [df_dict[\"scores\"][df_dict[\"scores\"].columns[0]].tolist() \n",
    "          for df_dict in random_choices]\n",
    "\n",
    "fig = plt.figure(figsize=(16, 9))\n",
    "ax = fig.add_subplot(111)\n",
    "\n",
    "n, bins, patches = ax.hist(scores, \n",
    "                           bins=\"scott\",\n",
    "                           color=[\"#256EFF\", \"#46237A\", \"#3DDC97\"],\n",
    "                           density=True, \n",
    "                           label=[\"User 1\", \"User 2\", \"User 3\"],\n",
    "                           alpha=0.75)\n",
    "\n",
    "stats = [df_dict[\"stats\"][df_dict[\"stats\"].columns[0]].tolist() \n",
    "         for df_dict in random_choices]\n",
    "for e in stats:\n",
    "    print(e)\n",
    "line_1 = scipy.stats.norm.pdf(bins, stats[0][1], stats[0][2])\n",
    "ax.plot(bins, line_1, \"--\", color=\"#256EFF\", linewidth=2)\n",
    "\n",
    "line_2 = scipy.stats.norm.pdf(bins, stats[1][1], stats[1][2])\n",
    "ax.plot(bins, line_2, \"--\", color=\"#46237A\", linewidth=2)\n",
    "\n",
    "line_3 = scipy.stats.norm.pdf(bins, stats[2][1], stats[2][2])\n",
    "ax.plot(bins, line_3, \"--\", color=\"#3DDC97\", linewidth=2)\n",
    "\n",
    "ax.set_xticks([float(x/10) for x in range(11)], minor=False)\n",
    "ax.set_title(\"Distribution of Subtweet Probabilities In User Accounts\", fontsize=18)\n",
    "ax.set_xlabel(\"Probability That Tweet is a Subtweet\", fontsize=18)\n",
    "ax.set_ylabel(\"Percent of Tweets with That Probability\", fontsize=18)\n",
    "\n",
    "ax.legend()\n",
    "\n",
    "plt.show()"
   ]
  },
  {
   "cell_type": "markdown",
   "metadata": {},
   "source": [
    "#### Plot a histogram with all of them\n",
    "#### First, get some statistics"
   ]
  },
  {
   "cell_type": "code",
   "execution_count": 45,
   "metadata": {},
   "outputs": [],
   "source": [
    "new_tests_df = pd.concat([df_dict[\"scores\"].rename(columns={df_dict[\"scores\"].columns[0]:\"SubtweetProbability\"})\n",
    "                          for df_dict in dataframes.values()], ignore_index=True)\n",
    "\n",
    "new_tests_df_stats = new_tests_df.describe()"
   ]
  },
  {
   "cell_type": "markdown",
   "metadata": {},
   "source": [
    "#### Then view them"
   ]
  },
  {
   "cell_type": "code",
   "execution_count": 46,
   "metadata": {},
   "outputs": [
    {
     "data": {
      "text/html": [
       "<div>\n",
       "<style scoped>\n",
       "    .dataframe tbody tr th:only-of-type {\n",
       "        vertical-align: middle;\n",
       "    }\n",
       "\n",
       "    .dataframe tbody tr th {\n",
       "        vertical-align: top;\n",
       "    }\n",
       "\n",
       "    .dataframe thead th {\n",
       "        text-align: right;\n",
       "    }\n",
       "</style>\n",
       "<table border=\"1\" class=\"dataframe\">\n",
       "  <thead>\n",
       "    <tr style=\"text-align: right;\">\n",
       "      <th></th>\n",
       "      <th>SubtweetProbability</th>\n",
       "    </tr>\n",
       "  </thead>\n",
       "  <tbody>\n",
       "    <tr>\n",
       "      <th>count</th>\n",
       "      <td>28632.0000</td>\n",
       "    </tr>\n",
       "    <tr>\n",
       "      <th>mean</th>\n",
       "      <td>0.5181</td>\n",
       "    </tr>\n",
       "    <tr>\n",
       "      <th>std</th>\n",
       "      <td>0.1267</td>\n",
       "    </tr>\n",
       "    <tr>\n",
       "      <th>min</th>\n",
       "      <td>0.0195</td>\n",
       "    </tr>\n",
       "    <tr>\n",
       "      <th>25%</th>\n",
       "      <td>0.4363</td>\n",
       "    </tr>\n",
       "    <tr>\n",
       "      <th>50%</th>\n",
       "      <td>0.5202</td>\n",
       "    </tr>\n",
       "    <tr>\n",
       "      <th>75%</th>\n",
       "      <td>0.6023</td>\n",
       "    </tr>\n",
       "    <tr>\n",
       "      <th>max</th>\n",
       "      <td>0.9113</td>\n",
       "    </tr>\n",
       "  </tbody>\n",
       "</table>\n",
       "</div>"
      ],
      "text/plain": [
       "       SubtweetProbability\n",
       "count           28632.0000\n",
       "mean                0.5181\n",
       "std                 0.1267\n",
       "min                 0.0195\n",
       "25%                 0.4363\n",
       "50%                 0.5202\n",
       "75%                 0.6023\n",
       "max                 0.9113"
      ]
     },
     "execution_count": 46,
     "metadata": {},
     "output_type": "execute_result"
    }
   ],
   "source": [
    "new_tests_df_stats"
   ]
  },
  {
   "cell_type": "markdown",
   "metadata": {},
   "source": [
    "#### Now plot"
   ]
  },
  {
   "cell_type": "code",
   "execution_count": 47,
   "metadata": {},
   "outputs": [
    {
     "name": "stderr",
     "output_type": "stream",
     "text": [
      "No handles with labels found to put in legend.\n"
     ]
    },
    {
     "data": {
      "image/png": "[encoded data removed]",
      "text/plain": [
       "<Figure size 1152x648 with 1 Axes>"
      ]
     },
     "metadata": {},
     "output_type": "display_data"
    }
   ],
   "source": [
    "fig = plt.figure(figsize=(16, 9))\n",
    "ax = fig.add_subplot(111)\n",
    "\n",
    "n, bins, patches = ax.hist(new_tests_df[\"SubtweetProbability\"].tolist(), \n",
    "                           bins=\"scott\",\n",
    "                           color=\"#983B59\",\n",
    "                           edgecolor=\"black\", \n",
    "                           density=True, \n",
    "                           alpha=0.75)\n",
    "\n",
    "line = scipy.stats.norm.pdf(bins, new_tests_df_stats[\"SubtweetProbability\"][1], \n",
    "                              new_tests_df_stats[\"SubtweetProbability\"][2])\n",
    "\n",
    "ax.plot(bins, line, \"--\", color=\"#983B59\", linewidth=2)\n",
    "\n",
    "\n",
    "ax.set_xticks([float(x/10) for x in range(11)], minor=False)\n",
    "ax.set_title(\"Distribution of Subtweet Probabilities In All User Accounts\", fontsize=18)\n",
    "ax.set_xlabel(\"Probability That Tweet is a Subtweet\", fontsize=18)\n",
    "ax.set_ylabel(\"Percent of Tweets with That Probability\", fontsize=18)\n",
    "\n",
    "ax.legend()\n",
    "\n",
    "plt.show()"
   ]
  },
  {
   "cell_type": "markdown",
   "metadata": {},
   "source": [
    "#### Statisitics on training data"
   ]
  },
  {
   "cell_type": "markdown",
   "metadata": {},
   "source": [
    "#### Remove mentions of usernames for these statistics"
   ]
  },
  {
   "cell_type": "code",
   "execution_count": 48,
   "metadata": {},
   "outputs": [],
   "source": [
    "training_data = [(tweet[0]\n",
    "                  .replace(\"➊\", \"\")\n",
    "                  .replace(\"➋\", \"\")\n",
    "                  .replace(\"➌\", \"\")) for tweet in training_data]"
   ]
  },
  {
   "cell_type": "markdown",
   "metadata": {},
   "source": [
    "#### Lengths"
   ]
  },
  {
   "cell_type": "code",
   "execution_count": 49,
   "metadata": {},
   "outputs": [],
   "source": [
    "length_data = [len(tweet) for tweet in training_data]"
   ]
  },
  {
   "cell_type": "code",
   "execution_count": 50,
   "metadata": {},
   "outputs": [],
   "source": [
    "length_data_for_stats = pd.DataFrame({\"Length\": length_data, \"Tweet\": training_data})"
   ]
  },
  {
   "cell_type": "code",
   "execution_count": 51,
   "metadata": {},
   "outputs": [],
   "source": [
    "# length_data_for_stats = length_data_for_stats[length_data_for_stats[\"Length\"] <= 280]  "
   ]
  },
  {
   "cell_type": "code",
   "execution_count": 52,
   "metadata": {},
   "outputs": [],
   "source": [
    "# length_data_for_stats = length_data_for_stats[length_data_for_stats[\"Length\"] >= 5]"
   ]
  },
  {
   "cell_type": "code",
   "execution_count": 53,
   "metadata": {},
   "outputs": [],
   "source": [
    "length_data = length_data_for_stats.Length.tolist()"
   ]
  },
  {
   "cell_type": "markdown",
   "metadata": {},
   "source": [
    "#### Top 5 longest tweets"
   ]
  },
  {
   "cell_type": "code",
   "execution_count": 54,
   "metadata": {},
   "outputs": [
    {
     "data": {
      "text/html": [
       "<div>\n",
       "<style scoped>\n",
       "    .dataframe tbody tr th:only-of-type {\n",
       "        vertical-align: middle;\n",
       "    }\n",
       "\n",
       "    .dataframe tbody tr th {\n",
       "        vertical-align: top;\n",
       "    }\n",
       "\n",
       "    .dataframe thead th {\n",
       "        text-align: right;\n",
       "    }\n",
       "</style>\n",
       "<table border=\"1\" class=\"dataframe\">\n",
       "  <thead>\n",
       "    <tr style=\"text-align: right;\">\n",
       "      <th></th>\n",
       "      <th>Length</th>\n",
       "      <th>Tweet</th>\n",
       "    </tr>\n",
       "  </thead>\n",
       "  <tbody>\n",
       "    <tr>\n",
       "      <th>13533</th>\n",
       "      <td>281</td>\n",
       "      <td>The previous occupant of this house was a 90 yr old Japanese-American widow. Everything's 70s af. Harvest gold in the kitchen. Shag carpet in the living room. Beads in the bathroom window. Fuzzy wallpaper in the entryway.\\n\\nAll this stuff is in amazing condition for how old it is.</td>\n",
       "    </tr>\n",
       "    <tr>\n",
       "      <th>12058</th>\n",
       "      <td>281</td>\n",
       "      <td>Remember, when you lose your job, when you cant apply for that position in Europe, when your holiday money doesnt go as far as it used to, when you're stuck in the slow queue at the border,..\\n\\nRemember it wasnt anything concrete that actually happened..it was just..a 'principle'.</td>\n",
       "    </tr>\n",
       "    <tr>\n",
       "      <th>17162</th>\n",
       "      <td>281</td>\n",
       "      <td>\"Advisory equity @ 1-5% helps the mentor be aligned to the startup\"   \\n\\nThis is insane crap! Advisory equity in early stage startups (if at all) shld be of order ~ 0.10% - 0.25%. Anything more means misaligned incentives.. the startup is either clueless or being taken for a ride!</td>\n",
       "    </tr>\n",
       "    <tr>\n",
       "      <th>20907</th>\n",
       "      <td>281</td>\n",
       "      <td>Keep in mind Trump is complaining about the seizure of documents he concedes were created without his knowledge, and thus outside any attorney-client relationship. So even Trump's four-word tweets are incoherent—unless this is a confession he DID know about the payoff to Daniels.</td>\n",
       "    </tr>\n",
       "    <tr>\n",
       "      <th>21273</th>\n",
       "      <td>281</td>\n",
       "      <td>ARMY this is a serious issue and we are going address it including turning to the local police. We know it's not all of you, but a small group of haters. We need to make sure not to encourage that behavior, it against everything BTS, BigHit and ARMY stands for. Bully is not cool.</td>\n",
       "    </tr>\n",
       "  </tbody>\n",
       "</table>\n",
       "</div>"
      ],
      "text/plain": [
       "       Length                                                                                                                                                                                                                                                                                        Tweet\n",
       "13533     281  The previous occupant of this house was a 90 yr old Japanese-American widow. Everything's 70s af. Harvest gold in the kitchen. Shag carpet in the living room. Beads in the bathroom window. Fuzzy wallpaper in the entryway.\\n\\nAll this stuff is in amazing condition for how old it is. \n",
       "12058     281  Remember, when you lose your job, when you cant apply for that position in Europe, when your holiday money doesnt go as far as it used to, when you're stuck in the slow queue at the border,..\\n\\nRemember it wasnt anything concrete that actually happened..it was just..a 'principle'. \n",
       "17162     281  \"Advisory equity @ 1-5% helps the mentor be aligned to the startup\"   \\n\\nThis is insane crap! Advisory equity in early stage startups (if at all) shld be of order ~ 0.10% - 0.25%. Anything more means misaligned incentives.. the startup is either clueless or being taken for a ride! \n",
       "20907     281    Keep in mind Trump is complaining about the seizure of documents he concedes were created without his knowledge, and thus outside any attorney-client relationship. So even Trump's four-word tweets are incoherent—unless this is a confession he DID know about the payoff to Daniels. \n",
       "21273     281    ARMY this is a serious issue and we are going address it including turning to the local police. We know it's not all of you, but a small group of haters. We need to make sure not to encourage that behavior, it against everything BTS, BigHit and ARMY stands for. Bully is not cool. "
      ]
     },
     "execution_count": 54,
     "metadata": {},
     "output_type": "execute_result"
    }
   ],
   "source": [
    "length_data_for_stats.sort_values(by=\"Length\", ascending=False).head()"
   ]
  },
  {
   "cell_type": "markdown",
   "metadata": {},
   "source": [
    "#### Top 5 shortest tweets"
   ]
  },
  {
   "cell_type": "code",
   "execution_count": 55,
   "metadata": {},
   "outputs": [
    {
     "data": {
      "text/html": [
       "<div>\n",
       "<style scoped>\n",
       "    .dataframe tbody tr th:only-of-type {\n",
       "        vertical-align: middle;\n",
       "    }\n",
       "\n",
       "    .dataframe tbody tr th {\n",
       "        vertical-align: top;\n",
       "    }\n",
       "\n",
       "    .dataframe thead th {\n",
       "        text-align: right;\n",
       "    }\n",
       "</style>\n",
       "<table border=\"1\" class=\"dataframe\">\n",
       "  <thead>\n",
       "    <tr style=\"text-align: right;\">\n",
       "      <th></th>\n",
       "      <th>Length</th>\n",
       "      <th>Tweet</th>\n",
       "    </tr>\n",
       "  </thead>\n",
       "  <tbody>\n",
       "    <tr>\n",
       "      <th>7521</th>\n",
       "      <td>4</td>\n",
       "      <td>Fake</td>\n",
       "    </tr>\n",
       "    <tr>\n",
       "      <th>2405</th>\n",
       "      <td>4</td>\n",
       "      <td>Rude</td>\n",
       "    </tr>\n",
       "    <tr>\n",
       "      <th>10291</th>\n",
       "      <td>4</td>\n",
       "      <td>soft</td>\n",
       "    </tr>\n",
       "    <tr>\n",
       "      <th>4370</th>\n",
       "      <td>4</td>\n",
       "      <td>Lame</td>\n",
       "    </tr>\n",
       "    <tr>\n",
       "      <th>2538</th>\n",
       "      <td>4</td>\n",
       "      <td>Ugly</td>\n",
       "    </tr>\n",
       "  </tbody>\n",
       "</table>\n",
       "</div>"
      ],
      "text/plain": [
       "       Length Tweet\n",
       "7521        4  Fake\n",
       "2405        4  Rude\n",
       "10291       4  soft\n",
       "4370        4  Lame\n",
       "2538        4  Ugly"
      ]
     },
     "execution_count": 55,
     "metadata": {},
     "output_type": "execute_result"
    }
   ],
   "source": [
    "length_data_for_stats.sort_values(by=\"Length\", ascending=True).head()"
   ]
  },
  {
   "cell_type": "markdown",
   "metadata": {},
   "source": [
    "#### Tweet length statistics"
   ]
  },
  {
   "cell_type": "code",
   "execution_count": 56,
   "metadata": {},
   "outputs": [
    {
     "data": {
      "text/html": [
       "<div>\n",
       "<style scoped>\n",
       "    .dataframe tbody tr th:only-of-type {\n",
       "        vertical-align: middle;\n",
       "    }\n",
       "\n",
       "    .dataframe tbody tr th {\n",
       "        vertical-align: top;\n",
       "    }\n",
       "\n",
       "    .dataframe thead th {\n",
       "        text-align: right;\n",
       "    }\n",
       "</style>\n",
       "<table border=\"1\" class=\"dataframe\">\n",
       "  <thead>\n",
       "    <tr style=\"text-align: right;\">\n",
       "      <th></th>\n",
       "      <th>Length</th>\n",
       "    </tr>\n",
       "  </thead>\n",
       "  <tbody>\n",
       "    <tr>\n",
       "      <th>count</th>\n",
       "      <td>22576.0000</td>\n",
       "    </tr>\n",
       "    <tr>\n",
       "      <th>mean</th>\n",
       "      <td>103.7809</td>\n",
       "    </tr>\n",
       "    <tr>\n",
       "      <th>std</th>\n",
       "      <td>73.1875</td>\n",
       "    </tr>\n",
       "    <tr>\n",
       "      <th>min</th>\n",
       "      <td>4.0000</td>\n",
       "    </tr>\n",
       "    <tr>\n",
       "      <th>25%</th>\n",
       "      <td>46.0000</td>\n",
       "    </tr>\n",
       "    <tr>\n",
       "      <th>50%</th>\n",
       "      <td>83.0000</td>\n",
       "    </tr>\n",
       "    <tr>\n",
       "      <th>75%</th>\n",
       "      <td>145.0000</td>\n",
       "    </tr>\n",
       "    <tr>\n",
       "      <th>max</th>\n",
       "      <td>281.0000</td>\n",
       "    </tr>\n",
       "  </tbody>\n",
       "</table>\n",
       "</div>"
      ],
      "text/plain": [
       "          Length\n",
       "count 22576.0000\n",
       "mean    103.7809\n",
       "std      73.1875\n",
       "min       4.0000\n",
       "25%      46.0000\n",
       "50%      83.0000\n",
       "75%     145.0000\n",
       "max     281.0000"
      ]
     },
     "execution_count": 56,
     "metadata": {},
     "output_type": "execute_result"
    }
   ],
   "source": [
    "length_data_for_stats.describe()"
   ]
  },
  {
   "cell_type": "markdown",
   "metadata": {},
   "source": [
    "#### Punctuation"
   ]
  },
  {
   "cell_type": "code",
   "execution_count": 57,
   "metadata": {},
   "outputs": [],
   "source": [
    "punctuation_data = [len(set(punctuation).intersection(set(tweet))) for tweet in training_data]"
   ]
  },
  {
   "cell_type": "code",
   "execution_count": 58,
   "metadata": {},
   "outputs": [],
   "source": [
    "punctuation_data_for_stats = pd.DataFrame({\"Punctuation\": punctuation_data, \"Tweet\": training_data})"
   ]
  },
  {
   "cell_type": "markdown",
   "metadata": {},
   "source": [
    "#### Top 5 most punctuated tweets"
   ]
  },
  {
   "cell_type": "code",
   "execution_count": 59,
   "metadata": {},
   "outputs": [
    {
     "data": {
      "text/html": [
       "<div>\n",
       "<style scoped>\n",
       "    .dataframe tbody tr th:only-of-type {\n",
       "        vertical-align: middle;\n",
       "    }\n",
       "\n",
       "    .dataframe tbody tr th {\n",
       "        vertical-align: top;\n",
       "    }\n",
       "\n",
       "    .dataframe thead th {\n",
       "        text-align: right;\n",
       "    }\n",
       "</style>\n",
       "<table border=\"1\" class=\"dataframe\">\n",
       "  <thead>\n",
       "    <tr style=\"text-align: right;\">\n",
       "      <th></th>\n",
       "      <th>Punctuation</th>\n",
       "      <th>Tweet</th>\n",
       "    </tr>\n",
       "  </thead>\n",
       "  <tbody>\n",
       "    <tr>\n",
       "      <th>4380</th>\n",
       "      <td>13</td>\n",
       "      <td>IF U WERE KILLED TOMORROW, I WOULDNT GO 2 UR FUNERAL CUZ ID B N JAIL 4 KILLIN DA PERSON THAT KILLED U!\\n......__________________ \\n...../_==o;;;;;;;;______[]\\n.....), —-.(_(__) / \\n....// (..) ), —--\" \\n...//___// \\n..//___// \\nWE TRUE HOMIES WE RIDE TOGETHER WE DIE TOGETHER</td>\n",
       "    </tr>\n",
       "    <tr>\n",
       "      <th>12617</th>\n",
       "      <td>11</td>\n",
       "      <td>Going to go ahead and crown myself the absolute emperor of finding things on menus that sound interesting, deciding I would like to try them, then being told \"I'm sorry sir, that's actually not available...\"\\n\\n[ then why the @#$% is it ON YOUR MENUUUUUUUU-- ]</td>\n",
       "    </tr>\n",
       "    <tr>\n",
       "      <th>15961</th>\n",
       "      <td>10</td>\n",
       "      <td>10,000 #Fortnite V-Bucks Giveaway!\\n   🔥$100.00 PayPal🔥\\n\\n1. Retweet This Tweet\\n2. Follow   &amp; Myself\\n3. Tag a friend for x2 Entry (optional)\\n\\nDrawing Winner in 48 Hours! \\n(04/02/18) Good Luck!</td>\n",
       "    </tr>\n",
       "    <tr>\n",
       "      <th>13815</th>\n",
       "      <td>10</td>\n",
       "      <td>Hooray—for those of you who've been asking when FLASHBACK will be available for pre-order on *ebook* the answer is finally: NOW! Alas, pre-ordering won't make it come out sooner than 11/6 (still writing it, guys). BUT, it does make me super happy, so… 😉\\n</td>\n",
       "    </tr>\n",
       "    <tr>\n",
       "      <th>21165</th>\n",
       "      <td>10</td>\n",
       "      <td>USA's share of global GDP was about 50% after WW2, today it is about 15%. It will further decline this century (although its economy &amp; GDP/capita will continue to grow in absolute terms).\\n\\nHow will America react to this loss of \"relative power\"? By all indications, rather badly.</td>\n",
       "    </tr>\n",
       "  </tbody>\n",
       "</table>\n",
       "</div>"
      ],
      "text/plain": [
       "       Punctuation                                                                                                                                                                                                                                                                                      Tweet\n",
       "4380            13        IF U WERE KILLED TOMORROW, I WOULDNT GO 2 UR FUNERAL CUZ ID B N JAIL 4 KILLIN DA PERSON THAT KILLED U!\\n......__________________ \\n...../_==o;;;;;;;;______[]\\n.....), —-.(_(__) / \\n....// (..) ), —--\" \\n...//___// \\n..//___// \\nWE TRUE HOMIES WE RIDE TOGETHER WE DIE TOGETHER\n",
       "12617           11                       Going to go ahead and crown myself the absolute emperor of finding things on menus that sound interesting, deciding I would like to try them, then being told \"I'm sorry sir, that's actually not available...\"\\n\\n[ then why the @#$% is it ON YOUR MENUUUUUUUU-- ]\n",
       "15961           10                                                                                    10,000 #Fortnite V-Bucks Giveaway!\\n   🔥$100.00 PayPal🔥\\n\\n1. Retweet This Tweet\\n2. Follow   & Myself\\n3. Tag a friend for x2 Entry (optional)\\n\\nDrawing Winner in 48 Hours! \\n(04/02/18) Good Luck! \n",
       "13815           10                            Hooray—for those of you who've been asking when FLASHBACK will be available for pre-order on *ebook* the answer is finally: NOW! Alas, pre-ordering won't make it come out sooner than 11/6 (still writing it, guys). BUT, it does make me super happy, so… 😉\\n\n",
       "21165           10  USA's share of global GDP was about 50% after WW2, today it is about 15%. It will further decline this century (although its economy & GDP/capita will continue to grow in absolute terms).\\n\\nHow will America react to this loss of \"relative power\"? By all indications, rather badly."
      ]
     },
     "execution_count": 59,
     "metadata": {},
     "output_type": "execute_result"
    }
   ],
   "source": [
    "punctuation_data_for_stats.sort_values(by=\"Punctuation\", ascending=False).head()"
   ]
  },
  {
   "cell_type": "markdown",
   "metadata": {},
   "source": [
    "#### Tweets punctuation statistics"
   ]
  },
  {
   "cell_type": "code",
   "execution_count": 60,
   "metadata": {},
   "outputs": [
    {
     "data": {
      "text/html": [
       "<div>\n",
       "<style scoped>\n",
       "    .dataframe tbody tr th:only-of-type {\n",
       "        vertical-align: middle;\n",
       "    }\n",
       "\n",
       "    .dataframe tbody tr th {\n",
       "        vertical-align: top;\n",
       "    }\n",
       "\n",
       "    .dataframe thead th {\n",
       "        text-align: right;\n",
       "    }\n",
       "</style>\n",
       "<table border=\"1\" class=\"dataframe\">\n",
       "  <thead>\n",
       "    <tr style=\"text-align: right;\">\n",
       "      <th></th>\n",
       "      <th>Punctuation</th>\n",
       "    </tr>\n",
       "  </thead>\n",
       "  <tbody>\n",
       "    <tr>\n",
       "      <th>count</th>\n",
       "      <td>22576.0000</td>\n",
       "    </tr>\n",
       "    <tr>\n",
       "      <th>mean</th>\n",
       "      <td>1.9781</td>\n",
       "    </tr>\n",
       "    <tr>\n",
       "      <th>std</th>\n",
       "      <td>1.6262</td>\n",
       "    </tr>\n",
       "    <tr>\n",
       "      <th>min</th>\n",
       "      <td>0.0000</td>\n",
       "    </tr>\n",
       "    <tr>\n",
       "      <th>25%</th>\n",
       "      <td>1.0000</td>\n",
       "    </tr>\n",
       "    <tr>\n",
       "      <th>50%</th>\n",
       "      <td>2.0000</td>\n",
       "    </tr>\n",
       "    <tr>\n",
       "      <th>75%</th>\n",
       "      <td>3.0000</td>\n",
       "    </tr>\n",
       "    <tr>\n",
       "      <th>max</th>\n",
       "      <td>13.0000</td>\n",
       "    </tr>\n",
       "  </tbody>\n",
       "</table>\n",
       "</div>"
      ],
      "text/plain": [
       "       Punctuation\n",
       "count   22576.0000\n",
       "mean        1.9781\n",
       "std         1.6262\n",
       "min         0.0000\n",
       "25%         1.0000\n",
       "50%         2.0000\n",
       "75%         3.0000\n",
       "max        13.0000"
      ]
     },
     "execution_count": 60,
     "metadata": {},
     "output_type": "execute_result"
    }
   ],
   "source": [
    "punctuation_data_for_stats.describe()"
   ]
  },
  {
   "cell_type": "markdown",
   "metadata": {},
   "source": [
    "#### Stop words"
   ]
  },
  {
   "cell_type": "code",
   "execution_count": 61,
   "metadata": {},
   "outputs": [],
   "source": [
    "stop_words_data = [len(set(stopwords.words(\"english\")).intersection(set(tweet.lower()))) \n",
    "                   for tweet in training_data]"
   ]
  },
  {
   "cell_type": "code",
   "execution_count": 62,
   "metadata": {},
   "outputs": [],
   "source": [
    "stop_words_data_for_stats = pd.DataFrame({\"Stop words\": stop_words_data, \"Tweet\": training_data})"
   ]
  },
  {
   "cell_type": "markdown",
   "metadata": {},
   "source": [
    "#### Top 5 tweets with most stop words"
   ]
  },
  {
   "cell_type": "code",
   "execution_count": 63,
   "metadata": {},
   "outputs": [
    {
     "data": {
      "text/html": [
       "<div>\n",
       "<style scoped>\n",
       "    .dataframe tbody tr th:only-of-type {\n",
       "        vertical-align: middle;\n",
       "    }\n",
       "\n",
       "    .dataframe tbody tr th {\n",
       "        vertical-align: top;\n",
       "    }\n",
       "\n",
       "    .dataframe thead th {\n",
       "        text-align: right;\n",
       "    }\n",
       "</style>\n",
       "<table border=\"1\" class=\"dataframe\">\n",
       "  <thead>\n",
       "    <tr style=\"text-align: right;\">\n",
       "      <th></th>\n",
       "      <th>Stop words</th>\n",
       "      <th>Tweet</th>\n",
       "    </tr>\n",
       "  </thead>\n",
       "  <tbody>\n",
       "    <tr>\n",
       "      <th>0</th>\n",
       "      <td>8</td>\n",
       "      <td>TWITTER SHOWED ME YOU HITTING THAT LIKE BUTTON ON THAT PORN\\n\\nI SEE YOU</td>\n",
       "    </tr>\n",
       "    <tr>\n",
       "      <th>9314</th>\n",
       "      <td>8</td>\n",
       "      <td>Point well made dude who only watches and reads things that already agree with you no matter how fringe or disproven. \\nWhat's that? You consider challenging your beliefs with facts and data a sign of weakness?\\nThen u have won this exchange!</td>\n",
       "    </tr>\n",
       "    <tr>\n",
       "      <th>17250</th>\n",
       "      <td>8</td>\n",
       "      <td>The fact that Zuckerberg is a good person (true, as best I can tell) simply underscores the extent of the problem and why control over all this data and power can't simply be left in one person's hands.</td>\n",
       "    </tr>\n",
       "    <tr>\n",
       "      <th>17248</th>\n",
       "      <td>8</td>\n",
       "      <td>So I've been really sick again these last five or so days and I've felt miserable and it's making it really hard for me to want to take pictures when I feel so bleh 😔 so this is all I have for right now #trap #sissy #femboy #prettyboy</td>\n",
       "    </tr>\n",
       "    <tr>\n",
       "      <th>9225</th>\n",
       "      <td>8</td>\n",
       "      <td>weird how carly rae jepsen's E•MO•TION is the best soundtrack to any activity</td>\n",
       "    </tr>\n",
       "  </tbody>\n",
       "</table>\n",
       "</div>"
      ],
      "text/plain": [
       "       Stop words                                                                                                                                                                                                                                               Tweet\n",
       "0               8                                                                                                                                                                           TWITTER SHOWED ME YOU HITTING THAT LIKE BUTTON ON THAT PORN\\n\\nI SEE YOU \n",
       "9314            8  Point well made dude who only watches and reads things that already agree with you no matter how fringe or disproven. \\nWhat's that? You consider challenging your beliefs with facts and data a sign of weakness?\\nThen u have won this exchange!\n",
       "17250           8                                         The fact that Zuckerberg is a good person (true, as best I can tell) simply underscores the extent of the problem and why control over all this data and power can't simply be left in one person's hands. \n",
       "17248           8         So I've been really sick again these last five or so days and I've felt miserable and it's making it really hard for me to want to take pictures when I feel so bleh 😔 so this is all I have for right now #trap #sissy #femboy #prettyboy \n",
       "9225            8                                                                                                                                                                       weird how carly rae jepsen's E•MO•TION is the best soundtrack to any activity"
      ]
     },
     "execution_count": 63,
     "metadata": {},
     "output_type": "execute_result"
    }
   ],
   "source": [
    "stop_words_data_for_stats.sort_values(by=\"Stop words\", ascending=False).head()"
   ]
  },
  {
   "cell_type": "markdown",
   "metadata": {},
   "source": [
    "#### Top 5 tweets with fewest stop words"
   ]
  },
  {
   "cell_type": "code",
   "execution_count": 64,
   "metadata": {},
   "outputs": [
    {
     "data": {
      "text/html": [
       "<div>\n",
       "<style scoped>\n",
       "    .dataframe tbody tr th:only-of-type {\n",
       "        vertical-align: middle;\n",
       "    }\n",
       "\n",
       "    .dataframe tbody tr th {\n",
       "        vertical-align: top;\n",
       "    }\n",
       "\n",
       "    .dataframe thead th {\n",
       "        text-align: right;\n",
       "    }\n",
       "</style>\n",
       "<table border=\"1\" class=\"dataframe\">\n",
       "  <thead>\n",
       "    <tr style=\"text-align: right;\">\n",
       "      <th></th>\n",
       "      <th>Stop words</th>\n",
       "      <th>Tweet</th>\n",
       "    </tr>\n",
       "  </thead>\n",
       "  <tbody>\n",
       "    <tr>\n",
       "      <th>2503</th>\n",
       "      <td>0</td>\n",
       "      <td>fuck u</td>\n",
       "    </tr>\n",
       "    <tr>\n",
       "      <th>9023</th>\n",
       "      <td>0</td>\n",
       "      <td>Fuck...</td>\n",
       "    </tr>\n",
       "    <tr>\n",
       "      <th>9510</th>\n",
       "      <td>0</td>\n",
       "      <td>𝓸𝓵𝓲𝓿𝓲𝓪'𝓼 𝕣𝕒𝕟𝕕𝕠𝕞 𝙦𝙪𝙚𝙨𝙩𝙞𝙤𝙣 𝙩𝙝𝙧𝙚𝙖𝙙.</td>\n",
       "    </tr>\n",
       "    <tr>\n",
       "      <th>6701</th>\n",
       "      <td>0</td>\n",
       "      <td>luv u</td>\n",
       "    </tr>\n",
       "    <tr>\n",
       "      <th>3655</th>\n",
       "      <td>0</td>\n",
       "      <td>We been knew</td>\n",
       "    </tr>\n",
       "  </tbody>\n",
       "</table>\n",
       "</div>"
      ],
      "text/plain": [
       "      Stop words                             Tweet\n",
       "2503           0                           fuck u \n",
       "9023           0                          Fuck... \n",
       "9510           0  𝓸𝓵𝓲𝓿𝓲𝓪'𝓼 𝕣𝕒𝕟𝕕𝕠𝕞 𝙦𝙪𝙚𝙨𝙩𝙞𝙤𝙣 𝙩𝙝𝙧𝙚𝙖𝙙.\n",
       "6701           0                             luv u\n",
       "3655           0                     We been knew "
      ]
     },
     "execution_count": 64,
     "metadata": {},
     "output_type": "execute_result"
    }
   ],
   "source": [
    "stop_words_data_for_stats.sort_values(by=\"Stop words\", ascending=True).head()"
   ]
  },
  {
   "cell_type": "markdown",
   "metadata": {},
   "source": [
    "#### Tweets stop words statistics"
   ]
  },
  {
   "cell_type": "code",
   "execution_count": 65,
   "metadata": {},
   "outputs": [
    {
     "data": {
      "text/html": [
       "<div>\n",
       "<style scoped>\n",
       "    .dataframe tbody tr th:only-of-type {\n",
       "        vertical-align: middle;\n",
       "    }\n",
       "\n",
       "    .dataframe tbody tr th {\n",
       "        vertical-align: top;\n",
       "    }\n",
       "\n",
       "    .dataframe thead th {\n",
       "        text-align: right;\n",
       "    }\n",
       "</style>\n",
       "<table border=\"1\" class=\"dataframe\">\n",
       "  <thead>\n",
       "    <tr style=\"text-align: right;\">\n",
       "      <th></th>\n",
       "      <th>Stop words</th>\n",
       "    </tr>\n",
       "  </thead>\n",
       "  <tbody>\n",
       "    <tr>\n",
       "      <th>count</th>\n",
       "      <td>22576.0000</td>\n",
       "    </tr>\n",
       "    <tr>\n",
       "      <th>mean</th>\n",
       "      <td>7.0969</td>\n",
       "    </tr>\n",
       "    <tr>\n",
       "      <th>std</th>\n",
       "      <td>1.3484</td>\n",
       "    </tr>\n",
       "    <tr>\n",
       "      <th>min</th>\n",
       "      <td>0.0000</td>\n",
       "    </tr>\n",
       "    <tr>\n",
       "      <th>25%</th>\n",
       "      <td>7.0000</td>\n",
       "    </tr>\n",
       "    <tr>\n",
       "      <th>50%</th>\n",
       "      <td>8.0000</td>\n",
       "    </tr>\n",
       "    <tr>\n",
       "      <th>75%</th>\n",
       "      <td>8.0000</td>\n",
       "    </tr>\n",
       "    <tr>\n",
       "      <th>max</th>\n",
       "      <td>8.0000</td>\n",
       "    </tr>\n",
       "  </tbody>\n",
       "</table>\n",
       "</div>"
      ],
      "text/plain": [
       "       Stop words\n",
       "count  22576.0000\n",
       "mean       7.0969\n",
       "std        1.3484\n",
       "min        0.0000\n",
       "25%        7.0000\n",
       "50%        8.0000\n",
       "75%        8.0000\n",
       "max        8.0000"
      ]
     },
     "execution_count": 65,
     "metadata": {},
     "output_type": "execute_result"
    }
   ],
   "source": [
    "stop_words_data_for_stats.describe()"
   ]
  },
  {
   "cell_type": "markdown",
   "metadata": {},
   "source": [
    "#### Unique words"
   ]
  },
  {
   "cell_type": "code",
   "execution_count": 66,
   "metadata": {},
   "outputs": [],
   "source": [
    "unique_words_data = [len(set(tokenizer.tokenize(tweet))) for tweet in training_data]"
   ]
  },
  {
   "cell_type": "code",
   "execution_count": 67,
   "metadata": {},
   "outputs": [],
   "source": [
    "unique_words_data_for_stats = pd.DataFrame({\"Unique words\": unique_words_data, \"Tweet\": training_data})"
   ]
  },
  {
   "cell_type": "code",
   "execution_count": 68,
   "metadata": {},
   "outputs": [],
   "source": [
    "# unique_words_data_for_stats = unique_words_data_for_stats[unique_words_data_for_stats[\"Unique words\"] >= 2]"
   ]
  },
  {
   "cell_type": "code",
   "execution_count": 69,
   "metadata": {},
   "outputs": [],
   "source": [
    "unique_words_data = unique_words_data_for_stats[\"Unique words\"].tolist()"
   ]
  },
  {
   "cell_type": "markdown",
   "metadata": {},
   "source": [
    "#### Top 5 tweets with most unique words"
   ]
  },
  {
   "cell_type": "code",
   "execution_count": 70,
   "metadata": {},
   "outputs": [
    {
     "data": {
      "text/html": [
       "<div>\n",
       "<style scoped>\n",
       "    .dataframe tbody tr th:only-of-type {\n",
       "        vertical-align: middle;\n",
       "    }\n",
       "\n",
       "    .dataframe tbody tr th {\n",
       "        vertical-align: top;\n",
       "    }\n",
       "\n",
       "    .dataframe thead th {\n",
       "        text-align: right;\n",
       "    }\n",
       "</style>\n",
       "<table border=\"1\" class=\"dataframe\">\n",
       "  <thead>\n",
       "    <tr style=\"text-align: right;\">\n",
       "      <th></th>\n",
       "      <th>Tweet</th>\n",
       "      <th>Unique words</th>\n",
       "    </tr>\n",
       "  </thead>\n",
       "  <tbody>\n",
       "    <tr>\n",
       "      <th>2219</th>\n",
       "      <td>I'm starting to get a couple questions about it since May is coming up so I might as well let you guys know: there will not be a MIAMAFV 2 this year (at least not that exact event).\\n\\nWho knows what's to come in the future, but right now I've got to take care of other stuff first.</td>\n",
       "      <td>59</td>\n",
       "    </tr>\n",
       "    <tr>\n",
       "      <th>16147</th>\n",
       "      <td>GIVE AWAY!\\n\\nThe rules are really easy, all you have to do is :\\n1. Must be following me (i check) \\n2. RT and fav this tweet\\n3. tag your mutuals/anyone\\n4. only 1 winner! \\n5. i ship worldwide;) \\n\\nit ends in 8th May 2018 or when this tweet hit 2k RT and like!\\n\\nGood luck! ❤</td>\n",
       "      <td>59</td>\n",
       "    </tr>\n",
       "    <tr>\n",
       "      <th>16280</th>\n",
       "      <td>ur bday 21/8 u50. Fancy a kick about the park where we used to play.?Jumpers down- shots.Then 3 holes of golf.we hit any windows we run!What do u say- will be a laugh.I am 50 a week later.hey, we're still kind of fit:))give me a shout if up 4 it 07532203285 Liam</td>\n",
       "      <td>58</td>\n",
       "    </tr>\n",
       "    <tr>\n",
       "      <th>2993</th>\n",
       "      <td>Crazy how wrong u can be about someone. A girl I graduated w/ was always doing drugs&amp; got pregnant at 16. I assumed she'd end up being a loser but it turn out she now has 4 beautiful kids&amp; is making over $4,500/month just off of child support payments from the 3 different dads</td>\n",
       "      <td>58</td>\n",
       "    </tr>\n",
       "    <tr>\n",
       "      <th>9619</th>\n",
       "      <td>got into a tepid back nd forth w/ a uknowwhoAJ+columnist bc i said they steal their \"hot takes\" from blk twitter &amp; alike. wallahi my bdeshi ass did not sign up 4 this app to be called asinine by a 30yrold pakistani whos whole politics is Post Colonial Memes for Oriental Minded T-</td>\n",
       "      <td>57</td>\n",
       "    </tr>\n",
       "  </tbody>\n",
       "</table>\n",
       "</div>"
      ],
      "text/plain": [
       "                                                                                                                                                                                                                                                                                             Tweet  Unique words\n",
       "2219   I'm starting to get a couple questions about it since May is coming up so I might as well let you guys know: there will not be a MIAMAFV 2 this year (at least not that exact event).\\n\\nWho knows what's to come in the future, but right now I've got to take care of other stuff first.             59\n",
       "16147    GIVE AWAY!\\n\\nThe rules are really easy, all you have to do is :\\n1. Must be following me (i check) \\n2. RT and fav this tweet\\n3. tag your mutuals/anyone\\n4. only 1 winner! \\n5. i ship worldwide;) \\n\\nit ends in 8th May 2018 or when this tweet hit 2k RT and like!\\n\\nGood luck! ❤             59\n",
       "16280                       ur bday 21/8 u50. Fancy a kick about the park where we used to play.?Jumpers down- shots.Then 3 holes of golf.we hit any windows we run!What do u say- will be a laugh.I am 50 a week later.hey, we're still kind of fit:))give me a shout if up 4 it 07532203285 Liam            58\n",
       "2993         Crazy how wrong u can be about someone. A girl I graduated w/ was always doing drugs& got pregnant at 16. I assumed she'd end up being a loser but it turn out she now has 4 beautiful kids& is making over $4,500/month just off of child support payments from the 3 different dads            58\n",
       "9619      got into a tepid back nd forth w/ a uknowwhoAJ+columnist bc i said they steal their \"hot takes\" from blk twitter & alike. wallahi my bdeshi ass did not sign up 4 this app to be called asinine by a 30yrold pakistani whos whole politics is Post Colonial Memes for Oriental Minded T-            57"
      ]
     },
     "execution_count": 70,
     "metadata": {},
     "output_type": "execute_result"
    }
   ],
   "source": [
    "unique_words_data_for_stats.sort_values(by=\"Unique words\", ascending=False).head()"
   ]
  },
  {
   "cell_type": "markdown",
   "metadata": {},
   "source": [
    "#### Top 5 tweets with fewest unique words"
   ]
  },
  {
   "cell_type": "code",
   "execution_count": 71,
   "metadata": {},
   "outputs": [
    {
     "data": {
      "text/html": [
       "<div>\n",
       "<style scoped>\n",
       "    .dataframe tbody tr th:only-of-type {\n",
       "        vertical-align: middle;\n",
       "    }\n",
       "\n",
       "    .dataframe tbody tr th {\n",
       "        vertical-align: top;\n",
       "    }\n",
       "\n",
       "    .dataframe thead th {\n",
       "        text-align: right;\n",
       "    }\n",
       "</style>\n",
       "<table border=\"1\" class=\"dataframe\">\n",
       "  <thead>\n",
       "    <tr style=\"text-align: right;\">\n",
       "      <th></th>\n",
       "      <th>Tweet</th>\n",
       "      <th>Unique words</th>\n",
       "    </tr>\n",
       "  </thead>\n",
       "  <tbody>\n",
       "    <tr>\n",
       "      <th>14300</th>\n",
       "      <td>hello</td>\n",
       "      <td>1</td>\n",
       "    </tr>\n",
       "    <tr>\n",
       "      <th>19504</th>\n",
       "      <td>SHAME</td>\n",
       "      <td>1</td>\n",
       "    </tr>\n",
       "    <tr>\n",
       "      <th>13064</th>\n",
       "      <td>Goodbye</td>\n",
       "      <td>1</td>\n",
       "    </tr>\n",
       "    <tr>\n",
       "      <th>2405</th>\n",
       "      <td>Rude</td>\n",
       "      <td>1</td>\n",
       "    </tr>\n",
       "    <tr>\n",
       "      <th>6157</th>\n",
       "      <td>Okay</td>\n",
       "      <td>1</td>\n",
       "    </tr>\n",
       "  </tbody>\n",
       "</table>\n",
       "</div>"
      ],
      "text/plain": [
       "          Tweet  Unique words\n",
       "14300     hello             1\n",
       "19504     SHAME             1\n",
       "13064  Goodbye              1\n",
       "2405       Rude             1\n",
       "6157      Okay              1"
      ]
     },
     "execution_count": 71,
     "metadata": {},
     "output_type": "execute_result"
    }
   ],
   "source": [
    "unique_words_data_for_stats.sort_values(by=\"Unique words\", ascending=True).head()"
   ]
  },
  {
   "cell_type": "markdown",
   "metadata": {},
   "source": [
    "#### Tweets unique words statistics"
   ]
  },
  {
   "cell_type": "code",
   "execution_count": 72,
   "metadata": {},
   "outputs": [
    {
     "data": {
      "text/html": [
       "<div>\n",
       "<style scoped>\n",
       "    .dataframe tbody tr th:only-of-type {\n",
       "        vertical-align: middle;\n",
       "    }\n",
       "\n",
       "    .dataframe tbody tr th {\n",
       "        vertical-align: top;\n",
       "    }\n",
       "\n",
       "    .dataframe thead th {\n",
       "        text-align: right;\n",
       "    }\n",
       "</style>\n",
       "<table border=\"1\" class=\"dataframe\">\n",
       "  <thead>\n",
       "    <tr style=\"text-align: right;\">\n",
       "      <th></th>\n",
       "      <th>Unique words</th>\n",
       "    </tr>\n",
       "  </thead>\n",
       "  <tbody>\n",
       "    <tr>\n",
       "      <th>count</th>\n",
       "      <td>22576.0000</td>\n",
       "    </tr>\n",
       "    <tr>\n",
       "      <th>mean</th>\n",
       "      <td>18.7998</td>\n",
       "    </tr>\n",
       "    <tr>\n",
       "      <th>std</th>\n",
       "      <td>11.9912</td>\n",
       "    </tr>\n",
       "    <tr>\n",
       "      <th>min</th>\n",
       "      <td>1.0000</td>\n",
       "    </tr>\n",
       "    <tr>\n",
       "      <th>25%</th>\n",
       "      <td>9.0000</td>\n",
       "    </tr>\n",
       "    <tr>\n",
       "      <th>50%</th>\n",
       "      <td>16.0000</td>\n",
       "    </tr>\n",
       "    <tr>\n",
       "      <th>75%</th>\n",
       "      <td>26.0000</td>\n",
       "    </tr>\n",
       "    <tr>\n",
       "      <th>max</th>\n",
       "      <td>59.0000</td>\n",
       "    </tr>\n",
       "  </tbody>\n",
       "</table>\n",
       "</div>"
      ],
      "text/plain": [
       "       Unique words\n",
       "count    22576.0000\n",
       "mean        18.7998\n",
       "std         11.9912\n",
       "min          1.0000\n",
       "25%          9.0000\n",
       "50%         16.0000\n",
       "75%         26.0000\n",
       "max         59.0000"
      ]
     },
     "execution_count": 72,
     "metadata": {},
     "output_type": "execute_result"
    }
   ],
   "source": [
    "unique_words_data_for_stats.describe()"
   ]
  },
  {
   "cell_type": "markdown",
   "metadata": {},
   "source": [
    "#### Plot them"
   ]
  },
  {
   "cell_type": "code",
   "execution_count": 73,
   "metadata": {},
   "outputs": [
    {
     "data": {
      "image/png": "[encoded data removed]",
      "text/plain": [
       "<Figure size 1152x648 with 1 Axes>"
      ]
     },
     "metadata": {},
     "output_type": "display_data"
    }
   ],
   "source": [
    "length_mean = length_data_for_stats.describe().Length[1]\n",
    "length_std = length_data_for_stats.describe().Length[2]\n",
    "\n",
    "fig = plt.figure(figsize=(16, 9))\n",
    "ax = fig.add_subplot(111)\n",
    "\n",
    "n, bins, patches = ax.hist(length_data, \n",
    "                           bins=\"scott\", \n",
    "                           edgecolor=\"black\", \n",
    "                           # density=True, \n",
    "                           color=\"#12355b\", \n",
    "                           alpha=0.5)\n",
    "\n",
    "# length_line = scipy.stats.norm.pdf(bins, length_mean, length_std)\n",
    "# ax.plot(bins, length_line, \"--\", linewidth=3, color=\"#415d7b\")\n",
    "\n",
    "ax.set_title(\"Training Dataset Distribution of Tweet Lengths\", fontsize=18)\n",
    "ax.set_xlabel(\"Tweet Length\", fontsize=18);\n",
    "ax.set_ylabel(\"Number of Tweets with That Length\", fontsize=18);\n",
    "\n",
    "plt.show()"
   ]
  },
  {
   "cell_type": "code",
   "execution_count": 74,
   "metadata": {},
   "outputs": [
    {
     "data": {
      "image/png": "[encoded data removed]",
      "text/plain": [
       "<Figure size 1152x648 with 1 Axes>"
      ]
     },
     "metadata": {},
     "output_type": "display_data"
    }
   ],
   "source": [
    "punctuation_mean = punctuation_data_for_stats.describe().Punctuation[1]\n",
    "punctuation_std = punctuation_data_for_stats.describe().Punctuation[2]\n",
    "\n",
    "fig = plt.figure(figsize=(16, 9))\n",
    "ax = fig.add_subplot(111)\n",
    "\n",
    "n, bins, patches = ax.hist(punctuation_data, \n",
    "                           bins=\"scott\",\n",
    "                           edgecolor=\"black\", \n",
    "                           # density=True, \n",
    "                           color=\"#420039\",\n",
    "                           alpha=0.5)\n",
    "\n",
    "# punctution_line = scipy.stats.norm.pdf(bins, punctuation_mean, punctuation_std)\n",
    "# ax.plot(bins, punctution_line, \"--\", linewidth=3, color=\"#673260\")\n",
    "\n",
    "ax.set_title(\"Training Dataset Distribution of Punctuation\", fontsize=18)\n",
    "ax.set_xlabel(\"Punctuating Characters in Tweet\", fontsize=18)\n",
    "ax.set_ylabel(\"Number of Tweets with That Number of Punctuating Characters\", fontsize=18)\n",
    "\n",
    "plt.show()"
   ]
  },
  {
   "cell_type": "code",
   "execution_count": 75,
   "metadata": {},
   "outputs": [
    {
     "data": {
      "image/png": "[encoded data removed]",
      "text/plain": [
       "<Figure size 1152x648 with 1 Axes>"
      ]
     },
     "metadata": {},
     "output_type": "display_data"
    }
   ],
   "source": [
    "stop_words_mean = stop_words_data_for_stats.describe()[\"Stop words\"][1]\n",
    "stop_words_std = stop_words_data_for_stats.describe()[\"Stop words\"][2]\n",
    "\n",
    "fig = plt.figure(figsize=(16, 9))\n",
    "ax = fig.add_subplot(111)\n",
    "\n",
    "n, bins, patches = ax.hist(stop_words_data, \n",
    "                           bins=\"scott\", \n",
    "                           edgecolor=\"black\", \n",
    "                           # density=True, \n",
    "                           color=\"#698f3f\",\n",
    "                           alpha=0.5)\n",
    "\n",
    "# stop_words_line = scipy.stats.norm.pdf(bins, stop_words_mean, stop_words_std)\n",
    "# ax.plot(bins, stop_words_line, \"--\", linewidth=3, color=\"#87a565\")\n",
    "\n",
    "ax.set_title(\"Training Dataset Distribution of Stop Words\", fontsize=18)\n",
    "ax.set_xlabel(\"Stop Words in Tweet\", fontsize=18)\n",
    "ax.set_ylabel(\"Number of Tweets with That Number of Stop Words\", fontsize=18)\n",
    "\n",
    "plt.show()"
   ]
  },
  {
   "cell_type": "code",
   "execution_count": 76,
   "metadata": {
    "scrolled": false
   },
   "outputs": [
    {
     "data": {
      "image/png": "[encoded data removed]",
      "text/plain": [
       "<Figure size 1152x648 with 1 Axes>"
      ]
     },
     "metadata": {},
     "output_type": "display_data"
    }
   ],
   "source": [
    "unique_words_mean = unique_words_data_for_stats.describe()[\"Unique words\"][1]\n",
    "unique_words_std = unique_words_data_for_stats.describe()[\"Unique words\"][2]\n",
    "\n",
    "fig = plt.figure(figsize=(16, 9))\n",
    "ax = fig.add_subplot(111)\n",
    "\n",
    "n, bins, patches = ax.hist(unique_words_data, \n",
    "                           bins=\"scott\", \n",
    "                           edgecolor=\"black\", \n",
    "                           # density=True, \n",
    "                           color=\"#ca2e55\",\n",
    "                           alpha=0.5)\n",
    "\n",
    "# unique_words_line = scipy.stats.norm.pdf(bins, unique_words_mean, unique_words_std)\n",
    "# ax.plot(bins, unique_words_line, \"--\", linewidth=3, color=\"#d45776\")\n",
    "\n",
    "ax.set_title(\"Training Dataset Distribution of Unique Words\", fontsize=18)\n",
    "ax.set_xlabel(\"Unique Words in Tweet\", fontsize=18)\n",
    "ax.set_ylabel(\"Number of Tweets with That Number of Unique Words\", fontsize=18)\n",
    "\n",
    "plt.show()"
   ]
  }
 ],
 "metadata": {
  "kernelspec": {
   "display_name": "Python 3",
   "language": "python",
   "name": "python3"
  },
  "language_info": {
   "codemirror_mode": {
    "name": "ipython",
    "version": 3
   },
   "file_extension": ".py",
   "mimetype": "text/x-python",
   "name": "python",
   "nbconvert_exporter": "python",
   "pygments_lexer": "ipython3",
   "version": "3.6.4"
  }
 },
 "nbformat": 4,
 "nbformat_minor": 2
}
