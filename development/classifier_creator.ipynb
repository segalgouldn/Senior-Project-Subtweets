{
 "cells": [
  {
   "cell_type": "markdown",
   "metadata": {},
   "source": [
    "## Using Scikit-Learn and NLTK to build a Naive Bayes Classifier that identifies subtweets"
   ]
  },
  {
   "cell_type": "markdown",
   "metadata": {},
   "source": [
    "### Goals:\n",
    "#### Use Scikit-Learn pipelines to define special features to add to a Naive Bayes Classifier\n",
    "#### Evaluate the accuracy of the classifier\n",
    "#### Maybe do it live, on a Twitter API stream"
   ]
  },
  {
   "cell_type": "markdown",
   "metadata": {},
   "source": [
    "### Methods:\n",
    "#### Use the training set I made before"
   ]
  },
  {
   "cell_type": "markdown",
   "metadata": {},
   "source": [
    "#### Import libraries"
   ]
  },
  {
   "cell_type": "code",
   "execution_count": 1,
   "metadata": {},
   "outputs": [],
   "source": [
    "%matplotlib inline"
   ]
  },
  {
   "cell_type": "code",
   "execution_count": 2,
   "metadata": {},
   "outputs": [],
   "source": [
    "from sklearn.base import TransformerMixin, BaseEstimator\n",
    "from sklearn.feature_extraction import DictVectorizer\n",
    "from sklearn.feature_extraction.text import CountVectorizer, TfidfTransformer\n",
    "from sklearn.naive_bayes import MultinomialNB\n",
    "from sklearn.pipeline import Pipeline, FeatureUnion\n",
    "from sklearn.model_selection import train_test_split\n",
    "from sklearn.metrics import classification_report, confusion_matrix\n",
    "from sklearn.externals import joblib\n",
    "from textblob import TextBlob\n",
    "from time import time, sleep\n",
    "import matplotlib.pyplot as plt\n",
    "import pandas as pd\n",
    "import numpy as np\n",
    "import itertools\n",
    "import datetime\n",
    "import tweepy\n",
    "import nltk\n",
    "import json\n",
    "import re"
   ]
  },
  {
   "cell_type": "markdown",
   "metadata": {},
   "source": [
    "#### Set max column width for dataframes"
   ]
  },
  {
   "cell_type": "code",
   "execution_count": 3,
   "metadata": {},
   "outputs": [],
   "source": [
    "pd.set_option(\"max_colwidth\", 280)"
   ]
  },
  {
   "cell_type": "markdown",
   "metadata": {},
   "source": [
    "#### Load the CSV"
   ]
  },
  {
   "cell_type": "code",
   "execution_count": 4,
   "metadata": {},
   "outputs": [],
   "source": [
    "df = pd.read_csv(\"../data/data_for_training/final_training_data/Subtweets_Classifier_Training_Data.csv\")"
   ]
  },
  {
   "cell_type": "markdown",
   "metadata": {},
   "source": [
    "#### Create training and test sets from the single training set I made before"
   ]
  },
  {
   "cell_type": "code",
   "execution_count": 5,
   "metadata": {},
   "outputs": [],
   "source": [
    "text_train, text_test, class_train, class_test = train_test_split(df.alleged_subtweet.tolist(), \n",
    "                                                                  df.is_subtweet.tolist())"
   ]
  },
  {
   "cell_type": "markdown",
   "metadata": {},
   "source": [
    "#### Use NLTK's tokenizer instead of Scikit's"
   ]
  },
  {
   "cell_type": "code",
   "execution_count": 6,
   "metadata": {},
   "outputs": [],
   "source": [
    "tokenizer = nltk.casual.TweetTokenizer(preserve_case=False, reduce_len=True)"
   ]
  },
  {
   "cell_type": "markdown",
   "metadata": {},
   "source": [
    "#### Function for managing TextBlob polarities"
   ]
  },
  {
   "cell_type": "code",
   "execution_count": 7,
   "metadata": {},
   "outputs": [],
   "source": [
    "def simplify_polarity(polarity):\n",
    "    if polarity >= 0:\n",
    "        return 1\n",
    "    return 0"
   ]
  },
  {
   "cell_type": "markdown",
   "metadata": {},
   "source": [
    "#### Class for distinguishing polarizing parts of speech as features"
   ]
  },
  {
   "cell_type": "code",
   "execution_count": 8,
   "metadata": {
    "code_folding": []
   },
   "outputs": [],
   "source": [
    "class TweetStats(BaseEstimator, TransformerMixin):\n",
    "    def fit(self, x, y=None):\n",
    "        return self\n",
    "\n",
    "    def transform(self, posts):\n",
    "        first_names = [\"Aaliyah\", \"Aaron\", \"Abby\", \"Abigail\", \"Abraham\", \"Adam\",\n",
    "                       \"Addison\", \"Adrian\", \"Adriana\", \"Adrianna\", \"Aidan\", \"Aiden\",\n",
    "                       \"Alan\", \"Alana\", \"Alejandro\", \"Alex\", \"Alexa\", \"Alexander\",\n",
    "                       \"Alexandra\", \"Alexandria\", \"Alexia\", \"Alexis\", \"Alicia\", \"Allison\",\n",
    "                       \"Alondra\", \"Alyssa\", \"Amanda\", \"Amber\", \"Amelia\", \"Amy\",\n",
    "                       \"Ana\", \"Andrea\", \"Andres\", \"Andrew\", \"Angel\", \"Angela\",\n",
    "                       \"Angelica\", \"Angelina\", \"Anna\", \"Anthony\", \"Antonio\", \"Ariana\",\n",
    "                       \"Arianna\", \"Ashley\", \"Ashlyn\", \"Ashton\", \"Aubrey\", \"Audrey\",\n",
    "                       \"Austin\", \"Autumn\", \"Ava\", \"Avery\", \"Ayden\", \"Bailey\",\n",
    "                       \"Benjamin\", \"Bianca\", \"Blake\", \"Braden\", \"Bradley\", \"Brady\",\n",
    "                       \"Brandon\", \"Brayden\", \"Breanna\", \"Brendan\", \"Brian\", \"Briana\",\n",
    "                       \"Brianna\", \"Brittany\", \"Brody\", \"Brooke\", \"Brooklyn\", \"Bryan\",\n",
    "                       \"Bryce\", \"Bryson\", \"Caden\", \"Caitlin\", \"Caitlyn\", \"Caleb\",\n",
    "                       \"Cameron\", \"Camila\", \"Carlos\", \"Caroline\", \"Carson\", \"Carter\",\n",
    "                       \"Cassandra\", \"Cassidy\", \"Catherine\", \"Cesar\", \"Charles\", \"Charlotte\",\n",
    "                       \"Chase\", \"Chelsea\", \"Cheyenne\", \"Chloe\", \"Christian\", \"Christina\",\n",
    "                       \"Christopher\", \"Claire\", \"Cody\", \"Colby\", \"Cole\", \"Colin\",\n",
    "                       \"Collin\", \"Colton\", \"Conner\", \"Connor\", \"Cooper\", \"Courtney\",\n",
    "                       \"Cristian\", \"Crystal\", \"Daisy\", \"Dakota\", \"Dalton\", \"Damian\",\n",
    "                       \"Daniel\", \"Daniela\", \"Danielle\", \"David\", \"Delaney\", \"Derek\",\n",
    "                       \"Destiny\", \"Devin\", \"Devon\", \"Diana\", \"Diego\", \"Dominic\",\n",
    "                       \"Donovan\", \"Dylan\", \"Edgar\", \"Eduardo\", \"Edward\", \"Edwin\",\n",
    "                       \"Eli\", \"Elias\", \"Elijah\", \"Elizabeth\", \"Ella\", \"Ellie\", \n",
    "                       \"Emily\", \"Emma\", \"Emmanuel\", \"Eric\", \"Erica\", \"Erick\",\n",
    "                       \"Erik\", \"Erin\", \"Ethan\", \"Eva\", \"Evan\", \"Evelyn\",\n",
    "                       \"Faith\", \"Fernando\", \"Francisco\", \"Gabriel\", \"Gabriela\", \"Gabriella\",\n",
    "                       \"Gabrielle\", \"Gage\", \"Garrett\", \"Gavin\", \"Genesis\", \"George\",\n",
    "                       \"Gianna\", \"Giovanni\", \"Giselle\", \"Grace\", \"Gracie\", \"Grant\",\n",
    "                       \"Gregory\", \"Hailey\", \"Haley\", \"Hannah\", \"Hayden\", \"Hector\",\n",
    "                       \"Henry\", \"Hope\", \"Hunter\", \"Ian\", \"Isaac\", \"Isabel\",\n",
    "                       \"Isabella\", \"Isabelle\", \"Isaiah\", \"Ivan\", \"Jack\", \"Jackson\",\n",
    "                       \"Jacob\", \"Jacqueline\", \"Jada\", \"Jade\", \"Jaden\", \"Jake\",\n",
    "                       \"Jalen\", \"James\", \"Jared\", \"Jasmin\", \"Jasmine\", \"Jason\", \n",
    "                       \"Javier\", \"Jayden\", \"Jayla\", \"Jazmin\", \"Jeffrey\", \"Jenna\",\n",
    "                       \"Jennifer\", \"Jeremiah\", \"Jeremy\", \"Jesse\", \"Jessica\", \"Jesus\",\n",
    "                       \"Jillian\", \"Jocelyn\", \"Joel\", \"John\", \"Johnathan\", \"Jonah\",\n",
    "                       \"Jonathan\", \"Jordan\", \"Jordyn\", \"Jorge\", \"Jose\", \"Joseph\",\n",
    "                       \"Joshua\", \"Josiah\", \"Juan\", \"Julia\", \"Julian\", \"Juliana\",\n",
    "                       \"Justin\", \"Kaden\", \"Kaitlyn\", \"Kaleb\", \"Karen\", \"Karina\",\n",
    "                       \"Kate\", \"Katelyn\", \"Katherine\", \"Kathryn\", \"Katie\", \"Kayla\",\n",
    "                       \"Kaylee\", \"Kelly\", \"Kelsey\", \"Kendall\", \"Kennedy\", \"Kenneth\",\n",
    "                       \"Kevin\", \"Kiara\", \"Kimberly\", \"Kyle\", \"Kylee\", \"Kylie\",\n",
    "                       \"Landon\", \"Laura\", \"Lauren\", \"Layla\", \"Leah\", \"Leonardo\",\n",
    "                       \"Leslie\", \"Levi\", \"Liam\", \"Liliana\", \"Lillian\", \"Lilly\",\n",
    "                       \"Lily\", \"Lindsey\", \"Logan\", \"Lucas\", \"Lucy\", \"Luis\",\n",
    "                       \"Luke\", \"Lydia\", \"Mackenzie\", \"Madeline\", \"Madelyn\", \"Madison\",\n",
    "                       \"Makayla\", \"Makenzie\", \"Malachi\", \"Manuel\", \"Marco\", \"Marcus\",\n",
    "                       \"Margaret\", \"Maria\", \"Mariah\", \"Mario\", \"Marissa\", \"Mark\",\n",
    "                       \"Martin\", \"Mary\", \"Mason\", \"Matthew\", \"Max\", \"Maxwell\",\n",
    "                       \"Maya\", \"Mckenzie\", \"Megan\", \"Melanie\", \"Melissa\", \"Mia\",\n",
    "                       \"Micah\", \"Michael\", \"Michelle\", \"Miguel\", \"Mikayla\", \"Miranda\",\n",
    "                       \"Molly\", \"Morgan\", \"Mya\", \"Naomi\", \"Natalia\", \"Natalie\",\n",
    "                       \"Nathan\", \"Nathaniel\", \"Nevaeh\", \"Nicholas\", \"Nicolas\", \"Nicole\",\n",
    "                       \"Noah\", \"Nolan\", \"Oliver\", \"Olivia\", \"Omar\", \"Oscar\",\n",
    "                       \"Owen\", \"Paige\", \"Parker\", \"Patrick\", \"Paul\", \"Payton\",\n",
    "                       \"Peter\", \"Peyton\", \"Preston\", \"Rachel\", \"Raymond\", \"Reagan\",\n",
    "                       \"Rebecca\", \"Ricardo\", \"Richard\", \"Riley\", \"Robert\", \"Ruby\",\n",
    "                       \"Ryan\", \"Rylee\", \"Sabrina\", \"Sadie\", \"Samantha\", \"Samuel\",\n",
    "                       \"Sara\", \"Sarah\", \"Savannah\", \"Sean\", \"Sebastian\", \"Serenity\",\n",
    "                       \"Sergio\", \"Seth\", \"Shane\", \"Shawn\", \"Shelby\", \"Sierra\",\n",
    "                       \"Skylar\", \"Sofia\", \"Sophia\", \"Sophie\", \"Spencer\", \"Stephanie\",\n",
    "                       \"Stephen\", \"Steven\", \"Summer\", \"Sydney\", \"Tanner\", \"Taylor\", \n",
    "                       \"Thomas\", \"Tiffany\", \"Timothy\", \"Travis\", \"Trenton\", \"Trevor\",\n",
    "                       \"Trinity\", \"Tristan\", \"Tyler\", \"Valeria\", \"Valerie\", \"Vanessa\",\n",
    "                       \"Veronica\", \"Victor\", \"Victoria\", \"Vincent\", \"Wesley\", \"William\",\n",
    "                       \"Wyatt\", \"Xavier\", \"Zachary\", \"Zoe\", \"Zoey\"]\n",
    "        first_names_lower = set([name.lower() for name in first_names])\n",
    "\n",
    "        pronouns = [\"You\", \"You're\", \"Your\", \n",
    "                    \"She\", \"She's\", \"Her\", \"Hers\", \n",
    "                    \"He\", \"He's\", \"Him\", \"His\", \n",
    "                    \"They\", \"They're\", \"Them\", \"Their\", \"Theirs\"]\n",
    "        prounouns_lower = set([pronoun.lower() for pronoun in pronouns])\n",
    "        \n",
    "        first_person_pronouns = [\"I\", \"I'm\", \"We\", \"We're\", \"Our\", \"My\", \"Us\"]\n",
    "        first_person_pronouns_lower = set([pronoun.lower() for pronoun in first_person_pronouns])\n",
    "        \n",
    "        pattern = \"(?:http|ftp|https)://(?:[\\w_-]+(?:(?:\\.[\\w_-]+)+))(?:[\\w.,@?^=%&:/~+#-]*[\\w@?^=%&/~+#-])?\"\n",
    "        \n",
    "        final_output = []\n",
    "        for text in posts:\n",
    "            tokenized_text = tokenizer.tokenize(text)\n",
    "            \n",
    "            num_pronouns = len(prounouns_lower.intersection(tokenized_text))\n",
    "            num_names = len(first_names_lower.intersection(tokenized_text))\n",
    "            num_first_person = len(first_person_pronouns_lower.intersection(tokenized_text))\n",
    "            num_at_symbols = text.count(\"@\")\n",
    "            num_subtweet = text.count(\"subtweet\") + text.count(\"Subtweet\")\n",
    "            num_urls = len(re.findall(pattern, text))\n",
    "            \n",
    "            weighted_dict = {\"sentiment\": simplify_polarity(TextBlob(text).sentiment.polarity), \n",
    "                             \"num_subtweet\": num_subtweet,\n",
    "                             \"num_at_symbols\": num_at_symbols, \n",
    "                             \"num_urls\": num_urls,\n",
    "                             \"num_pronouns\": num_pronouns,\n",
    "                             \"num_names\": num_names, \n",
    "                             \"num_first_person\": num_first_person, \n",
    "                             \"num_at_symbols\": num_at_symbols,\n",
    "                             \"num_subtweet\": num_subtweet,\n",
    "                             \"num_urls\": num_urls}\n",
    "            final_output.append(weighted_dict)\n",
    "        return final_output"
   ]
  },
  {
   "cell_type": "markdown",
   "metadata": {},
   "source": [
    "#### Build the pipeline"
   ]
  },
  {
   "cell_type": "code",
   "execution_count": 9,
   "metadata": {},
   "outputs": [],
   "source": [
    "sentiment_pipeline = Pipeline([\n",
    "    (\"features\", FeatureUnion([\n",
    "        (\"ngram_tf_idf\", Pipeline([\n",
    "            (\"counts\", CountVectorizer(tokenizer=tokenizer.tokenize)),\n",
    "            (\"tf_idf\", TfidfTransformer())\n",
    "        ])),\n",
    "        (\"stats_vect\", Pipeline([\n",
    "            (\"tweet_stats\", TweetStats()),\n",
    "            (\"vect\", DictVectorizer())\n",
    "        ]))\n",
    "    ])),\n",
    "    (\"classifier\", MultinomialNB())\n",
    "])"
   ]
  },
  {
   "cell_type": "markdown",
   "metadata": {},
   "source": [
    "#### Show the results"
   ]
  },
  {
   "cell_type": "code",
   "execution_count": 10,
   "metadata": {},
   "outputs": [],
   "source": [
    "sentiment_pipeline.fit(text_train, class_train)\n",
    "predictions = sentiment_pipeline.predict(text_test)"
   ]
  },
  {
   "cell_type": "code",
   "execution_count": 11,
   "metadata": {},
   "outputs": [
    {
     "name": "stdout",
     "output_type": "stream",
     "text": [
      "             precision    recall  f1-score   support\n",
      "\n",
      "   negative       0.97      0.86      0.91      1397\n",
      "   positive       0.87      0.97      0.92      1381\n",
      "\n",
      "avg / total       0.92      0.91      0.91      2778\n",
      "\n"
     ]
    }
   ],
   "source": [
    "print(classification_report(class_test, predictions))"
   ]
  },
  {
   "cell_type": "markdown",
   "metadata": {},
   "source": [
    "#### Define function for visualizing confusion matrices"
   ]
  },
  {
   "cell_type": "code",
   "execution_count": 12,
   "metadata": {},
   "outputs": [],
   "source": [
    "def plot_confusion_matrix(cm, classes, normalize=False,\n",
    "                          title='Confusion matrix', cmap=plt.cm.Blues):\n",
    "    if normalize:\n",
    "        cm = cm.astype('float') / cm.sum(axis=1)[:, np.newaxis]\n",
    "\n",
    "    plt.imshow(cm, interpolation='nearest', cmap=cmap)\n",
    "    plt.title(title)\n",
    "    plt.colorbar()\n",
    "    tick_marks = np.arange(len(classes))\n",
    "    plt.xticks(tick_marks, classes, rotation=45)\n",
    "    plt.yticks(tick_marks, classes)\n",
    "\n",
    "    fmt = '.2f' if normalize else 'd'\n",
    "    thresh = cm.max() / 2.\n",
    "    for i, j in itertools.product(range(cm.shape[0]), range(cm.shape[1])):\n",
    "        plt.text(j, i, format(cm[i, j], fmt),\n",
    "                 horizontalalignment=\"center\",\n",
    "                 color=\"white\" if cm[i, j] > thresh else \"black\")\n",
    "\n",
    "    plt.tight_layout()\n",
    "    plt.ylabel('True label')\n",
    "    plt.xlabel('Predicted label')"
   ]
  },
  {
   "cell_type": "markdown",
   "metadata": {},
   "source": [
    "#### Show the matrices"
   ]
  },
  {
   "cell_type": "code",
   "execution_count": 13,
   "metadata": {},
   "outputs": [
    {
     "data": {
      "image/png": "[encoded data removed]",
      "text/plain": [
       "<Figure size 432x288 with 2 Axes>"
      ]
     },
     "metadata": {},
     "output_type": "display_data"
    },
    {
     "data": {
      "image/png": "[encoded data removed]",
      "text/plain": [
       "<Figure size 432x288 with 2 Axes>"
      ]
     },
     "metadata": {},
     "output_type": "display_data"
    }
   ],
   "source": [
    "class_names = [\"negative\", \"positive\"]\n",
    "\n",
    "cnf_matrix = confusion_matrix(class_test, predictions)\n",
    "np.set_printoptions(precision=2)\n",
    "\n",
    "plt.figure()\n",
    "plot_confusion_matrix(cnf_matrix, classes=class_names,\n",
    "                      title='Confusion matrix, without normalization')\n",
    "\n",
    "plt.figure()\n",
    "plot_confusion_matrix(cnf_matrix, classes=class_names, normalize=True,\n",
    "                      title='Normalized confusion matrix')\n",
    "\n",
    "plt.show()"
   ]
  },
  {
   "cell_type": "markdown",
   "metadata": {},
   "source": [
    "#### Save the classifier for another time"
   ]
  },
  {
   "cell_type": "code",
   "execution_count": 14,
   "metadata": {},
   "outputs": [
    {
     "data": {
      "text/plain": [
       "['../data/other_data/subtweets_classifier.pkl']"
      ]
     },
     "execution_count": 14,
     "metadata": {},
     "output_type": "execute_result"
    }
   ],
   "source": [
    "joblib.dump(sentiment_pipeline, \"../data/other_data/subtweets_classifier.pkl\") "
   ]
  },
  {
   "cell_type": "markdown",
   "metadata": {},
   "source": [
    "#### Print tests for the classifier"
   ]
  },
  {
   "cell_type": "code",
   "execution_count": 15,
   "metadata": {},
   "outputs": [],
   "source": [
    "def tests_dataframe(tweets_dataframe, text_column=\"SentimentText\", sentiment_column=\"Sentiment\"):\n",
    "    predictions = sentiment_pipeline.predict_proba(tweets_dataframe[text_column])\n",
    "    negative_probability = predictions[:, 0].tolist()\n",
    "    positive_probability = predictions[:, 1].tolist()\n",
    "    return pd.DataFrame({\"tweet\": tweets_dataframe[text_column], \n",
    "                         \"sentiment_score\": tweets_dataframe[sentiment_column], \n",
    "                         \"subtweet_negative_probability\": negative_probability, \n",
    "                         \"subtweet_positive_probability\": positive_probability}).sort_values(by=\"subtweet_positive_probability\", \n",
    "                                                                                             ascending=False)"
   ]
  },
  {
   "cell_type": "markdown",
   "metadata": {},
   "source": [
    "#### Make up some tweets"
   ]
  },
  {
   "cell_type": "code",
   "execution_count": 16,
   "metadata": {},
   "outputs": [],
   "source": [
    "test_tweets = [\"Some people don't know their place.\", \n",
    "               \"Isn't it funny how some people don't know their place?\", \n",
    "               \"How come you people act like this?\", \n",
    "               \"You're such a nerd.\",\n",
    "               \"I love Noah, he's so cool.\",\n",
    "               \"Who the heck is Noah?\",\n",
    "               \"This is a @NoahSegalGould subtweet. Go check out https://segal-gould.com.\", \n",
    "               \"This is a subtweet.\", \n",
    "               \"Hey @jack!\", \n",
    "               \"Hey Jack!\",\n",
    "               \"http://www.google.com\"]"
   ]
  },
  {
   "cell_type": "markdown",
   "metadata": {},
   "source": [
    "#### Make a dataframe from the list"
   ]
  },
  {
   "cell_type": "code",
   "execution_count": 17,
   "metadata": {},
   "outputs": [],
   "source": [
    "test_tweets_df = pd.DataFrame({\"Tweet\": test_tweets, \"Sentiment\": [None]*len(test_tweets)})"
   ]
  },
  {
   "cell_type": "markdown",
   "metadata": {},
   "source": [
    "#### Print the tests"
   ]
  },
  {
   "cell_type": "code",
   "execution_count": 18,
   "metadata": {},
   "outputs": [
    {
     "data": {
      "text/html": [
       "<div>\n",
       "<style scoped>\n",
       "    .dataframe tbody tr th:only-of-type {\n",
       "        vertical-align: middle;\n",
       "    }\n",
       "\n",
       "    .dataframe tbody tr th {\n",
       "        vertical-align: top;\n",
       "    }\n",
       "\n",
       "    .dataframe thead th {\n",
       "        text-align: right;\n",
       "    }\n",
       "</style>\n",
       "<table border=\"1\" class=\"dataframe\">\n",
       "  <thead>\n",
       "    <tr style=\"text-align: right;\">\n",
       "      <th></th>\n",
       "      <th>sentiment_score</th>\n",
       "      <th>subtweet_negative_probability</th>\n",
       "      <th>subtweet_positive_probability</th>\n",
       "      <th>tweet</th>\n",
       "    </tr>\n",
       "  </thead>\n",
       "  <tbody>\n",
       "    <tr>\n",
       "      <th>0</th>\n",
       "      <td>None</td>\n",
       "      <td>0.044404</td>\n",
       "      <td>0.955596</td>\n",
       "      <td>Some people don't know their place.</td>\n",
       "    </tr>\n",
       "    <tr>\n",
       "      <th>1</th>\n",
       "      <td>None</td>\n",
       "      <td>0.052663</td>\n",
       "      <td>0.947337</td>\n",
       "      <td>Isn't it funny how some people don't know their place?</td>\n",
       "    </tr>\n",
       "    <tr>\n",
       "      <th>2</th>\n",
       "      <td>None</td>\n",
       "      <td>0.108819</td>\n",
       "      <td>0.891181</td>\n",
       "      <td>How come you people act like this?</td>\n",
       "    </tr>\n",
       "    <tr>\n",
       "      <th>3</th>\n",
       "      <td>None</td>\n",
       "      <td>0.176988</td>\n",
       "      <td>0.823012</td>\n",
       "      <td>You're such a nerd.</td>\n",
       "    </tr>\n",
       "    <tr>\n",
       "      <th>4</th>\n",
       "      <td>None</td>\n",
       "      <td>0.251143</td>\n",
       "      <td>0.748857</td>\n",
       "      <td>I love Noah, he's so cool.</td>\n",
       "    </tr>\n",
       "  </tbody>\n",
       "</table>\n",
       "</div>"
      ],
      "text/plain": [
       "  sentiment_score  subtweet_negative_probability  \\\n",
       "0            None                       0.044404   \n",
       "1            None                       0.052663   \n",
       "2            None                       0.108819   \n",
       "3            None                       0.176988   \n",
       "4            None                       0.251143   \n",
       "\n",
       "   subtweet_positive_probability  \\\n",
       "0                       0.955596   \n",
       "1                       0.947337   \n",
       "2                       0.891181   \n",
       "3                       0.823012   \n",
       "4                       0.748857   \n",
       "\n",
       "                                                    tweet  \n",
       "0                     Some people don't know their place.  \n",
       "1  Isn't it funny how some people don't know their place?  \n",
       "2                      How come you people act like this?  \n",
       "3                                     You're such a nerd.  \n",
       "4                              I love Noah, he's so cool.  "
      ]
     },
     "execution_count": 18,
     "metadata": {},
     "output_type": "execute_result"
    }
   ],
   "source": [
    "tests_dataframe(test_tweets_df, text_column=\"Tweet\", sentiment_column=\"Sentiment\").head()"
   ]
  },
  {
   "cell_type": "markdown",
   "metadata": {},
   "source": [
    "#### Test on actual tweets"
   ]
  },
  {
   "cell_type": "code",
   "execution_count": 19,
   "metadata": {},
   "outputs": [
    {
     "name": "stderr",
     "output_type": "stream",
     "text": [
      "b'Skipping line 8836: expected 4 fields, saw 5\\n'\n",
      "b'Skipping line 535882: expected 4 fields, saw 7\\n'\n"
     ]
    }
   ],
   "source": [
    "naji_df = pd.read_csv(\"../data/data_for_testing/other_data/naji_data.csv\", error_bad_lines=False)"
   ]
  },
  {
   "cell_type": "markdown",
   "metadata": {},
   "source": [
    "#### Repair some leftover HTML"
   ]
  },
  {
   "cell_type": "code",
   "execution_count": 20,
   "metadata": {},
   "outputs": [],
   "source": [
    "naji_df[\"SentimentText\"] = naji_df[\"SentimentText\"].str.replace(\"&quot;\", \"\\\"\")\n",
    "naji_df[\"SentimentText\"] = naji_df[\"SentimentText\"].str.replace(\"&amp;\", \"&\")\n",
    "naji_df[\"SentimentText\"] = naji_df[\"SentimentText\"].str.replace(\"&gt;\", \">\")\n",
    "naji_df[\"SentimentText\"] = naji_df[\"SentimentText\"].str.replace(\"&lt;\", \"<\")"
   ]
  },
  {
   "cell_type": "markdown",
   "metadata": {},
   "source": [
    "#### Remove rows with non-English"
   ]
  },
  {
   "cell_type": "code",
   "execution_count": 21,
   "metadata": {},
   "outputs": [],
   "source": [
    "def is_english(s):\n",
    "    return all(ord(char) < 128 for char in s)"
   ]
  },
  {
   "cell_type": "code",
   "execution_count": 22,
   "metadata": {},
   "outputs": [],
   "source": [
    "naji_df = naji_df[naji_df[\"SentimentText\"].map(is_english)]"
   ]
  },
  {
   "cell_type": "markdown",
   "metadata": {},
   "source": [
    "#### Show the length of the dataset"
   ]
  },
  {
   "cell_type": "code",
   "execution_count": 23,
   "metadata": {},
   "outputs": [
    {
     "name": "stdout",
     "output_type": "stream",
     "text": [
      "Length of dataset: 1564156\n"
     ]
    }
   ],
   "source": [
    "print(\"Length of dataset: {}\".format(len(naji_df)))"
   ]
  },
  {
   "cell_type": "markdown",
   "metadata": {},
   "source": [
    "#### Use randomly selected 50K rows from dataset"
   ]
  },
  {
   "cell_type": "code",
   "execution_count": 24,
   "metadata": {},
   "outputs": [],
   "source": [
    "naji_df = naji_df.sample(n=50000).reset_index(drop=True)"
   ]
  },
  {
   "cell_type": "markdown",
   "metadata": {},
   "source": [
    "#### Print and time the tests"
   ]
  },
  {
   "cell_type": "code",
   "execution_count": 25,
   "metadata": {
    "scrolled": false
   },
   "outputs": [
    {
     "name": "stdout",
     "output_type": "stream",
     "text": [
      "CPU times: user 45.1 s, sys: 746 ms, total: 45.8 s\n",
      "Wall time: 53 s\n"
     ]
    }
   ],
   "source": [
    "%%time\n",
    "naji_df = tests_dataframe(naji_df)"
   ]
  },
  {
   "cell_type": "code",
   "execution_count": 26,
   "metadata": {},
   "outputs": [],
   "source": [
    "naji_df.to_csv(\"../data/data_from_testing/other_data/naji_tests.csv\")"
   ]
  },
  {
   "cell_type": "code",
   "execution_count": 27,
   "metadata": {},
   "outputs": [
    {
     "data": {
      "text/html": [
       "<div>\n",
       "<style scoped>\n",
       "    .dataframe tbody tr th:only-of-type {\n",
       "        vertical-align: middle;\n",
       "    }\n",
       "\n",
       "    .dataframe tbody tr th {\n",
       "        vertical-align: top;\n",
       "    }\n",
       "\n",
       "    .dataframe thead th {\n",
       "        text-align: right;\n",
       "    }\n",
       "</style>\n",
       "<table border=\"1\" class=\"dataframe\">\n",
       "  <thead>\n",
       "    <tr style=\"text-align: right;\">\n",
       "      <th></th>\n",
       "      <th>sentiment_score</th>\n",
       "      <th>subtweet_negative_probability</th>\n",
       "      <th>subtweet_positive_probability</th>\n",
       "      <th>tweet</th>\n",
       "    </tr>\n",
       "  </thead>\n",
       "  <tbody>\n",
       "    <tr>\n",
       "      <th>13817</th>\n",
       "      <td>0</td>\n",
       "      <td>0.003028</td>\n",
       "      <td>0.996972</td>\n",
       "      <td>You never really realize how much of an impact someone has on your daily life until all their stuff is packed and they are gone.</td>\n",
       "    </tr>\n",
       "    <tr>\n",
       "      <th>38866</th>\n",
       "      <td>0</td>\n",
       "      <td>0.005830</td>\n",
       "      <td>0.994170</td>\n",
       "      <td>how do you remove followers from your actual followers list? blocked them but they ARE STILL THERE</td>\n",
       "    </tr>\n",
       "    <tr>\n",
       "      <th>41007</th>\n",
       "      <td>0</td>\n",
       "      <td>0.006756</td>\n",
       "      <td>0.993244</td>\n",
       "      <td>I hate how you can't hang around your 'guy friends' cuz they always want a guys night together, minus you. Cuz you're not a guy</td>\n",
       "    </tr>\n",
       "    <tr>\n",
       "      <th>23775</th>\n",
       "      <td>0</td>\n",
       "      <td>0.007760</td>\n",
       "      <td>0.992240</td>\n",
       "      <td>i guess its true- once your dating someone then all the guys ask you out and flirt- but when you are single they all STOP</td>\n",
       "    </tr>\n",
       "    <tr>\n",
       "      <th>40976</th>\n",
       "      <td>0</td>\n",
       "      <td>0.008600</td>\n",
       "      <td>0.991400</td>\n",
       "      <td>Why when your anticipating something the weeks drag on so slow?&amp; when you want them to go slow they fly by</td>\n",
       "    </tr>\n",
       "  </tbody>\n",
       "</table>\n",
       "</div>"
      ],
      "text/plain": [
       "       sentiment_score  subtweet_negative_probability  \\\n",
       "13817                0                       0.003028   \n",
       "38866                0                       0.005830   \n",
       "41007                0                       0.006756   \n",
       "23775                0                       0.007760   \n",
       "40976                0                       0.008600   \n",
       "\n",
       "       subtweet_positive_probability  \\\n",
       "13817                       0.996972   \n",
       "38866                       0.994170   \n",
       "41007                       0.993244   \n",
       "23775                       0.992240   \n",
       "40976                       0.991400   \n",
       "\n",
       "                                                                                                                                   tweet  \n",
       "13817  You never really realize how much of an impact someone has on your daily life until all their stuff is packed and they are gone.   \n",
       "38866                                how do you remove followers from your actual followers list? blocked them but they ARE STILL THERE   \n",
       "41007   I hate how you can't hang around your 'guy friends' cuz they always want a guys night together, minus you. Cuz you're not a guy   \n",
       "23775         i guess its true- once your dating someone then all the guys ask you out and flirt- but when you are single they all STOP   \n",
       "40976                        Why when your anticipating something the weeks drag on so slow?& when you want them to go slow they fly by   "
      ]
     },
     "execution_count": 27,
     "metadata": {},
     "output_type": "execute_result"
    }
   ],
   "source": [
    "naji_df.head()"
   ]
  },
  {
   "cell_type": "markdown",
   "metadata": {},
   "source": [
    "#### Plot the results"
   ]
  },
  {
   "cell_type": "code",
   "execution_count": 28,
   "metadata": {},
   "outputs": [],
   "source": [
    "naji_df_columns = [\"sentiment_score\", \"subtweet_negative_probability\"]"
   ]
  },
  {
   "cell_type": "code",
   "execution_count": 29,
   "metadata": {},
   "outputs": [],
   "source": [
    "naji_df = naji_df.set_index(\"tweet\").drop(naji_df_columns, axis=1).head(10)"
   ]
  },
  {
   "cell_type": "code",
   "execution_count": 30,
   "metadata": {},
   "outputs": [
    {
     "data": {
      "image/png": "[encoded data removed]",
      "text/plain": [
       "<Figure size 432x288 with 1 Axes>"
      ]
     },
     "metadata": {},
     "output_type": "display_data"
    }
   ],
   "source": [
    "naji_df.plot.barh(logx=True);"
   ]
  },
  {
   "cell_type": "markdown",
   "metadata": {},
   "source": [
    "#### Tests on friends' tweets"
   ]
  },
  {
   "cell_type": "code",
   "execution_count": 31,
   "metadata": {},
   "outputs": [],
   "source": [
    "aaron_df = pd.read_csv(\"../data/data_for_testing/friends_data/akrapf96_tweets.csv\").dropna()\n",
    "aaron_df[\"Sentiment\"] = None"
   ]
  },
  {
   "cell_type": "code",
   "execution_count": 32,
   "metadata": {
    "scrolled": true
   },
   "outputs": [
    {
     "name": "stdout",
     "output_type": "stream",
     "text": [
      "CPU times: user 3.17 s, sys: 53.7 ms, total: 3.22 s\n",
      "Wall time: 3.65 s\n"
     ]
    }
   ],
   "source": [
    "%%time\n",
    "aaron_df = tests_dataframe(aaron_df, text_column=\"Text\", sentiment_column=\"Sentiment\")"
   ]
  },
  {
   "cell_type": "code",
   "execution_count": 33,
   "metadata": {},
   "outputs": [],
   "source": [
    "aaron_df.to_csv(\"../data/data_from_testing/friends_data/akrapf96_tests.csv\")"
   ]
  },
  {
   "cell_type": "code",
   "execution_count": 34,
   "metadata": {},
   "outputs": [],
   "source": [
    "aaron_df[\"tweet\"] = aaron_df[\"tweet\"].str[:140]"
   ]
  },
  {
   "cell_type": "code",
   "execution_count": 35,
   "metadata": {
    "scrolled": true
   },
   "outputs": [
    {
     "data": {
      "text/html": [
       "<div>\n",
       "<style scoped>\n",
       "    .dataframe tbody tr th:only-of-type {\n",
       "        vertical-align: middle;\n",
       "    }\n",
       "\n",
       "    .dataframe tbody tr th {\n",
       "        vertical-align: top;\n",
       "    }\n",
       "\n",
       "    .dataframe thead th {\n",
       "        text-align: right;\n",
       "    }\n",
       "</style>\n",
       "<table border=\"1\" class=\"dataframe\">\n",
       "  <thead>\n",
       "    <tr style=\"text-align: right;\">\n",
       "      <th></th>\n",
       "      <th>sentiment_score</th>\n",
       "      <th>subtweet_negative_probability</th>\n",
       "      <th>subtweet_positive_probability</th>\n",
       "      <th>tweet</th>\n",
       "    </tr>\n",
       "  </thead>\n",
       "  <tbody>\n",
       "    <tr>\n",
       "      <th>1722</th>\n",
       "      <td>None</td>\n",
       "      <td>0.006081</td>\n",
       "      <td>0.993919</td>\n",
       "      <td>PewDiePie posts video \"apologizing\" for his Kill All Jews \"joke\" and it's really about how he makes a ton of money and the media hates him</td>\n",
       "    </tr>\n",
       "    <tr>\n",
       "      <th>3283</th>\n",
       "      <td>None</td>\n",
       "      <td>0.006190</td>\n",
       "      <td>0.993810</td>\n",
       "      <td>It's funny because he blocked our whole family on facebook (you can find him if you log out) and insists he \"doesn't use it\"</td>\n",
       "    </tr>\n",
       "    <tr>\n",
       "      <th>3281</th>\n",
       "      <td>None</td>\n",
       "      <td>0.007563</td>\n",
       "      <td>0.992437</td>\n",
       "      <td>What he doesn't know (unless he stalks my twitter which I know he does) is that I have fake accounts following all his social media</td>\n",
       "    </tr>\n",
       "    <tr>\n",
       "      <th>2893</th>\n",
       "      <td>None</td>\n",
       "      <td>0.007570</td>\n",
       "      <td>0.992430</td>\n",
       "      <td>I love arguing with conservative bigots who don't understand basic decency. People have their own beliefs, just let them believe.</td>\n",
       "    </tr>\n",
       "    <tr>\n",
       "      <th>3236</th>\n",
       "      <td>None</td>\n",
       "      <td>0.008416</td>\n",
       "      <td>0.991584</td>\n",
       "      <td>What will straight cis people do now with their \"legalize gay\" shirts? Frame them, probably</td>\n",
       "    </tr>\n",
       "  </tbody>\n",
       "</table>\n",
       "</div>"
      ],
      "text/plain": [
       "     sentiment_score  subtweet_negative_probability  \\\n",
       "1722            None                       0.006081   \n",
       "3283            None                       0.006190   \n",
       "3281            None                       0.007563   \n",
       "2893            None                       0.007570   \n",
       "3236            None                       0.008416   \n",
       "\n",
       "      subtweet_positive_probability  \\\n",
       "1722                       0.993919   \n",
       "3283                       0.993810   \n",
       "3281                       0.992437   \n",
       "2893                       0.992430   \n",
       "3236                       0.991584   \n",
       "\n",
       "                                                                                                                                           tweet  \n",
       "1722  PewDiePie posts video \"apologizing\" for his Kill All Jews \"joke\" and it's really about how he makes a ton of money and the media hates him  \n",
       "3283                It's funny because he blocked our whole family on facebook (you can find him if you log out) and insists he \"doesn't use it\"  \n",
       "3281        What he doesn't know (unless he stalks my twitter which I know he does) is that I have fake accounts following all his social media   \n",
       "2893           I love arguing with conservative bigots who don't understand basic decency. People have their own beliefs, just let them believe.  \n",
       "3236                                                 What will straight cis people do now with their \"legalize gay\" shirts? Frame them, probably  "
      ]
     },
     "execution_count": 35,
     "metadata": {},
     "output_type": "execute_result"
    }
   ],
   "source": [
    "aaron_df.head()"
   ]
  },
  {
   "cell_type": "markdown",
   "metadata": {},
   "source": [
    "#### Plot the results"
   ]
  },
  {
   "cell_type": "code",
   "execution_count": 36,
   "metadata": {},
   "outputs": [],
   "source": [
    "aaron_df_columns = [\"sentiment_score\", \"subtweet_negative_probability\"]"
   ]
  },
  {
   "cell_type": "code",
   "execution_count": 37,
   "metadata": {},
   "outputs": [],
   "source": [
    "aaron_df = aaron_df.set_index(\"tweet\").drop(aaron_df_columns, axis=1).head(10)"
   ]
  },
  {
   "cell_type": "code",
   "execution_count": 38,
   "metadata": {},
   "outputs": [
    {
     "data": {
      "image/png": "[encoded data removed]",
      "text/plain": [
       "<Figure size 432x288 with 1 Axes>"
      ]
     },
     "metadata": {},
     "output_type": "display_data"
    }
   ],
   "source": [
    "aaron_df.plot.barh(logx=True);"
   ]
  },
  {
   "cell_type": "code",
   "execution_count": 39,
   "metadata": {},
   "outputs": [],
   "source": [
    "julia_df = pd.read_csv(\"../data/data_for_testing/friends_data/juliaeberry_tweets.csv\").dropna()\n",
    "julia_df[\"Sentiment\"] = None"
   ]
  },
  {
   "cell_type": "code",
   "execution_count": 40,
   "metadata": {
    "scrolled": false
   },
   "outputs": [
    {
     "name": "stdout",
     "output_type": "stream",
     "text": [
      "CPU times: user 6.04 s, sys: 91.4 ms, total: 6.13 s\n",
      "Wall time: 6.88 s\n"
     ]
    }
   ],
   "source": [
    "%%time\n",
    "julia_df = tests_dataframe(julia_df, text_column=\"Text\", sentiment_column=\"Sentiment\")"
   ]
  },
  {
   "cell_type": "code",
   "execution_count": 41,
   "metadata": {},
   "outputs": [],
   "source": [
    "julia_df.to_csv(\"../data/data_from_testing/friends_data/juliaeberry_tests.csv\")"
   ]
  },
  {
   "cell_type": "code",
   "execution_count": 42,
   "metadata": {},
   "outputs": [],
   "source": [
    "julia_df[\"tweet\"] = julia_df[\"tweet\"].str[:140]"
   ]
  },
  {
   "cell_type": "code",
   "execution_count": 43,
   "metadata": {
    "scrolled": false
   },
   "outputs": [
    {
     "data": {
      "text/html": [
       "<div>\n",
       "<style scoped>\n",
       "    .dataframe tbody tr th:only-of-type {\n",
       "        vertical-align: middle;\n",
       "    }\n",
       "\n",
       "    .dataframe tbody tr th {\n",
       "        vertical-align: top;\n",
       "    }\n",
       "\n",
       "    .dataframe thead th {\n",
       "        text-align: right;\n",
       "    }\n",
       "</style>\n",
       "<table border=\"1\" class=\"dataframe\">\n",
       "  <thead>\n",
       "    <tr style=\"text-align: right;\">\n",
       "      <th></th>\n",
       "      <th>sentiment_score</th>\n",
       "      <th>subtweet_negative_probability</th>\n",
       "      <th>subtweet_positive_probability</th>\n",
       "      <th>tweet</th>\n",
       "    </tr>\n",
       "  </thead>\n",
       "  <tbody>\n",
       "    <tr>\n",
       "      <th>1138</th>\n",
       "      <td>None</td>\n",
       "      <td>0.002422</td>\n",
       "      <td>0.997578</td>\n",
       "      <td>\"what a COINcidence that you're here,\" drawls Bitcoin lustily. your palms sweat as you imagine what it would be like to own this creature, t</td>\n",
       "    </tr>\n",
       "    <tr>\n",
       "      <th>902</th>\n",
       "      <td>None</td>\n",
       "      <td>0.004004</td>\n",
       "      <td>0.995996</td>\n",
       "      <td>tbh if they don't start publically dating in a year after pyeongchang I'm going to be S H O C K E D how can you look at somebody like that i</td>\n",
       "    </tr>\n",
       "    <tr>\n",
       "      <th>850</th>\n",
       "      <td>None</td>\n",
       "      <td>0.005445</td>\n",
       "      <td>0.994555</td>\n",
       "      <td>honestly they should be I can't believe they're even considered such high threats to tessa and scott on their underwhelming lifts alone</td>\n",
       "    </tr>\n",
       "    <tr>\n",
       "      <th>770</th>\n",
       "      <td>None</td>\n",
       "      <td>0.005526</td>\n",
       "      <td>0.994474</td>\n",
       "      <td>what are these people SEEING in them that's so wonderful??? I don't know how people can justify their technical inferiority by saying \"oh, t</td>\n",
       "    </tr>\n",
       "    <tr>\n",
       "      <th>236</th>\n",
       "      <td>None</td>\n",
       "      <td>0.005698</td>\n",
       "      <td>0.994302</td>\n",
       "      <td>look I've been thinking about it and even if they're older and less able to perform (although, they're at the top of their game now) they co</td>\n",
       "    </tr>\n",
       "  </tbody>\n",
       "</table>\n",
       "</div>"
      ],
      "text/plain": [
       "     sentiment_score  subtweet_negative_probability  \\\n",
       "1138            None                       0.002422   \n",
       "902             None                       0.004004   \n",
       "850             None                       0.005445   \n",
       "770             None                       0.005526   \n",
       "236             None                       0.005698   \n",
       "\n",
       "      subtweet_positive_probability  \\\n",
       "1138                       0.997578   \n",
       "902                        0.995996   \n",
       "850                        0.994555   \n",
       "770                        0.994474   \n",
       "236                        0.994302   \n",
       "\n",
       "                                                                                                                                             tweet  \n",
       "1138  \"what a COINcidence that you're here,\" drawls Bitcoin lustily. your palms sweat as you imagine what it would be like to own this creature, t  \n",
       "902   tbh if they don't start publically dating in a year after pyeongchang I'm going to be S H O C K E D how can you look at somebody like that i  \n",
       "850        honestly they should be I can't believe they're even considered such high threats to tessa and scott on their underwhelming lifts alone  \n",
       "770   what are these people SEEING in them that's so wonderful??? I don't know how people can justify their technical inferiority by saying \"oh, t  \n",
       "236   look I've been thinking about it and even if they're older and less able to perform (although, they're at the top of their game now) they co  "
      ]
     },
     "execution_count": 43,
     "metadata": {},
     "output_type": "execute_result"
    }
   ],
   "source": [
    "julia_df.head()"
   ]
  },
  {
   "cell_type": "markdown",
   "metadata": {},
   "source": [
    "#### Plot the results"
   ]
  },
  {
   "cell_type": "code",
   "execution_count": 44,
   "metadata": {},
   "outputs": [],
   "source": [
    "julia_df_columns = [\"sentiment_score\", \"subtweet_negative_probability\"]"
   ]
  },
  {
   "cell_type": "code",
   "execution_count": 45,
   "metadata": {},
   "outputs": [],
   "source": [
    "julia_df = julia_df.set_index(\"tweet\").drop(julia_df_columns, axis=1).head(10)"
   ]
  },
  {
   "cell_type": "code",
   "execution_count": 46,
   "metadata": {},
   "outputs": [
    {
     "data": {
      "image/png": "[encoded data removed]",
      "text/plain": [
       "<Figure size 432x288 with 1 Axes>"
      ]
     },
     "metadata": {},
     "output_type": "display_data"
    }
   ],
   "source": [
    "julia_df.plot.barh(logx=True);"
   ]
  },
  {
   "cell_type": "code",
   "execution_count": 47,
   "metadata": {},
   "outputs": [],
   "source": [
    "zoe_df = pd.read_csv(\"../data/data_for_testing/friends_data/zoeterhune_tweets.csv\").dropna()\n",
    "zoe_df[\"Sentiment\"] = None"
   ]
  },
  {
   "cell_type": "code",
   "execution_count": 48,
   "metadata": {},
   "outputs": [
    {
     "name": "stdout",
     "output_type": "stream",
     "text": [
      "CPU times: user 1.16 s, sys: 20.9 ms, total: 1.18 s\n",
      "Wall time: 1.37 s\n"
     ]
    }
   ],
   "source": [
    "%%time\n",
    "zoe_df = tests_dataframe(zoe_df, text_column=\"Text\", sentiment_column=\"Sentiment\")"
   ]
  },
  {
   "cell_type": "code",
   "execution_count": 49,
   "metadata": {},
   "outputs": [],
   "source": [
    "zoe_df.to_csv(\"../data/data_from_testing/friends_data/zoeterhune_tests.csv\")"
   ]
  },
  {
   "cell_type": "code",
   "execution_count": 50,
   "metadata": {},
   "outputs": [],
   "source": [
    "zoe_df[\"tweet\"] = zoe_df[\"tweet\"].str[:140]"
   ]
  },
  {
   "cell_type": "code",
   "execution_count": 51,
   "metadata": {
    "scrolled": true
   },
   "outputs": [
    {
     "data": {
      "text/html": [
       "<div>\n",
       "<style scoped>\n",
       "    .dataframe tbody tr th:only-of-type {\n",
       "        vertical-align: middle;\n",
       "    }\n",
       "\n",
       "    .dataframe tbody tr th {\n",
       "        vertical-align: top;\n",
       "    }\n",
       "\n",
       "    .dataframe thead th {\n",
       "        text-align: right;\n",
       "    }\n",
       "</style>\n",
       "<table border=\"1\" class=\"dataframe\">\n",
       "  <thead>\n",
       "    <tr style=\"text-align: right;\">\n",
       "      <th></th>\n",
       "      <th>sentiment_score</th>\n",
       "      <th>subtweet_negative_probability</th>\n",
       "      <th>subtweet_positive_probability</th>\n",
       "      <th>tweet</th>\n",
       "    </tr>\n",
       "  </thead>\n",
       "  <tbody>\n",
       "    <tr>\n",
       "      <th>277</th>\n",
       "      <td>None</td>\n",
       "      <td>0.005355</td>\n",
       "      <td>0.994645</td>\n",
       "      <td>ok so people from my old school keep lamenting the death of someone to whom they claim to be close but also like continually misgender them</td>\n",
       "    </tr>\n",
       "    <tr>\n",
       "      <th>584</th>\n",
       "      <td>None</td>\n",
       "      <td>0.007600</td>\n",
       "      <td>0.992400</td>\n",
       "      <td>the funny thing about anxiety is one minute you could be playing one of your favorite tabletop games w some of your favorite people and then</td>\n",
       "    </tr>\n",
       "    <tr>\n",
       "      <th>583</th>\n",
       "      <td>None</td>\n",
       "      <td>0.013254</td>\n",
       "      <td>0.986746</td>\n",
       "      <td>and u decide to tweet about it weeks later bc no one ever talked about it and ur anxious mind decided 2 interpret that as no one caring when</td>\n",
       "    </tr>\n",
       "    <tr>\n",
       "      <th>334</th>\n",
       "      <td>None</td>\n",
       "      <td>0.017399</td>\n",
       "      <td>0.982601</td>\n",
       "      <td>Literally every time one of us little people makes a tweet that gets popular one of our friends HAS to comment \"don't forget us little peopl</td>\n",
       "    </tr>\n",
       "    <tr>\n",
       "      <th>1105</th>\n",
       "      <td>None</td>\n",
       "      <td>0.018083</td>\n",
       "      <td>0.981917</td>\n",
       "      <td>The guy who had the audacity to write a Buzzfeed \"article\" called \"28 problems only ridiculously good looking people have\" thinks he's ridic</td>\n",
       "    </tr>\n",
       "  </tbody>\n",
       "</table>\n",
       "</div>"
      ],
      "text/plain": [
       "     sentiment_score  subtweet_negative_probability  \\\n",
       "277             None                       0.005355   \n",
       "584             None                       0.007600   \n",
       "583             None                       0.013254   \n",
       "334             None                       0.017399   \n",
       "1105            None                       0.018083   \n",
       "\n",
       "      subtweet_positive_probability  \\\n",
       "277                        0.994645   \n",
       "584                        0.992400   \n",
       "583                        0.986746   \n",
       "334                        0.982601   \n",
       "1105                       0.981917   \n",
       "\n",
       "                                                                                                                                             tweet  \n",
       "277   ok so people from my old school keep lamenting the death of someone to whom they claim to be close but also like continually misgender them   \n",
       "584   the funny thing about anxiety is one minute you could be playing one of your favorite tabletop games w some of your favorite people and then  \n",
       "583   and u decide to tweet about it weeks later bc no one ever talked about it and ur anxious mind decided 2 interpret that as no one caring when  \n",
       "334   Literally every time one of us little people makes a tweet that gets popular one of our friends HAS to comment \"don't forget us little peopl  \n",
       "1105  The guy who had the audacity to write a Buzzfeed \"article\" called \"28 problems only ridiculously good looking people have\" thinks he's ridic  "
      ]
     },
     "execution_count": 51,
     "metadata": {},
     "output_type": "execute_result"
    }
   ],
   "source": [
    "zoe_df.head()"
   ]
  },
  {
   "cell_type": "markdown",
   "metadata": {},
   "source": [
    "#### Plot the results"
   ]
  },
  {
   "cell_type": "code",
   "execution_count": 52,
   "metadata": {},
   "outputs": [],
   "source": [
    "zoe_df_columns = [\"sentiment_score\", \"subtweet_negative_probability\"]"
   ]
  },
  {
   "cell_type": "code",
   "execution_count": 53,
   "metadata": {},
   "outputs": [],
   "source": [
    "zoe_df = zoe_df.set_index(\"tweet\").drop(zoe_df_columns, axis=1).head(10)"
   ]
  },
  {
   "cell_type": "code",
   "execution_count": 54,
   "metadata": {},
   "outputs": [
    {
     "data": {
      "image/png": "[encoded data removed]",
      "text/plain": [
       "<Figure size 432x288 with 1 Axes>"
      ]
     },
     "metadata": {},
     "output_type": "display_data"
    }
   ],
   "source": [
    "zoe_df.plot.barh(logx=True);"
   ]
  },
  {
   "cell_type": "code",
   "execution_count": 55,
   "metadata": {},
   "outputs": [],
   "source": [
    "noah_df = pd.read_csv(\"../data/data_for_testing/friends_data/noahsegalgould_tweets.csv\").dropna()\n",
    "noah_df[\"Sentiment\"] = None"
   ]
  },
  {
   "cell_type": "code",
   "execution_count": 56,
   "metadata": {
    "scrolled": false
   },
   "outputs": [
    {
     "name": "stdout",
     "output_type": "stream",
     "text": [
      "CPU times: user 3.92 s, sys: 66.5 ms, total: 3.99 s\n",
      "Wall time: 4.63 s\n"
     ]
    }
   ],
   "source": [
    "%%time\n",
    "noah_df = tests_dataframe(noah_df, text_column=\"Text\", sentiment_column=\"Sentiment\")"
   ]
  },
  {
   "cell_type": "code",
   "execution_count": 57,
   "metadata": {},
   "outputs": [],
   "source": [
    "noah_df.to_csv(\"../data/data_from_testing/friends_data/noahsegalgould_tests.csv\")"
   ]
  },
  {
   "cell_type": "code",
   "execution_count": 58,
   "metadata": {},
   "outputs": [],
   "source": [
    "noah_df[\"tweet\"] = noah_df[\"tweet\"].str[:140]"
   ]
  },
  {
   "cell_type": "code",
   "execution_count": 59,
   "metadata": {},
   "outputs": [
    {
     "data": {
      "text/html": [
       "<div>\n",
       "<style scoped>\n",
       "    .dataframe tbody tr th:only-of-type {\n",
       "        vertical-align: middle;\n",
       "    }\n",
       "\n",
       "    .dataframe tbody tr th {\n",
       "        vertical-align: top;\n",
       "    }\n",
       "\n",
       "    .dataframe thead th {\n",
       "        text-align: right;\n",
       "    }\n",
       "</style>\n",
       "<table border=\"1\" class=\"dataframe\">\n",
       "  <thead>\n",
       "    <tr style=\"text-align: right;\">\n",
       "      <th></th>\n",
       "      <th>sentiment_score</th>\n",
       "      <th>subtweet_negative_probability</th>\n",
       "      <th>subtweet_positive_probability</th>\n",
       "      <th>tweet</th>\n",
       "    </tr>\n",
       "  </thead>\n",
       "  <tbody>\n",
       "    <tr>\n",
       "      <th>877</th>\n",
       "      <td>None</td>\n",
       "      <td>0.003053</td>\n",
       "      <td>0.996947</td>\n",
       "      <td>I guess I think it’s foolish to rely on any website for being your source of personal fulfillment and especially as your only source for pol</td>\n",
       "    </tr>\n",
       "    <tr>\n",
       "      <th>3525</th>\n",
       "      <td>None</td>\n",
       "      <td>0.004462</td>\n",
       "      <td>0.995538</td>\n",
       "      <td>some people want their kids to take care of them when they are elderly but I plan to enslave sentient AI to do that for me until the end.</td>\n",
       "    </tr>\n",
       "    <tr>\n",
       "      <th>845</th>\n",
       "      <td>None</td>\n",
       "      <td>0.005960</td>\n",
       "      <td>0.994040</td>\n",
       "      <td>my plan to watch list has 224 entires! that is one of them! I treat all my children equally and fairly, and they will each be given their du</td>\n",
       "    </tr>\n",
       "    <tr>\n",
       "      <th>379</th>\n",
       "      <td>None</td>\n",
       "      <td>0.008052</td>\n",
       "      <td>0.991948</td>\n",
       "      <td>The washer on the far left of the Robbins laundry room won’t start unless you press the start button really hard and someone forgot to start</td>\n",
       "    </tr>\n",
       "    <tr>\n",
       "      <th>1777</th>\n",
       "      <td>None</td>\n",
       "      <td>0.008098</td>\n",
       "      <td>0.991902</td>\n",
       "      <td>I feel like being able to tweet twice as many characters is a nice addition but I wonder about the priorities of the platforms we use. The w</td>\n",
       "    </tr>\n",
       "  </tbody>\n",
       "</table>\n",
       "</div>"
      ],
      "text/plain": [
       "     sentiment_score  subtweet_negative_probability  \\\n",
       "877             None                       0.003053   \n",
       "3525            None                       0.004462   \n",
       "845             None                       0.005960   \n",
       "379             None                       0.008052   \n",
       "1777            None                       0.008098   \n",
       "\n",
       "      subtweet_positive_probability  \\\n",
       "877                        0.996947   \n",
       "3525                       0.995538   \n",
       "845                        0.994040   \n",
       "379                        0.991948   \n",
       "1777                       0.991902   \n",
       "\n",
       "                                                                                                                                             tweet  \n",
       "877   I guess I think it’s foolish to rely on any website for being your source of personal fulfillment and especially as your only source for pol  \n",
       "3525     some people want their kids to take care of them when they are elderly but I plan to enslave sentient AI to do that for me until the end.  \n",
       "845   my plan to watch list has 224 entires! that is one of them! I treat all my children equally and fairly, and they will each be given their du  \n",
       "379   The washer on the far left of the Robbins laundry room won’t start unless you press the start button really hard and someone forgot to start  \n",
       "1777  I feel like being able to tweet twice as many characters is a nice addition but I wonder about the priorities of the platforms we use. The w  "
      ]
     },
     "execution_count": 59,
     "metadata": {},
     "output_type": "execute_result"
    }
   ],
   "source": [
    "noah_df.head()"
   ]
  },
  {
   "cell_type": "markdown",
   "metadata": {},
   "source": [
    "#### Plot the results"
   ]
  },
  {
   "cell_type": "code",
   "execution_count": 60,
   "metadata": {},
   "outputs": [],
   "source": [
    "noah_df_columns = [\"sentiment_score\", \"subtweet_negative_probability\"]"
   ]
  },
  {
   "cell_type": "code",
   "execution_count": 61,
   "metadata": {},
   "outputs": [],
   "source": [
    "noah_df = noah_df.set_index(\"tweet\").drop(noah_df_columns, axis=1).head(10)"
   ]
  },
  {
   "cell_type": "code",
   "execution_count": 62,
   "metadata": {},
   "outputs": [
    {
     "data": {
      "image/png": "[encoded data removed]",
      "text/plain": [
       "<Figure size 432x288 with 1 Axes>"
      ]
     },
     "metadata": {},
     "output_type": "display_data"
    }
   ],
   "source": [
    "noah_df.plot.barh(logx=True);"
   ]
  },
  {
   "cell_type": "markdown",
   "metadata": {},
   "source": [
    "#### Test it in realtime\n",
    "#### Define some useful variables for later"
   ]
  },
  {
   "cell_type": "code",
   "execution_count": 63,
   "metadata": {},
   "outputs": [],
   "source": [
    "THRESHOLD = 0.925 # 92.5% positives and higher, only\n",
    "DURATION = 60*60*12 # 12 hours"
   ]
  },
  {
   "cell_type": "markdown",
   "metadata": {},
   "source": [
    "#### Load Twitter API credentials"
   ]
  },
  {
   "cell_type": "code",
   "execution_count": 64,
   "metadata": {},
   "outputs": [],
   "source": [
    "consumer_key, consumer_secret, access_token, access_token_secret = open(\"../../credentials.txt\").read().split(\"\\n\")"
   ]
  },
  {
   "cell_type": "markdown",
   "metadata": {},
   "source": [
    "#### Use the API credentials to connect to the API"
   ]
  },
  {
   "cell_type": "code",
   "execution_count": 65,
   "metadata": {},
   "outputs": [],
   "source": [
    "auth = tweepy.OAuthHandler(consumer_key, consumer_secret)\n",
    "auth.set_access_token(access_token, access_token_secret)\n",
    "api = tweepy.API(auth, retry_delay=1, timeout=120, # 2 minutes\n",
    "                 compression=True, wait_on_rate_limit=True, wait_on_rate_limit_notify=True)"
   ]
  },
  {
   "cell_type": "markdown",
   "metadata": {},
   "source": [
    "#### Prepare the final dataframe"
   ]
  },
  {
   "cell_type": "code",
   "execution_count": 66,
   "metadata": {},
   "outputs": [],
   "source": [
    "subtweets_live_list = []\n",
    "non_subtweets_live_list = []"
   ]
  },
  {
   "cell_type": "markdown",
   "metadata": {},
   "source": [
    "#### Create a custom class for streaming subtweets"
   ]
  },
  {
   "cell_type": "code",
   "execution_count": 67,
   "metadata": {},
   "outputs": [],
   "source": [
    "class StreamListener(tweepy.StreamListener):\n",
    "    def on_status(self, status):\n",
    "        text = status.text\n",
    "        text = text.replace(\"&quot;\", \"\\\"\").replace(\"&amp;\", \"&\").replace(\"&gt;\", \">\").replace(\"&lt;\", \"<\")\n",
    "        \n",
    "        # negative_probability = sentiment_pipeline.predict_proba([text]).tolist()[0][0]\n",
    "        positive_probability = sentiment_pipeline.predict_proba([text]).tolist()[0][1]\n",
    "        \n",
    "        screen_name = status.user.screen_name\n",
    "        created_at = status.created_at\n",
    "        \n",
    "        sentiment = TextBlob(text).sentiment\n",
    "        \n",
    "        sentiment_polarity = sentiment.polarity\n",
    "        sentiment_subjectivity = sentiment.subjectivity\n",
    "        \n",
    "        row = {\"tweet\": text, \n",
    "               \"screen_name\": screen_name, \n",
    "               \"time\": created_at, \n",
    "               \"subtweet_probability\": positive_probability, \n",
    "               \"sentiment_polarity\": sentiment_polarity, \n",
    "               \"sentiment_subjectivity\": sentiment_subjectivity}\n",
    "        print_list = pd.DataFrame([row]).values.tolist()[0]\n",
    "        \n",
    "        if all([positive_probability >= THRESHOLD,\n",
    "                not status.retweeted,\n",
    "                \"RT @\" not in text, \n",
    "                not status.in_reply_to_status_id]):\n",
    "            \n",
    "            api.update_status(\"{:.1%} \\nhttps://twitter.com/{}/status/{}\".format(positive_probability, \n",
    "                                                                                 screen_name, \n",
    "                                                                                 status.id))\n",
    "            \n",
    "            subtweets_live_list.append(row)\n",
    "            subtweets_df = pd.DataFrame(subtweets_live_list).sort_values(by=\"subtweet_probability\", \n",
    "                                                                         ascending=False)\n",
    "            subtweets_df.to_csv(\"../data/data_from_testing/live_downloaded_data/subtweets_live_data.csv\")\n",
    "            \n",
    "            print(\"Subtweet:\\n{}\\nGeographical Bounding Box: {}\\nTotal tweets acquired: {}\\n\".format(str(print_list)[1:-1],\n",
    "                                                                                                     None,\n",
    "                                                                                                     # status.place.bounding_box.coordinates, \n",
    "                                                                                                     (len(subtweets_live_list) + len(non_subtweets_live_list))))\n",
    "            \n",
    "            return row\n",
    "        else:\n",
    "            non_subtweets_live_list.append(row)\n",
    "            non_subtweets_df = pd.DataFrame(non_subtweets_live_list).sort_values(by=\"subtweet_probability\", \n",
    "                                                                                 ascending=False)\n",
    "            non_subtweets_df.to_csv(\"../data/data_from_testing/live_downloaded_data/non_subtweets_live_data.csv\")\n",
    "            \n",
    "            # print(\"Not a Subtweet:\\n{}\\nTotal tweets acquired: {}\\n\".format(print_list, len(subtweets_live_list) + len(non_subtweets_live_list)))\n",
    "            return row"
   ]
  },
  {
   "cell_type": "markdown",
   "metadata": {},
   "source": [
    "#### Get a list of the IDs of all my mutuals and my mutuals' followers"
   ]
  },
  {
   "cell_type": "code",
   "execution_count": 68,
   "metadata": {
    "scrolled": false
   },
   "outputs": [
    {
     "name": "stdout",
     "output_type": "stream",
     "text": [
      "77 followers for mutual 1: cleostaryeyed\n",
      "0.72 seconds for getting the followers' IDs of mutual 1: cleostaryeyed\n",
      "\n",
      "3 followers for mutual 2: 1017hokage\n",
      "0.74 seconds for getting the followers' IDs of mutual 2: 1017hokage\n",
      "\n",
      "25 followers for mutual 4: BardCourses\n",
      "0.75 seconds for getting the followers' IDs of mutual 4: BardCourses\n",
      "\n",
      "33 followers for mutual 5: beachaliens\n",
      "0.72 seconds for getting the followers' IDs of mutual 5: beachaliens\n",
      "\n",
      "45 followers for mutual 6: valunept\n",
      "0.80 seconds for getting the followers' IDs of mutual 6: valunept\n",
      "\n",
      "393 followers for mutual 7: bluhoopz\n",
      "0.78 seconds for getting the followers' IDs of mutual 7: bluhoopz\n",
      "\n",
      "34 followers for mutual 9: plurell\n",
      "0.70 seconds for getting the followers' IDs of mutual 9: plurell\n",
      "\n",
      "14 followers for mutual 10: zozotherobo\n",
      "2.71 seconds for getting the followers' IDs of mutual 10: zozotherobo\n",
      "\n",
      "66 followers for mutual 11: katie_burke_\n",
      "0.77 seconds for getting the followers' IDs of mutual 11: katie_burke_\n",
      "\n",
      "128 followers for mutual 13: evaanderson33\n",
      "0.72 seconds for getting the followers' IDs of mutual 13: evaanderson33\n",
      "\n",
      "140 followers for mutual 14: jizzyjtiz\n",
      "0.77 seconds for getting the followers' IDs of mutual 14: jizzyjtiz\n",
      "\n",
      "8 followers for mutual 16: OfLatvia\n",
      "0.73 seconds for getting the followers' IDs of mutual 16: OfLatvia\n",
      "\n",
      "31 followers for mutual 17: nanabee807\n",
      "1.73 seconds for getting the followers' IDs of mutual 17: nanabee807\n",
      "\n",
      "468 followers for mutual 18: john__wick__3\n",
      "0.74 seconds for getting the followers' IDs of mutual 18: john__wick__3\n",
      "\n"
     ]
    },
    {
     "name": "stderr",
     "output_type": "stream",
     "text": [
      "Rate limit reached. Sleeping for: 813\n"
     ]
    },
    {
     "name": "stdout",
     "output_type": "stream",
     "text": [
      "153 followers for mutual 19: Garrettisajoke\n",
      "1476.71 seconds for getting the followers' IDs of mutual 19: Garrettisajoke\n",
      "\n",
      "50 followers for mutual 20: andrewdjang\n",
      "0.69 seconds for getting the followers' IDs of mutual 20: andrewdjang\n",
      "\n",
      "228 followers for mutual 21: Pumpkinheadgal\n",
      "0.74 seconds for getting the followers' IDs of mutual 21: Pumpkinheadgal\n",
      "\n",
      "180 followers for mutual 22: Tageist97\n",
      "0.71 seconds for getting the followers' IDs of mutual 22: Tageist97\n",
      "\n",
      "45 followers for mutual 23: itsnemily\n",
      "0.75 seconds for getting the followers' IDs of mutual 23: itsnemily\n",
      "\n",
      "92 followers for mutual 25: UpToneMusic\n",
      "0.69 seconds for getting the followers' IDs of mutual 25: UpToneMusic\n",
      "\n",
      "204 followers for mutual 26: sycamorethrone\n",
      "0.75 seconds for getting the followers' IDs of mutual 26: sycamorethrone\n",
      "\n",
      "332 followers for mutual 29: real_john_wilks\n",
      "0.68 seconds for getting the followers' IDs of mutual 29: real_john_wilks\n",
      "\n",
      "31055 followers for mutual 30: extrafabulous\n",
      "\tMutual 30: extrafabulous has too many followers: 31055\n",
      "1.72 seconds for getting the followers' IDs of mutual 30: extrafabulous\n",
      "\n"
     ]
    },
    {
     "name": "stderr",
     "output_type": "stream",
     "text": [
      "Rate limit reached. Sleeping for: 845\n"
     ]
    },
    {
     "name": "stdout",
     "output_type": "stream",
     "text": [
      "172 followers for mutual 31: Meg_Murph26\n",
      "1501.64 seconds for getting the followers' IDs of mutual 31: Meg_Murph26\n",
      "\n",
      "152 followers for mutual 32: dramallama_x3\n",
      "0.74 seconds for getting the followers' IDs of mutual 32: dramallama_x3\n",
      "\n",
      "140 followers for mutual 33: akrapf96\n",
      "0.69 seconds for getting the followers' IDs of mutual 33: akrapf96\n",
      "\n",
      "27 followers for mutual 34: TannerCohan\n",
      "0.70 seconds for getting the followers' IDs of mutual 34: TannerCohan\n",
      "\n",
      "174 followers for mutual 36: FearlessFierlit\n",
      "0.71 seconds for getting the followers' IDs of mutual 36: FearlessFierlit\n",
      "\n",
      "16 followers for mutual 38: ARKB0T\n",
      "0.70 seconds for getting the followers' IDs of mutual 38: ARKB0T\n",
      "\n",
      "345 followers for mutual 39: KayleeSue\n",
      "0.69 seconds for getting the followers' IDs of mutual 39: KayleeSue\n",
      "\n",
      "90 followers for mutual 40: christinabeenas\n",
      "0.71 seconds for getting the followers' IDs of mutual 40: christinabeenas\n",
      "\n",
      "182 followers for mutual 41: Momose_13\n",
      "0.68 seconds for getting the followers' IDs of mutual 41: Momose_13\n",
      "\n",
      "63 followers for mutual 42: QuailSpotting\n",
      "0.71 seconds for getting the followers' IDs of mutual 42: QuailSpotting\n",
      "\n",
      "90 followers for mutual 43: generatedtext\n",
      "0.69 seconds for getting the followers' IDs of mutual 43: generatedtext\n",
      "\n",
      "19 followers for mutual 44: PetrovFireBuild\n",
      "0.80 seconds for getting the followers' IDs of mutual 44: PetrovFireBuild\n",
      "\n",
      "463 followers for mutual 45: laurensofar\n",
      "0.73 seconds for getting the followers' IDs of mutual 45: laurensofar\n",
      "\n",
      "1115 followers for mutual 46: paul_hembree\n",
      "0.71 seconds for getting the followers' IDs of mutual 46: paul_hembree\n",
      "\n",
      "59 followers for mutual 47: Garage_Grrl\n",
      "0.73 seconds for getting the followers' IDs of mutual 47: Garage_Grrl\n",
      "\n"
     ]
    },
    {
     "name": "stderr",
     "output_type": "stream",
     "text": [
      "Rate limit reached. Sleeping for: 813\n"
     ]
    },
    {
     "name": "stdout",
     "output_type": "stream",
     "text": [
      "25 followers for mutual 48: motherbored3017\n",
      "1472.43 seconds for getting the followers' IDs of mutual 48: motherbored3017\n",
      "\n",
      "289 followers for mutual 49: jaypatricksmith\n",
      "0.72 seconds for getting the followers' IDs of mutual 49: jaypatricksmith\n",
      "\n",
      "116 followers for mutual 50: Oblivion_Mag\n",
      "0.77 seconds for getting the followers' IDs of mutual 50: Oblivion_Mag\n",
      "\n",
      "347 followers for mutual 51: graysonjmorley\n",
      "0.72 seconds for getting the followers' IDs of mutual 51: graysonjmorley\n",
      "\n",
      "45 followers for mutual 52: jmzaccagnino\n",
      "1.34 seconds for getting the followers' IDs of mutual 52: jmzaccagnino\n",
      "\n",
      "29 followers for mutual 53: wdya0\n",
      "1.73 seconds for getting the followers' IDs of mutual 53: wdya0\n",
      "\n",
      "53 followers for mutual 54: KaiMalowany\n",
      "0.74 seconds for getting the followers' IDs of mutual 54: KaiMalowany\n",
      "\n",
      "20 followers for mutual 55: Terrible_Goose\n",
      "0.74 seconds for getting the followers' IDs of mutual 55: Terrible_Goose\n",
      "\n",
      "52 followers for mutual 56: level99andahalf\n",
      "1.40 seconds for getting the followers' IDs of mutual 56: level99andahalf\n",
      "\n",
      "159 followers for mutual 57: QKlauren\n",
      "0.73 seconds for getting the followers' IDs of mutual 57: QKlauren\n",
      "\n",
      "99 followers for mutual 58: minorsuspect\n",
      "0.82 seconds for getting the followers' IDs of mutual 58: minorsuspect\n",
      "\n",
      "18 followers for mutual 59: GayPatSmith\n",
      "1.76 seconds for getting the followers' IDs of mutual 59: GayPatSmith\n",
      "\n",
      "58 followers for mutual 60: steflamethrower\n",
      "0.81 seconds for getting the followers' IDs of mutual 60: steflamethrower\n",
      "\n",
      "14 followers for mutual 61: nora_cady\n",
      "0.77 seconds for getting the followers' IDs of mutual 61: nora_cady\n",
      "\n",
      "256 followers for mutual 62: sarahisharsh\n",
      "0.71 seconds for getting the followers' IDs of mutual 62: sarahisharsh\n",
      "\n"
     ]
    },
    {
     "name": "stderr",
     "output_type": "stream",
     "text": [
      "Rate limit reached. Sleeping for: 810\n"
     ]
    },
    {
     "name": "stdout",
     "output_type": "stream",
     "text": [
      "163 followers for mutual 63: duheiii\n",
      "1478.33 seconds for getting the followers' IDs of mutual 63: duheiii\n",
      "\n",
      "218 followers for mutual 64: forgotlogininfo\n",
      "0.75 seconds for getting the followers' IDs of mutual 64: forgotlogininfo\n",
      "\n",
      "406 followers for mutual 65: keithohara\n",
      "0.85 seconds for getting the followers' IDs of mutual 65: keithohara\n",
      "\n",
      "28 followers for mutual 66: PieterFildes\n",
      "0.76 seconds for getting the followers' IDs of mutual 66: PieterFildes\n",
      "\n",
      "6 followers for mutual 67: KenCooperBot\n",
      "0.76 seconds for getting the followers' IDs of mutual 67: KenCooperBot\n",
      "\n",
      "154 followers for mutual 68: Maxiscoffee\n",
      "0.81 seconds for getting the followers' IDs of mutual 68: Maxiscoffee\n",
      "\n",
      "17 followers for mutual 69: hydrothermal_\n",
      "0.98 seconds for getting the followers' IDs of mutual 69: hydrothermal_\n",
      "\n",
      "192 followers for mutual 70: ahung23\n",
      "0.71 seconds for getting the followers' IDs of mutual 70: ahung23\n",
      "\n",
      "2 followers for mutual 71: nedcoz\n",
      "0.75 seconds for getting the followers' IDs of mutual 71: nedcoz\n",
      "\n",
      "34 followers for mutual 72: Mattlarsony\n",
      "1.55 seconds for getting the followers' IDs of mutual 72: Mattlarsony\n",
      "\n",
      "13 followers for mutual 74: jossislost\n",
      "0.75 seconds for getting the followers' IDs of mutual 74: jossislost\n",
      "\n",
      "453 followers for mutual 75: akkobbi\n",
      "0.75 seconds for getting the followers' IDs of mutual 75: akkobbi\n",
      "\n",
      "56 followers for mutual 76: futchaIex\n",
      "0.73 seconds for getting the followers' IDs of mutual 76: futchaIex\n",
      "\n",
      "210 followers for mutual 77: AndalusianDoge\n",
      "0.76 seconds for getting the followers' IDs of mutual 77: AndalusianDoge\n",
      "\n",
      "41 followers for mutual 78: starblasters_\n",
      "0.76 seconds for getting the followers' IDs of mutual 78: starblasters_\n",
      "\n"
     ]
    },
    {
     "name": "stderr",
     "output_type": "stream",
     "text": [
      "Rate limit reached. Sleeping for: 812\n"
     ]
    },
    {
     "name": "stdout",
     "output_type": "stream",
     "text": [
      "387 followers for mutual 79: whoisleormiller\n",
      "1471.52 seconds for getting the followers' IDs of mutual 79: whoisleormiller\n",
      "\n",
      "157 followers for mutual 80: por_eleanor\n",
      "0.76 seconds for getting the followers' IDs of mutual 80: por_eleanor\n",
      "\n",
      "1 followers for mutual 81: anaturalnumber\n",
      "0.79 seconds for getting the followers' IDs of mutual 81: anaturalnumber\n",
      "\n",
      "75 followers for mutual 82: h0tsccrgirl1996\n",
      "0.73 seconds for getting the followers' IDs of mutual 82: h0tsccrgirl1996\n",
      "\n",
      "33 followers for mutual 83: UpToneOfficial\n",
      "0.81 seconds for getting the followers' IDs of mutual 83: UpToneOfficial\n",
      "\n",
      "71 followers for mutual 84: AdamMuhsin\n",
      "0.79 seconds for getting the followers' IDs of mutual 84: AdamMuhsin\n",
      "\n",
      "81 followers for mutual 85: metalgarurumonz\n",
      "0.81 seconds for getting the followers' IDs of mutual 85: metalgarurumonz\n",
      "\n",
      "98 followers for mutual 86: lisasimpsonstan\n",
      "0.74 seconds for getting the followers' IDs of mutual 86: lisasimpsonstan\n",
      "\n",
      "499 followers for mutual 87: cmands\n",
      "0.76 seconds for getting the followers' IDs of mutual 87: cmands\n",
      "\n",
      "18 followers for mutual 88: N04H5G\n",
      "0.73 seconds for getting the followers' IDs of mutual 88: N04H5G\n",
      "\n",
      "234 followers for mutual 89: strawBERRYsmooh\n",
      "0.76 seconds for getting the followers' IDs of mutual 89: strawBERRYsmooh\n",
      "\n",
      "268 followers for mutual 90: __tackle\n",
      "0.79 seconds for getting the followers' IDs of mutual 90: __tackle\n",
      "\n",
      "258 followers for mutual 91: two_shanezz\n",
      "0.69 seconds for getting the followers' IDs of mutual 91: two_shanezz\n",
      "\n",
      "15 followers for mutual 92: S1m0ntr0n\n",
      "0.75 seconds for getting the followers' IDs of mutual 92: S1m0ntr0n\n",
      "\n",
      "12 followers for mutual 93: 10_furlongs\n",
      "0.76 seconds for getting the followers' IDs of mutual 93: 10_furlongs\n",
      "\n"
     ]
    },
    {
     "name": "stderr",
     "output_type": "stream",
     "text": [
      "Rate limit reached. Sleeping for: 813\n"
     ]
    },
    {
     "name": "stdout",
     "output_type": "stream",
     "text": [
      "5 followers for mutual 94: jeffdaugherty15\n",
      "1486.74 seconds for getting the followers' IDs of mutual 94: jeffdaugherty15\n",
      "\n",
      "2 followers for mutual 95: RogerAlmonds\n",
      "0.77 seconds for getting the followers' IDs of mutual 95: RogerAlmonds\n",
      "\n",
      "252 followers for mutual 96: cassy_savs\n",
      "0.80 seconds for getting the followers' IDs of mutual 96: cassy_savs\n",
      "\n",
      "36 followers for mutual 97: TheCzarchitect\n",
      "0.73 seconds for getting the followers' IDs of mutual 97: TheCzarchitect\n",
      "\n",
      "163 followers for mutual 98: carsonscabinet\n",
      "0.74 seconds for getting the followers' IDs of mutual 98: carsonscabinet\n",
      "\n",
      "218 followers for mutual 99: zoeterhune\n",
      "0.76 seconds for getting the followers' IDs of mutual 99: zoeterhune\n",
      "\n",
      "435 followers for mutual 100: stfwlkr\n",
      "0.72 seconds for getting the followers' IDs of mutual 100: stfwlkr\n",
      "\n",
      "325 followers for mutual 101: scorpiodisaster\n",
      "0.81 seconds for getting the followers' IDs of mutual 101: scorpiodisaster\n",
      "\n",
      "15 followers for mutual 102: maggersmay\n",
      "0.75 seconds for getting the followers' IDs of mutual 102: maggersmay\n",
      "\n",
      "72 followers for mutual 103: twelveangrybens\n",
      "0.77 seconds for getting the followers' IDs of mutual 103: twelveangrybens\n",
      "\n",
      "262 followers for mutual 104: gothodile\n",
      "0.80 seconds for getting the followers' IDs of mutual 104: gothodile\n",
      "\n",
      "428 followers for mutual 105: rosettabones\n",
      "0.74 seconds for getting the followers' IDs of mutual 105: rosettabones\n",
      "\n",
      "601 followers for mutual 106: BardCollegeCDO\n",
      "0.77 seconds for getting the followers' IDs of mutual 106: BardCollegeCDO\n",
      "\n",
      "124 followers for mutual 107: ninanet23\n",
      "0.72 seconds for getting the followers' IDs of mutual 107: ninanet23\n",
      "\n",
      "474 followers for mutual 108: juliaeberry\n",
      "0.72 seconds for getting the followers' IDs of mutual 108: juliaeberry\n",
      "\n"
     ]
    },
    {
     "name": "stderr",
     "output_type": "stream",
     "text": [
      "Rate limit reached. Sleeping for: 812\n"
     ]
    },
    {
     "name": "stdout",
     "output_type": "stream",
     "text": [
      "1 followers for mutual 109: robyn53966273\n",
      "1539.18 seconds for getting the followers' IDs of mutual 109: robyn53966273\n",
      "\n",
      "CPU times: user 5.91 s, sys: 1.38 s, total: 7.29 s\n",
      "Wall time: 3h 3min 26s\n"
     ]
    }
   ],
   "source": [
    "%%time\n",
    "my_followers = [str(user_id) for ids_list in \n",
    "                tweepy.Cursor(api.followers_ids, \n",
    "                              screen_name=\"NoahSegalGould\").pages() \n",
    "                for user_id in ids_list]\n",
    "users_i_follow = [str(user_id) for ids_list in \n",
    "                  tweepy.Cursor(api.friends_ids, \n",
    "                                screen_name=\"NoahSegalGould\").pages() \n",
    "                  for user_id in ids_list]\n",
    "\n",
    "mutuals = list(set(my_followers) & set(users_i_follow))\n",
    "\n",
    "my_mutuals = mutuals[:]\n",
    "for i, mutual in enumerate(mutuals):\n",
    "    start_time = time()\n",
    "    user = api.get_user(user_id=mutual)\n",
    "    if not user.protected:\n",
    "        individual_mutuals_followers = []\n",
    "        c = tweepy.Cursor(api.followers_ids, user_id=mutual).items()\n",
    "        while True:\n",
    "            try:\n",
    "                individual_mutuals_follower = c.next()\n",
    "                individual_mutuals_followers.append(str(individual_mutuals_follower))\n",
    "            except tweepy.TweepError:\n",
    "                sleep(600) # 10 minutes\n",
    "                continue\n",
    "            except StopIteration:\n",
    "                break\n",
    "        total = len(individual_mutuals_followers)\n",
    "        name = user.screen_name\n",
    "        print(\"{} followers for mutual {}: {}\".format(total, i+1, name))\n",
    "        if total <= 2500:\n",
    "            my_mutuals.extend(individual_mutuals_followers)\n",
    "        else:\n",
    "            print(\"\\tMutual {0}: {1} has too many followers: {2}\".format(i+1, name, total))\n",
    "    else:\n",
    "        continue\n",
    "    end_time = time()\n",
    "    with open(\"../data/other_data/NoahSegalGould_Mutuals_and_Mutuals_Followers_ids.json\", \"w\") as outfile:\n",
    "        json.dump(my_mutuals, outfile)\n",
    "    print(\"{0:.2f} seconds for getting the followers' IDs of mutual {1}: {2}\\n\".format((end_time - start_time), \n",
    "                                                                                       i+1, user.screen_name))\n",
    "    sleep(5)\n",
    "my_mutuals = list(set(my_mutuals))"
   ]
  },
  {
   "cell_type": "code",
   "execution_count": 69,
   "metadata": {},
   "outputs": [
    {
     "name": "stdout",
     "output_type": "stream",
     "text": [
      "Total number of my mutuals: 109\n"
     ]
    }
   ],
   "source": [
    "print(\"Total number of my mutuals: {}\".format(len(mutuals)))"
   ]
  },
  {
   "cell_type": "code",
   "execution_count": 70,
   "metadata": {},
   "outputs": [
    {
     "name": "stdout",
     "output_type": "stream",
     "text": [
      "Total number of my mutuals' followers: 11682\n"
     ]
    }
   ],
   "source": [
    "print(\"Total number of my mutuals' followers: {}\".format(len(my_mutuals) - len(mutuals)))"
   ]
  },
  {
   "cell_type": "markdown",
   "metadata": {},
   "source": [
    "#### Instantiate the listener"
   ]
  },
  {
   "cell_type": "code",
   "execution_count": 71,
   "metadata": {},
   "outputs": [],
   "source": [
    "stream_listener = StreamListener()\n",
    "stream = tweepy.Stream(auth=api.auth, listener=stream_listener)"
   ]
  },
  {
   "cell_type": "markdown",
   "metadata": {},
   "source": [
    "#### Start the stream asynchronously, and stop it after some duration of seconds"
   ]
  },
  {
   "cell_type": "code",
   "execution_count": null,
   "metadata": {},
   "outputs": [],
   "source": [
    "%%time\n",
    "# bounding_box = [-73.920176, 42.009637,\n",
    "#                 -73.899739, 42.033421]http://localhost:8888/notebooks/development/classifier_creator.ipynb#\n",
    "# stream.filter(locations=bounding_box, async=True) # Bard College\n",
    "stream.filter(follow=my_mutuals, async=True)\n",
    "print(\"Columns:\")\n",
    "print(\"screen_name, sentiment_polarity, sentiment_subjectivity, subtweet_probability, time, text\")\n",
    "sleep(DURATION)\n",
    "stream.disconnect()"
   ]
  },
  {
   "cell_type": "markdown",
   "metadata": {},
   "source": [
    "#### Plot the results"
   ]
  },
  {
   "cell_type": "code",
   "execution_count": 73,
   "metadata": {},
   "outputs": [],
   "source": [
    "subtweets_df = pd.read_csv(\"../data/data_from_testing/live_downloaded_data/subtweets_live_data.csv\", index_col=0)"
   ]
  },
  {
   "cell_type": "code",
   "execution_count": 74,
   "metadata": {},
   "outputs": [],
   "source": [
    "subtweets_df[\"tweet\"] = subtweets_df[\"tweet\"].str[:140]"
   ]
  },
  {
   "cell_type": "code",
   "execution_count": 75,
   "metadata": {},
   "outputs": [],
   "source": [
    "subtweets_df_columns = [\"screen_name\", \"time\"]"
   ]
  },
  {
   "cell_type": "code",
   "execution_count": 76,
   "metadata": {},
   "outputs": [],
   "source": [
    "subtweets_df = subtweets_df.set_index(\"tweet\").drop(subtweets_df_columns, axis=1).head(10)"
   ]
  },
  {
   "cell_type": "code",
   "execution_count": 77,
   "metadata": {},
   "outputs": [
    {
     "data": {
      "image/png": "[encoded data removed]",
      "text/plain": [
       "<Figure size 432x288 with 1 Axes>"
      ]
     },
     "metadata": {},
     "output_type": "display_data"
    }
   ],
   "source": [
    "subtweets_df.plot.barh(logx=True);"
   ]
  }
 ],
 "metadata": {
  "kernelspec": {
   "display_name": "Python 3",
   "language": "python",
   "name": "python3"
  },
  "language_info": {
   "codemirror_mode": {
    "name": "ipython",
    "version": 3
   },
   "file_extension": ".py",
   "mimetype": "text/x-python",
   "name": "python",
   "nbconvert_exporter": "python",
   "pygments_lexer": "ipython3",
   "version": "3.6.4"
  }
 },
 "nbformat": 4,
 "nbformat_minor": 2
}
