{
 "cells": [
  {
   "cell_type": "code",
   "execution_count": null,
   "metadata": {},
   "outputs": [],
   "source": [
    "THRESHOLD = 0.95 # 95% positives and higher, only\n",
    "DURATION = 60 # 1 minute"
   ]
  },
  {
   "cell_type": "code",
   "execution_count": null,
   "metadata": {},
   "outputs": [],
   "source": [
    "consumer_key, consumer_secret, access_token, access_token_secret = open(\"../../credentials.txt\").read().split(\"\\n\")"
   ]
  },
  {
   "cell_type": "code",
   "execution_count": null,
   "metadata": {},
   "outputs": [],
   "source": [
    "auth = tweepy.OAuthHandler(consumer_key, consumer_secret)\n",
    "auth.set_access_token(access_token, access_token_secret)\n",
    "api = tweepy.API(auth, retry_delay=1, timeout=120, # 2 minutes\n",
    "                 compression=True, wait_on_rate_limit=True, wait_on_rate_limit_notify=True)"
   ]
  },
  {
   "cell_type": "code",
   "execution_count": null,
   "metadata": {},
   "outputs": [],
   "source": [
    "subtweets_live_list = []\n",
    "non_subtweets_live_list = []"
   ]
  },
  {
   "cell_type": "code",
   "execution_count": null,
   "metadata": {},
   "outputs": [],
   "source": [
    "class StreamListener(tweepy.StreamListener):\n",
    "    def on_status(self, status):\n",
    "        choices = [\"retweet\", \"like\", \"retweet and like\", \"reply\"]\n",
    "        \n",
    "        id_str = status.id_str\n",
    "        screen_name = status.user.screen_name\n",
    "        created_at = status.created_at\n",
    "        retweeted = status.retweeted\n",
    "        in_reply_to = status.in_reply_to_status_id\n",
    "        \n",
    "        text = status.text.replace(\"&quot;\", \"\\\"\").replace(\"&amp;\", \"&\").replace(\"&gt;\", \">\").replace(\"&lt;\", \"<\")\n",
    "        \n",
    "        # negative_probability = sentiment_pipeline.predict_proba([text]).tolist()[0][0]\n",
    "        positive_probability = sentiment_pipeline.predict_proba([text]).tolist()[0][1]\n",
    "        \n",
    "        row = {\"tweet\": text, \n",
    "               \"screen_name\": screen_name, \n",
    "               \"time\": created_at, \n",
    "               \"subtweet_probability\": positive_probability}\n",
    "        \n",
    "        print_list = pd.DataFrame([row]).values.tolist()[0]\n",
    "        \n",
    "        if all([positive_probability >= THRESHOLD, \n",
    "                not retweeted,\n",
    "                \"RT @\" not in text, \n",
    "                not in_reply_to]):\n",
    "            \n",
    "            decision = choice(choices)\n",
    "            if decision == \"retweet\":\n",
    "                api.update_status((\"Is this a subtweet? {:.3%} \\n\" + \n",
    "                                   \"https://twitter.com/{}/status/{}\").format(positive_probability, \n",
    "                                                                              screen_name, \n",
    "                                                                              id_str))\n",
    "            \n",
    "            if decision == \"like\":\n",
    "                api.create_favorite(id_str)\n",
    "            \n",
    "            if decision == \"retweet and like\":\n",
    "                api.update_status((\"Is this a subtweet? {:.3%} \\n\" + \n",
    "                                   \"https://twitter.com/{}/status/{}\").format(positive_probability, \n",
    "                                                                              screen_name, \n",
    "                                                                              id_str))\n",
    "                api.create_favorite(id_str)\n",
    "            \n",
    "            if decision == \"reply\":\n",
    "                api.update_status(\"@{} Is this a subtweet? {:.3%}\".format(screen_name, positive_probability), id_str)\n",
    "            \n",
    "            subtweets_live_list.append(row)\n",
    "            subtweets_df = pd.DataFrame(subtweets_live_list).sort_values(by=\"subtweet_probability\", \n",
    "                                                                         ascending=False)\n",
    "            \n",
    "            subtweets_df.to_csv(\"../data/data_from_testing/live_downloaded_data/subtweets_live_data.csv\")\n",
    "            \n",
    "            print((\"Subtweet from @{0} (Probability of {1:.3%}):\\n\" + \n",
    "                   \"Time: {2}\\n\" + \n",
    "                   \"Tweet: {3}\\n\" +\n",
    "                   \"Total tweets acquired: {4}\\n\").format(print_list[0], \n",
    "                                                          print_list[1], \n",
    "                                                          print_list[2],\n",
    "                                                          print_list[3],\n",
    "                                                          (len(subtweets_live_list) \n",
    "                                                           + len(non_subtweets_live_list))))\n",
    "            \n",
    "            return row\n",
    "        else:\n",
    "            non_subtweets_live_list.append(row)\n",
    "            non_subtweets_df = pd.DataFrame(non_subtweets_live_list).sort_values(by=\"subtweet_probability\", \n",
    "                                                                                 ascending=False)\n",
    "            non_subtweets_df.to_csv(\"../data/data_from_testing/live_downloaded_data/non_subtweets_live_data.csv\")\n",
    "            \n",
    "            return row"
   ]
  },
  {
   "cell_type": "code",
   "execution_count": null,
   "metadata": {},
   "outputs": [],
   "source": [
    "def get_mutuals():\n",
    "    my_followers = [str(user_id) for ids_list in \n",
    "                    tweepy.Cursor(api.followers_ids, \n",
    "                                  screen_name=\"NoahSegalGould\").pages() \n",
    "                    for user_id in ids_list]\n",
    "    my_followeds = [str(user_id) for ids_list in \n",
    "                   tweepy.Cursor(api.friends_ids, \n",
    "                                 screen_name=\"NoahSegalGould\").pages() \n",
    "                   for user_id in ids_list]\n",
    "    \n",
    "    my_mutuals = list(set(my_followers) & set(my_followeds))\n",
    "    \n",
    "    bots = [\"890031065057853440\", \"895685688582180864\", \n",
    "            \"894658603977777152\", \"970553455709446144\", \n",
    "            \"786489395519983617\", \"975981192817373184\"]\n",
    "    \n",
    "    my_mutuals = [m for m in my_mutuals if m not in bots]\n",
    "    \n",
    "    with open(\"../data/other_data/NoahSegalGould_Mutuals_ids.json\", \"w\") as outfile:\n",
    "        json.dump(my_mutuals, outfile)\n",
    "    \n",
    "    return my_mutuals"
   ]
  },
  {
   "cell_type": "code",
   "execution_count": null,
   "metadata": {},
   "outputs": [],
   "source": [
    "def get_mutuals_and_mutuals_mutuals_ids(mutuals_threshold=250):\n",
    "    my_mutuals = get_mutuals()\n",
    "    my_mutuals_mutuals = my_mutuals[:]\n",
    "\n",
    "    for i, mutual in enumerate(my_mutuals):\n",
    "        start_time = time()\n",
    "        user = api.get_user(user_id=mutual)\n",
    "        name = user.screen_name\n",
    "        is_protected = user.protected\n",
    "        if not is_protected:\n",
    "            mutuals_followers = []\n",
    "            followers_cursor = tweepy.Cursor(api.followers_ids, user_id=mutual).items()\n",
    "            while True:\n",
    "                try:\n",
    "                    mutuals_follower = followers_cursor.next()\n",
    "                    mutuals_followers.append(str(mutuals_follower))\n",
    "                except tweepy.TweepError:\n",
    "                    sleep(30) # 30 seconds\n",
    "                    continue\n",
    "                except StopIteration:\n",
    "                    break\n",
    "            mutuals_followeds = []\n",
    "            followeds_cursor = tweepy.Cursor(api.friends_ids, user_id=mutual).items()\n",
    "            while True:\n",
    "                try:\n",
    "                    mutuals_followed = followeds_cursor.next()\n",
    "                    mutuals_followeds.append(str(mutuals_followed))\n",
    "                except tweepy.TweepError:\n",
    "                    sleep(30) # 30 seconds\n",
    "                    continue\n",
    "                except StopIteration:\n",
    "                    break\n",
    "            mutuals_mutuals = list(set(mutuals_followers) & set(mutuals_followeds))\n",
    "            print(\"{} mutuals for mutual {}: {}\".format(len(mutuals_mutuals), i+1, name))\n",
    "            if len(mutuals_mutuals) <= mutuals_threshold: # Ignore my mutuals if they have a lot of mutuals\n",
    "                my_mutuals_mutuals.extend(mutuals_mutuals)\n",
    "            else:\n",
    "                print(\"\\tSkipping: {}\".format(name))\n",
    "        else:\n",
    "            continue\n",
    "        end_time = time()\n",
    "        with open(\"../data/other_data/NoahSegalGould_Mutuals_and_Mutuals_Mutuals_ids.json\", \"w\") as outfile:\n",
    "            json.dump(my_mutuals_mutuals, outfile)\n",
    "        print(\"{0:.2f} seconds for getting the mutuals' IDs of mutual {1}: {2}\\n\".format((end_time - start_time), \n",
    "                                                                                         i+1, name))\n",
    "    my_mutuals_mutuals = [str(mu) for mu in sorted([int(m) for m in list(set(my_mutuals_mutuals))])]\n",
    "    with open(\"../data/other_data/NoahSegalGould_Mutuals_and_Mutuals_Mutuals_ids.json\", \"w\") as outfile:\n",
    "        json.dump(my_mutuals_mutuals, outfile, indent=4)\n",
    "    return my_mutuals_mutuals"
   ]
  },
  {
   "cell_type": "code",
   "execution_count": null,
   "metadata": {},
   "outputs": [],
   "source": [
    "# %%time\n",
    "# my_mutuals_mutuals = get_mutuals_and_mutuals_mutuals_ids()"
   ]
  },
  {
   "cell_type": "code",
   "execution_count": null,
   "metadata": {},
   "outputs": [],
   "source": [
    "# %%time\n",
    "# my_mutuals = get_mutuals()"
   ]
  },
  {
   "cell_type": "code",
   "execution_count": null,
   "metadata": {},
   "outputs": [],
   "source": [
    "# my_mutuals_mutuals = json.load(open(\"../data/other_data/NoahSegalGould_Mutuals_and_Mutuals_Mutuals_ids.json\"))"
   ]
  },
  {
   "cell_type": "code",
   "execution_count": null,
   "metadata": {},
   "outputs": [],
   "source": [
    "# print(\"Total number of my mutuals: {}\".format(len(my_mutuals)))"
   ]
  },
  {
   "cell_type": "code",
   "execution_count": null,
   "metadata": {},
   "outputs": [],
   "source": [
    "# print(\"Total number of my mutuals and my mutuals' mutuals: {}\".format(len(my_mutuals_mutuals)))"
   ]
  },
  {
   "cell_type": "code",
   "execution_count": null,
   "metadata": {},
   "outputs": [],
   "source": [
    "# stream_listener = StreamListener()\n",
    "# stream = tweepy.Stream(auth=api.auth, listener=stream_listener)"
   ]
  },
  {
   "cell_type": "code",
   "execution_count": null,
   "metadata": {},
   "outputs": [],
   "source": [
    "# %%time\n",
    "# stream.filter(locations=[-73.920176, 42.009637, -73.899739, 42.033421], stall_warnings=True, languages=[\"en\"], async=True)\n",
    "# stream.filter(follow=my_mutuals_mutuals, stall_warnings=True, languages=[\"en\"], async=True)\n",
    "# print(\"Streaming has started.\")\n",
    "# sleep(DURATION)\n",
    "# stream.disconnect()"
   ]
  },
  {
   "cell_type": "code",
   "execution_count": null,
   "metadata": {},
   "outputs": [],
   "source": [
    "# subtweets_df = pd.read_csv(\"../data/data_from_testing/live_downloaded_data/subtweets_live_data.csv\", index_col=0)"
   ]
  },
  {
   "cell_type": "code",
   "execution_count": null,
   "metadata": {},
   "outputs": [],
   "source": [
    "# subtweets_df_columns = [\"screen_name\", \"time\", \"tweet\"]"
   ]
  },
  {
   "cell_type": "code",
   "execution_count": null,
   "metadata": {},
   "outputs": [],
   "source": [
    "# subtweets_df_for_plotting = subtweets_df.drop(subtweets_df_columns, axis=1).head(10)"
   ]
  },
  {
   "cell_type": "code",
   "execution_count": null,
   "metadata": {},
   "outputs": [],
   "source": [
    "# subtweets_df.head(10)"
   ]
  },
  {
   "cell_type": "code",
   "execution_count": null,
   "metadata": {},
   "outputs": [],
   "source": [
    "# ax = subtweets_df_for_plotting.plot.barh(logx=True, figsize=(16, 9), color=\"maroon\", fontsize=13);\n",
    "# ax.set_alpha(0.8)\n",
    "# ax.set_title(\"Live Downloaded Subtweets Test\", fontsize=18)\n",
    "# ax.set_ylabel(\"Row Index\", fontsize=18);\n",
    "# ax.set_xlabel(\"Subtweet Percentage Probability (logarithmic)\", fontsize=18);\n",
    "# for i in ax.patches:\n",
    "#     ax.text(i.get_width(), i.get_y() + 0.325, \"{:.3%}\".format(i.get_width()), fontsize=10, color=\"black\")\n",
    "# ax.invert_yaxis()"
   ]
  }
 ],
 "metadata": {
  "kernelspec": {
   "display_name": "Python 3",
   "language": "python",
   "name": "python3"
  },
  "language_info": {
   "codemirror_mode": {
    "name": "ipython",
    "version": 3
   },
   "file_extension": ".py",
   "mimetype": "text/x-python",
   "name": "python",
   "nbconvert_exporter": "python",
   "pygments_lexer": "ipython3",
   "version": "3.6.4"
  }
 },
 "nbformat": 4,
 "nbformat_minor": 2
}
