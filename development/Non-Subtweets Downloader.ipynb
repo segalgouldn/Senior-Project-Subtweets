{
 "cells": [
  {
   "cell_type": "markdown",
   "metadata": {},
   "source": [
    "#### Script for downloading a ground truth non-subtweets dataset"
   ]
  },
  {
   "cell_type": "markdown",
   "metadata": {},
   "source": [
    "#### Import libraries for accessing the API and managing JSON data"
   ]
  },
  {
   "cell_type": "code",
   "execution_count": null,
   "metadata": {},
   "outputs": [],
   "source": [
    "import tweepy\n",
    "import json"
   ]
  },
  {
   "cell_type": "markdown",
   "metadata": {},
   "source": [
    "#### Load the API credentials"
   ]
  },
  {
   "cell_type": "code",
   "execution_count": null,
   "metadata": {},
   "outputs": [],
   "source": [
    "consumer_key, consumer_secret, access_token, access_token_secret = (open(\"../../credentials.txt\")\n",
    "                                                                    .read().split(\"\\n\"))"
   ]
  },
  {
   "cell_type": "markdown",
   "metadata": {},
   "source": [
    "#### Authenticate the connection to the API using the credentials"
   ]
  },
  {
   "cell_type": "code",
   "execution_count": null,
   "metadata": {},
   "outputs": [],
   "source": [
    "auth = tweepy.OAuthHandler(consumer_key, consumer_secret)\n",
    "auth.set_access_token(access_token, access_token_secret)"
   ]
  },
  {
   "cell_type": "markdown",
   "metadata": {},
   "source": [
    "#### Connect to the API"
   ]
  },
  {
   "cell_type": "code",
   "execution_count": null,
   "metadata": {},
   "outputs": [],
   "source": [
    "api = tweepy.API(auth, wait_on_rate_limit=True, wait_on_rate_limit_notify=True, compression=True)"
   ]
  },
  {
   "cell_type": "markdown",
   "metadata": {},
   "source": [
    "#### Define a function for recursively accessing parent tweets"
   ]
  },
  {
   "cell_type": "code",
   "execution_count": null,
   "metadata": {},
   "outputs": [],
   "source": [
    "def first_tweet(tweet_status_object):\n",
    "    try:\n",
    "        return first_tweet(api.get_status(tweet_status_object.in_reply_to_status_id_str, \n",
    "                                          tweet_mode=\"extended\"))\n",
    "    except tweepy.TweepError:\n",
    "        return tweet_status_object"
   ]
  },
  {
   "cell_type": "markdown",
   "metadata": {},
   "source": [
    "#### Define a function for finding tweets with replies that specifically do not call them subtweets"
   ]
  },
  {
   "cell_type": "code",
   "execution_count": null,
   "metadata": {},
   "outputs": [],
   "source": [
    "def get_non_subtweets(max_tweets=10000000, \n",
    "                      query=(\"-subtweet AND @ since:2018-03-01 exclude:retweets filter:replies\")):\n",
    "    non_subtweets_ids_list = []\n",
    "    non_subtweets_list = []\n",
    "    i = 0\n",
    "    for potential_non_subtweet_reply in tweepy.Cursor(api.search, lang=\"en\", \n",
    "                                                      tweet_mode=\"extended\", q=query).items(max_tweets):\n",
    "        i += 1\n",
    "        potential_non_subtweet_original = first_tweet(potential_non_subtweet_reply)\n",
    "        if (not potential_non_subtweet_original.in_reply_to_status_id_str \n",
    "            and potential_non_subtweet_original.user.lang == \"en\"):\n",
    "            if (potential_non_subtweet_original.id_str in non_subtweets_ids_list \n",
    "                or \"subtweet\" in potential_non_subtweet_original.full_text \n",
    "                or \"Subtweet\" in potential_non_subtweet_original.full_text \n",
    "                or \"SUBTWEET\" in potential_non_subtweet_original.full_text):\n",
    "                continue\n",
    "            else:\n",
    "                non_subtweets_ids_list.append(potential_non_subtweet_original.id_str)\n",
    "                non_subtweets_list.append({\"tweet_data\": potential_non_subtweet_original._json, \n",
    "                                           \"reply\": potential_non_subtweet_reply._json})\n",
    "                with open(\"../data/other_data/non_subtweets.json\", \"w\") as outfile:\n",
    "                    json.dump(non_subtweets_list, outfile, indent=4)\n",
    "                print((\"Tweet #{0} was a reply to a non-subtweet: {1}\\n\"\n",
    "                       .format(i, potential_non_subtweet_original.full_text.replace(\"\\n\", \" \"))))\n",
    "    return non_subtweets_list"
   ]
  },
  {
   "cell_type": "markdown",
   "metadata": {},
   "source": [
    "#### Show the results"
   ]
  },
  {
   "cell_type": "code",
   "execution_count": null,
   "metadata": {},
   "outputs": [],
   "source": [
    "non_subtweets_list = get_non_subtweets()\n",
    "print(len(non_subtweets_list))"
   ]
  }
 ],
 "metadata": {
  "kernelspec": {
   "display_name": "Python 3",
   "language": "python",
   "name": "python3"
  },
  "language_info": {
   "codemirror_mode": {
    "name": "ipython",
    "version": 3
   },
   "file_extension": ".py",
   "mimetype": "text/x-python",
   "name": "python",
   "nbconvert_exporter": "python",
   "pygments_lexer": "ipython3",
   "version": "3.6.4"
  }
 },
 "nbformat": 4,
 "nbformat_minor": 2
}
