{
 "cells": [
  {
   "cell_type": "markdown",
   "metadata": {},
   "source": [
    "## Using Scikit-Learn and NLTK to build a Naive Bayes Classifier that identifies subtweets"
   ]
  },
  {
   "cell_type": "markdown",
   "metadata": {},
   "source": [
    "### Goals:\n",
    "#### Use Scikit-Learn pipelines to define special features to add to a Naive Bayes Classifier\n",
    "#### Evaluate the accuracy of the classifier\n",
    "#### Maybe do it live, on a Twitter API stream"
   ]
  },
  {
   "cell_type": "markdown",
   "metadata": {},
   "source": [
    "### Methods:\n",
    "#### Use the training set I made before"
   ]
  },
  {
   "cell_type": "markdown",
   "metadata": {},
   "source": [
    "#### Import libraries"
   ]
  },
  {
   "cell_type": "code",
   "execution_count": 1,
   "metadata": {},
   "outputs": [],
   "source": [
    "%matplotlib inline"
   ]
  },
  {
   "cell_type": "code",
   "execution_count": 2,
   "metadata": {},
   "outputs": [],
   "source": [
    "from sklearn.base import TransformerMixin, BaseEstimator\n",
    "from sklearn.feature_extraction import DictVectorizer\n",
    "from sklearn.feature_extraction.text import CountVectorizer, TfidfTransformer\n",
    "from sklearn.naive_bayes import MultinomialNB\n",
    "from sklearn.pipeline import Pipeline, FeatureUnion\n",
    "from sklearn.model_selection import train_test_split\n",
    "from sklearn.metrics import classification_report, confusion_matrix\n",
    "import matplotlib.pyplot as plt\n",
    "import pandas as pd\n",
    "import numpy as np\n",
    "import itertools\n",
    "import nltk\n",
    "import re"
   ]
  },
  {
   "cell_type": "markdown",
   "metadata": {},
   "source": [
    "#### Load the CSV"
   ]
  },
  {
   "cell_type": "code",
   "execution_count": 3,
   "metadata": {},
   "outputs": [],
   "source": [
    "df = pd.read_csv(\"../data/training_data/Subtweets_Classifier_Training_Data.csv\")"
   ]
  },
  {
   "cell_type": "markdown",
   "metadata": {},
   "source": [
    "#### Create training and test sets from the single training set I made before"
   ]
  },
  {
   "cell_type": "code",
   "execution_count": 4,
   "metadata": {},
   "outputs": [],
   "source": [
    "text_train, text_test, class_train, class_test = train_test_split(df.alleged_subtweet.tolist(), \n",
    "                                                                  df.is_subtweet.tolist())"
   ]
  },
  {
   "cell_type": "markdown",
   "metadata": {},
   "source": [
    "#### Use NLTK's tokenizer instead of Scikit's"
   ]
  },
  {
   "cell_type": "code",
   "execution_count": 5,
   "metadata": {},
   "outputs": [],
   "source": [
    "tokenizer = nltk.casual.TweetTokenizer(preserve_case=False, reduce_len=True)"
   ]
  },
  {
   "cell_type": "markdown",
   "metadata": {},
   "source": [
    "#### Class for distinguishing polarizing parts of speech as features"
   ]
  },
  {
   "cell_type": "code",
   "execution_count": 6,
   "metadata": {
    "code_folding": []
   },
   "outputs": [],
   "source": [
    "class TweetStats(BaseEstimator, TransformerMixin):\n",
    "    def fit(self, x, y=None):\n",
    "        return self\n",
    "\n",
    "    def transform(self, posts):\n",
    "        first_names = [\"Aaliyah\", \"Aaron\", \"Abby\", \"Abigail\", \"Abraham\", \"Adam\",\n",
    "                       \"Addison\", \"Adrian\", \"Adriana\", \"Adrianna\", \"Aidan\", \"Aiden\",\n",
    "                       \"Alan\", \"Alana\", \"Alejandro\", \"Alex\", \"Alexa\", \"Alexander\",\n",
    "                       \"Alexandra\", \"Alexandria\", \"Alexia\", \"Alexis\", \"Alicia\", \"Allison\",\n",
    "                       \"Alondra\", \"Alyssa\", \"Amanda\", \"Amber\", \"Amelia\", \"Amy\",\n",
    "                       \"Ana\", \"Andrea\", \"Andres\", \"Andrew\", \"Angel\", \"Angela\",\n",
    "                       \"Angelica\", \"Angelina\", \"Anna\", \"Anthony\", \"Antonio\", \"Ariana\",\n",
    "                       \"Arianna\", \"Ashley\", \"Ashlyn\", \"Ashton\", \"Aubrey\", \"Audrey\",\n",
    "                       \"Austin\", \"Autumn\", \"Ava\", \"Avery\", \"Ayden\", \"Bailey\",\n",
    "                       \"Benjamin\", \"Bianca\", \"Blake\", \"Braden\", \"Bradley\", \"Brady\",\n",
    "                       \"Brandon\", \"Brayden\", \"Breanna\", \"Brendan\", \"Brian\", \"Briana\",\n",
    "                       \"Brianna\", \"Brittany\", \"Brody\", \"Brooke\", \"Brooklyn\", \"Bryan\",\n",
    "                       \"Bryce\", \"Bryson\", \"Caden\", \"Caitlin\", \"Caitlyn\", \"Caleb\",\n",
    "                       \"Cameron\", \"Camila\", \"Carlos\", \"Caroline\", \"Carson\", \"Carter\",\n",
    "                       \"Cassandra\", \"Cassidy\", \"Catherine\", \"Cesar\", \"Charles\", \"Charlotte\",\n",
    "                       \"Chase\", \"Chelsea\", \"Cheyenne\", \"Chloe\", \"Christian\", \"Christina\",\n",
    "                       \"Christopher\", \"Claire\", \"Cody\", \"Colby\", \"Cole\", \"Colin\",\n",
    "                       \"Collin\", \"Colton\", \"Conner\", \"Connor\", \"Cooper\", \"Courtney\",\n",
    "                       \"Cristian\", \"Crystal\", \"Daisy\", \"Dakota\", \"Dalton\", \"Damian\",\n",
    "                       \"Daniel\", \"Daniela\", \"Danielle\", \"David\", \"Delaney\", \"Derek\",\n",
    "                       \"Destiny\", \"Devin\", \"Devon\", \"Diana\", \"Diego\", \"Dominic\",\n",
    "                       \"Donovan\", \"Dylan\", \"Edgar\", \"Eduardo\", \"Edward\", \"Edwin\",\n",
    "                       \"Eli\", \"Elias\", \"Elijah\", \"Elizabeth\", \"Ella\", \"Ellie\", \n",
    "                       \"Emily\", \"Emma\", \"Emmanuel\", \"Eric\", \"Erica\", \"Erick\",\n",
    "                       \"Erik\", \"Erin\", \"Ethan\", \"Eva\", \"Evan\", \"Evelyn\",\n",
    "                       \"Faith\", \"Fernando\", \"Francisco\", \"Gabriel\", \"Gabriela\", \"Gabriella\",\n",
    "                       \"Gabrielle\", \"Gage\", \"Garrett\", \"Gavin\", \"Genesis\", \"George\",\n",
    "                       \"Gianna\", \"Giovanni\", \"Giselle\", \"Grace\", \"Gracie\", \"Grant\",\n",
    "                       \"Gregory\", \"Hailey\", \"Haley\", \"Hannah\", \"Hayden\", \"Hector\",\n",
    "                       \"Henry\", \"Hope\", \"Hunter\", \"Ian\", \"Isaac\", \"Isabel\",\n",
    "                       \"Isabella\", \"Isabelle\", \"Isaiah\", \"Ivan\", \"Jack\", \"Jackson\",\n",
    "                       \"Jacob\", \"Jacqueline\", \"Jada\", \"Jade\", \"Jaden\", \"Jake\",\n",
    "                       \"Jalen\", \"James\", \"Jared\", \"Jasmin\", \"Jasmine\", \"Jason\", \n",
    "                       \"Javier\", \"Jayden\", \"Jayla\", \"Jazmin\", \"Jeffrey\", \"Jenna\",\n",
    "                       \"Jennifer\", \"Jeremiah\", \"Jeremy\", \"Jesse\", \"Jessica\", \"Jesus\",\n",
    "                       \"Jillian\", \"Jocelyn\", \"Joel\", \"John\", \"Johnathan\", \"Jonah\",\n",
    "                       \"Jonathan\", \"Jordan\", \"Jordyn\", \"Jorge\", \"Jose\", \"Joseph\",\n",
    "                       \"Joshua\", \"Josiah\", \"Juan\", \"Julia\", \"Julian\", \"Juliana\",\n",
    "                       \"Justin\", \"Kaden\", \"Kaitlyn\", \"Kaleb\", \"Karen\", \"Karina\",\n",
    "                       \"Kate\", \"Katelyn\", \"Katherine\", \"Kathryn\", \"Katie\", \"Kayla\",\n",
    "                       \"Kaylee\", \"Kelly\", \"Kelsey\", \"Kendall\", \"Kennedy\", \"Kenneth\",\n",
    "                       \"Kevin\", \"Kiara\", \"Kimberly\", \"Kyle\", \"Kylee\", \"Kylie\",\n",
    "                       \"Landon\", \"Laura\", \"Lauren\", \"Layla\", \"Leah\", \"Leonardo\",\n",
    "                       \"Leslie\", \"Levi\", \"Liam\", \"Liliana\", \"Lillian\", \"Lilly\",\n",
    "                       \"Lily\", \"Lindsey\", \"Logan\", \"Lucas\", \"Lucy\", \"Luis\",\n",
    "                       \"Luke\", \"Lydia\", \"Mackenzie\", \"Madeline\", \"Madelyn\", \"Madison\",\n",
    "                       \"Makayla\", \"Makenzie\", \"Malachi\", \"Manuel\", \"Marco\", \"Marcus\",\n",
    "                       \"Margaret\", \"Maria\", \"Mariah\", \"Mario\", \"Marissa\", \"Mark\",\n",
    "                       \"Martin\", \"Mary\", \"Mason\", \"Matthew\", \"Max\", \"Maxwell\",\n",
    "                       \"Maya\", \"Mckenzie\", \"Megan\", \"Melanie\", \"Melissa\", \"Mia\",\n",
    "                       \"Micah\", \"Michael\", \"Michelle\", \"Miguel\", \"Mikayla\", \"Miranda\",\n",
    "                       \"Molly\", \"Morgan\", \"Mya\", \"Naomi\", \"Natalia\", \"Natalie\",\n",
    "                       \"Nathan\", \"Nathaniel\", \"Nevaeh\", \"Nicholas\", \"Nicolas\", \"Nicole\",\n",
    "                       \"Noah\", \"Nolan\", \"Oliver\", \"Olivia\", \"Omar\", \"Oscar\",\n",
    "                       \"Owen\", \"Paige\", \"Parker\", \"Patrick\", \"Paul\", \"Payton\",\n",
    "                       \"Peter\", \"Peyton\", \"Preston\", \"Rachel\", \"Raymond\", \"Reagan\",\n",
    "                       \"Rebecca\", \"Ricardo\", \"Richard\", \"Riley\", \"Robert\", \"Ruby\",\n",
    "                       \"Ryan\", \"Rylee\", \"Sabrina\", \"Sadie\", \"Samantha\", \"Samuel\",\n",
    "                       \"Sara\", \"Sarah\", \"Savannah\", \"Sean\", \"Sebastian\", \"Serenity\",\n",
    "                       \"Sergio\", \"Seth\", \"Shane\", \"Shawn\", \"Shelby\", \"Sierra\",\n",
    "                       \"Skylar\", \"Sofia\", \"Sophia\", \"Sophie\", \"Spencer\", \"Stephanie\",\n",
    "                       \"Stephen\", \"Steven\", \"Summer\", \"Sydney\", \"Tanner\", \"Taylor\", \n",
    "                       \"Thomas\", \"Tiffany\", \"Timothy\", \"Travis\", \"Trenton\", \"Trevor\",\n",
    "                       \"Trinity\", \"Tristan\", \"Tyler\", \"Valeria\", \"Valerie\", \"Vanessa\",\n",
    "                       \"Veronica\", \"Victor\", \"Victoria\", \"Vincent\", \"Wesley\", \"William\",\n",
    "                       \"Wyatt\", \"Xavier\", \"Zachary\", \"Zoe\", \"Zoey\"]\n",
    "        first_names_lower = set([name.lower() for name in first_names])\n",
    "\n",
    "        personal_pronouns = [\"I\", \"Me\", \"We\", \"Us\", \"You\", \"She\", \"Her\", \"He\", \"Him\", \"They\", \"Them\"]\n",
    "        personal_prounouns_lower = [pronoun.lower() for pronoun in personal_pronouns]\n",
    "\n",
    "        possessive_pronouns = [\"My\", \"Your\", \"Our\", \"Their\", \"His\", \"Her\", \"Hers\", \"Yours\", \"Ours\", \"Theirs\"]\n",
    "        possessive_pronouns_lower = [possessive_pronoun.lower() for possessive_pronoun in possessive_pronouns]\n",
    "\n",
    "        important_parts_of_speech = set(personal_prounouns_lower + possessive_pronouns_lower)\n",
    "        pattern = \"(?:http|ftp|https)://(?:[\\w_-]+(?:(?:\\.[\\w_-]+)+))(?:[\\w.,@?^=%&:/~+#-]*[\\w@?^=%&/~+#-])?\"\n",
    "                \n",
    "        final_output = []\n",
    "        for text in posts:\n",
    "            tokenized_text = tokenizer.tokenize(text)\n",
    "            weighted_dict = {\"length\": len(text), \n",
    "                             \"good\": len(important_parts_of_speech.intersection(tokenizer.tokenize(text))), \n",
    "                             \"bad\": (len(first_names_lower.intersection(tokenizer.tokenize(text))) \n",
    "                                     + text.count(\"@\") \n",
    "                                     + text.count(\"subtweet\") \n",
    "                                     + text.count(\"Subtweet\") \n",
    "                                     + len(re.findall(pattern, text)))}\n",
    "            final_output.append(weighted_dict)\n",
    "        return final_output"
   ]
  },
  {
   "cell_type": "markdown",
   "metadata": {},
   "source": [
    "#### Build the pipeline"
   ]
  },
  {
   "cell_type": "code",
   "execution_count": 7,
   "metadata": {},
   "outputs": [],
   "source": [
    "sentiment_pipeline = Pipeline([\n",
    "    (\"features\", FeatureUnion([\n",
    "        (\"ngram_tf_idf\", Pipeline([\n",
    "            (\"counts\", CountVectorizer(tokenizer=tokenizer.tokenize)),\n",
    "            (\"tf_idf\", TfidfTransformer())\n",
    "        ])),\n",
    "        (\"stats_vect\", Pipeline([\n",
    "            (\"tweet_stats\", TweetStats()),\n",
    "            (\"vect\", DictVectorizer()),\n",
    "        ])),\n",
    "    ])),\n",
    "    (\"classifier\", MultinomialNB())\n",
    "])"
   ]
  },
  {
   "cell_type": "markdown",
   "metadata": {},
   "source": [
    "#### Show the results"
   ]
  },
  {
   "cell_type": "code",
   "execution_count": 8,
   "metadata": {},
   "outputs": [],
   "source": [
    "sentiment_pipeline.fit(text_train, class_train)\n",
    "predictions = sentiment_pipeline.predict(text_test)"
   ]
  },
  {
   "cell_type": "code",
   "execution_count": 9,
   "metadata": {},
   "outputs": [
    {
     "name": "stdout",
     "output_type": "stream",
     "text": [
      "             precision    recall  f1-score   support\n",
      "\n",
      "   negative       0.94      0.85      0.89      1838\n",
      "   positive       0.86      0.94      0.90      1789\n",
      "\n",
      "avg / total       0.90      0.90      0.90      3627\n",
      "\n"
     ]
    }
   ],
   "source": [
    "print(classification_report(class_test, predictions))"
   ]
  },
  {
   "cell_type": "markdown",
   "metadata": {},
   "source": [
    "#### Define function for visualizing confusion matrices"
   ]
  },
  {
   "cell_type": "code",
   "execution_count": 10,
   "metadata": {},
   "outputs": [],
   "source": [
    "def plot_confusion_matrix(cm, classes, normalize=False,\n",
    "                          title='Confusion matrix', cmap=plt.cm.Blues):\n",
    "    if normalize:\n",
    "        cm = cm.astype('float') / cm.sum(axis=1)[:, np.newaxis]\n",
    "\n",
    "    plt.imshow(cm, interpolation='nearest', cmap=cmap)\n",
    "    plt.title(title)\n",
    "    plt.colorbar()\n",
    "    tick_marks = np.arange(len(classes))\n",
    "    plt.xticks(tick_marks, classes, rotation=45)\n",
    "    plt.yticks(tick_marks, classes)\n",
    "\n",
    "    fmt = '.2f' if normalize else 'd'\n",
    "    thresh = cm.max() / 2.\n",
    "    for i, j in itertools.product(range(cm.shape[0]), range(cm.shape[1])):\n",
    "        plt.text(j, i, format(cm[i, j], fmt),\n",
    "                 horizontalalignment=\"center\",\n",
    "                 color=\"white\" if cm[i, j] > thresh else \"black\")\n",
    "\n",
    "    plt.tight_layout()\n",
    "    plt.ylabel('True label')\n",
    "    plt.xlabel('Predicted label')"
   ]
  },
  {
   "cell_type": "markdown",
   "metadata": {},
   "source": [
    "#### Show the matrices"
   ]
  },
  {
   "cell_type": "code",
   "execution_count": 11,
   "metadata": {},
   "outputs": [
    {
     "data": {
      "image/png": "[encoded data removed]",
      "text/plain": [
       "<Figure size 432x288 with 2 Axes>"
      ]
     },
     "metadata": {},
     "output_type": "display_data"
    },
    {
     "data": {
      "image/png": "[encoded data removed]",
      "text/plain": [
       "<Figure size 432x288 with 2 Axes>"
      ]
     },
     "metadata": {},
     "output_type": "display_data"
    }
   ],
   "source": [
    "class_names = [\"negative\", \"positive\"]\n",
    "\n",
    "cnf_matrix = confusion_matrix(class_test, predictions)\n",
    "np.set_printoptions(precision=2)\n",
    "\n",
    "plt.figure()\n",
    "plot_confusion_matrix(cnf_matrix, classes=class_names,\n",
    "                      title='Confusion matrix, without normalization')\n",
    "\n",
    "plt.figure()\n",
    "plot_confusion_matrix(cnf_matrix, classes=class_names, normalize=True,\n",
    "                      title='Normalized confusion matrix')\n",
    "\n",
    "plt.show()"
   ]
  },
  {
   "cell_type": "markdown",
   "metadata": {},
   "source": [
    "#### Print tests for the classifier"
   ]
  },
  {
   "cell_type": "code",
   "execution_count": 12,
   "metadata": {},
   "outputs": [],
   "source": [
    "def print_tests(tweets_dataframe, \n",
    "                text_column=\"SentimentText\", sentiment_column=\"Sentiment\", \n",
    "                threshold=0.95):\n",
    "    tweets = tweets_dataframe[text_column].tolist()\n",
    "    sentiments = tweets_dataframe[sentiment_column].tolist()\n",
    "    print(\"Probabilities:\\n\")\n",
    "    for i in range(len(tweets)):\n",
    "        tweet = tweets[i]\n",
    "        prediction = sentiment_pipeline.predict([tweets[i]]).tolist()[0]\n",
    "        sentiment = sentiments[i]\n",
    "        negative_probability = sentiment_pipeline.predict_proba([tweets[i]]).tolist()[0][0]\n",
    "        positive_probability = sentiment_pipeline.predict_proba([tweets[i]]).tolist()[0][1]\n",
    "        if positive_probability >= threshold:\n",
    "            print((\"\\\"{}\\\" was classified as {}:\" \n",
    "                   + \"\\nSentiment Score: {}\" \n",
    "                   + \"\\nNot a subtweet: {:.1%}\" \n",
    "                   + \"\\nSubtweet: {:.1%}\").format(tweet, prediction, sentiment,\n",
    "                                                  negative_probability, \n",
    "                                                  positive_probability))\n",
    "            print()"
   ]
  },
  {
   "cell_type": "markdown",
   "metadata": {},
   "source": [
    "#### Make up some tweets"
   ]
  },
  {
   "cell_type": "code",
   "execution_count": 13,
   "metadata": {},
   "outputs": [],
   "source": [
    "test_tweets = [\"Some people don't know their place.\", \n",
    "               \"Isn't it funny how some people don't know their place?\", \n",
    "               \"How come you people act like this?\", \n",
    "               \"You're such a nerd.\",\n",
    "               \"I love Noah, he's so cool.\",\n",
    "               \"Who the heck is Noah?\",\n",
    "               \"This is a @NoahSegalGould subtweet. Go check out https://segal-gould.com.\", \n",
    "               \"This is a subtweet.\", \n",
    "               \"Hey @jack!\", \n",
    "               \"Hey Jack!\",\n",
    "               \"http://www.google.com\"]"
   ]
  },
  {
   "cell_type": "markdown",
   "metadata": {},
   "source": [
    "#### Make a dataframe from the list"
   ]
  },
  {
   "cell_type": "code",
   "execution_count": 14,
   "metadata": {},
   "outputs": [],
   "source": [
    "test_tweets_df = pd.DataFrame({\"Tweet\": test_tweets, \"Sentiment\": [None]*len(test_tweets)})"
   ]
  },
  {
   "cell_type": "markdown",
   "metadata": {},
   "source": [
    "#### Print the tests"
   ]
  },
  {
   "cell_type": "code",
   "execution_count": 15,
   "metadata": {},
   "outputs": [
    {
     "name": "stdout",
     "output_type": "stream",
     "text": [
      "Probabilities:\n",
      "\n",
      "\"Some people don't know their place.\" was classified as positive:\n",
      "Sentiment Score: None\n",
      "Not a subtweet: 12.2%\n",
      "Subtweet: 87.8%\n",
      "\n",
      "\"Isn't it funny how some people don't know their place?\" was classified as positive:\n",
      "Sentiment Score: None\n",
      "Not a subtweet: 10.7%\n",
      "Subtweet: 89.3%\n",
      "\n",
      "\"How come you people act like this?\" was classified as positive:\n",
      "Sentiment Score: None\n",
      "Not a subtweet: 6.9%\n",
      "Subtweet: 93.1%\n",
      "\n"
     ]
    }
   ],
   "source": [
    "print_tests(test_tweets_df, text_column=\"Tweet\", sentiment_column=\"Sentiment\", threshold=0.5)"
   ]
  },
  {
   "cell_type": "markdown",
   "metadata": {},
   "source": [
    "#### Test on actual tweets"
   ]
  },
  {
   "cell_type": "code",
   "execution_count": 16,
   "metadata": {},
   "outputs": [
    {
     "name": "stderr",
     "output_type": "stream",
     "text": [
      "b'Skipping line 8836: expected 4 fields, saw 5\\n'\n",
      "b'Skipping line 535882: expected 4 fields, saw 7\\n'\n"
     ]
    }
   ],
   "source": [
    "naji_df = pd.read_csv(\"../data/non_subtweets_data/naji_data.csv\", error_bad_lines=False)"
   ]
  },
  {
   "cell_type": "markdown",
   "metadata": {},
   "source": [
    "#### Repair some leftover HTML"
   ]
  },
  {
   "cell_type": "code",
   "execution_count": 17,
   "metadata": {},
   "outputs": [],
   "source": [
    "naji_df[\"SentimentText\"] = naji_df[\"SentimentText\"].str.replace(\"&quot;\", \"\\\"\")\n",
    "naji_df[\"SentimentText\"] = naji_df[\"SentimentText\"].str.replace(\"&amp;\", \"&\")\n",
    "naji_df[\"SentimentText\"] = naji_df[\"SentimentText\"].str.replace(\"&gt;\", \">\")\n",
    "naji_df[\"SentimentText\"] = naji_df[\"SentimentText\"].str.replace(\"&lt;\", \"<\")"
   ]
  },
  {
   "cell_type": "markdown",
   "metadata": {},
   "source": [
    "#### Use randomly selected 50K rows from dataset"
   ]
  },
  {
   "cell_type": "code",
   "execution_count": 18,
   "metadata": {},
   "outputs": [],
   "source": [
    "naji_df = naji_df.sample(n=50000).reset_index(drop=True)"
   ]
  },
  {
   "cell_type": "markdown",
   "metadata": {},
   "source": [
    "### Print the tests"
   ]
  },
  {
   "cell_type": "code",
   "execution_count": 19,
   "metadata": {
    "scrolled": false
   },
   "outputs": [
    {
     "name": "stdout",
     "output_type": "stream",
     "text": [
      "Probabilities:\n",
      "\n",
      "\"Must get it off my chest right quick: you need to quit playin them dumb ass games. Who the fuck do you think you are?: OK, moving along.. \" was classified as positive:\n",
      "Sentiment Score: 1\n",
      "Not a subtweet: 3.3%\n",
      "Subtweet: 96.7%\n",
      "\n",
      "\"urgh my mother is the most fucking retarted person ever to live she should go die that would make me the happiest person alive \" was classified as positive:\n",
      "Sentiment Score: 1\n",
      "Not a subtweet: 2.5%\n",
      "Subtweet: 97.5%\n",
      "\n",
      "\"I never met a person who makes me want to better myself like he does  Toodles Twitville\" was classified as positive:\n",
      "Sentiment Score: 1\n",
      "Not a subtweet: 3.0%\n",
      "Subtweet: 97.0%\n",
      "\n",
      "\"doesn't wanna love someone who is in love with someone else \" was classified as positive:\n",
      "Sentiment Score: 0\n",
      "Not a subtweet: 5.0%\n",
      "Subtweet: 95.0%\n",
      "\n",
      "\"i dont like being sad. especially over dumbass guys  i'd rather make others sad, specifically children and shitty drivers.\" was classified as positive:\n",
      "Sentiment Score: 0\n",
      "Not a subtweet: 3.6%\n",
      "Subtweet: 96.4%\n",
      "\n",
      "\"I wonder if anyone is following someone that they really liked, but the more they follow the person, the less they like them. \" was classified as positive:\n",
      "Sentiment Score: 0\n",
      "Not a subtweet: 2.3%\n",
      "Subtweet: 97.7%\n",
      "\n",
      "\"It's hard when your best friend has split up with her boyfriend of 5 years and she resents you talking about yours \" was classified as positive:\n",
      "Sentiment Score: 0\n",
      "Not a subtweet: 4.8%\n",
      "Subtweet: 95.2%\n",
      "\n",
      "\"my fingers hurt.... among other things....  being alone is bad for my sanity lately :s\" was classified as positive:\n",
      "Sentiment Score: 0\n",
      "Not a subtweet: 3.4%\n",
      "Subtweet: 96.6%\n",
      "\n",
      "\"F.Y.I. a lot of you people that are following me i have unfollowed a lot of you  yer kinda boring me or not really helpful to my e-growth!\" was classified as positive:\n",
      "Sentiment Score: 1\n",
      "Not a subtweet: 4.6%\n",
      "Subtweet: 95.4%\n",
      "\n",
      "\"my parents have been talking to me for the past 5 minutes. I just realized I don't know what the hell they are talking about. \" was classified as positive:\n",
      "Sentiment Score: 0\n",
      "Not a subtweet: 4.0%\n",
      "Subtweet: 96.0%\n",
      "\n",
      "\"has a weird mix of take that&moulin rouge in my head  if u stay with me girl u can tell anybody this is your song  we can rule the world\" was classified as positive:\n",
      "Sentiment Score: 1\n",
      "Not a subtweet: 4.8%\n",
      "Subtweet: 95.2%\n",
      "\n",
      "\"I hate when my friends are hurting and there's nothing that I can do for them \" was classified as positive:\n",
      "Sentiment Score: 0\n",
      "Not a subtweet: 3.2%\n",
      "Subtweet: 96.8%\n",
      "\n",
      "\"things that looked so good being ruined. hate hate hate hate hate that more than anything \" was classified as positive:\n",
      "Sentiment Score: 0\n",
      "Not a subtweet: 4.8%\n",
      "Subtweet: 95.2%\n",
      "\n",
      "\"What the fuck is wrong with me lately  i take everything so seriously =/ i dont understand it\" was classified as positive:\n",
      "Sentiment Score: 0\n",
      "Not a subtweet: 4.5%\n",
      "Subtweet: 95.5%\n",
      "\n",
      "\"Worst feeling:  when someone you love is having a tough time and you can't do anything about it. \" was classified as positive:\n",
      "Sentiment Score: 0\n",
      "Not a subtweet: 4.5%\n",
      "Subtweet: 95.5%\n",
      "\n",
      "\"is very sad. I don't know why I bother. I always end up hurting SOMEONE. Dosen't matter how hard I try to please someone, always. \" was classified as positive:\n",
      "Sentiment Score: 0\n",
      "Not a subtweet: 3.8%\n",
      "Subtweet: 96.2%\n",
      "\n",
      "\"I feel even worse.  I don't feel like I can say anything I want to on here because people will read it and get upset. So I just.. idk.\" was classified as positive:\n",
      "Sentiment Score: 0\n",
      "Not a subtweet: 2.9%\n",
      "Subtweet: 97.1%\n",
      "\n",
      "\"ppl at the consulate think that they can run the world and they have all the work to do and ppl and their work is of no value \" was classified as positive:\n",
      "Sentiment Score: 0\n",
      "Not a subtweet: 4.8%\n",
      "Subtweet: 95.2%\n",
      "\n",
      "\"i'm youtubing how to make mixed drinks because I suck. don't ever come into my bar and ask me for a mixed drink cause I can't do it yet \" was classified as positive:\n",
      "Sentiment Score: 0\n",
      "Not a subtweet: 3.6%\n",
      "Subtweet: 96.4%\n",
      "\n",
      "\"Just been emailed by someone I've unfollowed asking why. That is *weird*. If I unfollow you, please don't do that  It's just a time thing!\" was classified as positive:\n",
      "Sentiment Score: 1\n",
      "Not a subtweet: 3.0%\n",
      "Subtweet: 97.0%\n",
      "\n",
      "\"i dont get it  if youre using me like i feel you may be, im gonna rip your cute lil fucking face off.\" was classified as positive:\n",
      "Sentiment Score: 0\n",
      "Not a subtweet: 3.2%\n",
      "Subtweet: 96.8%\n",
      "\n",
      "\"I just want to have a friend. Someone who knows me and my feelings. Someone who knows that I want to have a baby...someone who just love \" was classified as positive:\n",
      "Sentiment Score: 0\n",
      "Not a subtweet: 1.2%\n",
      "Subtweet: 98.8%\n",
      "\n",
      "\"This is it. I am off the Internet. I just said LOL instead of actually laughing out loud to my friends joke in person \" was classified as positive:\n",
      "Sentiment Score: 0\n",
      "Not a subtweet: 4.2%\n",
      "Subtweet: 95.8%\n",
      "\n",
      "\"Trying to figure out why my kids don't listen to me and why my 2 year old is saying the word \"shit\" and \"meany\" \" was classified as positive:\n",
      "Sentiment Score: 0\n",
      "Not a subtweet: 4.0%\n",
      "Subtweet: 96.0%\n",
      "\n",
      "\"why dont ppl ever have there phones on when u need to call them....whats the point in having a phone if ur not going to use it \" was classified as positive:\n",
      "Sentiment Score: 0\n",
      "Not a subtweet: 5.0%\n",
      "Subtweet: 95.0%\n",
      "\n",
      "\"I dont know why this guy doesnt like me...i never did anything to him \" was classified as positive:\n",
      "Sentiment Score: 0\n",
      "Not a subtweet: 5.0%\n",
      "Subtweet: 95.0%\n",
      "\n",
      "\"So odd sometimes my pals. four men quarreled on some trifle... and this hurts me very much. but i don't understand why... \" was classified as positive:\n",
      "Sentiment Score: 0\n",
      "Not a subtweet: 4.9%\n",
      "Subtweet: 95.1%\n",
      "\n",
      "\"i stubbed my toe on desire. they told me i was wrong all along. that's why they act queer. it must be just a demon putting me in gear. \" was classified as positive:\n",
      "Sentiment Score: 0\n",
      "Not a subtweet: 3.2%\n",
      "Subtweet: 96.8%\n",
      "\n",
      "\"they surrounded Shiraz university, and took the students with them. who knows if they are alive.  #iranelection #iranians #iran9\" was classified as positive:\n",
      "Sentiment Score: 0\n",
      "Not a subtweet: 4.7%\n",
      "Subtweet: 95.3%\n",
      "\n",
      "\"don't you just hate it when you're talking to someone on MSN and they don't respond for ages and you think you've made them upset \" was classified as positive:\n",
      "Sentiment Score: 0\n",
      "Not a subtweet: 2.9%\n",
      "Subtweet: 97.1%\n",
      "\n",
      "\"Not hatebut I clash with them because I am a powerful woman. So I guess I get the opposite thing. And you're totally right about mystery. \" was classified as positive:\n",
      "Sentiment Score: 0\n",
      "Not a subtweet: 4.8%\n",
      "Subtweet: 95.2%\n",
      "\n",
      "\"You remind me of someone I used to know. So its like im losing the same person twice \" was classified as positive:\n",
      "Sentiment Score: 0\n",
      "Not a subtweet: 4.7%\n",
      "Subtweet: 95.3%\n",
      "\n",
      "\"Tanja has been gone less than a week and I already miss her like hell.  Sometimes I wonder if she is my one and only friend.\" was classified as positive:\n",
      "Sentiment Score: 0\n",
      "Not a subtweet: 4.9%\n",
      "Subtweet: 95.1%\n",
      "\n",
      "\"wonders why other people can't clean out their classrooms when leaving.  I try to leave no trace when I move on.  Not fair.  \" was classified as positive:\n",
      "Sentiment Score: 0\n",
      "Not a subtweet: 4.7%\n",
      "Subtweet: 95.3%\n",
      "\n",
      "\"i wish he would just tell me because i know the truth \" was classified as positive:\n",
      "Sentiment Score: 0\n",
      "Not a subtweet: 4.7%\n",
      "Subtweet: 95.3%\n",
      "\n",
      "\"Just saw a man outside #walmart wearing boots on his hands and yelling at people as they walked in. He went away before I could snap pic \" was classified as positive:\n",
      "Sentiment Score: 0\n",
      "Not a subtweet: 4.3%\n",
      "Subtweet: 95.7%\n",
      "\n",
      "\"People really need to stop tweeting about hershey tonight, it depresses me bc i cant go \" was classified as positive:\n",
      "Sentiment Score: 0\n",
      "Not a subtweet: 4.9%\n",
      "Subtweet: 95.1%\n",
      "\n",
      "\"Ya'll don understand I wanna make some drastic changes switch shit up shave my head an move back in with my mommy an be a baby \" was classified as positive:\n",
      "Sentiment Score: 0\n",
      "Not a subtweet: 3.2%\n",
      "Subtweet: 96.8%\n",
      "\n",
      "\"some one keeps getting texts o they so much more popular than me wagh  hate revision hate hate hate\" was classified as positive:\n",
      "Sentiment Score: 0\n",
      "Not a subtweet: 4.9%\n",
      "Subtweet: 95.1%\n",
      "\n",
      "\"everyone needs to get done with finals so they can hang out with me again. stupid people that are going somewhere with their lives, GOD. \" was classified as positive:\n",
      "Sentiment Score: 1\n",
      "Not a subtweet: 3.6%\n",
      "Subtweet: 96.4%\n",
      "\n",
      "\"I can't believe ppl write a jumble of words that are trend topics and ask ppl to follow them! Why should you care! Get real friends ppls \" was classified as positive:\n",
      "Sentiment Score: 0\n",
      "Not a subtweet: 3.9%\n",
      "Subtweet: 96.1%\n",
      "\n"
     ]
    },
    {
     "name": "stdout",
     "output_type": "stream",
     "text": [
      "\"cause if you do, people around you would just think your drunk and call the police or something \" was classified as positive:\n",
      "Sentiment Score: 1\n",
      "Not a subtweet: 4.4%\n",
      "Subtweet: 95.6%\n",
      "\n",
      "\"its sad when i dont want to call you bc i dont want to know when she is there  *s&b*\" was classified as positive:\n",
      "Sentiment Score: 0\n",
      "Not a subtweet: 4.1%\n",
      "Subtweet: 95.9%\n",
      "\n",
      "\"I don`t understand why the FBI & CIA never respond to my employment applications...it saddens me greatly... \" was classified as positive:\n",
      "Sentiment Score: 0\n",
      "Not a subtweet: 4.2%\n",
      "Subtweet: 95.8%\n",
      "\n",
      "\"okay seriously twitter, I've told you who I want blocked, so block them!  I don't even know them, they're companies and spokes people! ick\" was classified as positive:\n",
      "Sentiment Score: 0\n",
      "Not a subtweet: 4.3%\n",
      "Subtweet: 95.7%\n",
      "\n",
      "\"my phone is all sorts of stuffed up.  i cant read your texts so stop texting me. it only makes me sad when it vibrates and i cant read it \" was classified as positive:\n",
      "Sentiment Score: 0\n",
      "Not a subtweet: 2.6%\n",
      "Subtweet: 97.4%\n",
      "\n",
      "\"omg  Nigel Lythgoe just said to same sex dancers they might like dancing with girls. wtf is up with that troll i used to like him \" was classified as positive:\n",
      "Sentiment Score: 0\n",
      "Not a subtweet: 4.3%\n",
      "Subtweet: 95.7%\n",
      "\n",
      "\"Sometimes when people try to make things easier, they are really only making things more difficult.  Poop. \" was classified as positive:\n",
      "Sentiment Score: 0\n",
      "Not a subtweet: 4.3%\n",
      "Subtweet: 95.7%\n",
      "\n",
      "\"just unfollowed *nearly* everyone with the words \"social media marketing consultant\" in their bio. hmm, what a svelt timeline \" was classified as positive:\n",
      "Sentiment Score: 1\n",
      "Not a subtweet: 3.4%\n",
      "Subtweet: 96.6%\n",
      "\n",
      "\"how can i make 45 000$ in 2-3 years without prostitution, drug dealing and other shit like that? \" was classified as positive:\n",
      "Sentiment Score: 0\n",
      "Not a subtweet: 4.7%\n",
      "Subtweet: 95.3%\n",
      "\n",
      "\"why dont ppl use webex for training? would make life a hell of alot easier rather than having to guess which slide their talking abt! \" was classified as positive:\n",
      "Sentiment Score: 0\n",
      "Not a subtweet: 4.8%\n",
      "Subtweet: 95.2%\n",
      "\n",
      "\"i think people should stop lying to get what they want. i want them to tell the truth and stop making me feel horrid about it. \" was classified as positive:\n",
      "Sentiment Score: 0\n",
      "Not a subtweet: 0.9%\n",
      "Subtweet: 99.1%\n",
      "\n",
      "\"Does not like being inlove with someone who doesn't love me back \" was classified as positive:\n",
      "Sentiment Score: 0\n",
      "Not a subtweet: 3.9%\n",
      "Subtweet: 96.1%\n",
      "\n",
      "\"ignore the bad thing things people say to u. Remember there are more people who loves you than wants destroy u \" was classified as positive:\n",
      "Sentiment Score: 1\n",
      "Not a subtweet: 4.4%\n",
      "Subtweet: 95.6%\n",
      "\n",
      "\"Why do people still use #MSN Messenger? It's such a pile of crap! It annoys me that I have to keep my account because they won't change \" was classified as positive:\n",
      "Sentiment Score: 0\n",
      "Not a subtweet: 3.9%\n",
      "Subtweet: 96.1%\n",
      "\n",
      "\"I removed auto follow - too many dating and porn ppl. Took forever to find and unfollow them.    Pls give me some time to follow U back.\" was classified as positive:\n",
      "Sentiment Score: 0\n",
      "Not a subtweet: 4.0%\n",
      "Subtweet: 96.0%\n",
      "\n",
      "\"What do you do when your two best friends just lost their grandmother and now both of them are losing it? What can I do to help? \" was classified as positive:\n",
      "Sentiment Score: 0\n",
      "Not a subtweet: 2.9%\n",
      "Subtweet: 97.1%\n",
      "\n",
      "\"I can't think of anything to tweet about and this is making me really sad   Damn you twitter for ruining my life!\" was classified as positive:\n",
      "Sentiment Score: 0\n",
      "Not a subtweet: 4.0%\n",
      "Subtweet: 96.0%\n",
      "\n",
      "\"Xero: pls pls pls let me remember my login, I know you like security, but I trust my computer here. Let us decide how secure our stuff is \" was classified as positive:\n",
      "Sentiment Score: 0\n",
      "Not a subtweet: 3.7%\n",
      "Subtweet: 96.3%\n",
      "\n",
      "\"No Ford Ka for the Haze  Apparently they rust bad, which is the reason that my current car is dying. I just want a small cute damm car!\" was classified as positive:\n",
      "Sentiment Score: 0\n",
      "Not a subtweet: 5.0%\n",
      "Subtweet: 95.0%\n",
      "\n",
      "\"if you like someone, you normally do everything to talk to them... and being ignored is all i get! \" was classified as positive:\n",
      "Sentiment Score: 0\n",
      "Not a subtweet: 3.4%\n",
      "Subtweet: 96.6%\n",
      "\n",
      "\"Why are some guys so stupid? They have no idea what to do with a good girl who actually cares about them..so sad \" was classified as positive:\n",
      "Sentiment Score: 0\n",
      "Not a subtweet: 3.9%\n",
      "Subtweet: 96.1%\n",
      "\n",
      "\"you know what I fuckin love. julz will NOT find NO BITCH greater then me! on some real shit. every othr female out there is WEAK as fuck \" was classified as positive:\n",
      "Sentiment Score: 1\n",
      "Not a subtweet: 1.5%\n",
      "Subtweet: 98.5%\n",
      "\n"
     ]
    }
   ],
   "source": [
    "print_tests(naji_df, threshold=0.95)"
   ]
  }
 ],
 "metadata": {
  "kernelspec": {
   "display_name": "Python 3",
   "language": "python",
   "name": "python3"
  },
  "language_info": {
   "codemirror_mode": {
    "name": "ipython",
    "version": 3
   },
   "file_extension": ".py",
   "mimetype": "text/x-python",
   "name": "python",
   "nbconvert_exporter": "python",
   "pygments_lexer": "ipython3",
   "version": "3.6.4"
  }
 },
 "nbformat": 4,
 "nbformat_minor": 2
}
