{
 "cells": [
  {
   "cell_type": "markdown",
   "metadata": {},
   "source": [
    "## Using Scikit-Learn and NLTK to build a Naive Bayes Classifier that identifies subtweets"
   ]
  },
  {
   "cell_type": "markdown",
   "metadata": {},
   "source": [
    "### Goals:\n",
    "#### Use Scikit-Learn pipelines to define special features to add to a Naive Bayes Classifier\n",
    "#### Evaluate the accuracy of the classifier\n",
    "#### Maybe do it live, on a Twitter API stream"
   ]
  },
  {
   "cell_type": "markdown",
   "metadata": {},
   "source": [
    "### Methods:\n",
    "#### Use the training set I made before"
   ]
  },
  {
   "cell_type": "markdown",
   "metadata": {},
   "source": [
    "#### Import libraries"
   ]
  },
  {
   "cell_type": "code",
   "execution_count": 1,
   "metadata": {},
   "outputs": [],
   "source": [
    "%matplotlib inline"
   ]
  },
  {
   "cell_type": "code",
   "execution_count": 2,
   "metadata": {},
   "outputs": [],
   "source": [
    "from sklearn.base import TransformerMixin, BaseEstimator\n",
    "from sklearn.feature_extraction import DictVectorizer\n",
    "from sklearn.feature_extraction.text import CountVectorizer, TfidfTransformer\n",
    "from sklearn.naive_bayes import MultinomialNB\n",
    "from sklearn.pipeline import Pipeline, FeatureUnion\n",
    "from sklearn.model_selection import train_test_split\n",
    "from sklearn.metrics import classification_report, confusion_matrix\n",
    "from sklearn.externals import joblib\n",
    "from textblob import TextBlob\n",
    "from time import sleep\n",
    "import matplotlib.pyplot as plt\n",
    "import pandas as pd\n",
    "import numpy as np\n",
    "import itertools\n",
    "import tweepy\n",
    "import nltk\n",
    "import re"
   ]
  },
  {
   "cell_type": "markdown",
   "metadata": {},
   "source": [
    "#### Load the CSV"
   ]
  },
  {
   "cell_type": "code",
   "execution_count": 3,
   "metadata": {},
   "outputs": [],
   "source": [
    "df = pd.read_csv(\"../data/training_data/Subtweets_Classifier_Training_Data.csv\")"
   ]
  },
  {
   "cell_type": "markdown",
   "metadata": {},
   "source": [
    "#### Create training and test sets from the single training set I made before"
   ]
  },
  {
   "cell_type": "code",
   "execution_count": 4,
   "metadata": {},
   "outputs": [],
   "source": [
    "text_train, text_test, class_train, class_test = train_test_split(df.alleged_subtweet.tolist(), \n",
    "                                                                  df.is_subtweet.tolist())"
   ]
  },
  {
   "cell_type": "markdown",
   "metadata": {},
   "source": [
    "#### Use NLTK's tokenizer instead of Scikit's"
   ]
  },
  {
   "cell_type": "code",
   "execution_count": 5,
   "metadata": {},
   "outputs": [],
   "source": [
    "tokenizer = nltk.casual.TweetTokenizer(preserve_case=False, reduce_len=True)"
   ]
  },
  {
   "cell_type": "markdown",
   "metadata": {},
   "source": [
    "#### Class for distinguishing polarizing parts of speech as features"
   ]
  },
  {
   "cell_type": "code",
   "execution_count": 6,
   "metadata": {
    "code_folding": []
   },
   "outputs": [],
   "source": [
    "class TweetStats(BaseEstimator, TransformerMixin):\n",
    "    def fit(self, x, y=None):\n",
    "        return self\n",
    "\n",
    "    def transform(self, posts):\n",
    "        first_names = [\"Aaliyah\", \"Aaron\", \"Abby\", \"Abigail\", \"Abraham\", \"Adam\",\n",
    "                       \"Addison\", \"Adrian\", \"Adriana\", \"Adrianna\", \"Aidan\", \"Aiden\",\n",
    "                       \"Alan\", \"Alana\", \"Alejandro\", \"Alex\", \"Alexa\", \"Alexander\",\n",
    "                       \"Alexandra\", \"Alexandria\", \"Alexia\", \"Alexis\", \"Alicia\", \"Allison\",\n",
    "                       \"Alondra\", \"Alyssa\", \"Amanda\", \"Amber\", \"Amelia\", \"Amy\",\n",
    "                       \"Ana\", \"Andrea\", \"Andres\", \"Andrew\", \"Angel\", \"Angela\",\n",
    "                       \"Angelica\", \"Angelina\", \"Anna\", \"Anthony\", \"Antonio\", \"Ariana\",\n",
    "                       \"Arianna\", \"Ashley\", \"Ashlyn\", \"Ashton\", \"Aubrey\", \"Audrey\",\n",
    "                       \"Austin\", \"Autumn\", \"Ava\", \"Avery\", \"Ayden\", \"Bailey\",\n",
    "                       \"Benjamin\", \"Bianca\", \"Blake\", \"Braden\", \"Bradley\", \"Brady\",\n",
    "                       \"Brandon\", \"Brayden\", \"Breanna\", \"Brendan\", \"Brian\", \"Briana\",\n",
    "                       \"Brianna\", \"Brittany\", \"Brody\", \"Brooke\", \"Brooklyn\", \"Bryan\",\n",
    "                       \"Bryce\", \"Bryson\", \"Caden\", \"Caitlin\", \"Caitlyn\", \"Caleb\",\n",
    "                       \"Cameron\", \"Camila\", \"Carlos\", \"Caroline\", \"Carson\", \"Carter\",\n",
    "                       \"Cassandra\", \"Cassidy\", \"Catherine\", \"Cesar\", \"Charles\", \"Charlotte\",\n",
    "                       \"Chase\", \"Chelsea\", \"Cheyenne\", \"Chloe\", \"Christian\", \"Christina\",\n",
    "                       \"Christopher\", \"Claire\", \"Cody\", \"Colby\", \"Cole\", \"Colin\",\n",
    "                       \"Collin\", \"Colton\", \"Conner\", \"Connor\", \"Cooper\", \"Courtney\",\n",
    "                       \"Cristian\", \"Crystal\", \"Daisy\", \"Dakota\", \"Dalton\", \"Damian\",\n",
    "                       \"Daniel\", \"Daniela\", \"Danielle\", \"David\", \"Delaney\", \"Derek\",\n",
    "                       \"Destiny\", \"Devin\", \"Devon\", \"Diana\", \"Diego\", \"Dominic\",\n",
    "                       \"Donovan\", \"Dylan\", \"Edgar\", \"Eduardo\", \"Edward\", \"Edwin\",\n",
    "                       \"Eli\", \"Elias\", \"Elijah\", \"Elizabeth\", \"Ella\", \"Ellie\", \n",
    "                       \"Emily\", \"Emma\", \"Emmanuel\", \"Eric\", \"Erica\", \"Erick\",\n",
    "                       \"Erik\", \"Erin\", \"Ethan\", \"Eva\", \"Evan\", \"Evelyn\",\n",
    "                       \"Faith\", \"Fernando\", \"Francisco\", \"Gabriel\", \"Gabriela\", \"Gabriella\",\n",
    "                       \"Gabrielle\", \"Gage\", \"Garrett\", \"Gavin\", \"Genesis\", \"George\",\n",
    "                       \"Gianna\", \"Giovanni\", \"Giselle\", \"Grace\", \"Gracie\", \"Grant\",\n",
    "                       \"Gregory\", \"Hailey\", \"Haley\", \"Hannah\", \"Hayden\", \"Hector\",\n",
    "                       \"Henry\", \"Hope\", \"Hunter\", \"Ian\", \"Isaac\", \"Isabel\",\n",
    "                       \"Isabella\", \"Isabelle\", \"Isaiah\", \"Ivan\", \"Jack\", \"Jackson\",\n",
    "                       \"Jacob\", \"Jacqueline\", \"Jada\", \"Jade\", \"Jaden\", \"Jake\",\n",
    "                       \"Jalen\", \"James\", \"Jared\", \"Jasmin\", \"Jasmine\", \"Jason\", \n",
    "                       \"Javier\", \"Jayden\", \"Jayla\", \"Jazmin\", \"Jeffrey\", \"Jenna\",\n",
    "                       \"Jennifer\", \"Jeremiah\", \"Jeremy\", \"Jesse\", \"Jessica\", \"Jesus\",\n",
    "                       \"Jillian\", \"Jocelyn\", \"Joel\", \"John\", \"Johnathan\", \"Jonah\",\n",
    "                       \"Jonathan\", \"Jordan\", \"Jordyn\", \"Jorge\", \"Jose\", \"Joseph\",\n",
    "                       \"Joshua\", \"Josiah\", \"Juan\", \"Julia\", \"Julian\", \"Juliana\",\n",
    "                       \"Justin\", \"Kaden\", \"Kaitlyn\", \"Kaleb\", \"Karen\", \"Karina\",\n",
    "                       \"Kate\", \"Katelyn\", \"Katherine\", \"Kathryn\", \"Katie\", \"Kayla\",\n",
    "                       \"Kaylee\", \"Kelly\", \"Kelsey\", \"Kendall\", \"Kennedy\", \"Kenneth\",\n",
    "                       \"Kevin\", \"Kiara\", \"Kimberly\", \"Kyle\", \"Kylee\", \"Kylie\",\n",
    "                       \"Landon\", \"Laura\", \"Lauren\", \"Layla\", \"Leah\", \"Leonardo\",\n",
    "                       \"Leslie\", \"Levi\", \"Liam\", \"Liliana\", \"Lillian\", \"Lilly\",\n",
    "                       \"Lily\", \"Lindsey\", \"Logan\", \"Lucas\", \"Lucy\", \"Luis\",\n",
    "                       \"Luke\", \"Lydia\", \"Mackenzie\", \"Madeline\", \"Madelyn\", \"Madison\",\n",
    "                       \"Makayla\", \"Makenzie\", \"Malachi\", \"Manuel\", \"Marco\", \"Marcus\",\n",
    "                       \"Margaret\", \"Maria\", \"Mariah\", \"Mario\", \"Marissa\", \"Mark\",\n",
    "                       \"Martin\", \"Mary\", \"Mason\", \"Matthew\", \"Max\", \"Maxwell\",\n",
    "                       \"Maya\", \"Mckenzie\", \"Megan\", \"Melanie\", \"Melissa\", \"Mia\",\n",
    "                       \"Micah\", \"Michael\", \"Michelle\", \"Miguel\", \"Mikayla\", \"Miranda\",\n",
    "                       \"Molly\", \"Morgan\", \"Mya\", \"Naomi\", \"Natalia\", \"Natalie\",\n",
    "                       \"Nathan\", \"Nathaniel\", \"Nevaeh\", \"Nicholas\", \"Nicolas\", \"Nicole\",\n",
    "                       \"Noah\", \"Nolan\", \"Oliver\", \"Olivia\", \"Omar\", \"Oscar\",\n",
    "                       \"Owen\", \"Paige\", \"Parker\", \"Patrick\", \"Paul\", \"Payton\",\n",
    "                       \"Peter\", \"Peyton\", \"Preston\", \"Rachel\", \"Raymond\", \"Reagan\",\n",
    "                       \"Rebecca\", \"Ricardo\", \"Richard\", \"Riley\", \"Robert\", \"Ruby\",\n",
    "                       \"Ryan\", \"Rylee\", \"Sabrina\", \"Sadie\", \"Samantha\", \"Samuel\",\n",
    "                       \"Sara\", \"Sarah\", \"Savannah\", \"Sean\", \"Sebastian\", \"Serenity\",\n",
    "                       \"Sergio\", \"Seth\", \"Shane\", \"Shawn\", \"Shelby\", \"Sierra\",\n",
    "                       \"Skylar\", \"Sofia\", \"Sophia\", \"Sophie\", \"Spencer\", \"Stephanie\",\n",
    "                       \"Stephen\", \"Steven\", \"Summer\", \"Sydney\", \"Tanner\", \"Taylor\", \n",
    "                       \"Thomas\", \"Tiffany\", \"Timothy\", \"Travis\", \"Trenton\", \"Trevor\",\n",
    "                       \"Trinity\", \"Tristan\", \"Tyler\", \"Valeria\", \"Valerie\", \"Vanessa\",\n",
    "                       \"Veronica\", \"Victor\", \"Victoria\", \"Vincent\", \"Wesley\", \"William\",\n",
    "                       \"Wyatt\", \"Xavier\", \"Zachary\", \"Zoe\", \"Zoey\"]\n",
    "        first_names_lower = set([name.lower() for name in first_names])\n",
    "\n",
    "        pronouns = [\"You\", \"You're\", \"Your\", \n",
    "                    \"She\", \"She's\", \"Her\", \"Hers\", \n",
    "                    \"He\", \"He's\", \"Him\", \"His\", \n",
    "                    \"They\", \"They're\", \"Them\", \"Their\", \"Theirs\"]\n",
    "        prounouns_lower = set([pronoun.lower() for pronoun in pronouns])\n",
    "\n",
    "        pattern = \"(?:http|ftp|https)://(?:[\\w_-]+(?:(?:\\.[\\w_-]+)+))(?:[\\w.,@?^=%&:/~+#-]*[\\w@?^=%&/~+#-])?\"\n",
    "        \n",
    "        final_output = []\n",
    "        for text in posts:\n",
    "            tokenized_text = tokenizer.tokenize(text)\n",
    "            weighted_dict = {\"length\": len(text), \n",
    "                             \"good\": len(prounouns_lower.intersection(tokenized_text)), \n",
    "                             \"bad\": (len(first_names_lower.intersection(tokenized_text)) \n",
    "                                     + text.count(\"@\") \n",
    "                                     + text.count(\"subtweet\") \n",
    "                                     + text.count(\"Subtweet\") \n",
    "                                     + len(re.findall(pattern, text)))}\n",
    "            final_output.append(weighted_dict)\n",
    "        return final_output"
   ]
  },
  {
   "cell_type": "markdown",
   "metadata": {},
   "source": [
    "#### Build the pipeline"
   ]
  },
  {
   "cell_type": "code",
   "execution_count": 7,
   "metadata": {},
   "outputs": [],
   "source": [
    "sentiment_pipeline = Pipeline([\n",
    "    (\"features\", FeatureUnion([\n",
    "        (\"ngram_tf_idf\", Pipeline([\n",
    "            (\"counts\", CountVectorizer(tokenizer=tokenizer.tokenize)),\n",
    "            (\"tf_idf\", TfidfTransformer())\n",
    "        ])),\n",
    "        (\"stats_vect\", Pipeline([\n",
    "            (\"tweet_stats\", TweetStats()),\n",
    "            (\"vect\", DictVectorizer()),\n",
    "        ])),\n",
    "    ])),\n",
    "    (\"classifier\", MultinomialNB())\n",
    "])"
   ]
  },
  {
   "cell_type": "markdown",
   "metadata": {},
   "source": [
    "#### Show the results"
   ]
  },
  {
   "cell_type": "code",
   "execution_count": 8,
   "metadata": {},
   "outputs": [],
   "source": [
    "sentiment_pipeline.fit(text_train, class_train)\n",
    "predictions = sentiment_pipeline.predict(text_test)"
   ]
  },
  {
   "cell_type": "code",
   "execution_count": 9,
   "metadata": {},
   "outputs": [
    {
     "name": "stdout",
     "output_type": "stream",
     "text": [
      "             precision    recall  f1-score   support\n",
      "\n",
      "   negative       0.94      0.86      0.90      1871\n",
      "   positive       0.87      0.94      0.90      1812\n",
      "\n",
      "avg / total       0.90      0.90      0.90      3683\n",
      "\n"
     ]
    }
   ],
   "source": [
    "print(classification_report(class_test, predictions))"
   ]
  },
  {
   "cell_type": "markdown",
   "metadata": {},
   "source": [
    "#### Define function for visualizing confusion matrices"
   ]
  },
  {
   "cell_type": "code",
   "execution_count": 10,
   "metadata": {},
   "outputs": [],
   "source": [
    "def plot_confusion_matrix(cm, classes, normalize=False,\n",
    "                          title='Confusion matrix', cmap=plt.cm.Blues):\n",
    "    if normalize:\n",
    "        cm = cm.astype('float') / cm.sum(axis=1)[:, np.newaxis]\n",
    "\n",
    "    plt.imshow(cm, interpolation='nearest', cmap=cmap)\n",
    "    plt.title(title)\n",
    "    plt.colorbar()\n",
    "    tick_marks = np.arange(len(classes))\n",
    "    plt.xticks(tick_marks, classes, rotation=45)\n",
    "    plt.yticks(tick_marks, classes)\n",
    "\n",
    "    fmt = '.2f' if normalize else 'd'\n",
    "    thresh = cm.max() / 2.\n",
    "    for i, j in itertools.product(range(cm.shape[0]), range(cm.shape[1])):\n",
    "        plt.text(j, i, format(cm[i, j], fmt),\n",
    "                 horizontalalignment=\"center\",\n",
    "                 color=\"white\" if cm[i, j] > thresh else \"black\")\n",
    "\n",
    "    plt.tight_layout()\n",
    "    plt.ylabel('True label')\n",
    "    plt.xlabel('Predicted label')"
   ]
  },
  {
   "cell_type": "markdown",
   "metadata": {},
   "source": [
    "#### Show the matrices"
   ]
  },
  {
   "cell_type": "code",
   "execution_count": 11,
   "metadata": {},
   "outputs": [
    {
     "data": {
      "image/png": "[encoded data removed]",
      "text/plain": [
       "<Figure size 432x288 with 2 Axes>"
      ]
     },
     "metadata": {},
     "output_type": "display_data"
    },
    {
     "data": {
      "image/png": "[encoded data removed]",
      "text/plain": [
       "<Figure size 432x288 with 2 Axes>"
      ]
     },
     "metadata": {},
     "output_type": "display_data"
    }
   ],
   "source": [
    "class_names = [\"negative\", \"positive\"]\n",
    "\n",
    "cnf_matrix = confusion_matrix(class_test, predictions)\n",
    "np.set_printoptions(precision=2)\n",
    "\n",
    "plt.figure()\n",
    "plot_confusion_matrix(cnf_matrix, classes=class_names,\n",
    "                      title='Confusion matrix, without normalization')\n",
    "\n",
    "plt.figure()\n",
    "plot_confusion_matrix(cnf_matrix, classes=class_names, normalize=True,\n",
    "                      title='Normalized confusion matrix')\n",
    "\n",
    "plt.show()"
   ]
  },
  {
   "cell_type": "markdown",
   "metadata": {},
   "source": [
    "#### Save the classifier for another time"
   ]
  },
  {
   "cell_type": "code",
   "execution_count": 12,
   "metadata": {},
   "outputs": [
    {
     "data": {
      "text/plain": [
       "['../data/non_subtweets_data/subtweets_classifier.pkl']"
      ]
     },
     "execution_count": 12,
     "metadata": {},
     "output_type": "execute_result"
    }
   ],
   "source": [
    "joblib.dump(sentiment_pipeline, \"../data/non_subtweets_data/subtweets_classifier.pkl\") "
   ]
  },
  {
   "cell_type": "markdown",
   "metadata": {},
   "source": [
    "#### Print tests for the classifier"
   ]
  },
  {
   "cell_type": "code",
   "execution_count": 13,
   "metadata": {},
   "outputs": [],
   "source": [
    "def tests_dataframe(tweets_dataframe, text_column=\"SentimentText\", sentiment_column=\"Sentiment\"):\n",
    "    predictions = sentiment_pipeline.predict_proba(tweets_dataframe[text_column])\n",
    "    negative_probability = predictions[:, 0].tolist()\n",
    "    positive_probability = predictions[:, 1].tolist()\n",
    "    return pd.DataFrame({\"tweet\": tweets_dataframe[text_column], \n",
    "                         \"sentiment_score\": tweets_dataframe[sentiment_column], \n",
    "                         \"subtweet_negative_probability\": negative_probability, \n",
    "                         \"subtweet_positive_probability\": positive_probability}).sort_values(by=\"subtweet_positive_probability\", \n",
    "                                                                                             ascending=False)"
   ]
  },
  {
   "cell_type": "markdown",
   "metadata": {},
   "source": [
    "#### Make up some tweets"
   ]
  },
  {
   "cell_type": "code",
   "execution_count": 14,
   "metadata": {},
   "outputs": [],
   "source": [
    "test_tweets = [\"Some people don't know their place.\", \n",
    "               \"Isn't it funny how some people don't know their place?\", \n",
    "               \"How come you people act like this?\", \n",
    "               \"You're such a nerd.\",\n",
    "               \"I love Noah, he's so cool.\",\n",
    "               \"Who the heck is Noah?\",\n",
    "               \"This is a @NoahSegalGould subtweet. Go check out https://segal-gould.com.\", \n",
    "               \"This is a subtweet.\", \n",
    "               \"Hey @jack!\", \n",
    "               \"Hey Jack!\",\n",
    "               \"http://www.google.com\"]"
   ]
  },
  {
   "cell_type": "markdown",
   "metadata": {},
   "source": [
    "#### Make a dataframe from the list"
   ]
  },
  {
   "cell_type": "code",
   "execution_count": 15,
   "metadata": {},
   "outputs": [],
   "source": [
    "test_tweets_df = pd.DataFrame({\"Tweet\": test_tweets, \"Sentiment\": [None]*len(test_tweets)})"
   ]
  },
  {
   "cell_type": "markdown",
   "metadata": {},
   "source": [
    "#### Print the tests"
   ]
  },
  {
   "cell_type": "code",
   "execution_count": 16,
   "metadata": {},
   "outputs": [
    {
     "data": {
      "text/html": [
       "<div>\n",
       "<style scoped>\n",
       "    .dataframe tbody tr th:only-of-type {\n",
       "        vertical-align: middle;\n",
       "    }\n",
       "\n",
       "    .dataframe tbody tr th {\n",
       "        vertical-align: top;\n",
       "    }\n",
       "\n",
       "    .dataframe thead th {\n",
       "        text-align: right;\n",
       "    }\n",
       "</style>\n",
       "<table border=\"1\" class=\"dataframe\">\n",
       "  <thead>\n",
       "    <tr style=\"text-align: right;\">\n",
       "      <th></th>\n",
       "      <th>sentiment_score</th>\n",
       "      <th>subtweet_negative_probability</th>\n",
       "      <th>subtweet_positive_probability</th>\n",
       "      <th>tweet</th>\n",
       "    </tr>\n",
       "  </thead>\n",
       "  <tbody>\n",
       "    <tr>\n",
       "      <th>1</th>\n",
       "      <td>None</td>\n",
       "      <td>0.047428</td>\n",
       "      <td>0.952572</td>\n",
       "      <td>Isn't it funny how some people don't know thei...</td>\n",
       "    </tr>\n",
       "    <tr>\n",
       "      <th>2</th>\n",
       "      <td>None</td>\n",
       "      <td>0.052488</td>\n",
       "      <td>0.947512</td>\n",
       "      <td>How come you people act like this?</td>\n",
       "    </tr>\n",
       "    <tr>\n",
       "      <th>0</th>\n",
       "      <td>None</td>\n",
       "      <td>0.056738</td>\n",
       "      <td>0.943262</td>\n",
       "      <td>Some people don't know their place.</td>\n",
       "    </tr>\n",
       "    <tr>\n",
       "      <th>3</th>\n",
       "      <td>None</td>\n",
       "      <td>0.417937</td>\n",
       "      <td>0.582063</td>\n",
       "      <td>You're such a nerd.</td>\n",
       "    </tr>\n",
       "    <tr>\n",
       "      <th>7</th>\n",
       "      <td>None</td>\n",
       "      <td>0.629246</td>\n",
       "      <td>0.370754</td>\n",
       "      <td>This is a subtweet.</td>\n",
       "    </tr>\n",
       "  </tbody>\n",
       "</table>\n",
       "</div>"
      ],
      "text/plain": [
       "  sentiment_score  subtweet_negative_probability  \\\n",
       "1            None                       0.047428   \n",
       "2            None                       0.052488   \n",
       "0            None                       0.056738   \n",
       "3            None                       0.417937   \n",
       "7            None                       0.629246   \n",
       "\n",
       "   subtweet_positive_probability  \\\n",
       "1                       0.952572   \n",
       "2                       0.947512   \n",
       "0                       0.943262   \n",
       "3                       0.582063   \n",
       "7                       0.370754   \n",
       "\n",
       "                                               tweet  \n",
       "1  Isn't it funny how some people don't know thei...  \n",
       "2                 How come you people act like this?  \n",
       "0                Some people don't know their place.  \n",
       "3                                You're such a nerd.  \n",
       "7                                This is a subtweet.  "
      ]
     },
     "execution_count": 16,
     "metadata": {},
     "output_type": "execute_result"
    }
   ],
   "source": [
    "tests_dataframe(test_tweets_df, text_column=\"Tweet\", sentiment_column=\"Sentiment\").head()"
   ]
  },
  {
   "cell_type": "markdown",
   "metadata": {},
   "source": [
    "#### Test on actual tweets"
   ]
  },
  {
   "cell_type": "code",
   "execution_count": 17,
   "metadata": {},
   "outputs": [
    {
     "name": "stderr",
     "output_type": "stream",
     "text": [
      "b'Skipping line 8836: expected 4 fields, saw 5\\n'\n",
      "b'Skipping line 535882: expected 4 fields, saw 7\\n'\n"
     ]
    }
   ],
   "source": [
    "naji_df = pd.read_csv(\"../data/non_subtweets_data/naji_data.csv\", error_bad_lines=False)"
   ]
  },
  {
   "cell_type": "markdown",
   "metadata": {},
   "source": [
    "#### Repair some leftover HTML"
   ]
  },
  {
   "cell_type": "code",
   "execution_count": 18,
   "metadata": {},
   "outputs": [],
   "source": [
    "naji_df[\"SentimentText\"] = naji_df[\"SentimentText\"].str.replace(\"&quot;\", \"\\\"\")\n",
    "naji_df[\"SentimentText\"] = naji_df[\"SentimentText\"].str.replace(\"&amp;\", \"&\")\n",
    "naji_df[\"SentimentText\"] = naji_df[\"SentimentText\"].str.replace(\"&gt;\", \">\")\n",
    "naji_df[\"SentimentText\"] = naji_df[\"SentimentText\"].str.replace(\"&lt;\", \"<\")"
   ]
  },
  {
   "cell_type": "markdown",
   "metadata": {},
   "source": [
    "#### Remove rows with non-English"
   ]
  },
  {
   "cell_type": "code",
   "execution_count": 19,
   "metadata": {},
   "outputs": [],
   "source": [
    "def is_english(s):\n",
    "    return all(ord(char) < 128 for char in s)"
   ]
  },
  {
   "cell_type": "code",
   "execution_count": 20,
   "metadata": {},
   "outputs": [],
   "source": [
    "naji_df = naji_df[naji_df[\"SentimentText\"].map(is_english)]"
   ]
  },
  {
   "cell_type": "markdown",
   "metadata": {},
   "source": [
    "#### Show the length of the dataset"
   ]
  },
  {
   "cell_type": "code",
   "execution_count": 21,
   "metadata": {},
   "outputs": [
    {
     "data": {
      "text/plain": [
       "1564156"
      ]
     },
     "execution_count": 21,
     "metadata": {},
     "output_type": "execute_result"
    }
   ],
   "source": [
    "len(naji_df)"
   ]
  },
  {
   "cell_type": "markdown",
   "metadata": {},
   "source": [
    "#### Use randomly selected 500K rows from dataset"
   ]
  },
  {
   "cell_type": "code",
   "execution_count": 22,
   "metadata": {},
   "outputs": [],
   "source": [
    "naji_df = naji_df.sample(n=500000).reset_index(drop=True)"
   ]
  },
  {
   "cell_type": "markdown",
   "metadata": {},
   "source": [
    "#### Print and time the tests"
   ]
  },
  {
   "cell_type": "code",
   "execution_count": 23,
   "metadata": {
    "scrolled": false
   },
   "outputs": [
    {
     "name": "stdout",
     "output_type": "stream",
     "text": [
      "CPU times: user 1min 44s, sys: 2.26 s, total: 1min 46s\n",
      "Wall time: 1min 57s\n"
     ]
    }
   ],
   "source": [
    "%%time\n",
    "naji_df = tests_dataframe(naji_df)"
   ]
  },
  {
   "cell_type": "code",
   "execution_count": 24,
   "metadata": {},
   "outputs": [],
   "source": [
    "naji_df.to_csv(\"../data/non_subtweets_data/naji_tests.csv\")"
   ]
  },
  {
   "cell_type": "code",
   "execution_count": 25,
   "metadata": {},
   "outputs": [
    {
     "data": {
      "text/html": [
       "<div>\n",
       "<style scoped>\n",
       "    .dataframe tbody tr th:only-of-type {\n",
       "        vertical-align: middle;\n",
       "    }\n",
       "\n",
       "    .dataframe tbody tr th {\n",
       "        vertical-align: top;\n",
       "    }\n",
       "\n",
       "    .dataframe thead th {\n",
       "        text-align: right;\n",
       "    }\n",
       "</style>\n",
       "<table border=\"1\" class=\"dataframe\">\n",
       "  <thead>\n",
       "    <tr style=\"text-align: right;\">\n",
       "      <th></th>\n",
       "      <th>sentiment_score</th>\n",
       "      <th>subtweet_negative_probability</th>\n",
       "      <th>subtweet_positive_probability</th>\n",
       "      <th>tweet</th>\n",
       "    </tr>\n",
       "  </thead>\n",
       "  <tbody>\n",
       "    <tr>\n",
       "      <th>488854</th>\n",
       "      <td>0</td>\n",
       "      <td>0.003261</td>\n",
       "      <td>0.996739</td>\n",
       "      <td>FUCK DIS ALL DIS SHIT IS BULLSHIT REAL TALK......</td>\n",
       "    </tr>\n",
       "    <tr>\n",
       "      <th>204718</th>\n",
       "      <td>0</td>\n",
       "      <td>0.005929</td>\n",
       "      <td>0.994071</td>\n",
       "      <td>thinks people really dont understand even when...</td>\n",
       "    </tr>\n",
       "    <tr>\n",
       "      <th>462489</th>\n",
       "      <td>0</td>\n",
       "      <td>0.007003</td>\n",
       "      <td>0.992997</td>\n",
       "      <td>Why is it when you think someone likes you, th...</td>\n",
       "    </tr>\n",
       "    <tr>\n",
       "      <th>142925</th>\n",
       "      <td>0</td>\n",
       "      <td>0.007024</td>\n",
       "      <td>0.992976</td>\n",
       "      <td>confused on why and how people pose as others ...</td>\n",
       "    </tr>\n",
       "    <tr>\n",
       "      <th>359639</th>\n",
       "      <td>0</td>\n",
       "      <td>0.007351</td>\n",
       "      <td>0.992649</td>\n",
       "      <td>Just witnessed a man threatning to beat a woma...</td>\n",
       "    </tr>\n",
       "  </tbody>\n",
       "</table>\n",
       "</div>"
      ],
      "text/plain": [
       "        sentiment_score  subtweet_negative_probability  \\\n",
       "488854                0                       0.003261   \n",
       "204718                0                       0.005929   \n",
       "462489                0                       0.007003   \n",
       "142925                0                       0.007024   \n",
       "359639                0                       0.007351   \n",
       "\n",
       "        subtweet_positive_probability  \\\n",
       "488854                       0.996739   \n",
       "204718                       0.994071   \n",
       "462489                       0.992997   \n",
       "142925                       0.992976   \n",
       "359639                       0.992649   \n",
       "\n",
       "                                                    tweet  \n",
       "488854  FUCK DIS ALL DIS SHIT IS BULLSHIT REAL TALK......  \n",
       "204718  thinks people really dont understand even when...  \n",
       "462489  Why is it when you think someone likes you, th...  \n",
       "142925  confused on why and how people pose as others ...  \n",
       "359639  Just witnessed a man threatning to beat a woma...  "
      ]
     },
     "execution_count": 25,
     "metadata": {},
     "output_type": "execute_result"
    }
   ],
   "source": [
    "naji_df.head()"
   ]
  },
  {
   "cell_type": "markdown",
   "metadata": {},
   "source": [
    "#### Tests on friends' tweets"
   ]
  },
  {
   "cell_type": "code",
   "execution_count": 26,
   "metadata": {},
   "outputs": [],
   "source": [
    "aaron_df = pd.read_csv(\"../data/friends_tweets/akrapf96_tweets.csv\").dropna()\n",
    "aaron_df[\"Sentiment\"] = None"
   ]
  },
  {
   "cell_type": "code",
   "execution_count": 27,
   "metadata": {
    "scrolled": true
   },
   "outputs": [
    {
     "name": "stdout",
     "output_type": "stream",
     "text": [
      "CPU times: user 674 ms, sys: 17.6 ms, total: 691 ms\n",
      "Wall time: 812 ms\n"
     ]
    }
   ],
   "source": [
    "%%time\n",
    "aaron_df = tests_dataframe(aaron_df, text_column=\"Text\", sentiment_column=\"Sentiment\")"
   ]
  },
  {
   "cell_type": "code",
   "execution_count": 28,
   "metadata": {},
   "outputs": [],
   "source": [
    "aaron_df.to_csv(\"../data/friends_tweets/akrapf96_tests.csv\")"
   ]
  },
  {
   "cell_type": "code",
   "execution_count": 29,
   "metadata": {},
   "outputs": [
    {
     "data": {
      "text/html": [
       "<div>\n",
       "<style scoped>\n",
       "    .dataframe tbody tr th:only-of-type {\n",
       "        vertical-align: middle;\n",
       "    }\n",
       "\n",
       "    .dataframe tbody tr th {\n",
       "        vertical-align: top;\n",
       "    }\n",
       "\n",
       "    .dataframe thead th {\n",
       "        text-align: right;\n",
       "    }\n",
       "</style>\n",
       "<table border=\"1\" class=\"dataframe\">\n",
       "  <thead>\n",
       "    <tr style=\"text-align: right;\">\n",
       "      <th></th>\n",
       "      <th>sentiment_score</th>\n",
       "      <th>subtweet_negative_probability</th>\n",
       "      <th>subtweet_positive_probability</th>\n",
       "      <th>tweet</th>\n",
       "    </tr>\n",
       "  </thead>\n",
       "  <tbody>\n",
       "    <tr>\n",
       "      <th>2893</th>\n",
       "      <td>None</td>\n",
       "      <td>0.007923</td>\n",
       "      <td>0.992077</td>\n",
       "      <td>I love arguing with conservative bigots who do...</td>\n",
       "    </tr>\n",
       "    <tr>\n",
       "      <th>385</th>\n",
       "      <td>None</td>\n",
       "      <td>0.013864</td>\n",
       "      <td>0.986136</td>\n",
       "      <td>My dog literally changed positions on my bed j...</td>\n",
       "    </tr>\n",
       "    <tr>\n",
       "      <th>225</th>\n",
       "      <td>None</td>\n",
       "      <td>0.016318</td>\n",
       "      <td>0.983682</td>\n",
       "      <td>Can people stop putting eggs in their dog's mo...</td>\n",
       "    </tr>\n",
       "    <tr>\n",
       "      <th>3236</th>\n",
       "      <td>None</td>\n",
       "      <td>0.016366</td>\n",
       "      <td>0.983634</td>\n",
       "      <td>What will straight cis people do now with thei...</td>\n",
       "    </tr>\n",
       "    <tr>\n",
       "      <th>1825</th>\n",
       "      <td>None</td>\n",
       "      <td>0.016474</td>\n",
       "      <td>0.983526</td>\n",
       "      <td>Donald Trump: “I will fight for you with every...</td>\n",
       "    </tr>\n",
       "  </tbody>\n",
       "</table>\n",
       "</div>"
      ],
      "text/plain": [
       "     sentiment_score  subtweet_negative_probability  \\\n",
       "2893            None                       0.007923   \n",
       "385             None                       0.013864   \n",
       "225             None                       0.016318   \n",
       "3236            None                       0.016366   \n",
       "1825            None                       0.016474   \n",
       "\n",
       "      subtweet_positive_probability  \\\n",
       "2893                       0.992077   \n",
       "385                        0.986136   \n",
       "225                        0.983682   \n",
       "3236                       0.983634   \n",
       "1825                       0.983526   \n",
       "\n",
       "                                                  tweet  \n",
       "2893  I love arguing with conservative bigots who do...  \n",
       "385   My dog literally changed positions on my bed j...  \n",
       "225   Can people stop putting eggs in their dog's mo...  \n",
       "3236  What will straight cis people do now with thei...  \n",
       "1825  Donald Trump: “I will fight for you with every...  "
      ]
     },
     "execution_count": 29,
     "metadata": {},
     "output_type": "execute_result"
    }
   ],
   "source": [
    "aaron_df.head()"
   ]
  },
  {
   "cell_type": "code",
   "execution_count": 30,
   "metadata": {},
   "outputs": [],
   "source": [
    "julia_df = pd.read_csv(\"../data/friends_tweets/juliaeberry_tweets.csv\").dropna()\n",
    "julia_df[\"Sentiment\"] = None"
   ]
  },
  {
   "cell_type": "code",
   "execution_count": 31,
   "metadata": {
    "scrolled": false
   },
   "outputs": [
    {
     "name": "stdout",
     "output_type": "stream",
     "text": [
      "CPU times: user 1.59 s, sys: 37 ms, total: 1.63 s\n",
      "Wall time: 2.09 s\n"
     ]
    }
   ],
   "source": [
    "%%time\n",
    "julia_df = tests_dataframe(julia_df, text_column=\"Text\", sentiment_column=\"Sentiment\")"
   ]
  },
  {
   "cell_type": "code",
   "execution_count": 32,
   "metadata": {},
   "outputs": [],
   "source": [
    "julia_df.to_csv(\"../data/friends_tweets/juliaeberry_tests.csv\")"
   ]
  },
  {
   "cell_type": "code",
   "execution_count": 33,
   "metadata": {},
   "outputs": [
    {
     "data": {
      "text/html": [
       "<div>\n",
       "<style scoped>\n",
       "    .dataframe tbody tr th:only-of-type {\n",
       "        vertical-align: middle;\n",
       "    }\n",
       "\n",
       "    .dataframe tbody tr th {\n",
       "        vertical-align: top;\n",
       "    }\n",
       "\n",
       "    .dataframe thead th {\n",
       "        text-align: right;\n",
       "    }\n",
       "</style>\n",
       "<table border=\"1\" class=\"dataframe\">\n",
       "  <thead>\n",
       "    <tr style=\"text-align: right;\">\n",
       "      <th></th>\n",
       "      <th>sentiment_score</th>\n",
       "      <th>subtweet_negative_probability</th>\n",
       "      <th>subtweet_positive_probability</th>\n",
       "      <th>tweet</th>\n",
       "    </tr>\n",
       "  </thead>\n",
       "  <tbody>\n",
       "    <tr>\n",
       "      <th>1138</th>\n",
       "      <td>None</td>\n",
       "      <td>0.003754</td>\n",
       "      <td>0.996246</td>\n",
       "      <td>\"what a COINcidence that you're here,\" drawls ...</td>\n",
       "    </tr>\n",
       "    <tr>\n",
       "      <th>773</th>\n",
       "      <td>None</td>\n",
       "      <td>0.005336</td>\n",
       "      <td>0.994664</td>\n",
       "      <td>\"I do feel grateful for the fact that we have ...</td>\n",
       "    </tr>\n",
       "    <tr>\n",
       "      <th>1799</th>\n",
       "      <td>None</td>\n",
       "      <td>0.005822</td>\n",
       "      <td>0.994178</td>\n",
       "      <td>it really doesn't help that the sample ethnogr...</td>\n",
       "    </tr>\n",
       "    <tr>\n",
       "      <th>193</th>\n",
       "      <td>None</td>\n",
       "      <td>0.006754</td>\n",
       "      <td>0.993246</td>\n",
       "      <td>I know part of the reason they can do it early...</td>\n",
       "    </tr>\n",
       "    <tr>\n",
       "      <th>663</th>\n",
       "      <td>None</td>\n",
       "      <td>0.007787</td>\n",
       "      <td>0.992213</td>\n",
       "      <td>even if you are committed to cheating how can ...</td>\n",
       "    </tr>\n",
       "  </tbody>\n",
       "</table>\n",
       "</div>"
      ],
      "text/plain": [
       "     sentiment_score  subtweet_negative_probability  \\\n",
       "1138            None                       0.003754   \n",
       "773             None                       0.005336   \n",
       "1799            None                       0.005822   \n",
       "193             None                       0.006754   \n",
       "663             None                       0.007787   \n",
       "\n",
       "      subtweet_positive_probability  \\\n",
       "1138                       0.996246   \n",
       "773                        0.994664   \n",
       "1799                       0.994178   \n",
       "193                        0.993246   \n",
       "663                        0.992213   \n",
       "\n",
       "                                                  tweet  \n",
       "1138  \"what a COINcidence that you're here,\" drawls ...  \n",
       "773   \"I do feel grateful for the fact that we have ...  \n",
       "1799  it really doesn't help that the sample ethnogr...  \n",
       "193   I know part of the reason they can do it early...  \n",
       "663   even if you are committed to cheating how can ...  "
      ]
     },
     "execution_count": 33,
     "metadata": {},
     "output_type": "execute_result"
    }
   ],
   "source": [
    "julia_df.head()"
   ]
  },
  {
   "cell_type": "code",
   "execution_count": 34,
   "metadata": {},
   "outputs": [],
   "source": [
    "zoe_df = pd.read_csv(\"../data/friends_tweets/zoeterhune_tweets.csv\").dropna()\n",
    "zoe_df[\"Sentiment\"] = None"
   ]
  },
  {
   "cell_type": "code",
   "execution_count": 35,
   "metadata": {},
   "outputs": [
    {
     "name": "stdout",
     "output_type": "stream",
     "text": [
      "CPU times: user 243 ms, sys: 7.64 ms, total: 250 ms\n",
      "Wall time: 340 ms\n"
     ]
    }
   ],
   "source": [
    "%%time\n",
    "zoe_df = tests_dataframe(zoe_df, text_column=\"Text\", sentiment_column=\"Sentiment\")"
   ]
  },
  {
   "cell_type": "code",
   "execution_count": 36,
   "metadata": {},
   "outputs": [],
   "source": [
    "zoe_df.to_csv(\"../data/friends_tweets/zoeterhune_tests.csv\")"
   ]
  },
  {
   "cell_type": "code",
   "execution_count": 37,
   "metadata": {},
   "outputs": [
    {
     "data": {
      "text/html": [
       "<div>\n",
       "<style scoped>\n",
       "    .dataframe tbody tr th:only-of-type {\n",
       "        vertical-align: middle;\n",
       "    }\n",
       "\n",
       "    .dataframe tbody tr th {\n",
       "        vertical-align: top;\n",
       "    }\n",
       "\n",
       "    .dataframe thead th {\n",
       "        text-align: right;\n",
       "    }\n",
       "</style>\n",
       "<table border=\"1\" class=\"dataframe\">\n",
       "  <thead>\n",
       "    <tr style=\"text-align: right;\">\n",
       "      <th></th>\n",
       "      <th>sentiment_score</th>\n",
       "      <th>subtweet_negative_probability</th>\n",
       "      <th>subtweet_positive_probability</th>\n",
       "      <th>tweet</th>\n",
       "    </tr>\n",
       "  </thead>\n",
       "  <tbody>\n",
       "    <tr>\n",
       "      <th>1304</th>\n",
       "      <td>None</td>\n",
       "      <td>0.003139</td>\n",
       "      <td>0.996861</td>\n",
       "      <td>maybe girls don’t “go for nice guys” bc they’r...</td>\n",
       "    </tr>\n",
       "    <tr>\n",
       "      <th>277</th>\n",
       "      <td>None</td>\n",
       "      <td>0.006351</td>\n",
       "      <td>0.993649</td>\n",
       "      <td>ok so people from my old school keep lamenting...</td>\n",
       "    </tr>\n",
       "    <tr>\n",
       "      <th>584</th>\n",
       "      <td>None</td>\n",
       "      <td>0.007428</td>\n",
       "      <td>0.992572</td>\n",
       "      <td>the funny thing about anxiety is one minute yo...</td>\n",
       "    </tr>\n",
       "    <tr>\n",
       "      <th>1186</th>\n",
       "      <td>None</td>\n",
       "      <td>0.008897</td>\n",
       "      <td>0.991103</td>\n",
       "      <td>no offense but what kind of school doesn’t let...</td>\n",
       "    </tr>\n",
       "    <tr>\n",
       "      <th>906</th>\n",
       "      <td>None</td>\n",
       "      <td>0.009101</td>\n",
       "      <td>0.990899</td>\n",
       "      <td>it drives me fucking INSANE when the fucking a...</td>\n",
       "    </tr>\n",
       "  </tbody>\n",
       "</table>\n",
       "</div>"
      ],
      "text/plain": [
       "     sentiment_score  subtweet_negative_probability  \\\n",
       "1304            None                       0.003139   \n",
       "277             None                       0.006351   \n",
       "584             None                       0.007428   \n",
       "1186            None                       0.008897   \n",
       "906             None                       0.009101   \n",
       "\n",
       "      subtweet_positive_probability  \\\n",
       "1304                       0.996861   \n",
       "277                        0.993649   \n",
       "584                        0.992572   \n",
       "1186                       0.991103   \n",
       "906                        0.990899   \n",
       "\n",
       "                                                  tweet  \n",
       "1304  maybe girls don’t “go for nice guys” bc they’r...  \n",
       "277   ok so people from my old school keep lamenting...  \n",
       "584   the funny thing about anxiety is one minute yo...  \n",
       "1186  no offense but what kind of school doesn’t let...  \n",
       "906   it drives me fucking INSANE when the fucking a...  "
      ]
     },
     "execution_count": 37,
     "metadata": {},
     "output_type": "execute_result"
    }
   ],
   "source": [
    "zoe_df.head()"
   ]
  },
  {
   "cell_type": "code",
   "execution_count": 38,
   "metadata": {},
   "outputs": [],
   "source": [
    "noah_df = pd.read_csv(\"../data/friends_tweets/noahsegalgould_tweets.csv\").dropna()\n",
    "noah_df[\"Sentiment\"] = None"
   ]
  },
  {
   "cell_type": "code",
   "execution_count": 39,
   "metadata": {
    "scrolled": false
   },
   "outputs": [
    {
     "name": "stdout",
     "output_type": "stream",
     "text": [
      "CPU times: user 786 ms, sys: 13.9 ms, total: 800 ms\n",
      "Wall time: 854 ms\n"
     ]
    }
   ],
   "source": [
    "%%time\n",
    "noah_df = tests_dataframe(noah_df, text_column=\"Text\", sentiment_column=\"Sentiment\")"
   ]
  },
  {
   "cell_type": "code",
   "execution_count": 40,
   "metadata": {},
   "outputs": [],
   "source": [
    "noah_df.to_csv(\"../data/friends_tweets/noahsegalgould_tests.csv\")"
   ]
  },
  {
   "cell_type": "code",
   "execution_count": 41,
   "metadata": {},
   "outputs": [
    {
     "data": {
      "text/html": [
       "<div>\n",
       "<style scoped>\n",
       "    .dataframe tbody tr th:only-of-type {\n",
       "        vertical-align: middle;\n",
       "    }\n",
       "\n",
       "    .dataframe tbody tr th {\n",
       "        vertical-align: top;\n",
       "    }\n",
       "\n",
       "    .dataframe thead th {\n",
       "        text-align: right;\n",
       "    }\n",
       "</style>\n",
       "<table border=\"1\" class=\"dataframe\">\n",
       "  <thead>\n",
       "    <tr style=\"text-align: right;\">\n",
       "      <th></th>\n",
       "      <th>sentiment_score</th>\n",
       "      <th>subtweet_negative_probability</th>\n",
       "      <th>subtweet_positive_probability</th>\n",
       "      <th>tweet</th>\n",
       "    </tr>\n",
       "  </thead>\n",
       "  <tbody>\n",
       "    <tr>\n",
       "      <th>877</th>\n",
       "      <td>None</td>\n",
       "      <td>0.000318</td>\n",
       "      <td>0.999682</td>\n",
       "      <td>I guess I think it’s foolish to rely on any we...</td>\n",
       "    </tr>\n",
       "    <tr>\n",
       "      <th>607</th>\n",
       "      <td>None</td>\n",
       "      <td>0.001400</td>\n",
       "      <td>0.998600</td>\n",
       "      <td>I don’t fuck with the symmetrarians</td>\n",
       "    </tr>\n",
       "    <tr>\n",
       "      <th>105</th>\n",
       "      <td>None</td>\n",
       "      <td>0.001611</td>\n",
       "      <td>0.998389</td>\n",
       "      <td>In a target parking lot, I see him: he’s carry...</td>\n",
       "    </tr>\n",
       "    <tr>\n",
       "      <th>608</th>\n",
       "      <td>None</td>\n",
       "      <td>0.001945</td>\n",
       "      <td>0.998055</td>\n",
       "      <td>If your face is symmetrical I don’t like you</td>\n",
       "    </tr>\n",
       "    <tr>\n",
       "      <th>1503</th>\n",
       "      <td>None</td>\n",
       "      <td>0.002714</td>\n",
       "      <td>0.997286</td>\n",
       "      <td>Honestly I don’t remember</td>\n",
       "    </tr>\n",
       "  </tbody>\n",
       "</table>\n",
       "</div>"
      ],
      "text/plain": [
       "     sentiment_score  subtweet_negative_probability  \\\n",
       "877             None                       0.000318   \n",
       "607             None                       0.001400   \n",
       "105             None                       0.001611   \n",
       "608             None                       0.001945   \n",
       "1503            None                       0.002714   \n",
       "\n",
       "      subtweet_positive_probability  \\\n",
       "877                        0.999682   \n",
       "607                        0.998600   \n",
       "105                        0.998389   \n",
       "608                        0.998055   \n",
       "1503                       0.997286   \n",
       "\n",
       "                                                  tweet  \n",
       "877   I guess I think it’s foolish to rely on any we...  \n",
       "607                 I don’t fuck with the symmetrarians  \n",
       "105   In a target parking lot, I see him: he’s carry...  \n",
       "608        If your face is symmetrical I don’t like you  \n",
       "1503                         Honestly I don’t remember   "
      ]
     },
     "execution_count": 41,
     "metadata": {},
     "output_type": "execute_result"
    }
   ],
   "source": [
    "noah_df.head()"
   ]
  },
  {
   "cell_type": "markdown",
   "metadata": {},
   "source": [
    "#### Test it in realtime\n",
    "#### Define some useful variables for later"
   ]
  },
  {
   "cell_type": "code",
   "execution_count": 42,
   "metadata": {},
   "outputs": [],
   "source": [
    "THRESHOLD = 0.75\n",
    "DURATION = 300 # seconds"
   ]
  },
  {
   "cell_type": "markdown",
   "metadata": {},
   "source": [
    "#### Load Twitter API credentials"
   ]
  },
  {
   "cell_type": "code",
   "execution_count": 43,
   "metadata": {},
   "outputs": [],
   "source": [
    "consumer_key, consumer_secret, access_token, access_token_secret = open(\"../../credentials.txt\").read().split(\"\\n\")"
   ]
  },
  {
   "cell_type": "markdown",
   "metadata": {},
   "source": [
    "#### Prepare the final dataframe"
   ]
  },
  {
   "cell_type": "code",
   "execution_count": 44,
   "metadata": {},
   "outputs": [],
   "source": [
    "subtweets_live_list = []"
   ]
  },
  {
   "cell_type": "markdown",
   "metadata": {},
   "source": [
    "#### Create a custom class for streaming subtweets"
   ]
  },
  {
   "cell_type": "code",
   "execution_count": 45,
   "metadata": {},
   "outputs": [],
   "source": [
    "class StreamListener(tweepy.StreamListener):\n",
    "    def on_status(self, status):\n",
    "        text = status.text\n",
    "        #negative_probability = sentiment_pipeline.predict_proba([text]).tolist()[0][0]\n",
    "        positive_probability = sentiment_pipeline.predict_proba([text]).tolist()[0][1]\n",
    "        if positive_probability >= THRESHOLD and not status.retweeted:\n",
    "            sentiment = TextBlob(text).sentiment\n",
    "            row = {\"tweet\": text, \n",
    "                   \"screen_name\": status.user.screen_name, \n",
    "                   \"time\": status.created_at, \n",
    "                   \"subtweet_probability\": positive_probability, \n",
    "                   \"sentiment_polarity\": sentiment.polarity, \n",
    "                   \"sentiment_subjectivity\": sentiment.subjectivity}\n",
    "            subtweets_live_list.append(row)\n",
    "            print(str(list(row.values()))[1:-1])\n",
    "            return row"
   ]
  },
  {
   "cell_type": "markdown",
   "metadata": {},
   "source": [
    "#### Use the API credentials to connect to the API"
   ]
  },
  {
   "cell_type": "code",
   "execution_count": 46,
   "metadata": {},
   "outputs": [],
   "source": [
    "auth = tweepy.OAuthHandler(consumer_key, consumer_secret)\n",
    "auth.set_access_token(access_token, access_token_secret)\n",
    "api = tweepy.API(auth)"
   ]
  },
  {
   "cell_type": "markdown",
   "metadata": {},
   "source": [
    "#### Create a list of all my followers' account IDs"
   ]
  },
  {
   "cell_type": "code",
   "execution_count": 47,
   "metadata": {},
   "outputs": [],
   "source": [
    "my_followers_int = list(set(list(tweepy.Cursor(api.followers_ids, screen_name=\"NoahSegalGould\").pages())[0]))\n",
    "my_followers_str = [str(i) for i in my_followers_int]"
   ]
  },
  {
   "cell_type": "markdown",
   "metadata": {},
   "source": [
    "#### Instantiate the listener"
   ]
  },
  {
   "cell_type": "code",
   "execution_count": 48,
   "metadata": {},
   "outputs": [],
   "source": [
    "stream_listener = StreamListener()\n",
    "stream = tweepy.Stream(auth=api.auth, listener=stream_listener)"
   ]
  },
  {
   "cell_type": "markdown",
   "metadata": {},
   "source": [
    "#### Start the stream asynchronously, and stop it after some duration of seconds"
   ]
  },
  {
   "cell_type": "code",
   "execution_count": 49,
   "metadata": {},
   "outputs": [
    {
     "name": "stdout",
     "output_type": "stream",
     "text": [
      "Streaming!\n"
     ]
    },
    {
     "name": "stderr",
     "output_type": "stream",
     "text": [
      "/Users/Noah/anaconda/envs/work/lib/python3.6/site-packages/sklearn/externals/joblib/parallel.py:547: UserWarning: Multiprocessing-backed parallel loops cannot be nested below threads, setting n_jobs=1\n",
      "  **self._backend_args)\n"
     ]
    },
    {
     "name": "stdout",
     "output_type": "stream",
     "text": [
      "CPU times: user 48.4 ms, sys: 24.3 ms, total: 72.6 ms\n",
      "Wall time: 5min\n"
     ]
    }
   ],
   "source": [
    "%%time\n",
    "stream.filter(follow=my_followers_str, async=True)\n",
    "print(\"Streaming!\")\n",
    "sleep(DURATION)\n",
    "stream.disconnect()"
   ]
  },
  {
   "cell_type": "markdown",
   "metadata": {},
   "source": [
    "#### Save the dataframe"
   ]
  },
  {
   "cell_type": "code",
   "execution_count": 50,
   "metadata": {},
   "outputs": [],
   "source": [
    "subtweets_df = pd.DataFrame(subtweets_live_list)\n",
    "subtweets_df.to_csv(\"../data/non_subtweets_data/live_data.csv\")"
   ]
  },
  {
   "cell_type": "markdown",
   "metadata": {},
   "source": [
    "#### Show the dataframe"
   ]
  },
  {
   "cell_type": "code",
   "execution_count": 51,
   "metadata": {},
   "outputs": [
    {
     "data": {
      "text/html": [
       "<div>\n",
       "<style scoped>\n",
       "    .dataframe tbody tr th:only-of-type {\n",
       "        vertical-align: middle;\n",
       "    }\n",
       "\n",
       "    .dataframe tbody tr th {\n",
       "        vertical-align: top;\n",
       "    }\n",
       "\n",
       "    .dataframe thead th {\n",
       "        text-align: right;\n",
       "    }\n",
       "</style>\n",
       "<table border=\"1\" class=\"dataframe\">\n",
       "  <thead>\n",
       "    <tr style=\"text-align: right;\">\n",
       "      <th></th>\n",
       "    </tr>\n",
       "  </thead>\n",
       "  <tbody>\n",
       "  </tbody>\n",
       "</table>\n",
       "</div>"
      ],
      "text/plain": [
       "Empty DataFrame\n",
       "Columns: []\n",
       "Index: []"
      ]
     },
     "execution_count": 51,
     "metadata": {},
     "output_type": "execute_result"
    }
   ],
   "source": [
    "subtweets_df"
   ]
  },
  {
   "cell_type": "code",
   "execution_count": null,
   "metadata": {},
   "outputs": [],
   "source": []
  }
 ],
 "metadata": {
  "kernelspec": {
   "display_name": "Python 3",
   "language": "python",
   "name": "python3"
  },
  "language_info": {
   "codemirror_mode": {
    "name": "ipython",
    "version": 3
   },
   "file_extension": ".py",
   "mimetype": "text/x-python",
   "name": "python",
   "nbconvert_exporter": "python",
   "pygments_lexer": "ipython3",
   "version": "3.6.4"
  }
 },
 "nbformat": 4,
 "nbformat_minor": 2
}
