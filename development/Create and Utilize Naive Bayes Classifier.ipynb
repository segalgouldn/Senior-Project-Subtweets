{
 "cells": [
  {
   "cell_type": "markdown",
   "metadata": {},
   "source": [
    "## Using Scikit-Learn and NLTK to build a Naive Bayes Classifier that identifies subtweets"
   ]
  },
  {
   "cell_type": "markdown",
   "metadata": {},
   "source": [
    "### Goals:\n",
    "#### Use Scikit-Learn pipelines to define special features to add to a Naive Bayes Classifier\n",
    "#### Evaluate the accuracy of the classifier\n",
    "#### Maybe do it live, on a Twitter API stream"
   ]
  },
  {
   "cell_type": "markdown",
   "metadata": {},
   "source": [
    "### Methods:\n",
    "#### Use the training set I made before"
   ]
  },
  {
   "cell_type": "markdown",
   "metadata": {},
   "source": [
    "#### Import libraries"
   ]
  },
  {
   "cell_type": "code",
   "execution_count": 1,
   "metadata": {},
   "outputs": [],
   "source": [
    "%matplotlib inline"
   ]
  },
  {
   "cell_type": "code",
   "execution_count": 2,
   "metadata": {},
   "outputs": [],
   "source": [
    "from sklearn.base import TransformerMixin, BaseEstimator\n",
    "from sklearn.feature_extraction import DictVectorizer\n",
    "from sklearn.feature_extraction.text import CountVectorizer, TfidfTransformer\n",
    "from sklearn.naive_bayes import MultinomialNB\n",
    "from sklearn.pipeline import Pipeline, FeatureUnion\n",
    "from sklearn.model_selection import train_test_split\n",
    "from sklearn.metrics import classification_report, confusion_matrix\n",
    "from sklearn.externals import joblib\n",
    "from textblob import TextBlob\n",
    "from time import sleep\n",
    "import matplotlib.pyplot as plt\n",
    "import pandas as pd\n",
    "import numpy as np\n",
    "import itertools\n",
    "import tweepy\n",
    "import nltk\n",
    "import re"
   ]
  },
  {
   "cell_type": "markdown",
   "metadata": {},
   "source": [
    "#### Load the CSV"
   ]
  },
  {
   "cell_type": "code",
   "execution_count": 3,
   "metadata": {},
   "outputs": [],
   "source": [
    "df = pd.read_csv(\"../data/training_data/Subtweets_Classifier_Training_Data.csv\")"
   ]
  },
  {
   "cell_type": "markdown",
   "metadata": {},
   "source": [
    "#### Create training and test sets from the single training set I made before"
   ]
  },
  {
   "cell_type": "code",
   "execution_count": 4,
   "metadata": {},
   "outputs": [],
   "source": [
    "text_train, text_test, class_train, class_test = train_test_split(df.alleged_subtweet.tolist(), \n",
    "                                                                  df.is_subtweet.tolist())"
   ]
  },
  {
   "cell_type": "markdown",
   "metadata": {},
   "source": [
    "#### Use NLTK's tokenizer instead of Scikit's"
   ]
  },
  {
   "cell_type": "code",
   "execution_count": 5,
   "metadata": {},
   "outputs": [],
   "source": [
    "tokenizer = nltk.casual.TweetTokenizer(preserve_case=False, reduce_len=True)"
   ]
  },
  {
   "cell_type": "markdown",
   "metadata": {},
   "source": [
    "#### Class for distinguishing polarizing parts of speech as features"
   ]
  },
  {
   "cell_type": "code",
   "execution_count": 6,
   "metadata": {
    "code_folding": []
   },
   "outputs": [],
   "source": [
    "class TweetStats(BaseEstimator, TransformerMixin):\n",
    "    def fit(self, x, y=None):\n",
    "        return self\n",
    "\n",
    "    def transform(self, posts):\n",
    "        first_names = [\"Aaliyah\", \"Aaron\", \"Abby\", \"Abigail\", \"Abraham\", \"Adam\",\n",
    "                       \"Addison\", \"Adrian\", \"Adriana\", \"Adrianna\", \"Aidan\", \"Aiden\",\n",
    "                       \"Alan\", \"Alana\", \"Alejandro\", \"Alex\", \"Alexa\", \"Alexander\",\n",
    "                       \"Alexandra\", \"Alexandria\", \"Alexia\", \"Alexis\", \"Alicia\", \"Allison\",\n",
    "                       \"Alondra\", \"Alyssa\", \"Amanda\", \"Amber\", \"Amelia\", \"Amy\",\n",
    "                       \"Ana\", \"Andrea\", \"Andres\", \"Andrew\", \"Angel\", \"Angela\",\n",
    "                       \"Angelica\", \"Angelina\", \"Anna\", \"Anthony\", \"Antonio\", \"Ariana\",\n",
    "                       \"Arianna\", \"Ashley\", \"Ashlyn\", \"Ashton\", \"Aubrey\", \"Audrey\",\n",
    "                       \"Austin\", \"Autumn\", \"Ava\", \"Avery\", \"Ayden\", \"Bailey\",\n",
    "                       \"Benjamin\", \"Bianca\", \"Blake\", \"Braden\", \"Bradley\", \"Brady\",\n",
    "                       \"Brandon\", \"Brayden\", \"Breanna\", \"Brendan\", \"Brian\", \"Briana\",\n",
    "                       \"Brianna\", \"Brittany\", \"Brody\", \"Brooke\", \"Brooklyn\", \"Bryan\",\n",
    "                       \"Bryce\", \"Bryson\", \"Caden\", \"Caitlin\", \"Caitlyn\", \"Caleb\",\n",
    "                       \"Cameron\", \"Camila\", \"Carlos\", \"Caroline\", \"Carson\", \"Carter\",\n",
    "                       \"Cassandra\", \"Cassidy\", \"Catherine\", \"Cesar\", \"Charles\", \"Charlotte\",\n",
    "                       \"Chase\", \"Chelsea\", \"Cheyenne\", \"Chloe\", \"Christian\", \"Christina\",\n",
    "                       \"Christopher\", \"Claire\", \"Cody\", \"Colby\", \"Cole\", \"Colin\",\n",
    "                       \"Collin\", \"Colton\", \"Conner\", \"Connor\", \"Cooper\", \"Courtney\",\n",
    "                       \"Cristian\", \"Crystal\", \"Daisy\", \"Dakota\", \"Dalton\", \"Damian\",\n",
    "                       \"Daniel\", \"Daniela\", \"Danielle\", \"David\", \"Delaney\", \"Derek\",\n",
    "                       \"Destiny\", \"Devin\", \"Devon\", \"Diana\", \"Diego\", \"Dominic\",\n",
    "                       \"Donovan\", \"Dylan\", \"Edgar\", \"Eduardo\", \"Edward\", \"Edwin\",\n",
    "                       \"Eli\", \"Elias\", \"Elijah\", \"Elizabeth\", \"Ella\", \"Ellie\", \n",
    "                       \"Emily\", \"Emma\", \"Emmanuel\", \"Eric\", \"Erica\", \"Erick\",\n",
    "                       \"Erik\", \"Erin\", \"Ethan\", \"Eva\", \"Evan\", \"Evelyn\",\n",
    "                       \"Faith\", \"Fernando\", \"Francisco\", \"Gabriel\", \"Gabriela\", \"Gabriella\",\n",
    "                       \"Gabrielle\", \"Gage\", \"Garrett\", \"Gavin\", \"Genesis\", \"George\",\n",
    "                       \"Gianna\", \"Giovanni\", \"Giselle\", \"Grace\", \"Gracie\", \"Grant\",\n",
    "                       \"Gregory\", \"Hailey\", \"Haley\", \"Hannah\", \"Hayden\", \"Hector\",\n",
    "                       \"Henry\", \"Hope\", \"Hunter\", \"Ian\", \"Isaac\", \"Isabel\",\n",
    "                       \"Isabella\", \"Isabelle\", \"Isaiah\", \"Ivan\", \"Jack\", \"Jackson\",\n",
    "                       \"Jacob\", \"Jacqueline\", \"Jada\", \"Jade\", \"Jaden\", \"Jake\",\n",
    "                       \"Jalen\", \"James\", \"Jared\", \"Jasmin\", \"Jasmine\", \"Jason\", \n",
    "                       \"Javier\", \"Jayden\", \"Jayla\", \"Jazmin\", \"Jeffrey\", \"Jenna\",\n",
    "                       \"Jennifer\", \"Jeremiah\", \"Jeremy\", \"Jesse\", \"Jessica\", \"Jesus\",\n",
    "                       \"Jillian\", \"Jocelyn\", \"Joel\", \"John\", \"Johnathan\", \"Jonah\",\n",
    "                       \"Jonathan\", \"Jordan\", \"Jordyn\", \"Jorge\", \"Jose\", \"Joseph\",\n",
    "                       \"Joshua\", \"Josiah\", \"Juan\", \"Julia\", \"Julian\", \"Juliana\",\n",
    "                       \"Justin\", \"Kaden\", \"Kaitlyn\", \"Kaleb\", \"Karen\", \"Karina\",\n",
    "                       \"Kate\", \"Katelyn\", \"Katherine\", \"Kathryn\", \"Katie\", \"Kayla\",\n",
    "                       \"Kaylee\", \"Kelly\", \"Kelsey\", \"Kendall\", \"Kennedy\", \"Kenneth\",\n",
    "                       \"Kevin\", \"Kiara\", \"Kimberly\", \"Kyle\", \"Kylee\", \"Kylie\",\n",
    "                       \"Landon\", \"Laura\", \"Lauren\", \"Layla\", \"Leah\", \"Leonardo\",\n",
    "                       \"Leslie\", \"Levi\", \"Liam\", \"Liliana\", \"Lillian\", \"Lilly\",\n",
    "                       \"Lily\", \"Lindsey\", \"Logan\", \"Lucas\", \"Lucy\", \"Luis\",\n",
    "                       \"Luke\", \"Lydia\", \"Mackenzie\", \"Madeline\", \"Madelyn\", \"Madison\",\n",
    "                       \"Makayla\", \"Makenzie\", \"Malachi\", \"Manuel\", \"Marco\", \"Marcus\",\n",
    "                       \"Margaret\", \"Maria\", \"Mariah\", \"Mario\", \"Marissa\", \"Mark\",\n",
    "                       \"Martin\", \"Mary\", \"Mason\", \"Matthew\", \"Max\", \"Maxwell\",\n",
    "                       \"Maya\", \"Mckenzie\", \"Megan\", \"Melanie\", \"Melissa\", \"Mia\",\n",
    "                       \"Micah\", \"Michael\", \"Michelle\", \"Miguel\", \"Mikayla\", \"Miranda\",\n",
    "                       \"Molly\", \"Morgan\", \"Mya\", \"Naomi\", \"Natalia\", \"Natalie\",\n",
    "                       \"Nathan\", \"Nathaniel\", \"Nevaeh\", \"Nicholas\", \"Nicolas\", \"Nicole\",\n",
    "                       \"Noah\", \"Nolan\", \"Oliver\", \"Olivia\", \"Omar\", \"Oscar\",\n",
    "                       \"Owen\", \"Paige\", \"Parker\", \"Patrick\", \"Paul\", \"Payton\",\n",
    "                       \"Peter\", \"Peyton\", \"Preston\", \"Rachel\", \"Raymond\", \"Reagan\",\n",
    "                       \"Rebecca\", \"Ricardo\", \"Richard\", \"Riley\", \"Robert\", \"Ruby\",\n",
    "                       \"Ryan\", \"Rylee\", \"Sabrina\", \"Sadie\", \"Samantha\", \"Samuel\",\n",
    "                       \"Sara\", \"Sarah\", \"Savannah\", \"Sean\", \"Sebastian\", \"Serenity\",\n",
    "                       \"Sergio\", \"Seth\", \"Shane\", \"Shawn\", \"Shelby\", \"Sierra\",\n",
    "                       \"Skylar\", \"Sofia\", \"Sophia\", \"Sophie\", \"Spencer\", \"Stephanie\",\n",
    "                       \"Stephen\", \"Steven\", \"Summer\", \"Sydney\", \"Tanner\", \"Taylor\", \n",
    "                       \"Thomas\", \"Tiffany\", \"Timothy\", \"Travis\", \"Trenton\", \"Trevor\",\n",
    "                       \"Trinity\", \"Tristan\", \"Tyler\", \"Valeria\", \"Valerie\", \"Vanessa\",\n",
    "                       \"Veronica\", \"Victor\", \"Victoria\", \"Vincent\", \"Wesley\", \"William\",\n",
    "                       \"Wyatt\", \"Xavier\", \"Zachary\", \"Zoe\", \"Zoey\"]\n",
    "        first_names_lower = set([name.lower() for name in first_names])\n",
    "\n",
    "        pronouns = [\"You\", \"You're\", \"Your\", \n",
    "                    \"She\", \"She's\", \"Her\", \"Hers\", \n",
    "                    \"He\", \"He's\", \"Him\", \"His\", \n",
    "                    \"They\", \"They're\", \"Them\", \"Their\", \"Theirs\"]\n",
    "        prounouns_lower = set([pronoun.lower() for pronoun in pronouns])\n",
    "\n",
    "        pattern = \"(?:http|ftp|https)://(?:[\\w_-]+(?:(?:\\.[\\w_-]+)+))(?:[\\w.,@?^=%&:/~+#-]*[\\w@?^=%&/~+#-])?\"\n",
    "        \n",
    "        final_output = []\n",
    "        for text in posts:\n",
    "            tokenized_text = tokenizer.tokenize(text)\n",
    "            weighted_dict = {\"length\": len(text), \n",
    "                             \"good\": len(prounouns_lower.intersection(tokenized_text)), \n",
    "                             \"bad\": (len(first_names_lower.intersection(tokenized_text)) \n",
    "                                     + text.count(\"@\") \n",
    "                                     + text.count(\"subtweet\") \n",
    "                                     + text.count(\"Subtweet\") \n",
    "                                     + len(re.findall(pattern, text)))}\n",
    "            final_output.append(weighted_dict)\n",
    "        return final_output"
   ]
  },
  {
   "cell_type": "markdown",
   "metadata": {},
   "source": [
    "#### Build the pipeline"
   ]
  },
  {
   "cell_type": "code",
   "execution_count": 7,
   "metadata": {},
   "outputs": [],
   "source": [
    "sentiment_pipeline = Pipeline([\n",
    "    (\"features\", FeatureUnion([\n",
    "        (\"ngram_tf_idf\", Pipeline([\n",
    "            (\"counts\", CountVectorizer(tokenizer=tokenizer.tokenize)),\n",
    "            (\"tf_idf\", TfidfTransformer())\n",
    "        ])),\n",
    "        (\"stats_vect\", Pipeline([\n",
    "            (\"tweet_stats\", TweetStats()),\n",
    "            (\"vect\", DictVectorizer()),\n",
    "        ])),\n",
    "    ])),\n",
    "    (\"classifier\", MultinomialNB())\n",
    "])"
   ]
  },
  {
   "cell_type": "markdown",
   "metadata": {},
   "source": [
    "#### Show the results"
   ]
  },
  {
   "cell_type": "code",
   "execution_count": 8,
   "metadata": {},
   "outputs": [],
   "source": [
    "sentiment_pipeline.fit(text_train, class_train)\n",
    "predictions = sentiment_pipeline.predict(text_test)"
   ]
  },
  {
   "cell_type": "code",
   "execution_count": 9,
   "metadata": {},
   "outputs": [
    {
     "name": "stdout",
     "output_type": "stream",
     "text": [
      "             precision    recall  f1-score   support\n",
      "\n",
      "   negative       0.93      0.88      0.90      1812\n",
      "   positive       0.89      0.93      0.91      1871\n",
      "\n",
      "avg / total       0.91      0.90      0.90      3683\n",
      "\n"
     ]
    }
   ],
   "source": [
    "print(classification_report(class_test, predictions))"
   ]
  },
  {
   "cell_type": "markdown",
   "metadata": {},
   "source": [
    "#### Define function for visualizing confusion matrices"
   ]
  },
  {
   "cell_type": "code",
   "execution_count": 10,
   "metadata": {},
   "outputs": [],
   "source": [
    "def plot_confusion_matrix(cm, classes, normalize=False,\n",
    "                          title='Confusion matrix', cmap=plt.cm.Blues):\n",
    "    if normalize:\n",
    "        cm = cm.astype('float') / cm.sum(axis=1)[:, np.newaxis]\n",
    "\n",
    "    plt.imshow(cm, interpolation='nearest', cmap=cmap)\n",
    "    plt.title(title)\n",
    "    plt.colorbar()\n",
    "    tick_marks = np.arange(len(classes))\n",
    "    plt.xticks(tick_marks, classes, rotation=45)\n",
    "    plt.yticks(tick_marks, classes)\n",
    "\n",
    "    fmt = '.2f' if normalize else 'd'\n",
    "    thresh = cm.max() / 2.\n",
    "    for i, j in itertools.product(range(cm.shape[0]), range(cm.shape[1])):\n",
    "        plt.text(j, i, format(cm[i, j], fmt),\n",
    "                 horizontalalignment=\"center\",\n",
    "                 color=\"white\" if cm[i, j] > thresh else \"black\")\n",
    "\n",
    "    plt.tight_layout()\n",
    "    plt.ylabel('True label')\n",
    "    plt.xlabel('Predicted label')"
   ]
  },
  {
   "cell_type": "markdown",
   "metadata": {},
   "source": [
    "#### Show the matrices"
   ]
  },
  {
   "cell_type": "code",
   "execution_count": 11,
   "metadata": {},
   "outputs": [
    {
     "data": {
      "image/png": "[encoded data removed]",
      "text/plain": [
       "<Figure size 432x288 with 2 Axes>"
      ]
     },
     "metadata": {},
     "output_type": "display_data"
    },
    {
     "data": {
      "image/png": "[encoded data removed]",
      "text/plain": [
       "<Figure size 432x288 with 2 Axes>"
      ]
     },
     "metadata": {},
     "output_type": "display_data"
    }
   ],
   "source": [
    "class_names = [\"negative\", \"positive\"]\n",
    "\n",
    "cnf_matrix = confusion_matrix(class_test, predictions)\n",
    "np.set_printoptions(precision=2)\n",
    "\n",
    "plt.figure()\n",
    "plot_confusion_matrix(cnf_matrix, classes=class_names,\n",
    "                      title='Confusion matrix, without normalization')\n",
    "\n",
    "plt.figure()\n",
    "plot_confusion_matrix(cnf_matrix, classes=class_names, normalize=True,\n",
    "                      title='Normalized confusion matrix')\n",
    "\n",
    "plt.show()"
   ]
  },
  {
   "cell_type": "markdown",
   "metadata": {},
   "source": [
    "#### Save the classifier for another time"
   ]
  },
  {
   "cell_type": "code",
   "execution_count": 12,
   "metadata": {},
   "outputs": [
    {
     "data": {
      "text/plain": [
       "['../data/non_subtweets_data/subtweets_classifier.pkl']"
      ]
     },
     "execution_count": 12,
     "metadata": {},
     "output_type": "execute_result"
    }
   ],
   "source": [
    "joblib.dump(sentiment_pipeline, \"../data/non_subtweets_data/subtweets_classifier.pkl\") "
   ]
  },
  {
   "cell_type": "markdown",
   "metadata": {},
   "source": [
    "#### Print tests for the classifier"
   ]
  },
  {
   "cell_type": "code",
   "execution_count": 13,
   "metadata": {},
   "outputs": [],
   "source": [
    "def tests_dataframe(tweets_dataframe, text_column=\"SentimentText\", sentiment_column=\"Sentiment\"):\n",
    "    predictions = sentiment_pipeline.predict_proba(tweets_dataframe[text_column])\n",
    "    negative_probability = predictions[:, 0].tolist()\n",
    "    positive_probability = predictions[:, 1].tolist()\n",
    "    return pd.DataFrame({\"tweet\": tweets_dataframe[text_column], \n",
    "                         \"sentiment_score\": tweets_dataframe[sentiment_column], \n",
    "                         \"subtweet_negative_probability\": negative_probability, \n",
    "                         \"subtweet_positive_probability\": positive_probability}).sort_values(by=\"subtweet_positive_probability\", \n",
    "                                                                                             ascending=False)"
   ]
  },
  {
   "cell_type": "markdown",
   "metadata": {},
   "source": [
    "#### Make up some tweets"
   ]
  },
  {
   "cell_type": "code",
   "execution_count": 14,
   "metadata": {},
   "outputs": [],
   "source": [
    "test_tweets = [\"Some people don't know their place.\", \n",
    "               \"Isn't it funny how some people don't know their place?\", \n",
    "               \"How come you people act like this?\", \n",
    "               \"You're such a nerd.\",\n",
    "               \"I love Noah, he's so cool.\",\n",
    "               \"Who the heck is Noah?\",\n",
    "               \"This is a @NoahSegalGould subtweet. Go check out https://segal-gould.com.\", \n",
    "               \"This is a subtweet.\", \n",
    "               \"Hey @jack!\", \n",
    "               \"Hey Jack!\",\n",
    "               \"http://www.google.com\"]"
   ]
  },
  {
   "cell_type": "markdown",
   "metadata": {},
   "source": [
    "#### Make a dataframe from the list"
   ]
  },
  {
   "cell_type": "code",
   "execution_count": 15,
   "metadata": {},
   "outputs": [],
   "source": [
    "test_tweets_df = pd.DataFrame({\"Tweet\": test_tweets, \"Sentiment\": [None]*len(test_tweets)})"
   ]
  },
  {
   "cell_type": "markdown",
   "metadata": {},
   "source": [
    "#### Print the tests"
   ]
  },
  {
   "cell_type": "code",
   "execution_count": 16,
   "metadata": {},
   "outputs": [
    {
     "data": {
      "text/html": [
       "<div>\n",
       "<style scoped>\n",
       "    .dataframe tbody tr th:only-of-type {\n",
       "        vertical-align: middle;\n",
       "    }\n",
       "\n",
       "    .dataframe tbody tr th {\n",
       "        vertical-align: top;\n",
       "    }\n",
       "\n",
       "    .dataframe thead th {\n",
       "        text-align: right;\n",
       "    }\n",
       "</style>\n",
       "<table border=\"1\" class=\"dataframe\">\n",
       "  <thead>\n",
       "    <tr style=\"text-align: right;\">\n",
       "      <th></th>\n",
       "      <th>sentiment_score</th>\n",
       "      <th>subtweet_negative_probability</th>\n",
       "      <th>subtweet_positive_probability</th>\n",
       "      <th>tweet</th>\n",
       "    </tr>\n",
       "  </thead>\n",
       "  <tbody>\n",
       "    <tr>\n",
       "      <th>1</th>\n",
       "      <td>None</td>\n",
       "      <td>0.055722</td>\n",
       "      <td>0.944278</td>\n",
       "      <td>Isn't it funny how some people don't know thei...</td>\n",
       "    </tr>\n",
       "    <tr>\n",
       "      <th>2</th>\n",
       "      <td>None</td>\n",
       "      <td>0.057134</td>\n",
       "      <td>0.942866</td>\n",
       "      <td>How come you people act like this?</td>\n",
       "    </tr>\n",
       "    <tr>\n",
       "      <th>0</th>\n",
       "      <td>None</td>\n",
       "      <td>0.064995</td>\n",
       "      <td>0.935005</td>\n",
       "      <td>Some people don't know their place.</td>\n",
       "    </tr>\n",
       "    <tr>\n",
       "      <th>3</th>\n",
       "      <td>None</td>\n",
       "      <td>0.414349</td>\n",
       "      <td>0.585651</td>\n",
       "      <td>You're such a nerd.</td>\n",
       "    </tr>\n",
       "    <tr>\n",
       "      <th>7</th>\n",
       "      <td>None</td>\n",
       "      <td>0.677703</td>\n",
       "      <td>0.322297</td>\n",
       "      <td>This is a subtweet.</td>\n",
       "    </tr>\n",
       "  </tbody>\n",
       "</table>\n",
       "</div>"
      ],
      "text/plain": [
       "  sentiment_score  subtweet_negative_probability  \\\n",
       "1            None                       0.055722   \n",
       "2            None                       0.057134   \n",
       "0            None                       0.064995   \n",
       "3            None                       0.414349   \n",
       "7            None                       0.677703   \n",
       "\n",
       "   subtweet_positive_probability  \\\n",
       "1                       0.944278   \n",
       "2                       0.942866   \n",
       "0                       0.935005   \n",
       "3                       0.585651   \n",
       "7                       0.322297   \n",
       "\n",
       "                                               tweet  \n",
       "1  Isn't it funny how some people don't know thei...  \n",
       "2                 How come you people act like this?  \n",
       "0                Some people don't know their place.  \n",
       "3                                You're such a nerd.  \n",
       "7                                This is a subtweet.  "
      ]
     },
     "execution_count": 16,
     "metadata": {},
     "output_type": "execute_result"
    }
   ],
   "source": [
    "tests_dataframe(test_tweets_df, text_column=\"Tweet\", sentiment_column=\"Sentiment\").head()"
   ]
  },
  {
   "cell_type": "markdown",
   "metadata": {},
   "source": [
    "#### Test on actual tweets"
   ]
  },
  {
   "cell_type": "code",
   "execution_count": 17,
   "metadata": {},
   "outputs": [
    {
     "name": "stderr",
     "output_type": "stream",
     "text": [
      "b'Skipping line 8836: expected 4 fields, saw 5\\n'\n",
      "b'Skipping line 535882: expected 4 fields, saw 7\\n'\n"
     ]
    }
   ],
   "source": [
    "naji_df = pd.read_csv(\"../data/non_subtweets_data/naji_data.csv\", error_bad_lines=False)"
   ]
  },
  {
   "cell_type": "markdown",
   "metadata": {},
   "source": [
    "#### Repair some leftover HTML"
   ]
  },
  {
   "cell_type": "code",
   "execution_count": 18,
   "metadata": {},
   "outputs": [],
   "source": [
    "naji_df[\"SentimentText\"] = naji_df[\"SentimentText\"].str.replace(\"&quot;\", \"\\\"\")\n",
    "naji_df[\"SentimentText\"] = naji_df[\"SentimentText\"].str.replace(\"&amp;\", \"&\")\n",
    "naji_df[\"SentimentText\"] = naji_df[\"SentimentText\"].str.replace(\"&gt;\", \">\")\n",
    "naji_df[\"SentimentText\"] = naji_df[\"SentimentText\"].str.replace(\"&lt;\", \"<\")"
   ]
  },
  {
   "cell_type": "markdown",
   "metadata": {},
   "source": [
    "#### Remove rows with non-English"
   ]
  },
  {
   "cell_type": "code",
   "execution_count": 19,
   "metadata": {},
   "outputs": [],
   "source": [
    "def is_english(s):\n",
    "    return all(ord(char) < 128 for char in s)"
   ]
  },
  {
   "cell_type": "code",
   "execution_count": 20,
   "metadata": {},
   "outputs": [],
   "source": [
    "naji_df = naji_df[naji_df[\"SentimentText\"].map(is_english)]"
   ]
  },
  {
   "cell_type": "markdown",
   "metadata": {},
   "source": [
    "#### Show the length of the dataset"
   ]
  },
  {
   "cell_type": "code",
   "execution_count": 21,
   "metadata": {},
   "outputs": [
    {
     "data": {
      "text/plain": [
       "1564156"
      ]
     },
     "execution_count": 21,
     "metadata": {},
     "output_type": "execute_result"
    }
   ],
   "source": [
    "len(naji_df)"
   ]
  },
  {
   "cell_type": "markdown",
   "metadata": {},
   "source": [
    "#### Use randomly selected 250K rows from dataset"
   ]
  },
  {
   "cell_type": "code",
   "execution_count": 22,
   "metadata": {},
   "outputs": [],
   "source": [
    "naji_df = naji_df.sample(n=250000).reset_index(drop=True)"
   ]
  },
  {
   "cell_type": "markdown",
   "metadata": {},
   "source": [
    "#### Print and time the tests"
   ]
  },
  {
   "cell_type": "code",
   "execution_count": 23,
   "metadata": {
    "scrolled": false
   },
   "outputs": [
    {
     "name": "stdout",
     "output_type": "stream",
     "text": [
      "CPU times: user 53.4 s, sys: 1.18 s, total: 54.6 s\n",
      "Wall time: 1min 4s\n"
     ]
    }
   ],
   "source": [
    "%%time\n",
    "naji_df = tests_dataframe(naji_df)"
   ]
  },
  {
   "cell_type": "code",
   "execution_count": 24,
   "metadata": {},
   "outputs": [],
   "source": [
    "naji_df.to_csv(\"../data/non_subtweets_data/naji_tests.csv\")"
   ]
  },
  {
   "cell_type": "code",
   "execution_count": 25,
   "metadata": {},
   "outputs": [
    {
     "data": {
      "text/html": [
       "<div>\n",
       "<style scoped>\n",
       "    .dataframe tbody tr th:only-of-type {\n",
       "        vertical-align: middle;\n",
       "    }\n",
       "\n",
       "    .dataframe tbody tr th {\n",
       "        vertical-align: top;\n",
       "    }\n",
       "\n",
       "    .dataframe thead th {\n",
       "        text-align: right;\n",
       "    }\n",
       "</style>\n",
       "<table border=\"1\" class=\"dataframe\">\n",
       "  <thead>\n",
       "    <tr style=\"text-align: right;\">\n",
       "      <th></th>\n",
       "      <th>sentiment_score</th>\n",
       "      <th>subtweet_negative_probability</th>\n",
       "      <th>subtweet_positive_probability</th>\n",
       "      <th>tweet</th>\n",
       "    </tr>\n",
       "  </thead>\n",
       "  <tbody>\n",
       "    <tr>\n",
       "      <th>223087</th>\n",
       "      <td>0</td>\n",
       "      <td>0.008835</td>\n",
       "      <td>0.991165</td>\n",
       "      <td>I hate when boys whine bc you don't text them ...</td>\n",
       "    </tr>\n",
       "    <tr>\n",
       "      <th>197722</th>\n",
       "      <td>0</td>\n",
       "      <td>0.010437</td>\n",
       "      <td>0.989563</td>\n",
       "      <td>Why To People Hate Someone They Dont Know? I C...</td>\n",
       "    </tr>\n",
       "    <tr>\n",
       "      <th>12500</th>\n",
       "      <td>1</td>\n",
       "      <td>0.012221</td>\n",
       "      <td>0.987779</td>\n",
       "      <td>Why do most men put their hand in their trouse...</td>\n",
       "    </tr>\n",
       "    <tr>\n",
       "      <th>84504</th>\n",
       "      <td>0</td>\n",
       "      <td>0.012626</td>\n",
       "      <td>0.987374</td>\n",
       "      <td>I hate it when you like a guy and they have a ...</td>\n",
       "    </tr>\n",
       "    <tr>\n",
       "      <th>165007</th>\n",
       "      <td>0</td>\n",
       "      <td>0.013526</td>\n",
       "      <td>0.986474</td>\n",
       "      <td>Don't you just hate it when you find out that ...</td>\n",
       "    </tr>\n",
       "  </tbody>\n",
       "</table>\n",
       "</div>"
      ],
      "text/plain": [
       "        sentiment_score  subtweet_negative_probability  \\\n",
       "223087                0                       0.008835   \n",
       "197722                0                       0.010437   \n",
       "12500                 1                       0.012221   \n",
       "84504                 0                       0.012626   \n",
       "165007                0                       0.013526   \n",
       "\n",
       "        subtweet_positive_probability  \\\n",
       "223087                       0.991165   \n",
       "197722                       0.989563   \n",
       "12500                        0.987779   \n",
       "84504                        0.987374   \n",
       "165007                       0.986474   \n",
       "\n",
       "                                                    tweet  \n",
       "223087  I hate when boys whine bc you don't text them ...  \n",
       "197722  Why To People Hate Someone They Dont Know? I C...  \n",
       "12500   Why do most men put their hand in their trouse...  \n",
       "84504   I hate it when you like a guy and they have a ...  \n",
       "165007  Don't you just hate it when you find out that ...  "
      ]
     },
     "execution_count": 25,
     "metadata": {},
     "output_type": "execute_result"
    }
   ],
   "source": [
    "naji_df.head()"
   ]
  },
  {
   "cell_type": "markdown",
   "metadata": {},
   "source": [
    "#### Tests on friends' tweets"
   ]
  },
  {
   "cell_type": "code",
   "execution_count": 26,
   "metadata": {},
   "outputs": [],
   "source": [
    "aaron_df = pd.read_csv(\"../data/friends_tweets/akrapf96_tweets.csv\").dropna()\n",
    "aaron_df[\"Sentiment\"] = None"
   ]
  },
  {
   "cell_type": "code",
   "execution_count": 27,
   "metadata": {
    "scrolled": true
   },
   "outputs": [
    {
     "name": "stdout",
     "output_type": "stream",
     "text": [
      "CPU times: user 771 ms, sys: 21.7 ms, total: 793 ms\n",
      "Wall time: 1 s\n"
     ]
    }
   ],
   "source": [
    "%%time\n",
    "aaron_df = tests_dataframe(aaron_df, text_column=\"Text\", sentiment_column=\"Sentiment\")"
   ]
  },
  {
   "cell_type": "code",
   "execution_count": 28,
   "metadata": {},
   "outputs": [],
   "source": [
    "aaron_df.to_csv(\"../data/friends_tweets/akrapf96_tests.csv\")"
   ]
  },
  {
   "cell_type": "code",
   "execution_count": 29,
   "metadata": {},
   "outputs": [
    {
     "data": {
      "text/html": [
       "<div>\n",
       "<style scoped>\n",
       "    .dataframe tbody tr th:only-of-type {\n",
       "        vertical-align: middle;\n",
       "    }\n",
       "\n",
       "    .dataframe tbody tr th {\n",
       "        vertical-align: top;\n",
       "    }\n",
       "\n",
       "    .dataframe thead th {\n",
       "        text-align: right;\n",
       "    }\n",
       "</style>\n",
       "<table border=\"1\" class=\"dataframe\">\n",
       "  <thead>\n",
       "    <tr style=\"text-align: right;\">\n",
       "      <th></th>\n",
       "      <th>sentiment_score</th>\n",
       "      <th>subtweet_negative_probability</th>\n",
       "      <th>subtweet_positive_probability</th>\n",
       "      <th>tweet</th>\n",
       "    </tr>\n",
       "  </thead>\n",
       "  <tbody>\n",
       "    <tr>\n",
       "      <th>2893</th>\n",
       "      <td>None</td>\n",
       "      <td>0.011867</td>\n",
       "      <td>0.988133</td>\n",
       "      <td>I love arguing with conservative bigots who do...</td>\n",
       "    </tr>\n",
       "    <tr>\n",
       "      <th>225</th>\n",
       "      <td>None</td>\n",
       "      <td>0.017103</td>\n",
       "      <td>0.982897</td>\n",
       "      <td>Can people stop putting eggs in their dog's mo...</td>\n",
       "    </tr>\n",
       "    <tr>\n",
       "      <th>3221</th>\n",
       "      <td>None</td>\n",
       "      <td>0.019852</td>\n",
       "      <td>0.980148</td>\n",
       "      <td>I still don't understand why my brother feels ...</td>\n",
       "    </tr>\n",
       "    <tr>\n",
       "      <th>1756</th>\n",
       "      <td>None</td>\n",
       "      <td>0.020494</td>\n",
       "      <td>0.979506</td>\n",
       "      <td>fuck you and your anime</td>\n",
       "    </tr>\n",
       "    <tr>\n",
       "      <th>3236</th>\n",
       "      <td>None</td>\n",
       "      <td>0.020511</td>\n",
       "      <td>0.979489</td>\n",
       "      <td>What will straight cis people do now with thei...</td>\n",
       "    </tr>\n",
       "  </tbody>\n",
       "</table>\n",
       "</div>"
      ],
      "text/plain": [
       "     sentiment_score  subtweet_negative_probability  \\\n",
       "2893            None                       0.011867   \n",
       "225             None                       0.017103   \n",
       "3221            None                       0.019852   \n",
       "1756            None                       0.020494   \n",
       "3236            None                       0.020511   \n",
       "\n",
       "      subtweet_positive_probability  \\\n",
       "2893                       0.988133   \n",
       "225                        0.982897   \n",
       "3221                       0.980148   \n",
       "1756                       0.979506   \n",
       "3236                       0.979489   \n",
       "\n",
       "                                                  tweet  \n",
       "2893  I love arguing with conservative bigots who do...  \n",
       "225   Can people stop putting eggs in their dog's mo...  \n",
       "3221  I still don't understand why my brother feels ...  \n",
       "1756                            fuck you and your anime  \n",
       "3236  What will straight cis people do now with thei...  "
      ]
     },
     "execution_count": 29,
     "metadata": {},
     "output_type": "execute_result"
    }
   ],
   "source": [
    "aaron_df.head()"
   ]
  },
  {
   "cell_type": "code",
   "execution_count": 30,
   "metadata": {},
   "outputs": [],
   "source": [
    "julia_df = pd.read_csv(\"../data/friends_tweets/juliaeberry_tweets.csv\").dropna()\n",
    "julia_df[\"Sentiment\"] = None"
   ]
  },
  {
   "cell_type": "code",
   "execution_count": 31,
   "metadata": {
    "scrolled": false
   },
   "outputs": [
    {
     "name": "stdout",
     "output_type": "stream",
     "text": [
      "CPU times: user 1.84 s, sys: 35.7 ms, total: 1.87 s\n",
      "Wall time: 2.34 s\n"
     ]
    }
   ],
   "source": [
    "%%time\n",
    "julia_df = tests_dataframe(julia_df, text_column=\"Text\", sentiment_column=\"Sentiment\")"
   ]
  },
  {
   "cell_type": "code",
   "execution_count": 32,
   "metadata": {},
   "outputs": [],
   "source": [
    "julia_df.to_csv(\"../data/friends_tweets/juliaeberry_tests.csv\")"
   ]
  },
  {
   "cell_type": "code",
   "execution_count": 33,
   "metadata": {},
   "outputs": [
    {
     "data": {
      "text/html": [
       "<div>\n",
       "<style scoped>\n",
       "    .dataframe tbody tr th:only-of-type {\n",
       "        vertical-align: middle;\n",
       "    }\n",
       "\n",
       "    .dataframe tbody tr th {\n",
       "        vertical-align: top;\n",
       "    }\n",
       "\n",
       "    .dataframe thead th {\n",
       "        text-align: right;\n",
       "    }\n",
       "</style>\n",
       "<table border=\"1\" class=\"dataframe\">\n",
       "  <thead>\n",
       "    <tr style=\"text-align: right;\">\n",
       "      <th></th>\n",
       "      <th>sentiment_score</th>\n",
       "      <th>subtweet_negative_probability</th>\n",
       "      <th>subtweet_positive_probability</th>\n",
       "      <th>tweet</th>\n",
       "    </tr>\n",
       "  </thead>\n",
       "  <tbody>\n",
       "    <tr>\n",
       "      <th>773</th>\n",
       "      <td>None</td>\n",
       "      <td>0.005416</td>\n",
       "      <td>0.994584</td>\n",
       "      <td>\"I do feel grateful for the fact that we have ...</td>\n",
       "    </tr>\n",
       "    <tr>\n",
       "      <th>1138</th>\n",
       "      <td>None</td>\n",
       "      <td>0.006586</td>\n",
       "      <td>0.993414</td>\n",
       "      <td>\"what a COINcidence that you're here,\" drawls ...</td>\n",
       "    </tr>\n",
       "    <tr>\n",
       "      <th>3375</th>\n",
       "      <td>None</td>\n",
       "      <td>0.009707</td>\n",
       "      <td>0.990293</td>\n",
       "      <td>\"let me ask u this, who is the number one enem...</td>\n",
       "    </tr>\n",
       "    <tr>\n",
       "      <th>902</th>\n",
       "      <td>None</td>\n",
       "      <td>0.010070</td>\n",
       "      <td>0.989930</td>\n",
       "      <td>tbh if they don't start publically dating in a...</td>\n",
       "    </tr>\n",
       "    <tr>\n",
       "      <th>663</th>\n",
       "      <td>None</td>\n",
       "      <td>0.010464</td>\n",
       "      <td>0.989536</td>\n",
       "      <td>even if you are committed to cheating how can ...</td>\n",
       "    </tr>\n",
       "  </tbody>\n",
       "</table>\n",
       "</div>"
      ],
      "text/plain": [
       "     sentiment_score  subtweet_negative_probability  \\\n",
       "773             None                       0.005416   \n",
       "1138            None                       0.006586   \n",
       "3375            None                       0.009707   \n",
       "902             None                       0.010070   \n",
       "663             None                       0.010464   \n",
       "\n",
       "      subtweet_positive_probability  \\\n",
       "773                        0.994584   \n",
       "1138                       0.993414   \n",
       "3375                       0.990293   \n",
       "902                        0.989930   \n",
       "663                        0.989536   \n",
       "\n",
       "                                                  tweet  \n",
       "773   \"I do feel grateful for the fact that we have ...  \n",
       "1138  \"what a COINcidence that you're here,\" drawls ...  \n",
       "3375  \"let me ask u this, who is the number one enem...  \n",
       "902   tbh if they don't start publically dating in a...  \n",
       "663   even if you are committed to cheating how can ...  "
      ]
     },
     "execution_count": 33,
     "metadata": {},
     "output_type": "execute_result"
    }
   ],
   "source": [
    "julia_df.head()"
   ]
  },
  {
   "cell_type": "code",
   "execution_count": 34,
   "metadata": {},
   "outputs": [],
   "source": [
    "zoe_df = pd.read_csv(\"../data/friends_tweets/zoeterhune_tweets.csv\").dropna()\n",
    "zoe_df[\"Sentiment\"] = None"
   ]
  },
  {
   "cell_type": "code",
   "execution_count": 35,
   "metadata": {},
   "outputs": [
    {
     "name": "stdout",
     "output_type": "stream",
     "text": [
      "CPU times: user 253 ms, sys: 4.61 ms, total: 257 ms\n",
      "Wall time: 271 ms\n"
     ]
    }
   ],
   "source": [
    "%%time\n",
    "zoe_df = tests_dataframe(zoe_df, text_column=\"Text\", sentiment_column=\"Sentiment\")"
   ]
  },
  {
   "cell_type": "code",
   "execution_count": 36,
   "metadata": {},
   "outputs": [],
   "source": [
    "zoe_df.to_csv(\"../data/friends_tweets/zoeterhune_tests.csv\")"
   ]
  },
  {
   "cell_type": "code",
   "execution_count": 37,
   "metadata": {},
   "outputs": [
    {
     "data": {
      "text/html": [
       "<div>\n",
       "<style scoped>\n",
       "    .dataframe tbody tr th:only-of-type {\n",
       "        vertical-align: middle;\n",
       "    }\n",
       "\n",
       "    .dataframe tbody tr th {\n",
       "        vertical-align: top;\n",
       "    }\n",
       "\n",
       "    .dataframe thead th {\n",
       "        text-align: right;\n",
       "    }\n",
       "</style>\n",
       "<table border=\"1\" class=\"dataframe\">\n",
       "  <thead>\n",
       "    <tr style=\"text-align: right;\">\n",
       "      <th></th>\n",
       "      <th>sentiment_score</th>\n",
       "      <th>subtweet_negative_probability</th>\n",
       "      <th>subtweet_positive_probability</th>\n",
       "      <th>tweet</th>\n",
       "    </tr>\n",
       "  </thead>\n",
       "  <tbody>\n",
       "    <tr>\n",
       "      <th>1304</th>\n",
       "      <td>None</td>\n",
       "      <td>0.003125</td>\n",
       "      <td>0.996875</td>\n",
       "      <td>maybe girls don’t “go for nice guys” bc they’r...</td>\n",
       "    </tr>\n",
       "    <tr>\n",
       "      <th>277</th>\n",
       "      <td>None</td>\n",
       "      <td>0.006470</td>\n",
       "      <td>0.993530</td>\n",
       "      <td>ok so people from my old school keep lamenting...</td>\n",
       "    </tr>\n",
       "    <tr>\n",
       "      <th>318</th>\n",
       "      <td>None</td>\n",
       "      <td>0.007391</td>\n",
       "      <td>0.992609</td>\n",
       "      <td>bc she’s pURDY</td>\n",
       "    </tr>\n",
       "    <tr>\n",
       "      <th>1186</th>\n",
       "      <td>None</td>\n",
       "      <td>0.007458</td>\n",
       "      <td>0.992542</td>\n",
       "      <td>no offense but what kind of school doesn’t let...</td>\n",
       "    </tr>\n",
       "    <tr>\n",
       "      <th>1195</th>\n",
       "      <td>None</td>\n",
       "      <td>0.008673</td>\n",
       "      <td>0.991327</td>\n",
       "      <td>when men get upset over women saying “when men...</td>\n",
       "    </tr>\n",
       "  </tbody>\n",
       "</table>\n",
       "</div>"
      ],
      "text/plain": [
       "     sentiment_score  subtweet_negative_probability  \\\n",
       "1304            None                       0.003125   \n",
       "277             None                       0.006470   \n",
       "318             None                       0.007391   \n",
       "1186            None                       0.007458   \n",
       "1195            None                       0.008673   \n",
       "\n",
       "      subtweet_positive_probability  \\\n",
       "1304                       0.996875   \n",
       "277                        0.993530   \n",
       "318                        0.992609   \n",
       "1186                       0.992542   \n",
       "1195                       0.991327   \n",
       "\n",
       "                                                  tweet  \n",
       "1304  maybe girls don’t “go for nice guys” bc they’r...  \n",
       "277   ok so people from my old school keep lamenting...  \n",
       "318                                      bc she’s pURDY  \n",
       "1186  no offense but what kind of school doesn’t let...  \n",
       "1195  when men get upset over women saying “when men...  "
      ]
     },
     "execution_count": 37,
     "metadata": {},
     "output_type": "execute_result"
    }
   ],
   "source": [
    "zoe_df.head()"
   ]
  },
  {
   "cell_type": "code",
   "execution_count": 38,
   "metadata": {},
   "outputs": [],
   "source": [
    "noah_df = pd.read_csv(\"../data/friends_tweets/noahsegalgould_tweets.csv\").dropna()\n",
    "noah_df[\"Sentiment\"] = None"
   ]
  },
  {
   "cell_type": "code",
   "execution_count": 39,
   "metadata": {
    "scrolled": false
   },
   "outputs": [
    {
     "name": "stdout",
     "output_type": "stream",
     "text": [
      "CPU times: user 822 ms, sys: 13.3 ms, total: 836 ms\n",
      "Wall time: 876 ms\n"
     ]
    }
   ],
   "source": [
    "%%time\n",
    "noah_df = tests_dataframe(noah_df, text_column=\"Text\", sentiment_column=\"Sentiment\")"
   ]
  },
  {
   "cell_type": "code",
   "execution_count": 40,
   "metadata": {},
   "outputs": [],
   "source": [
    "noah_df.to_csv(\"../data/friends_tweets/noahsegalgould_tests.csv\")"
   ]
  },
  {
   "cell_type": "code",
   "execution_count": 41,
   "metadata": {},
   "outputs": [
    {
     "data": {
      "text/html": [
       "<div>\n",
       "<style scoped>\n",
       "    .dataframe tbody tr th:only-of-type {\n",
       "        vertical-align: middle;\n",
       "    }\n",
       "\n",
       "    .dataframe tbody tr th {\n",
       "        vertical-align: top;\n",
       "    }\n",
       "\n",
       "    .dataframe thead th {\n",
       "        text-align: right;\n",
       "    }\n",
       "</style>\n",
       "<table border=\"1\" class=\"dataframe\">\n",
       "  <thead>\n",
       "    <tr style=\"text-align: right;\">\n",
       "      <th></th>\n",
       "      <th>sentiment_score</th>\n",
       "      <th>subtweet_negative_probability</th>\n",
       "      <th>subtweet_positive_probability</th>\n",
       "      <th>tweet</th>\n",
       "    </tr>\n",
       "  </thead>\n",
       "  <tbody>\n",
       "    <tr>\n",
       "      <th>877</th>\n",
       "      <td>None</td>\n",
       "      <td>0.000505</td>\n",
       "      <td>0.999495</td>\n",
       "      <td>I guess I think it’s foolish to rely on any we...</td>\n",
       "    </tr>\n",
       "    <tr>\n",
       "      <th>607</th>\n",
       "      <td>None</td>\n",
       "      <td>0.001313</td>\n",
       "      <td>0.998687</td>\n",
       "      <td>I don’t fuck with the symmetrarians</td>\n",
       "    </tr>\n",
       "    <tr>\n",
       "      <th>105</th>\n",
       "      <td>None</td>\n",
       "      <td>0.001888</td>\n",
       "      <td>0.998112</td>\n",
       "      <td>In a target parking lot, I see him: he’s carry...</td>\n",
       "    </tr>\n",
       "    <tr>\n",
       "      <th>608</th>\n",
       "      <td>None</td>\n",
       "      <td>0.002113</td>\n",
       "      <td>0.997887</td>\n",
       "      <td>If your face is symmetrical I don’t like you</td>\n",
       "    </tr>\n",
       "    <tr>\n",
       "      <th>1503</th>\n",
       "      <td>None</td>\n",
       "      <td>0.003446</td>\n",
       "      <td>0.996554</td>\n",
       "      <td>Honestly I don’t remember</td>\n",
       "    </tr>\n",
       "  </tbody>\n",
       "</table>\n",
       "</div>"
      ],
      "text/plain": [
       "     sentiment_score  subtweet_negative_probability  \\\n",
       "877             None                       0.000505   \n",
       "607             None                       0.001313   \n",
       "105             None                       0.001888   \n",
       "608             None                       0.002113   \n",
       "1503            None                       0.003446   \n",
       "\n",
       "      subtweet_positive_probability  \\\n",
       "877                        0.999495   \n",
       "607                        0.998687   \n",
       "105                        0.998112   \n",
       "608                        0.997887   \n",
       "1503                       0.996554   \n",
       "\n",
       "                                                  tweet  \n",
       "877   I guess I think it’s foolish to rely on any we...  \n",
       "607                 I don’t fuck with the symmetrarians  \n",
       "105   In a target parking lot, I see him: he’s carry...  \n",
       "608        If your face is symmetrical I don’t like you  \n",
       "1503                         Honestly I don’t remember   "
      ]
     },
     "execution_count": 41,
     "metadata": {},
     "output_type": "execute_result"
    }
   ],
   "source": [
    "noah_df.head()"
   ]
  },
  {
   "cell_type": "markdown",
   "metadata": {},
   "source": [
    "#### Test it in realtime\n",
    "#### Define some useful variables for later"
   ]
  },
  {
   "cell_type": "code",
   "execution_count": 42,
   "metadata": {},
   "outputs": [],
   "source": [
    "THRESHOLD = 0.5\n",
    "COLUMNS = [\"tweet\", \"screen_name\", \"time\", \n",
    "           \"subtweet_probability\", \n",
    "           \"sentiment_polarity\", \n",
    "           \"sentiment_objectivity\"]\n",
    "DURATION = 600 # seconds"
   ]
  },
  {
   "cell_type": "markdown",
   "metadata": {},
   "source": [
    "#### Load Twitter API credentials"
   ]
  },
  {
   "cell_type": "code",
   "execution_count": 43,
   "metadata": {},
   "outputs": [],
   "source": [
    "consumer_key, consumer_secret, access_token, access_token_secret = open(\"credentials.txt\").read().split(\"\\n\")"
   ]
  },
  {
   "cell_type": "markdown",
   "metadata": {},
   "source": [
    "#### Prepare the final dataframe"
   ]
  },
  {
   "cell_type": "code",
   "execution_count": 44,
   "metadata": {},
   "outputs": [],
   "source": [
    "subtweets_df = pd.DataFrame(columns=COLUMNS)"
   ]
  },
  {
   "cell_type": "markdown",
   "metadata": {},
   "source": [
    "#### Create a custom class for streaming subtweets"
   ]
  },
  {
   "cell_type": "code",
   "execution_count": 45,
   "metadata": {},
   "outputs": [],
   "source": [
    "class StreamListener(tweepy.StreamListener):\n",
    "    def on_status(self, status):\n",
    "        text = status.text\n",
    "        #negative_probability = sentiment_pipeline.predict_proba([text]).tolist()[0][0]\n",
    "        positive_probability = sentiment_pipeline.predict_proba([text]).tolist()[0][1]\n",
    "        if positive_probability >= THRESHOLD:\n",
    "            sentiment = TextBlob(text).sentiment\n",
    "            row = [text, \n",
    "                   status.user.screen_name, \n",
    "                   status.created_at, \n",
    "                   positive_probability, \n",
    "                   sentiment.polarity, \n",
    "                   sentiment.objectivity]\n",
    "            pd.Series(row) # Show that row\n",
    "            subtweets_df.append(pd.DataFrame(row, columns=COLUMNS))\n",
    "            return row"
   ]
  },
  {
   "cell_type": "markdown",
   "metadata": {},
   "source": [
    "#### Use the API credentials to connect to the API"
   ]
  },
  {
   "cell_type": "code",
   "execution_count": 46,
   "metadata": {},
   "outputs": [],
   "source": [
    "auth = tweepy.OAuthHandler(consumer_key, consumer_secret)\n",
    "auth.set_access_token(access_token, access_token_secret)\n",
    "api = tweepy.API(auth)"
   ]
  },
  {
   "cell_type": "markdown",
   "metadata": {},
   "source": [
    "#### Create a list of all my followers' account IDs"
   ]
  },
  {
   "cell_type": "code",
   "execution_count": 47,
   "metadata": {},
   "outputs": [],
   "source": [
    "my_followers_int = list(set(list(tweepy.Cursor(api.followers_ids, screen_name=\"NoahSegalGould\").pages())[0]))\n",
    "my_followers_str = [str(i) for i in my_followers_int]"
   ]
  },
  {
   "cell_type": "markdown",
   "metadata": {},
   "source": [
    "#### Instantiate the listener"
   ]
  },
  {
   "cell_type": "code",
   "execution_count": 48,
   "metadata": {},
   "outputs": [],
   "source": [
    "stream_listener = StreamListener()\n",
    "stream = tweepy.Stream(auth=api.auth, listener=stream_listener)"
   ]
  },
  {
   "cell_type": "markdown",
   "metadata": {},
   "source": [
    "#### Start the stream asynchronously, and stop it after some duration of seconds"
   ]
  },
  {
   "cell_type": "code",
   "execution_count": 49,
   "metadata": {},
   "outputs": [
    {
     "name": "stdout",
     "output_type": "stream",
     "text": [
      "Streaming!\n",
      "CPU times: user 51.4 ms, sys: 32.6 ms, total: 84 ms\n",
      "Wall time: 10min\n"
     ]
    }
   ],
   "source": [
    "%%time\n",
    "stream.filter(follow=my_followers_str, async=True)\n",
    "print(\"Streaming!\")\n",
    "sleep(DURATION)\n",
    "stream.disconnect()"
   ]
  },
  {
   "cell_type": "markdown",
   "metadata": {},
   "source": [
    "#### Save the dataframe"
   ]
  },
  {
   "cell_type": "code",
   "execution_count": 50,
   "metadata": {},
   "outputs": [],
   "source": [
    "subtweets_df.to_csv(\"../data/non_subtweets_data/live_data.csv\")"
   ]
  },
  {
   "cell_type": "markdown",
   "metadata": {},
   "source": [
    "#### Show the dataframe"
   ]
  },
  {
   "cell_type": "code",
   "execution_count": 51,
   "metadata": {},
   "outputs": [
    {
     "data": {
      "text/html": [
       "<div>\n",
       "<style scoped>\n",
       "    .dataframe tbody tr th:only-of-type {\n",
       "        vertical-align: middle;\n",
       "    }\n",
       "\n",
       "    .dataframe tbody tr th {\n",
       "        vertical-align: top;\n",
       "    }\n",
       "\n",
       "    .dataframe thead th {\n",
       "        text-align: right;\n",
       "    }\n",
       "</style>\n",
       "<table border=\"1\" class=\"dataframe\">\n",
       "  <thead>\n",
       "    <tr style=\"text-align: right;\">\n",
       "      <th></th>\n",
       "      <th>tweet</th>\n",
       "      <th>screen_name</th>\n",
       "      <th>time</th>\n",
       "      <th>subtweet_probability</th>\n",
       "      <th>sentiment_polarity</th>\n",
       "      <th>sentiment_objectivity</th>\n",
       "    </tr>\n",
       "  </thead>\n",
       "  <tbody>\n",
       "  </tbody>\n",
       "</table>\n",
       "</div>"
      ],
      "text/plain": [
       "Empty DataFrame\n",
       "Columns: [tweet, screen_name, time, subtweet_probability, sentiment_polarity, sentiment_objectivity]\n",
       "Index: []"
      ]
     },
     "execution_count": 51,
     "metadata": {},
     "output_type": "execute_result"
    }
   ],
   "source": [
    "subtweets_df"
   ]
  }
 ],
 "metadata": {
  "kernelspec": {
   "display_name": "Python 3",
   "language": "python",
   "name": "python3"
  },
  "language_info": {
   "codemirror_mode": {
    "name": "ipython",
    "version": 3
   },
   "file_extension": ".py",
   "mimetype": "text/x-python",
   "name": "python",
   "nbconvert_exporter": "python",
   "pygments_lexer": "ipython3",
   "version": "3.6.4"
  }
 },
 "nbformat": 4,
 "nbformat_minor": 2
}
