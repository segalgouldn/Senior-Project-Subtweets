{
 "cells": [
  {
   "cell_type": "markdown",
   "metadata": {},
   "source": [
    "## Using Scikit-Learn and NLTK to build a Naive Bayes Classifier that identifies subtweets"
   ]
  },
  {
   "cell_type": "markdown",
   "metadata": {},
   "source": [
    "### Goals:\n",
    "#### Use Scikit-Learn pipelines to define special features to add to a Naive Bayes Classifier\n",
    "#### Evaluate the accuracy of the classifier\n",
    "#### Maybe do it live, on a Twitter API stream"
   ]
  },
  {
   "cell_type": "markdown",
   "metadata": {},
   "source": [
    "### Methods:\n",
    "#### Use the training set I made before"
   ]
  },
  {
   "cell_type": "markdown",
   "metadata": {},
   "source": [
    "#### Import libraries"
   ]
  },
  {
   "cell_type": "code",
   "execution_count": 1,
   "metadata": {},
   "outputs": [],
   "source": [
    "%matplotlib inline"
   ]
  },
  {
   "cell_type": "code",
   "execution_count": 2,
   "metadata": {},
   "outputs": [],
   "source": [
    "from sklearn.base import TransformerMixin, BaseEstimator\n",
    "from sklearn.feature_extraction import DictVectorizer\n",
    "from sklearn.feature_extraction.text import CountVectorizer, TfidfTransformer\n",
    "from sklearn.naive_bayes import MultinomialNB\n",
    "from sklearn.pipeline import Pipeline, FeatureUnion\n",
    "from sklearn.model_selection import train_test_split\n",
    "from sklearn.metrics import classification_report, confusion_matrix\n",
    "from sklearn.externals import joblib\n",
    "import matplotlib.pyplot as plt\n",
    "import pandas as pd\n",
    "import numpy as np\n",
    "import itertools\n",
    "import nltk\n",
    "import re"
   ]
  },
  {
   "cell_type": "markdown",
   "metadata": {},
   "source": [
    "#### Load the CSV"
   ]
  },
  {
   "cell_type": "code",
   "execution_count": 3,
   "metadata": {},
   "outputs": [],
   "source": [
    "df = pd.read_csv(\"../data/training_data/Subtweets_Classifier_Training_Data.csv\")"
   ]
  },
  {
   "cell_type": "markdown",
   "metadata": {},
   "source": [
    "#### Create training and test sets from the single training set I made before"
   ]
  },
  {
   "cell_type": "code",
   "execution_count": 4,
   "metadata": {},
   "outputs": [],
   "source": [
    "text_train, text_test, class_train, class_test = train_test_split(df.alleged_subtweet.tolist(), \n",
    "                                                                  df.is_subtweet.tolist())"
   ]
  },
  {
   "cell_type": "markdown",
   "metadata": {},
   "source": [
    "#### Use NLTK's tokenizer instead of Scikit's"
   ]
  },
  {
   "cell_type": "code",
   "execution_count": 5,
   "metadata": {},
   "outputs": [],
   "source": [
    "tokenizer = nltk.casual.TweetTokenizer(preserve_case=False, reduce_len=True)"
   ]
  },
  {
   "cell_type": "markdown",
   "metadata": {},
   "source": [
    "#### Class for distinguishing polarizing parts of speech as features"
   ]
  },
  {
   "cell_type": "code",
   "execution_count": 6,
   "metadata": {
    "code_folding": []
   },
   "outputs": [],
   "source": [
    "class TweetStats(BaseEstimator, TransformerMixin):\n",
    "    def fit(self, x, y=None):\n",
    "        return self\n",
    "\n",
    "    def transform(self, posts):\n",
    "        first_names = [\"Aaliyah\", \"Aaron\", \"Abby\", \"Abigail\", \"Abraham\", \"Adam\",\n",
    "                       \"Addison\", \"Adrian\", \"Adriana\", \"Adrianna\", \"Aidan\", \"Aiden\",\n",
    "                       \"Alan\", \"Alana\", \"Alejandro\", \"Alex\", \"Alexa\", \"Alexander\",\n",
    "                       \"Alexandra\", \"Alexandria\", \"Alexia\", \"Alexis\", \"Alicia\", \"Allison\",\n",
    "                       \"Alondra\", \"Alyssa\", \"Amanda\", \"Amber\", \"Amelia\", \"Amy\",\n",
    "                       \"Ana\", \"Andrea\", \"Andres\", \"Andrew\", \"Angel\", \"Angela\",\n",
    "                       \"Angelica\", \"Angelina\", \"Anna\", \"Anthony\", \"Antonio\", \"Ariana\",\n",
    "                       \"Arianna\", \"Ashley\", \"Ashlyn\", \"Ashton\", \"Aubrey\", \"Audrey\",\n",
    "                       \"Austin\", \"Autumn\", \"Ava\", \"Avery\", \"Ayden\", \"Bailey\",\n",
    "                       \"Benjamin\", \"Bianca\", \"Blake\", \"Braden\", \"Bradley\", \"Brady\",\n",
    "                       \"Brandon\", \"Brayden\", \"Breanna\", \"Brendan\", \"Brian\", \"Briana\",\n",
    "                       \"Brianna\", \"Brittany\", \"Brody\", \"Brooke\", \"Brooklyn\", \"Bryan\",\n",
    "                       \"Bryce\", \"Bryson\", \"Caden\", \"Caitlin\", \"Caitlyn\", \"Caleb\",\n",
    "                       \"Cameron\", \"Camila\", \"Carlos\", \"Caroline\", \"Carson\", \"Carter\",\n",
    "                       \"Cassandra\", \"Cassidy\", \"Catherine\", \"Cesar\", \"Charles\", \"Charlotte\",\n",
    "                       \"Chase\", \"Chelsea\", \"Cheyenne\", \"Chloe\", \"Christian\", \"Christina\",\n",
    "                       \"Christopher\", \"Claire\", \"Cody\", \"Colby\", \"Cole\", \"Colin\",\n",
    "                       \"Collin\", \"Colton\", \"Conner\", \"Connor\", \"Cooper\", \"Courtney\",\n",
    "                       \"Cristian\", \"Crystal\", \"Daisy\", \"Dakota\", \"Dalton\", \"Damian\",\n",
    "                       \"Daniel\", \"Daniela\", \"Danielle\", \"David\", \"Delaney\", \"Derek\",\n",
    "                       \"Destiny\", \"Devin\", \"Devon\", \"Diana\", \"Diego\", \"Dominic\",\n",
    "                       \"Donovan\", \"Dylan\", \"Edgar\", \"Eduardo\", \"Edward\", \"Edwin\",\n",
    "                       \"Eli\", \"Elias\", \"Elijah\", \"Elizabeth\", \"Ella\", \"Ellie\", \n",
    "                       \"Emily\", \"Emma\", \"Emmanuel\", \"Eric\", \"Erica\", \"Erick\",\n",
    "                       \"Erik\", \"Erin\", \"Ethan\", \"Eva\", \"Evan\", \"Evelyn\",\n",
    "                       \"Faith\", \"Fernando\", \"Francisco\", \"Gabriel\", \"Gabriela\", \"Gabriella\",\n",
    "                       \"Gabrielle\", \"Gage\", \"Garrett\", \"Gavin\", \"Genesis\", \"George\",\n",
    "                       \"Gianna\", \"Giovanni\", \"Giselle\", \"Grace\", \"Gracie\", \"Grant\",\n",
    "                       \"Gregory\", \"Hailey\", \"Haley\", \"Hannah\", \"Hayden\", \"Hector\",\n",
    "                       \"Henry\", \"Hope\", \"Hunter\", \"Ian\", \"Isaac\", \"Isabel\",\n",
    "                       \"Isabella\", \"Isabelle\", \"Isaiah\", \"Ivan\", \"Jack\", \"Jackson\",\n",
    "                       \"Jacob\", \"Jacqueline\", \"Jada\", \"Jade\", \"Jaden\", \"Jake\",\n",
    "                       \"Jalen\", \"James\", \"Jared\", \"Jasmin\", \"Jasmine\", \"Jason\", \n",
    "                       \"Javier\", \"Jayden\", \"Jayla\", \"Jazmin\", \"Jeffrey\", \"Jenna\",\n",
    "                       \"Jennifer\", \"Jeremiah\", \"Jeremy\", \"Jesse\", \"Jessica\", \"Jesus\",\n",
    "                       \"Jillian\", \"Jocelyn\", \"Joel\", \"John\", \"Johnathan\", \"Jonah\",\n",
    "                       \"Jonathan\", \"Jordan\", \"Jordyn\", \"Jorge\", \"Jose\", \"Joseph\",\n",
    "                       \"Joshua\", \"Josiah\", \"Juan\", \"Julia\", \"Julian\", \"Juliana\",\n",
    "                       \"Justin\", \"Kaden\", \"Kaitlyn\", \"Kaleb\", \"Karen\", \"Karina\",\n",
    "                       \"Kate\", \"Katelyn\", \"Katherine\", \"Kathryn\", \"Katie\", \"Kayla\",\n",
    "                       \"Kaylee\", \"Kelly\", \"Kelsey\", \"Kendall\", \"Kennedy\", \"Kenneth\",\n",
    "                       \"Kevin\", \"Kiara\", \"Kimberly\", \"Kyle\", \"Kylee\", \"Kylie\",\n",
    "                       \"Landon\", \"Laura\", \"Lauren\", \"Layla\", \"Leah\", \"Leonardo\",\n",
    "                       \"Leslie\", \"Levi\", \"Liam\", \"Liliana\", \"Lillian\", \"Lilly\",\n",
    "                       \"Lily\", \"Lindsey\", \"Logan\", \"Lucas\", \"Lucy\", \"Luis\",\n",
    "                       \"Luke\", \"Lydia\", \"Mackenzie\", \"Madeline\", \"Madelyn\", \"Madison\",\n",
    "                       \"Makayla\", \"Makenzie\", \"Malachi\", \"Manuel\", \"Marco\", \"Marcus\",\n",
    "                       \"Margaret\", \"Maria\", \"Mariah\", \"Mario\", \"Marissa\", \"Mark\",\n",
    "                       \"Martin\", \"Mary\", \"Mason\", \"Matthew\", \"Max\", \"Maxwell\",\n",
    "                       \"Maya\", \"Mckenzie\", \"Megan\", \"Melanie\", \"Melissa\", \"Mia\",\n",
    "                       \"Micah\", \"Michael\", \"Michelle\", \"Miguel\", \"Mikayla\", \"Miranda\",\n",
    "                       \"Molly\", \"Morgan\", \"Mya\", \"Naomi\", \"Natalia\", \"Natalie\",\n",
    "                       \"Nathan\", \"Nathaniel\", \"Nevaeh\", \"Nicholas\", \"Nicolas\", \"Nicole\",\n",
    "                       \"Noah\", \"Nolan\", \"Oliver\", \"Olivia\", \"Omar\", \"Oscar\",\n",
    "                       \"Owen\", \"Paige\", \"Parker\", \"Patrick\", \"Paul\", \"Payton\",\n",
    "                       \"Peter\", \"Peyton\", \"Preston\", \"Rachel\", \"Raymond\", \"Reagan\",\n",
    "                       \"Rebecca\", \"Ricardo\", \"Richard\", \"Riley\", \"Robert\", \"Ruby\",\n",
    "                       \"Ryan\", \"Rylee\", \"Sabrina\", \"Sadie\", \"Samantha\", \"Samuel\",\n",
    "                       \"Sara\", \"Sarah\", \"Savannah\", \"Sean\", \"Sebastian\", \"Serenity\",\n",
    "                       \"Sergio\", \"Seth\", \"Shane\", \"Shawn\", \"Shelby\", \"Sierra\",\n",
    "                       \"Skylar\", \"Sofia\", \"Sophia\", \"Sophie\", \"Spencer\", \"Stephanie\",\n",
    "                       \"Stephen\", \"Steven\", \"Summer\", \"Sydney\", \"Tanner\", \"Taylor\", \n",
    "                       \"Thomas\", \"Tiffany\", \"Timothy\", \"Travis\", \"Trenton\", \"Trevor\",\n",
    "                       \"Trinity\", \"Tristan\", \"Tyler\", \"Valeria\", \"Valerie\", \"Vanessa\",\n",
    "                       \"Veronica\", \"Victor\", \"Victoria\", \"Vincent\", \"Wesley\", \"William\",\n",
    "                       \"Wyatt\", \"Xavier\", \"Zachary\", \"Zoe\", \"Zoey\"]\n",
    "        first_names_lower = set([name.lower() for name in first_names])\n",
    "\n",
    "        personal_pronouns = [\"I\", \"Me\", \"We\", \"Us\", \"You\", \"She\", \"Her\", \"He\", \"Him\", \"They\", \"Them\"]\n",
    "        personal_prounouns_lower = [pronoun.lower() for pronoun in personal_pronouns]\n",
    "\n",
    "        possessive_pronouns = [\"My\", \"Your\", \"Our\", \"Their\", \"His\", \"Her\", \"Hers\", \"Yours\", \"Ours\", \"Theirs\"]\n",
    "        possessive_pronouns_lower = [possessive_pronoun.lower() for possessive_pronoun in possessive_pronouns]\n",
    "\n",
    "        important_parts_of_speech = set(personal_prounouns_lower + possessive_pronouns_lower)\n",
    "        pattern = \"(?:http|ftp|https)://(?:[\\w_-]+(?:(?:\\.[\\w_-]+)+))(?:[\\w.,@?^=%&:/~+#-]*[\\w@?^=%&/~+#-])?\"\n",
    "                \n",
    "        final_output = []\n",
    "        for text in posts:\n",
    "            tokenized_text = tokenizer.tokenize(text)\n",
    "            weighted_dict = {\"length\": len(text), \n",
    "                             \"good\": len(important_parts_of_speech.intersection(tokenizer.tokenize(text))), \n",
    "                             \"bad\": (len(first_names_lower.intersection(tokenizer.tokenize(text))) \n",
    "                                     + text.count(\"@\") \n",
    "                                     + text.count(\"subtweet\") \n",
    "                                     + text.count(\"Subtweet\") \n",
    "                                     + len(re.findall(pattern, text)))}\n",
    "            final_output.append(weighted_dict)\n",
    "        return final_output"
   ]
  },
  {
   "cell_type": "markdown",
   "metadata": {},
   "source": [
    "#### Build the pipeline"
   ]
  },
  {
   "cell_type": "code",
   "execution_count": 7,
   "metadata": {},
   "outputs": [],
   "source": [
    "sentiment_pipeline = Pipeline([\n",
    "    (\"features\", FeatureUnion([\n",
    "        (\"ngram_tf_idf\", Pipeline([\n",
    "            (\"counts\", CountVectorizer(tokenizer=tokenizer.tokenize)),\n",
    "            (\"tf_idf\", TfidfTransformer())\n",
    "        ])),\n",
    "        (\"stats_vect\", Pipeline([\n",
    "            (\"tweet_stats\", TweetStats()),\n",
    "            (\"vect\", DictVectorizer()),\n",
    "        ])),\n",
    "    ])),\n",
    "    (\"classifier\", MultinomialNB())\n",
    "])"
   ]
  },
  {
   "cell_type": "markdown",
   "metadata": {},
   "source": [
    "#### Show the results"
   ]
  },
  {
   "cell_type": "code",
   "execution_count": 8,
   "metadata": {},
   "outputs": [],
   "source": [
    "sentiment_pipeline.fit(text_train, class_train)\n",
    "predictions = sentiment_pipeline.predict(text_test)"
   ]
  },
  {
   "cell_type": "code",
   "execution_count": 9,
   "metadata": {},
   "outputs": [
    {
     "name": "stdout",
     "output_type": "stream",
     "text": [
      "             precision    recall  f1-score   support\n",
      "\n",
      "   negative       0.94      0.87      0.90      1833\n",
      "   positive       0.87      0.94      0.91      1794\n",
      "\n",
      "avg / total       0.91      0.90      0.90      3627\n",
      "\n"
     ]
    }
   ],
   "source": [
    "print(classification_report(class_test, predictions))"
   ]
  },
  {
   "cell_type": "markdown",
   "metadata": {},
   "source": [
    "#### Define function for visualizing confusion matrices"
   ]
  },
  {
   "cell_type": "code",
   "execution_count": 10,
   "metadata": {},
   "outputs": [],
   "source": [
    "def plot_confusion_matrix(cm, classes, normalize=False,\n",
    "                          title='Confusion matrix', cmap=plt.cm.Blues):\n",
    "    if normalize:\n",
    "        cm = cm.astype('float') / cm.sum(axis=1)[:, np.newaxis]\n",
    "\n",
    "    plt.imshow(cm, interpolation='nearest', cmap=cmap)\n",
    "    plt.title(title)\n",
    "    plt.colorbar()\n",
    "    tick_marks = np.arange(len(classes))\n",
    "    plt.xticks(tick_marks, classes, rotation=45)\n",
    "    plt.yticks(tick_marks, classes)\n",
    "\n",
    "    fmt = '.2f' if normalize else 'd'\n",
    "    thresh = cm.max() / 2.\n",
    "    for i, j in itertools.product(range(cm.shape[0]), range(cm.shape[1])):\n",
    "        plt.text(j, i, format(cm[i, j], fmt),\n",
    "                 horizontalalignment=\"center\",\n",
    "                 color=\"white\" if cm[i, j] > thresh else \"black\")\n",
    "\n",
    "    plt.tight_layout()\n",
    "    plt.ylabel('True label')\n",
    "    plt.xlabel('Predicted label')"
   ]
  },
  {
   "cell_type": "markdown",
   "metadata": {},
   "source": [
    "#### Show the matrices"
   ]
  },
  {
   "cell_type": "code",
   "execution_count": 11,
   "metadata": {},
   "outputs": [
    {
     "data": {
      "image/png": "[encoded data removed]",
      "text/plain": [
       "<Figure size 432x288 with 2 Axes>"
      ]
     },
     "metadata": {},
     "output_type": "display_data"
    },
    {
     "data": {
      "image/png": "[encoded data removed]",
      "text/plain": [
       "<Figure size 432x288 with 2 Axes>"
      ]
     },
     "metadata": {},
     "output_type": "display_data"
    }
   ],
   "source": [
    "class_names = [\"negative\", \"positive\"]\n",
    "\n",
    "cnf_matrix = confusion_matrix(class_test, predictions)\n",
    "np.set_printoptions(precision=2)\n",
    "\n",
    "plt.figure()\n",
    "plot_confusion_matrix(cnf_matrix, classes=class_names,\n",
    "                      title='Confusion matrix, without normalization')\n",
    "\n",
    "plt.figure()\n",
    "plot_confusion_matrix(cnf_matrix, classes=class_names, normalize=True,\n",
    "                      title='Normalized confusion matrix')\n",
    "\n",
    "plt.show()"
   ]
  },
  {
   "cell_type": "markdown",
   "metadata": {},
   "source": [
    "#### Save the classifier for another time"
   ]
  },
  {
   "cell_type": "code",
   "execution_count": 12,
   "metadata": {},
   "outputs": [
    {
     "data": {
      "text/plain": [
       "['../data/non_subtweets_data/subtweets_classifier.pkl']"
      ]
     },
     "execution_count": 12,
     "metadata": {},
     "output_type": "execute_result"
    }
   ],
   "source": [
    "joblib.dump(sentiment_pipeline, \"../data/non_subtweets_data/subtweets_classifier.pkl\") "
   ]
  },
  {
   "cell_type": "markdown",
   "metadata": {},
   "source": [
    "#### Print tests for the classifier"
   ]
  },
  {
   "cell_type": "code",
   "execution_count": 13,
   "metadata": {},
   "outputs": [],
   "source": [
    "def print_tests(tweets_dataframe, \n",
    "                text_column=\"SentimentText\", sentiment_column=\"Sentiment\", \n",
    "                threshold=0.95):\n",
    "    tweets = tweets_dataframe[text_column].tolist()\n",
    "    sentiments = tweets_dataframe[sentiment_column].tolist()\n",
    "    total_subtweets = 0\n",
    "    print(\"Probabilities:\\n\")\n",
    "    for i in range(len(tweets)):\n",
    "        tweet = tweets[i]\n",
    "        prediction = sentiment_pipeline.predict([tweets[i]]).tolist()[0]\n",
    "        sentiment = sentiments[i]\n",
    "        negative_probability = sentiment_pipeline.predict_proba([tweets[i]]).tolist()[0][0]\n",
    "        positive_probability = sentiment_pipeline.predict_proba([tweets[i]]).tolist()[0][1]\n",
    "        if positive_probability >= threshold:\n",
    "            total_subtweets += 1\n",
    "            print((\"\\\"{}\\\" was classified as {}:\" \n",
    "                   + \"\\nSentiment Score: {}\" \n",
    "                   + \"\\nNot a subtweet: {:.1%}\" \n",
    "                   + \"\\nSubtweet: {:.1%}\").format(tweet, prediction, sentiment,\n",
    "                                                  negative_probability, \n",
    "                                                  positive_probability))\n",
    "            print()\n",
    "    print(\"Total number of subtweets according to the classifier: {}\".format(total_subtweets))"
   ]
  },
  {
   "cell_type": "markdown",
   "metadata": {},
   "source": [
    "#### Make up some tweets"
   ]
  },
  {
   "cell_type": "code",
   "execution_count": 14,
   "metadata": {},
   "outputs": [],
   "source": [
    "test_tweets = [\"Some people don't know their place.\", \n",
    "               \"Isn't it funny how some people don't know their place?\", \n",
    "               \"How come you people act like this?\", \n",
    "               \"You're such a nerd.\",\n",
    "               \"I love Noah, he's so cool.\",\n",
    "               \"Who the heck is Noah?\",\n",
    "               \"This is a @NoahSegalGould subtweet. Go check out https://segal-gould.com.\", \n",
    "               \"This is a subtweet.\", \n",
    "               \"Hey @jack!\", \n",
    "               \"Hey Jack!\",\n",
    "               \"http://www.google.com\"]"
   ]
  },
  {
   "cell_type": "markdown",
   "metadata": {},
   "source": [
    "#### Make a dataframe from the list"
   ]
  },
  {
   "cell_type": "code",
   "execution_count": 15,
   "metadata": {},
   "outputs": [],
   "source": [
    "test_tweets_df = pd.DataFrame({\"Tweet\": test_tweets, \"Sentiment\": [None]*len(test_tweets)})"
   ]
  },
  {
   "cell_type": "markdown",
   "metadata": {},
   "source": [
    "#### Print the tests"
   ]
  },
  {
   "cell_type": "code",
   "execution_count": 16,
   "metadata": {},
   "outputs": [
    {
     "name": "stdout",
     "output_type": "stream",
     "text": [
      "Probabilities:\n",
      "\n",
      "\"Some people don't know their place.\" was classified as positive:\n",
      "Sentiment Score: None\n",
      "Not a subtweet: 11.9%\n",
      "Subtweet: 88.1%\n",
      "\n",
      "\"Isn't it funny how some people don't know their place?\" was classified as positive:\n",
      "Sentiment Score: None\n",
      "Not a subtweet: 10.9%\n",
      "Subtweet: 89.1%\n",
      "\n",
      "\"How come you people act like this?\" was classified as positive:\n",
      "Sentiment Score: None\n",
      "Not a subtweet: 7.4%\n",
      "Subtweet: 92.6%\n",
      "\n",
      "\"You're such a nerd.\" was classified as positive:\n",
      "Sentiment Score: None\n",
      "Not a subtweet: 46.2%\n",
      "Subtweet: 53.8%\n",
      "\n",
      "Total number of subtweets according to the classifier: 4\n"
     ]
    }
   ],
   "source": [
    "print_tests(test_tweets_df, text_column=\"Tweet\", sentiment_column=\"Sentiment\", threshold=0.5)"
   ]
  },
  {
   "cell_type": "markdown",
   "metadata": {},
   "source": [
    "#### Test on actual tweets"
   ]
  },
  {
   "cell_type": "code",
   "execution_count": 17,
   "metadata": {},
   "outputs": [
    {
     "name": "stderr",
     "output_type": "stream",
     "text": [
      "b'Skipping line 8836: expected 4 fields, saw 5\\n'\n",
      "b'Skipping line 535882: expected 4 fields, saw 7\\n'\n"
     ]
    }
   ],
   "source": [
    "naji_df = pd.read_csv(\"../data/non_subtweets_data/naji_data.csv\", error_bad_lines=False)"
   ]
  },
  {
   "cell_type": "markdown",
   "metadata": {},
   "source": [
    "#### Repair some leftover HTML"
   ]
  },
  {
   "cell_type": "code",
   "execution_count": 18,
   "metadata": {},
   "outputs": [],
   "source": [
    "naji_df[\"SentimentText\"] = naji_df[\"SentimentText\"].str.replace(\"&quot;\", \"\\\"\")\n",
    "naji_df[\"SentimentText\"] = naji_df[\"SentimentText\"].str.replace(\"&amp;\", \"&\")\n",
    "naji_df[\"SentimentText\"] = naji_df[\"SentimentText\"].str.replace(\"&gt;\", \">\")\n",
    "naji_df[\"SentimentText\"] = naji_df[\"SentimentText\"].str.replace(\"&lt;\", \"<\")"
   ]
  },
  {
   "cell_type": "markdown",
   "metadata": {},
   "source": [
    "# Use randomly selected 250K rows from dataset"
   ]
  },
  {
   "cell_type": "code",
   "execution_count": 19,
   "metadata": {},
   "outputs": [],
   "source": [
    "naji_df = naji_df.sample(n=250000).reset_index(drop=True)"
   ]
  },
  {
   "cell_type": "markdown",
   "metadata": {},
   "source": [
    "#### Print and time the tests"
   ]
  },
  {
   "cell_type": "code",
   "execution_count": 20,
   "metadata": {
    "scrolled": false
   },
   "outputs": [
    {
     "name": "stdout",
     "output_type": "stream",
     "text": [
      "Probabilities:\n",
      "\n",
      "\"Shoppers are the worst people ever. No, the ones who call themselvs \"Hunters\" are THE worst. Hunt my nuts out of your hair. Loser. \" was classified as positive:\n",
      "Sentiment Score: 0\n",
      "Not a subtweet: 2.2%\n",
      "Subtweet: 97.8%\n",
      "\n",
      "\"reminicing on a lot if shit  if only we could hold each other a few more nights  i h8 u bc ur w/ him instead of me\" was classified as positive:\n",
      "Sentiment Score: 0\n",
      "Not a subtweet: 1.6%\n",
      "Subtweet: 98.4%\n",
      "\n",
      "\"hate the fact that you walk past a person like they were never a part of you, when they were the biggest part of your life \" was classified as positive:\n",
      "Sentiment Score: 0\n",
      "Not a subtweet: 2.3%\n",
      "Subtweet: 97.7%\n",
      "\n",
      "\"Just witnessed a man threatning to beat a woman every fucking day if she didn't shut her fucking mouth. Shit. He looked me in the eyes \" was classified as positive:\n",
      "Sentiment Score: 0\n",
      "Not a subtweet: 1.4%\n",
      "Subtweet: 98.6%\n",
      "\n",
      "\"I wonder how people talk about their latex fetish these days. Do they wear a hood to hide their thoughts and personality? \" was classified as positive:\n",
      "Sentiment Score: 1\n",
      "Not a subtweet: 1.1%\n",
      "Subtweet: 98.9%\n",
      "\n",
      "\"uhhh i hate when friends ditch you for people who are backstabbers \" was classified as positive:\n",
      "Sentiment Score: 0\n",
      "Not a subtweet: 2.1%\n",
      "Subtweet: 97.9%\n",
      "\n",
      "\"I hate it when people don't understand how you feel \" was classified as positive:\n",
      "Sentiment Score: 0\n",
      "Not a subtweet: 2.3%\n",
      "Subtweet: 97.7%\n",
      "\n",
      "\"I'm really understanding how fragile trust can b in a relationship. Even if ur being honest about a situation, it doesn't matter \" was classified as positive:\n",
      "Sentiment Score: 0\n",
      "Not a subtweet: 1.8%\n",
      "Subtweet: 98.2%\n",
      "\n",
      "\"sad bc the person who asked me to twitter hurt my feeling really bad \" was classified as positive:\n",
      "Sentiment Score: 0\n",
      "Not a subtweet: 2.0%\n",
      "Subtweet: 98.0%\n",
      "\n",
      "\"will I ever see you again? I always feel so jealous and sad because you're always talking to and seeing people who are never me. \" was classified as positive:\n",
      "Sentiment Score: 0\n",
      "Not a subtweet: 2.5%\n",
      "Subtweet: 97.5%\n",
      "\n",
      "\"sometimes i feel like my mom wants me and Alley to take care of ourselfs and that she doesnt care that much if we eat or not \" was classified as positive:\n",
      "Sentiment Score: 0\n",
      "Not a subtweet: 2.1%\n",
      "Subtweet: 97.9%\n",
      "\n",
      "\"Its funny when people say they'll be there to help if you need them yet when time comes they're not or all they do is complain about it. \" was classified as positive:\n",
      "Sentiment Score: 0\n",
      "Not a subtweet: 1.9%\n",
      "Subtweet: 98.1%\n",
      "\n",
      "\"i have one Q why do people do this they sit at home and bitch about people over the internet and trust me it doesn't feel to great..... \" was classified as positive:\n",
      "Sentiment Score: 0\n",
      "Not a subtweet: 2.1%\n",
      "Subtweet: 97.9%\n",
      "\n",
      "\"Some people actually think theyre exclusive, they dont even wanna talk to someone outside their group \" was classified as positive:\n",
      "Sentiment Score: 0\n",
      "Not a subtweet: 2.4%\n",
      "Subtweet: 97.6%\n",
      "\n",
      "\"i love it when you see someone you know but they don't recognize you at first and when they do, there's a huge smile on their face \" was classified as positive:\n",
      "Sentiment Score: 1\n",
      "Not a subtweet: 2.3%\n",
      "Subtweet: 97.7%\n",
      "\n",
      "\"Fucking, shit. I AM NOT USED TO DYING FOR NO REASON. I don't even have any cold symptoms except the worst headache ever. Jfc. \" was classified as positive:\n",
      "Sentiment Score: 0\n",
      "Not a subtweet: 2.0%\n",
      "Subtweet: 98.0%\n",
      "\n",
      "\"You never know what you have until it's gone. If only people actually understood that...I hate when people are sad \" was classified as positive:\n",
      "Sentiment Score: 0\n",
      "Not a subtweet: 2.4%\n",
      "Subtweet: 97.6%\n",
      "\n",
      "\"To the person I'm stalking, you know who you are: Stop being so fake already  Be real.\" was classified as positive:\n",
      "Sentiment Score: 0\n",
      "Not a subtweet: 2.4%\n",
      "Subtweet: 97.6%\n",
      "\n",
      "\"For the people that call me, please don't think I'm rude cause I don't talk much. I got 4 ulcers in my mouth and they fucking hurt. \" was classified as positive:\n",
      "Sentiment Score: 0\n",
      "Not a subtweet: 2.1%\n",
      "Subtweet: 97.9%\n",
      "\n",
      "\"people think that doing things toward someone will lead them to believe that the other person won't know. It's depressing. \" was classified as positive:\n",
      "Sentiment Score: 0\n",
      "Not a subtweet: 2.5%\n",
      "Subtweet: 97.5%\n",
      "\n",
      "\"Sometimes you find people , you think they care about you but in reality they relly don't . state of mind : disappointed \" was classified as positive:\n",
      "Sentiment Score: 0\n",
      "Not a subtweet: 2.0%\n",
      "Subtweet: 98.0%\n",
      "\n",
      "\"I hate being that person that does nothing but whine about how much their life sucks. I'm turning into that person, it seems, permanently \" was classified as positive:\n",
      "Sentiment Score: 0\n",
      "Not a subtweet: 2.3%\n",
      "Subtweet: 97.7%\n",
      "\n",
      "\"I m angry because my bets friends dont talk to me because talk whit your boyfriends \" was classified as positive:\n",
      "Sentiment Score: 0\n",
      "Not a subtweet: 1.9%\n",
      "Subtweet: 98.1%\n",
      "\n",
      "\"People who think things are all about them are freqently mistaken. These people should GET THE HELL OVER THEMSELVES - Just sayin \" was classified as positive:\n",
      "Sentiment Score: 1\n",
      "Not a subtweet: 1.5%\n",
      "Subtweet: 98.5%\n",
      "\n",
      "\"i still love you and thats a fact but a million apologizes can never bring me back    crying for a guy who doesn't deserve my heart  \" was classified as positive:\n",
      "Sentiment Score: 0\n",
      "Not a subtweet: 2.5%\n",
      "Subtweet: 97.5%\n",
      "\n",
      "\"I hate some people so much that just seeing their name written down can ruin my mood. I should talk to somebody about it. \" was classified as positive:\n",
      "Sentiment Score: 0\n",
      "Not a subtweet: 1.6%\n",
      "Subtweet: 98.4%\n",
      "\n",
      "\"Fact of the day: If I don't know you and you ask me for a drink, 95% chance your gonna get the \"fuck you bitch\" look. \" was classified as positive:\n",
      "Sentiment Score: 1\n",
      "Not a subtweet: 2.3%\n",
      "Subtweet: 97.7%\n",
      "\n",
      "\"whoever is running time warner needs to be repeatedly raped by a rhino so they understand the consequences of putting out shitty cable svcs\" was classified as positive:\n",
      "Sentiment Score: 0\n",
      "Not a subtweet: 2.3%\n",
      "Subtweet: 97.7%\n",
      "\n",
      "Total number of subtweets according to the classifier: 28\n",
      "CPU times: user 28min 2s, sys: 18.3 s, total: 28min 20s\n",
      "Wall time: 29min 11s\n"
     ]
    }
   ],
   "source": [
    "%%time\n",
    "print_tests(naji_df, threshold=0.975)"
   ]
  }
 ],
 "metadata": {
  "kernelspec": {
   "display_name": "Python 3",
   "language": "python",
   "name": "python3"
  },
  "language_info": {
   "codemirror_mode": {
    "name": "ipython",
    "version": 3
   },
   "file_extension": ".py",
   "mimetype": "text/x-python",
   "name": "python",
   "nbconvert_exporter": "python",
   "pygments_lexer": "ipython3",
   "version": "3.6.4"
  }
 },
 "nbformat": 4,
 "nbformat_minor": 2
}
