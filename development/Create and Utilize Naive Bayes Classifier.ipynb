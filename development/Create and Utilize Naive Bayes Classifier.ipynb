{
 "cells": [
  {
   "cell_type": "markdown",
   "metadata": {},
   "source": [
    "## Using Scikit-Learn and NLTK to build a Naive Bayes Classifier that identifies subtweets"
   ]
  },
  {
   "cell_type": "markdown",
   "metadata": {},
   "source": [
    "### Goals:\n",
    "#### Use Scikit-Learn pipelines to define special features to add to a Naive Bayes Classifier\n",
    "#### Evaluate the accuracy of the classifier\n",
    "#### Maybe do it live, on a Twitter API stream"
   ]
  },
  {
   "cell_type": "markdown",
   "metadata": {},
   "source": [
    "### Methods:\n",
    "#### Use the training set I made before"
   ]
  },
  {
   "cell_type": "markdown",
   "metadata": {},
   "source": [
    "#### Import libraries"
   ]
  },
  {
   "cell_type": "code",
   "execution_count": 1,
   "metadata": {},
   "outputs": [],
   "source": [
    "%matplotlib inline"
   ]
  },
  {
   "cell_type": "code",
   "execution_count": 2,
   "metadata": {},
   "outputs": [],
   "source": [
    "from sklearn.base import TransformerMixin, BaseEstimator\n",
    "from sklearn.feature_extraction import DictVectorizer\n",
    "from sklearn.feature_extraction.text import CountVectorizer, TfidfTransformer\n",
    "from sklearn.naive_bayes import MultinomialNB\n",
    "from sklearn.pipeline import Pipeline, FeatureUnion\n",
    "from sklearn.model_selection import train_test_split\n",
    "from sklearn.metrics import classification_report, confusion_matrix\n",
    "from sklearn.externals import joblib\n",
    "from textblob import TextBlob\n",
    "from time import sleep\n",
    "import matplotlib.pyplot as plt\n",
    "import pandas as pd\n",
    "import numpy as np\n",
    "import itertools\n",
    "import datetime\n",
    "import tweepy\n",
    "import nltk\n",
    "import re"
   ]
  },
  {
   "cell_type": "markdown",
   "metadata": {},
   "source": [
    "#### Set max column width for dataframes"
   ]
  },
  {
   "cell_type": "code",
   "execution_count": 3,
   "metadata": {},
   "outputs": [],
   "source": [
    "pd.set_option(\"max_colwidth\", 280)"
   ]
  },
  {
   "cell_type": "markdown",
   "metadata": {},
   "source": [
    "#### Load the CSV"
   ]
  },
  {
   "cell_type": "code",
   "execution_count": 4,
   "metadata": {},
   "outputs": [],
   "source": [
    "df = pd.read_csv(\"../data/training_data/Subtweets_Classifier_Training_Data.csv\")"
   ]
  },
  {
   "cell_type": "markdown",
   "metadata": {},
   "source": [
    "#### Create training and test sets from the single training set I made before"
   ]
  },
  {
   "cell_type": "code",
   "execution_count": 5,
   "metadata": {},
   "outputs": [],
   "source": [
    "text_train, text_test, class_train, class_test = train_test_split(df.alleged_subtweet.tolist(), \n",
    "                                                                  df.is_subtweet.tolist())"
   ]
  },
  {
   "cell_type": "markdown",
   "metadata": {},
   "source": [
    "#### Use NLTK's tokenizer instead of Scikit's"
   ]
  },
  {
   "cell_type": "code",
   "execution_count": 6,
   "metadata": {},
   "outputs": [],
   "source": [
    "tokenizer = nltk.casual.TweetTokenizer(preserve_case=False, reduce_len=True)"
   ]
  },
  {
   "cell_type": "markdown",
   "metadata": {},
   "source": [
    "#### Class for distinguishing polarizing parts of speech as features"
   ]
  },
  {
   "cell_type": "code",
   "execution_count": 7,
   "metadata": {
    "code_folding": []
   },
   "outputs": [],
   "source": [
    "class TweetStats(BaseEstimator, TransformerMixin):\n",
    "    def fit(self, x, y=None):\n",
    "        return self\n",
    "\n",
    "    def transform(self, posts):\n",
    "        first_names = [\"Aaliyah\", \"Aaron\", \"Abby\", \"Abigail\", \"Abraham\", \"Adam\",\n",
    "                       \"Addison\", \"Adrian\", \"Adriana\", \"Adrianna\", \"Aidan\", \"Aiden\",\n",
    "                       \"Alan\", \"Alana\", \"Alejandro\", \"Alex\", \"Alexa\", \"Alexander\",\n",
    "                       \"Alexandra\", \"Alexandria\", \"Alexia\", \"Alexis\", \"Alicia\", \"Allison\",\n",
    "                       \"Alondra\", \"Alyssa\", \"Amanda\", \"Amber\", \"Amelia\", \"Amy\",\n",
    "                       \"Ana\", \"Andrea\", \"Andres\", \"Andrew\", \"Angel\", \"Angela\",\n",
    "                       \"Angelica\", \"Angelina\", \"Anna\", \"Anthony\", \"Antonio\", \"Ariana\",\n",
    "                       \"Arianna\", \"Ashley\", \"Ashlyn\", \"Ashton\", \"Aubrey\", \"Audrey\",\n",
    "                       \"Austin\", \"Autumn\", \"Ava\", \"Avery\", \"Ayden\", \"Bailey\",\n",
    "                       \"Benjamin\", \"Bianca\", \"Blake\", \"Braden\", \"Bradley\", \"Brady\",\n",
    "                       \"Brandon\", \"Brayden\", \"Breanna\", \"Brendan\", \"Brian\", \"Briana\",\n",
    "                       \"Brianna\", \"Brittany\", \"Brody\", \"Brooke\", \"Brooklyn\", \"Bryan\",\n",
    "                       \"Bryce\", \"Bryson\", \"Caden\", \"Caitlin\", \"Caitlyn\", \"Caleb\",\n",
    "                       \"Cameron\", \"Camila\", \"Carlos\", \"Caroline\", \"Carson\", \"Carter\",\n",
    "                       \"Cassandra\", \"Cassidy\", \"Catherine\", \"Cesar\", \"Charles\", \"Charlotte\",\n",
    "                       \"Chase\", \"Chelsea\", \"Cheyenne\", \"Chloe\", \"Christian\", \"Christina\",\n",
    "                       \"Christopher\", \"Claire\", \"Cody\", \"Colby\", \"Cole\", \"Colin\",\n",
    "                       \"Collin\", \"Colton\", \"Conner\", \"Connor\", \"Cooper\", \"Courtney\",\n",
    "                       \"Cristian\", \"Crystal\", \"Daisy\", \"Dakota\", \"Dalton\", \"Damian\",\n",
    "                       \"Daniel\", \"Daniela\", \"Danielle\", \"David\", \"Delaney\", \"Derek\",\n",
    "                       \"Destiny\", \"Devin\", \"Devon\", \"Diana\", \"Diego\", \"Dominic\",\n",
    "                       \"Donovan\", \"Dylan\", \"Edgar\", \"Eduardo\", \"Edward\", \"Edwin\",\n",
    "                       \"Eli\", \"Elias\", \"Elijah\", \"Elizabeth\", \"Ella\", \"Ellie\", \n",
    "                       \"Emily\", \"Emma\", \"Emmanuel\", \"Eric\", \"Erica\", \"Erick\",\n",
    "                       \"Erik\", \"Erin\", \"Ethan\", \"Eva\", \"Evan\", \"Evelyn\",\n",
    "                       \"Faith\", \"Fernando\", \"Francisco\", \"Gabriel\", \"Gabriela\", \"Gabriella\",\n",
    "                       \"Gabrielle\", \"Gage\", \"Garrett\", \"Gavin\", \"Genesis\", \"George\",\n",
    "                       \"Gianna\", \"Giovanni\", \"Giselle\", \"Grace\", \"Gracie\", \"Grant\",\n",
    "                       \"Gregory\", \"Hailey\", \"Haley\", \"Hannah\", \"Hayden\", \"Hector\",\n",
    "                       \"Henry\", \"Hope\", \"Hunter\", \"Ian\", \"Isaac\", \"Isabel\",\n",
    "                       \"Isabella\", \"Isabelle\", \"Isaiah\", \"Ivan\", \"Jack\", \"Jackson\",\n",
    "                       \"Jacob\", \"Jacqueline\", \"Jada\", \"Jade\", \"Jaden\", \"Jake\",\n",
    "                       \"Jalen\", \"James\", \"Jared\", \"Jasmin\", \"Jasmine\", \"Jason\", \n",
    "                       \"Javier\", \"Jayden\", \"Jayla\", \"Jazmin\", \"Jeffrey\", \"Jenna\",\n",
    "                       \"Jennifer\", \"Jeremiah\", \"Jeremy\", \"Jesse\", \"Jessica\", \"Jesus\",\n",
    "                       \"Jillian\", \"Jocelyn\", \"Joel\", \"John\", \"Johnathan\", \"Jonah\",\n",
    "                       \"Jonathan\", \"Jordan\", \"Jordyn\", \"Jorge\", \"Jose\", \"Joseph\",\n",
    "                       \"Joshua\", \"Josiah\", \"Juan\", \"Julia\", \"Julian\", \"Juliana\",\n",
    "                       \"Justin\", \"Kaden\", \"Kaitlyn\", \"Kaleb\", \"Karen\", \"Karina\",\n",
    "                       \"Kate\", \"Katelyn\", \"Katherine\", \"Kathryn\", \"Katie\", \"Kayla\",\n",
    "                       \"Kaylee\", \"Kelly\", \"Kelsey\", \"Kendall\", \"Kennedy\", \"Kenneth\",\n",
    "                       \"Kevin\", \"Kiara\", \"Kimberly\", \"Kyle\", \"Kylee\", \"Kylie\",\n",
    "                       \"Landon\", \"Laura\", \"Lauren\", \"Layla\", \"Leah\", \"Leonardo\",\n",
    "                       \"Leslie\", \"Levi\", \"Liam\", \"Liliana\", \"Lillian\", \"Lilly\",\n",
    "                       \"Lily\", \"Lindsey\", \"Logan\", \"Lucas\", \"Lucy\", \"Luis\",\n",
    "                       \"Luke\", \"Lydia\", \"Mackenzie\", \"Madeline\", \"Madelyn\", \"Madison\",\n",
    "                       \"Makayla\", \"Makenzie\", \"Malachi\", \"Manuel\", \"Marco\", \"Marcus\",\n",
    "                       \"Margaret\", \"Maria\", \"Mariah\", \"Mario\", \"Marissa\", \"Mark\",\n",
    "                       \"Martin\", \"Mary\", \"Mason\", \"Matthew\", \"Max\", \"Maxwell\",\n",
    "                       \"Maya\", \"Mckenzie\", \"Megan\", \"Melanie\", \"Melissa\", \"Mia\",\n",
    "                       \"Micah\", \"Michael\", \"Michelle\", \"Miguel\", \"Mikayla\", \"Miranda\",\n",
    "                       \"Molly\", \"Morgan\", \"Mya\", \"Naomi\", \"Natalia\", \"Natalie\",\n",
    "                       \"Nathan\", \"Nathaniel\", \"Nevaeh\", \"Nicholas\", \"Nicolas\", \"Nicole\",\n",
    "                       \"Noah\", \"Nolan\", \"Oliver\", \"Olivia\", \"Omar\", \"Oscar\",\n",
    "                       \"Owen\", \"Paige\", \"Parker\", \"Patrick\", \"Paul\", \"Payton\",\n",
    "                       \"Peter\", \"Peyton\", \"Preston\", \"Rachel\", \"Raymond\", \"Reagan\",\n",
    "                       \"Rebecca\", \"Ricardo\", \"Richard\", \"Riley\", \"Robert\", \"Ruby\",\n",
    "                       \"Ryan\", \"Rylee\", \"Sabrina\", \"Sadie\", \"Samantha\", \"Samuel\",\n",
    "                       \"Sara\", \"Sarah\", \"Savannah\", \"Sean\", \"Sebastian\", \"Serenity\",\n",
    "                       \"Sergio\", \"Seth\", \"Shane\", \"Shawn\", \"Shelby\", \"Sierra\",\n",
    "                       \"Skylar\", \"Sofia\", \"Sophia\", \"Sophie\", \"Spencer\", \"Stephanie\",\n",
    "                       \"Stephen\", \"Steven\", \"Summer\", \"Sydney\", \"Tanner\", \"Taylor\", \n",
    "                       \"Thomas\", \"Tiffany\", \"Timothy\", \"Travis\", \"Trenton\", \"Trevor\",\n",
    "                       \"Trinity\", \"Tristan\", \"Tyler\", \"Valeria\", \"Valerie\", \"Vanessa\",\n",
    "                       \"Veronica\", \"Victor\", \"Victoria\", \"Vincent\", \"Wesley\", \"William\",\n",
    "                       \"Wyatt\", \"Xavier\", \"Zachary\", \"Zoe\", \"Zoey\"]\n",
    "        first_names_lower = set([name.lower() for name in first_names])\n",
    "\n",
    "        pronouns = [\"You\", \"You're\", \"Your\", \n",
    "                    \"She\", \"She's\", \"Her\", \"Hers\", \n",
    "                    \"He\", \"He's\", \"Him\", \"His\", \n",
    "                    \"They\", \"They're\", \"Them\", \"Their\", \"Theirs\"]\n",
    "        prounouns_lower = set([pronoun.lower() for pronoun in pronouns])\n",
    "\n",
    "        pattern = \"(?:http|ftp|https)://(?:[\\w_-]+(?:(?:\\.[\\w_-]+)+))(?:[\\w.,@?^=%&:/~+#-]*[\\w@?^=%&/~+#-])?\"\n",
    "        \n",
    "        final_output = []\n",
    "        for text in posts:\n",
    "            tokenized_text = tokenizer.tokenize(text)\n",
    "            weighted_dict = {\"length\": len(text), \n",
    "                             \"good\": len(prounouns_lower.intersection(tokenized_text)), \n",
    "                             \"bad\": (len(first_names_lower.intersection(tokenized_text)) \n",
    "                                     + text.count(\"@\") \n",
    "                                     + text.count(\"subtweet\") \n",
    "                                     + text.count(\"Subtweet\") \n",
    "                                     + len(re.findall(pattern, text)))}\n",
    "            final_output.append(weighted_dict)\n",
    "        return final_output"
   ]
  },
  {
   "cell_type": "markdown",
   "metadata": {},
   "source": [
    "#### Build the pipeline"
   ]
  },
  {
   "cell_type": "code",
   "execution_count": 8,
   "metadata": {},
   "outputs": [],
   "source": [
    "sentiment_pipeline = Pipeline([\n",
    "    (\"features\", FeatureUnion([\n",
    "        (\"ngram_tf_idf\", Pipeline([\n",
    "            (\"counts\", CountVectorizer(tokenizer=tokenizer.tokenize)),\n",
    "            (\"tf_idf\", TfidfTransformer())\n",
    "        ])),\n",
    "        (\"stats_vect\", Pipeline([\n",
    "            (\"tweet_stats\", TweetStats()),\n",
    "            (\"vect\", DictVectorizer()),\n",
    "        ])),\n",
    "    ])),\n",
    "    (\"classifier\", MultinomialNB())\n",
    "])"
   ]
  },
  {
   "cell_type": "markdown",
   "metadata": {},
   "source": [
    "#### Show the results"
   ]
  },
  {
   "cell_type": "code",
   "execution_count": 9,
   "metadata": {},
   "outputs": [],
   "source": [
    "sentiment_pipeline.fit(text_train, class_train)\n",
    "predictions = sentiment_pipeline.predict(text_test)"
   ]
  },
  {
   "cell_type": "code",
   "execution_count": 10,
   "metadata": {},
   "outputs": [
    {
     "name": "stdout",
     "output_type": "stream",
     "text": [
      "             precision    recall  f1-score   support\n",
      "\n",
      "   negative       0.94      0.87      0.90      1829\n",
      "   positive       0.88      0.94      0.91      1854\n",
      "\n",
      "avg / total       0.91      0.90      0.90      3683\n",
      "\n"
     ]
    }
   ],
   "source": [
    "print(classification_report(class_test, predictions))"
   ]
  },
  {
   "cell_type": "markdown",
   "metadata": {},
   "source": [
    "#### Define function for visualizing confusion matrices"
   ]
  },
  {
   "cell_type": "code",
   "execution_count": 11,
   "metadata": {},
   "outputs": [],
   "source": [
    "def plot_confusion_matrix(cm, classes, normalize=False,\n",
    "                          title='Confusion matrix', cmap=plt.cm.Blues):\n",
    "    if normalize:\n",
    "        cm = cm.astype('float') / cm.sum(axis=1)[:, np.newaxis]\n",
    "\n",
    "    plt.imshow(cm, interpolation='nearest', cmap=cmap)\n",
    "    plt.title(title)\n",
    "    plt.colorbar()\n",
    "    tick_marks = np.arange(len(classes))\n",
    "    plt.xticks(tick_marks, classes, rotation=45)\n",
    "    plt.yticks(tick_marks, classes)\n",
    "\n",
    "    fmt = '.2f' if normalize else 'd'\n",
    "    thresh = cm.max() / 2.\n",
    "    for i, j in itertools.product(range(cm.shape[0]), range(cm.shape[1])):\n",
    "        plt.text(j, i, format(cm[i, j], fmt),\n",
    "                 horizontalalignment=\"center\",\n",
    "                 color=\"white\" if cm[i, j] > thresh else \"black\")\n",
    "\n",
    "    plt.tight_layout()\n",
    "    plt.ylabel('True label')\n",
    "    plt.xlabel('Predicted label')"
   ]
  },
  {
   "cell_type": "markdown",
   "metadata": {},
   "source": [
    "#### Show the matrices"
   ]
  },
  {
   "cell_type": "code",
   "execution_count": 12,
   "metadata": {},
   "outputs": [
    {
     "data": {
      "image/png": "[encoded data removed]",
      "text/plain": [
       "<Figure size 432x288 with 2 Axes>"
      ]
     },
     "metadata": {},
     "output_type": "display_data"
    },
    {
     "data": {
      "image/png": "[encoded data removed]",
      "text/plain": [
       "<Figure size 432x288 with 2 Axes>"
      ]
     },
     "metadata": {},
     "output_type": "display_data"
    }
   ],
   "source": [
    "class_names = [\"negative\", \"positive\"]\n",
    "\n",
    "cnf_matrix = confusion_matrix(class_test, predictions)\n",
    "np.set_printoptions(precision=2)\n",
    "\n",
    "plt.figure()\n",
    "plot_confusion_matrix(cnf_matrix, classes=class_names,\n",
    "                      title='Confusion matrix, without normalization')\n",
    "\n",
    "plt.figure()\n",
    "plot_confusion_matrix(cnf_matrix, classes=class_names, normalize=True,\n",
    "                      title='Normalized confusion matrix')\n",
    "\n",
    "plt.show()"
   ]
  },
  {
   "cell_type": "markdown",
   "metadata": {},
   "source": [
    "#### Save the classifier for another time"
   ]
  },
  {
   "cell_type": "code",
   "execution_count": 13,
   "metadata": {},
   "outputs": [
    {
     "data": {
      "text/plain": [
       "['../data/non_subtweets_data/subtweets_classifier.pkl']"
      ]
     },
     "execution_count": 13,
     "metadata": {},
     "output_type": "execute_result"
    }
   ],
   "source": [
    "joblib.dump(sentiment_pipeline, \"../data/non_subtweets_data/subtweets_classifier.pkl\") "
   ]
  },
  {
   "cell_type": "markdown",
   "metadata": {},
   "source": [
    "#### Print tests for the classifier"
   ]
  },
  {
   "cell_type": "code",
   "execution_count": 14,
   "metadata": {},
   "outputs": [],
   "source": [
    "def tests_dataframe(tweets_dataframe, text_column=\"SentimentText\", sentiment_column=\"Sentiment\"):\n",
    "    predictions = sentiment_pipeline.predict_proba(tweets_dataframe[text_column])\n",
    "    negative_probability = predictions[:, 0].tolist()\n",
    "    positive_probability = predictions[:, 1].tolist()\n",
    "    return pd.DataFrame({\"tweet\": tweets_dataframe[text_column], \n",
    "                         \"sentiment_score\": tweets_dataframe[sentiment_column], \n",
    "                         \"subtweet_negative_probability\": negative_probability, \n",
    "                         \"subtweet_positive_probability\": positive_probability}).sort_values(by=\"subtweet_positive_probability\", \n",
    "                                                                                             ascending=False)"
   ]
  },
  {
   "cell_type": "markdown",
   "metadata": {},
   "source": [
    "#### Make up some tweets"
   ]
  },
  {
   "cell_type": "code",
   "execution_count": 15,
   "metadata": {},
   "outputs": [],
   "source": [
    "test_tweets = [\"Some people don't know their place.\", \n",
    "               \"Isn't it funny how some people don't know their place?\", \n",
    "               \"How come you people act like this?\", \n",
    "               \"You're such a nerd.\",\n",
    "               \"I love Noah, he's so cool.\",\n",
    "               \"Who the heck is Noah?\",\n",
    "               \"This is a @NoahSegalGould subtweet. Go check out https://segal-gould.com.\", \n",
    "               \"This is a subtweet.\", \n",
    "               \"Hey @jack!\", \n",
    "               \"Hey Jack!\",\n",
    "               \"http://www.google.com\"]"
   ]
  },
  {
   "cell_type": "markdown",
   "metadata": {},
   "source": [
    "#### Make a dataframe from the list"
   ]
  },
  {
   "cell_type": "code",
   "execution_count": 16,
   "metadata": {},
   "outputs": [],
   "source": [
    "test_tweets_df = pd.DataFrame({\"Tweet\": test_tweets, \"Sentiment\": [None]*len(test_tweets)})"
   ]
  },
  {
   "cell_type": "markdown",
   "metadata": {},
   "source": [
    "#### Print the tests"
   ]
  },
  {
   "cell_type": "code",
   "execution_count": 17,
   "metadata": {},
   "outputs": [
    {
     "data": {
      "text/html": [
       "<div>\n",
       "<style scoped>\n",
       "    .dataframe tbody tr th:only-of-type {\n",
       "        vertical-align: middle;\n",
       "    }\n",
       "\n",
       "    .dataframe tbody tr th {\n",
       "        vertical-align: top;\n",
       "    }\n",
       "\n",
       "    .dataframe thead th {\n",
       "        text-align: right;\n",
       "    }\n",
       "</style>\n",
       "<table border=\"1\" class=\"dataframe\">\n",
       "  <thead>\n",
       "    <tr style=\"text-align: right;\">\n",
       "      <th></th>\n",
       "      <th>sentiment_score</th>\n",
       "      <th>subtweet_negative_probability</th>\n",
       "      <th>subtweet_positive_probability</th>\n",
       "      <th>tweet</th>\n",
       "    </tr>\n",
       "  </thead>\n",
       "  <tbody>\n",
       "    <tr>\n",
       "      <th>1</th>\n",
       "      <td>None</td>\n",
       "      <td>0.060241</td>\n",
       "      <td>0.939759</td>\n",
       "      <td>Isn't it funny how some people don't know their place?</td>\n",
       "    </tr>\n",
       "    <tr>\n",
       "      <th>2</th>\n",
       "      <td>None</td>\n",
       "      <td>0.060887</td>\n",
       "      <td>0.939113</td>\n",
       "      <td>How come you people act like this?</td>\n",
       "    </tr>\n",
       "    <tr>\n",
       "      <th>0</th>\n",
       "      <td>None</td>\n",
       "      <td>0.063270</td>\n",
       "      <td>0.936730</td>\n",
       "      <td>Some people don't know their place.</td>\n",
       "    </tr>\n",
       "    <tr>\n",
       "      <th>3</th>\n",
       "      <td>None</td>\n",
       "      <td>0.423254</td>\n",
       "      <td>0.576746</td>\n",
       "      <td>You're such a nerd.</td>\n",
       "    </tr>\n",
       "    <tr>\n",
       "      <th>7</th>\n",
       "      <td>None</td>\n",
       "      <td>0.633780</td>\n",
       "      <td>0.366220</td>\n",
       "      <td>This is a subtweet.</td>\n",
       "    </tr>\n",
       "  </tbody>\n",
       "</table>\n",
       "</div>"
      ],
      "text/plain": [
       "  sentiment_score  subtweet_negative_probability  \\\n",
       "1            None                       0.060241   \n",
       "2            None                       0.060887   \n",
       "0            None                       0.063270   \n",
       "3            None                       0.423254   \n",
       "7            None                       0.633780   \n",
       "\n",
       "   subtweet_positive_probability  \\\n",
       "1                       0.939759   \n",
       "2                       0.939113   \n",
       "0                       0.936730   \n",
       "3                       0.576746   \n",
       "7                       0.366220   \n",
       "\n",
       "                                                    tweet  \n",
       "1  Isn't it funny how some people don't know their place?  \n",
       "2                      How come you people act like this?  \n",
       "0                     Some people don't know their place.  \n",
       "3                                     You're such a nerd.  \n",
       "7                                     This is a subtweet.  "
      ]
     },
     "execution_count": 17,
     "metadata": {},
     "output_type": "execute_result"
    }
   ],
   "source": [
    "tests_dataframe(test_tweets_df, text_column=\"Tweet\", sentiment_column=\"Sentiment\").head()"
   ]
  },
  {
   "cell_type": "markdown",
   "metadata": {},
   "source": [
    "#### Test on actual tweets"
   ]
  },
  {
   "cell_type": "code",
   "execution_count": 18,
   "metadata": {},
   "outputs": [
    {
     "name": "stderr",
     "output_type": "stream",
     "text": [
      "b'Skipping line 8836: expected 4 fields, saw 5\\n'\n",
      "b'Skipping line 535882: expected 4 fields, saw 7\\n'\n"
     ]
    }
   ],
   "source": [
    "naji_df = pd.read_csv(\"../data/non_subtweets_data/naji_data.csv\", error_bad_lines=False)"
   ]
  },
  {
   "cell_type": "markdown",
   "metadata": {},
   "source": [
    "#### Repair some leftover HTML"
   ]
  },
  {
   "cell_type": "code",
   "execution_count": 19,
   "metadata": {},
   "outputs": [],
   "source": [
    "naji_df[\"SentimentText\"] = naji_df[\"SentimentText\"].str.replace(\"&quot;\", \"\\\"\")\n",
    "naji_df[\"SentimentText\"] = naji_df[\"SentimentText\"].str.replace(\"&amp;\", \"&\")\n",
    "naji_df[\"SentimentText\"] = naji_df[\"SentimentText\"].str.replace(\"&gt;\", \">\")\n",
    "naji_df[\"SentimentText\"] = naji_df[\"SentimentText\"].str.replace(\"&lt;\", \"<\")"
   ]
  },
  {
   "cell_type": "markdown",
   "metadata": {},
   "source": [
    "#### Remove rows with non-English"
   ]
  },
  {
   "cell_type": "code",
   "execution_count": 20,
   "metadata": {},
   "outputs": [],
   "source": [
    "def is_english(s):\n",
    "    return all(ord(char) < 128 for char in s)"
   ]
  },
  {
   "cell_type": "code",
   "execution_count": 21,
   "metadata": {},
   "outputs": [],
   "source": [
    "naji_df = naji_df[naji_df[\"SentimentText\"].map(is_english)]"
   ]
  },
  {
   "cell_type": "markdown",
   "metadata": {},
   "source": [
    "#### Show the length of the dataset"
   ]
  },
  {
   "cell_type": "code",
   "execution_count": 22,
   "metadata": {},
   "outputs": [
    {
     "data": {
      "text/plain": [
       "1564156"
      ]
     },
     "execution_count": 22,
     "metadata": {},
     "output_type": "execute_result"
    }
   ],
   "source": [
    "len(naji_df)"
   ]
  },
  {
   "cell_type": "markdown",
   "metadata": {},
   "source": [
    "#### Use randomly selected 500K rows from dataset"
   ]
  },
  {
   "cell_type": "code",
   "execution_count": 23,
   "metadata": {},
   "outputs": [],
   "source": [
    "naji_df = naji_df.sample(n=500000).reset_index(drop=True)"
   ]
  },
  {
   "cell_type": "markdown",
   "metadata": {},
   "source": [
    "#### Print and time the tests"
   ]
  },
  {
   "cell_type": "code",
   "execution_count": 24,
   "metadata": {
    "scrolled": false
   },
   "outputs": [
    {
     "name": "stdout",
     "output_type": "stream",
     "text": [
      "CPU times: user 1min 38s, sys: 1.65 s, total: 1min 40s\n",
      "Wall time: 1min 40s\n"
     ]
    }
   ],
   "source": [
    "%%time\n",
    "naji_df = tests_dataframe(naji_df)"
   ]
  },
  {
   "cell_type": "code",
   "execution_count": 25,
   "metadata": {},
   "outputs": [],
   "source": [
    "naji_df.to_csv(\"../data/non_subtweets_data/naji_tests.csv\")"
   ]
  },
  {
   "cell_type": "code",
   "execution_count": 26,
   "metadata": {},
   "outputs": [
    {
     "data": {
      "text/html": [
       "<div>\n",
       "<style scoped>\n",
       "    .dataframe tbody tr th:only-of-type {\n",
       "        vertical-align: middle;\n",
       "    }\n",
       "\n",
       "    .dataframe tbody tr th {\n",
       "        vertical-align: top;\n",
       "    }\n",
       "\n",
       "    .dataframe thead th {\n",
       "        text-align: right;\n",
       "    }\n",
       "</style>\n",
       "<table border=\"1\" class=\"dataframe\">\n",
       "  <thead>\n",
       "    <tr style=\"text-align: right;\">\n",
       "      <th></th>\n",
       "      <th>sentiment_score</th>\n",
       "      <th>subtweet_negative_probability</th>\n",
       "      <th>subtweet_positive_probability</th>\n",
       "      <th>tweet</th>\n",
       "    </tr>\n",
       "  </thead>\n",
       "  <tbody>\n",
       "    <tr>\n",
       "      <th>150961</th>\n",
       "      <td>0</td>\n",
       "      <td>0.009316</td>\n",
       "      <td>0.990684</td>\n",
       "      <td>You know what I hate when people spend every minute with their boyfriends and never have time for their friends anymore</td>\n",
       "    </tr>\n",
       "    <tr>\n",
       "      <th>177717</th>\n",
       "      <td>0</td>\n",
       "      <td>0.010731</td>\n",
       "      <td>0.989269</td>\n",
       "      <td>why is that when you feel someone? they don feel for you back...  i hate feelings man</td>\n",
       "    </tr>\n",
       "    <tr>\n",
       "      <th>269954</th>\n",
       "      <td>0</td>\n",
       "      <td>0.010752</td>\n",
       "      <td>0.989248</td>\n",
       "      <td>don't you just hate it when you're talking to someone on MSN and they don't respond for ages and you think you've made them upset</td>\n",
       "    </tr>\n",
       "    <tr>\n",
       "      <th>367181</th>\n",
       "      <td>0</td>\n",
       "      <td>0.010810</td>\n",
       "      <td>0.989190</td>\n",
       "      <td>Hate men who sit directly in front of you with legs wide open. Like they're showing off their masculinity to you or something</td>\n",
       "    </tr>\n",
       "    <tr>\n",
       "      <th>299696</th>\n",
       "      <td>0</td>\n",
       "      <td>0.010839</td>\n",
       "      <td>0.989161</td>\n",
       "      <td>People who allude to their problems but don't explain them make me really worried about them.  I care about people a bit too much I think.</td>\n",
       "    </tr>\n",
       "  </tbody>\n",
       "</table>\n",
       "</div>"
      ],
      "text/plain": [
       "        sentiment_score  subtweet_negative_probability  \\\n",
       "150961                0                       0.009316   \n",
       "177717                0                       0.010731   \n",
       "269954                0                       0.010752   \n",
       "367181                0                       0.010810   \n",
       "299696                0                       0.010839   \n",
       "\n",
       "        subtweet_positive_probability  \\\n",
       "150961                       0.990684   \n",
       "177717                       0.989269   \n",
       "269954                       0.989248   \n",
       "367181                       0.989190   \n",
       "299696                       0.989161   \n",
       "\n",
       "                                                                                                                                             tweet  \n",
       "150961                    You know what I hate when people spend every minute with their boyfriends and never have time for their friends anymore   \n",
       "177717                                                       why is that when you feel someone? they don feel for you back...  i hate feelings man  \n",
       "269954          don't you just hate it when you're talking to someone on MSN and they don't respond for ages and you think you've made them upset   \n",
       "367181              Hate men who sit directly in front of you with legs wide open. Like they're showing off their masculinity to you or something   \n",
       "299696  People who allude to their problems but don't explain them make me really worried about them.  I care about people a bit too much I think.  "
      ]
     },
     "execution_count": 26,
     "metadata": {},
     "output_type": "execute_result"
    }
   ],
   "source": [
    "naji_df.head()"
   ]
  },
  {
   "cell_type": "markdown",
   "metadata": {},
   "source": [
    "#### Tests on friends' tweets"
   ]
  },
  {
   "cell_type": "code",
   "execution_count": 27,
   "metadata": {},
   "outputs": [],
   "source": [
    "aaron_df = pd.read_csv(\"../data/friends_tweets/akrapf96_tweets.csv\").dropna()\n",
    "aaron_df[\"Sentiment\"] = None"
   ]
  },
  {
   "cell_type": "code",
   "execution_count": 28,
   "metadata": {
    "scrolled": true
   },
   "outputs": [
    {
     "name": "stdout",
     "output_type": "stream",
     "text": [
      "CPU times: user 619 ms, sys: 12.3 ms, total: 631 ms\n",
      "Wall time: 633 ms\n"
     ]
    }
   ],
   "source": [
    "%%time\n",
    "aaron_df = tests_dataframe(aaron_df, text_column=\"Text\", sentiment_column=\"Sentiment\")"
   ]
  },
  {
   "cell_type": "code",
   "execution_count": 29,
   "metadata": {},
   "outputs": [],
   "source": [
    "aaron_df.to_csv(\"../data/friends_tweets/akrapf96_tests.csv\")"
   ]
  },
  {
   "cell_type": "code",
   "execution_count": 30,
   "metadata": {},
   "outputs": [
    {
     "data": {
      "text/html": [
       "<div>\n",
       "<style scoped>\n",
       "    .dataframe tbody tr th:only-of-type {\n",
       "        vertical-align: middle;\n",
       "    }\n",
       "\n",
       "    .dataframe tbody tr th {\n",
       "        vertical-align: top;\n",
       "    }\n",
       "\n",
       "    .dataframe thead th {\n",
       "        text-align: right;\n",
       "    }\n",
       "</style>\n",
       "<table border=\"1\" class=\"dataframe\">\n",
       "  <thead>\n",
       "    <tr style=\"text-align: right;\">\n",
       "      <th></th>\n",
       "      <th>sentiment_score</th>\n",
       "      <th>subtweet_negative_probability</th>\n",
       "      <th>subtweet_positive_probability</th>\n",
       "      <th>tweet</th>\n",
       "    </tr>\n",
       "  </thead>\n",
       "  <tbody>\n",
       "    <tr>\n",
       "      <th>2893</th>\n",
       "      <td>None</td>\n",
       "      <td>0.009620</td>\n",
       "      <td>0.990380</td>\n",
       "      <td>I love arguing with conservative bigots who don't understand basic decency. People have their own beliefs, just let them believe.</td>\n",
       "    </tr>\n",
       "    <tr>\n",
       "      <th>1784</th>\n",
       "      <td>None</td>\n",
       "      <td>0.018352</td>\n",
       "      <td>0.981648</td>\n",
       "      <td>When your professor tells a student to leave class to go get their book \\nWhat if they live on North campus?\\nSorry kid</td>\n",
       "    </tr>\n",
       "    <tr>\n",
       "      <th>1722</th>\n",
       "      <td>None</td>\n",
       "      <td>0.019042</td>\n",
       "      <td>0.980958</td>\n",
       "      <td>PewDiePie posts video \"apologizing\" for his Kill All Jews \"joke\" and it's really about how he makes a ton of money and the media hates him</td>\n",
       "    </tr>\n",
       "    <tr>\n",
       "      <th>225</th>\n",
       "      <td>None</td>\n",
       "      <td>0.019301</td>\n",
       "      <td>0.980699</td>\n",
       "      <td>Can people stop putting eggs in their dog's mouths, one of them is gonna choke on it</td>\n",
       "    </tr>\n",
       "    <tr>\n",
       "      <th>3236</th>\n",
       "      <td>None</td>\n",
       "      <td>0.019434</td>\n",
       "      <td>0.980566</td>\n",
       "      <td>What will straight cis people do now with their \"legalize gay\" shirts? Frame them, probably</td>\n",
       "    </tr>\n",
       "  </tbody>\n",
       "</table>\n",
       "</div>"
      ],
      "text/plain": [
       "     sentiment_score  subtweet_negative_probability  \\\n",
       "2893            None                       0.009620   \n",
       "1784            None                       0.018352   \n",
       "1722            None                       0.019042   \n",
       "225             None                       0.019301   \n",
       "3236            None                       0.019434   \n",
       "\n",
       "      subtweet_positive_probability  \\\n",
       "2893                       0.990380   \n",
       "1784                       0.981648   \n",
       "1722                       0.980958   \n",
       "225                        0.980699   \n",
       "3236                       0.980566   \n",
       "\n",
       "                                                                                                                                           tweet  \n",
       "2893           I love arguing with conservative bigots who don't understand basic decency. People have their own beliefs, just let them believe.  \n",
       "1784                     When your professor tells a student to leave class to go get their book \\nWhat if they live on North campus?\\nSorry kid  \n",
       "1722  PewDiePie posts video \"apologizing\" for his Kill All Jews \"joke\" and it's really about how he makes a ton of money and the media hates him  \n",
       "225                                                         Can people stop putting eggs in their dog's mouths, one of them is gonna choke on it  \n",
       "3236                                                 What will straight cis people do now with their \"legalize gay\" shirts? Frame them, probably  "
      ]
     },
     "execution_count": 30,
     "metadata": {},
     "output_type": "execute_result"
    }
   ],
   "source": [
    "aaron_df.head()"
   ]
  },
  {
   "cell_type": "code",
   "execution_count": 31,
   "metadata": {},
   "outputs": [],
   "source": [
    "julia_df = pd.read_csv(\"../data/friends_tweets/juliaeberry_tweets.csv\").dropna()\n",
    "julia_df[\"Sentiment\"] = None"
   ]
  },
  {
   "cell_type": "code",
   "execution_count": 32,
   "metadata": {
    "scrolled": false
   },
   "outputs": [
    {
     "name": "stdout",
     "output_type": "stream",
     "text": [
      "CPU times: user 1.54 s, sys: 24.5 ms, total: 1.57 s\n",
      "Wall time: 1.62 s\n"
     ]
    }
   ],
   "source": [
    "%%time\n",
    "julia_df = tests_dataframe(julia_df, text_column=\"Text\", sentiment_column=\"Sentiment\")"
   ]
  },
  {
   "cell_type": "code",
   "execution_count": 33,
   "metadata": {},
   "outputs": [],
   "source": [
    "julia_df.to_csv(\"../data/friends_tweets/juliaeberry_tests.csv\")"
   ]
  },
  {
   "cell_type": "code",
   "execution_count": 34,
   "metadata": {},
   "outputs": [
    {
     "data": {
      "text/html": [
       "<div>\n",
       "<style scoped>\n",
       "    .dataframe tbody tr th:only-of-type {\n",
       "        vertical-align: middle;\n",
       "    }\n",
       "\n",
       "    .dataframe tbody tr th {\n",
       "        vertical-align: top;\n",
       "    }\n",
       "\n",
       "    .dataframe thead th {\n",
       "        text-align: right;\n",
       "    }\n",
       "</style>\n",
       "<table border=\"1\" class=\"dataframe\">\n",
       "  <thead>\n",
       "    <tr style=\"text-align: right;\">\n",
       "      <th></th>\n",
       "      <th>sentiment_score</th>\n",
       "      <th>subtweet_negative_probability</th>\n",
       "      <th>subtweet_positive_probability</th>\n",
       "      <th>tweet</th>\n",
       "    </tr>\n",
       "  </thead>\n",
       "  <tbody>\n",
       "    <tr>\n",
       "      <th>773</th>\n",
       "      <td>None</td>\n",
       "      <td>0.006374</td>\n",
       "      <td>0.993626</td>\n",
       "      <td>\"I do feel grateful for the fact that we have one another, because I think people search their whole lives for someone that special\" -tessa\\n\\nwho even says this about somebody that they don't want to marry/be with forever? v/m soundbytes will be the death of me #virtuemoir</td>\n",
       "    </tr>\n",
       "    <tr>\n",
       "      <th>1138</th>\n",
       "      <td>None</td>\n",
       "      <td>0.006738</td>\n",
       "      <td>0.993262</td>\n",
       "      <td>\"what a COINcidence that you're here,\" drawls Bitcoin lustily. your palms sweat as you imagine what it would be like to own this creature, to do with him what you will. you drag your cursor over his coinhood, and he gasps. \\n\"transaction complete,\" you whisper into his ear la...</td>\n",
       "    </tr>\n",
       "    <tr>\n",
       "      <th>1799</th>\n",
       "      <td>None</td>\n",
       "      <td>0.007164</td>\n",
       "      <td>0.992836</td>\n",
       "      <td>it really doesn't help that the sample ethnography my prof gave us is about sexism in jazz departments, an actual Serious Topic and Issue, and i'm just like, people sometimes feel isolated at their carrels, but also they sometimes feel a sense of community :-)</td>\n",
       "    </tr>\n",
       "    <tr>\n",
       "      <th>3375</th>\n",
       "      <td>None</td>\n",
       "      <td>0.009230</td>\n",
       "      <td>0.990770</td>\n",
       "      <td>\"let me ask u this, who is the number one enemy of homosexuals? that’s right, rednecks. claudius married his brother’s wife and hates plays\"</td>\n",
       "    </tr>\n",
       "    <tr>\n",
       "      <th>663</th>\n",
       "      <td>None</td>\n",
       "      <td>0.010436</td>\n",
       "      <td>0.989564</td>\n",
       "      <td>even if you are committed to cheating how can you possibly think that p/c are on the same level as v/m when you're watching papadakis shakily clamber onto cizeron for a lift in their short dance after you've just seen tessa hook her legs around scott's head and spin in THEIR ...</td>\n",
       "    </tr>\n",
       "  </tbody>\n",
       "</table>\n",
       "</div>"
      ],
      "text/plain": [
       "     sentiment_score  subtweet_negative_probability  \\\n",
       "773             None                       0.006374   \n",
       "1138            None                       0.006738   \n",
       "1799            None                       0.007164   \n",
       "3375            None                       0.009230   \n",
       "663             None                       0.010436   \n",
       "\n",
       "      subtweet_positive_probability  \\\n",
       "773                        0.993626   \n",
       "1138                       0.993262   \n",
       "1799                       0.992836   \n",
       "3375                       0.990770   \n",
       "663                        0.989564   \n",
       "\n",
       "                                                                                                                                                                                                                                                                                        tweet  \n",
       "773        \"I do feel grateful for the fact that we have one another, because I think people search their whole lives for someone that special\" -tessa\\n\\nwho even says this about somebody that they don't want to marry/be with forever? v/m soundbytes will be the death of me #virtuemoir  \n",
       "1138  \"what a COINcidence that you're here,\" drawls Bitcoin lustily. your palms sweat as you imagine what it would be like to own this creature, to do with him what you will. you drag your cursor over his coinhood, and he gasps. \\n\"transaction complete,\" you whisper into his ear la...  \n",
       "1799                     it really doesn't help that the sample ethnography my prof gave us is about sexism in jazz departments, an actual Serious Topic and Issue, and i'm just like, people sometimes feel isolated at their carrels, but also they sometimes feel a sense of community :-)  \n",
       "3375                                                                                                                                             \"let me ask u this, who is the number one enemy of homosexuals? that’s right, rednecks. claudius married his brother’s wife and hates plays\"  \n",
       "663   even if you are committed to cheating how can you possibly think that p/c are on the same level as v/m when you're watching papadakis shakily clamber onto cizeron for a lift in their short dance after you've just seen tessa hook her legs around scott's head and spin in THEIR ...  "
      ]
     },
     "execution_count": 34,
     "metadata": {},
     "output_type": "execute_result"
    }
   ],
   "source": [
    "julia_df.head()"
   ]
  },
  {
   "cell_type": "code",
   "execution_count": 35,
   "metadata": {},
   "outputs": [],
   "source": [
    "zoe_df = pd.read_csv(\"../data/friends_tweets/zoeterhune_tweets.csv\").dropna()\n",
    "zoe_df[\"Sentiment\"] = None"
   ]
  },
  {
   "cell_type": "code",
   "execution_count": 36,
   "metadata": {},
   "outputs": [
    {
     "name": "stdout",
     "output_type": "stream",
     "text": [
      "CPU times: user 266 ms, sys: 6.45 ms, total: 273 ms\n",
      "Wall time: 281 ms\n"
     ]
    }
   ],
   "source": [
    "%%time\n",
    "zoe_df = tests_dataframe(zoe_df, text_column=\"Text\", sentiment_column=\"Sentiment\")"
   ]
  },
  {
   "cell_type": "code",
   "execution_count": 37,
   "metadata": {},
   "outputs": [],
   "source": [
    "zoe_df.to_csv(\"../data/friends_tweets/zoeterhune_tests.csv\")"
   ]
  },
  {
   "cell_type": "code",
   "execution_count": 38,
   "metadata": {},
   "outputs": [
    {
     "data": {
      "text/html": [
       "<div>\n",
       "<style scoped>\n",
       "    .dataframe tbody tr th:only-of-type {\n",
       "        vertical-align: middle;\n",
       "    }\n",
       "\n",
       "    .dataframe tbody tr th {\n",
       "        vertical-align: top;\n",
       "    }\n",
       "\n",
       "    .dataframe thead th {\n",
       "        text-align: right;\n",
       "    }\n",
       "</style>\n",
       "<table border=\"1\" class=\"dataframe\">\n",
       "  <thead>\n",
       "    <tr style=\"text-align: right;\">\n",
       "      <th></th>\n",
       "      <th>sentiment_score</th>\n",
       "      <th>subtweet_negative_probability</th>\n",
       "      <th>subtweet_positive_probability</th>\n",
       "      <th>tweet</th>\n",
       "    </tr>\n",
       "  </thead>\n",
       "  <tbody>\n",
       "    <tr>\n",
       "      <th>1304</th>\n",
       "      <td>None</td>\n",
       "      <td>0.002117</td>\n",
       "      <td>0.997883</td>\n",
       "      <td>maybe girls don’t “go for nice guys” bc they’re too busy going for nice girls</td>\n",
       "    </tr>\n",
       "    <tr>\n",
       "      <th>1186</th>\n",
       "      <td>None</td>\n",
       "      <td>0.006694</td>\n",
       "      <td>0.993306</td>\n",
       "      <td>no offense but what kind of school doesn’t let students park in a lot that’s literally called the main lot</td>\n",
       "    </tr>\n",
       "    <tr>\n",
       "      <th>318</th>\n",
       "      <td>None</td>\n",
       "      <td>0.007774</td>\n",
       "      <td>0.992226</td>\n",
       "      <td>bc she’s pURDY</td>\n",
       "    </tr>\n",
       "    <tr>\n",
       "      <th>584</th>\n",
       "      <td>None</td>\n",
       "      <td>0.008940</td>\n",
       "      <td>0.991060</td>\n",
       "      <td>the funny thing about anxiety is one minute you could be playing one of your favorite tabletop games w some of your favorite people and then the next you could be having a panic attack in the bathroom bc three people laughing/yelling (in jest) at you suddenly set something off</td>\n",
       "    </tr>\n",
       "    <tr>\n",
       "      <th>277</th>\n",
       "      <td>None</td>\n",
       "      <td>0.008960</td>\n",
       "      <td>0.991040</td>\n",
       "      <td>ok so people from my old school keep lamenting the death of someone to whom they claim to be close but also like continually misgender them in their lamentations?? I Don't Like This</td>\n",
       "    </tr>\n",
       "  </tbody>\n",
       "</table>\n",
       "</div>"
      ],
      "text/plain": [
       "     sentiment_score  subtweet_negative_probability  \\\n",
       "1304            None                       0.002117   \n",
       "1186            None                       0.006694   \n",
       "318             None                       0.007774   \n",
       "584             None                       0.008940   \n",
       "277             None                       0.008960   \n",
       "\n",
       "      subtweet_positive_probability  \\\n",
       "1304                       0.997883   \n",
       "1186                       0.993306   \n",
       "318                        0.992226   \n",
       "584                        0.991060   \n",
       "277                        0.991040   \n",
       "\n",
       "                                                                                                                                                                                                                                                                                      tweet  \n",
       "1304                                                                                                                                                                                                          maybe girls don’t “go for nice guys” bc they’re too busy going for nice girls  \n",
       "1186                                                                                                                                                                             no offense but what kind of school doesn’t let students park in a lot that’s literally called the main lot  \n",
       "318                                                                                                                                                                                                                                                                          bc she’s pURDY  \n",
       "584   the funny thing about anxiety is one minute you could be playing one of your favorite tabletop games w some of your favorite people and then the next you could be having a panic attack in the bathroom bc three people laughing/yelling (in jest) at you suddenly set something off  \n",
       "277                                                                                                   ok so people from my old school keep lamenting the death of someone to whom they claim to be close but also like continually misgender them in their lamentations?? I Don't Like This  "
      ]
     },
     "execution_count": 38,
     "metadata": {},
     "output_type": "execute_result"
    }
   ],
   "source": [
    "zoe_df.head()"
   ]
  },
  {
   "cell_type": "code",
   "execution_count": 39,
   "metadata": {},
   "outputs": [],
   "source": [
    "noah_df = pd.read_csv(\"../data/friends_tweets/noahsegalgould_tweets.csv\").dropna()\n",
    "noah_df[\"Sentiment\"] = None"
   ]
  },
  {
   "cell_type": "code",
   "execution_count": 40,
   "metadata": {
    "scrolled": false
   },
   "outputs": [
    {
     "name": "stdout",
     "output_type": "stream",
     "text": [
      "CPU times: user 821 ms, sys: 14.6 ms, total: 835 ms\n",
      "Wall time: 841 ms\n"
     ]
    }
   ],
   "source": [
    "%%time\n",
    "noah_df = tests_dataframe(noah_df, text_column=\"Text\", sentiment_column=\"Sentiment\")"
   ]
  },
  {
   "cell_type": "code",
   "execution_count": 41,
   "metadata": {},
   "outputs": [],
   "source": [
    "noah_df.to_csv(\"../data/friends_tweets/noahsegalgould_tests.csv\")"
   ]
  },
  {
   "cell_type": "code",
   "execution_count": 42,
   "metadata": {},
   "outputs": [
    {
     "data": {
      "text/html": [
       "<div>\n",
       "<style scoped>\n",
       "    .dataframe tbody tr th:only-of-type {\n",
       "        vertical-align: middle;\n",
       "    }\n",
       "\n",
       "    .dataframe tbody tr th {\n",
       "        vertical-align: top;\n",
       "    }\n",
       "\n",
       "    .dataframe thead th {\n",
       "        text-align: right;\n",
       "    }\n",
       "</style>\n",
       "<table border=\"1\" class=\"dataframe\">\n",
       "  <thead>\n",
       "    <tr style=\"text-align: right;\">\n",
       "      <th></th>\n",
       "      <th>sentiment_score</th>\n",
       "      <th>subtweet_negative_probability</th>\n",
       "      <th>subtweet_positive_probability</th>\n",
       "      <th>tweet</th>\n",
       "    </tr>\n",
       "  </thead>\n",
       "  <tbody>\n",
       "    <tr>\n",
       "      <th>877</th>\n",
       "      <td>None</td>\n",
       "      <td>0.000489</td>\n",
       "      <td>0.999511</td>\n",
       "      <td>I guess I think it’s foolish to rely on any website for being your source of personal fulfillment and especially as your only source for political change. The companies which own your speech aren’t going to let you dismantle them. And their goal isn’t ever going to be to help...</td>\n",
       "    </tr>\n",
       "    <tr>\n",
       "      <th>607</th>\n",
       "      <td>None</td>\n",
       "      <td>0.001631</td>\n",
       "      <td>0.998369</td>\n",
       "      <td>I don’t fuck with the symmetrarians</td>\n",
       "    </tr>\n",
       "    <tr>\n",
       "      <th>105</th>\n",
       "      <td>None</td>\n",
       "      <td>0.001636</td>\n",
       "      <td>0.998364</td>\n",
       "      <td>In a target parking lot, I see him: he’s carrying a frozen Starbucks beverage that doesn’t appear to be coffee and his hood is missing a drawstring, so the wind keeps blowing it down. I don’t know his name, but I want to.</td>\n",
       "    </tr>\n",
       "    <tr>\n",
       "      <th>608</th>\n",
       "      <td>None</td>\n",
       "      <td>0.002087</td>\n",
       "      <td>0.997913</td>\n",
       "      <td>If your face is symmetrical I don’t like you</td>\n",
       "    </tr>\n",
       "    <tr>\n",
       "      <th>1503</th>\n",
       "      <td>None</td>\n",
       "      <td>0.003146</td>\n",
       "      <td>0.996854</td>\n",
       "      <td>Honestly I don’t remember</td>\n",
       "    </tr>\n",
       "  </tbody>\n",
       "</table>\n",
       "</div>"
      ],
      "text/plain": [
       "     sentiment_score  subtweet_negative_probability  \\\n",
       "877             None                       0.000489   \n",
       "607             None                       0.001631   \n",
       "105             None                       0.001636   \n",
       "608             None                       0.002087   \n",
       "1503            None                       0.003146   \n",
       "\n",
       "      subtweet_positive_probability  \\\n",
       "877                        0.999511   \n",
       "607                        0.998369   \n",
       "105                        0.998364   \n",
       "608                        0.997913   \n",
       "1503                       0.996854   \n",
       "\n",
       "                                                                                                                                                                                                                                                                                        tweet  \n",
       "877   I guess I think it’s foolish to rely on any website for being your source of personal fulfillment and especially as your only source for political change. The companies which own your speech aren’t going to let you dismantle them. And their goal isn’t ever going to be to help...  \n",
       "607                                                                                                                                                                                                                                                       I don’t fuck with the symmetrarians  \n",
       "105                                                             In a target parking lot, I see him: he’s carrying a frozen Starbucks beverage that doesn’t appear to be coffee and his hood is missing a drawstring, so the wind keeps blowing it down. I don’t know his name, but I want to.  \n",
       "608                                                                                                                                                                                                                                              If your face is symmetrical I don’t like you  \n",
       "1503                                                                                                                                                                                                                                                               Honestly I don’t remember   "
      ]
     },
     "execution_count": 42,
     "metadata": {},
     "output_type": "execute_result"
    }
   ],
   "source": [
    "noah_df.head()"
   ]
  },
  {
   "cell_type": "markdown",
   "metadata": {},
   "source": [
    "#### Test it in realtime\n",
    "#### Define some useful variables for later"
   ]
  },
  {
   "cell_type": "code",
   "execution_count": 43,
   "metadata": {},
   "outputs": [],
   "source": [
    "THRESHOLD = 0.95\n",
    "DURATION = 21600 # 6 hours"
   ]
  },
  {
   "cell_type": "markdown",
   "metadata": {},
   "source": [
    "#### Load Twitter API credentials"
   ]
  },
  {
   "cell_type": "code",
   "execution_count": 44,
   "metadata": {},
   "outputs": [],
   "source": [
    "consumer_key, consumer_secret, access_token, access_token_secret = open(\"../../credentials.txt\").read().split(\"\\n\")"
   ]
  },
  {
   "cell_type": "markdown",
   "metadata": {},
   "source": [
    "#### Prepare the final dataframe"
   ]
  },
  {
   "cell_type": "code",
   "execution_count": 45,
   "metadata": {},
   "outputs": [],
   "source": [
    "subtweets_live_list = []"
   ]
  },
  {
   "cell_type": "markdown",
   "metadata": {},
   "source": [
    "#### Create a custom class for streaming subtweets"
   ]
  },
  {
   "cell_type": "code",
   "execution_count": 46,
   "metadata": {},
   "outputs": [],
   "source": [
    "class StreamListener(tweepy.StreamListener):\n",
    "    def on_status(self, status):\n",
    "        text = status.text\n",
    "        \n",
    "        #negative_probability = sentiment_pipeline.predict_proba([text]).tolist()[0][0]\n",
    "        positive_probability = sentiment_pipeline.predict_proba([text]).tolist()[0][1]\n",
    "        \n",
    "        screen_name = status.user.screen_name\n",
    "        created_at = status.created_at\n",
    "        \n",
    "        sentiment = TextBlob(text).sentiment\n",
    "        \n",
    "        sentiment_polarity = sentiment.polarity\n",
    "        sentiment_subjectivity = sentiment.subjectivity\n",
    "        \n",
    "        row = {\"tweet\": text, \n",
    "               \"screen_name\": screen_name, \n",
    "               \"time\": created_at, \n",
    "               \"subtweet_probability\": positive_probability, \n",
    "               \"sentiment_polarity\": sentiment_polarity, \n",
    "               \"sentiment_subjectivity\": sentiment_subjectivity}\n",
    "        print_list = pd.DataFrame([row]).values.tolist()[0]\n",
    "        \n",
    "        if all([positive_probability >= THRESHOLD,\n",
    "                not status.retweeted,\n",
    "                \"RT @\" not in text, \n",
    "                not status.in_reply_to_status_id]):\n",
    "            \n",
    "            subtweets_live_list.append(row)\n",
    "            \n",
    "            print(\"Subtweet:\")\n",
    "            print(print_list)\n",
    "            \n",
    "            return row\n",
    "        else:\n",
    "            print(\"Not a subtweet:\")\n",
    "            print(print_list)"
   ]
  },
  {
   "cell_type": "markdown",
   "metadata": {},
   "source": [
    "#### Use the API credentials to connect to the API"
   ]
  },
  {
   "cell_type": "code",
   "execution_count": 47,
   "metadata": {},
   "outputs": [],
   "source": [
    "auth = tweepy.OAuthHandler(consumer_key, consumer_secret)\n",
    "auth.set_access_token(access_token, access_token_secret)\n",
    "api = tweepy.API(auth, retry_delay=5, wait_on_rate_limit=True, wait_on_rate_limit_notify=True, )"
   ]
  },
  {
   "cell_type": "markdown",
   "metadata": {},
   "source": [
    "#### Create a list of all my followers' account IDs"
   ]
  },
  {
   "cell_type": "code",
   "execution_count": 48,
   "metadata": {},
   "outputs": [],
   "source": [
    "my_followers_int = list(set(list(tweepy.Cursor(api.followers_ids, screen_name=\"NoahSegalGould\").pages())[0]))\n",
    "my_followers_str = [str(i) for i in my_followers_int]"
   ]
  },
  {
   "cell_type": "markdown",
   "metadata": {},
   "source": [
    "#### Instantiate the listener"
   ]
  },
  {
   "cell_type": "code",
   "execution_count": 49,
   "metadata": {},
   "outputs": [],
   "source": [
    "stream_listener = StreamListener()\n",
    "stream = tweepy.Stream(auth=api.auth, listener=stream_listener)"
   ]
  },
  {
   "cell_type": "markdown",
   "metadata": {},
   "source": [
    "#### Start the stream asynchronously, and stop it after some duration of seconds"
   ]
  },
  {
   "cell_type": "code",
   "execution_count": 50,
   "metadata": {},
   "outputs": [
    {
     "name": "stdout",
     "output_type": "stream",
     "text": [
      "Columns:\n",
      "screen_name, sentiment_polarity, sentiment_subjectivity, subtweet_probability, time, text\n"
     ]
    },
    {
     "name": "stderr",
     "output_type": "stream",
     "text": [
      "/Users/Noah/anaconda/envs/work/lib/python3.6/site-packages/sklearn/externals/joblib/parallel.py:547: UserWarning: Multiprocessing-backed parallel loops cannot be nested below threads, setting n_jobs=1\n",
      "  **self._backend_args)\n"
     ]
    },
    {
     "name": "stdout",
     "output_type": "stream",
     "text": [
      "Not a subtweet:\n",
      "['itssaphiyah', 0.0, 0.16666666666666666, 7.811913195860426e-05, Timestamp('2018-03-11 08:36:34'), 'RT @johnhall: 12 Female #Entrepreneurs You Should Know (via @Entrepreneur): https://t.co/TjXJVBiDL0 https://t.co/zj89K2LfQg']\n",
      "Not a subtweet:\n",
      "['RobinDraastens', 0.0, 0.0, 0.3301423411879502, Timestamp('2018-03-11 08:40:45'), 'RT @Laurens_deGroot: Is het #CDA nu zo huiverig geworden voor groeiend verzet tegen de #bioindustrie dat ze het op de man gaan spelen? De b…']\n",
      "Not a subtweet:\n",
      "['modakbest', 0.0, 0.0, 8.309354736745525e-05, Timestamp('2018-03-11 08:47:41'), 'RT @ow: Oh my God Google Maps Mario mode  https://t.co/96LCsyXFC9 https://t.co/uNdKBVSMzs']\n",
      "Not a subtweet:\n",
      "['akrapf96', 0.0, 0.0, 0.25464516047924207, Timestamp('2018-03-11 08:56:33'), 'RT @N04H5G: The death of an icon']\n",
      "Not a subtweet:\n",
      "['chaancers', 0.8, 1.0, 0.01777820705176939, Timestamp('2018-03-11 08:57:00'), 'RT @futchaIex: one mississippi is making me tear up on this train i hope tig notaro is happy with herself']\n",
      "Not a subtweet:\n",
      "['akrapf96', 0.675, 0.75, 0.007256576538130243, Timestamp('2018-03-11 08:57:10'), 'RT @SanAntonioZoo: Dear Fiona,\\n\\nMy name is Timothy.  I have seen you on the internet at the @CincinnatiZoo &amp; you are the most beautiful hip…']\n",
      "Not a subtweet:\n",
      "['N04H5G', -0.36161616161616156, 0.47373737373737373, 0.8621501302916668, Timestamp('2018-03-11 09:00:00'), \"I feel like a failure and no new years resolution was going to be bad but I think tonight's existential crisis has been averted\"]\n",
      "Not a subtweet:\n",
      "['BardCourses', 0.0, 0.0, 0.006675925304626337, Timestamp('2018-03-11 09:00:04'), 'We will read are Edward Tylor, James Frazer, Franz Boas, Bronislaw Malinowski, A.R.']\n",
      "Not a subtweet:\n",
      "['juliaeberry', 0.0, 0.0, 0.05959549172354363, Timestamp('2018-03-11 09:11:31'), 'RT @bettsvirtue: not to be problematic but this tweet made me want to ch*ke https://t.co/9XElVk71K8']\n",
      "Not a subtweet:\n",
      "['trevornoahebook', -0.171875, 0.28125, 0.7841252755695465, Timestamp('2018-03-11 09:14:01'), 'Johanna was supposed to all the same with next day running I felt like a little bursts, random details, stories to counter']\n",
      "Not a subtweet:\n",
      "['juliaeberry', 0.2, 0.2, 0.4603249204050937, Timestamp('2018-03-11 09:14:59'), 'damn I really want to know what the commentator in the video of tessa and scott warming up before the team event fd… https://t.co/SfQMK1RiIP']\n",
      "Not a subtweet:\n",
      "['CultureCracker', 0.13636363636363635, 0.45454545454545453, 0.643461470385505, Timestamp('2018-03-11 09:25:03'), 'Meet \"Nanowood\", a new material that is as insulating as Styrofoam but lighter and 30 times stronger, doesn’t cause… https://t.co/o5GA9LjDrz']\n",
      "Not a subtweet:\n",
      "['xsleep_walkerx', 0.5, 0.6, 0.28846521620027543, Timestamp('2018-03-11 09:27:32'), '@juliaeberry i love how dazzled they are']\n",
      "Not a subtweet:\n",
      "['N04H5G', 0.0, 0.0, 0.4837431254415552, Timestamp('2018-03-11 09:30:00'), 'I decided to seize the day or means of Sinners: A Study in Murder (Part 2)']\n",
      "Not a subtweet:\n",
      "['BardCourses', 0.06818181818181818, 0.5272727272727272, 0.6055435312838515, Timestamp('2018-03-11 09:30:00'), 'The course will be organized around a different picture, grouped under the heading of \"new materialisms.\"']\n",
      "Not a subtweet:\n",
      "['Rated_R_bot', 0.4333333333333333, 0.7333333333333333, 0.7292561185967581, Timestamp('2018-03-11 09:35:23'), 'Rated R for overwrought strong situations involving diplomats and cowboys. #NameThatMovie']\n",
      "Not a subtweet:\n",
      "['MelzOMO', 0.7, 0.6000000000000001, 0.1929902192488232, Timestamp('2018-03-11 09:36:43'), 'Good morning twitter fam']\n",
      "Not a subtweet:\n",
      "['christinacjones', 0.2, 0.2, 0.0010895800867271634, Timestamp('2018-03-11 09:37:27'), '@johnhall thanks for the follow John']\n",
      "Not a subtweet:\n",
      "['MelzOMO', 0.23484848484848483, 0.5833333333333333, 0.18727626424742588, Timestamp('2018-03-11 09:37:35'), 'Dragon Ball Super Episode 130 Live Stream News\\nhttps://t.co/PT9VOtGpKw']\n",
      "Not a subtweet:\n",
      "['futchaIex', 0.0, 0.0, 0.03319491048386993, Timestamp('2018-03-11 09:41:50'), 'RT @korrasam: when i log in on twitter to greet all my lesbians https://t.co/CUaA1q7ERN']\n",
      "Not a subtweet:\n",
      "['N04H5G', -0.0625, 0.75, 0.5480131548776039, Timestamp('2018-03-11 10:00:00'), 'my halloween costume is a a skeleton wearing a meat to make scary noises instead of friendly ones']\n",
      "Not a subtweet:\n",
      "['BardCourses', 0.0, 1.0, 0.6538224347941108, Timestamp('2018-03-11 10:00:00'), 'Petersburg at Smolny College of the Liberal Arts, a mid-term, and a final.']\n",
      "Not a subtweet:\n",
      "['HotKsupport', 0.0, 1.0, 0.0016150048407278415, Timestamp('2018-03-11 10:07:04'), 'RT @johnhall: Brands Are Finally Embracing #AugmentedReality, but Not Without Speed Bumps (via @Adweek): https://t.co/t5wnisvaeK https://t.…']\n",
      "Subtweet:\n",
      "['trevornoahebook', 0.0, 0.0, 0.9936636735456017, Timestamp('2018-03-11 10:13:59'), 'The thing would still don’t.']\n",
      "Not a subtweet:\n",
      "['javichu16', 0.0, 0.0, 0.038907604881971085, Timestamp('2018-03-11 10:29:48'), 'RT @extrafabulous: https://t.co/bj7RVOhs4d']\n",
      "Not a subtweet:\n",
      "['N04H5G', 0.5, 1.0, 0.09599005972245085, Timestamp('2018-03-11 10:30:00'), 'in the process of convincing Benjamin Sernau to make a Twitter account just so I added a ratemyprofessors search to my project']\n",
      "Not a subtweet:\n",
      "['BardCourses', 0.03333333333333333, 0.3333333333333333, 0.718649119609107, Timestamp('2018-03-11 10:30:00'), \"In additional to critical human rights itself, derives from a 'literary' experience.\"]\n",
      "Not a subtweet:\n",
      "['GeorgeE17455177', 1.0, 1.0, 0.006277102405152492, Timestamp('2018-03-11 10:30:02'), 'RT @TheAmyBOfficial: so proud of my range 🤓🤓\\n4 OCTAVES REACHED !! https://t.co/2LTMQhFUUX']\n",
      "Not a subtweet:\n",
      "['george90320233', 0.0, 0.0, 0.36710431495157403, Timestamp('2018-03-11 10:34:11'), 'RT Supergeo SupergeoTek: https://t.co/LRkcVhOPS8']\n",
      "Not a subtweet:\n",
      "['Sjon_McAfee', 1.0, 0.9, 0.09396563712986167, Timestamp('2018-03-11 10:46:41'), 'RT @_blockandchain_: Tomorrow I’m giving a soap box lecture about mastering your shitcoins! All are welcome. Please RSVP ! https://t.co/IYF…']\n",
      "Not a subtweet:\n",
      "['RitaKempeneers', 0.0, 0.0, 0.4059522031906855, Timestamp('2018-03-11 10:55:25'), \"RT @RobinDraastens: De Veluwe is het grootste slachthuis van Nederland. Elk jaar worden zo'n 50-80% van de grote hoefdieren doodgeschoten o…\"]\n",
      "Not a subtweet:\n",
      "['N04H5G', 0.3, 0.5, 0.9235346396337585, Timestamp('2018-03-11 11:00:00'), \"It's still your fault when you could say I'm kind of a big deal\"]\n",
      "Not a subtweet:\n",
      "['BardCourses', 0.0, 0.0, 0.10417879279492256, Timestamp('2018-03-11 11:00:00'), \"Using A Midsummer Night's Dream, Romeo and Juliet, 1 Henry IV, As You Like It, Othello, and Cymbeline.\"]\n",
      "Not a subtweet:\n",
      "['1hjkkoch', 0.0, 0.0, 4.023980821158811e-06, Timestamp('2018-03-11 11:01:21'), '@johnhall @Entrepreneur https://t.co/ulqwAxNQyM\\n\\nhttps://t.co/fBs23jOGAL https://t.co/5GCzFeCVTH']\n",
      "Not a subtweet:\n",
      "['jwalkermobile', 0.0, 0.0, 0.03939312583602706, Timestamp('2018-03-11 11:07:42'), '@mandy1965 A potato 🥔 cake.']\n",
      "Not a subtweet:\n",
      "['jwalkermobile', 0.0, 0.0, 0.07861223202343516, Timestamp('2018-03-11 11:10:58'), 'https://t.co/JuNqaduyOl']\n",
      "Subtweet:\n",
      "['trevornoahebook', 0.0, 0.0, 0.9622050482234278, Timestamp('2018-03-11 11:14:00'), 'So now wasn’t rage or if you ran.']\n",
      "Not a subtweet:\n",
      "['N04H5G', 0.7, 0.6000000000000001, 0.8820304788426003, Timestamp('2018-03-11 11:30:00'), \"It's really good content and you use #HashTags without #CamelCase do you #HateAmerica?\"]\n",
      "Not a subtweet:\n",
      "['BardCourses', 0.07916666666666666, 0.15277777777777776, 0.5029150703181067, Timestamp('2018-03-11 11:30:00'), 'First rehearsal will be announced via email and at the same time suffered from the absence of instrumental music.']\n",
      "Not a subtweet:\n",
      "['lucar2910', 0.0, 0.0, 0.514904756718453, Timestamp('2018-03-11 11:59:04'), \"RT @extrafabulous: guns ain't killing students. Students are killing students. We need to get rid of all students in this god forsaken coun…\"]\n",
      "Not a subtweet:\n",
      "['N04H5G', 0.18571428571428572, 0.6904761904761904, 0.7840029528452093, Timestamp('2018-03-11 12:00:00'), 'might fuck around and get a grade on an assignment I never finished is a special kind of torture']\n",
      "Not a subtweet:\n",
      "['BardCourses', 0.08333333333333333, 0.3333333333333333, 0.6678523977290739, Timestamp('2018-03-11 12:00:00'), 'We then turn to contemporary studies of animal-based practices such as composition, performance and consumption.']\n"
     ]
    },
    {
     "name": "stdout",
     "output_type": "stream",
     "text": [
      "Not a subtweet:\n",
      "['Phoenix_909', 0.0, 0.0, 0.038907604881971085, Timestamp('2018-03-11 12:10:52'), 'RT @extrafabulous: https://t.co/bj7RVOhs4d']\n",
      "Not a subtweet:\n",
      "['trevornoahebook', 0.0, 0.0, 0.9428919801113652, Timestamp('2018-03-11 12:14:01'), 'That’s mom’s debt was never took flight.']\n",
      "Not a subtweet:\n",
      "['allchriscrossd', 0.3125, 0.625, 0.0021519096376264027, Timestamp('2018-03-11 12:17:21'), 'RT @extrafabulous: pls buy an original comic thank you https://t.co/ba7HghctXH https://t.co/Zg1bSpaNQ5']\n",
      "Not a subtweet:\n",
      "['jaypatricksmith', 0.08333333333333334, 0.5416666666666667, 0.5456406391750055, Timestamp('2018-03-11 12:20:54'), 'RT @homoposts: younger me: why am I so obsessed with gay people\\n\\nme now: I am a gay people']\n",
      "Not a subtweet:\n",
      "['jaypatricksmith', 0.0, 0.0, 0.024670053603687025, Timestamp('2018-03-11 12:21:05'), 'RT @jinteIlect: me when i found out twitters suspending accounts for cursing https://t.co/KV3CMCa0HV']\n",
      "Not a subtweet:\n",
      "['TriggerCap', 0.0, 0.0, 0.038907604881971085, Timestamp('2018-03-11 12:25:36'), 'RT @extrafabulous: https://t.co/bj7RVOhs4d']\n",
      "Not a subtweet:\n",
      "['N04H5G', 0.30000000000000004, 0.6, 0.80886150910092, Timestamp('2018-03-11 12:30:00'), 'she was a huge fan in the 80s and I thought I had a splinter or something but I was very please...']\n",
      "Not a subtweet:\n",
      "['BardCourses', -0.1, 0.25, 0.740813639215624, Timestamp('2018-03-11 12:30:00'), 'This is a predictable design of organic structures based on the use of digital and analog tools and processes.']\n",
      "Not a subtweet:\n",
      "['jaypatricksmith', 0.0, 0.0, 0.04126433690187697, Timestamp('2018-03-11 12:31:47'), 'RT @MagicRealismBot: By entering a city in San Francisco, you can reach another dimension. There, the Milky Way does not exist.']\n",
      "Not a subtweet:\n",
      "['jaypatricksmith', 0.2, 0.7, 0.8827880510597464, Timestamp('2018-03-11 12:31:54'), \"RT @homoposts: Not only gays have to act manly, they also have to sound manly when they're on the phone with their relatives. Cant believe…\"]\n",
      "Not a subtweet:\n",
      "['KeyBank_Help', -0.1, 0.35, 0.19843063585403772, Timestamp('2018-03-11 12:32:30'), \"@1ONLY1QUEEN Hi there, what were you having trouble with earlier today? Did you still need any assistance? We'd like to help. ^PG\"]\n",
      "Not a subtweet:\n",
      "['Rated_R_bot', 0.0, 0.16666666666666666, 0.7281152285227417, Timestamp('2018-03-11 12:34:24'), 'Rated R for brief instances of slurs against former presidents of the United States. #NameThatMovie']\n",
      "Not a subtweet:\n",
      "['jaypatricksmith', 0.0, 0.0, 0.872911908934389, Timestamp('2018-03-11 12:37:00'), 'RT @joeymondragon: ive taken a dna test and it’s official:\\n I           I\\n  M    M\\n       T\\n  H      H \\nA          A\\n  T       T \\n       B…']\n",
      "Not a subtweet:\n",
      "['1ONLY1QUEEN', -0.15555555555555559, 0.2888888888888889, 0.21597751525860537, Timestamp('2018-03-11 12:37:54'), '@KeyBank_Help your telephone customer assistance said “ALL OF YOUR SYSTEMS ARE DOWN” and I cannot access my account… https://t.co/zGvWwac1eE']\n",
      "Not a subtweet:\n",
      "['KeyBank_Help', -0.5, 1.0, 0.0013839661272442125, Timestamp('2018-03-11 12:39:28'), '@johnyowpa Hi John! Sorry for any inconvenience, after an extended period of being inactive the app will close out… https://t.co/oMyrLnBHns']\n",
      "Not a subtweet:\n",
      "['jwalkermobile', 0.375, 0.75, 0.4016683450357837, Timestamp('2018-03-11 12:43:17'), 'As a self diagnosed “Salt Snob,” I found this pretty interesting... https://t.co/ilcbS3vv44']\n",
      "Not a subtweet:\n",
      "['elvebaka2323', 0.8604166666666666, 0.5, 0.0004658568821324717, Timestamp('2018-03-11 12:51:41'), '@futchaIex @chaancers Lol its the best shoe. I hope someone else picks it up! I need more!!']\n",
      "Not a subtweet:\n",
      "['KeyBank_Help', -0.125, 0.625, 0.04726774183031965, Timestamp('2018-03-11 12:53:25'), \"@1ONLY1QUEEN Sorry for any frustration. We aren't aware of any outages at this time. I would like to help. Please D… https://t.co/MqmsJZg5GS\"]\n",
      "Not a subtweet:\n",
      "['N04H5G', 0.25, 0.25, 0.8069723968929097, Timestamp('2018-03-11 13:00:00'), 'just realized I was a twitter bot this is exactly what I would like to apologize to my followers for my mistake']\n",
      "Not a subtweet:\n",
      "['BardCourses', 0.0, 0.05, 0.5805694350761365, Timestamp('2018-03-11 13:00:00'), 'Students will write several programs, ranging from sextet to big band.']\n",
      "Not a subtweet:\n",
      "['cuscorepublica', 0.0, 0.16666666666666666, 7.811913195860426e-05, Timestamp('2018-03-11 13:01:17'), 'RT @johnhall: 12 Female #Entrepreneurs You Should Know (via @Entrepreneur): https://t.co/TjXJVBiDL0 https://t.co/zj89K2LfQg']\n",
      "Not a subtweet:\n",
      "['trevornoahebook', 0.1, 0.4, 0.7028705601121549, Timestamp('2018-03-11 13:14:00'), 'Finally, I naturally gravitated that defied physics—imagine a bicycle, my life to get home.']\n",
      "Not a subtweet:\n",
      "['jesszaccag', 0.0, 0.05, 0.6200859786973643, Timestamp('2018-03-11 13:20:42'), 'RT @lilah_sturges: Gender is given at birth, but race is generational. I was accidentally assigned male, but as a white person I could neve…']\n",
      "Not a subtweet:\n",
      "['jesszaccag', 0.0, 0.0, 0.003176798985620698, Timestamp('2018-03-11 13:23:47'), 'RT @lolacoaster: @jenrigatoni https://t.co/s0six39aep']\n",
      "Not a subtweet:\n",
      "['N04H5G', 0.0, 0.0, 0.7867176824106341, Timestamp('2018-03-11 13:30:00'), \"Wake me up when they're upset in our agnostic household.\"]\n",
      "Not a subtweet:\n",
      "['BardCourses', 0.2833333333333333, 0.3666666666666667, 0.7430222815030579, Timestamp('2018-03-11 13:30:00'), 'The course is a survey of, and practicum in ethnographic field methods with a particular focus on ethnographic studies of sound and music.']\n",
      "Not a subtweet:\n",
      "['johnhall', 0.0, 0.0, 0.00035363730133400095, Timestamp('2018-03-11 13:43:02'), '3 Guidelines for Navigating the Era of Audible #Branding (via @Adweek): https://t.co/clZUI0H703 https://t.co/PqBFmlxZl3']\n",
      "Not a subtweet:\n",
      "['laurensofar', -0.5, 0.75, 0.7775082172221293, Timestamp('2018-03-11 13:43:11'), 'RT @kyleeisabel: “Why am I such a disgusting slob?? OH NO my probiotics”']\n",
      "Not a subtweet:\n",
      "['laurensofar', 0.35, 0.6, 0.0985020097257336, Timestamp('2018-03-11 13:43:32'), '@dancingofpens thanks :)']\n",
      "Not a subtweet:\n",
      "['HIStory_on_Fire', 0.5, 1.0, 6.0720200267716535e-05, Timestamp('2018-03-11 13:46:55'), 'RT @johnhall: 3 Guidelines for Navigating the Era of Audible #Branding (via @Adweek): https://t.co/clZUI0H703 https://t.co/PqBFmlxZl3']\n",
      "Not a subtweet:\n",
      "['bautipe4', 0.0, 0.0, 0.038907604881971085, Timestamp('2018-03-11 13:47:44'), 'RT @extrafabulous: https://t.co/bj7RVOhs4d']\n",
      "Not a subtweet:\n",
      "['SashaEats', 0.4, 0.4083333333333333, 0.0005337589772743529, Timestamp('2018-03-11 13:53:50'), 'RT @jwalkermobile: Great photo Chef Mark Miller sent me last night from Tasmania https://t.co/itgRjkRdgE']\n",
      "Not a subtweet:\n",
      "['Putrikaton', 0.0, 0.0, 0.038907604881971085, Timestamp('2018-03-11 13:54:05'), 'RT @extrafabulous: https://t.co/bj7RVOhs4d']\n",
      "Not a subtweet:\n",
      "['DisruptMessage', 0.0, 0.0, 0.038907604881971085, Timestamp('2018-03-11 13:54:15'), 'RT @extrafabulous: https://t.co/bj7RVOhs4d']\n",
      "Not a subtweet:\n",
      "['CultureCracker', 0.0, 0.0, 0.08665998642659778, Timestamp('2018-03-11 13:55:04'), '#YesThisIsReal https://t.co/myuASPTpp0']\n",
      "Not a subtweet:\n",
      "['jaypatricksmith', 0.0, 0.3333333333333333, 0.07235971336800895, Timestamp('2018-03-11 13:55:41'), 'RT @INDIEWASHERE: George Orwell in the afterlife after seeing us all making memes about the government constantly monitoring us: https://t.…']\n",
      "Not a subtweet:\n",
      "['DougPartin', 0.0, 0.16666666666666666, 7.811913195860426e-05, Timestamp('2018-03-11 13:58:06'), 'RT @johnhall: 12 Female #Entrepreneurs You Should Know (via @Entrepreneur): https://t.co/TjXJVBiDL0 https://t.co/zj89K2LfQg']\n",
      "Not a subtweet:\n",
      "['N04H5G', 0.3, 0.2, 0.5697862972093258, Timestamp('2018-03-11 14:00:00'), 'spoilers: it was a lot of fun']\n",
      "Not a subtweet:\n",
      "['BardCourses', 0.027777777777777776, 0.25555555555555554, 0.6467862911369294, Timestamp('2018-03-11 14:00:00'), 'No previous knowledge of forms and syntax, and exposure to a variety of different classical authors.']\n",
      "Not a subtweet:\n",
      "['CathWonderland', 0.25, 0.2833333333333333, 0.10556974867836626, Timestamp('2018-03-11 14:08:21'), \"RT @juliaeberry: I hope when tessa and scott do go public with their relationship, they'll acknowledge their (well, mostly scott's) intervi…\"]\n",
      "Not a subtweet:\n",
      "['thecoutureman', 0.0, 0.16666666666666666, 7.811913195860426e-05, Timestamp('2018-03-11 14:11:25'), 'RT @johnhall: 12 Female #Entrepreneurs You Should Know (via @Entrepreneur): https://t.co/TjXJVBiDL0 https://t.co/zj89K2LfQg']\n"
     ]
    },
    {
     "name": "stdout",
     "output_type": "stream",
     "text": [
      "Not a subtweet:\n",
      "['tanugulati79', 0.5, 1.0, 6.0720200267716535e-05, Timestamp('2018-03-11 14:12:29'), 'RT @johnhall: 3 Guidelines for Navigating the Era of Audible #Branding (via @Adweek): https://t.co/clZUI0H703 https://t.co/PqBFmlxZl3']\n",
      "Not a subtweet:\n",
      "['C_A_Showcase', 0.5, 1.0, 6.0720200267716535e-05, Timestamp('2018-03-11 14:12:48'), 'RT @johnhall: 3 Guidelines for Navigating the Era of Audible #Branding (via @Adweek): https://t.co/clZUI0H703 https://t.co/PqBFmlxZl3']\n",
      "Not a subtweet:\n",
      "['jizzyjtiz', 0.0, 0.0, 0.018336747917479034, Timestamp('2018-03-11 14:13:23'), '@koshertwink You see!!!!']\n",
      "Not a subtweet:\n",
      "['trevornoahebook', 0.0, 0.0, 0.9029566353304552, Timestamp('2018-03-11 14:13:59'), 'She took the cradle and the why it was a trick, for whipping.” Even though she gets?']\n",
      "Not a subtweet:\n",
      "['mgstudiografico', 0.5, 1.0, 6.0720200267716535e-05, Timestamp('2018-03-11 14:17:28'), 'RT @johnhall: 3 Guidelines for Navigating the Era of Audible #Branding (via @Adweek): https://t.co/clZUI0H703 https://t.co/PqBFmlxZl3']\n",
      "Not a subtweet:\n",
      "['Artemis_Sharpe', 0.0, 0.0, 0.038907604881971085, Timestamp('2018-03-11 14:20:55'), 'RT @extrafabulous: https://t.co/bj7RVOhs4d']\n",
      "Not a subtweet:\n",
      "['jaypatricksmith', 0.06818181818181818, 0.25, 0.004013047612954959, Timestamp('2018-03-11 14:24:39'), \"RT @BLACKMESSlAH: White people who live in Brooklyn shouldn't be allowed to write articles https://t.co/p5c68VHQ5z\"]\n",
      "Not a subtweet:\n",
      "['timmerks', 0.0, 0.0, 0.038907604881971085, Timestamp('2018-03-11 14:28:37'), 'RT @extrafabulous: https://t.co/bj7RVOhs4d']\n",
      "Not a subtweet:\n",
      "['N04H5G', 0.0, 0.0, 0.40773419734910354, Timestamp('2018-03-11 14:30:00'), '\"Why Noah Got His Degree\" (2018) has been withheld in response to a report from the copyright holder.']\n",
      "Not a subtweet:\n",
      "['BardCourses', 0.0, 0.0, 0.7480617230465633, Timestamp('2018-03-11 14:30:01'), 'The course aims at imparting the ability to construct correct formal deductions and refutations.']\n",
      "CPU times: user 2.05 s, sys: 1.57 s, total: 3.63 s\n",
      "Wall time: 6h\n"
     ]
    }
   ],
   "source": [
    "%%time\n",
    "stream.filter(follow=my_followers_str, async=True)\n",
    "print(\"Columns:\")\n",
    "print(\"screen_name, sentiment_polarity, sentiment_subjectivity, subtweet_probability, time, text\")\n",
    "sleep(DURATION)\n",
    "stream.disconnect()"
   ]
  },
  {
   "cell_type": "markdown",
   "metadata": {},
   "source": [
    "#### Save the dataframe"
   ]
  },
  {
   "cell_type": "code",
   "execution_count": 51,
   "metadata": {},
   "outputs": [],
   "source": [
    "subtweets_df = pd.DataFrame(subtweets_live_list).sort_values(by=\"subtweet_probability\", ascending=False)\n",
    "subtweets_df.to_csv(\"../data/non_subtweets_data/live_data.csv\")"
   ]
  },
  {
   "cell_type": "markdown",
   "metadata": {},
   "source": [
    "#### Show the dataframe"
   ]
  },
  {
   "cell_type": "code",
   "execution_count": 52,
   "metadata": {},
   "outputs": [
    {
     "data": {
      "text/html": [
       "<div>\n",
       "<style scoped>\n",
       "    .dataframe tbody tr th:only-of-type {\n",
       "        vertical-align: middle;\n",
       "    }\n",
       "\n",
       "    .dataframe tbody tr th {\n",
       "        vertical-align: top;\n",
       "    }\n",
       "\n",
       "    .dataframe thead th {\n",
       "        text-align: right;\n",
       "    }\n",
       "</style>\n",
       "<table border=\"1\" class=\"dataframe\">\n",
       "  <thead>\n",
       "    <tr style=\"text-align: right;\">\n",
       "      <th></th>\n",
       "      <th>screen_name</th>\n",
       "      <th>sentiment_polarity</th>\n",
       "      <th>sentiment_subjectivity</th>\n",
       "      <th>subtweet_probability</th>\n",
       "      <th>time</th>\n",
       "      <th>tweet</th>\n",
       "    </tr>\n",
       "  </thead>\n",
       "  <tbody>\n",
       "    <tr>\n",
       "      <th>0</th>\n",
       "      <td>trevornoahebook</td>\n",
       "      <td>0.0</td>\n",
       "      <td>0.0</td>\n",
       "      <td>0.993664</td>\n",
       "      <td>2018-03-11 10:13:59</td>\n",
       "      <td>The thing would still don’t.</td>\n",
       "    </tr>\n",
       "    <tr>\n",
       "      <th>1</th>\n",
       "      <td>trevornoahebook</td>\n",
       "      <td>0.0</td>\n",
       "      <td>0.0</td>\n",
       "      <td>0.962205</td>\n",
       "      <td>2018-03-11 11:14:00</td>\n",
       "      <td>So now wasn’t rage or if you ran.</td>\n",
       "    </tr>\n",
       "  </tbody>\n",
       "</table>\n",
       "</div>"
      ],
      "text/plain": [
       "       screen_name  sentiment_polarity  sentiment_subjectivity  \\\n",
       "0  trevornoahebook                 0.0                     0.0   \n",
       "1  trevornoahebook                 0.0                     0.0   \n",
       "\n",
       "   subtweet_probability                time                              tweet  \n",
       "0              0.993664 2018-03-11 10:13:59       The thing would still don’t.  \n",
       "1              0.962205 2018-03-11 11:14:00  So now wasn’t rage or if you ran.  "
      ]
     },
     "execution_count": 52,
     "metadata": {},
     "output_type": "execute_result"
    }
   ],
   "source": [
    "subtweets_df"
   ]
  }
 ],
 "metadata": {
  "kernelspec": {
   "display_name": "Python 3",
   "language": "python",
   "name": "python3"
  },
  "language_info": {
   "codemirror_mode": {
    "name": "ipython",
    "version": 3
   },
   "file_extension": ".py",
   "mimetype": "text/x-python",
   "name": "python",
   "nbconvert_exporter": "python",
   "pygments_lexer": "ipython3",
   "version": "3.6.4"
  }
 },
 "nbformat": 4,
 "nbformat_minor": 2
}
