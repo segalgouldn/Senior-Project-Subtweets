{
 "cells": [
  {
   "cell_type": "markdown",
   "metadata": {},
   "source": [
    "## Using Scikit-Learn and NLTK to build a Naive Bayes Classifier that identifies subtweets"
   ]
  },
  {
   "cell_type": "markdown",
   "metadata": {},
   "source": [
    "### Goals:\n",
    "#### Use Scikit-Learn pipelines to define special features to add to a Naive Bayes Classifier\n",
    "#### Evaluate the accuracy of the classifier\n",
    "#### Maybe do it live, on a Twitter API stream"
   ]
  },
  {
   "cell_type": "markdown",
   "metadata": {},
   "source": [
    "### Methods:\n",
    "#### Use the training set I made before"
   ]
  },
  {
   "cell_type": "markdown",
   "metadata": {},
   "source": [
    "#### Import libraries"
   ]
  },
  {
   "cell_type": "code",
   "execution_count": 1,
   "metadata": {},
   "outputs": [],
   "source": [
    "%matplotlib inline"
   ]
  },
  {
   "cell_type": "code",
   "execution_count": 2,
   "metadata": {},
   "outputs": [],
   "source": [
    "from sklearn.base import TransformerMixin, BaseEstimator\n",
    "from sklearn.feature_extraction import DictVectorizer\n",
    "from sklearn.feature_extraction.text import CountVectorizer, TfidfTransformer\n",
    "from sklearn.naive_bayes import MultinomialNB\n",
    "from sklearn.pipeline import Pipeline, FeatureUnion\n",
    "from sklearn.model_selection import train_test_split\n",
    "from sklearn.metrics import classification_report, confusion_matrix\n",
    "from sklearn.externals import joblib\n",
    "import matplotlib.pyplot as plt\n",
    "import pandas as pd\n",
    "import numpy as np\n",
    "import itertools\n",
    "import nltk\n",
    "import re"
   ]
  },
  {
   "cell_type": "markdown",
   "metadata": {},
   "source": [
    "#### Load the CSV"
   ]
  },
  {
   "cell_type": "code",
   "execution_count": 3,
   "metadata": {},
   "outputs": [],
   "source": [
    "df = pd.read_csv(\"../data/training_data/Subtweets_Classifier_Training_Data.csv\")"
   ]
  },
  {
   "cell_type": "markdown",
   "metadata": {},
   "source": [
    "#### Create training and test sets from the single training set I made before"
   ]
  },
  {
   "cell_type": "code",
   "execution_count": 4,
   "metadata": {},
   "outputs": [],
   "source": [
    "text_train, text_test, class_train, class_test = train_test_split(df.alleged_subtweet.tolist(), \n",
    "                                                                  df.is_subtweet.tolist())"
   ]
  },
  {
   "cell_type": "markdown",
   "metadata": {},
   "source": [
    "#### Use NLTK's tokenizer instead of Scikit's"
   ]
  },
  {
   "cell_type": "code",
   "execution_count": 5,
   "metadata": {},
   "outputs": [],
   "source": [
    "tokenizer = nltk.casual.TweetTokenizer(preserve_case=False, reduce_len=True)"
   ]
  },
  {
   "cell_type": "markdown",
   "metadata": {},
   "source": [
    "#### Class for distinguishing polarizing parts of speech as features"
   ]
  },
  {
   "cell_type": "code",
   "execution_count": 6,
   "metadata": {
    "code_folding": []
   },
   "outputs": [],
   "source": [
    "class TweetStats(BaseEstimator, TransformerMixin):\n",
    "    def fit(self, x, y=None):\n",
    "        return self\n",
    "\n",
    "    def transform(self, posts):\n",
    "        first_names = [\"Aaliyah\", \"Aaron\", \"Abby\", \"Abigail\", \"Abraham\", \"Adam\",\n",
    "                       \"Addison\", \"Adrian\", \"Adriana\", \"Adrianna\", \"Aidan\", \"Aiden\",\n",
    "                       \"Alan\", \"Alana\", \"Alejandro\", \"Alex\", \"Alexa\", \"Alexander\",\n",
    "                       \"Alexandra\", \"Alexandria\", \"Alexia\", \"Alexis\", \"Alicia\", \"Allison\",\n",
    "                       \"Alondra\", \"Alyssa\", \"Amanda\", \"Amber\", \"Amelia\", \"Amy\",\n",
    "                       \"Ana\", \"Andrea\", \"Andres\", \"Andrew\", \"Angel\", \"Angela\",\n",
    "                       \"Angelica\", \"Angelina\", \"Anna\", \"Anthony\", \"Antonio\", \"Ariana\",\n",
    "                       \"Arianna\", \"Ashley\", \"Ashlyn\", \"Ashton\", \"Aubrey\", \"Audrey\",\n",
    "                       \"Austin\", \"Autumn\", \"Ava\", \"Avery\", \"Ayden\", \"Bailey\",\n",
    "                       \"Benjamin\", \"Bianca\", \"Blake\", \"Braden\", \"Bradley\", \"Brady\",\n",
    "                       \"Brandon\", \"Brayden\", \"Breanna\", \"Brendan\", \"Brian\", \"Briana\",\n",
    "                       \"Brianna\", \"Brittany\", \"Brody\", \"Brooke\", \"Brooklyn\", \"Bryan\",\n",
    "                       \"Bryce\", \"Bryson\", \"Caden\", \"Caitlin\", \"Caitlyn\", \"Caleb\",\n",
    "                       \"Cameron\", \"Camila\", \"Carlos\", \"Caroline\", \"Carson\", \"Carter\",\n",
    "                       \"Cassandra\", \"Cassidy\", \"Catherine\", \"Cesar\", \"Charles\", \"Charlotte\",\n",
    "                       \"Chase\", \"Chelsea\", \"Cheyenne\", \"Chloe\", \"Christian\", \"Christina\",\n",
    "                       \"Christopher\", \"Claire\", \"Cody\", \"Colby\", \"Cole\", \"Colin\",\n",
    "                       \"Collin\", \"Colton\", \"Conner\", \"Connor\", \"Cooper\", \"Courtney\",\n",
    "                       \"Cristian\", \"Crystal\", \"Daisy\", \"Dakota\", \"Dalton\", \"Damian\",\n",
    "                       \"Daniel\", \"Daniela\", \"Danielle\", \"David\", \"Delaney\", \"Derek\",\n",
    "                       \"Destiny\", \"Devin\", \"Devon\", \"Diana\", \"Diego\", \"Dominic\",\n",
    "                       \"Donovan\", \"Dylan\", \"Edgar\", \"Eduardo\", \"Edward\", \"Edwin\",\n",
    "                       \"Eli\", \"Elias\", \"Elijah\", \"Elizabeth\", \"Ella\", \"Ellie\", \n",
    "                       \"Emily\", \"Emma\", \"Emmanuel\", \"Eric\", \"Erica\", \"Erick\",\n",
    "                       \"Erik\", \"Erin\", \"Ethan\", \"Eva\", \"Evan\", \"Evelyn\",\n",
    "                       \"Faith\", \"Fernando\", \"Francisco\", \"Gabriel\", \"Gabriela\", \"Gabriella\",\n",
    "                       \"Gabrielle\", \"Gage\", \"Garrett\", \"Gavin\", \"Genesis\", \"George\",\n",
    "                       \"Gianna\", \"Giovanni\", \"Giselle\", \"Grace\", \"Gracie\", \"Grant\",\n",
    "                       \"Gregory\", \"Hailey\", \"Haley\", \"Hannah\", \"Hayden\", \"Hector\",\n",
    "                       \"Henry\", \"Hope\", \"Hunter\", \"Ian\", \"Isaac\", \"Isabel\",\n",
    "                       \"Isabella\", \"Isabelle\", \"Isaiah\", \"Ivan\", \"Jack\", \"Jackson\",\n",
    "                       \"Jacob\", \"Jacqueline\", \"Jada\", \"Jade\", \"Jaden\", \"Jake\",\n",
    "                       \"Jalen\", \"James\", \"Jared\", \"Jasmin\", \"Jasmine\", \"Jason\", \n",
    "                       \"Javier\", \"Jayden\", \"Jayla\", \"Jazmin\", \"Jeffrey\", \"Jenna\",\n",
    "                       \"Jennifer\", \"Jeremiah\", \"Jeremy\", \"Jesse\", \"Jessica\", \"Jesus\",\n",
    "                       \"Jillian\", \"Jocelyn\", \"Joel\", \"John\", \"Johnathan\", \"Jonah\",\n",
    "                       \"Jonathan\", \"Jordan\", \"Jordyn\", \"Jorge\", \"Jose\", \"Joseph\",\n",
    "                       \"Joshua\", \"Josiah\", \"Juan\", \"Julia\", \"Julian\", \"Juliana\",\n",
    "                       \"Justin\", \"Kaden\", \"Kaitlyn\", \"Kaleb\", \"Karen\", \"Karina\",\n",
    "                       \"Kate\", \"Katelyn\", \"Katherine\", \"Kathryn\", \"Katie\", \"Kayla\",\n",
    "                       \"Kaylee\", \"Kelly\", \"Kelsey\", \"Kendall\", \"Kennedy\", \"Kenneth\",\n",
    "                       \"Kevin\", \"Kiara\", \"Kimberly\", \"Kyle\", \"Kylee\", \"Kylie\",\n",
    "                       \"Landon\", \"Laura\", \"Lauren\", \"Layla\", \"Leah\", \"Leonardo\",\n",
    "                       \"Leslie\", \"Levi\", \"Liam\", \"Liliana\", \"Lillian\", \"Lilly\",\n",
    "                       \"Lily\", \"Lindsey\", \"Logan\", \"Lucas\", \"Lucy\", \"Luis\",\n",
    "                       \"Luke\", \"Lydia\", \"Mackenzie\", \"Madeline\", \"Madelyn\", \"Madison\",\n",
    "                       \"Makayla\", \"Makenzie\", \"Malachi\", \"Manuel\", \"Marco\", \"Marcus\",\n",
    "                       \"Margaret\", \"Maria\", \"Mariah\", \"Mario\", \"Marissa\", \"Mark\",\n",
    "                       \"Martin\", \"Mary\", \"Mason\", \"Matthew\", \"Max\", \"Maxwell\",\n",
    "                       \"Maya\", \"Mckenzie\", \"Megan\", \"Melanie\", \"Melissa\", \"Mia\",\n",
    "                       \"Micah\", \"Michael\", \"Michelle\", \"Miguel\", \"Mikayla\", \"Miranda\",\n",
    "                       \"Molly\", \"Morgan\", \"Mya\", \"Naomi\", \"Natalia\", \"Natalie\",\n",
    "                       \"Nathan\", \"Nathaniel\", \"Nevaeh\", \"Nicholas\", \"Nicolas\", \"Nicole\",\n",
    "                       \"Noah\", \"Nolan\", \"Oliver\", \"Olivia\", \"Omar\", \"Oscar\",\n",
    "                       \"Owen\", \"Paige\", \"Parker\", \"Patrick\", \"Paul\", \"Payton\",\n",
    "                       \"Peter\", \"Peyton\", \"Preston\", \"Rachel\", \"Raymond\", \"Reagan\",\n",
    "                       \"Rebecca\", \"Ricardo\", \"Richard\", \"Riley\", \"Robert\", \"Ruby\",\n",
    "                       \"Ryan\", \"Rylee\", \"Sabrina\", \"Sadie\", \"Samantha\", \"Samuel\",\n",
    "                       \"Sara\", \"Sarah\", \"Savannah\", \"Sean\", \"Sebastian\", \"Serenity\",\n",
    "                       \"Sergio\", \"Seth\", \"Shane\", \"Shawn\", \"Shelby\", \"Sierra\",\n",
    "                       \"Skylar\", \"Sofia\", \"Sophia\", \"Sophie\", \"Spencer\", \"Stephanie\",\n",
    "                       \"Stephen\", \"Steven\", \"Summer\", \"Sydney\", \"Tanner\", \"Taylor\", \n",
    "                       \"Thomas\", \"Tiffany\", \"Timothy\", \"Travis\", \"Trenton\", \"Trevor\",\n",
    "                       \"Trinity\", \"Tristan\", \"Tyler\", \"Valeria\", \"Valerie\", \"Vanessa\",\n",
    "                       \"Veronica\", \"Victor\", \"Victoria\", \"Vincent\", \"Wesley\", \"William\",\n",
    "                       \"Wyatt\", \"Xavier\", \"Zachary\", \"Zoe\", \"Zoey\"]\n",
    "        first_names_lower = set([name.lower() for name in first_names])\n",
    "\n",
    "        personal_pronouns = [\"I\", \"Me\", \"We\", \"Us\", \"You\", \"She\", \"Her\", \"He\", \"Him\", \"They\", \"Them\"]\n",
    "        personal_prounouns_lower = [pronoun.lower() for pronoun in personal_pronouns]\n",
    "\n",
    "        possessive_pronouns = [\"My\", \"Your\", \"Our\", \"Their\", \"His\", \"Her\", \"Hers\", \"Yours\", \"Ours\", \"Theirs\"]\n",
    "        possessive_pronouns_lower = [possessive_pronoun.lower() for possessive_pronoun in possessive_pronouns]\n",
    "\n",
    "        important_parts_of_speech = set(personal_prounouns_lower + possessive_pronouns_lower)\n",
    "        pattern = \"(?:http|ftp|https)://(?:[\\w_-]+(?:(?:\\.[\\w_-]+)+))(?:[\\w.,@?^=%&:/~+#-]*[\\w@?^=%&/~+#-])?\"\n",
    "                \n",
    "        final_output = []\n",
    "        for text in posts:\n",
    "            tokenized_text = tokenizer.tokenize(text)\n",
    "            weighted_dict = {\"length\": len(text), \n",
    "                             \"good\": len(important_parts_of_speech.intersection(tokenizer.tokenize(text))), \n",
    "                             \"bad\": (len(first_names_lower.intersection(tokenizer.tokenize(text))) \n",
    "                                     + text.count(\"@\") \n",
    "                                     + text.count(\"subtweet\") \n",
    "                                     + text.count(\"Subtweet\") \n",
    "                                     + len(re.findall(pattern, text)))}\n",
    "            final_output.append(weighted_dict)\n",
    "        return final_output"
   ]
  },
  {
   "cell_type": "markdown",
   "metadata": {},
   "source": [
    "#### Build the pipeline"
   ]
  },
  {
   "cell_type": "code",
   "execution_count": 7,
   "metadata": {},
   "outputs": [],
   "source": [
    "sentiment_pipeline = Pipeline([\n",
    "    (\"features\", FeatureUnion([\n",
    "        (\"ngram_tf_idf\", Pipeline([\n",
    "            (\"counts\", CountVectorizer(tokenizer=tokenizer.tokenize)),\n",
    "            (\"tf_idf\", TfidfTransformer())\n",
    "        ])),\n",
    "        (\"stats_vect\", Pipeline([\n",
    "            (\"tweet_stats\", TweetStats()),\n",
    "            (\"vect\", DictVectorizer()),\n",
    "        ])),\n",
    "    ])),\n",
    "    (\"classifier\", MultinomialNB())\n",
    "])"
   ]
  },
  {
   "cell_type": "markdown",
   "metadata": {},
   "source": [
    "#### Show the results"
   ]
  },
  {
   "cell_type": "code",
   "execution_count": 8,
   "metadata": {},
   "outputs": [],
   "source": [
    "sentiment_pipeline.fit(text_train, class_train)\n",
    "predictions = sentiment_pipeline.predict(text_test)"
   ]
  },
  {
   "cell_type": "code",
   "execution_count": 9,
   "metadata": {},
   "outputs": [
    {
     "name": "stdout",
     "output_type": "stream",
     "text": [
      "             precision    recall  f1-score   support\n",
      "\n",
      "   negative       0.93      0.88      0.91      1789\n",
      "   positive       0.89      0.94      0.91      1838\n",
      "\n",
      "avg / total       0.91      0.91      0.91      3627\n",
      "\n"
     ]
    }
   ],
   "source": [
    "print(classification_report(class_test, predictions))"
   ]
  },
  {
   "cell_type": "markdown",
   "metadata": {},
   "source": [
    "#### Define function for visualizing confusion matrices"
   ]
  },
  {
   "cell_type": "code",
   "execution_count": 10,
   "metadata": {},
   "outputs": [],
   "source": [
    "def plot_confusion_matrix(cm, classes, normalize=False,\n",
    "                          title='Confusion matrix', cmap=plt.cm.Blues):\n",
    "    if normalize:\n",
    "        cm = cm.astype('float') / cm.sum(axis=1)[:, np.newaxis]\n",
    "\n",
    "    plt.imshow(cm, interpolation='nearest', cmap=cmap)\n",
    "    plt.title(title)\n",
    "    plt.colorbar()\n",
    "    tick_marks = np.arange(len(classes))\n",
    "    plt.xticks(tick_marks, classes, rotation=45)\n",
    "    plt.yticks(tick_marks, classes)\n",
    "\n",
    "    fmt = '.2f' if normalize else 'd'\n",
    "    thresh = cm.max() / 2.\n",
    "    for i, j in itertools.product(range(cm.shape[0]), range(cm.shape[1])):\n",
    "        plt.text(j, i, format(cm[i, j], fmt),\n",
    "                 horizontalalignment=\"center\",\n",
    "                 color=\"white\" if cm[i, j] > thresh else \"black\")\n",
    "\n",
    "    plt.tight_layout()\n",
    "    plt.ylabel('True label')\n",
    "    plt.xlabel('Predicted label')"
   ]
  },
  {
   "cell_type": "markdown",
   "metadata": {},
   "source": [
    "#### Show the matrices"
   ]
  },
  {
   "cell_type": "code",
   "execution_count": 11,
   "metadata": {},
   "outputs": [
    {
     "data": {
      "image/png": "[encoded data removed]",
      "text/plain": [
       "<Figure size 432x288 with 2 Axes>"
      ]
     },
     "metadata": {},
     "output_type": "display_data"
    },
    {
     "data": {
      "image/png": "[encoded data removed]",
      "text/plain": [
       "<Figure size 432x288 with 2 Axes>"
      ]
     },
     "metadata": {},
     "output_type": "display_data"
    }
   ],
   "source": [
    "class_names = [\"negative\", \"positive\"]\n",
    "\n",
    "cnf_matrix = confusion_matrix(class_test, predictions)\n",
    "np.set_printoptions(precision=2)\n",
    "\n",
    "plt.figure()\n",
    "plot_confusion_matrix(cnf_matrix, classes=class_names,\n",
    "                      title='Confusion matrix, without normalization')\n",
    "\n",
    "plt.figure()\n",
    "plot_confusion_matrix(cnf_matrix, classes=class_names, normalize=True,\n",
    "                      title='Normalized confusion matrix')\n",
    "\n",
    "plt.show()"
   ]
  },
  {
   "cell_type": "markdown",
   "metadata": {},
   "source": [
    "#### Save the classifier for another time"
   ]
  },
  {
   "cell_type": "code",
   "execution_count": 12,
   "metadata": {},
   "outputs": [
    {
     "data": {
      "text/plain": [
       "['../data/non_subtweets_data/subtweets_classifier.pkl']"
      ]
     },
     "execution_count": 12,
     "metadata": {},
     "output_type": "execute_result"
    }
   ],
   "source": [
    "joblib.dump(sentiment_pipeline, \"../data/non_subtweets_data/subtweets_classifier.pkl\") "
   ]
  },
  {
   "cell_type": "markdown",
   "metadata": {},
   "source": [
    "#### Print tests for the classifier"
   ]
  },
  {
   "cell_type": "code",
   "execution_count": 13,
   "metadata": {},
   "outputs": [],
   "source": [
    "def print_tests(tweets_dataframe, \n",
    "                text_column=\"SentimentText\", sentiment_column=\"Sentiment\", \n",
    "                threshold=0.95):\n",
    "    tweets = tweets_dataframe[text_column].tolist()\n",
    "    sentiments = tweets_dataframe[sentiment_column].tolist()\n",
    "    total_subtweets = 0\n",
    "    print(\"Probabilities:\\n\")\n",
    "    for i in range(len(tweets)):\n",
    "        tweet = tweets[i]\n",
    "        prediction = sentiment_pipeline.predict([tweets[i]]).tolist()[0]\n",
    "        sentiment = sentiments[i]\n",
    "        negative_probability = sentiment_pipeline.predict_proba([tweets[i]]).tolist()[0][0]\n",
    "        positive_probability = sentiment_pipeline.predict_proba([tweets[i]]).tolist()[0][1]\n",
    "        if positive_probability >= threshold:\n",
    "            total_subtweets += 1\n",
    "            print((\"\\\"{}\\\" was classified as {}:\" \n",
    "                   + \"\\nSentiment Score: {}\" \n",
    "                   + \"\\nNot a subtweet: {:.1%}\" \n",
    "                   + \"\\nSubtweet: {:.1%}\").format(tweet, prediction, sentiment,\n",
    "                                                  negative_probability, \n",
    "                                                  positive_probability))\n",
    "            print()\n",
    "    print(\"Total number of subtweets according to the classifier: {}\".format(total_subtweets))"
   ]
  },
  {
   "cell_type": "markdown",
   "metadata": {},
   "source": [
    "#### Make up some tweets"
   ]
  },
  {
   "cell_type": "code",
   "execution_count": 14,
   "metadata": {},
   "outputs": [],
   "source": [
    "test_tweets = [\"Some people don't know their place.\", \n",
    "               \"Isn't it funny how some people don't know their place?\", \n",
    "               \"How come you people act like this?\", \n",
    "               \"You're such a nerd.\",\n",
    "               \"I love Noah, he's so cool.\",\n",
    "               \"Who the heck is Noah?\",\n",
    "               \"This is a @NoahSegalGould subtweet. Go check out https://segal-gould.com.\", \n",
    "               \"This is a subtweet.\", \n",
    "               \"Hey @jack!\", \n",
    "               \"Hey Jack!\",\n",
    "               \"http://www.google.com\"]"
   ]
  },
  {
   "cell_type": "markdown",
   "metadata": {},
   "source": [
    "#### Make a dataframe from the list"
   ]
  },
  {
   "cell_type": "code",
   "execution_count": 15,
   "metadata": {},
   "outputs": [],
   "source": [
    "test_tweets_df = pd.DataFrame({\"Tweet\": test_tweets, \"Sentiment\": [None]*len(test_tweets)})"
   ]
  },
  {
   "cell_type": "markdown",
   "metadata": {},
   "source": [
    "#### Print the tests"
   ]
  },
  {
   "cell_type": "code",
   "execution_count": 16,
   "metadata": {},
   "outputs": [
    {
     "name": "stdout",
     "output_type": "stream",
     "text": [
      "Probabilities:\n",
      "\n",
      "\"Some people don't know their place.\" was classified as positive:\n",
      "Sentiment Score: None\n",
      "Not a subtweet: 12.1%\n",
      "Subtweet: 87.9%\n",
      "\n",
      "\"Isn't it funny how some people don't know their place?\" was classified as positive:\n",
      "Sentiment Score: None\n",
      "Not a subtweet: 10.5%\n",
      "Subtweet: 89.5%\n",
      "\n",
      "\"How come you people act like this?\" was classified as positive:\n",
      "Sentiment Score: None\n",
      "Not a subtweet: 6.3%\n",
      "Subtweet: 93.7%\n",
      "\n",
      "\"You're such a nerd.\" was classified as positive:\n",
      "Sentiment Score: None\n",
      "Not a subtweet: 46.1%\n",
      "Subtweet: 53.9%\n",
      "\n",
      "Total number of subtweets according to the classifier: 4\n"
     ]
    }
   ],
   "source": [
    "print_tests(test_tweets_df, text_column=\"Tweet\", sentiment_column=\"Sentiment\", threshold=0.5)"
   ]
  },
  {
   "cell_type": "markdown",
   "metadata": {},
   "source": [
    "#### Test on actual tweets"
   ]
  },
  {
   "cell_type": "code",
   "execution_count": 17,
   "metadata": {},
   "outputs": [
    {
     "name": "stderr",
     "output_type": "stream",
     "text": [
      "b'Skipping line 8836: expected 4 fields, saw 5\\n'\n",
      "b'Skipping line 535882: expected 4 fields, saw 7\\n'\n"
     ]
    }
   ],
   "source": [
    "naji_df = pd.read_csv(\"../data/non_subtweets_data/naji_data.csv\", error_bad_lines=False)"
   ]
  },
  {
   "cell_type": "markdown",
   "metadata": {},
   "source": [
    "#### Repair some leftover HTML"
   ]
  },
  {
   "cell_type": "code",
   "execution_count": 18,
   "metadata": {},
   "outputs": [],
   "source": [
    "naji_df[\"SentimentText\"] = naji_df[\"SentimentText\"].str.replace(\"&quot;\", \"\\\"\")\n",
    "naji_df[\"SentimentText\"] = naji_df[\"SentimentText\"].str.replace(\"&amp;\", \"&\")\n",
    "naji_df[\"SentimentText\"] = naji_df[\"SentimentText\"].str.replace(\"&gt;\", \">\")\n",
    "naji_df[\"SentimentText\"] = naji_df[\"SentimentText\"].str.replace(\"&lt;\", \"<\")"
   ]
  },
  {
   "cell_type": "markdown",
   "metadata": {},
   "source": [
    "# Use randomly selected 100K rows from dataset"
   ]
  },
  {
   "cell_type": "code",
   "execution_count": 19,
   "metadata": {},
   "outputs": [],
   "source": [
    "naji_df = naji_df.sample(n=100000).reset_index(drop=True)"
   ]
  },
  {
   "cell_type": "markdown",
   "metadata": {},
   "source": [
    "#### Print and time the tests"
   ]
  },
  {
   "cell_type": "code",
   "execution_count": 20,
   "metadata": {
    "scrolled": false
   },
   "outputs": [
    {
     "name": "stdout",
     "output_type": "stream",
     "text": [
      "Probabilities:\n",
      "\n",
      "\"I hate when boys whine bc you don't text them but when you do they never respond! \" was classified as positive:\n",
      "Sentiment Score: 0\n",
      "Not a subtweet: 0.8%\n",
      "Subtweet: 99.2%\n",
      "\n",
      "\"why is that when you feel someone? they don feel for you back...  i hate feelings man\" was classified as positive:\n",
      "Sentiment Score: 0\n",
      "Not a subtweet: 1.3%\n",
      "Subtweet: 98.7%\n",
      "\n",
      "\"I m angry because my bets friends dont talk to me because talk whit your boyfriends \" was classified as positive:\n",
      "Sentiment Score: 0\n",
      "Not a subtweet: 2.1%\n",
      "Subtweet: 97.9%\n",
      "\n",
      "Total number of subtweets according to the classifier: 3\n",
      "CPU times: user 11min 5s, sys: 6.9 s, total: 11min 12s\n",
      "Wall time: 11min 35s\n"
     ]
    }
   ],
   "source": [
    "%%time\n",
    "print_tests(naji_df, threshold=0.975)"
   ]
  },
  {
   "cell_type": "markdown",
   "metadata": {},
   "source": [
    "#### Test on friends' tweets"
   ]
  },
  {
   "cell_type": "code",
   "execution_count": 21,
   "metadata": {},
   "outputs": [],
   "source": [
    "aaron_df = pd.read_csv(\"../data/friends_tweets/akrapf96_tweets.csv\").dropna()\n",
    "aaron_df[\"Sentiment\"] = None"
   ]
  },
  {
   "cell_type": "code",
   "execution_count": 22,
   "metadata": {},
   "outputs": [
    {
     "name": "stdout",
     "output_type": "stream",
     "text": [
      "Probabilities:\n",
      "\n",
      "Total number of subtweets according to the classifier: 0\n"
     ]
    }
   ],
   "source": [
    "print_tests(aaron_df, text_column=\"Text\", sentiment_column=\"Sentiment\", threshold=0.99)"
   ]
  },
  {
   "cell_type": "code",
   "execution_count": 23,
   "metadata": {},
   "outputs": [],
   "source": [
    "julia_df = pd.read_csv(\"../data/friends_tweets/juliaeberry_tweets.csv\").dropna()\n",
    "julia_df[\"Sentiment\"] = None"
   ]
  },
  {
   "cell_type": "code",
   "execution_count": 24,
   "metadata": {
    "scrolled": false
   },
   "outputs": [
    {
     "name": "stdout",
     "output_type": "stream",
     "text": [
      "Probabilities:\n",
      "\n",
      "\"\"I do feel grateful for the fact that we have one another, because I think people search their whole lives for someone that special\" -tessa\n",
      "\n",
      "who even says this about somebody that they don't want to marry/be with forever? v/m soundbytes will be the death of me #virtuemoir\" was classified as positive:\n",
      "Sentiment Score: None\n",
      "Not a subtweet: 0.6%\n",
      "Subtweet: 99.4%\n",
      "\n",
      "Total number of subtweets according to the classifier: 1\n"
     ]
    }
   ],
   "source": [
    "print_tests(julia_df, text_column=\"Text\", sentiment_column=\"Sentiment\", threshold=0.99)"
   ]
  },
  {
   "cell_type": "code",
   "execution_count": 25,
   "metadata": {},
   "outputs": [],
   "source": [
    "zoe_df = pd.read_csv(\"../data/friends_tweets/zoeterhune_tweets.csv\").dropna()\n",
    "zoe_df[\"Sentiment\"] = None"
   ]
  },
  {
   "cell_type": "code",
   "execution_count": 26,
   "metadata": {},
   "outputs": [
    {
     "name": "stdout",
     "output_type": "stream",
     "text": [
      "Probabilities:\n",
      "\n",
      "\"bc she’s pURDY\" was classified as positive:\n",
      "Sentiment Score: None\n",
      "Not a subtweet: 0.9%\n",
      "Subtweet: 99.1%\n",
      "\n",
      "\"no offense but what kind of school doesn’t let students park in a lot that’s literally called the main lot\" was classified as positive:\n",
      "Sentiment Score: None\n",
      "Not a subtweet: 0.8%\n",
      "Subtweet: 99.2%\n",
      "\n",
      "\"when men get upset over women saying “when men speak”\" was classified as positive:\n",
      "Sentiment Score: None\n",
      "Not a subtweet: 0.7%\n",
      "Subtweet: 99.3%\n",
      "\n",
      "\"maybe girls don’t “go for nice guys” bc they’re too busy going for nice girls\" was classified as positive:\n",
      "Sentiment Score: None\n",
      "Not a subtweet: 0.4%\n",
      "Subtweet: 99.6%\n",
      "\n",
      "Total number of subtweets according to the classifier: 4\n"
     ]
    }
   ],
   "source": [
    "print_tests(zoe_df, text_column=\"Text\", sentiment_column=\"Sentiment\", threshold=0.99)"
   ]
  },
  {
   "cell_type": "code",
   "execution_count": 27,
   "metadata": {},
   "outputs": [],
   "source": [
    "noah_df = pd.read_csv(\"../data/friends_tweets/noahsegalgould_tweets.csv\").dropna()\n",
    "noah_df[\"Sentiment\"] = None"
   ]
  },
  {
   "cell_type": "code",
   "execution_count": 28,
   "metadata": {
    "scrolled": false
   },
   "outputs": [
    {
     "name": "stdout",
     "output_type": "stream",
     "text": [
      "Probabilities:\n",
      "\n",
      "\"Why did I wait until the end of my senior year of liberal arts college to develop a sense of self-worth? This isn’t a poll; I don’t actually want answers.\" was classified as positive:\n",
      "Sentiment Score: None\n",
      "Not a subtweet: 0.8%\n",
      "Subtweet: 99.2%\n",
      "\n",
      "\"In a target parking lot, I see him: he’s carrying a frozen Starbucks beverage that doesn’t appear to be coffee and his hood is missing a drawstring, so the wind keeps blowing it down. I don’t know his name, but I want to.\" was classified as positive:\n",
      "Sentiment Score: None\n",
      "Not a subtweet: 0.3%\n",
      "Subtweet: 99.7%\n",
      "\n",
      "\"As I go to buy peanut M&Ms, he blows me a kiss. “Watch Violet Evergarden,” I yell at him, but the elevator doors have shut and my words couldn’t reach him.\n",
      "#Addison #MissedConnections #craigslist\" was classified as positive:\n",
      "Sentiment Score: None\n",
      "Not a subtweet: 0.6%\n",
      "Subtweet: 99.4%\n",
      "\n",
      "\"I’m not joking you’re just taking this WORD too seriously\" was classified as positive:\n",
      "Sentiment Score: None\n",
      "Not a subtweet: 0.8%\n",
      "Subtweet: 99.2%\n",
      "\n",
      "\"Half my body is freezing and the other half is burning so either I’m still very sick or I’m a badass superhero anime character\" was classified as positive:\n",
      "Sentiment Score: None\n",
      "Not a subtweet: 1.0%\n",
      "Subtweet: 99.0%\n",
      "\n",
      "\"Don’t throw used cigarettes on the ground in front of me because I will immediately dislike you\" was classified as positive:\n",
      "Sentiment Score: None\n",
      "Not a subtweet: 0.8%\n",
      "Subtweet: 99.2%\n",
      "\n",
      "\"After almost four years of college it has just occurred to me that maybe I am not an idiot and maybe I am also not significantly dumber than everyone around me but instead I guess it’s possible that I’m just surrounded by smart people.\" was classified as positive:\n",
      "Sentiment Score: None\n",
      "Not a subtweet: 0.8%\n",
      "Subtweet: 99.2%\n",
      "\n",
      "\"Revising my sproj midway paper and realizing that I consistently capitalize tweet into Tweet throughout the entire thing and I can’t remember why\" was classified as positive:\n",
      "Sentiment Score: None\n",
      "Not a subtweet: 0.8%\n",
      "Subtweet: 99.2%\n",
      "\n",
      "\"It’s past my bedtime and all I can think about are chicken nuggets \n",
      "\n",
      "I’m a real person and not even a celebrity but this is actually how I feel\n",
      "\n",
      "Also here’s my soundcloud\" was classified as positive:\n",
      "Sentiment Score: None\n",
      "Not a subtweet: 0.5%\n",
      "Subtweet: 99.5%\n",
      "\n",
      "\"Unfortunately that’s the one I think is most realistic and I’m sure I’ve come close to experiencing unknowingly a dozen times\" was classified as positive:\n",
      "Sentiment Score: None\n",
      "Not a subtweet: 1.0%\n",
      "Subtweet: 99.0%\n",
      "\n",
      "\"I don’t fuck with the symmetrarians\" was classified as positive:\n",
      "Sentiment Score: None\n",
      "Not a subtweet: 0.2%\n",
      "Subtweet: 99.8%\n",
      "\n",
      "\"If your face is symmetrical I don’t like you\" was classified as positive:\n",
      "Sentiment Score: None\n",
      "Not a subtweet: 0.3%\n",
      "Subtweet: 99.7%\n",
      "\n",
      "\"Why don’t I date?\n",
      "I’m already married to my wife, Ethereum. We’re very happy together.\" was classified as positive:\n",
      "Sentiment Score: None\n",
      "Not a subtweet: 0.6%\n",
      "Subtweet: 99.4%\n",
      "\n",
      "\"I guess I think it’s foolish to rely on any website for being your source of personal fulfillment and especially as your only source for political change. The companies which own your speech aren’t going to let you dismantle them. And their goal isn’t ever going to be to help you\" was classified as positive:\n",
      "Sentiment Score: None\n",
      "Not a subtweet: 0.1%\n",
      "Subtweet: 99.9%\n",
      "\n",
      "\"I’ve been groobying my toodem for ages like the rest of you but I have a simple policy that says “always vote for dog” and it hasn’t failed me yet\" was classified as positive:\n",
      "Sentiment Score: None\n",
      "Not a subtweet: 0.7%\n",
      "Subtweet: 99.3%\n",
      "\n",
      "\"I haven’t even left for the break yet and I’m already bored and lonely goddamn I’m gonna watch some anime\" was classified as positive:\n",
      "Sentiment Score: None\n",
      "Not a subtweet: 0.6%\n",
      "Subtweet: 99.4%\n",
      "\n",
      "\"Don’t worry it’s gonna happen no matter what I choose to do\" was classified as positive:\n",
      "Sentiment Score: None\n",
      "Not a subtweet: 0.8%\n",
      "Subtweet: 99.2%\n",
      "\n",
      "\"I’m so stressed that I’m in bed trying to sleep and I can’t stop twitching\" was classified as positive:\n",
      "Sentiment Score: None\n",
      "Not a subtweet: 0.7%\n",
      "Subtweet: 99.3%\n",
      "\n",
      "\"I distracted myself by watching Land of the Lustrous tonight and it’s amazing how relatable agender gem people can be when I just want something to think about that isn’t Work\" was classified as positive:\n",
      "Sentiment Score: None\n",
      "Not a subtweet: 1.0%\n",
      "Subtweet: 99.0%\n",
      "\n",
      "\"Hire me but please don’t scroll down and look at my other tweets\" was classified as positive:\n",
      "Sentiment Score: None\n",
      "Not a subtweet: 0.9%\n",
      "Subtweet: 99.1%\n",
      "\n",
      "\"Catch me, projecting my frustrations toward myself onto fictional conversations I’ve never had with people who don’t talk to me\" was classified as positive:\n",
      "Sentiment Score: None\n",
      "Not a subtweet: 0.3%\n",
      "Subtweet: 99.7%\n",
      "\n",
      "\"Don’t talk to me or my misplaced sense of responsibility ever again\" was classified as positive:\n",
      "Sentiment Score: None\n",
      "Not a subtweet: 0.8%\n",
      "Subtweet: 99.2%\n",
      "\n",
      "\"I am going to bed with a challenge for you all: be nice to me and remind me that you’re not doing it because you pity me and that I shouldn’t feel guilty for letting you be nice to me.\n",
      "Yes, this may be difficult, but with years of work I’m sure you’ll all get it.\" was classified as positive:\n",
      "Sentiment Score: None\n",
      "Not a subtweet: 0.7%\n",
      "Subtweet: 99.3%\n",
      "\n",
      "\"My prof to me: “Not that long ago you wouldn’t be considered white.”\" was classified as positive:\n",
      "Sentiment Score: None\n",
      "Not a subtweet: 0.5%\n",
      "Subtweet: 99.5%\n",
      "\n",
      "\"Honestly I don’t remember \" was classified as positive:\n",
      "Sentiment Score: None\n",
      "Not a subtweet: 0.2%\n",
      "Subtweet: 99.8%\n",
      "\n",
      "\"Robbins shuttle stop.\n",
      "“This is the worst weekend I’ve had since middle school!”\n",
      "“Why?”\n",
      "“Nothing happened!”\" was classified as positive:\n",
      "Sentiment Score: None\n",
      "Not a subtweet: 0.4%\n",
      "Subtweet: 99.6%\n",
      "\n",
      "\"“Would you like fries with that?”\n",
      "“Paper or plastic?”\n",
      "“For here or to go?”\n",
      "“Flesh prison or boundless void?”\" was classified as positive:\n",
      "Sentiment Score: None\n",
      "Not a subtweet: 0.9%\n",
      "Subtweet: 99.1%\n",
      "\n",
      "\"New invention: Sad Siren.\n",
      "It’s a siren system you install in your friends’ rooms so you can get them up when they’re sad \" was classified as positive:\n",
      "Sentiment Score: None\n",
      "Not a subtweet: 0.4%\n",
      "Subtweet: 99.6%\n",
      "\n",
      "Total number of subtweets according to the classifier: 28\n"
     ]
    }
   ],
   "source": [
    "print_tests(noah_df, text_column=\"Text\", sentiment_column=\"Sentiment\", threshold=0.99)"
   ]
  }
 ],
 "metadata": {
  "kernelspec": {
   "display_name": "Python 3",
   "language": "python",
   "name": "python3"
  },
  "language_info": {
   "codemirror_mode": {
    "name": "ipython",
    "version": 3
   },
   "file_extension": ".py",
   "mimetype": "text/x-python",
   "name": "python",
   "nbconvert_exporter": "python",
   "pygments_lexer": "ipython3",
   "version": "3.6.4"
  }
 },
 "nbformat": 4,
 "nbformat_minor": 2
}
